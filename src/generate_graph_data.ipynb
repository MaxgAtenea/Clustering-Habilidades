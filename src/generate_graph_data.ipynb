{
 "cells": [
  {
   "cell_type": "code",
   "execution_count": 2,
   "id": "bccdcad5-adde-461c-b228-354428a45c2e",
   "metadata": {},
   "outputs": [
    {
     "name": "stdout",
     "output_type": "stream",
     "text": [
      "✅ nodes.csv and edges.csv created with weights.\n"
     ]
    }
   ],
   "source": [
    "import json\n",
    "import csv\n",
    "from collections import defaultdict\n",
    "\n",
    "# Load enriched knowledge data\n",
    "with open(\"../output/knowledge_skills_full.json\", \"r\", encoding=\"utf-8\") as f:\n",
    "    data = json.load(f)\n",
    "\n",
    "# 1️⃣ Build node list\n",
    "nodes = []\n",
    "for uri, info in data.items():\n",
    "    if \"error\" in info:\n",
    "        continue\n",
    "    nodes.append({\n",
    "        \"id\": uri,\n",
    "        \"title\": info.get(\"title\"),\n",
    "        \"preferredLabel_es\": info.get(\"preferredLabel_es\"),\n",
    "        \"preferredLabel_en\": info.get(\"preferredLabel_en\"),\n",
    "        \"description\": info.get(\"description\"),\n",
    "        \"level\": info.get(\"level\"),\n",
    "        \"parent_uri\": (info.get(\"parent\") or {}).get(\"uri\"),\n",
    "        \"fetchedAt\": info.get(\"fetchedAt\"),\n",
    "    })\n",
    "\n",
    "# 2️⃣ Map: occupation URI → set of knowledge skill URIs\n",
    "occ_to_know = defaultdict(set)\n",
    "for uri, info in data.items():\n",
    "    if \"error\" in info:\n",
    "        continue\n",
    "    for occ in info.get(\"occupations\", []):\n",
    "        occ_to_know[occ[\"uri\"]].add(uri)\n",
    "\n",
    "# 3️⃣ Build weighted edges: (K1, K2) → number of shared occupations\n",
    "edge_weights = defaultdict(int)\n",
    "\n",
    "for uri_set in occ_to_know.values():\n",
    "    uris = list(uri_set)\n",
    "    for i in range(len(uris)):\n",
    "        for j in range(i + 1, len(uris)):\n",
    "            source, target = sorted([uris[i], uris[j]])\n",
    "            edge_weights[(source, target)] += 1\n",
    "\n",
    "# 4️⃣ Write nodes.csv\n",
    "with open(\"../output/nodes.csv\", \"w\", newline=\"\", encoding=\"utf-8\") as f:\n",
    "    writer = csv.DictWriter(f, fieldnames=nodes[0].keys())\n",
    "    writer.writeheader()\n",
    "    writer.writerows(nodes)\n",
    "\n",
    "# 5️⃣ Write edges.csv\n",
    "with open(\"../output/edges.csv\", \"w\", newline=\"\", encoding=\"utf-8\") as f:\n",
    "    writer = csv.DictWriter(f, fieldnames=[\"source\", \"target\", \"weight\"])\n",
    "    writer.writeheader()\n",
    "    for (source, target), weight in edge_weights.items():\n",
    "        writer.writerow({\n",
    "            \"source\": source,\n",
    "            \"target\": target,\n",
    "            \"weight\": weight\n",
    "        })\n",
    "\n",
    "print(\"✅ nodes.csv and edges.csv created with weights.\")\n"
   ]
  }
 ],
 "metadata": {
  "kernelspec": {
   "display_name": "Python 3 (ipykernel)",
   "language": "python",
   "name": "python3"
  },
  "language_info": {
   "codemirror_mode": {
    "name": "ipython",
    "version": 3
   },
   "file_extension": ".py",
   "mimetype": "text/x-python",
   "name": "python",
   "nbconvert_exporter": "python",
   "pygments_lexer": "ipython3",
   "version": "3.10.12"
  }
 },
 "nbformat": 4,
 "nbformat_minor": 5
}
