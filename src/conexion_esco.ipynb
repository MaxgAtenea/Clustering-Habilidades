{
 "cells": [
  {
   "cell_type": "code",
   "execution_count": 1,
   "id": "1d66d20e-323f-4ea3-80da-6acb7e56b009",
   "metadata": {},
   "outputs": [],
   "source": [
    "import requests"
   ]
  },
  {
   "cell_type": "markdown",
   "id": "daf576ec-2efb-41da-9842-c4bfe3c80910",
   "metadata": {},
   "source": [
    "Atributos del nodo:\n",
    "\n",
    "1. Nombre (del conocimiento)\n",
    "2. Literal (descripción)\n",
    "3. Narrower concepts (conocimientos hijos)\n",
    "4. Broader concepts (conocimientos ancestros)\n",
    "5. Tipo de competencia (conocimiento, habilidad,...)\n",
    "6. Competencia optativa para la ocupación x\n",
    "7. Competencia esencial para la ocupación x\n",
    "8. Nivel del conocimiento\n",
    "9. Número de ocupaciones relacionadas al nodo\n",
    "10. peso? (pensar si definir un peso de la arista es necesario)\n"
   ]
  },
  {
   "cell_type": "markdown",
   "id": "ffba11b7-5d24-4a8e-8acb-3d59dbfcf205",
   "metadata": {},
   "source": [
    "----"
   ]
  },
  {
   "cell_type": "markdown",
   "id": "49676a5e-d7ba-4f12-b407-c92bbdfc0113",
   "metadata": {},
   "source": [
    "Pasos:\n",
    "\n",
    "1. Conectarse con la API de ESCO  **(Check)**\n",
    "2. Comprender cuales son las llaves de la respuesta **(Check)**\n",
    "3. Sacar un listado de todos los conocimientos con la API (mirar exceles) **(en proceso)**\n",
    "4. Definir las clases para hacer el procedimiento de extracción y almacenamiento.\n",
    "5. Crear el grafo."
   ]
  },
  {
   "cell_type": "markdown",
   "id": "473c5d72-22fb-4079-b19c-3c575eacead9",
   "metadata": {},
   "source": [
    "-----"
   ]
  },
  {
   "cell_type": "markdown",
   "id": "b41b8d39-cefb-4997-855a-1cd5164314ca",
   "metadata": {},
   "source": [
    "### Conectarse con la API"
   ]
  },
  {
   "cell_type": "code",
   "execution_count": 43,
   "id": "3bae2427-3ed5-4b0d-9f41-b4626568c42f",
   "metadata": {},
   "outputs": [],
   "source": [
    "import requests\n",
    "\n",
    "def get_esco_concept_data(uri: str, language: str = \"es\") -> dict:\n",
    "    \"\"\"\n",
    "    Consulta la ESCO API para un recurso de tipo 'skill' o 'concept',\n",
    "    y devuelve una versión filtrada con solo los datos esenciales.\n",
    "\n",
    "    Args:\n",
    "        uri (str): URI del recurso ESCO (por ejemplo, un skill o categoría).\n",
    "        language (str): Idioma preferido (por defecto \"es\").\n",
    "\n",
    "    Returns:\n",
    "        dict: Diccionario con los datos esenciales o un error.\n",
    "    \"\"\"\n",
    "\n",
    "    # Endpoint de ESCO (modifica a 'concept' si es necesario)\n",
    "    url = \"https://ec.europa.eu/esco/api/resource/skill\"\n",
    "\n",
    "    params = {\n",
    "        \"uri\": uri,\n",
    "        \"language\": language\n",
    "    }\n",
    "\n",
    "    headers = {\n",
    "        \"Accept\": \"application/json\"\n",
    "    }\n",
    "\n",
    "    response = requests.get(url, params=params, headers=headers)\n",
    "\n",
    "    if response.status_code == 200:\n",
    "        data = response.json()\n",
    "\n",
    "        # Claves de interés dentro de _links\n",
    "        link_keys = [\n",
    "            'hasSkillType', 'broaderConcept', 'broaderHierarchyConcept',\n",
    "            'narrowerSkill', 'narrowerConcept',\n",
    "            'isEssentialForOccupation', 'isOptionalForOccupation'\n",
    "        ]\n",
    "\n",
    "        # Extraer solo uri y title\n",
    "        filtered_links = {\n",
    "            key: [\n",
    "                {\n",
    "                    'uri': item.get('uri'),\n",
    "                    'title': item.get('title')\n",
    "                }\n",
    "                for item in data.get('_links', {}).get(key, [])\n",
    "            ]\n",
    "            for key in link_keys\n",
    "        }\n",
    "\n",
    "        # Extraer ancestors con uri y título\n",
    "        raw_ancestors = data.get('_embedded', {}).get('ancestors', [])\n",
    "        filtered_ancestors = [\n",
    "            {\n",
    "                'uri': item.get('_links', {}).get('self', {}).get('uri'),\n",
    "                'title': item.get('title')\n",
    "            }\n",
    "            for item in raw_ancestors\n",
    "        ]\n",
    "\n",
    "        # Compilar resultado esencial\n",
    "        result = {\n",
    "            \"className\": data.get(\"className\"),\n",
    "            \"uri\": data.get(\"uri\"),\n",
    "            \"title\": data.get(\"title\"),\n",
    "            \"preferredLabel\": data.get(\"preferredLabel\", {}).get(language),\n",
    "            \"description\": (\n",
    "                data.get(\"description\", {}).get(language, {}).get(\"literal\")\n",
    "                or data.get(\"description\", {}).get(\"en\", {}).get(\"literal\")\n",
    "            ),\n",
    "            \"_links\": filtered_links,\n",
    "            \"_embedded\": {\n",
    "                \"ancestors\": filtered_ancestors,\n",
    "                \"title\": data.get(\"_embedded\", {}).get(\"title\")\n",
    "            }\n",
    "        }\n",
    "\n",
    "        return result\n",
    "\n",
    "    else:\n",
    "        return {\n",
    "            \"error\": f\"Error {response.status_code}: {response.text}\",\n",
    "            \"uri\": uri\n",
    "        }\n"
   ]
  },
  {
   "cell_type": "code",
   "execution_count": 49,
   "id": "281fb725-5482-441e-b727-33fd7bb4d9a7",
   "metadata": {},
   "outputs": [
    {
     "name": "stdout",
     "output_type": "stream",
     "text": [
      "className: Skill\n",
      "\n",
      "uri: http://data.europa.eu/esco/skill/fed5b267-73fa-461d-9f69-827c78beb39d\n",
      "\n",
      "title: técnicas teatrales\n",
      "\n",
      "preferredLabel: técnicas teatrales\n",
      "\n",
      "description: Comprender las técnicas que facilitan la exitosa representación de una obra.\n",
      "\n",
      "_links: {'hasSkillType': [{'uri': 'http://data.europa.eu/esco/skill-type/knowledge', 'title': 'conocimiento'}], 'broaderConcept': [], 'broaderHierarchyConcept': [{'uri': 'http://data.europa.eu/esco/isced-f/0215', 'title': 'música y artes escénicas'}], 'narrowerSkill': [], 'narrowerConcept': [], 'isEssentialForOccupation': [{'uri': 'http://data.europa.eu/esco/occupation/00030d09-2b3a-4efd-87cc-c4ea39d27c34', 'title': 'director técnico/directora técnica'}, {'uri': 'http://data.europa.eu/esco/occupation/07b91f36-8272-493a-8e1c-5625e77efe68', 'title': 'bailarín/bailarina'}, {'uri': 'http://data.europa.eu/esco/occupation/949f1dc9-fb19-4212-8ac6-35ce83c88921', 'title': 'apuntador/apuntadora'}, {'uri': 'http://data.europa.eu/esco/occupation/00747307-6341-4266-a061-25416f7c6a96', 'title': 'profesor de teatro en escuela superior de artes escénicas/profesora de teatro en escuela superior de artes escénicas'}, {'uri': 'http://data.europa.eu/esco/occupation/cb93fd23-1f51-4495-867a-936c1967066b', 'title': 'director artístico/director artística'}], 'isOptionalForOccupation': [{'uri': 'http://data.europa.eu/esco/occupation/4efdf62f-a1d9-450e-aebc-2d6a6110f05d', 'title': 'artista comunitario/artista comunitaria'}, {'uri': 'http://data.europa.eu/esco/occupation/78ed3811-f421-45e5-9574-31364c76af67', 'title': 'profesor de danza en escuela superior de artes escénicas/profesora de danza en escuela superior de artes escénicas'}]}\n",
      "\n",
      "_embedded: {'ancestors': [{'uri': 'http://data.europa.eu/esco/skill/fed5b267-73fa-461d-9f69-827c78beb39d', 'title': 'técnicas teatrales'}, {'uri': 'http://data.europa.eu/esco/isced-f/0215', 'title': 'música y artes escénicas'}, {'uri': 'http://data.europa.eu/esco/isced-f/021', 'title': 'artes'}, {'uri': 'http://data.europa.eu/esco/isced-f/02', 'title': 'artes y humanidades'}, {'uri': 'http://data.europa.eu/esco/skill/K', 'title': 'conocimientos'}], 'title': None}\n",
      "\n"
     ]
    }
   ],
   "source": [
    "uri = \"http://data.europa.eu/esco/skill/fed5b267-73fa-461d-9f69-827c78beb39d\"\n",
    "concept_info = get_esco_concept_data(uri, language=\"es\")\n",
    "\n",
    "for key, value in concept_info.items():\n",
    "    print(f\"{key}: {value}\\n\")"
   ]
  },
  {
   "cell_type": "code",
   "execution_count": 2,
   "id": "64d61de1-0141-46c5-8de1-0f1b8ea934f9",
   "metadata": {},
   "outputs": [],
   "source": [
    "import requests\n",
    "\n",
    "def get_knowledge_skills(language=\"es\", limit=50, offset=0):\n",
    "    \"\"\"\n",
    "    Fetch ESCO concepts from the 'skills' scheme and filter by skill type 'knowledge'.\n",
    "\n",
    "    Returns:\n",
    "        dict: {uri: title} of knowledge skills\n",
    "    \"\"\"\n",
    "    url = \"https://ec.europa.eu/esco/api/resource/skill\"\n",
    "\n",
    "    params = {\n",
    "        \"isInScheme\": \"http://data.europa.eu/esco/concept-scheme/skills\",\n",
    "        \"isInSkillType\": \"http://data.europa.eu/esco/skill-type/knowledge\",\n",
    "        \"language\": language,\n",
    "        \"limit\": limit,\n",
    "        \"offset\": offset\n",
    "    }\n",
    "\n",
    "    headers = {\n",
    "        \"Accept\": \"application/json\"\n",
    "    }\n",
    "\n",
    "    response = requests.get(url, params=params, headers=headers)\n",
    "\n",
    "    if response.status_code != 200:\n",
    "        print(f\"Error {response.status_code}: {response.text}\")\n",
    "        return {}\n",
    "\n",
    "    response_data = response.json()\n",
    "    embedded = response_data.get('_embedded', {})\n",
    "    knowledge_concepts = {}\n",
    "\n",
    "    for concept_uri, concept_data in embedded.items():\n",
    "        if not isinstance(concept_data, dict):\n",
    "            continue\n",
    "\n",
    "        skill_types = concept_data.get('_links', {}).get('hasSkillType', [])\n",
    "\n",
    "        is_knowledge = any(\n",
    "            link.get('uri') == 'http://data.europa.eu/esco/skill-type/knowledge'\n",
    "            for link in skill_types\n",
    "        )\n",
    "\n",
    "        if is_knowledge:\n",
    "            title = concept_data.get(\"title\")\n",
    "            if title:\n",
    "                knowledge_concepts[concept_uri] = title\n",
    "\n",
    "    return knowledge_concepts\n"
   ]
  },
  {
   "cell_type": "code",
   "execution_count": 6,
   "id": "3ae150b2-fcec-492d-a3bb-dda2d110f414",
   "metadata": {},
   "outputs": [],
   "source": [
    "all_knowledge_skills = {}\n",
    "offset = 0\n",
    "limit = 50\n",
    "\n",
    "while True:\n",
    "    batch = get_knowledge_skills(limit=limit, offset=offset)\n",
    "    if not batch:\n",
    "        break\n",
    "    all_knowledge_skills.update(batch)\n",
    "    offset += limit"
   ]
  },
  {
   "cell_type": "code",
   "execution_count": 7,
   "id": "6fbcd89c-6acc-4ad6-affd-c26f188161f2",
   "metadata": {},
   "outputs": [
    {
     "data": {
      "text/plain": [
       "55"
      ]
     },
     "execution_count": 7,
     "metadata": {},
     "output_type": "execute_result"
    }
   ],
   "source": [
    "len(all_knowledge_skills)"
   ]
  },
  {
   "cell_type": "markdown",
   "id": "6cb22a29-9e0d-4272-83e0-dffb7aadd589",
   "metadata": {},
   "source": [
    "-----"
   ]
  },
  {
   "cell_type": "code",
   "execution_count": 8,
   "id": "0c39df2f-23f9-43cc-9af4-e6845bc2d8a2",
   "metadata": {},
   "outputs": [],
   "source": [
    "import json\n",
    "\n",
    "# After the while loop ends\n",
    "with open(\"knowledge_skills.json\", \"w\", encoding=\"utf-8\") as f:\n",
    "    json.dump(all_knowledge_skills, f, ensure_ascii=False, indent=2)"
   ]
  },
  {
   "cell_type": "code",
   "execution_count": 12,
   "id": "655e9cc1-8833-4f95-bec7-c951d7f44325",
   "metadata": {},
   "outputs": [],
   "source": [
    "import pandas as pd\n",
    "\n",
    "# Read the CSV with selected columns\n",
    "data = pd.read_csv(\"occupationSkillRelations_es.csv\", usecols=['skillUri', 'skillType'])\n",
    "\n",
    "# Filter rows where skillType is 'knowledge'\n",
    "knowledge_skills = data[data['skillType'] == 'knowledge'].drop_duplicates(subset=\"skillUri\").reset_index(drop=True)\n",
    "\n"
   ]
  },
  {
   "cell_type": "code",
   "execution_count": 15,
   "id": "dcc85e95-a0cb-4f45-98dd-deb06399b845",
   "metadata": {},
   "outputs": [
    {
     "data": {
      "text/plain": [
       "0       http://data.europa.eu/esco/skill/fed5b267-73fa...\n",
       "1       http://data.europa.eu/esco/skill/3b3b7373-220a...\n",
       "2       http://data.europa.eu/esco/skill/7f107a85-d6ac...\n",
       "3       http://data.europa.eu/esco/skill/86ed2a45-eae9...\n",
       "4       http://data.europa.eu/esco/skill/8d4271ca-c9fd...\n",
       "                              ...                        \n",
       "3142    http://data.europa.eu/esco/skill/6b4649e5-25a6...\n",
       "3143    http://data.europa.eu/esco/skill/b5936963-0d12...\n",
       "3144    http://data.europa.eu/esco/skill/3c1284d3-2602...\n",
       "3145    http://data.europa.eu/esco/skill/2fd40b98-4b70...\n",
       "3146    http://data.europa.eu/esco/skill/c3bb5700-a94d...\n",
       "Name: skillUri, Length: 3147, dtype: object"
      ]
     },
     "execution_count": 15,
     "metadata": {},
     "output_type": "execute_result"
    }
   ],
   "source": [
    "knowledge_skills['skillUri']"
   ]
  },
  {
   "cell_type": "code",
   "execution_count": null,
   "id": "d7c4884c-ee75-4933-abd0-3113862a60e7",
   "metadata": {},
   "outputs": [],
   "source": []
  }
 ],
 "metadata": {
  "kernelspec": {
   "display_name": "Python 3 (ipykernel)",
   "language": "python",
   "name": "python3"
  },
  "language_info": {
   "codemirror_mode": {
    "name": "ipython",
    "version": 3
   },
   "file_extension": ".py",
   "mimetype": "text/x-python",
   "name": "python",
   "nbconvert_exporter": "python",
   "pygments_lexer": "ipython3",
   "version": "3.12.10"
  }
 },
 "nbformat": 4,
 "nbformat_minor": 5
}
