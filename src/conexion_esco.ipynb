{
 "cells": [
  {
   "cell_type": "code",
   "execution_count": 46,
   "id": "1d66d20e-323f-4ea3-80da-6acb7e56b009",
   "metadata": {},
   "outputs": [],
   "source": [
    "import requests"
   ]
  },
  {
   "cell_type": "code",
   "execution_count": 47,
   "id": "3e0f9492-5c90-4a20-b140-086c43b9e935",
   "metadata": {},
   "outputs": [],
   "source": [
    "# Target ESCO concept URI — for example: ICT field in ISCED-F\n",
    "uri = \"http://data.europa.eu/esco/isced-f/054\"\n",
    "language = \"es\"\n",
    "\n",
    "# ESCO API endpoint for SKOS concept resources\n",
    "url = \"https://ec.europa.eu/esco/api/resource/concept\"\n",
    "\n",
    "# Query parameters for the GET request\n",
    "params = {\n",
    "    \"uri\": uri,\n",
    "    \"language\": language\n",
    "}\n",
    "\n",
    "# Headers to request JSON data\n",
    "headers = {\n",
    "    \"Accept\": \"application/json\"\n",
    "}\n",
    "\n",
    "# Send GET request to the ESCO API\n",
    "response = requests.get(url, params=params, headers=headers)\n",
    "\n",
    "# Check for a successful response\n",
    "if response.status_code == 200:\n",
    "    data = response.json()\n",
    "    \n",
    "    narrower_concepts = data.get(\"narrowerConcept\", {}).get(\"resourceList\", [])\n",
    "\n"
   ]
  },
  {
   "cell_type": "code",
   "execution_count": null,
   "id": "5e45fb64-82c8-44dd-a82b-f2551caff1a1",
   "metadata": {},
   "outputs": [],
   "source": [
    "# Target ESCO concept URI — for example: ICT field in ISCED-F\n",
    "uri = \"http://data.europa.eu/esco/isced-f/054\"\n",
    "language = \"es\"\n",
    "\n",
    "# ESCO API endpoint for SKOS concept resources\n",
    "url = \"https://ec.europa.eu/esco/api/resource/skill\"\n",
    "\n",
    "\n",
    "# Query parameters for the GET request\n",
    "params = {\n",
    "    \"uri\": uri,\n",
    "    \"language\": language\n",
    "}\n",
    "\n",
    "# Headers to request JSON data\n",
    "headers = {\n",
    "    \"Accept\": \"application/json\"\n",
    "}\n",
    "\n",
    "# Send GET request to the ESCO API\n",
    "response = requests.get(url, params=params, headers=headers)\n",
    "\n",
    "# Check for a successful response\n",
    "if response.status_code == 200:\n",
    "    data = response.json()\n",
    "    \n",
    "    narrower_concepts = data.get(\"narrowerConcept\", {}).get(\"resourceList\", [])"
   ]
  },
  {
   "cell_type": "code",
   "execution_count": 48,
   "id": "032ad258-fee7-4173-ac53-73ce167b42cf",
   "metadata": {},
   "outputs": [
    {
     "data": {
      "text/plain": [
       "{'timestamp': '2025-07-01 22:26:19',\n",
       " 'status': 404,\n",
       " 'error': 'Not Found',\n",
       " 'message': '',\n",
       " 'path': '/esco/api/resource/concept/skill'}"
      ]
     },
     "execution_count": 48,
     "metadata": {},
     "output_type": "execute_result"
    }
   ],
   "source": [
    "response.json()"
   ]
  },
  {
   "cell_type": "code",
   "execution_count": 35,
   "id": "769d9a69-24de-48a6-8236-c6ee66cfe690",
   "metadata": {},
   "outputs": [],
   "source": [
    "# Check for a successful response\n",
    "if response.status_code == 200:\n",
    "    data = response.json()\n",
    "    \n",
    "    narrower_concepts = data.get(\"_links\").get(\"narrowerConcept\")\n",
    "    "
   ]
  },
  {
   "cell_type": "code",
   "execution_count": 42,
   "id": "dc43ecfd-7860-4506-b430-870d9d705ab9",
   "metadata": {},
   "outputs": [
    {
     "data": {
      "text/plain": [
       "[{'href': 'https://ec.europa.eu/esco/api/resource/concept?uri=http://data.europa.eu/esco/isced-f/0540&language=en',\n",
       "  'uri': 'http://data.europa.eu/esco/isced-f/0540',\n",
       "  'title': 'mathematics and statistics not further defined'},\n",
       " {'href': 'https://ec.europa.eu/esco/api/resource/concept?uri=http://data.europa.eu/esco/isced-f/0542&language=en',\n",
       "  'uri': 'http://data.europa.eu/esco/isced-f/0542',\n",
       "  'title': 'statistics'},\n",
       " {'href': 'https://ec.europa.eu/esco/api/resource/concept?uri=http://data.europa.eu/esco/isced-f/0541&language=en',\n",
       "  'uri': 'http://data.europa.eu/esco/isced-f/0541',\n",
       "  'title': 'mathematics'}]"
      ]
     },
     "execution_count": 42,
     "metadata": {},
     "output_type": "execute_result"
    }
   ],
   "source": [
    "data.get(\"_links\").get(\"narrowerConcept\")"
   ]
  },
  {
   "cell_type": "code",
   "execution_count": 43,
   "id": "570c0a46-0b3c-4353-8518-fa60b01b5099",
   "metadata": {},
   "outputs": [
    {
     "data": {
      "text/plain": [
       "{'className': 'Concept',\n",
       " 'classId': 'http://www.w3.org/2004/02/skos/core#Concept',\n",
       " 'uri': 'http://data.europa.eu/esco/isced-f/054',\n",
       " 'title': 'mathematics and statistics',\n",
       " 'preferredLabel': {'no': 'matematikk og statistikk',\n",
       "  'de': 'Mathematik und Statistik',\n",
       "  'fi': 'matematiikka ja tilastotiede',\n",
       "  'pt': 'matemática e estatística',\n",
       "  'bg': 'математика и статистика',\n",
       "  'lt': 'matematika ir statistika',\n",
       "  'lv': 'matemātika un statistika',\n",
       "  'hr': 'matematika i statistika',\n",
       "  'fr': 'mathématiques et statistiques',\n",
       "  'hu': 'matematika és statisztika',\n",
       "  'sk': 'matematika a štatistika',\n",
       "  'sl': 'matematika in statistika',\n",
       "  'ga': 'matamaitic agus staidreamh',\n",
       "  'sv': 'matematik och statistik',\n",
       "  'mt': 'il-matematika u l-istatistika',\n",
       "  'el': 'μαθηματικά και στατιστική',\n",
       "  'en': 'mathematics and statistics',\n",
       "  'is': 'stærðfræði og tölfræði',\n",
       "  'it': 'matematica e statistica',\n",
       "  'es': 'matemáticas y estadística',\n",
       "  'et': 'matemaatika ja statistika',\n",
       "  'cs': 'matematika a statistika',\n",
       "  'pl': 'matematyka i statystyka',\n",
       "  'ro': 'matematică și statistică',\n",
       "  'da': 'matematik og statistik',\n",
       "  'nl': 'wiskunde en statistiek'},\n",
       " '_links': {'self': {'href': 'https://ec.europa.eu/esco/api/resource/concept?uri=http://data.europa.eu/esco/isced-f/054&language=en',\n",
       "   'uri': 'http://data.europa.eu/esco/isced-f/054',\n",
       "   'title': 'mathematics and statistics'},\n",
       "  'isInScheme': [{'href': 'https://ec.europa.eu/esco/api/resource/taxonomy?uri=http://data.europa.eu/esco/concept-scheme/skills-hierarchy&language=en',\n",
       "    'uri': 'http://data.europa.eu/esco/concept-scheme/skills-hierarchy',\n",
       "    'title': 'ESCO skills hierarchy'},\n",
       "   {'href': 'https://ec.europa.eu/esco/api/resource/taxonomy?uri=http://data.europa.eu/esco/concept-scheme/isced-f&language=en',\n",
       "    'uri': 'http://data.europa.eu/esco/concept-scheme/isced-f',\n",
       "    'title': 'International standard classification of education: fields of education and training 2013'},\n",
       "   {'href': 'https://ec.europa.eu/esco/api/resource/taxonomy?uri=http://data.europa.eu/esco/concept-scheme/skills&language=en',\n",
       "    'uri': 'http://data.europa.eu/esco/concept-scheme/skills',\n",
       "    'title': 'ESCO skills'}],\n",
       "  'broaderConcept': [{'href': 'https://ec.europa.eu/esco/api/resource/concept?uri=http://data.europa.eu/esco/isced-f/05&language=en',\n",
       "    'uri': 'http://data.europa.eu/esco/isced-f/05',\n",
       "    'title': 'natural sciences, mathematics and statistics'}],\n",
       "  'narrowerConcept': [{'href': 'https://ec.europa.eu/esco/api/resource/concept?uri=http://data.europa.eu/esco/isced-f/0540&language=en',\n",
       "    'uri': 'http://data.europa.eu/esco/isced-f/0540',\n",
       "    'title': 'mathematics and statistics not further defined'},\n",
       "   {'href': 'https://ec.europa.eu/esco/api/resource/concept?uri=http://data.europa.eu/esco/isced-f/0542&language=en',\n",
       "    'uri': 'http://data.europa.eu/esco/isced-f/0542',\n",
       "    'title': 'statistics'},\n",
       "   {'href': 'https://ec.europa.eu/esco/api/resource/concept?uri=http://data.europa.eu/esco/isced-f/0541&language=en',\n",
       "    'uri': 'http://data.europa.eu/esco/isced-f/0541',\n",
       "    'title': 'mathematics'}]},\n",
       " '_embedded': {}}"
      ]
     },
     "execution_count": 43,
     "metadata": {},
     "output_type": "execute_result"
    }
   ],
   "source": [
    "data"
   ]
  },
  {
   "cell_type": "code",
   "execution_count": null,
   "id": "3bae2427-3ed5-4b0d-9f41-b4626568c42f",
   "metadata": {},
   "outputs": [],
   "source": []
  }
 ],
 "metadata": {
  "kernelspec": {
   "display_name": "Python 3 (ipykernel)",
   "language": "python",
   "name": "python3"
  },
  "language_info": {
   "codemirror_mode": {
    "name": "ipython",
    "version": 3
   },
   "file_extension": ".py",
   "mimetype": "text/x-python",
   "name": "python",
   "nbconvert_exporter": "python",
   "pygments_lexer": "ipython3",
   "version": "3.12.10"
  }
 },
 "nbformat": 4,
 "nbformat_minor": 5
}
