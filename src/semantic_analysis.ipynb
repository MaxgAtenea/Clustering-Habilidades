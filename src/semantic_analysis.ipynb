{
 "cells": [
  {
   "cell_type": "code",
   "execution_count": 19,
   "id": "2ae484fa",
   "metadata": {},
   "outputs": [],
   "source": [
    "from sentence_transformers import SentenceTransformer\n",
    "from scipy.cluster.hierarchy import linkage, dendrogram, fcluster\n",
    "import matplotlib.pyplot as plt\n",
    "import numpy as np\n",
    "import pandas as pd\n",
    "import ast\n",
    "import plotly\n",
    "\n",
    "import json\n",
    "\n",
    "from dotenv import load_dotenv\n",
    "import os\n",
    "import requests"
   ]
  },
  {
   "cell_type": "markdown",
   "id": "f50ba5e4",
   "metadata": {},
   "source": [
    "## Variables de entorno"
   ]
  },
  {
   "cell_type": "code",
   "execution_count": 3,
   "id": "9831759d",
   "metadata": {},
   "outputs": [],
   "source": [
    "# Cargar variables de entorno\n",
    "load_dotenv()\n",
    "\n",
    "# Leer la API Key\n",
    "api_key = os.getenv(\"GROQ_API_KEY\")\n"
   ]
  },
  {
   "cell_type": "markdown",
   "id": "39a890b4",
   "metadata": {},
   "source": [
    "## Funciones"
   ]
  },
  {
   "cell_type": "code",
   "execution_count": 4,
   "id": "9808f312",
   "metadata": {},
   "outputs": [],
   "source": [
    "def safe_parse_conocimientos(value):\n",
    "    '''\n",
    "    Cambia de formato las entradas de la forma\n",
    "    \"'palabra_1','palabra_2',..., 'palabra_n'\"\n",
    "    a\n",
    "    ['palabra_1','palabra_2,...,'palabra_n']\n",
    "    '''\n",
    "    try:\n",
    "        # Si no está entre corchetes, lo envolvemos\n",
    "        if not value.strip().startswith(\"[\"):\n",
    "            value = f\"[{value}]\"\n",
    "        return ast.literal_eval(value)\n",
    "    except Exception:\n",
    "        return [str(value)]  # Si no se puede evaluar, lo devolvemos como lista con un solo string"
   ]
  },
  {
   "cell_type": "code",
   "execution_count": 6,
   "id": "7d55211f",
   "metadata": {},
   "outputs": [],
   "source": [
    "def get_cluster_cardinality(linked_matrix, num_clusters):\n",
    "    \"\"\"\n",
    "    Given a linkage matrix and the desired number of clusters, \n",
    "    this function returns the cardinality (sizes) of each cluster.\n",
    "    \n",
    "    Parameters:\n",
    "    linked_matrix (ndarray): The linkage matrix from hierarchical clustering.\n",
    "    num_clusters (int): The number of clusters to form.\n",
    "\n",
    "    Returns:\n",
    "    unique_clusters (ndarray): Unique cluster labels.\n",
    "    cluster_counts (ndarray): Cardinality of each cluster (number of points in each cluster).\n",
    "    \"\"\"\n",
    "    # Use fcluster to get cluster labels (1, 2, ..., num_clusters)\n",
    "    cluster_labels = fcluster(linked_matrix, num_clusters, criterion='maxclust')\n",
    "\n",
    "    # Get the unique cluster labels and their cardinality (size)\n",
    "    unique_clusters, cluster_counts = np.unique(cluster_labels, return_counts=True)\n",
    "    \n",
    "    return unique_clusters, cluster_counts"
   ]
  },
  {
   "cell_type": "markdown",
   "id": "884b2ecf-c8c1-4b5f-a023-c12d565c9600",
   "metadata": {},
   "source": [
    "**TO DO:**\n",
    "1. Definir cual valor para el parámetro \"criterion\" de la función **fcluster**: https://docs.scipy.org/doc/scipy/reference/generated/scipy.cluster.hierarchy.fcluster.html\n",
    "2. Identificar cual es la mejor linkage function: https://docs.scipy.org/doc/scipy/reference/generated/scipy.cluster.hierarchy.linkage.html\n",
    "3. Identificar las métricas para evaluar el ejercicio"
   ]
  },
  {
   "cell_type": "markdown",
   "id": "9a7ad885",
   "metadata": {},
   "source": [
    "## Lectura datos"
   ]
  },
  {
   "cell_type": "code",
   "execution_count": 7,
   "id": "58d11811",
   "metadata": {},
   "outputs": [
    {
     "data": {
      "text/plain": [
       "(3087, 26)"
      ]
     },
     "execution_count": 7,
     "metadata": {},
     "output_type": "execute_result"
    }
   ],
   "source": [
    "conoc_df=pd.read_excel(\"../data/conoc_tej.xlsx\",index_col=False)\n",
    "conoc_df=conoc_df.replace('NA',np.nan)\n",
    "conoc_df.shape"
   ]
  },
  {
   "cell_type": "code",
   "execution_count": 8,
   "id": "fa7602a5",
   "metadata": {},
   "outputs": [
    {
     "data": {
      "text/plain": [
       "\"'mantenimiento de maquinaria industrial', 'manejo de bombas de vacío', 'equipos de soldadura', 'mecánica hidráulica'\""
      ]
     },
     "execution_count": 8,
     "metadata": {},
     "output_type": "execute_result"
    }
   ],
   "source": [
    "#Conocimientos de la vacante\n",
    "conoc_df['conocimientos'][0]"
   ]
  },
  {
   "cell_type": "markdown",
   "id": "4ec1cf4a",
   "metadata": {},
   "source": [
    "## Clusterizarion semántica"
   ]
  },
  {
   "cell_type": "markdown",
   "id": "7bcce8c6-1639-4a42-8083-67914e51ad4f",
   "metadata": {},
   "source": [
    "**Pipeline:**\n",
    "1. Ajustar corpus\n",
    "2. Instanciar embedding\n",
    "3. Computar el hierarchical clustering:\n",
    "    >linkage functions\n",
    "    >- average\n",
    "    >-  single\n",
    "    >- ward\n",
    "    \n",
    "    >Clusters in dendogram: 30 -> 10\n"
   ]
  },
  {
   "cell_type": "code",
   "execution_count": 9,
   "id": "53893030",
   "metadata": {},
   "outputs": [
    {
     "name": "stdout",
     "output_type": "stream",
     "text": [
      "Numero de documentos en el corpus: 16508\n"
     ]
    }
   ],
   "source": [
    "#1. Define the corpus\n",
    "corpus = conoc_df['conocimientos'].apply(safe_parse_conocimientos).sum()\n",
    "print(f\"Numero de documentos en el corpus: {len(corpus)}\")"
   ]
  },
  {
   "cell_type": "code",
   "execution_count": 10,
   "id": "7348640f",
   "metadata": {},
   "outputs": [
    {
     "name": "stdout",
     "output_type": "stream",
     "text": [
      "(16508, 384)\n"
     ]
    }
   ],
   "source": [
    "# 2. Embed skills\n",
    "model = SentenceTransformer('all-MiniLM-L6-v2')\n",
    "skill_embeddings = model.encode(corpus)\n",
    "\n",
    "print(skill_embeddings.shape)"
   ]
  },
  {
   "cell_type": "code",
   "execution_count": 11,
   "id": "4958ba82",
   "metadata": {},
   "outputs": [],
   "source": [
    "# 3.1 Compute hierarchical clustering\n",
    "#using avg metric\n",
    "linked_avg = linkage(skill_embeddings, method='average')  # average distance between points\n",
    "unique_clusters_avg, cluster_counts_avg = get_cluster_cardinality(linked_avg, 30)"
   ]
  },
  {
   "cell_type": "code",
   "execution_count": 12,
   "id": "2959fc4f",
   "metadata": {},
   "outputs": [],
   "source": [
    "# 3.2 Compute hierarchical clustering\n",
    "#using single metric\n",
    "linked_single = linkage(skill_embeddings, method='single')  # nearest point\n",
    "unique_clusters_single, cluster_counts_single = get_cluster_cardinality(linked_single, 30)"
   ]
  },
  {
   "cell_type": "code",
   "execution_count": 13,
   "id": "a9fa8184",
   "metadata": {},
   "outputs": [],
   "source": [
    "# 3.3 Compute hierarchical clustering\n",
    "#using ward metric\n",
    "linked_ward = linkage(skill_embeddings, method='ward')  # \"ward\" tries to minimize variance\n",
    "unique_clusters_ward, cluster_counts_ward = get_cluster_cardinality(linked_ward, 30)\n"
   ]
  },
  {
   "cell_type": "code",
   "execution_count": 15,
   "id": "1aeb7a3a",
   "metadata": {},
   "outputs": [
    {
     "name": "stdout",
     "output_type": "stream",
     "text": [
      "Number of clusters - Avg Metric: 30\n",
      "Cardinality: [    1     1     4     8     6     3     3    40    14     1    35   112\n",
      "    37     3    20     6    90   390     7     5    30   710    50     7\n",
      "   316   185   118 14290     2    14]\n",
      "\n",
      "Number of clusters - Single Metric: 30\n",
      "Cardinality: [    4     2     2     2     2     8     2     2     3     2     2    10\n",
      "     2     4     2 16445     1     1     1     1     1     1     1     1\n",
      "     1     1     1     1     1     1]\n",
      "\n",
      "Number of clusters - Ward Metric: 30\n",
      "Cardinality: [ 250  575  331  235  158 1031  140 1046  163  140  192  447  324  295\n",
      "  270  458  485 2311 1583 1601   70  154  254 2681   83  253  142  249\n",
      "  320  267]\n"
     ]
    }
   ],
   "source": [
    "# Print the results\n",
    "print(\"Number of clusters - Avg Metric:\", len(unique_clusters_avg))\n",
    "print(\"Cardinality:\", cluster_counts_avg)\n",
    "print(\"\")\n",
    "\n",
    "print(\"Number of clusters - Single Metric:\", len(unique_clusters_single))\n",
    "print(\"Cardinality:\", cluster_counts_single)\n",
    "print(\"\")\n",
    "\n",
    "print(\"Number of clusters - Ward Metric:\", len(unique_clusters_ward))\n",
    "print(\"Cardinality:\", cluster_counts_ward)"
   ]
  },
  {
   "cell_type": "code",
   "execution_count": 16,
   "id": "f706f8b2",
   "metadata": {},
   "outputs": [],
   "source": [
    "# 5. Cut the dendrogram into \"k\" clusters\n",
    "num_clusters = 10\n",
    "cluster_labels = fcluster(linked_ward, num_clusters, criterion='maxclust')"
   ]
  },
  {
   "cell_type": "code",
   "execution_count": 17,
   "id": "71b75177",
   "metadata": {},
   "outputs": [
    {
     "name": "stdout",
     "output_type": "stream",
     "text": [
      "Skill: mantenimiento de maquinaria industrial, Cluster: 7\n",
      "Skill: manejo de bombas de vacío, Cluster: 7\n",
      "Skill: equipos de soldadura, Cluster: 7\n",
      "Skill: mecánica hidráulica, Cluster: 7\n",
      "Skill: Control integrado de plagas, Cluster: 6\n",
      "Skill: Control de roedores, Cluster: 6\n",
      "Skill: Desinsectación, Cluster: 7\n",
      "Skill: Lavado y desinfección de tanques, Cluster: 7\n",
      "Skill: Curso de trabajo en alturas, Cluster: 5\n",
      "Skill: Licencias A2 y C1, Cluster: 7\n"
     ]
    }
   ],
   "source": [
    "# 6. Print results\n",
    "n=1\n",
    "for skill, cluster_id in zip(corpus, cluster_labels):\n",
    "    if n<=10:\n",
    "        print(f\"Skill: {skill}, Cluster: {cluster_id}\")\n",
    "        n+=1\n",
    "    else: \n",
    "        break"
   ]
  },
  {
   "cell_type": "code",
   "execution_count": 18,
   "id": "58f1db6b",
   "metadata": {},
   "outputs": [
    {
     "name": "stdout",
     "output_type": "stream",
     "text": [
      "Cluster 7: ['mantenimiento de maquinaria industrial', 'manejo de bombas de vacío', 'equipos de soldadura', 'mecánica hidráulica', 'Desinsectación', 'Lavado y desinfección de tanques', 'Licencias A2 y C1', 'Inglés', 'Gestora y consultora asesora', 'NO_APLICA', 'Mercado de energía colombiano', 'Cobro de cartera', 'Manejo de tecnicos', 'Medida directa y semidirecta', 'Construcción', 'Manejo de correspondencia', 'Regulaciones gubernamentales', 'Herramienta SAP', 'Planeación de compras y contratación', 'Herramienta SAP', 'NO_APLICA', 'NO_APLICA', 'Equipos de calentamiento', 'Sistema de aire a presión', 'Consumo de agua', 'Huella de carbono', 'Mejora continua', 'Limpieza y lubricación de máquinas y equipos', 'Mantenimientos preventivos de maquinaria', 'Lavados de techos de casetas']\n"
     ]
    }
   ],
   "source": [
    "#Ver una muestra de las habilidades en un cluster \n",
    "from collections import defaultdict\n",
    "\n",
    "cluster_skills = defaultdict(list)\n",
    "for skill, cluster_id in zip(corpus, cluster_labels):\n",
    "    cluster_skills[cluster_id].append(skill)\n",
    "\n",
    "for cluster_id, cluster_list in cluster_skills.items():\n",
    "    #truncar el print\n",
    "    print(f\"Cluster {cluster_id}: {cluster_list[0:30]}\")\n",
    "    break"
   ]
  },
  {
   "cell_type": "code",
   "execution_count": 21,
   "id": "885e6d27-eab8-4a94-bdb2-4e25bf960635",
   "metadata": {},
   "outputs": [],
   "source": [
    "# Convert keys to int\n",
    "cluster_skills_serializable = {int(k): v for k, v in cluster_skills.items()}\n",
    "#guardar el resultado de la clusterizacion\n",
    "with open('../output/cluster_skills.json', 'w') as f:\n",
    "    json.dump(dict(cluster_skills_serializable), f)"
   ]
  },
  {
   "cell_type": "markdown",
   "id": "ae9fd730",
   "metadata": {},
   "source": [
    "## Etiquetar el cluster con un LLM"
   ]
  },
  {
   "cell_type": "code",
   "execution_count": 38,
   "id": "3856e06a",
   "metadata": {},
   "outputs": [
    {
     "name": "stdout",
     "output_type": "stream",
     "text": [
      "Error 429: {\"error\":{\"message\":\"Rate limit reached for model `llama3-8b-8192` in organization `org_01jsskhw9de0ba48xr8d0ekbds` service tier `on_demand` on tokens per minute (TPM): Limit 6000, Used 2144, Requested 4225. Please try again in 3.685s. Need more tokens? Upgrade to Dev Tier today at https://console.groq.com/settings/billing\",\"type\":\"tokens\",\"code\":\"rate_limit_exceeded\"}}\n",
      "\n"
     ]
    }
   ],
   "source": [
    "#Por el momento se etiqueta un cluster a partir de 500 elementos del cluster (numero arbitrario para que la api no entre en timeout)\n",
    "\n",
    "headers = {\n",
    "    \"Authorization\": f\"Bearer {api_key}\",\n",
    "    \"Content-Type\": \"application/json\"\n",
    "}\n",
    "\n",
    "#E.g Primer cluster\n",
    "skills_list = cluster_skills[2][:500]\n",
    "\n",
    "# Spanish prompt\n",
    "prompt = f\"Dado el siguiente listado de habilidades/conocimientos laborales: {', '.join(skills_list)}, retorna nombres de max 10 palabras que resuma las habilidades\"\n",
    "\n",
    "payload = {\n",
    "    \"model\": \"llama3-8b-8192\",  # Or \"llama3-70b-8192\"\n",
    "    \"messages\": [\n",
    "        {\"role\": \"user\", \"content\": prompt}\n",
    "    ],\n",
    "    \"temperature\": 0.3\n",
    "}\n",
    "\n",
    "response = requests.post(\"https://api.groq.com/openai/v1/chat/completions\", json=payload, headers=headers)\n",
    "\n",
    "# Verificamos si todo salió bien\n",
    "if response.status_code == 200:\n",
    "    data = response.json()\n",
    "    print(data[\"choices\"][0][\"message\"][\"content\"])\n",
    "else:\n",
    "    print(f\"Error {response.status_code}: {response.text}\")"
   ]
  }
 ],
 "metadata": {
  "kernelspec": {
   "display_name": "Python 3 (ipykernel)",
   "language": "python",
   "name": "python3"
  },
  "language_info": {
   "codemirror_mode": {
    "name": "ipython",
    "version": 3
   },
   "file_extension": ".py",
   "mimetype": "text/x-python",
   "name": "python",
   "nbconvert_exporter": "python",
   "pygments_lexer": "ipython3",
   "version": "3.10.12"
  }
 },
 "nbformat": 4,
 "nbformat_minor": 5
}
