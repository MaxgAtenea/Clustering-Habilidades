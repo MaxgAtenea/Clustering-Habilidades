{
 "cells": [
  {
   "cell_type": "code",
   "execution_count": null,
   "id": "2ae484fa",
   "metadata": {},
   "outputs": [],
   "source": [
    "from sentence_transformers import SentenceTransformer\n",
    "from scipy.cluster.hierarchy import linkage, dendrogram, fcluster\n",
    "import matplotlib.pyplot as plt\n",
    "import numpy as np\n",
    "import pandas as pd\n",
    "import ast\n",
    "import plotly\n",
    "\n",
    "from dotenv import load_dotenv\n",
    "import os\n",
    "import requests"
   ]
  },
  {
   "cell_type": "markdown",
   "id": "f50ba5e4",
   "metadata": {},
   "source": [
    "## Variables de entorno"
   ]
  },
  {
   "cell_type": "code",
   "execution_count": 49,
   "id": "9831759d",
   "metadata": {},
   "outputs": [],
   "source": [
    "# Cargar variables de entorno\n",
    "load_dotenv()\n",
    "\n",
    "# Leer la API Key\n",
    "api_key = os.getenv(\"GROQ_API_KEY\")\n"
   ]
  },
  {
   "cell_type": "markdown",
   "id": "39a890b4",
   "metadata": {},
   "source": [
    "## Funciones"
   ]
  },
  {
   "cell_type": "code",
   "execution_count": 7,
   "id": "9808f312",
   "metadata": {},
   "outputs": [],
   "source": [
    "def safe_parse_conocimientos(value):\n",
    "    '''\n",
    "    Cambia de formato las entradas de la forma\n",
    "    \"'palabra_1','palabra_2',..., 'palabra_n'\"\n",
    "    a\n",
    "    ['palabra_1','palabra_2,...,'palabra_n']\n",
    "    '''\n",
    "    try:\n",
    "        # Si no está entre corchetes, lo envolvemos\n",
    "        if not value.strip().startswith(\"[\"):\n",
    "            value = f\"[{value}]\"\n",
    "        return ast.literal_eval(value)\n",
    "    except Exception:\n",
    "        return [str(value)]  # Si no se puede evaluar, lo devolvemos como lista con un solo string"
   ]
  },
  {
   "cell_type": "markdown",
   "id": "9a7ad885",
   "metadata": {},
   "source": [
    "## Lectura datos"
   ]
  },
  {
   "cell_type": "code",
   "execution_count": 8,
   "id": "58d11811",
   "metadata": {},
   "outputs": [
    {
     "data": {
      "text/plain": [
       "(3087, 26)"
      ]
     },
     "execution_count": 8,
     "metadata": {},
     "output_type": "execute_result"
    }
   ],
   "source": [
    "conoc_df=pd.read_excel(\"../data/conoc_tej.xlsx\",index_col=False).copy()\n",
    "conoc_df=conoc_df.replace('NA',np.nan)\n",
    "conoc_df.shape"
   ]
  },
  {
   "cell_type": "code",
   "execution_count": 9,
   "id": "fa7602a5",
   "metadata": {},
   "outputs": [
    {
     "data": {
      "text/plain": [
       "\"'mantenimiento de maquinaria industrial', 'manejo de bombas de vacío', 'equipos de soldadura', 'mecánica hidráulica'\""
      ]
     },
     "execution_count": 9,
     "metadata": {},
     "output_type": "execute_result"
    }
   ],
   "source": [
    "#Conocimientos de la vacante\n",
    "conoc_df['conocimientos'][0]"
   ]
  },
  {
   "cell_type": "markdown",
   "id": "4ec1cf4a",
   "metadata": {},
   "source": [
    "## Clusterizarion semántica"
   ]
  },
  {
   "cell_type": "code",
   "execution_count": 11,
   "id": "53893030",
   "metadata": {},
   "outputs": [],
   "source": [
    "#1. Define the corpus\n",
    "corpus = conoc_df['conocimientos'].apply(safe_parse_conocimientos).sum()"
   ]
  },
  {
   "cell_type": "code",
   "execution_count": 13,
   "id": "7348640f",
   "metadata": {},
   "outputs": [
    {
     "name": "stdout",
     "output_type": "stream",
     "text": [
      "(16508, 384)\n"
     ]
    }
   ],
   "source": [
    "# 2. Embed skills\n",
    "model = SentenceTransformer('all-MiniLM-L6-v2')\n",
    "skill_embeddings = model.encode(corpus)\n",
    "\n",
    "print(skill_embeddings.shape)"
   ]
  },
  {
   "cell_type": "code",
   "execution_count": 14,
   "id": "4958ba82",
   "metadata": {},
   "outputs": [],
   "source": [
    "# 3. Compute hierarchical clustering\n",
    "linked = linkage(skill_embeddings, method='ward')  # \"ward\" tries to minimize variance"
   ]
  },
  {
   "cell_type": "code",
   "execution_count": 5,
   "id": "f7be811d",
   "metadata": {},
   "outputs": [],
   "source": [
    "import plotly.figure_factory as ff\n",
    "# 4. Create Plotly Dendrogram\n",
    "fig = ff.create_dendrogram(skill_embeddings, labels=corpus, linkagefun=lambda x: linkage(x, 'ward'))\n",
    "\n",
    "fig.update_layout(\n",
    "    width=1200,\n",
    "    height=800,\n",
    "    title=\"Dynamic Skill Clustering Dendrogram\",\n",
    "    xaxis_title=\"Skills\",\n",
    "    yaxis_title=\"Distance\",\n",
    "    showlegend=False\n",
    ")\n",
    "\n",
    "fig.write_html(\"../output/skill_dendogram.html\")"
   ]
  },
  {
   "cell_type": "code",
   "execution_count": 17,
   "id": "f706f8b2",
   "metadata": {},
   "outputs": [],
   "source": [
    "# 5. Optional: Cut the dendrogram into \"k\" clusters\n",
    "num_clusters = 10\n",
    "cluster_labels = fcluster(linked, num_clusters, criterion='maxclust')"
   ]
  },
  {
   "cell_type": "code",
   "execution_count": 24,
   "id": "71b75177",
   "metadata": {},
   "outputs": [
    {
     "name": "stdout",
     "output_type": "stream",
     "text": [
      "Skill: mantenimiento de maquinaria industrial, Cluster: 7\n",
      "Skill: manejo de bombas de vacío, Cluster: 7\n",
      "Skill: equipos de soldadura, Cluster: 7\n",
      "Skill: mecánica hidráulica, Cluster: 7\n",
      "Skill: Control integrado de plagas, Cluster: 6\n",
      "Skill: Control de roedores, Cluster: 6\n",
      "Skill: Desinsectación, Cluster: 7\n",
      "Skill: Lavado y desinfección de tanques, Cluster: 7\n",
      "Skill: Curso de trabajo en alturas, Cluster: 5\n",
      "Skill: Licencias A2 y C1, Cluster: 7\n"
     ]
    }
   ],
   "source": [
    "# 6. Print results\n",
    "n=1\n",
    "for skill, cluster_id in zip(corpus, cluster_labels):\n",
    "    if n<=10:\n",
    "        print(f\"Skill: {skill}, Cluster: {cluster_id}\")\n",
    "        n+=1\n",
    "    else: \n",
    "        break"
   ]
  },
  {
   "cell_type": "code",
   "execution_count": 57,
   "id": "58f1db6b",
   "metadata": {},
   "outputs": [
    {
     "name": "stdout",
     "output_type": "stream",
     "text": [
      "Cluster 7: ['mantenimiento de maquinaria industrial', 'manejo de bombas de vacío', 'equipos de soldadura', 'mecánica hidráulica', 'Desinsectación', 'Lavado y desinfección de tanques', 'Licencias A2 y C1', 'Inglés', 'Gestora y consultora asesora', 'NO_APLICA', 'Mercado de energía colombiano', 'Cobro de cartera', 'Manejo de tecnicos', 'Medida directa y semidirecta', 'Construcción', 'Manejo de correspondencia', 'Regulaciones gubernamentales', 'Herramienta SAP', 'Planeación de compras y contratación', 'Herramienta SAP', 'NO_APLICA', 'NO_APLICA', 'Equipos de calentamiento', 'Sistema de aire a presión', 'Consumo de agua', 'Huella de carbono', 'Mejora continua', 'Limpieza y lubricación de máquinas y equipos', 'Mantenimientos preventivos de maquinaria', 'Lavados de techos de casetas']\n"
     ]
    }
   ],
   "source": [
    "#7. Label the clusters using an LLM:\n",
    "\n",
    "# For each cluster, summarize its skills\n",
    "from collections import defaultdict\n",
    "\n",
    "cluster_skills = defaultdict(list)\n",
    "for skill, cluster_id in zip(corpus, cluster_labels):\n",
    "    cluster_skills[cluster_id].append(skill)\n",
    "\n",
    "for cluster_id, cluster_list in cluster_skills.items():\n",
    "    #truncar el print\n",
    "    print(f\"Cluster {cluster_id}: {cluster_list[0:30]}\")\n",
    "    break"
   ]
  },
  {
   "cell_type": "markdown",
   "id": "ae9fd730",
   "metadata": {},
   "source": [
    "## Etiquetar el cluster con un LLM"
   ]
  },
  {
   "cell_type": "code",
   "execution_count": 58,
   "id": "3856e06a",
   "metadata": {},
   "outputs": [
    {
     "name": "stdout",
     "output_type": "stream",
     "text": [
      "Basado en el listado de habilidades y conocimientos laborales, te sugiero los siguientes nombres que resumen las habilidades:\n",
      "\n",
      "1. \"Electromecánico Especializado\"\n",
      "2. \"Técnico en Redes Eléctricas\"\n",
      "3. \"Especialista en Instalaciones Eléctricas\"\n",
      "4. \"Mantenimiento y Reparación Eléctrica\"\n",
      "5. \"Diseñador de Sistemas Eléctricos\"\n",
      "6. \"Técnico en Electricidad Industrial\"\n",
      "7. \"Especialista en Motores Eléctricos\"\n",
      "8. \"Instalador y Mantenedor de Redes Eléctricas\"\n",
      "9. \"Técnico en Cableado Estructurado\"\n",
      "10. \"Especialista en Energía Eléctrica\"\n",
      "\n",
      "Espero que alguno de estos nombres te sea útil. Recuerda que es importante adaptar el nombre a la industria o sector en el que te desenvuelvas.\n"
     ]
    }
   ],
   "source": [
    "headers = {\n",
    "    \"Authorization\": f\"Bearer {api_key}\",\n",
    "    \"Content-Type\": \"application/json\"\n",
    "}\n",
    "\n",
    "#E.g Primer cluster\n",
    "skills_list = cluster_skills[2][:500]\n",
    "\n",
    "# Spanish prompt\n",
    "prompt = f\"Dado el siguiente listado de habilidades/conocimientos laborales: {', '.join(skills_list)}, sugiere un nombre de max 10 palabras que resuma las habilidades\"\n",
    "\n",
    "payload = {\n",
    "    \"model\": \"llama3-8b-8192\",  # Or \"llama3-70b-8192\"\n",
    "    \"messages\": [\n",
    "        {\"role\": \"user\", \"content\": prompt}\n",
    "    ],\n",
    "    \"temperature\": 0.3\n",
    "}\n",
    "\n",
    "response = requests.post(\"https://api.groq.com/openai/v1/chat/completions\", json=payload, headers=headers)\n",
    "\n",
    "# Verificamos si todo salió bien\n",
    "if response.status_code == 200:\n",
    "    data = response.json()\n",
    "    print(data[\"choices\"][0][\"message\"][\"content\"])\n",
    "else:\n",
    "    print(f\"Error {response.status_code}: {response.text}\")"
   ]
  },
  {
   "cell_type": "code",
   "execution_count": null,
   "id": "9f035139",
   "metadata": {},
   "outputs": [],
   "source": []
  }
 ],
 "metadata": {
  "kernelspec": {
   "display_name": "mainenv",
   "language": "python",
   "name": "python3"
  },
  "language_info": {
   "codemirror_mode": {
    "name": "ipython",
    "version": 3
   },
   "file_extension": ".py",
   "mimetype": "text/x-python",
   "name": "python",
   "nbconvert_exporter": "python",
   "pygments_lexer": "ipython3",
   "version": "3.10.12"
  }
 },
 "nbformat": 4,
 "nbformat_minor": 5
}
