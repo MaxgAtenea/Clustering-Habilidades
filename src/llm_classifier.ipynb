{
 "cells": [
  {
   "cell_type": "code",
   "execution_count": 15,
   "id": "56a346aa-cfbc-454e-89da-781eb6eebcc9",
   "metadata": {},
   "outputs": [],
   "source": [
    "import openai\n",
    "from dotenv import load_dotenv\n",
    "import os\n",
    "import json\n",
    "import time"
   ]
  },
  {
   "cell_type": "markdown",
   "id": "9a6b78b3-7954-41ee-ae73-85f1b58891cc",
   "metadata": {},
   "source": [
    "### Objetivo: Dada una clusterizacion de habilidades, el LLM etiqueta cada cluster con base en sus elementos\n",
    "Se usa Llama para este ejercicio"
   ]
  },
  {
   "cell_type": "markdown",
   "id": "27053d7a-73d7-4a27-a6bb-2d459030a657",
   "metadata": {},
   "source": [
    "**Consideraciones:**\n",
    "\n",
    "- Usar una api gratuita excede el límite de tokens que se pueden enviar por minuto\n",
    "- Los clusters actuales tienen una cardinalidad grande por lo cual limita el procesamiento mediante API gratuita. Por lo tanto para este ejercicio estoy tomando una muestra.\n"
   ]
  },
  {
   "cell_type": "code",
   "execution_count": 18,
   "id": "93b7d569-a835-4d9b-8e76-57708cd78709",
   "metadata": {},
   "outputs": [
    {
     "data": {
      "text/plain": [
       "True"
      ]
     },
     "execution_count": 18,
     "metadata": {},
     "output_type": "execute_result"
    }
   ],
   "source": [
    "# Cargar variables de entorno\n",
    "load_dotenv()"
   ]
  },
  {
   "cell_type": "code",
   "execution_count": 12,
   "id": "f643bc97-036a-4b71-aa39-14c6a36e8ced",
   "metadata": {},
   "outputs": [],
   "source": [
    "#cargar datos\n",
    "with open(\"../output/cluster_skills.json\", \"r\") as f:\n",
    "    cluster_skills = {int(k): v for k, v in json.load(f).items()}"
   ]
  },
  {
   "cell_type": "markdown",
   "id": "0ff58912-ae9f-4502-a419-683d392ce394",
   "metadata": {},
   "source": [
    "### LLM"
   ]
  },
  {
   "cell_type": "code",
   "execution_count": 13,
   "id": "ff75ecd5-228f-430d-bfd9-e7af540c0500",
   "metadata": {},
   "outputs": [],
   "source": [
    "# Leer la API Key\n",
    "api_key = os.getenv(\"GROQ_API_KEY\")"
   ]
  },
  {
   "cell_type": "markdown",
   "id": "025917ed-385c-4385-9bd8-fda9d80a30af",
   "metadata": {},
   "source": [
    "### Ejemplo de cómo llamar al LLM"
   ]
  },
  {
   "cell_type": "code",
   "execution_count": 4,
   "id": "238350d1-bcf8-4298-b339-0814b9bbc052",
   "metadata": {},
   "outputs": [
    {
     "name": "stdout",
     "output_type": "stream",
     "text": [
      "Una categoría común para esos lenguajes de programación es:\n",
      "\n",
      "**Lenguajes de Programación Orientados a Objetos**\n",
      "\n",
      "(Podría también ser simplemente \"Lenguajes de Programación\" o \"Lenguajes de Alto Nivel\", pero la categoría de \"Orientados a Objetos\" resalta una característica común entre Python, Java y C++).\n"
     ]
    }
   ],
   "source": [
    "openai.api_base = \"https://api.groq.com/openai/v1\"\n",
    "openai.api_key = api_key\n",
    "\n",
    "\n",
    "response = openai.ChatCompletion.create(\n",
    "    model=\"llama3-70b-8192\",\n",
    "    messages=[{\"role\": \"user\", \"content\": \"Dame un nombre de categoría para: Python, Java, C++.\"}]\n",
    ")\n",
    "\n",
    "print(response[\"choices\"][0][\"message\"][\"content\"])\n"
   ]
  },
  {
   "cell_type": "markdown",
   "id": "b6e55f6a-b975-40ce-9fc7-0a3958fdb7ac",
   "metadata": {},
   "source": [
    "### Utilizar el LLM para nombrar los clusters"
   ]
  },
  {
   "cell_type": "code",
   "execution_count": 17,
   "id": "ead6e616-0701-4543-8e1f-77d7e677487c",
   "metadata": {},
   "outputs": [
    {
     "name": "stdout",
     "output_type": "stream",
     "text": [
      "Cluster 7: Después de revisar el listado, puedo sugerir algunas categorías de habilidades laborales que agrupen estas habilidades. A continuación, te presento algunas opciones:\n",
      "\n",
      "1. **Mantenimiento y Reparación**: mantenimiento de maquinaria, manejo de bombas de vacío, mecánica hidráulica, mantenimiento preventivo, reparación de máquinas y equipos, etc.\n",
      "2. **Habilidades Técnicas**: manejo de equipos de soldadura, manejo de equipos de proceso, control de aguas, control de emisiones atmosféricas, sellado de fluidos, etc.\n",
      "3. **Gestión y Administración**: gestora y consultora asesora, planeación de compras y contratación, cobro de cartera, licencias A2 y C1, etc.\n",
      "4. **Seguridad y Medio Ambiente**: desinsectación, lavado y desinfección de tanques, manejo de residuos, emergencias, seguridad vial, etc.\n",
      "5. **Habilidades Informáticas**: manejo de herramientas ofimáticas, Herramienta SAP, reporte de daños en máquinas y equipos, etc.\n",
      "6. **Construcción y Mantenimiento de Infraestructura**: construcción, mantenimiento de infraestructura, instalación y mantenimiento de infraestructura, mampostería, etc.\n",
      "7. **Habilidades de Operación**: operación, control, seguimiento y mantenimiento preventivo de la planta de tratamiento de agua residual no doméstica, etc.\n",
      "8. **Idiomas**: inglés, Inglés B2, Inglés fluido, Inglés avanzado, etc.\n",
      "10. **Habilidades de Personal y Logística**: manejo de personal, logística, viajar, acompañamiento de tareas de alto riesgo, etc.\n",
      "\n",
      "Es importante destacar que algunas habilidades pueden pertenecer a más de una categoría, por lo que es importante asignar una única categoría a cada habilidad.\n",
      "\n",
      "Cluster 6: Basándome en el listado que me proporcionaste, te sugiero la siguiente categoría de habilidades laborales:\n",
      "\n",
      "**Operaciones y Producción**\n",
      "\n",
      "Esta categoría abarca habilidades relacionadas con la planificación, ejecución y control de procesos y operaciones en diversas industrias, como la producción de cemento, la manufactura, la automatización y el mantenimiento industrial. Incluye también habilidades relacionadas con la gestión de calidad, la seguridad industrial, la sostenibilidad, la compra y contratación, la programación en PLCs, entre otras.\n",
      "\n",
      "Subcategorías que se podrían derivar de esta categoría principal son:\n",
      "\n",
      "* Gestión de operaciones\n",
      "* Producción y manufactura\n",
      "* Automatización y mantenimiento\n",
      "* Gestión de calidad y seguridad\n",
      "* Sostenibilidad y medio ambiente\n",
      "* Compras y contratación\n",
      "* Programación y control\n",
      "\n",
      "Espero que esta sugerencia te sea útil.\n",
      "\n",
      "Cluster 5: Una categoría de habilidades laborales que agrupa todos estos cursos y habilidades es:\n",
      "\n",
      "**Salud y Seguridad Laboral**\n",
      "\n",
      " Esta categoría abarca habilidades relacionadas con la prevención de riesgos laborales, la protección de la salud y el bienestar de los trabajadores, así como la gestión y supervisión de programas de seguridad y salud en el trabajo.\n",
      "\n",
      "Cluster 2: Basado en el listado de habilidades laborales, te sugiero la categoría:\n",
      "\n",
      "**Electrónica e Instalaciones Eléctricas**\n",
      "\n",
      "Esta categoría agrupa habilidades relacionadas con la instalación, mantenimiento, diseño, reparación y montaje de sistemas eléctricos, así como la seguridad electrónica y la interpretación de planos eléctricos.\n",
      "\n",
      "Cluster 3: Basándome en el listado, te propongo las siguientes categorías de habilidades laborales:\n",
      "\n",
      "1. **Comunicación y Audio**: Audio, Call center, Audio\n",
      "2. **Productividad y Office**: Office, Paquete Office, Word, Excel, PowerPoint, MS Office, Microsoft 365\n",
      "3. **Gestión y Administración**: CRM, BPM, HACCP, 5S, SG-SST, Gestion del sistema de SST en campo, SAP\n",
      "4. **Business Intelligence y Análitica**: Power BI, Power BI básico, RESPAL\n",
      "5. **Seguridad y Redes**: Arquitectura de seguridad cloud, Cloud Security Posture Management (CSPM), Cloud Workload Protection Platform (CWPP), Cloud Security Automation & Remediation, Cloud DevSecOps, CASB, Seguridad Microsoft 365, SASE, CCSP, COBIT, SABSA, TOGAF, NIST, OWASP, CIS\n",
      "6. **Desarrollo y Programación**: Scripts, Python, Ruby, JavaScript, AWS, CloudFormation, Jenkins, CDK, Shell, Unix, Docker, Fargate\n",
      "7. **Infraestructura y Redes**: Redes LAN, WAN, WLAN, VMware, CCNA, Cisco, Cisco Meraki, Ruckus, MikroTik, Peplink, Palo Alto\n",
      "8. **Operaciones y Mantenimiento**: Operación y mantenimiento de PTAR, Chillers, UM, UGPP, UPME, Dialux, EPM, RETIE\n",
      "9. **Gestión de Presupuesto y Finanzas**: Seguimiento y evaluación de presupuestos HSE, Cobro a clientes\n",
      "10. **Otros**: GBS (Oracle), Zkteko, DSC, Bosch, ArcGIS, Procedimientos de cocción, PMP\n",
      "\n",
      "Es importante destacar que algunas habilidades pueden pertenecer a varias categorías, pero he intentado agruparlas de manera lógica y coherente.\n",
      "\n",
      "Cluster 10: Basándome en el listado de habilidades laborales que me has proporcionado, te propongo la categoría de:\n",
      "\n",
      "**Energía y Sostenibilidad**\n",
      "\n",
      "La categoría de Energía y Sostenibilidad\" agrupa habilidades laborales relacionadas con la generación, distribución y uso eficiente de la energía, así como la transición hacia modelos de energía más sostenibles y respetuosos con el medio ambiente.\n",
      "\n",
      "Error con el cluster 1: Rate limit reached for model `llama3-70b-8192` in organization `org_01jsskhw9de0ba48xr8d0ekbds` service tier `on_demand` on tokens per minute (TPM): Limit 6000, Used 5704, Requested 774. Please try again in 4.774s. Need more tokens? Upgrade to Dev Tier today at https://console.groq.com/settings/billing\n",
      "Error con el cluster 8: Rate limit reached for model `llama3-70b-8192` in organization `org_01jsskhw9de0ba48xr8d0ekbds` service tier `on_demand` on tokens per minute (TPM): Limit 6000, Used 5581, Requested 494. Please try again in 750ms. Need more tokens? Upgrade to Dev Tier today at https://console.groq.com/settings/billing\n",
      "Error con el cluster 9: Rate limit reached for model `llama3-70b-8192` in organization `org_01jsskhw9de0ba48xr8d0ekbds` service tier `on_demand` on tokens per minute (TPM): Limit 6000, Used 5466, Requested 592. Please try again in 571ms. Need more tokens? Upgrade to Dev Tier today at https://console.groq.com/settings/billing\n",
      "Cluster 4: Una buena categoría de habilidades laborales para este listado es:\n",
      "\n",
      "**\"Habilidades en diseño y análisis de datos\"**\n",
      "\n",
      "Esta categoría agrupa habilidades relacionadas con el diseño y análisis de datos, incluyendo habilidades en programas de diseño como AutoCAD y SolidWorks, y habilidades en el análisis y manipulación de datos en programas como Microsoft Excel.\n",
      "\n"
     ]
    }
   ],
   "source": [
    "# Configurar la API de Groq\n",
    "openai.api_base = \"https://api.groq.com/openai/v1\"\n",
    "openai.api_key = api_key  # asegúrate de que esté definida\n",
    "\n",
    "# Diccionario donde guardaremos los resultados\n",
    "cluster_categories = {}\n",
    "\n",
    "# Límite de habilidades por cluster (opcional)\n",
    "max_skills = 100\n",
    "\n",
    "# Iterar sobre cada cluster\n",
    "for cluster_id, skills in cluster_skills.items():\n",
    "    if not skills:\n",
    "        continue\n",
    "\n",
    "    # Usar solo las primeras N (max_skills) habilidades para evitar mensajes largos\n",
    "    skill_string = \", \".join(skills[:max_skills])\n",
    "    prompt = f\"Dame un nombre de categoría de habilidades laborales para el siguiente listado: {skill_string}.\"\n",
    "\n",
    "    try:\n",
    "        response = openai.ChatCompletion.create(\n",
    "            model=\"llama3-70b-8192\",\n",
    "            messages=[{\"role\": \"user\", \"content\": prompt}]\n",
    "        )\n",
    "\n",
    "        category_name = response[\"choices\"][0][\"message\"][\"content\"].strip()\n",
    "        cluster_categories[cluster_id] = category_name\n",
    "        print(f\"Cluster {cluster_id}: {category_name}\\n\")\n",
    "\n",
    "    except Exception as e:\n",
    "        print(f\"Error con el cluster {cluster_id}: {e}\")\n",
    "\n",
    "    # Esperar 1 segundo para evitar sobrepasar los límites\n",
    "    time.sleep(1)\n",
    "\n",
    "# Guardar resultados\n",
    "with open(\"cluster_categories.json\", \"w\") as f:\n",
    "    json.dump(cluster_categories, f, indent=2, ensure_ascii=False)\n"
   ]
  },
  {
   "cell_type": "code",
   "execution_count": null,
   "id": "6cb0ee19-1f27-4e77-ab60-9e65156bf804",
   "metadata": {},
   "outputs": [],
   "source": []
  }
 ],
 "metadata": {
  "kernelspec": {
   "display_name": "Python 3 (ipykernel)",
   "language": "python",
   "name": "python3"
  },
  "language_info": {
   "codemirror_mode": {
    "name": "ipython",
    "version": 3
   },
   "file_extension": ".py",
   "mimetype": "text/x-python",
   "name": "python",
   "nbconvert_exporter": "python",
   "pygments_lexer": "ipython3",
   "version": "3.10.12"
  }
 },
 "nbformat": 4,
 "nbformat_minor": 5
}
