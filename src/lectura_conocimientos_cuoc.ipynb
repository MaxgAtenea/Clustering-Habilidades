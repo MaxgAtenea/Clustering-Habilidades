{
 "cells": [
  {
   "cell_type": "code",
   "execution_count": 33,
   "metadata": {
    "id": "fVf8mjSSVHuf"
   },
   "outputs": [],
   "source": [
    "import pandas as pd"
   ]
  },
  {
   "cell_type": "code",
   "execution_count": 34,
   "metadata": {
    "id": "ilpW0w82VJgr"
   },
   "outputs": [],
   "source": [
    "conocimientos_info = pd.read_excel(\"../data/CUOC/detalle_conocimientos_cuoc_2022.xlsx\",sheet_name=\"conocimientos_cuoc\")"
   ]
  },
  {
   "cell_type": "code",
   "execution_count": 35,
   "metadata": {
    "id": "tKqVFDNlVm3S"
   },
   "outputs": [],
   "source": [
    "ocupaciones_conocimientos = pd.read_excel(\"../data/CUOC/detalle_conocimientos_cuoc_2022.xlsx\",sheet_name=\"relacion_conocimientos_ocupaci\")"
   ]
  },
  {
   "cell_type": "code",
   "execution_count": 36,
   "metadata": {
    "colab": {
     "base_uri": "https://localhost:8080/",
     "height": 206
    },
    "id": "vbjP3R1PVvDz",
    "outputId": "e0690b7b-faa0-4874-d960-16746a92d9cc"
   },
   "outputs": [
    {
     "data": {
      "text/html": [
       "<div>\n",
       "<style scoped>\n",
       "    .dataframe tbody tr th:only-of-type {\n",
       "        vertical-align: middle;\n",
       "    }\n",
       "\n",
       "    .dataframe tbody tr th {\n",
       "        vertical-align: top;\n",
       "    }\n",
       "\n",
       "    .dataframe thead th {\n",
       "        text-align: right;\n",
       "    }\n",
       "</style>\n",
       "<table border=\"1\" class=\"dataframe\">\n",
       "  <thead>\n",
       "    <tr style=\"text-align: right;\">\n",
       "      <th></th>\n",
       "      <th>Nombre</th>\n",
       "      <th>Descripcion</th>\n",
       "      <th>Codigo</th>\n",
       "    </tr>\n",
       "  </thead>\n",
       "  <tbody>\n",
       "    <tr>\n",
       "      <th>0</th>\n",
       "      <td>Acuicultura y Pesca</td>\n",
       "      <td>Conocimiento de la cría, el cultivo, y la reco...</td>\n",
       "      <td>83</td>\n",
       "    </tr>\n",
       "    <tr>\n",
       "      <th>1</th>\n",
       "      <td>Adquisición del lenguaje</td>\n",
       "      <td>Conocimiento de la estructura y la composición...</td>\n",
       "      <td>52</td>\n",
       "    </tr>\n",
       "    <tr>\n",
       "      <th>2</th>\n",
       "      <td>Anatomía</td>\n",
       "      <td>Conocimiento de la estructura del cuerpo humano.</td>\n",
       "      <td>40</td>\n",
       "    </tr>\n",
       "    <tr>\n",
       "      <th>3</th>\n",
       "      <td>Armonía y Composición</td>\n",
       "      <td>Conocimiento de técnicas para la construcción,...</td>\n",
       "      <td>46</td>\n",
       "    </tr>\n",
       "    <tr>\n",
       "      <th>4</th>\n",
       "      <td>Arquitectura y Urbanismo</td>\n",
       "      <td>Conocimiento del arte, la ciencia y las técnic...</td>\n",
       "      <td>53</td>\n",
       "    </tr>\n",
       "  </tbody>\n",
       "</table>\n",
       "</div>"
      ],
      "text/plain": [
       "                     Nombre  \\\n",
       "0       Acuicultura y Pesca   \n",
       "1  Adquisición del lenguaje   \n",
       "2                  Anatomía   \n",
       "3     Armonía y Composición   \n",
       "4  Arquitectura y Urbanismo   \n",
       "\n",
       "                                         Descripcion  Codigo  \n",
       "0  Conocimiento de la cría, el cultivo, y la reco...      83  \n",
       "1  Conocimiento de la estructura y la composición...      52  \n",
       "2   Conocimiento de la estructura del cuerpo humano.      40  \n",
       "3  Conocimiento de técnicas para la construcción,...      46  \n",
       "4  Conocimiento del arte, la ciencia y las técnic...      53  "
      ]
     },
     "execution_count": 36,
     "metadata": {},
     "output_type": "execute_result"
    }
   ],
   "source": [
    "conocimientos_info.head()"
   ]
  },
  {
   "cell_type": "code",
   "execution_count": 37,
   "metadata": {
    "colab": {
     "base_uri": "https://localhost:8080/",
     "height": 206
    },
    "id": "4tKgYsF0VvBl",
    "outputId": "cacfa6e6-7145-4fac-fa1c-1cef2b8ead4d"
   },
   "outputs": [
    {
     "data": {
      "text/html": [
       "<div>\n",
       "<style scoped>\n",
       "    .dataframe tbody tr th:only-of-type {\n",
       "        vertical-align: middle;\n",
       "    }\n",
       "\n",
       "    .dataframe tbody tr th {\n",
       "        vertical-align: top;\n",
       "    }\n",
       "\n",
       "    .dataframe thead th {\n",
       "        text-align: right;\n",
       "    }\n",
       "</style>\n",
       "<table border=\"1\" class=\"dataframe\">\n",
       "  <thead>\n",
       "    <tr style=\"text-align: right;\">\n",
       "      <th></th>\n",
       "      <th>Gran Grupo</th>\n",
       "      <th>Ocupación</th>\n",
       "      <th>Nombre Ocupación</th>\n",
       "      <th>ID Conocimiento</th>\n",
       "      <th>Nombre Conocimiento</th>\n",
       "    </tr>\n",
       "  </thead>\n",
       "  <tbody>\n",
       "    <tr>\n",
       "      <th>0</th>\n",
       "      <td>0</td>\n",
       "      <td>1100</td>\n",
       "      <td>Oficiales de las fuerzas militares</td>\n",
       "      <td>1</td>\n",
       "      <td>Gerencia y administración</td>\n",
       "    </tr>\n",
       "    <tr>\n",
       "      <th>1</th>\n",
       "      <td>0</td>\n",
       "      <td>1100</td>\n",
       "      <td>Oficiales de las fuerzas militares</td>\n",
       "      <td>22</td>\n",
       "      <td>Educación y capacitación</td>\n",
       "    </tr>\n",
       "    <tr>\n",
       "      <th>2</th>\n",
       "      <td>0</td>\n",
       "      <td>1100</td>\n",
       "      <td>Oficiales de las fuerzas militares</td>\n",
       "      <td>27</td>\n",
       "      <td>Seguridad pública</td>\n",
       "    </tr>\n",
       "    <tr>\n",
       "      <th>3</th>\n",
       "      <td>0</td>\n",
       "      <td>1100</td>\n",
       "      <td>Oficiales de las fuerzas militares</td>\n",
       "      <td>28</td>\n",
       "      <td>Leyes y gobierno</td>\n",
       "    </tr>\n",
       "    <tr>\n",
       "      <th>4</th>\n",
       "      <td>0</td>\n",
       "      <td>1100</td>\n",
       "      <td>Oficiales de las fuerzas militares</td>\n",
       "      <td>50</td>\n",
       "      <td>Servicio a la persona y humanización</td>\n",
       "    </tr>\n",
       "  </tbody>\n",
       "</table>\n",
       "</div>"
      ],
      "text/plain": [
       "   Gran Grupo  Ocupación                    Nombre Ocupación  ID Conocimiento  \\\n",
       "0           0       1100  Oficiales de las fuerzas militares                1   \n",
       "1           0       1100  Oficiales de las fuerzas militares               22   \n",
       "2           0       1100  Oficiales de las fuerzas militares               27   \n",
       "3           0       1100  Oficiales de las fuerzas militares               28   \n",
       "4           0       1100  Oficiales de las fuerzas militares               50   \n",
       "\n",
       "                    Nombre Conocimiento  \n",
       "0             Gerencia y administración  \n",
       "1              Educación y capacitación  \n",
       "2                     Seguridad pública  \n",
       "3                      Leyes y gobierno  \n",
       "4  Servicio a la persona y humanización  "
      ]
     },
     "execution_count": 37,
     "metadata": {},
     "output_type": "execute_result"
    }
   ],
   "source": [
    "ocupaciones_conocimientos.head()"
   ]
  },
  {
   "cell_type": "code",
   "execution_count": 38,
   "metadata": {
    "id": "byqOTlYuVzES"
   },
   "outputs": [],
   "source": [
    "data = pd.merge(\n",
    "    ocupaciones_conocimientos,\n",
    "    conocimientos_info,\n",
    "    left_on = \"ID Conocimiento\",\n",
    "    right_on = \"Codigo\",\n",
    "    how = \"outer\"\n",
    ")"
   ]
  },
  {
   "cell_type": "code",
   "execution_count": 39,
   "metadata": {
    "colab": {
     "base_uri": "https://localhost:8080/",
     "height": 335
    },
    "id": "p_KPTY0zWDx5",
    "outputId": "42e728d2-01be-4cca-8fc6-88b79ba036c3"
   },
   "outputs": [
    {
     "data": {
      "text/plain": [
       "Gran Grupo             1\n",
       "Ocupación              1\n",
       "Nombre Ocupación       1\n",
       "ID Conocimiento        1\n",
       "Nombre Conocimiento    1\n",
       "Nombre                 0\n",
       "Descripcion            0\n",
       "Codigo                 0\n",
       "dtype: int64"
      ]
     },
     "execution_count": 39,
     "metadata": {},
     "output_type": "execute_result"
    }
   ],
   "source": [
    "data.isna().sum()"
   ]
  },
  {
   "cell_type": "code",
   "execution_count": 40,
   "metadata": {
    "id": "S_nQ1VPUXiRB"
   },
   "outputs": [],
   "source": [
    "import pandas as pd\n",
    "import json\n",
    "\n",
    "\n",
    "# Agrupamos por 'Codigo'\n",
    "result = []\n",
    "for codigo, group in data.groupby('Codigo'):\n",
    "    title = group['Nombre'].iloc[0]\n",
    "    description = group['Descripcion'].iloc[0]\n",
    "\n",
    "    # Ocupaciones únicas (nombre y código)\n",
    "    occupationTitles = group['Nombre Ocupación'].dropna().unique().tolist()\n",
    "    occupationUid = group['Ocupación'].dropna().unique().tolist()\n",
    "\n",
    "\n",
    "    degree = len(occupationUid)\n",
    "\n",
    "    result.append({\n",
    "        'Codigo': codigo,\n",
    "        'title': title,\n",
    "        'description': description,\n",
    "        'Ocupaciones_Nombres': occupationTitles,\n",
    "        'Ocupaciones_Codigos': occupationUid,\n",
    "        'degree': degree\n",
    "    })\n",
    "\n",
    "# Convertimos a JSON\n",
    "json_result = json.dumps(result, indent=2, ensure_ascii=False)\n",
    "\n",
    "# Si quieres guardarlo en un archivo:\n",
    "with open('../output/conocimientos_cuoc.json', 'w', encoding='utf-8') as f:\n",
    "    f.write(json_result)\n"
   ]
  },
  {
   "cell_type": "code",
   "execution_count": 42,
   "metadata": {
    "colab": {
     "base_uri": "https://localhost:8080/",
     "height": 216
    },
    "id": "T6VBU-oAZLZQ",
    "outputId": "328ae14e-9fd7-4d56-e166-c8d044cd648f"
   },
   "outputs": [
    {
     "name": "stdout",
     "output_type": "stream",
     "text": [
      "✅ nodes_knowledge_cuoc.csv and edges_knowledge_cuoc.csv created with weights and shared occupations.\n"
     ]
    }
   ],
   "source": [
    "import json\n",
    "import csv\n",
    "from collections import defaultdict\n",
    "\n",
    "# Load enriched knowledge data\n",
    "with open(\"../output/conocimientos_cuoc.json\", \"r\", encoding=\"utf-8\") as f:\n",
    "    data = json.load(f)\n",
    "\n",
    "# 1️⃣ Build node list\n",
    "nodes = []\n",
    "codigo_to_occupations = {}      # Codigo → set of occupation codes (uids)\n",
    "codigo_to_titles = {}           # Codigo → {occupation code → occupation title}\n",
    "\n",
    "\n",
    "for item in data:\n",
    "    \n",
    "    codigo = item[\"Codigo\"] #codigo del conocimiento\n",
    "    title = item[\"title\"]\n",
    "    description = item[\"description\"]\n",
    "    occupation_uids = item[\"Ocupaciones_Codigos\"]\n",
    "    occupation_titles = item[\"Ocupaciones_Nombres\"]\n",
    "    \n",
    "\n",
    "    # Add node\n",
    "    nodes.append({\n",
    "        \"id\": codigo,\n",
    "        \"title\": title,\n",
    "        \"description\": description,\n",
    "        \"occupation_titles\": \"; \".join(occupation_titles),\n",
    "        \"occupation_uids\": \"; \".join(map(str,map(int, occupation_uids))),\n",
    "        \"degree\": item[\"degree\"]\n",
    "    })\n",
    "    \n",
    "    # Map occupations\n",
    "    codigo_to_occupations[codigo] = set(map(int, occupation_uids))\n",
    "    codigo_to_titles[codigo] = dict(zip(map(int, occupation_uids), occupation_titles))\n",
    "\n",
    "# 2️⃣ Map: occupation code → set of knowledge codes\n",
    "occ_to_know = defaultdict(set)\n",
    "\n",
    "for codigo, occupations in codigo_to_occupations.items():\n",
    "    for occ_uid in occupations:\n",
    "        occ_to_know[occ_uid].add(codigo)\n",
    "\n",
    "# 3️⃣ Build weighted edges with shared occupations\n",
    "edge_weights = defaultdict(int)\n",
    "edge_shared_occupations = defaultdict(set)\n",
    "\n",
    "for occ_uid, codigos in occ_to_know.items():\n",
    "    uris = list(codigos)\n",
    "    for i in range(len(uris)):\n",
    "        for j in range(i + 1, len(uris)):\n",
    "            source, target = sorted([uris[i], uris[j]])\n",
    "            edge_weights[(source, target)] += 1\n",
    "            edge_shared_occupations[(source, target)].add(occ_uid)\n",
    "\n",
    "# 4️⃣ Write nodes.csv\n",
    "with open(\"../output/nodes_knowledge_cuoc.csv\", \"w\", newline=\"\", encoding=\"utf-8\") as f:\n",
    "    writer = csv.DictWriter(f, fieldnames=nodes[0].keys())\n",
    "    writer.writeheader()\n",
    "    writer.writerows(nodes)\n",
    "\n",
    "# 5️⃣ Write edges.csv with shared occupation titles\n",
    "with open(\"../output/edges_knowledge_cuoc.csv\", \"w\", newline=\"\", encoding=\"utf-8\") as f:\n",
    "    writer = csv.DictWriter(f, fieldnames=[\n",
    "        \"source\", \"target\", \"weight\", \"shared_occupations_uids\",\"shared_occupations_titles\"\n",
    "    ])\n",
    "    writer.writeheader()\n",
    "    \n",
    "    for (source, target), weight in edge_weights.items():\n",
    "        shared_uids = edge_shared_occupations[(source, target)] #devuelve uids de las ocupaciones en comun\n",
    "\n",
    "        # Recolectar nombres de ocupaciones compartidas\n",
    "        titles = []\n",
    "\n",
    "        for uid in shared_uids:\n",
    "            #uid de una ocupacion en comun\n",
    "            #uid = int(uid)\n",
    "            title = codigo_to_titles.get(source, {}).get(uid)\n",
    "            if title:\n",
    "                titles.append(title)\n",
    "\n",
    "        writer.writerow({\n",
    "            \"source\": source,\n",
    "            \"target\": target,\n",
    "            \"weight\": weight,\n",
    "            \"shared_occupations_uids\": \"; \".join(sorted(set(map(str, map(int, shared_uids))))),\n",
    "            \"shared_occupations_titles\": \"; \".join(set(titles))\n",
    "        })\n",
    "\n",
    "print(\"✅ nodes_knowledge_cuoc.csv and edges_knowledge_cuoc.csv created with weights and shared occupations.\")\n"
   ]
  },
  {
   "cell_type": "code",
   "execution_count": null,
   "metadata": {
    "id": "Wk-Y4dQOc81X"
   },
   "outputs": [],
   "source": []
  }
 ],
 "metadata": {
  "colab": {
   "provenance": []
  },
  "kernelspec": {
   "display_name": "Python 3 (ipykernel)",
   "language": "python",
   "name": "python3"
  },
  "language_info": {
   "codemirror_mode": {
    "name": "ipython",
    "version": 3
   },
   "file_extension": ".py",
   "mimetype": "text/x-python",
   "name": "python",
   "nbconvert_exporter": "python",
   "pygments_lexer": "ipython3",
   "version": "3.10.12"
  }
 },
 "nbformat": 4,
 "nbformat_minor": 4
}
