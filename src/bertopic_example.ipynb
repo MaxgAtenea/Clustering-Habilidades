{
 "cells": [
  {
   "cell_type": "code",
   "execution_count": 1,
   "id": "9413621c-6657-49cf-8f9a-06299f36ec28",
   "metadata": {
    "id": "9413621c-6657-49cf-8f9a-06299f36ec28"
   },
   "outputs": [
    {
     "name": "stderr",
     "output_type": "stream",
     "text": [
      "/home/alejandro/.virtualenvs/mainenv/lib/python3.10/site-packages/tqdm/auto.py:21: TqdmWarning: IProgress not found. Please update jupyter and ipywidgets. See https://ipywidgets.readthedocs.io/en/stable/user_install.html\n",
      "  from .autonotebook import tqdm as notebook_tqdm\n"
     ]
    }
   ],
   "source": [
    "import pandas as pd\n",
    "import numpy as np\n",
    "import ast\n",
    "import textwrap\n",
    "\n",
    "import spacy\n",
    "from bertopic import BERTopic\n",
    "\n",
    "#Representación de topics\n",
    "from bertopic.vectorizers import ClassTfidfTransformer\n",
    "#Embedding model\n",
    "from sentence_transformers import SentenceTransformer\n",
    "#UMAP para reducir la dimensionalidad\n",
    "from umap import UMAP\n",
    "#clusterizador\n",
    "from hdbscan import HDBSCAN\n",
    "#Mapa de texto a vector \n",
    "from sklearn.feature_extraction.text import CountVectorizer\n",
    "#representacion fine-tuned de bert topic: https://maartengr.github.io/BERTopic/index.html#fine-tune-topic-representations\n",
    "from bertopic.representation import KeyBERTInspired"
   ]
  },
  {
   "cell_type": "markdown",
   "id": "a5f1f4ff",
   "metadata": {},
   "source": [
    "# Objetivo"
   ]
  },
  {
   "cell_type": "markdown",
   "id": "513764ee",
   "metadata": {},
   "source": [
    "Se tienen unas vacantes laborales para el sector energético. Cada vacante tienen un listado de conocimientos. Se quiere agrupar los conocimientos en categorias estandar para discernir cuales son los conocimientos que está demandando el mercado laboral."
   ]
  },
  {
   "cell_type": "markdown",
   "id": "295c968a",
   "metadata": {},
   "source": [
    "## Referencias"
   ]
  },
  {
   "cell_type": "markdown",
   "id": "9cb32f28",
   "metadata": {},
   "source": [
    "https://maartengr.github.io/BERTopic/index.html#variations"
   ]
  },
  {
   "cell_type": "markdown",
   "id": "d0badba1",
   "metadata": {},
   "source": [
    "## Funciones"
   ]
  },
  {
   "cell_type": "code",
   "execution_count": 2,
   "id": "83b81631",
   "metadata": {},
   "outputs": [],
   "source": [
    "def safe_parse_conocimientos(value):\n",
    "    '''\n",
    "    Cambia de formato las entradas de la forma\n",
    "    \"'palabra_1','palabra_2',..., 'palabra_n'\"\n",
    "    a\n",
    "    ['palabra_1','palabra_2,...,'palabra_n']\n",
    "    '''\n",
    "    try:\n",
    "        # Si no está entre corchetes, lo envolvemos\n",
    "        if not value.strip().startswith(\"[\"):\n",
    "            value = f\"[{value}]\"\n",
    "        return ast.literal_eval(value)\n",
    "    except Exception:\n",
    "        return [str(value)]  # Si no se puede evaluar, lo devolvemos como lista con un solo string\n"
   ]
  },
  {
   "cell_type": "markdown",
   "id": "f1e45764-e888-4226-a325-a46519200110",
   "metadata": {
    "id": "f1e45764-e888-4226-a325-a46519200110"
   },
   "source": [
    "## Leer datos"
   ]
  },
  {
   "cell_type": "code",
   "execution_count": 3,
   "id": "f1a288ba-f4a5-4660-aa6a-04dfafee4eae",
   "metadata": {
    "id": "f1a288ba-f4a5-4660-aa6a-04dfafee4eae"
   },
   "outputs": [],
   "source": [
    "conoc_df=pd.read_excel(\"../data/conoc_tej.xlsx\",index_col=False)\n",
    "conoc_df=conoc_df.replace('NA',np.nan)"
   ]
  },
  {
   "cell_type": "code",
   "execution_count": 4,
   "id": "eUd54YH_YrPg",
   "metadata": {
    "colab": {
     "base_uri": "https://localhost:8080/",
     "height": 206
    },
    "id": "eUd54YH_YrPg",
    "outputId": "211baba7-db61-40a5-f501-8f5130d1f7e2"
   },
   "outputs": [
    {
     "name": "stdout",
     "output_type": "stream",
     "text": [
      "Numero de filas: 3087 \n",
      "Numero de columnas: 26\n"
     ]
    },
    {
     "data": {
      "text/html": [
       "<div>\n",
       "<style scoped>\n",
       "    .dataframe tbody tr th:only-of-type {\n",
       "        vertical-align: middle;\n",
       "    }\n",
       "\n",
       "    .dataframe tbody tr th {\n",
       "        vertical-align: top;\n",
       "    }\n",
       "\n",
       "    .dataframe thead th {\n",
       "        text-align: right;\n",
       "    }\n",
       "</style>\n",
       "<table border=\"1\" class=\"dataframe\">\n",
       "  <thead>\n",
       "    <tr style=\"text-align: right;\">\n",
       "      <th></th>\n",
       "      <th>id</th>\n",
       "      <th>titulo_vacante</th>\n",
       "      <th>descripcion</th>\n",
       "      <th>tipo_documento</th>\n",
       "      <th>cod_depto</th>\n",
       "      <th>fecha_inicio</th>\n",
       "      <th>fecha_cierre</th>\n",
       "      <th>registro_mes</th>\n",
       "      <th>registro_ano</th>\n",
       "      <th>tipo1prestador</th>\n",
       "      <th>...</th>\n",
       "      <th>depto</th>\n",
       "      <th>mpio</th>\n",
       "      <th>rangos_salariales</th>\n",
       "      <th>numero_documento_anom</th>\n",
       "      <th>codigo</th>\n",
       "      <th>descripcion_input</th>\n",
       "      <th>profesion</th>\n",
       "      <th>educacion</th>\n",
       "      <th>conocimientos</th>\n",
       "      <th>clasif_cine_nombre</th>\n",
       "    </tr>\n",
       "  </thead>\n",
       "  <tbody>\n",
       "    <tr>\n",
       "      <th>0</th>\n",
       "      <td>180</td>\n",
       "      <td>auxiliar de servicio tecnico industrial</td>\n",
       "      <td>importante multinacional del sector energetico...</td>\n",
       "      <td>NI</td>\n",
       "      <td>11</td>\n",
       "      <td>44942</td>\n",
       "      <td>30/01/2023</td>\n",
       "      <td>1</td>\n",
       "      <td>2023</td>\n",
       "      <td>Privado</td>\n",
       "      <td>...</td>\n",
       "      <td>BOGOTA, D. C.</td>\n",
       "      <td>BOGOTA D.C.</td>\n",
       "      <td>$1.500.001 - $2.000.000</td>\n",
       "      <td>fdd3b5bff414026a8d0b7c09bc232281d192797cec6b2b...</td>\n",
       "      <td>OFERTA_181</td>\n",
       "      <td>auxiliar de servicio tecnico industrial; impor...</td>\n",
       "      <td>'Auxiliar servicio técnico industrial'</td>\n",
       "      <td>'Mecánico', 'Electromecánico'</td>\n",
       "      <td>'mantenimiento de maquinaria industrial', 'man...</td>\n",
       "      <td>71.0-Ingeniería y profesiones afines</td>\n",
       "    </tr>\n",
       "    <tr>\n",
       "      <th>1</th>\n",
       "      <td>368</td>\n",
       "      <td>tecnico fumigador - con moto</td>\n",
       "      <td>importante empresa dedicada a la prestacion de...</td>\n",
       "      <td>NI</td>\n",
       "      <td>11</td>\n",
       "      <td>44945</td>\n",
       "      <td>30/01/2023</td>\n",
       "      <td>1</td>\n",
       "      <td>2023</td>\n",
       "      <td>Privado</td>\n",
       "      <td>...</td>\n",
       "      <td>BOGOTA, D. C.</td>\n",
       "      <td>BOGOTA D.C.</td>\n",
       "      <td>$1.000.001 - $1.500.000</td>\n",
       "      <td>fdd3b5bff414026a8d0b7c09bc232281d192797cec6b2b...</td>\n",
       "      <td>OFERTA_369</td>\n",
       "      <td>tecnico fumigador - con moto; importante empre...</td>\n",
       "      <td>'Técnico fumigador'</td>\n",
       "      <td>'Bachiller'</td>\n",
       "      <td>'Control integrado de plagas', 'Control de roe...</td>\n",
       "      <td>1.0-Programas y certificaciones básicos</td>\n",
       "    </tr>\n",
       "    <tr>\n",
       "      <th>2</th>\n",
       "      <td>637</td>\n",
       "      <td>ingeniero preventa</td>\n",
       "      <td>importante empresa requiere para su equipo de ...</td>\n",
       "      <td>NI</td>\n",
       "      <td>11</td>\n",
       "      <td>44950</td>\n",
       "      <td>30/01/2023</td>\n",
       "      <td>1</td>\n",
       "      <td>2023</td>\n",
       "      <td>Privado</td>\n",
       "      <td>...</td>\n",
       "      <td>BOGOTA, D. C.</td>\n",
       "      <td>BOGOTA D.C.</td>\n",
       "      <td>$2.000.001 - $3.000.000</td>\n",
       "      <td>f1bb3499cfe1370bbf73106827e6ba0c3b6fe5c06db679...</td>\n",
       "      <td>OFERTA_638</td>\n",
       "      <td>ingeniero preventa; importante empresa requier...</td>\n",
       "      <td>'Ingeniero preventa'</td>\n",
       "      <td>'Ingeniería electrónica', 'Mecatrónica', 'Tele...</td>\n",
       "      <td>'Proyectos de seguridad electrónica', 'Dimensi...</td>\n",
       "      <td>41.0-Educación comercial y administración</td>\n",
       "    </tr>\n",
       "    <tr>\n",
       "      <th>3</th>\n",
       "      <td>702</td>\n",
       "      <td>tecnico electricista - lugar de trabajo: bogota</td>\n",
       "      <td>importante empresa requiere tecnico electricis...</td>\n",
       "      <td>NI</td>\n",
       "      <td>11</td>\n",
       "      <td>44936</td>\n",
       "      <td>30/01/2023</td>\n",
       "      <td>1</td>\n",
       "      <td>2023</td>\n",
       "      <td>Privado</td>\n",
       "      <td>...</td>\n",
       "      <td>BOGOTA, D. C.</td>\n",
       "      <td>BOGOTA D.C.</td>\n",
       "      <td>$1.000.001 - $1.500.000</td>\n",
       "      <td>53547f1b0955425b627d74c9865433f6ef9137a8ecb8c0...</td>\n",
       "      <td>OFERTA_703</td>\n",
       "      <td>tecnico electricista - lugar de trabajo: bogot...</td>\n",
       "      <td>'Técnico electricista'</td>\n",
       "      <td>'NO_APLICA'</td>\n",
       "      <td>'Mantenimiento preventivo y correctivo de rede...</td>\n",
       "      <td>1.0-Programas y certificaciones básicos</td>\n",
       "    </tr>\n",
       "    <tr>\n",
       "      <th>4</th>\n",
       "      <td>1123</td>\n",
       "      <td>vendedor/a - experiencia en ventes telefonicas</td>\n",
       "      <td>importante compania del sector de saneamiento ...</td>\n",
       "      <td>NI</td>\n",
       "      <td>11</td>\n",
       "      <td>44942</td>\n",
       "      <td>17/03/2023</td>\n",
       "      <td>1</td>\n",
       "      <td>2023</td>\n",
       "      <td>Privado</td>\n",
       "      <td>...</td>\n",
       "      <td>BOGOTA, D. C.</td>\n",
       "      <td>BOGOTA D.C.</td>\n",
       "      <td>$1.000.001 - $1.500.000</td>\n",
       "      <td>e1c11017d0aff28b84b75cef8b7a4d5ae5e5f140530b9c...</td>\n",
       "      <td>OFERTA_1124</td>\n",
       "      <td>vendedor/a - experiencia en ventes telefonicas...</td>\n",
       "      <td>'Vendedor'</td>\n",
       "      <td>'NO_APLICA'</td>\n",
       "      <td>'Ventas telefónicas', 'Call center'</td>\n",
       "      <td>1.0-Programas y certificaciones básicos</td>\n",
       "    </tr>\n",
       "  </tbody>\n",
       "</table>\n",
       "<p>5 rows × 26 columns</p>\n",
       "</div>"
      ],
      "text/plain": [
       "     id                                   titulo_vacante  \\\n",
       "0   180          auxiliar de servicio tecnico industrial   \n",
       "1   368                     tecnico fumigador - con moto   \n",
       "2   637                               ingeniero preventa   \n",
       "3   702  tecnico electricista - lugar de trabajo: bogota   \n",
       "4  1123   vendedor/a - experiencia en ventes telefonicas   \n",
       "\n",
       "                                         descripcion tipo_documento cod_depto  \\\n",
       "0  importante multinacional del sector energetico...             NI        11   \n",
       "1  importante empresa dedicada a la prestacion de...             NI        11   \n",
       "2  importante empresa requiere para su equipo de ...             NI        11   \n",
       "3  importante empresa requiere tecnico electricis...             NI        11   \n",
       "4  importante compania del sector de saneamiento ...             NI        11   \n",
       "\n",
       "   fecha_inicio fecha_cierre  registro_mes registro_ano tipo1prestador  ...  \\\n",
       "0         44942   30/01/2023             1         2023        Privado  ...   \n",
       "1         44945   30/01/2023             1         2023        Privado  ...   \n",
       "2         44950   30/01/2023             1         2023        Privado  ...   \n",
       "3         44936   30/01/2023             1         2023        Privado  ...   \n",
       "4         44942   17/03/2023             1         2023        Privado  ...   \n",
       "\n",
       "           depto         mpio        rangos_salariales  \\\n",
       "0  BOGOTA, D. C.  BOGOTA D.C.  $1.500.001 - $2.000.000   \n",
       "1  BOGOTA, D. C.  BOGOTA D.C.  $1.000.001 - $1.500.000   \n",
       "2  BOGOTA, D. C.  BOGOTA D.C.  $2.000.001 - $3.000.000   \n",
       "3  BOGOTA, D. C.  BOGOTA D.C.  $1.000.001 - $1.500.000   \n",
       "4  BOGOTA, D. C.  BOGOTA D.C.  $1.000.001 - $1.500.000   \n",
       "\n",
       "                               numero_documento_anom       codigo  \\\n",
       "0  fdd3b5bff414026a8d0b7c09bc232281d192797cec6b2b...   OFERTA_181   \n",
       "1  fdd3b5bff414026a8d0b7c09bc232281d192797cec6b2b...   OFERTA_369   \n",
       "2  f1bb3499cfe1370bbf73106827e6ba0c3b6fe5c06db679...   OFERTA_638   \n",
       "3  53547f1b0955425b627d74c9865433f6ef9137a8ecb8c0...   OFERTA_703   \n",
       "4  e1c11017d0aff28b84b75cef8b7a4d5ae5e5f140530b9c...  OFERTA_1124   \n",
       "\n",
       "                                   descripcion_input  \\\n",
       "0  auxiliar de servicio tecnico industrial; impor...   \n",
       "1  tecnico fumigador - con moto; importante empre...   \n",
       "2  ingeniero preventa; importante empresa requier...   \n",
       "3  tecnico electricista - lugar de trabajo: bogot...   \n",
       "4  vendedor/a - experiencia en ventes telefonicas...   \n",
       "\n",
       "                                profesion  \\\n",
       "0  'Auxiliar servicio técnico industrial'   \n",
       "1                     'Técnico fumigador'   \n",
       "2                    'Ingeniero preventa'   \n",
       "3                  'Técnico electricista'   \n",
       "4                              'Vendedor'   \n",
       "\n",
       "                                           educacion  \\\n",
       "0                      'Mecánico', 'Electromecánico'   \n",
       "1                                        'Bachiller'   \n",
       "2  'Ingeniería electrónica', 'Mecatrónica', 'Tele...   \n",
       "3                                        'NO_APLICA'   \n",
       "4                                        'NO_APLICA'   \n",
       "\n",
       "                                       conocimientos  \\\n",
       "0  'mantenimiento de maquinaria industrial', 'man...   \n",
       "1  'Control integrado de plagas', 'Control de roe...   \n",
       "2  'Proyectos de seguridad electrónica', 'Dimensi...   \n",
       "3  'Mantenimiento preventivo y correctivo de rede...   \n",
       "4                'Ventas telefónicas', 'Call center'   \n",
       "\n",
       "                          clasif_cine_nombre  \n",
       "0       71.0-Ingeniería y profesiones afines  \n",
       "1    1.0-Programas y certificaciones básicos  \n",
       "2  41.0-Educación comercial y administración  \n",
       "3    1.0-Programas y certificaciones básicos  \n",
       "4    1.0-Programas y certificaciones básicos  \n",
       "\n",
       "[5 rows x 26 columns]"
      ]
     },
     "execution_count": 4,
     "metadata": {},
     "output_type": "execute_result"
    }
   ],
   "source": [
    "print(f\"Numero de filas: {conoc_df.shape[0]} \\nNumero de columnas: {conoc_df.shape[1]}\")\n",
    "conoc_df.head()"
   ]
  },
  {
   "cell_type": "code",
   "execution_count": 5,
   "id": "69bb33eb",
   "metadata": {},
   "outputs": [
    {
     "name": "stdout",
     "output_type": "stream",
     "text": [
      "importante multinacional del sector energetico requiere para su equipo de\n",
      "trabajo tecnico o tecnologo mecanico, electromecanico o a fines, con minimo tres\n",
      "anos de experiencia en el desarrollo de trabajos asociados con el mantenimiento\n",
      "de maquinaria industrial (no locativo), manejo de bombas de vacio, equipos de\n",
      "soldadura, mecanica hidraulica. te ofrecemosii salario:2.000.000 + prestaciones\n",
      "de ley horario de lunes a sabado - disponibilidad domingo o festivos lugar de\n",
      "trabajo tenjo cundinamarca contrato obra o labor 12 meses beneficio de casino y\n",
      "ruta\n"
     ]
    }
   ],
   "source": [
    "#descripcion de la primera vacante\n",
    "wrapped_text = textwrap.fill(conoc_df['descripcion'][0], width=80)\n",
    "print(wrapped_text)"
   ]
  },
  {
   "cell_type": "code",
   "execution_count": 6,
   "id": "dd88653c",
   "metadata": {},
   "outputs": [
    {
     "data": {
      "text/plain": [
       "\"'mantenimiento de maquinaria industrial', 'manejo de bombas de vacío', 'equipos de soldadura', 'mecánica hidráulica'\""
      ]
     },
     "execution_count": 6,
     "metadata": {},
     "output_type": "execute_result"
    }
   ],
   "source": [
    "#Conocimientos de la vacante\n",
    "conoc_df['conocimientos'][0]"
   ]
  },
  {
   "cell_type": "code",
   "execution_count": 7,
   "id": "6df2d792",
   "metadata": {},
   "outputs": [
    {
     "name": "stdout",
     "output_type": "stream",
     "text": [
      "Numero de documentos en el corpus:16508\n"
     ]
    }
   ],
   "source": [
    "#Generamos una lista con los conocimientos individuales\n",
    "#En esta version, cada documento es un conocimiento especifico\n",
    "corpus = conoc_df['conocimientos'].apply(safe_parse_conocimientos).sum()\n",
    "print(f\"Numero de documentos en el corpus:{len(corpus)}\")\n",
    "#En esta version, cada \"documento\" es un listado de conocimientos\n",
    "#conocimientos = conoc_df.conocimientos.to_list()"
   ]
  },
  {
   "cell_type": "markdown",
   "id": "bfd0e241-c382-410c-aa6a-960f487b8452",
   "metadata": {},
   "source": [
    "## Instanciar modelo"
   ]
  },
  {
   "cell_type": "code",
   "execution_count": 8,
   "id": "3f16fdb4",
   "metadata": {},
   "outputs": [],
   "source": [
    "#spamsih stop words\n",
    "nlp = spacy.blank(\"es\")\n",
    "spanish_stopwords = nlp.Defaults.stop_words\n",
    "del(nlp)"
   ]
  },
  {
   "cell_type": "markdown",
   "id": "2c798f67",
   "metadata": {},
   "source": [
    "c-TF-IDF will show you what words are most important for each topic, relative to the other topics in the corpus. This allows you to identify topic-specific terms that help characterize the content of each topic."
   ]
  },
  {
   "cell_type": "code",
   "execution_count": 11,
   "id": "50e4b108-1148-4537-ae47-e8c7e036ac7e",
   "metadata": {},
   "outputs": [
    {
     "ename": "InvalidParameterError",
     "evalue": "The 'metric' parameter of pairwise_distances must be a str among {'haversine', 'l2', 'canberra', 'braycurtis', 'wminkowski', 'matching', 'nan_euclidean', 'sokalmichener', 'chebyshev', 'correlation', 'rogerstanimoto', 'cosine', 'precomputed', 'mahalanobis', 'sqeuclidean', 'yule', 'euclidean', 'manhattan', 'russellrao', 'seuclidean', 'jaccard', 'hamming', 'minkowski', 'dice', 'l1', 'sokalsneath', 'cityblock'} or a callable. Got 'sine' instead.",
     "output_type": "error",
     "traceback": [
      "\u001b[0;31m---------------------------------------------------------------------------\u001b[0m",
      "\u001b[0;31mInvalidParameterError\u001b[0m                     Traceback (most recent call last)",
      "File \u001b[0;32m~/.virtualenvs/mainenv/lib/python3.10/site-packages/bertopic/_bertopic.py:3812\u001b[0m, in \u001b[0;36mBERTopic._cluster_embeddings\u001b[0;34m(self, umap_embeddings, documents, partial_fit, y)\u001b[0m\n\u001b[1;32m   3811\u001b[0m \u001b[38;5;28;01mtry\u001b[39;00m:\n\u001b[0;32m-> 3812\u001b[0m     \u001b[38;5;28;43mself\u001b[39;49m\u001b[38;5;241;43m.\u001b[39;49m\u001b[43mhdbscan_model\u001b[49m\u001b[38;5;241;43m.\u001b[39;49m\u001b[43mfit\u001b[49m\u001b[43m(\u001b[49m\u001b[43mumap_embeddings\u001b[49m\u001b[43m,\u001b[49m\u001b[43m \u001b[49m\u001b[43my\u001b[49m\u001b[38;5;241;43m=\u001b[39;49m\u001b[43my\u001b[49m\u001b[43m)\u001b[49m\n\u001b[1;32m   3813\u001b[0m \u001b[38;5;28;01mexcept\u001b[39;00m \u001b[38;5;167;01mTypeError\u001b[39;00m:\n",
      "File \u001b[0;32m~/.virtualenvs/mainenv/lib/python3.10/site-packages/hdbscan/hdbscan_.py:1251\u001b[0m, in \u001b[0;36mHDBSCAN.fit\u001b[0;34m(self, X, y)\u001b[0m\n\u001b[1;32m   1242\u001b[0m kwargs[\u001b[38;5;124m'\u001b[39m\u001b[38;5;124mgen_min_span_tree\u001b[39m\u001b[38;5;124m'\u001b[39m] \u001b[38;5;241m|\u001b[39m\u001b[38;5;241m=\u001b[39m \u001b[38;5;28mself\u001b[39m\u001b[38;5;241m.\u001b[39mbranch_detection_data\n\u001b[1;32m   1244\u001b[0m (\n\u001b[1;32m   1245\u001b[0m     \u001b[38;5;28mself\u001b[39m\u001b[38;5;241m.\u001b[39mlabels_,\n\u001b[1;32m   1246\u001b[0m     \u001b[38;5;28mself\u001b[39m\u001b[38;5;241m.\u001b[39mprobabilities_,\n\u001b[1;32m   1247\u001b[0m     \u001b[38;5;28mself\u001b[39m\u001b[38;5;241m.\u001b[39mcluster_persistence_,\n\u001b[1;32m   1248\u001b[0m     \u001b[38;5;28mself\u001b[39m\u001b[38;5;241m.\u001b[39m_condensed_tree,\n\u001b[1;32m   1249\u001b[0m     \u001b[38;5;28mself\u001b[39m\u001b[38;5;241m.\u001b[39m_single_linkage_tree,\n\u001b[1;32m   1250\u001b[0m     \u001b[38;5;28mself\u001b[39m\u001b[38;5;241m.\u001b[39m_min_spanning_tree,\n\u001b[0;32m-> 1251\u001b[0m ) \u001b[38;5;241m=\u001b[39m \u001b[43mhdbscan\u001b[49m\u001b[43m(\u001b[49m\u001b[43mclean_data\u001b[49m\u001b[43m,\u001b[49m\u001b[43m \u001b[49m\u001b[38;5;241;43m*\u001b[39;49m\u001b[38;5;241;43m*\u001b[39;49m\u001b[43mkwargs\u001b[49m\u001b[43m)\u001b[49m\n\u001b[1;32m   1253\u001b[0m \u001b[38;5;28;01mif\u001b[39;00m \u001b[38;5;28mself\u001b[39m\u001b[38;5;241m.\u001b[39mmetric \u001b[38;5;241m!=\u001b[39m \u001b[38;5;124m\"\u001b[39m\u001b[38;5;124mprecomputed\u001b[39m\u001b[38;5;124m\"\u001b[39m \u001b[38;5;129;01mand\u001b[39;00m \u001b[38;5;129;01mnot\u001b[39;00m \u001b[38;5;28mself\u001b[39m\u001b[38;5;241m.\u001b[39m_all_finite:\n\u001b[1;32m   1254\u001b[0m     \u001b[38;5;66;03m# remap indices to align with original data in the case of non-finite entries.\u001b[39;00m\n",
      "File \u001b[0;32m~/.virtualenvs/mainenv/lib/python3.10/site-packages/hdbscan/hdbscan_.py:834\u001b[0m, in \u001b[0;36mhdbscan\u001b[0;34m(X, min_cluster_size, min_samples, alpha, cluster_selection_epsilon, max_cluster_size, metric, p, leaf_size, algorithm, memory, approx_min_span_tree, gen_min_span_tree, core_dist_n_jobs, cluster_selection_method, allow_single_cluster, match_reference_implementation, cluster_selection_epsilon_max, **kwargs)\u001b[0m\n\u001b[1;32m    832\u001b[0m \u001b[38;5;28;01mif\u001b[39;00m issparse(X) \u001b[38;5;129;01mor\u001b[39;00m metric \u001b[38;5;129;01mnot\u001b[39;00m \u001b[38;5;129;01min\u001b[39;00m FAST_METRICS:\n\u001b[1;32m    833\u001b[0m     \u001b[38;5;66;03m# We can't do much with sparse matrices ...\u001b[39;00m\n\u001b[0;32m--> 834\u001b[0m     (single_linkage_tree, result_min_span_tree) \u001b[38;5;241m=\u001b[39m \u001b[43mmemory\u001b[49m\u001b[38;5;241;43m.\u001b[39;49m\u001b[43mcache\u001b[49m\u001b[43m(\u001b[49m\n\u001b[1;32m    835\u001b[0m \u001b[43m        \u001b[49m\u001b[43m_hdbscan_generic\u001b[49m\n\u001b[1;32m    836\u001b[0m \u001b[43m    \u001b[49m\u001b[43m)\u001b[49m\u001b[43m(\u001b[49m\u001b[43mX\u001b[49m\u001b[43m,\u001b[49m\u001b[43m \u001b[49m\u001b[43mmin_samples\u001b[49m\u001b[43m,\u001b[49m\u001b[43m \u001b[49m\u001b[43malpha\u001b[49m\u001b[43m,\u001b[49m\u001b[43m \u001b[49m\u001b[43mmetric\u001b[49m\u001b[43m,\u001b[49m\u001b[43m \u001b[49m\u001b[43mp\u001b[49m\u001b[43m,\u001b[49m\u001b[43m \u001b[49m\u001b[43mleaf_size\u001b[49m\u001b[43m,\u001b[49m\u001b[43m \u001b[49m\u001b[43mgen_min_span_tree\u001b[49m\u001b[43m,\u001b[49m\u001b[43m \u001b[49m\u001b[38;5;241;43m*\u001b[39;49m\u001b[38;5;241;43m*\u001b[39;49m\u001b[43mkwargs\u001b[49m\u001b[43m)\u001b[49m\n\u001b[1;32m    837\u001b[0m \u001b[38;5;28;01melif\u001b[39;00m metric \u001b[38;5;129;01min\u001b[39;00m KDTREE_VALID_METRICS:\n\u001b[1;32m    838\u001b[0m     \u001b[38;5;66;03m# TO DO: Need heuristic to decide when to go to boruvka;\u001b[39;00m\n\u001b[1;32m    839\u001b[0m     \u001b[38;5;66;03m# still debugging for now\u001b[39;00m\n",
      "File \u001b[0;32m~/.virtualenvs/mainenv/lib/python3.10/site-packages/joblib/memory.py:312\u001b[0m, in \u001b[0;36mNotMemorizedFunc.__call__\u001b[0;34m(self, *args, **kwargs)\u001b[0m\n\u001b[1;32m    311\u001b[0m \u001b[38;5;28;01mdef\u001b[39;00m\u001b[38;5;250m \u001b[39m\u001b[38;5;21m__call__\u001b[39m(\u001b[38;5;28mself\u001b[39m, \u001b[38;5;241m*\u001b[39margs, \u001b[38;5;241m*\u001b[39m\u001b[38;5;241m*\u001b[39mkwargs):\n\u001b[0;32m--> 312\u001b[0m     \u001b[38;5;28;01mreturn\u001b[39;00m \u001b[38;5;28;43mself\u001b[39;49m\u001b[38;5;241;43m.\u001b[39;49m\u001b[43mfunc\u001b[49m\u001b[43m(\u001b[49m\u001b[38;5;241;43m*\u001b[39;49m\u001b[43margs\u001b[49m\u001b[43m,\u001b[49m\u001b[43m \u001b[49m\u001b[38;5;241;43m*\u001b[39;49m\u001b[38;5;241;43m*\u001b[39;49m\u001b[43mkwargs\u001b[49m\u001b[43m)\u001b[49m\n",
      "File \u001b[0;32m~/.virtualenvs/mainenv/lib/python3.10/site-packages/hdbscan/hdbscan_.py:118\u001b[0m, in \u001b[0;36m_hdbscan_generic\u001b[0;34m(X, min_samples, alpha, metric, p, leaf_size, gen_min_span_tree, **kwargs)\u001b[0m\n\u001b[1;32m    117\u001b[0m \u001b[38;5;28;01melse\u001b[39;00m:\n\u001b[0;32m--> 118\u001b[0m     distance_matrix \u001b[38;5;241m=\u001b[39m \u001b[43mpairwise_distances\u001b[49m\u001b[43m(\u001b[49m\u001b[43mX\u001b[49m\u001b[43m,\u001b[49m\u001b[43m \u001b[49m\u001b[43mmetric\u001b[49m\u001b[38;5;241;43m=\u001b[39;49m\u001b[43mmetric\u001b[49m\u001b[43m,\u001b[49m\u001b[43m \u001b[49m\u001b[38;5;241;43m*\u001b[39;49m\u001b[38;5;241;43m*\u001b[39;49m\u001b[43mkwargs\u001b[49m\u001b[43m)\u001b[49m\n\u001b[1;32m    120\u001b[0m \u001b[38;5;28;01mif\u001b[39;00m issparse(distance_matrix):\n\u001b[1;32m    121\u001b[0m     \u001b[38;5;66;03m# raise TypeError('Sparse distance matrices not yet supported')\u001b[39;00m\n",
      "File \u001b[0;32m~/.virtualenvs/mainenv/lib/python3.10/site-packages/sklearn/utils/_param_validation.py:206\u001b[0m, in \u001b[0;36mvalidate_params.<locals>.decorator.<locals>.wrapper\u001b[0;34m(*args, **kwargs)\u001b[0m\n\u001b[1;32m    204\u001b[0m params \u001b[38;5;241m=\u001b[39m {k: v \u001b[38;5;28;01mfor\u001b[39;00m k, v \u001b[38;5;129;01min\u001b[39;00m params\u001b[38;5;241m.\u001b[39marguments\u001b[38;5;241m.\u001b[39mitems() \u001b[38;5;28;01mif\u001b[39;00m k \u001b[38;5;129;01mnot\u001b[39;00m \u001b[38;5;129;01min\u001b[39;00m to_ignore}\n\u001b[0;32m--> 206\u001b[0m \u001b[43mvalidate_parameter_constraints\u001b[49m\u001b[43m(\u001b[49m\n\u001b[1;32m    207\u001b[0m \u001b[43m    \u001b[49m\u001b[43mparameter_constraints\u001b[49m\u001b[43m,\u001b[49m\u001b[43m \u001b[49m\u001b[43mparams\u001b[49m\u001b[43m,\u001b[49m\u001b[43m \u001b[49m\u001b[43mcaller_name\u001b[49m\u001b[38;5;241;43m=\u001b[39;49m\u001b[43mfunc\u001b[49m\u001b[38;5;241;43m.\u001b[39;49m\u001b[38;5;18;43m__qualname__\u001b[39;49m\n\u001b[1;32m    208\u001b[0m \u001b[43m\u001b[49m\u001b[43m)\u001b[49m\n\u001b[1;32m    210\u001b[0m \u001b[38;5;28;01mtry\u001b[39;00m:\n",
      "File \u001b[0;32m~/.virtualenvs/mainenv/lib/python3.10/site-packages/sklearn/utils/_param_validation.py:98\u001b[0m, in \u001b[0;36mvalidate_parameter_constraints\u001b[0;34m(parameter_constraints, params, caller_name)\u001b[0m\n\u001b[1;32m     93\u001b[0m     constraints_str \u001b[38;5;241m=\u001b[39m (\n\u001b[1;32m     94\u001b[0m         \u001b[38;5;124mf\u001b[39m\u001b[38;5;124m\"\u001b[39m\u001b[38;5;132;01m{\u001b[39;00m\u001b[38;5;124m'\u001b[39m\u001b[38;5;124m, \u001b[39m\u001b[38;5;124m'\u001b[39m\u001b[38;5;241m.\u001b[39mjoin([\u001b[38;5;28mstr\u001b[39m(c)\u001b[38;5;250m \u001b[39m\u001b[38;5;28;01mfor\u001b[39;00m\u001b[38;5;250m \u001b[39mc\u001b[38;5;250m \u001b[39m\u001b[38;5;129;01min\u001b[39;00m\u001b[38;5;250m \u001b[39mconstraints[:\u001b[38;5;241m-\u001b[39m\u001b[38;5;241m1\u001b[39m]])\u001b[38;5;132;01m}\u001b[39;00m\u001b[38;5;124m or\u001b[39m\u001b[38;5;124m\"\u001b[39m\n\u001b[1;32m     95\u001b[0m         \u001b[38;5;124mf\u001b[39m\u001b[38;5;124m\"\u001b[39m\u001b[38;5;124m \u001b[39m\u001b[38;5;132;01m{\u001b[39;00mconstraints[\u001b[38;5;241m-\u001b[39m\u001b[38;5;241m1\u001b[39m]\u001b[38;5;132;01m}\u001b[39;00m\u001b[38;5;124m\"\u001b[39m\n\u001b[1;32m     96\u001b[0m     )\n\u001b[0;32m---> 98\u001b[0m \u001b[38;5;28;01mraise\u001b[39;00m InvalidParameterError(\n\u001b[1;32m     99\u001b[0m     \u001b[38;5;124mf\u001b[39m\u001b[38;5;124m\"\u001b[39m\u001b[38;5;124mThe \u001b[39m\u001b[38;5;132;01m{\u001b[39;00mparam_name\u001b[38;5;132;01m!r}\u001b[39;00m\u001b[38;5;124m parameter of \u001b[39m\u001b[38;5;132;01m{\u001b[39;00mcaller_name\u001b[38;5;132;01m}\u001b[39;00m\u001b[38;5;124m must be\u001b[39m\u001b[38;5;124m\"\u001b[39m\n\u001b[1;32m    100\u001b[0m     \u001b[38;5;124mf\u001b[39m\u001b[38;5;124m\"\u001b[39m\u001b[38;5;124m \u001b[39m\u001b[38;5;132;01m{\u001b[39;00mconstraints_str\u001b[38;5;132;01m}\u001b[39;00m\u001b[38;5;124m. Got \u001b[39m\u001b[38;5;132;01m{\u001b[39;00mparam_val\u001b[38;5;132;01m!r}\u001b[39;00m\u001b[38;5;124m instead.\u001b[39m\u001b[38;5;124m\"\u001b[39m\n\u001b[1;32m    101\u001b[0m )\n",
      "\u001b[0;31mInvalidParameterError\u001b[0m: The 'metric' parameter of pairwise_distances must be a str among {'haversine', 'l2', 'canberra', 'braycurtis', 'wminkowski', 'matching', 'nan_euclidean', 'sokalmichener', 'chebyshev', 'correlation', 'rogerstanimoto', 'cosine', 'precomputed', 'mahalanobis', 'sqeuclidean', 'yule', 'euclidean', 'manhattan', 'russellrao', 'seuclidean', 'jaccard', 'hamming', 'minkowski', 'dice', 'l1', 'sokalsneath', 'cityblock'} or a callable. Got 'sine' instead.",
      "\nDuring handling of the above exception, another exception occurred:\n",
      "\u001b[0;31mInvalidParameterError\u001b[0m                     Traceback (most recent call last)",
      "Cell \u001b[0;32mIn[11], line 28\u001b[0m\n\u001b[1;32m     15\u001b[0m model \u001b[38;5;241m=\u001b[39m BERTopic(\n\u001b[1;32m     16\u001b[0m     embedding_model\u001b[38;5;241m=\u001b[39membedding_model,            \u001b[38;5;66;03m# Step 1 - Extract embeddings\u001b[39;00m\n\u001b[1;32m     17\u001b[0m     umap_model\u001b[38;5;241m=\u001b[39mumap_model,                      \u001b[38;5;66;03m# Step 2 - Reduce dimensionality\u001b[39;00m\n\u001b[0;32m   (...)\u001b[0m\n\u001b[1;32m     22\u001b[0m     language\u001b[38;5;241m=\u001b[39m \u001b[38;5;124m\"\u001b[39m\u001b[38;5;124mspanish\u001b[39m\u001b[38;5;124m\"\u001b[39m\n\u001b[1;32m     23\u001b[0m     )\u001b[38;5;66;03m#\"spanish\"#\"multilingual\u001b[39;00m\n\u001b[1;32m     26\u001b[0m \u001b[38;5;66;03m#model = BERTopic(vectorizer_model=vectorizer_model,umap_model=umap_model, representation_model=representation_model,language= \"spanish\")#\"spanish\"#\"multilingual\u001b[39;00m\n\u001b[0;32m---> 28\u001b[0m topics, probabilities \u001b[38;5;241m=\u001b[39m \u001b[43mmodel\u001b[49m\u001b[38;5;241;43m.\u001b[39;49m\u001b[43mfit_transform\u001b[49m\u001b[43m(\u001b[49m\u001b[43mcorpus\u001b[49m\u001b[43m)\u001b[49m\n",
      "File \u001b[0;32m~/.virtualenvs/mainenv/lib/python3.10/site-packages/bertopic/_bertopic.py:486\u001b[0m, in \u001b[0;36mBERTopic.fit_transform\u001b[0;34m(self, documents, embeddings, images, y)\u001b[0m\n\u001b[1;32m    482\u001b[0m         umap_embeddings \u001b[38;5;241m=\u001b[39m \u001b[38;5;28mself\u001b[39m\u001b[38;5;241m.\u001b[39mumap_model\u001b[38;5;241m.\u001b[39mtransform(embeddings)\n\u001b[1;32m    484\u001b[0m \u001b[38;5;28;01mif\u001b[39;00m \u001b[38;5;28mlen\u001b[39m(documents) \u001b[38;5;241m>\u001b[39m \u001b[38;5;241m0\u001b[39m:\n\u001b[1;32m    485\u001b[0m     \u001b[38;5;66;03m# Cluster reduced embeddings\u001b[39;00m\n\u001b[0;32m--> 486\u001b[0m     documents, probabilities \u001b[38;5;241m=\u001b[39m \u001b[38;5;28;43mself\u001b[39;49m\u001b[38;5;241;43m.\u001b[39;49m\u001b[43m_cluster_embeddings\u001b[49m\u001b[43m(\u001b[49m\u001b[43mumap_embeddings\u001b[49m\u001b[43m,\u001b[49m\u001b[43m \u001b[49m\u001b[43mdocuments\u001b[49m\u001b[43m,\u001b[49m\u001b[43m \u001b[49m\u001b[43my\u001b[49m\u001b[38;5;241;43m=\u001b[39;49m\u001b[43my\u001b[49m\u001b[43m)\u001b[49m\n\u001b[1;32m    487\u001b[0m     \u001b[38;5;28;01mif\u001b[39;00m \u001b[38;5;28mself\u001b[39m\u001b[38;5;241m.\u001b[39m_is_zeroshot() \u001b[38;5;129;01mand\u001b[39;00m \u001b[38;5;28mlen\u001b[39m(assigned_documents) \u001b[38;5;241m>\u001b[39m \u001b[38;5;241m0\u001b[39m:\n\u001b[1;32m    488\u001b[0m         documents, embeddings \u001b[38;5;241m=\u001b[39m \u001b[38;5;28mself\u001b[39m\u001b[38;5;241m.\u001b[39m_combine_zeroshot_topics(\n\u001b[1;32m    489\u001b[0m             documents, embeddings, assigned_documents, assigned_embeddings\n\u001b[1;32m    490\u001b[0m         )\n",
      "File \u001b[0;32m~/.virtualenvs/mainenv/lib/python3.10/site-packages/bertopic/_bertopic.py:3814\u001b[0m, in \u001b[0;36mBERTopic._cluster_embeddings\u001b[0;34m(self, umap_embeddings, documents, partial_fit, y)\u001b[0m\n\u001b[1;32m   3812\u001b[0m     \u001b[38;5;28mself\u001b[39m\u001b[38;5;241m.\u001b[39mhdbscan_model\u001b[38;5;241m.\u001b[39mfit(umap_embeddings, y\u001b[38;5;241m=\u001b[39my)\n\u001b[1;32m   3813\u001b[0m \u001b[38;5;28;01mexcept\u001b[39;00m \u001b[38;5;167;01mTypeError\u001b[39;00m:\n\u001b[0;32m-> 3814\u001b[0m     \u001b[38;5;28;43mself\u001b[39;49m\u001b[38;5;241;43m.\u001b[39;49m\u001b[43mhdbscan_model\u001b[49m\u001b[38;5;241;43m.\u001b[39;49m\u001b[43mfit\u001b[49m\u001b[43m(\u001b[49m\u001b[43mumap_embeddings\u001b[49m\u001b[43m)\u001b[49m\n\u001b[1;32m   3816\u001b[0m \u001b[38;5;28;01mtry\u001b[39;00m:\n\u001b[1;32m   3817\u001b[0m     labels \u001b[38;5;241m=\u001b[39m \u001b[38;5;28mself\u001b[39m\u001b[38;5;241m.\u001b[39mhdbscan_model\u001b[38;5;241m.\u001b[39mlabels_\n",
      "File \u001b[0;32m~/.virtualenvs/mainenv/lib/python3.10/site-packages/hdbscan/hdbscan_.py:1251\u001b[0m, in \u001b[0;36mHDBSCAN.fit\u001b[0;34m(self, X, y)\u001b[0m\n\u001b[1;32m   1241\u001b[0m kwargs\u001b[38;5;241m.\u001b[39mupdate(\u001b[38;5;28mself\u001b[39m\u001b[38;5;241m.\u001b[39m_metric_kwargs)\n\u001b[1;32m   1242\u001b[0m kwargs[\u001b[38;5;124m'\u001b[39m\u001b[38;5;124mgen_min_span_tree\u001b[39m\u001b[38;5;124m'\u001b[39m] \u001b[38;5;241m|\u001b[39m\u001b[38;5;241m=\u001b[39m \u001b[38;5;28mself\u001b[39m\u001b[38;5;241m.\u001b[39mbranch_detection_data\n\u001b[1;32m   1244\u001b[0m (\n\u001b[1;32m   1245\u001b[0m     \u001b[38;5;28mself\u001b[39m\u001b[38;5;241m.\u001b[39mlabels_,\n\u001b[1;32m   1246\u001b[0m     \u001b[38;5;28mself\u001b[39m\u001b[38;5;241m.\u001b[39mprobabilities_,\n\u001b[1;32m   1247\u001b[0m     \u001b[38;5;28mself\u001b[39m\u001b[38;5;241m.\u001b[39mcluster_persistence_,\n\u001b[1;32m   1248\u001b[0m     \u001b[38;5;28mself\u001b[39m\u001b[38;5;241m.\u001b[39m_condensed_tree,\n\u001b[1;32m   1249\u001b[0m     \u001b[38;5;28mself\u001b[39m\u001b[38;5;241m.\u001b[39m_single_linkage_tree,\n\u001b[1;32m   1250\u001b[0m     \u001b[38;5;28mself\u001b[39m\u001b[38;5;241m.\u001b[39m_min_spanning_tree,\n\u001b[0;32m-> 1251\u001b[0m ) \u001b[38;5;241m=\u001b[39m \u001b[43mhdbscan\u001b[49m\u001b[43m(\u001b[49m\u001b[43mclean_data\u001b[49m\u001b[43m,\u001b[49m\u001b[43m \u001b[49m\u001b[38;5;241;43m*\u001b[39;49m\u001b[38;5;241;43m*\u001b[39;49m\u001b[43mkwargs\u001b[49m\u001b[43m)\u001b[49m\n\u001b[1;32m   1253\u001b[0m \u001b[38;5;28;01mif\u001b[39;00m \u001b[38;5;28mself\u001b[39m\u001b[38;5;241m.\u001b[39mmetric \u001b[38;5;241m!=\u001b[39m \u001b[38;5;124m\"\u001b[39m\u001b[38;5;124mprecomputed\u001b[39m\u001b[38;5;124m\"\u001b[39m \u001b[38;5;129;01mand\u001b[39;00m \u001b[38;5;129;01mnot\u001b[39;00m \u001b[38;5;28mself\u001b[39m\u001b[38;5;241m.\u001b[39m_all_finite:\n\u001b[1;32m   1254\u001b[0m     \u001b[38;5;66;03m# remap indices to align with original data in the case of non-finite entries.\u001b[39;00m\n\u001b[1;32m   1255\u001b[0m     \u001b[38;5;28mself\u001b[39m\u001b[38;5;241m.\u001b[39m_condensed_tree \u001b[38;5;241m=\u001b[39m remap_condensed_tree(\n\u001b[1;32m   1256\u001b[0m         \u001b[38;5;28mself\u001b[39m\u001b[38;5;241m.\u001b[39m_condensed_tree, internal_to_raw, outliers\n\u001b[1;32m   1257\u001b[0m     )\n",
      "File \u001b[0;32m~/.virtualenvs/mainenv/lib/python3.10/site-packages/hdbscan/hdbscan_.py:834\u001b[0m, in \u001b[0;36mhdbscan\u001b[0;34m(X, min_cluster_size, min_samples, alpha, cluster_selection_epsilon, max_cluster_size, metric, p, leaf_size, algorithm, memory, approx_min_span_tree, gen_min_span_tree, core_dist_n_jobs, cluster_selection_method, allow_single_cluster, match_reference_implementation, cluster_selection_epsilon_max, **kwargs)\u001b[0m\n\u001b[1;32m    830\u001b[0m \u001b[38;5;28;01melse\u001b[39;00m:\n\u001b[1;32m    832\u001b[0m     \u001b[38;5;28;01mif\u001b[39;00m issparse(X) \u001b[38;5;129;01mor\u001b[39;00m metric \u001b[38;5;129;01mnot\u001b[39;00m \u001b[38;5;129;01min\u001b[39;00m FAST_METRICS:\n\u001b[1;32m    833\u001b[0m         \u001b[38;5;66;03m# We can't do much with sparse matrices ...\u001b[39;00m\n\u001b[0;32m--> 834\u001b[0m         (single_linkage_tree, result_min_span_tree) \u001b[38;5;241m=\u001b[39m \u001b[43mmemory\u001b[49m\u001b[38;5;241;43m.\u001b[39;49m\u001b[43mcache\u001b[49m\u001b[43m(\u001b[49m\n\u001b[1;32m    835\u001b[0m \u001b[43m            \u001b[49m\u001b[43m_hdbscan_generic\u001b[49m\n\u001b[1;32m    836\u001b[0m \u001b[43m        \u001b[49m\u001b[43m)\u001b[49m\u001b[43m(\u001b[49m\u001b[43mX\u001b[49m\u001b[43m,\u001b[49m\u001b[43m \u001b[49m\u001b[43mmin_samples\u001b[49m\u001b[43m,\u001b[49m\u001b[43m \u001b[49m\u001b[43malpha\u001b[49m\u001b[43m,\u001b[49m\u001b[43m \u001b[49m\u001b[43mmetric\u001b[49m\u001b[43m,\u001b[49m\u001b[43m \u001b[49m\u001b[43mp\u001b[49m\u001b[43m,\u001b[49m\u001b[43m \u001b[49m\u001b[43mleaf_size\u001b[49m\u001b[43m,\u001b[49m\u001b[43m \u001b[49m\u001b[43mgen_min_span_tree\u001b[49m\u001b[43m,\u001b[49m\u001b[43m \u001b[49m\u001b[38;5;241;43m*\u001b[39;49m\u001b[38;5;241;43m*\u001b[39;49m\u001b[43mkwargs\u001b[49m\u001b[43m)\u001b[49m\n\u001b[1;32m    837\u001b[0m     \u001b[38;5;28;01melif\u001b[39;00m metric \u001b[38;5;129;01min\u001b[39;00m KDTREE_VALID_METRICS:\n\u001b[1;32m    838\u001b[0m         \u001b[38;5;66;03m# TO DO: Need heuristic to decide when to go to boruvka;\u001b[39;00m\n\u001b[1;32m    839\u001b[0m         \u001b[38;5;66;03m# still debugging for now\u001b[39;00m\n\u001b[1;32m    840\u001b[0m         \u001b[38;5;28;01mif\u001b[39;00m X\u001b[38;5;241m.\u001b[39mshape[\u001b[38;5;241m1\u001b[39m] \u001b[38;5;241m>\u001b[39m \u001b[38;5;241m60\u001b[39m:\n",
      "File \u001b[0;32m~/.virtualenvs/mainenv/lib/python3.10/site-packages/joblib/memory.py:312\u001b[0m, in \u001b[0;36mNotMemorizedFunc.__call__\u001b[0;34m(self, *args, **kwargs)\u001b[0m\n\u001b[1;32m    311\u001b[0m \u001b[38;5;28;01mdef\u001b[39;00m\u001b[38;5;250m \u001b[39m\u001b[38;5;21m__call__\u001b[39m(\u001b[38;5;28mself\u001b[39m, \u001b[38;5;241m*\u001b[39margs, \u001b[38;5;241m*\u001b[39m\u001b[38;5;241m*\u001b[39mkwargs):\n\u001b[0;32m--> 312\u001b[0m     \u001b[38;5;28;01mreturn\u001b[39;00m \u001b[38;5;28;43mself\u001b[39;49m\u001b[38;5;241;43m.\u001b[39;49m\u001b[43mfunc\u001b[49m\u001b[43m(\u001b[49m\u001b[38;5;241;43m*\u001b[39;49m\u001b[43margs\u001b[49m\u001b[43m,\u001b[49m\u001b[43m \u001b[49m\u001b[38;5;241;43m*\u001b[39;49m\u001b[38;5;241;43m*\u001b[39;49m\u001b[43mkwargs\u001b[49m\u001b[43m)\u001b[49m\n",
      "File \u001b[0;32m~/.virtualenvs/mainenv/lib/python3.10/site-packages/hdbscan/hdbscan_.py:118\u001b[0m, in \u001b[0;36m_hdbscan_generic\u001b[0;34m(X, min_samples, alpha, metric, p, leaf_size, gen_min_span_tree, **kwargs)\u001b[0m\n\u001b[1;32m    116\u001b[0m     distance_matrix \u001b[38;5;241m=\u001b[39m X\u001b[38;5;241m.\u001b[39mcopy()\n\u001b[1;32m    117\u001b[0m \u001b[38;5;28;01melse\u001b[39;00m:\n\u001b[0;32m--> 118\u001b[0m     distance_matrix \u001b[38;5;241m=\u001b[39m \u001b[43mpairwise_distances\u001b[49m\u001b[43m(\u001b[49m\u001b[43mX\u001b[49m\u001b[43m,\u001b[49m\u001b[43m \u001b[49m\u001b[43mmetric\u001b[49m\u001b[38;5;241;43m=\u001b[39;49m\u001b[43mmetric\u001b[49m\u001b[43m,\u001b[49m\u001b[43m \u001b[49m\u001b[38;5;241;43m*\u001b[39;49m\u001b[38;5;241;43m*\u001b[39;49m\u001b[43mkwargs\u001b[49m\u001b[43m)\u001b[49m\n\u001b[1;32m    120\u001b[0m \u001b[38;5;28;01mif\u001b[39;00m issparse(distance_matrix):\n\u001b[1;32m    121\u001b[0m     \u001b[38;5;66;03m# raise TypeError('Sparse distance matrices not yet supported')\u001b[39;00m\n\u001b[1;32m    122\u001b[0m     \u001b[38;5;28;01mreturn\u001b[39;00m _hdbscan_sparse_distance_matrix(\n\u001b[1;32m    123\u001b[0m         distance_matrix,\n\u001b[1;32m    124\u001b[0m         min_samples,\n\u001b[0;32m   (...)\u001b[0m\n\u001b[1;32m    130\u001b[0m         \u001b[38;5;241m*\u001b[39m\u001b[38;5;241m*\u001b[39mkwargs\n\u001b[1;32m    131\u001b[0m     )\n",
      "File \u001b[0;32m~/.virtualenvs/mainenv/lib/python3.10/site-packages/sklearn/utils/_param_validation.py:206\u001b[0m, in \u001b[0;36mvalidate_params.<locals>.decorator.<locals>.wrapper\u001b[0;34m(*args, **kwargs)\u001b[0m\n\u001b[1;32m    203\u001b[0m to_ignore \u001b[38;5;241m+\u001b[39m\u001b[38;5;241m=\u001b[39m [\u001b[38;5;124m\"\u001b[39m\u001b[38;5;124mself\u001b[39m\u001b[38;5;124m\"\u001b[39m, \u001b[38;5;124m\"\u001b[39m\u001b[38;5;124mcls\u001b[39m\u001b[38;5;124m\"\u001b[39m]\n\u001b[1;32m    204\u001b[0m params \u001b[38;5;241m=\u001b[39m {k: v \u001b[38;5;28;01mfor\u001b[39;00m k, v \u001b[38;5;129;01min\u001b[39;00m params\u001b[38;5;241m.\u001b[39marguments\u001b[38;5;241m.\u001b[39mitems() \u001b[38;5;28;01mif\u001b[39;00m k \u001b[38;5;129;01mnot\u001b[39;00m \u001b[38;5;129;01min\u001b[39;00m to_ignore}\n\u001b[0;32m--> 206\u001b[0m \u001b[43mvalidate_parameter_constraints\u001b[49m\u001b[43m(\u001b[49m\n\u001b[1;32m    207\u001b[0m \u001b[43m    \u001b[49m\u001b[43mparameter_constraints\u001b[49m\u001b[43m,\u001b[49m\u001b[43m \u001b[49m\u001b[43mparams\u001b[49m\u001b[43m,\u001b[49m\u001b[43m \u001b[49m\u001b[43mcaller_name\u001b[49m\u001b[38;5;241;43m=\u001b[39;49m\u001b[43mfunc\u001b[49m\u001b[38;5;241;43m.\u001b[39;49m\u001b[38;5;18;43m__qualname__\u001b[39;49m\n\u001b[1;32m    208\u001b[0m \u001b[43m\u001b[49m\u001b[43m)\u001b[49m\n\u001b[1;32m    210\u001b[0m \u001b[38;5;28;01mtry\u001b[39;00m:\n\u001b[1;32m    211\u001b[0m     \u001b[38;5;28;01mwith\u001b[39;00m config_context(\n\u001b[1;32m    212\u001b[0m         skip_parameter_validation\u001b[38;5;241m=\u001b[39m(\n\u001b[1;32m    213\u001b[0m             prefer_skip_nested_validation \u001b[38;5;129;01mor\u001b[39;00m global_skip_validation\n\u001b[1;32m    214\u001b[0m         )\n\u001b[1;32m    215\u001b[0m     ):\n",
      "File \u001b[0;32m~/.virtualenvs/mainenv/lib/python3.10/site-packages/sklearn/utils/_param_validation.py:98\u001b[0m, in \u001b[0;36mvalidate_parameter_constraints\u001b[0;34m(parameter_constraints, params, caller_name)\u001b[0m\n\u001b[1;32m     92\u001b[0m \u001b[38;5;28;01melse\u001b[39;00m:\n\u001b[1;32m     93\u001b[0m     constraints_str \u001b[38;5;241m=\u001b[39m (\n\u001b[1;32m     94\u001b[0m         \u001b[38;5;124mf\u001b[39m\u001b[38;5;124m\"\u001b[39m\u001b[38;5;132;01m{\u001b[39;00m\u001b[38;5;124m'\u001b[39m\u001b[38;5;124m, \u001b[39m\u001b[38;5;124m'\u001b[39m\u001b[38;5;241m.\u001b[39mjoin([\u001b[38;5;28mstr\u001b[39m(c)\u001b[38;5;250m \u001b[39m\u001b[38;5;28;01mfor\u001b[39;00m\u001b[38;5;250m \u001b[39mc\u001b[38;5;250m \u001b[39m\u001b[38;5;129;01min\u001b[39;00m\u001b[38;5;250m \u001b[39mconstraints[:\u001b[38;5;241m-\u001b[39m\u001b[38;5;241m1\u001b[39m]])\u001b[38;5;132;01m}\u001b[39;00m\u001b[38;5;124m or\u001b[39m\u001b[38;5;124m\"\u001b[39m\n\u001b[1;32m     95\u001b[0m         \u001b[38;5;124mf\u001b[39m\u001b[38;5;124m\"\u001b[39m\u001b[38;5;124m \u001b[39m\u001b[38;5;132;01m{\u001b[39;00mconstraints[\u001b[38;5;241m-\u001b[39m\u001b[38;5;241m1\u001b[39m]\u001b[38;5;132;01m}\u001b[39;00m\u001b[38;5;124m\"\u001b[39m\n\u001b[1;32m     96\u001b[0m     )\n\u001b[0;32m---> 98\u001b[0m \u001b[38;5;28;01mraise\u001b[39;00m InvalidParameterError(\n\u001b[1;32m     99\u001b[0m     \u001b[38;5;124mf\u001b[39m\u001b[38;5;124m\"\u001b[39m\u001b[38;5;124mThe \u001b[39m\u001b[38;5;132;01m{\u001b[39;00mparam_name\u001b[38;5;132;01m!r}\u001b[39;00m\u001b[38;5;124m parameter of \u001b[39m\u001b[38;5;132;01m{\u001b[39;00mcaller_name\u001b[38;5;132;01m}\u001b[39;00m\u001b[38;5;124m must be\u001b[39m\u001b[38;5;124m\"\u001b[39m\n\u001b[1;32m    100\u001b[0m     \u001b[38;5;124mf\u001b[39m\u001b[38;5;124m\"\u001b[39m\u001b[38;5;124m \u001b[39m\u001b[38;5;132;01m{\u001b[39;00mconstraints_str\u001b[38;5;132;01m}\u001b[39;00m\u001b[38;5;124m. Got \u001b[39m\u001b[38;5;132;01m{\u001b[39;00mparam_val\u001b[38;5;132;01m!r}\u001b[39;00m\u001b[38;5;124m instead.\u001b[39m\u001b[38;5;124m\"\u001b[39m\n\u001b[1;32m    101\u001b[0m )\n",
      "\u001b[0;31mInvalidParameterError\u001b[0m: The 'metric' parameter of pairwise_distances must be a str among {'haversine', 'l2', 'canberra', 'braycurtis', 'wminkowski', 'matching', 'nan_euclidean', 'sokalmichener', 'chebyshev', 'correlation', 'rogerstanimoto', 'cosine', 'precomputed', 'mahalanobis', 'sqeuclidean', 'yule', 'euclidean', 'manhattan', 'russellrao', 'seuclidean', 'jaccard', 'hamming', 'minkowski', 'dice', 'l1', 'sokalsneath', 'cityblock'} or a callable. Got 'sine' instead."
     ]
    }
   ],
   "source": [
    "#Extract embeddings\n",
    "embedding_model = SentenceTransformer(\"all-MiniLM-L6-v2\")\n",
    "#UMAP para reducir la dimensionalidad de los embeddings\n",
    "umap_model = UMAP(n_neighbors=15, n_components=5, min_dist=0.0, metric='cosine', random_state=123)\n",
    "#Clusterizador de emebeddings\n",
    "hdbscan_model = HDBSCAN(min_cluster_size=50, metric='sine', cluster_selection_method='eom', prediction_data=True)\n",
    "#Tokenizador de topicos\n",
    "vectorizer_model = CountVectorizer(stop_words=list(spanish_stopwords), min_df=2, ngram_range=(1,3))\n",
    "#Create topic representation\n",
    "ctfidf_model = ClassTfidfTransformer()\n",
    "#representacion fine-tuned de bert topic:\n",
    "representation_model = KeyBERTInspired()\n",
    "\n",
    "\n",
    "model = BERTopic(\n",
    "    embedding_model=embedding_model,            # Step 1 - Extract embeddings\n",
    "    umap_model=umap_model,                      # Step 2 - Reduce dimensionality\n",
    "    hdbscan_model=hdbscan_model,                # Step 3 - Cluster reduced embeddings\n",
    "    vectorizer_model=vectorizer_model,          # Step 4 - Tokenize topics\n",
    "    ctfidf_model=ctfidf_model,                  # Step 5 - Extract topic words\n",
    "    representation_model=representation_model,  # Step 6 - (Optional) Fine-tune topic representations\n",
    "    language= \"spanish\"\n",
    "    )#\"spanish\"#\"multilingual\n",
    "\n",
    "\n",
    "#model = BERTopic(vectorizer_model=vectorizer_model,umap_model=umap_model, representation_model=representation_model,language= \"spanish\")#\"spanish\"#\"multilingual\n",
    "\n",
    "topics, probabilities = model.fit_transform(corpus)\n"
   ]
  },
  {
   "cell_type": "code",
   "execution_count": null,
   "id": "c1c9d9fc",
   "metadata": {},
   "outputs": [
    {
     "name": "stdout",
     "output_type": "stream",
     "text": [
      "Numero de topicos: 94\n",
      "Ejemplo te topico:\n",
      "\n"
     ]
    },
    {
     "data": {
      "text/plain": [
       "[('ambientales seguimiento', np.float32(0.88842607)),\n",
       " ('ambientales licenciamiento', np.float32(0.88002324)),\n",
       " ('estudios ambientales', np.float32(0.87770194)),\n",
       " ('ambientales', np.float32(0.8560213)),\n",
       " ('elaboración estudios ambientales', np.float32(0.8471186)),\n",
       " ('ambiental seguimiento', np.float32(0.83231235)),\n",
       " ('ambiental elaboración', np.float32(0.8288516)),\n",
       " ('protección ambiental', np.float32(0.8222429)),\n",
       " ('licencias ambientales', np.float32(0.81547165)),\n",
       " ('ambiental proyectos', np.float32(0.79367656))]"
      ]
     },
     "execution_count": 25,
     "metadata": {},
     "output_type": "execute_result"
    }
   ],
   "source": [
    "print(f\"Numero de topicos: {len(model.get_topics())}\")\n",
    "print(\"Ejemplo te topico:\\n\")"
   ]
  },
  {
   "cell_type": "code",
   "execution_count": 26,
   "id": "3c472eb2",
   "metadata": {},
   "outputs": [
    {
     "name": "stdout",
     "output_type": "stream",
     "text": [
      "Outliers:\n",
      "\n"
     ]
    },
    {
     "data": {
      "text/plain": [
       "[('paquete office', np.float32(0.9078065)),\n",
       " ('paquete', np.float32(0.7176398)),\n",
       " ('office', np.float32(0.5236668)),\n",
       " ('soporte', np.float32(0.48858148)),\n",
       " ('soporte técnico', np.float32(0.46840516)),\n",
       " ('sistemas', np.float32(0.46502215)),\n",
       " ('corte', np.float32(0.45178977)),\n",
       " ('sistema', np.float32(0.44529915)),\n",
       " ('pruebas', np.float32(0.43587822)),\n",
       " ('sistemas integrados gestión', np.float32(0.41668606))]"
      ]
     },
     "execution_count": 26,
     "metadata": {},
     "output_type": "execute_result"
    }
   ],
   "source": [
    "#outliers\n",
    "print(\"Outliers:\\n\")\n",
    "model.get_topic( -1 )"
   ]
  },
  {
   "cell_type": "code",
   "execution_count": null,
   "id": "c7f78efe-96b1-4e8e-91c2-856266874b9c",
   "metadata": {},
   "outputs": [],
   "source": [
    "#reduced_topics=model.reduce_outliers(corpus,topics)\n",
    "#model.update_topics(corpus,topics=reduced_topics)"
   ]
  },
  {
   "cell_type": "markdown",
   "id": "_9REKqtwH0U9",
   "metadata": {
    "id": "_9REKqtwH0U9"
   },
   "source": [
    "# Visualizar"
   ]
  },
  {
   "cell_type": "code",
   "execution_count": 28,
   "id": "27eabdb0",
   "metadata": {},
   "outputs": [
    {
     "data": {
      "application/vnd.plotly.v1+json": {
       "config": {
        "plotlyServerURL": "https://plot.ly"
       },
       "data": [
        {
         "customdata": [
          [
           0,
           "sistemas eléctricos | eléctricos sistemas | eléctrico sistemas | eléctricas sistemas | electricos mantenimiento",
           644
          ],
          [
           1,
           "ambientales seguimiento | ambientales licenciamiento | estudios ambientales | ambientales | elaboración estudios ambientales",
           445
          ],
          [
           2,
           "mantenimiento redes eléctricas | mantenimiento redes electricas | diseño redes eléctricas | eléctricas mantenimiento | redes eléctricas redes",
           413
          ],
          [
           3,
           "software | software diseño | programadas | software especializado | software diseño asistido",
           393
          ],
          [
           4,
           "gestion ambiental | gestión ambiental | gestión ambiental gestión | gestión ambiental gestion | ambiental gestión",
           261
          ],
          [
           5,
           "comercial técnico | asesoramiento | técnico | tecnico | tecnológico",
           250
          ],
          [
           6,
           "manejo informes | manejo residuos | manejo archivo | manejo proyectos | manejo proveedores",
           228
          ],
          [
           7,
           "acompañamiento procesos | seguimiento procesos | procesos compras | procesos procedimientos | proyectos procesos",
           220
          ],
          [
           8,
           "seguridad salud trabajo | salud seguridad trabajo | salud trabajo seguridad | sistemas seguridad | gestión seguridad salud",
           196
          ],
          [
           9,
           "trabajo | trabajo seguro | trabajos | trabajo alturas trabajo | trabajo alturas trabajos",
           182
          ],
          [
           10,
           "normas iso | iso 9001 14001 | iso 9001 | 14001 iso 45001 | normas",
           167
          ],
          [
           11,
           "equipos | equipos mantenimiento equipos | equipos internos | diseño equipos | seguimiento equipos",
           165
          ],
          [
           12,
           "materiales | listas materiales | manejo materiales | material | fabricación",
           159
          ],
          [
           13,
           "sistemas control | control sistemas | sistemas control acceso | seguimiento controles | controles acceso",
           158
          ],
          [
           14,
           "tratamiento aguas | tratamiento agua | sistemas tratamiento aguas | agua mantenimiento | agua",
           155
          ],
          [
           15,
           "licencia conducción | licencia conducción b1 | licencia conducir | conduccion | conducción",
           149
          ],
          [
           16,
           "vehículos | electricos | eléctricos | eléctricos repuestos | eléctricos proyectos",
           147
          ],
          [
           17,
           "sector oil gas | sector oil | oil gas sistema | oil gas | sector",
           144
          ],
          [
           18,
           "excel intermedio | excel | office excel | excel básico | intermedio",
           139
          ],
          [
           19,
           "recopilación información | actualización información | sistemas informacion | sistemas información | elaboracion informes",
           133
          ],
          [
           20,
           "energía | energia | energias | energías | energía eficiente",
           132
          ],
          [
           21,
           "energético seguimiento | energético | energetico | energéticos | sector energetico",
           131
          ],
          [
           22,
           "oportunidades negocios | negocios | negocio | identificación oportunidades negocios | negocio elaboración",
           131
          ],
          [
           23,
           "autocad | autocad software | automotriz | civil 3d | 3d",
           130
          ],
          [
           24,
           "redes electricas | redes eléctricas | eléctricas redes | redes eléctricas redes | eléctricas redes electricas",
           127
          ],
          [
           25,
           "excel avanzado | excel | office avanzado | avanzado c1 | avanzado",
           124
          ],
          [
           26,
           "ventas | ventas ventas | venta | ventas venta | ductos",
           122
          ],
          [
           27,
           "presupuestos | prestaciones | presupuestal | prevencion | prevención",
           120
          ],
          [
           28,
           "fotovoltaicos sistemas | componentes fotovoltaicos | fotovoltaicos | fotovoltaico | fotovoltaicas",
           118
          ],
          [
           29,
           "potencia sistemas | sistemas potencia | sistemas distribución | seguimiento sistema | sistemas comunicaciones",
           115
          ],
          [
           30,
           "ventas ventas | ventas venta | ventas energía | ventas | venta",
           115
          ],
          [
           31,
           "obra | obra interventoría obra | obra interventoría | obra civil | obra proyectos",
           115
          ],
          [
           32,
           "cableado estructurado | estructurado cableado | cableado estructurado cableado | cableado sistemas | cableado instalación",
           114
          ],
          [
           33,
           "radio | wlan | audio | wifi | wan wlan",
           114
          ],
          [
           34,
           "mantenimiento | mantenimiento mantenimiento | mantenimientos | mantenimiento operación | mantenimiento mejora",
           110
          ],
          [
           35,
           "estrategias comerciales | estrategias | estrategia | estratégicos | estratégicas",
           109
          ],
          [
           36,
           "certificación | certificacion | certificaciones | certificación técnica | procesos certificación",
           107
          ],
          [
           37,
           "mantenimiento preventivo correctivo | mantenimiento correctivo preventivo | preventivo mantenimiento preventivo | preventivo mantenimiento | mantenimiento preventivo",
           104
          ],
          [
           38,
           "baja | tendido cableado | cableado eléctrico | tendido redes eléctricas | media",
           103
          ],
          [
           39,
           "seguridad salud trabajo | salud seguridad trabajo | salud trabajo seguridad | trabajo seguridad | seguridad trabajo",
           102
          ],
          [
           40,
           "auditorias | auditorías | auditorías externas | internas | internas externas",
           101
          ],
          [
           41,
           "ingles intermedio | inglés intermedio | intermedio | intermedio alto | inglés",
           97
          ],
          [
           42,
           "motores eléctricos mantenimiento | motores electricos | motores eléctricos | correctivo motores eléctricos | generadores motores eléctricos",
           95
          ],
          [
           43,
           "clientes potenciales | relaciones clientes | clientes seguimiento | clientes elaboración | clientes comunicación",
           94
          ],
          [
           44,
           "análisis datos | datos analisis | datos sistemas | datos estadística | mantenimiento datos",
           90
          ],
          [
           45,
           "árboles | árboles césped | poda | arreglo | representación",
           89
          ],
          [
           46,
           "capacitaciones | capacitacion | capacitación | capacidad | seguridad capacitación",
           88
          ],
          [
           47,
           "tableros | tableros electricos | tableros eléctricos | mantenimiento tableros | tableros control",
           86
          ],
          [
           48,
           "hidráulicos | hidraulica | hidráulica | hidráulicas | hidraulicas",
           84
          ],
          [
           49,
           "mantenimiento maquinaria | reparacion maquinaria | maquinaria | máquinas | maquinas",
           82
          ],
          [
           50,
           "limpieza | limpias | limpieza desinfección | limpieza lubricación | inspección",
           82
          ],
          [
           51,
           "paneles solares | solares | paneles | solar | sistemas solares",
           82
          ],
          [
           52,
           "coordinación actividades | coordinacion actividades | ejecución actividades | actividades | actividades análisis",
           81
          ],
          [
           53,
           "cliente atencion | cliente atención | atención cliente | cliente | atencion",
           81
          ],
          [
           54,
           "revisión | revision | revision actualizacion | recepción revisión | elaboración revisión",
           79
          ],
          [
           55,
           "recoleccion | recolección | disposición residuos | clasificación residuos | reciclaje",
           78
          ],
          [
           56,
           "instalacion | instalación | instalaciones | instalaciones instalaciones | instalación conexión",
           74
          ],
          [
           57,
           "energías renovables | energía renovable | renovables | renovable | energias",
           73
          ],
          [
           58,
           "eléctricas instalaciones | electricas instalación | eléctricas instalacion | eléctricas instalación | instalación eléctrica",
           73
          ],
          [
           59,
           "indicadores gestión | gestión indicadores | gestion seguimiento | gestión seguimiento | gestión gestión",
           72
          ],
          [
           60,
           "planes | planes acción | ejecución planes | planes gestion | planeación",
           72
          ],
          [
           61,
           "ccsp | ccna | csp | tic | vpc",
           71
          ],
          [
           62,
           "personal manejo | manejo | técnicos manejo | inducción personal | personas",
           70
          ],
          [
           63,
           "cableado estructurado | estructurado cableado | cableado estructurado cableado | cableado | estructurado",
           70
          ],
          [
           64,
           "alturas curso coordinador | coordinador alturas | curso coordinador | alturas curso | coordinación",
           69
          ],
          [
           65,
           "productos | presentación productos | especificaciones productos | producto | productos eficiencia",
           69
          ],
          [
           66,
           "ambiental cumplimiento | legal ambiental | cumplimiento requisitos legales | cumplimiento | ambiental elaboración",
           68
          ],
          [
           67,
           "iso 14001 | iso 14000 | 14001 iso | iso 14001 iso | iso 14000 iso",
           68
          ],
          [
           68,
           "trabajo alturas | trabajo altura | alturas trabajo | trabajo alturas trabajo | trabajo alturas trabajos",
           66
          ],
          [
           69,
           "soldadura | soldadura tig | soldadura tig miller | eléctrica | proceso",
           65
          ],
          [
           70,
           "sap | software | analytics | web | gestión",
           64
          ],
          [
           71,
           "sg sst | sg sst sistema | sg ssta | sg sst licencia | sgsst",
           63
          ],
          [
           72,
           "logística | logistica | logístico | eventos | procesos",
           62
          ],
          [
           73,
           "ambiental normativas | ambientales normas | normatividad | calidad ambiental | normativas",
           60
          ],
          [
           74,
           "herramientas ofimáticas | herramientas ofimaticas | ofimáticas herramientas | herramientas ofimáticas herramientas | herramientas",
           60
          ],
          [
           75,
           "instalación redes eléctricas | instalacion redes electricas | instalaciones redes electricas | redes eléctricas instalación | eléctricas instalaciones",
           58
          ],
          [
           76,
           "mantenimiento preventivo | preventivo mantenimiento | mantenimiento preventivo mantenimiento | preventivo mantenimiento preventivo | mantenimiento",
           58
          ],
          [
           77,
           "proyectos gestion | proyectos gestión | gestión proyectos | gestion proyectos | procesos gestión",
           58
          ],
          [
           78,
           "manejo herramientas | herramientas manejo | manejo herramientas equipos | equipos manejo herramientas | mantenimiento herramientas",
           57
          ],
          [
           79,
           "sector eléctrico | sector | sector publico | comercial sector | proyectos sector",
           57
          ],
          [
           80,
           "huella carbono | huella carbono gestión | carbono gestión | carbono | huella",
           57
          ],
          [
           81,
           "derechos | derecho | inmobiliario derecho | enfermedades laborales | corporativo",
           56
          ],
          [
           82,
           "servicios públicos | servicios productos | servicios generales | productos servicios | servicios",
           56
          ],
          [
           83,
           "hvac | hvac proyectos | sistemas aire acondicionado | sistemas aire | diseño sistemas aire",
           55
          ],
          [
           84,
           "calidad gestion | calidad gestión | gestión calidad | gestion calidad | gestión calidad gestión",
           55
          ],
          [
           85,
           "proveedores | manejo proveedores | proveedores coordinación | validación | facturación",
           55
          ],
          [
           86,
           "seguimiento equipos | equipos | energía equipos | medición | medicion",
           54
          ],
          [
           87,
           "administrativos | administrativo | administrativa | administración | administracion",
           54
          ],
          [
           88,
           "aplicativos |  |  |  | ",
           53
          ],
          [
           89,
           "residuos hospitalarios | hospitalarios manejo | manejo residuos | hospitalarios | manejo",
           53
          ],
          [
           90,
           "contratación | seguimiento contratos | selección contratación | planeación | procesos compras",
           53
          ],
          [
           91,
           "diseño | diseno | disenos | diseños | mecánico",
           53
          ],
          [
           92,
           "ingeniería | ingenieria | ingeniería básica | ingeniería detalle | proyectos ingeniería",
           52
          ]
         ],
         "hovertemplate": "<b>Topic %{customdata[0]}</b><br>%{customdata[1]}<br>Size: %{customdata[2]}",
         "legendgroup": "",
         "marker": {
          "color": "#B0BEC5",
          "line": {
           "color": "DarkSlateGrey",
           "width": 2
          },
          "size": {
           "bdata": "hAK9AZ0BiQEFAfoA5ADcAMQAtgCnAKUAnwCeAJsAlQCTAJAAiwCFAIQAgwCDAIIAfwB8AHoAeAB2AHMAcwBzAHIAcgBuAG0AawBoAGcAZgBlAGEAXwBeAFoAWQBYAFYAVABSAFIAUgBRAFEATwBOAEoASQBJAEgASABHAEYARgBFAEUARABEAEIAQQBAAD8APgA8ADwAOgA6ADoAOQA5ADkAOAA4ADcANwA3ADYANgA1ADUANQA1ADQA",
           "dtype": "i2"
          },
          "sizemode": "area",
          "sizeref": 0.4025,
          "symbol": "circle"
         },
         "mode": "markers",
         "name": "",
         "orientation": "v",
         "showlegend": false,
         "type": "scatter",
         "x": {
          "bdata": "Vc8CQSqDDUFV7QJBr3dPQXNZDkElg/O/Mqy/wB3Z/MDnLFhA9EbEQHLgFUHuRMO/VxcNwGn1RUEwbMm/gWcrvhTCAkG1CP9A+NIIQVMYkr1OqIm/EMX6QAxSzL5jJk9BQskHQYXlCkHm9AFB5tG2v+3xSkFvS0lBe0gCQYyl+b9+Y+i+Sv5MQS6LGcDQ8aC++2i8v4ZaKcBFPgVB3C1YQHT4AMCzmoC/9xECQXwapbwgA5q/gzHHv5Es279G90RBE9H5v7CTLcBHggHADAu2wPzQ+sAdJKi8Tzelvw2E/L9wtAdBMC+Sv59HB0HzeQy+O1wDQeHlTkGZgMPAgGPovuLzLsAMbPrAnOwDwK5pF0ECR8RAmO6JQc0/UUHX50dBeWjpv+pIEUHz97rAAaMIQTAIJ8AK+/7Avau8wDApAkFpbMy/qcqzvtUrf7/T7olBE60DwOVR1r/MjLe/q7QFwH55sb9ATgHBfofqv7J6yb9yvxDA",
          "dtype": "f4"
         },
         "xaxis": "x",
         "y": {
          "bdata": "z/RIwJlcX0DPP1/AClVCwWrnW0BZ5K1AJZOSQWYDO0HNc6rAM4anQW0oSEBjybhA9XC2QNdBRsFMuQFBON/MQFdffMBGLB1BH8VvQGMdzUDyaQBBW0wfQZ+3skAnHULB5UlcwMQ5aEDUuxpBfNepQIeuSsGNSErBkmkaQXaFgkCfzt3AfOU9we2ABj66ybFAqJCzQCA87r2re2nAwHOqwJ4ofUBSof5AEehHwNhgdEEcOHNA8UEBQWz+vkCfC0XBvkjGQHEsrkB3lcVANfqUQT3/OUGdY3RBQWx9QJ9NqUCdcR3Am7gEQasNIMDo9s9Ag1J9wNIXQMHrnJFBoc7dwAnqsEAqzTlBWFe0QPUnREA2hqdBRQq5QPvNRMEcjUjBCJmkQCOXVEBkwJNBHyEZwJvLpL3XFDxB91OTQdVlRsDb/5lA9sOzQFXIAkGTCrlAaK6iQEL9rkAr+6ZArC6bQBAks0Ag5j1Bfm+rQLB0vUAd8LVA",
          "dtype": "f4"
         },
         "yaxis": "y"
        }
       ],
       "layout": {
        "annotations": [
         {
          "showarrow": false,
          "text": "D1",
          "x": -9.293844223022461,
          "y": 4.756931304931641,
          "yshift": 10
         },
         {
          "showarrow": false,
          "text": "D2",
          "x": 5.267005920410156,
          "xshift": 10,
          "y": 24.081613540649414
         }
        ],
        "height": 650,
        "hoverlabel": {
         "bgcolor": "white",
         "font": {
          "family": "Rockwell",
          "size": 16
         }
        },
        "legend": {
         "itemsizing": "constant",
         "tracegroupgap": 0
        },
        "margin": {
         "t": 60
        },
        "shapes": [
         {
          "line": {
           "color": "#CFD8DC",
           "width": 2
          },
          "type": "line",
          "x0": 5.267005920410156,
          "x1": 5.267005920410156,
          "y0": -14.567750930786133,
          "y1": 24.081613540649414
         },
         {
          "line": {
           "color": "#9E9E9E",
           "width": 2
          },
          "type": "line",
          "x0": -9.293844223022461,
          "x1": 19.827856063842773,
          "y0": 4.756931304931641,
          "y1": 4.756931304931641
         }
        ],
        "sliders": [
         {
          "active": 0,
          "pad": {
           "t": 50
          },
          "steps": [
           {
            "args": [
             {
              "marker.color": [
               [
                "red",
                "#B0BEC5",
                "#B0BEC5",
                "#B0BEC5",
                "#B0BEC5",
                "#B0BEC5",
                "#B0BEC5",
                "#B0BEC5",
                "#B0BEC5",
                "#B0BEC5",
                "#B0BEC5",
                "#B0BEC5",
                "#B0BEC5",
                "#B0BEC5",
                "#B0BEC5",
                "#B0BEC5",
                "#B0BEC5",
                "#B0BEC5",
                "#B0BEC5",
                "#B0BEC5",
                "#B0BEC5",
                "#B0BEC5",
                "#B0BEC5",
                "#B0BEC5",
                "#B0BEC5",
                "#B0BEC5",
                "#B0BEC5",
                "#B0BEC5",
                "#B0BEC5",
                "#B0BEC5",
                "#B0BEC5",
                "#B0BEC5",
                "#B0BEC5",
                "#B0BEC5",
                "#B0BEC5",
                "#B0BEC5",
                "#B0BEC5",
                "#B0BEC5",
                "#B0BEC5",
                "#B0BEC5",
                "#B0BEC5",
                "#B0BEC5",
                "#B0BEC5",
                "#B0BEC5",
                "#B0BEC5",
                "#B0BEC5",
                "#B0BEC5",
                "#B0BEC5",
                "#B0BEC5",
                "#B0BEC5",
                "#B0BEC5",
                "#B0BEC5",
                "#B0BEC5",
                "#B0BEC5",
                "#B0BEC5",
                "#B0BEC5",
                "#B0BEC5",
                "#B0BEC5",
                "#B0BEC5",
                "#B0BEC5",
                "#B0BEC5",
                "#B0BEC5",
                "#B0BEC5",
                "#B0BEC5",
                "#B0BEC5",
                "#B0BEC5",
                "#B0BEC5",
                "#B0BEC5",
                "#B0BEC5",
                "#B0BEC5",
                "#B0BEC5",
                "#B0BEC5",
                "#B0BEC5",
                "#B0BEC5",
                "#B0BEC5",
                "#B0BEC5",
                "#B0BEC5",
                "#B0BEC5",
                "#B0BEC5",
                "#B0BEC5",
                "#B0BEC5",
                "#B0BEC5",
                "#B0BEC5",
                "#B0BEC5",
                "#B0BEC5",
                "#B0BEC5",
                "#B0BEC5",
                "#B0BEC5",
                "#B0BEC5",
                "#B0BEC5",
                "#B0BEC5",
                "#B0BEC5",
                "#B0BEC5"
               ]
              ]
             }
            ],
            "label": "Topic 0",
            "method": "update"
           },
           {
            "args": [
             {
              "marker.color": [
               [
                "#B0BEC5",
                "red",
                "#B0BEC5",
                "#B0BEC5",
                "#B0BEC5",
                "#B0BEC5",
                "#B0BEC5",
                "#B0BEC5",
                "#B0BEC5",
                "#B0BEC5",
                "#B0BEC5",
                "#B0BEC5",
                "#B0BEC5",
                "#B0BEC5",
                "#B0BEC5",
                "#B0BEC5",
                "#B0BEC5",
                "#B0BEC5",
                "#B0BEC5",
                "#B0BEC5",
                "#B0BEC5",
                "#B0BEC5",
                "#B0BEC5",
                "#B0BEC5",
                "#B0BEC5",
                "#B0BEC5",
                "#B0BEC5",
                "#B0BEC5",
                "#B0BEC5",
                "#B0BEC5",
                "#B0BEC5",
                "#B0BEC5",
                "#B0BEC5",
                "#B0BEC5",
                "#B0BEC5",
                "#B0BEC5",
                "#B0BEC5",
                "#B0BEC5",
                "#B0BEC5",
                "#B0BEC5",
                "#B0BEC5",
                "#B0BEC5",
                "#B0BEC5",
                "#B0BEC5",
                "#B0BEC5",
                "#B0BEC5",
                "#B0BEC5",
                "#B0BEC5",
                "#B0BEC5",
                "#B0BEC5",
                "#B0BEC5",
                "#B0BEC5",
                "#B0BEC5",
                "#B0BEC5",
                "#B0BEC5",
                "#B0BEC5",
                "#B0BEC5",
                "#B0BEC5",
                "#B0BEC5",
                "#B0BEC5",
                "#B0BEC5",
                "#B0BEC5",
                "#B0BEC5",
                "#B0BEC5",
                "#B0BEC5",
                "#B0BEC5",
                "#B0BEC5",
                "#B0BEC5",
                "#B0BEC5",
                "#B0BEC5",
                "#B0BEC5",
                "#B0BEC5",
                "#B0BEC5",
                "#B0BEC5",
                "#B0BEC5",
                "#B0BEC5",
                "#B0BEC5",
                "#B0BEC5",
                "#B0BEC5",
                "#B0BEC5",
                "#B0BEC5",
                "#B0BEC5",
                "#B0BEC5",
                "#B0BEC5",
                "#B0BEC5",
                "#B0BEC5",
                "#B0BEC5",
                "#B0BEC5",
                "#B0BEC5",
                "#B0BEC5",
                "#B0BEC5",
                "#B0BEC5",
                "#B0BEC5"
               ]
              ]
             }
            ],
            "label": "Topic 1",
            "method": "update"
           },
           {
            "args": [
             {
              "marker.color": [
               [
                "#B0BEC5",
                "#B0BEC5",
                "red",
                "#B0BEC5",
                "#B0BEC5",
                "#B0BEC5",
                "#B0BEC5",
                "#B0BEC5",
                "#B0BEC5",
                "#B0BEC5",
                "#B0BEC5",
                "#B0BEC5",
                "#B0BEC5",
                "#B0BEC5",
                "#B0BEC5",
                "#B0BEC5",
                "#B0BEC5",
                "#B0BEC5",
                "#B0BEC5",
                "#B0BEC5",
                "#B0BEC5",
                "#B0BEC5",
                "#B0BEC5",
                "#B0BEC5",
                "#B0BEC5",
                "#B0BEC5",
                "#B0BEC5",
                "#B0BEC5",
                "#B0BEC5",
                "#B0BEC5",
                "#B0BEC5",
                "#B0BEC5",
                "#B0BEC5",
                "#B0BEC5",
                "#B0BEC5",
                "#B0BEC5",
                "#B0BEC5",
                "#B0BEC5",
                "#B0BEC5",
                "#B0BEC5",
                "#B0BEC5",
                "#B0BEC5",
                "#B0BEC5",
                "#B0BEC5",
                "#B0BEC5",
                "#B0BEC5",
                "#B0BEC5",
                "#B0BEC5",
                "#B0BEC5",
                "#B0BEC5",
                "#B0BEC5",
                "#B0BEC5",
                "#B0BEC5",
                "#B0BEC5",
                "#B0BEC5",
                "#B0BEC5",
                "#B0BEC5",
                "#B0BEC5",
                "#B0BEC5",
                "#B0BEC5",
                "#B0BEC5",
                "#B0BEC5",
                "#B0BEC5",
                "#B0BEC5",
                "#B0BEC5",
                "#B0BEC5",
                "#B0BEC5",
                "#B0BEC5",
                "#B0BEC5",
                "#B0BEC5",
                "#B0BEC5",
                "#B0BEC5",
                "#B0BEC5",
                "#B0BEC5",
                "#B0BEC5",
                "#B0BEC5",
                "#B0BEC5",
                "#B0BEC5",
                "#B0BEC5",
                "#B0BEC5",
                "#B0BEC5",
                "#B0BEC5",
                "#B0BEC5",
                "#B0BEC5",
                "#B0BEC5",
                "#B0BEC5",
                "#B0BEC5",
                "#B0BEC5",
                "#B0BEC5",
                "#B0BEC5",
                "#B0BEC5",
                "#B0BEC5",
                "#B0BEC5"
               ]
              ]
             }
            ],
            "label": "Topic 2",
            "method": "update"
           },
           {
            "args": [
             {
              "marker.color": [
               [
                "#B0BEC5",
                "#B0BEC5",
                "#B0BEC5",
                "red",
                "#B0BEC5",
                "#B0BEC5",
                "#B0BEC5",
                "#B0BEC5",
                "#B0BEC5",
                "#B0BEC5",
                "#B0BEC5",
                "#B0BEC5",
                "#B0BEC5",
                "#B0BEC5",
                "#B0BEC5",
                "#B0BEC5",
                "#B0BEC5",
                "#B0BEC5",
                "#B0BEC5",
                "#B0BEC5",
                "#B0BEC5",
                "#B0BEC5",
                "#B0BEC5",
                "#B0BEC5",
                "#B0BEC5",
                "#B0BEC5",
                "#B0BEC5",
                "#B0BEC5",
                "#B0BEC5",
                "#B0BEC5",
                "#B0BEC5",
                "#B0BEC5",
                "#B0BEC5",
                "#B0BEC5",
                "#B0BEC5",
                "#B0BEC5",
                "#B0BEC5",
                "#B0BEC5",
                "#B0BEC5",
                "#B0BEC5",
                "#B0BEC5",
                "#B0BEC5",
                "#B0BEC5",
                "#B0BEC5",
                "#B0BEC5",
                "#B0BEC5",
                "#B0BEC5",
                "#B0BEC5",
                "#B0BEC5",
                "#B0BEC5",
                "#B0BEC5",
                "#B0BEC5",
                "#B0BEC5",
                "#B0BEC5",
                "#B0BEC5",
                "#B0BEC5",
                "#B0BEC5",
                "#B0BEC5",
                "#B0BEC5",
                "#B0BEC5",
                "#B0BEC5",
                "#B0BEC5",
                "#B0BEC5",
                "#B0BEC5",
                "#B0BEC5",
                "#B0BEC5",
                "#B0BEC5",
                "#B0BEC5",
                "#B0BEC5",
                "#B0BEC5",
                "#B0BEC5",
                "#B0BEC5",
                "#B0BEC5",
                "#B0BEC5",
                "#B0BEC5",
                "#B0BEC5",
                "#B0BEC5",
                "#B0BEC5",
                "#B0BEC5",
                "#B0BEC5",
                "#B0BEC5",
                "#B0BEC5",
                "#B0BEC5",
                "#B0BEC5",
                "#B0BEC5",
                "#B0BEC5",
                "#B0BEC5",
                "#B0BEC5",
                "#B0BEC5",
                "#B0BEC5",
                "#B0BEC5",
                "#B0BEC5",
                "#B0BEC5"
               ]
              ]
             }
            ],
            "label": "Topic 3",
            "method": "update"
           },
           {
            "args": [
             {
              "marker.color": [
               [
                "#B0BEC5",
                "#B0BEC5",
                "#B0BEC5",
                "#B0BEC5",
                "red",
                "#B0BEC5",
                "#B0BEC5",
                "#B0BEC5",
                "#B0BEC5",
                "#B0BEC5",
                "#B0BEC5",
                "#B0BEC5",
                "#B0BEC5",
                "#B0BEC5",
                "#B0BEC5",
                "#B0BEC5",
                "#B0BEC5",
                "#B0BEC5",
                "#B0BEC5",
                "#B0BEC5",
                "#B0BEC5",
                "#B0BEC5",
                "#B0BEC5",
                "#B0BEC5",
                "#B0BEC5",
                "#B0BEC5",
                "#B0BEC5",
                "#B0BEC5",
                "#B0BEC5",
                "#B0BEC5",
                "#B0BEC5",
                "#B0BEC5",
                "#B0BEC5",
                "#B0BEC5",
                "#B0BEC5",
                "#B0BEC5",
                "#B0BEC5",
                "#B0BEC5",
                "#B0BEC5",
                "#B0BEC5",
                "#B0BEC5",
                "#B0BEC5",
                "#B0BEC5",
                "#B0BEC5",
                "#B0BEC5",
                "#B0BEC5",
                "#B0BEC5",
                "#B0BEC5",
                "#B0BEC5",
                "#B0BEC5",
                "#B0BEC5",
                "#B0BEC5",
                "#B0BEC5",
                "#B0BEC5",
                "#B0BEC5",
                "#B0BEC5",
                "#B0BEC5",
                "#B0BEC5",
                "#B0BEC5",
                "#B0BEC5",
                "#B0BEC5",
                "#B0BEC5",
                "#B0BEC5",
                "#B0BEC5",
                "#B0BEC5",
                "#B0BEC5",
                "#B0BEC5",
                "#B0BEC5",
                "#B0BEC5",
                "#B0BEC5",
                "#B0BEC5",
                "#B0BEC5",
                "#B0BEC5",
                "#B0BEC5",
                "#B0BEC5",
                "#B0BEC5",
                "#B0BEC5",
                "#B0BEC5",
                "#B0BEC5",
                "#B0BEC5",
                "#B0BEC5",
                "#B0BEC5",
                "#B0BEC5",
                "#B0BEC5",
                "#B0BEC5",
                "#B0BEC5",
                "#B0BEC5",
                "#B0BEC5",
                "#B0BEC5",
                "#B0BEC5",
                "#B0BEC5",
                "#B0BEC5",
                "#B0BEC5"
               ]
              ]
             }
            ],
            "label": "Topic 4",
            "method": "update"
           },
           {
            "args": [
             {
              "marker.color": [
               [
                "#B0BEC5",
                "#B0BEC5",
                "#B0BEC5",
                "#B0BEC5",
                "#B0BEC5",
                "red",
                "#B0BEC5",
                "#B0BEC5",
                "#B0BEC5",
                "#B0BEC5",
                "#B0BEC5",
                "#B0BEC5",
                "#B0BEC5",
                "#B0BEC5",
                "#B0BEC5",
                "#B0BEC5",
                "#B0BEC5",
                "#B0BEC5",
                "#B0BEC5",
                "#B0BEC5",
                "#B0BEC5",
                "#B0BEC5",
                "#B0BEC5",
                "#B0BEC5",
                "#B0BEC5",
                "#B0BEC5",
                "#B0BEC5",
                "#B0BEC5",
                "#B0BEC5",
                "#B0BEC5",
                "#B0BEC5",
                "#B0BEC5",
                "#B0BEC5",
                "#B0BEC5",
                "#B0BEC5",
                "#B0BEC5",
                "#B0BEC5",
                "#B0BEC5",
                "#B0BEC5",
                "#B0BEC5",
                "#B0BEC5",
                "#B0BEC5",
                "#B0BEC5",
                "#B0BEC5",
                "#B0BEC5",
                "#B0BEC5",
                "#B0BEC5",
                "#B0BEC5",
                "#B0BEC5",
                "#B0BEC5",
                "#B0BEC5",
                "#B0BEC5",
                "#B0BEC5",
                "#B0BEC5",
                "#B0BEC5",
                "#B0BEC5",
                "#B0BEC5",
                "#B0BEC5",
                "#B0BEC5",
                "#B0BEC5",
                "#B0BEC5",
                "#B0BEC5",
                "#B0BEC5",
                "#B0BEC5",
                "#B0BEC5",
                "#B0BEC5",
                "#B0BEC5",
                "#B0BEC5",
                "#B0BEC5",
                "#B0BEC5",
                "#B0BEC5",
                "#B0BEC5",
                "#B0BEC5",
                "#B0BEC5",
                "#B0BEC5",
                "#B0BEC5",
                "#B0BEC5",
                "#B0BEC5",
                "#B0BEC5",
                "#B0BEC5",
                "#B0BEC5",
                "#B0BEC5",
                "#B0BEC5",
                "#B0BEC5",
                "#B0BEC5",
                "#B0BEC5",
                "#B0BEC5",
                "#B0BEC5",
                "#B0BEC5",
                "#B0BEC5",
                "#B0BEC5",
                "#B0BEC5",
                "#B0BEC5"
               ]
              ]
             }
            ],
            "label": "Topic 5",
            "method": "update"
           },
           {
            "args": [
             {
              "marker.color": [
               [
                "#B0BEC5",
                "#B0BEC5",
                "#B0BEC5",
                "#B0BEC5",
                "#B0BEC5",
                "#B0BEC5",
                "red",
                "#B0BEC5",
                "#B0BEC5",
                "#B0BEC5",
                "#B0BEC5",
                "#B0BEC5",
                "#B0BEC5",
                "#B0BEC5",
                "#B0BEC5",
                "#B0BEC5",
                "#B0BEC5",
                "#B0BEC5",
                "#B0BEC5",
                "#B0BEC5",
                "#B0BEC5",
                "#B0BEC5",
                "#B0BEC5",
                "#B0BEC5",
                "#B0BEC5",
                "#B0BEC5",
                "#B0BEC5",
                "#B0BEC5",
                "#B0BEC5",
                "#B0BEC5",
                "#B0BEC5",
                "#B0BEC5",
                "#B0BEC5",
                "#B0BEC5",
                "#B0BEC5",
                "#B0BEC5",
                "#B0BEC5",
                "#B0BEC5",
                "#B0BEC5",
                "#B0BEC5",
                "#B0BEC5",
                "#B0BEC5",
                "#B0BEC5",
                "#B0BEC5",
                "#B0BEC5",
                "#B0BEC5",
                "#B0BEC5",
                "#B0BEC5",
                "#B0BEC5",
                "#B0BEC5",
                "#B0BEC5",
                "#B0BEC5",
                "#B0BEC5",
                "#B0BEC5",
                "#B0BEC5",
                "#B0BEC5",
                "#B0BEC5",
                "#B0BEC5",
                "#B0BEC5",
                "#B0BEC5",
                "#B0BEC5",
                "#B0BEC5",
                "#B0BEC5",
                "#B0BEC5",
                "#B0BEC5",
                "#B0BEC5",
                "#B0BEC5",
                "#B0BEC5",
                "#B0BEC5",
                "#B0BEC5",
                "#B0BEC5",
                "#B0BEC5",
                "#B0BEC5",
                "#B0BEC5",
                "#B0BEC5",
                "#B0BEC5",
                "#B0BEC5",
                "#B0BEC5",
                "#B0BEC5",
                "#B0BEC5",
                "#B0BEC5",
                "#B0BEC5",
                "#B0BEC5",
                "#B0BEC5",
                "#B0BEC5",
                "#B0BEC5",
                "#B0BEC5",
                "#B0BEC5",
                "#B0BEC5",
                "#B0BEC5",
                "#B0BEC5",
                "#B0BEC5",
                "#B0BEC5"
               ]
              ]
             }
            ],
            "label": "Topic 6",
            "method": "update"
           },
           {
            "args": [
             {
              "marker.color": [
               [
                "#B0BEC5",
                "#B0BEC5",
                "#B0BEC5",
                "#B0BEC5",
                "#B0BEC5",
                "#B0BEC5",
                "#B0BEC5",
                "red",
                "#B0BEC5",
                "#B0BEC5",
                "#B0BEC5",
                "#B0BEC5",
                "#B0BEC5",
                "#B0BEC5",
                "#B0BEC5",
                "#B0BEC5",
                "#B0BEC5",
                "#B0BEC5",
                "#B0BEC5",
                "#B0BEC5",
                "#B0BEC5",
                "#B0BEC5",
                "#B0BEC5",
                "#B0BEC5",
                "#B0BEC5",
                "#B0BEC5",
                "#B0BEC5",
                "#B0BEC5",
                "#B0BEC5",
                "#B0BEC5",
                "#B0BEC5",
                "#B0BEC5",
                "#B0BEC5",
                "#B0BEC5",
                "#B0BEC5",
                "#B0BEC5",
                "#B0BEC5",
                "#B0BEC5",
                "#B0BEC5",
                "#B0BEC5",
                "#B0BEC5",
                "#B0BEC5",
                "#B0BEC5",
                "#B0BEC5",
                "#B0BEC5",
                "#B0BEC5",
                "#B0BEC5",
                "#B0BEC5",
                "#B0BEC5",
                "#B0BEC5",
                "#B0BEC5",
                "#B0BEC5",
                "#B0BEC5",
                "#B0BEC5",
                "#B0BEC5",
                "#B0BEC5",
                "#B0BEC5",
                "#B0BEC5",
                "#B0BEC5",
                "#B0BEC5",
                "#B0BEC5",
                "#B0BEC5",
                "#B0BEC5",
                "#B0BEC5",
                "#B0BEC5",
                "#B0BEC5",
                "#B0BEC5",
                "#B0BEC5",
                "#B0BEC5",
                "#B0BEC5",
                "#B0BEC5",
                "#B0BEC5",
                "#B0BEC5",
                "#B0BEC5",
                "#B0BEC5",
                "#B0BEC5",
                "#B0BEC5",
                "#B0BEC5",
                "#B0BEC5",
                "#B0BEC5",
                "#B0BEC5",
                "#B0BEC5",
                "#B0BEC5",
                "#B0BEC5",
                "#B0BEC5",
                "#B0BEC5",
                "#B0BEC5",
                "#B0BEC5",
                "#B0BEC5",
                "#B0BEC5",
                "#B0BEC5",
                "#B0BEC5",
                "#B0BEC5"
               ]
              ]
             }
            ],
            "label": "Topic 7",
            "method": "update"
           },
           {
            "args": [
             {
              "marker.color": [
               [
                "#B0BEC5",
                "#B0BEC5",
                "#B0BEC5",
                "#B0BEC5",
                "#B0BEC5",
                "#B0BEC5",
                "#B0BEC5",
                "#B0BEC5",
                "red",
                "#B0BEC5",
                "#B0BEC5",
                "#B0BEC5",
                "#B0BEC5",
                "#B0BEC5",
                "#B0BEC5",
                "#B0BEC5",
                "#B0BEC5",
                "#B0BEC5",
                "#B0BEC5",
                "#B0BEC5",
                "#B0BEC5",
                "#B0BEC5",
                "#B0BEC5",
                "#B0BEC5",
                "#B0BEC5",
                "#B0BEC5",
                "#B0BEC5",
                "#B0BEC5",
                "#B0BEC5",
                "#B0BEC5",
                "#B0BEC5",
                "#B0BEC5",
                "#B0BEC5",
                "#B0BEC5",
                "#B0BEC5",
                "#B0BEC5",
                "#B0BEC5",
                "#B0BEC5",
                "#B0BEC5",
                "#B0BEC5",
                "#B0BEC5",
                "#B0BEC5",
                "#B0BEC5",
                "#B0BEC5",
                "#B0BEC5",
                "#B0BEC5",
                "#B0BEC5",
                "#B0BEC5",
                "#B0BEC5",
                "#B0BEC5",
                "#B0BEC5",
                "#B0BEC5",
                "#B0BEC5",
                "#B0BEC5",
                "#B0BEC5",
                "#B0BEC5",
                "#B0BEC5",
                "#B0BEC5",
                "#B0BEC5",
                "#B0BEC5",
                "#B0BEC5",
                "#B0BEC5",
                "#B0BEC5",
                "#B0BEC5",
                "#B0BEC5",
                "#B0BEC5",
                "#B0BEC5",
                "#B0BEC5",
                "#B0BEC5",
                "#B0BEC5",
                "#B0BEC5",
                "#B0BEC5",
                "#B0BEC5",
                "#B0BEC5",
                "#B0BEC5",
                "#B0BEC5",
                "#B0BEC5",
                "#B0BEC5",
                "#B0BEC5",
                "#B0BEC5",
                "#B0BEC5",
                "#B0BEC5",
                "#B0BEC5",
                "#B0BEC5",
                "#B0BEC5",
                "#B0BEC5",
                "#B0BEC5",
                "#B0BEC5",
                "#B0BEC5",
                "#B0BEC5",
                "#B0BEC5",
                "#B0BEC5",
                "#B0BEC5"
               ]
              ]
             }
            ],
            "label": "Topic 8",
            "method": "update"
           },
           {
            "args": [
             {
              "marker.color": [
               [
                "#B0BEC5",
                "#B0BEC5",
                "#B0BEC5",
                "#B0BEC5",
                "#B0BEC5",
                "#B0BEC5",
                "#B0BEC5",
                "#B0BEC5",
                "#B0BEC5",
                "red",
                "#B0BEC5",
                "#B0BEC5",
                "#B0BEC5",
                "#B0BEC5",
                "#B0BEC5",
                "#B0BEC5",
                "#B0BEC5",
                "#B0BEC5",
                "#B0BEC5",
                "#B0BEC5",
                "#B0BEC5",
                "#B0BEC5",
                "#B0BEC5",
                "#B0BEC5",
                "#B0BEC5",
                "#B0BEC5",
                "#B0BEC5",
                "#B0BEC5",
                "#B0BEC5",
                "#B0BEC5",
                "#B0BEC5",
                "#B0BEC5",
                "#B0BEC5",
                "#B0BEC5",
                "#B0BEC5",
                "#B0BEC5",
                "#B0BEC5",
                "#B0BEC5",
                "#B0BEC5",
                "#B0BEC5",
                "#B0BEC5",
                "#B0BEC5",
                "#B0BEC5",
                "#B0BEC5",
                "#B0BEC5",
                "#B0BEC5",
                "#B0BEC5",
                "#B0BEC5",
                "#B0BEC5",
                "#B0BEC5",
                "#B0BEC5",
                "#B0BEC5",
                "#B0BEC5",
                "#B0BEC5",
                "#B0BEC5",
                "#B0BEC5",
                "#B0BEC5",
                "#B0BEC5",
                "#B0BEC5",
                "#B0BEC5",
                "#B0BEC5",
                "#B0BEC5",
                "#B0BEC5",
                "#B0BEC5",
                "#B0BEC5",
                "#B0BEC5",
                "#B0BEC5",
                "#B0BEC5",
                "#B0BEC5",
                "#B0BEC5",
                "#B0BEC5",
                "#B0BEC5",
                "#B0BEC5",
                "#B0BEC5",
                "#B0BEC5",
                "#B0BEC5",
                "#B0BEC5",
                "#B0BEC5",
                "#B0BEC5",
                "#B0BEC5",
                "#B0BEC5",
                "#B0BEC5",
                "#B0BEC5",
                "#B0BEC5",
                "#B0BEC5",
                "#B0BEC5",
                "#B0BEC5",
                "#B0BEC5",
                "#B0BEC5",
                "#B0BEC5",
                "#B0BEC5",
                "#B0BEC5",
                "#B0BEC5"
               ]
              ]
             }
            ],
            "label": "Topic 9",
            "method": "update"
           },
           {
            "args": [
             {
              "marker.color": [
               [
                "#B0BEC5",
                "#B0BEC5",
                "#B0BEC5",
                "#B0BEC5",
                "#B0BEC5",
                "#B0BEC5",
                "#B0BEC5",
                "#B0BEC5",
                "#B0BEC5",
                "#B0BEC5",
                "red",
                "#B0BEC5",
                "#B0BEC5",
                "#B0BEC5",
                "#B0BEC5",
                "#B0BEC5",
                "#B0BEC5",
                "#B0BEC5",
                "#B0BEC5",
                "#B0BEC5",
                "#B0BEC5",
                "#B0BEC5",
                "#B0BEC5",
                "#B0BEC5",
                "#B0BEC5",
                "#B0BEC5",
                "#B0BEC5",
                "#B0BEC5",
                "#B0BEC5",
                "#B0BEC5",
                "#B0BEC5",
                "#B0BEC5",
                "#B0BEC5",
                "#B0BEC5",
                "#B0BEC5",
                "#B0BEC5",
                "#B0BEC5",
                "#B0BEC5",
                "#B0BEC5",
                "#B0BEC5",
                "#B0BEC5",
                "#B0BEC5",
                "#B0BEC5",
                "#B0BEC5",
                "#B0BEC5",
                "#B0BEC5",
                "#B0BEC5",
                "#B0BEC5",
                "#B0BEC5",
                "#B0BEC5",
                "#B0BEC5",
                "#B0BEC5",
                "#B0BEC5",
                "#B0BEC5",
                "#B0BEC5",
                "#B0BEC5",
                "#B0BEC5",
                "#B0BEC5",
                "#B0BEC5",
                "#B0BEC5",
                "#B0BEC5",
                "#B0BEC5",
                "#B0BEC5",
                "#B0BEC5",
                "#B0BEC5",
                "#B0BEC5",
                "#B0BEC5",
                "#B0BEC5",
                "#B0BEC5",
                "#B0BEC5",
                "#B0BEC5",
                "#B0BEC5",
                "#B0BEC5",
                "#B0BEC5",
                "#B0BEC5",
                "#B0BEC5",
                "#B0BEC5",
                "#B0BEC5",
                "#B0BEC5",
                "#B0BEC5",
                "#B0BEC5",
                "#B0BEC5",
                "#B0BEC5",
                "#B0BEC5",
                "#B0BEC5",
                "#B0BEC5",
                "#B0BEC5",
                "#B0BEC5",
                "#B0BEC5",
                "#B0BEC5",
                "#B0BEC5",
                "#B0BEC5",
                "#B0BEC5"
               ]
              ]
             }
            ],
            "label": "Topic 10",
            "method": "update"
           },
           {
            "args": [
             {
              "marker.color": [
               [
                "#B0BEC5",
                "#B0BEC5",
                "#B0BEC5",
                "#B0BEC5",
                "#B0BEC5",
                "#B0BEC5",
                "#B0BEC5",
                "#B0BEC5",
                "#B0BEC5",
                "#B0BEC5",
                "#B0BEC5",
                "red",
                "#B0BEC5",
                "#B0BEC5",
                "#B0BEC5",
                "#B0BEC5",
                "#B0BEC5",
                "#B0BEC5",
                "#B0BEC5",
                "#B0BEC5",
                "#B0BEC5",
                "#B0BEC5",
                "#B0BEC5",
                "#B0BEC5",
                "#B0BEC5",
                "#B0BEC5",
                "#B0BEC5",
                "#B0BEC5",
                "#B0BEC5",
                "#B0BEC5",
                "#B0BEC5",
                "#B0BEC5",
                "#B0BEC5",
                "#B0BEC5",
                "#B0BEC5",
                "#B0BEC5",
                "#B0BEC5",
                "#B0BEC5",
                "#B0BEC5",
                "#B0BEC5",
                "#B0BEC5",
                "#B0BEC5",
                "#B0BEC5",
                "#B0BEC5",
                "#B0BEC5",
                "#B0BEC5",
                "#B0BEC5",
                "#B0BEC5",
                "#B0BEC5",
                "#B0BEC5",
                "#B0BEC5",
                "#B0BEC5",
                "#B0BEC5",
                "#B0BEC5",
                "#B0BEC5",
                "#B0BEC5",
                "#B0BEC5",
                "#B0BEC5",
                "#B0BEC5",
                "#B0BEC5",
                "#B0BEC5",
                "#B0BEC5",
                "#B0BEC5",
                "#B0BEC5",
                "#B0BEC5",
                "#B0BEC5",
                "#B0BEC5",
                "#B0BEC5",
                "#B0BEC5",
                "#B0BEC5",
                "#B0BEC5",
                "#B0BEC5",
                "#B0BEC5",
                "#B0BEC5",
                "#B0BEC5",
                "#B0BEC5",
                "#B0BEC5",
                "#B0BEC5",
                "#B0BEC5",
                "#B0BEC5",
                "#B0BEC5",
                "#B0BEC5",
                "#B0BEC5",
                "#B0BEC5",
                "#B0BEC5",
                "#B0BEC5",
                "#B0BEC5",
                "#B0BEC5",
                "#B0BEC5",
                "#B0BEC5",
                "#B0BEC5",
                "#B0BEC5",
                "#B0BEC5"
               ]
              ]
             }
            ],
            "label": "Topic 11",
            "method": "update"
           },
           {
            "args": [
             {
              "marker.color": [
               [
                "#B0BEC5",
                "#B0BEC5",
                "#B0BEC5",
                "#B0BEC5",
                "#B0BEC5",
                "#B0BEC5",
                "#B0BEC5",
                "#B0BEC5",
                "#B0BEC5",
                "#B0BEC5",
                "#B0BEC5",
                "#B0BEC5",
                "red",
                "#B0BEC5",
                "#B0BEC5",
                "#B0BEC5",
                "#B0BEC5",
                "#B0BEC5",
                "#B0BEC5",
                "#B0BEC5",
                "#B0BEC5",
                "#B0BEC5",
                "#B0BEC5",
                "#B0BEC5",
                "#B0BEC5",
                "#B0BEC5",
                "#B0BEC5",
                "#B0BEC5",
                "#B0BEC5",
                "#B0BEC5",
                "#B0BEC5",
                "#B0BEC5",
                "#B0BEC5",
                "#B0BEC5",
                "#B0BEC5",
                "#B0BEC5",
                "#B0BEC5",
                "#B0BEC5",
                "#B0BEC5",
                "#B0BEC5",
                "#B0BEC5",
                "#B0BEC5",
                "#B0BEC5",
                "#B0BEC5",
                "#B0BEC5",
                "#B0BEC5",
                "#B0BEC5",
                "#B0BEC5",
                "#B0BEC5",
                "#B0BEC5",
                "#B0BEC5",
                "#B0BEC5",
                "#B0BEC5",
                "#B0BEC5",
                "#B0BEC5",
                "#B0BEC5",
                "#B0BEC5",
                "#B0BEC5",
                "#B0BEC5",
                "#B0BEC5",
                "#B0BEC5",
                "#B0BEC5",
                "#B0BEC5",
                "#B0BEC5",
                "#B0BEC5",
                "#B0BEC5",
                "#B0BEC5",
                "#B0BEC5",
                "#B0BEC5",
                "#B0BEC5",
                "#B0BEC5",
                "#B0BEC5",
                "#B0BEC5",
                "#B0BEC5",
                "#B0BEC5",
                "#B0BEC5",
                "#B0BEC5",
                "#B0BEC5",
                "#B0BEC5",
                "#B0BEC5",
                "#B0BEC5",
                "#B0BEC5",
                "#B0BEC5",
                "#B0BEC5",
                "#B0BEC5",
                "#B0BEC5",
                "#B0BEC5",
                "#B0BEC5",
                "#B0BEC5",
                "#B0BEC5",
                "#B0BEC5",
                "#B0BEC5",
                "#B0BEC5"
               ]
              ]
             }
            ],
            "label": "Topic 12",
            "method": "update"
           },
           {
            "args": [
             {
              "marker.color": [
               [
                "#B0BEC5",
                "#B0BEC5",
                "#B0BEC5",
                "#B0BEC5",
                "#B0BEC5",
                "#B0BEC5",
                "#B0BEC5",
                "#B0BEC5",
                "#B0BEC5",
                "#B0BEC5",
                "#B0BEC5",
                "#B0BEC5",
                "#B0BEC5",
                "red",
                "#B0BEC5",
                "#B0BEC5",
                "#B0BEC5",
                "#B0BEC5",
                "#B0BEC5",
                "#B0BEC5",
                "#B0BEC5",
                "#B0BEC5",
                "#B0BEC5",
                "#B0BEC5",
                "#B0BEC5",
                "#B0BEC5",
                "#B0BEC5",
                "#B0BEC5",
                "#B0BEC5",
                "#B0BEC5",
                "#B0BEC5",
                "#B0BEC5",
                "#B0BEC5",
                "#B0BEC5",
                "#B0BEC5",
                "#B0BEC5",
                "#B0BEC5",
                "#B0BEC5",
                "#B0BEC5",
                "#B0BEC5",
                "#B0BEC5",
                "#B0BEC5",
                "#B0BEC5",
                "#B0BEC5",
                "#B0BEC5",
                "#B0BEC5",
                "#B0BEC5",
                "#B0BEC5",
                "#B0BEC5",
                "#B0BEC5",
                "#B0BEC5",
                "#B0BEC5",
                "#B0BEC5",
                "#B0BEC5",
                "#B0BEC5",
                "#B0BEC5",
                "#B0BEC5",
                "#B0BEC5",
                "#B0BEC5",
                "#B0BEC5",
                "#B0BEC5",
                "#B0BEC5",
                "#B0BEC5",
                "#B0BEC5",
                "#B0BEC5",
                "#B0BEC5",
                "#B0BEC5",
                "#B0BEC5",
                "#B0BEC5",
                "#B0BEC5",
                "#B0BEC5",
                "#B0BEC5",
                "#B0BEC5",
                "#B0BEC5",
                "#B0BEC5",
                "#B0BEC5",
                "#B0BEC5",
                "#B0BEC5",
                "#B0BEC5",
                "#B0BEC5",
                "#B0BEC5",
                "#B0BEC5",
                "#B0BEC5",
                "#B0BEC5",
                "#B0BEC5",
                "#B0BEC5",
                "#B0BEC5",
                "#B0BEC5",
                "#B0BEC5",
                "#B0BEC5",
                "#B0BEC5",
                "#B0BEC5",
                "#B0BEC5"
               ]
              ]
             }
            ],
            "label": "Topic 13",
            "method": "update"
           },
           {
            "args": [
             {
              "marker.color": [
               [
                "#B0BEC5",
                "#B0BEC5",
                "#B0BEC5",
                "#B0BEC5",
                "#B0BEC5",
                "#B0BEC5",
                "#B0BEC5",
                "#B0BEC5",
                "#B0BEC5",
                "#B0BEC5",
                "#B0BEC5",
                "#B0BEC5",
                "#B0BEC5",
                "#B0BEC5",
                "red",
                "#B0BEC5",
                "#B0BEC5",
                "#B0BEC5",
                "#B0BEC5",
                "#B0BEC5",
                "#B0BEC5",
                "#B0BEC5",
                "#B0BEC5",
                "#B0BEC5",
                "#B0BEC5",
                "#B0BEC5",
                "#B0BEC5",
                "#B0BEC5",
                "#B0BEC5",
                "#B0BEC5",
                "#B0BEC5",
                "#B0BEC5",
                "#B0BEC5",
                "#B0BEC5",
                "#B0BEC5",
                "#B0BEC5",
                "#B0BEC5",
                "#B0BEC5",
                "#B0BEC5",
                "#B0BEC5",
                "#B0BEC5",
                "#B0BEC5",
                "#B0BEC5",
                "#B0BEC5",
                "#B0BEC5",
                "#B0BEC5",
                "#B0BEC5",
                "#B0BEC5",
                "#B0BEC5",
                "#B0BEC5",
                "#B0BEC5",
                "#B0BEC5",
                "#B0BEC5",
                "#B0BEC5",
                "#B0BEC5",
                "#B0BEC5",
                "#B0BEC5",
                "#B0BEC5",
                "#B0BEC5",
                "#B0BEC5",
                "#B0BEC5",
                "#B0BEC5",
                "#B0BEC5",
                "#B0BEC5",
                "#B0BEC5",
                "#B0BEC5",
                "#B0BEC5",
                "#B0BEC5",
                "#B0BEC5",
                "#B0BEC5",
                "#B0BEC5",
                "#B0BEC5",
                "#B0BEC5",
                "#B0BEC5",
                "#B0BEC5",
                "#B0BEC5",
                "#B0BEC5",
                "#B0BEC5",
                "#B0BEC5",
                "#B0BEC5",
                "#B0BEC5",
                "#B0BEC5",
                "#B0BEC5",
                "#B0BEC5",
                "#B0BEC5",
                "#B0BEC5",
                "#B0BEC5",
                "#B0BEC5",
                "#B0BEC5",
                "#B0BEC5",
                "#B0BEC5",
                "#B0BEC5",
                "#B0BEC5"
               ]
              ]
             }
            ],
            "label": "Topic 14",
            "method": "update"
           },
           {
            "args": [
             {
              "marker.color": [
               [
                "#B0BEC5",
                "#B0BEC5",
                "#B0BEC5",
                "#B0BEC5",
                "#B0BEC5",
                "#B0BEC5",
                "#B0BEC5",
                "#B0BEC5",
                "#B0BEC5",
                "#B0BEC5",
                "#B0BEC5",
                "#B0BEC5",
                "#B0BEC5",
                "#B0BEC5",
                "#B0BEC5",
                "red",
                "#B0BEC5",
                "#B0BEC5",
                "#B0BEC5",
                "#B0BEC5",
                "#B0BEC5",
                "#B0BEC5",
                "#B0BEC5",
                "#B0BEC5",
                "#B0BEC5",
                "#B0BEC5",
                "#B0BEC5",
                "#B0BEC5",
                "#B0BEC5",
                "#B0BEC5",
                "#B0BEC5",
                "#B0BEC5",
                "#B0BEC5",
                "#B0BEC5",
                "#B0BEC5",
                "#B0BEC5",
                "#B0BEC5",
                "#B0BEC5",
                "#B0BEC5",
                "#B0BEC5",
                "#B0BEC5",
                "#B0BEC5",
                "#B0BEC5",
                "#B0BEC5",
                "#B0BEC5",
                "#B0BEC5",
                "#B0BEC5",
                "#B0BEC5",
                "#B0BEC5",
                "#B0BEC5",
                "#B0BEC5",
                "#B0BEC5",
                "#B0BEC5",
                "#B0BEC5",
                "#B0BEC5",
                "#B0BEC5",
                "#B0BEC5",
                "#B0BEC5",
                "#B0BEC5",
                "#B0BEC5",
                "#B0BEC5",
                "#B0BEC5",
                "#B0BEC5",
                "#B0BEC5",
                "#B0BEC5",
                "#B0BEC5",
                "#B0BEC5",
                "#B0BEC5",
                "#B0BEC5",
                "#B0BEC5",
                "#B0BEC5",
                "#B0BEC5",
                "#B0BEC5",
                "#B0BEC5",
                "#B0BEC5",
                "#B0BEC5",
                "#B0BEC5",
                "#B0BEC5",
                "#B0BEC5",
                "#B0BEC5",
                "#B0BEC5",
                "#B0BEC5",
                "#B0BEC5",
                "#B0BEC5",
                "#B0BEC5",
                "#B0BEC5",
                "#B0BEC5",
                "#B0BEC5",
                "#B0BEC5",
                "#B0BEC5",
                "#B0BEC5",
                "#B0BEC5",
                "#B0BEC5"
               ]
              ]
             }
            ],
            "label": "Topic 15",
            "method": "update"
           },
           {
            "args": [
             {
              "marker.color": [
               [
                "#B0BEC5",
                "#B0BEC5",
                "#B0BEC5",
                "#B0BEC5",
                "#B0BEC5",
                "#B0BEC5",
                "#B0BEC5",
                "#B0BEC5",
                "#B0BEC5",
                "#B0BEC5",
                "#B0BEC5",
                "#B0BEC5",
                "#B0BEC5",
                "#B0BEC5",
                "#B0BEC5",
                "#B0BEC5",
                "red",
                "#B0BEC5",
                "#B0BEC5",
                "#B0BEC5",
                "#B0BEC5",
                "#B0BEC5",
                "#B0BEC5",
                "#B0BEC5",
                "#B0BEC5",
                "#B0BEC5",
                "#B0BEC5",
                "#B0BEC5",
                "#B0BEC5",
                "#B0BEC5",
                "#B0BEC5",
                "#B0BEC5",
                "#B0BEC5",
                "#B0BEC5",
                "#B0BEC5",
                "#B0BEC5",
                "#B0BEC5",
                "#B0BEC5",
                "#B0BEC5",
                "#B0BEC5",
                "#B0BEC5",
                "#B0BEC5",
                "#B0BEC5",
                "#B0BEC5",
                "#B0BEC5",
                "#B0BEC5",
                "#B0BEC5",
                "#B0BEC5",
                "#B0BEC5",
                "#B0BEC5",
                "#B0BEC5",
                "#B0BEC5",
                "#B0BEC5",
                "#B0BEC5",
                "#B0BEC5",
                "#B0BEC5",
                "#B0BEC5",
                "#B0BEC5",
                "#B0BEC5",
                "#B0BEC5",
                "#B0BEC5",
                "#B0BEC5",
                "#B0BEC5",
                "#B0BEC5",
                "#B0BEC5",
                "#B0BEC5",
                "#B0BEC5",
                "#B0BEC5",
                "#B0BEC5",
                "#B0BEC5",
                "#B0BEC5",
                "#B0BEC5",
                "#B0BEC5",
                "#B0BEC5",
                "#B0BEC5",
                "#B0BEC5",
                "#B0BEC5",
                "#B0BEC5",
                "#B0BEC5",
                "#B0BEC5",
                "#B0BEC5",
                "#B0BEC5",
                "#B0BEC5",
                "#B0BEC5",
                "#B0BEC5",
                "#B0BEC5",
                "#B0BEC5",
                "#B0BEC5",
                "#B0BEC5",
                "#B0BEC5",
                "#B0BEC5",
                "#B0BEC5",
                "#B0BEC5"
               ]
              ]
             }
            ],
            "label": "Topic 16",
            "method": "update"
           },
           {
            "args": [
             {
              "marker.color": [
               [
                "#B0BEC5",
                "#B0BEC5",
                "#B0BEC5",
                "#B0BEC5",
                "#B0BEC5",
                "#B0BEC5",
                "#B0BEC5",
                "#B0BEC5",
                "#B0BEC5",
                "#B0BEC5",
                "#B0BEC5",
                "#B0BEC5",
                "#B0BEC5",
                "#B0BEC5",
                "#B0BEC5",
                "#B0BEC5",
                "#B0BEC5",
                "red",
                "#B0BEC5",
                "#B0BEC5",
                "#B0BEC5",
                "#B0BEC5",
                "#B0BEC5",
                "#B0BEC5",
                "#B0BEC5",
                "#B0BEC5",
                "#B0BEC5",
                "#B0BEC5",
                "#B0BEC5",
                "#B0BEC5",
                "#B0BEC5",
                "#B0BEC5",
                "#B0BEC5",
                "#B0BEC5",
                "#B0BEC5",
                "#B0BEC5",
                "#B0BEC5",
                "#B0BEC5",
                "#B0BEC5",
                "#B0BEC5",
                "#B0BEC5",
                "#B0BEC5",
                "#B0BEC5",
                "#B0BEC5",
                "#B0BEC5",
                "#B0BEC5",
                "#B0BEC5",
                "#B0BEC5",
                "#B0BEC5",
                "#B0BEC5",
                "#B0BEC5",
                "#B0BEC5",
                "#B0BEC5",
                "#B0BEC5",
                "#B0BEC5",
                "#B0BEC5",
                "#B0BEC5",
                "#B0BEC5",
                "#B0BEC5",
                "#B0BEC5",
                "#B0BEC5",
                "#B0BEC5",
                "#B0BEC5",
                "#B0BEC5",
                "#B0BEC5",
                "#B0BEC5",
                "#B0BEC5",
                "#B0BEC5",
                "#B0BEC5",
                "#B0BEC5",
                "#B0BEC5",
                "#B0BEC5",
                "#B0BEC5",
                "#B0BEC5",
                "#B0BEC5",
                "#B0BEC5",
                "#B0BEC5",
                "#B0BEC5",
                "#B0BEC5",
                "#B0BEC5",
                "#B0BEC5",
                "#B0BEC5",
                "#B0BEC5",
                "#B0BEC5",
                "#B0BEC5",
                "#B0BEC5",
                "#B0BEC5",
                "#B0BEC5",
                "#B0BEC5",
                "#B0BEC5",
                "#B0BEC5",
                "#B0BEC5",
                "#B0BEC5"
               ]
              ]
             }
            ],
            "label": "Topic 17",
            "method": "update"
           },
           {
            "args": [
             {
              "marker.color": [
               [
                "#B0BEC5",
                "#B0BEC5",
                "#B0BEC5",
                "#B0BEC5",
                "#B0BEC5",
                "#B0BEC5",
                "#B0BEC5",
                "#B0BEC5",
                "#B0BEC5",
                "#B0BEC5",
                "#B0BEC5",
                "#B0BEC5",
                "#B0BEC5",
                "#B0BEC5",
                "#B0BEC5",
                "#B0BEC5",
                "#B0BEC5",
                "#B0BEC5",
                "red",
                "#B0BEC5",
                "#B0BEC5",
                "#B0BEC5",
                "#B0BEC5",
                "#B0BEC5",
                "#B0BEC5",
                "#B0BEC5",
                "#B0BEC5",
                "#B0BEC5",
                "#B0BEC5",
                "#B0BEC5",
                "#B0BEC5",
                "#B0BEC5",
                "#B0BEC5",
                "#B0BEC5",
                "#B0BEC5",
                "#B0BEC5",
                "#B0BEC5",
                "#B0BEC5",
                "#B0BEC5",
                "#B0BEC5",
                "#B0BEC5",
                "#B0BEC5",
                "#B0BEC5",
                "#B0BEC5",
                "#B0BEC5",
                "#B0BEC5",
                "#B0BEC5",
                "#B0BEC5",
                "#B0BEC5",
                "#B0BEC5",
                "#B0BEC5",
                "#B0BEC5",
                "#B0BEC5",
                "#B0BEC5",
                "#B0BEC5",
                "#B0BEC5",
                "#B0BEC5",
                "#B0BEC5",
                "#B0BEC5",
                "#B0BEC5",
                "#B0BEC5",
                "#B0BEC5",
                "#B0BEC5",
                "#B0BEC5",
                "#B0BEC5",
                "#B0BEC5",
                "#B0BEC5",
                "#B0BEC5",
                "#B0BEC5",
                "#B0BEC5",
                "#B0BEC5",
                "#B0BEC5",
                "#B0BEC5",
                "#B0BEC5",
                "#B0BEC5",
                "#B0BEC5",
                "#B0BEC5",
                "#B0BEC5",
                "#B0BEC5",
                "#B0BEC5",
                "#B0BEC5",
                "#B0BEC5",
                "#B0BEC5",
                "#B0BEC5",
                "#B0BEC5",
                "#B0BEC5",
                "#B0BEC5",
                "#B0BEC5",
                "#B0BEC5",
                "#B0BEC5",
                "#B0BEC5",
                "#B0BEC5",
                "#B0BEC5"
               ]
              ]
             }
            ],
            "label": "Topic 18",
            "method": "update"
           },
           {
            "args": [
             {
              "marker.color": [
               [
                "#B0BEC5",
                "#B0BEC5",
                "#B0BEC5",
                "#B0BEC5",
                "#B0BEC5",
                "#B0BEC5",
                "#B0BEC5",
                "#B0BEC5",
                "#B0BEC5",
                "#B0BEC5",
                "#B0BEC5",
                "#B0BEC5",
                "#B0BEC5",
                "#B0BEC5",
                "#B0BEC5",
                "#B0BEC5",
                "#B0BEC5",
                "#B0BEC5",
                "#B0BEC5",
                "red",
                "#B0BEC5",
                "#B0BEC5",
                "#B0BEC5",
                "#B0BEC5",
                "#B0BEC5",
                "#B0BEC5",
                "#B0BEC5",
                "#B0BEC5",
                "#B0BEC5",
                "#B0BEC5",
                "#B0BEC5",
                "#B0BEC5",
                "#B0BEC5",
                "#B0BEC5",
                "#B0BEC5",
                "#B0BEC5",
                "#B0BEC5",
                "#B0BEC5",
                "#B0BEC5",
                "#B0BEC5",
                "#B0BEC5",
                "#B0BEC5",
                "#B0BEC5",
                "#B0BEC5",
                "#B0BEC5",
                "#B0BEC5",
                "#B0BEC5",
                "#B0BEC5",
                "#B0BEC5",
                "#B0BEC5",
                "#B0BEC5",
                "#B0BEC5",
                "#B0BEC5",
                "#B0BEC5",
                "#B0BEC5",
                "#B0BEC5",
                "#B0BEC5",
                "#B0BEC5",
                "#B0BEC5",
                "#B0BEC5",
                "#B0BEC5",
                "#B0BEC5",
                "#B0BEC5",
                "#B0BEC5",
                "#B0BEC5",
                "#B0BEC5",
                "#B0BEC5",
                "#B0BEC5",
                "#B0BEC5",
                "#B0BEC5",
                "#B0BEC5",
                "#B0BEC5",
                "#B0BEC5",
                "#B0BEC5",
                "#B0BEC5",
                "#B0BEC5",
                "#B0BEC5",
                "#B0BEC5",
                "#B0BEC5",
                "#B0BEC5",
                "#B0BEC5",
                "#B0BEC5",
                "#B0BEC5",
                "#B0BEC5",
                "#B0BEC5",
                "#B0BEC5",
                "#B0BEC5",
                "#B0BEC5",
                "#B0BEC5",
                "#B0BEC5",
                "#B0BEC5",
                "#B0BEC5",
                "#B0BEC5"
               ]
              ]
             }
            ],
            "label": "Topic 19",
            "method": "update"
           },
           {
            "args": [
             {
              "marker.color": [
               [
                "#B0BEC5",
                "#B0BEC5",
                "#B0BEC5",
                "#B0BEC5",
                "#B0BEC5",
                "#B0BEC5",
                "#B0BEC5",
                "#B0BEC5",
                "#B0BEC5",
                "#B0BEC5",
                "#B0BEC5",
                "#B0BEC5",
                "#B0BEC5",
                "#B0BEC5",
                "#B0BEC5",
                "#B0BEC5",
                "#B0BEC5",
                "#B0BEC5",
                "#B0BEC5",
                "#B0BEC5",
                "red",
                "#B0BEC5",
                "#B0BEC5",
                "#B0BEC5",
                "#B0BEC5",
                "#B0BEC5",
                "#B0BEC5",
                "#B0BEC5",
                "#B0BEC5",
                "#B0BEC5",
                "#B0BEC5",
                "#B0BEC5",
                "#B0BEC5",
                "#B0BEC5",
                "#B0BEC5",
                "#B0BEC5",
                "#B0BEC5",
                "#B0BEC5",
                "#B0BEC5",
                "#B0BEC5",
                "#B0BEC5",
                "#B0BEC5",
                "#B0BEC5",
                "#B0BEC5",
                "#B0BEC5",
                "#B0BEC5",
                "#B0BEC5",
                "#B0BEC5",
                "#B0BEC5",
                "#B0BEC5",
                "#B0BEC5",
                "#B0BEC5",
                "#B0BEC5",
                "#B0BEC5",
                "#B0BEC5",
                "#B0BEC5",
                "#B0BEC5",
                "#B0BEC5",
                "#B0BEC5",
                "#B0BEC5",
                "#B0BEC5",
                "#B0BEC5",
                "#B0BEC5",
                "#B0BEC5",
                "#B0BEC5",
                "#B0BEC5",
                "#B0BEC5",
                "#B0BEC5",
                "#B0BEC5",
                "#B0BEC5",
                "#B0BEC5",
                "#B0BEC5",
                "#B0BEC5",
                "#B0BEC5",
                "#B0BEC5",
                "#B0BEC5",
                "#B0BEC5",
                "#B0BEC5",
                "#B0BEC5",
                "#B0BEC5",
                "#B0BEC5",
                "#B0BEC5",
                "#B0BEC5",
                "#B0BEC5",
                "#B0BEC5",
                "#B0BEC5",
                "#B0BEC5",
                "#B0BEC5",
                "#B0BEC5",
                "#B0BEC5",
                "#B0BEC5",
                "#B0BEC5",
                "#B0BEC5"
               ]
              ]
             }
            ],
            "label": "Topic 20",
            "method": "update"
           },
           {
            "args": [
             {
              "marker.color": [
               [
                "#B0BEC5",
                "#B0BEC5",
                "#B0BEC5",
                "#B0BEC5",
                "#B0BEC5",
                "#B0BEC5",
                "#B0BEC5",
                "#B0BEC5",
                "#B0BEC5",
                "#B0BEC5",
                "#B0BEC5",
                "#B0BEC5",
                "#B0BEC5",
                "#B0BEC5",
                "#B0BEC5",
                "#B0BEC5",
                "#B0BEC5",
                "#B0BEC5",
                "#B0BEC5",
                "#B0BEC5",
                "#B0BEC5",
                "red",
                "#B0BEC5",
                "#B0BEC5",
                "#B0BEC5",
                "#B0BEC5",
                "#B0BEC5",
                "#B0BEC5",
                "#B0BEC5",
                "#B0BEC5",
                "#B0BEC5",
                "#B0BEC5",
                "#B0BEC5",
                "#B0BEC5",
                "#B0BEC5",
                "#B0BEC5",
                "#B0BEC5",
                "#B0BEC5",
                "#B0BEC5",
                "#B0BEC5",
                "#B0BEC5",
                "#B0BEC5",
                "#B0BEC5",
                "#B0BEC5",
                "#B0BEC5",
                "#B0BEC5",
                "#B0BEC5",
                "#B0BEC5",
                "#B0BEC5",
                "#B0BEC5",
                "#B0BEC5",
                "#B0BEC5",
                "#B0BEC5",
                "#B0BEC5",
                "#B0BEC5",
                "#B0BEC5",
                "#B0BEC5",
                "#B0BEC5",
                "#B0BEC5",
                "#B0BEC5",
                "#B0BEC5",
                "#B0BEC5",
                "#B0BEC5",
                "#B0BEC5",
                "#B0BEC5",
                "#B0BEC5",
                "#B0BEC5",
                "#B0BEC5",
                "#B0BEC5",
                "#B0BEC5",
                "#B0BEC5",
                "#B0BEC5",
                "#B0BEC5",
                "#B0BEC5",
                "#B0BEC5",
                "#B0BEC5",
                "#B0BEC5",
                "#B0BEC5",
                "#B0BEC5",
                "#B0BEC5",
                "#B0BEC5",
                "#B0BEC5",
                "#B0BEC5",
                "#B0BEC5",
                "#B0BEC5",
                "#B0BEC5",
                "#B0BEC5",
                "#B0BEC5",
                "#B0BEC5",
                "#B0BEC5",
                "#B0BEC5",
                "#B0BEC5",
                "#B0BEC5"
               ]
              ]
             }
            ],
            "label": "Topic 21",
            "method": "update"
           },
           {
            "args": [
             {
              "marker.color": [
               [
                "#B0BEC5",
                "#B0BEC5",
                "#B0BEC5",
                "#B0BEC5",
                "#B0BEC5",
                "#B0BEC5",
                "#B0BEC5",
                "#B0BEC5",
                "#B0BEC5",
                "#B0BEC5",
                "#B0BEC5",
                "#B0BEC5",
                "#B0BEC5",
                "#B0BEC5",
                "#B0BEC5",
                "#B0BEC5",
                "#B0BEC5",
                "#B0BEC5",
                "#B0BEC5",
                "#B0BEC5",
                "#B0BEC5",
                "#B0BEC5",
                "red",
                "#B0BEC5",
                "#B0BEC5",
                "#B0BEC5",
                "#B0BEC5",
                "#B0BEC5",
                "#B0BEC5",
                "#B0BEC5",
                "#B0BEC5",
                "#B0BEC5",
                "#B0BEC5",
                "#B0BEC5",
                "#B0BEC5",
                "#B0BEC5",
                "#B0BEC5",
                "#B0BEC5",
                "#B0BEC5",
                "#B0BEC5",
                "#B0BEC5",
                "#B0BEC5",
                "#B0BEC5",
                "#B0BEC5",
                "#B0BEC5",
                "#B0BEC5",
                "#B0BEC5",
                "#B0BEC5",
                "#B0BEC5",
                "#B0BEC5",
                "#B0BEC5",
                "#B0BEC5",
                "#B0BEC5",
                "#B0BEC5",
                "#B0BEC5",
                "#B0BEC5",
                "#B0BEC5",
                "#B0BEC5",
                "#B0BEC5",
                "#B0BEC5",
                "#B0BEC5",
                "#B0BEC5",
                "#B0BEC5",
                "#B0BEC5",
                "#B0BEC5",
                "#B0BEC5",
                "#B0BEC5",
                "#B0BEC5",
                "#B0BEC5",
                "#B0BEC5",
                "#B0BEC5",
                "#B0BEC5",
                "#B0BEC5",
                "#B0BEC5",
                "#B0BEC5",
                "#B0BEC5",
                "#B0BEC5",
                "#B0BEC5",
                "#B0BEC5",
                "#B0BEC5",
                "#B0BEC5",
                "#B0BEC5",
                "#B0BEC5",
                "#B0BEC5",
                "#B0BEC5",
                "#B0BEC5",
                "#B0BEC5",
                "#B0BEC5",
                "#B0BEC5",
                "#B0BEC5",
                "#B0BEC5",
                "#B0BEC5",
                "#B0BEC5"
               ]
              ]
             }
            ],
            "label": "Topic 22",
            "method": "update"
           },
           {
            "args": [
             {
              "marker.color": [
               [
                "#B0BEC5",
                "#B0BEC5",
                "#B0BEC5",
                "#B0BEC5",
                "#B0BEC5",
                "#B0BEC5",
                "#B0BEC5",
                "#B0BEC5",
                "#B0BEC5",
                "#B0BEC5",
                "#B0BEC5",
                "#B0BEC5",
                "#B0BEC5",
                "#B0BEC5",
                "#B0BEC5",
                "#B0BEC5",
                "#B0BEC5",
                "#B0BEC5",
                "#B0BEC5",
                "#B0BEC5",
                "#B0BEC5",
                "#B0BEC5",
                "#B0BEC5",
                "red",
                "#B0BEC5",
                "#B0BEC5",
                "#B0BEC5",
                "#B0BEC5",
                "#B0BEC5",
                "#B0BEC5",
                "#B0BEC5",
                "#B0BEC5",
                "#B0BEC5",
                "#B0BEC5",
                "#B0BEC5",
                "#B0BEC5",
                "#B0BEC5",
                "#B0BEC5",
                "#B0BEC5",
                "#B0BEC5",
                "#B0BEC5",
                "#B0BEC5",
                "#B0BEC5",
                "#B0BEC5",
                "#B0BEC5",
                "#B0BEC5",
                "#B0BEC5",
                "#B0BEC5",
                "#B0BEC5",
                "#B0BEC5",
                "#B0BEC5",
                "#B0BEC5",
                "#B0BEC5",
                "#B0BEC5",
                "#B0BEC5",
                "#B0BEC5",
                "#B0BEC5",
                "#B0BEC5",
                "#B0BEC5",
                "#B0BEC5",
                "#B0BEC5",
                "#B0BEC5",
                "#B0BEC5",
                "#B0BEC5",
                "#B0BEC5",
                "#B0BEC5",
                "#B0BEC5",
                "#B0BEC5",
                "#B0BEC5",
                "#B0BEC5",
                "#B0BEC5",
                "#B0BEC5",
                "#B0BEC5",
                "#B0BEC5",
                "#B0BEC5",
                "#B0BEC5",
                "#B0BEC5",
                "#B0BEC5",
                "#B0BEC5",
                "#B0BEC5",
                "#B0BEC5",
                "#B0BEC5",
                "#B0BEC5",
                "#B0BEC5",
                "#B0BEC5",
                "#B0BEC5",
                "#B0BEC5",
                "#B0BEC5",
                "#B0BEC5",
                "#B0BEC5",
                "#B0BEC5",
                "#B0BEC5",
                "#B0BEC5"
               ]
              ]
             }
            ],
            "label": "Topic 23",
            "method": "update"
           },
           {
            "args": [
             {
              "marker.color": [
               [
                "#B0BEC5",
                "#B0BEC5",
                "#B0BEC5",
                "#B0BEC5",
                "#B0BEC5",
                "#B0BEC5",
                "#B0BEC5",
                "#B0BEC5",
                "#B0BEC5",
                "#B0BEC5",
                "#B0BEC5",
                "#B0BEC5",
                "#B0BEC5",
                "#B0BEC5",
                "#B0BEC5",
                "#B0BEC5",
                "#B0BEC5",
                "#B0BEC5",
                "#B0BEC5",
                "#B0BEC5",
                "#B0BEC5",
                "#B0BEC5",
                "#B0BEC5",
                "#B0BEC5",
                "red",
                "#B0BEC5",
                "#B0BEC5",
                "#B0BEC5",
                "#B0BEC5",
                "#B0BEC5",
                "#B0BEC5",
                "#B0BEC5",
                "#B0BEC5",
                "#B0BEC5",
                "#B0BEC5",
                "#B0BEC5",
                "#B0BEC5",
                "#B0BEC5",
                "#B0BEC5",
                "#B0BEC5",
                "#B0BEC5",
                "#B0BEC5",
                "#B0BEC5",
                "#B0BEC5",
                "#B0BEC5",
                "#B0BEC5",
                "#B0BEC5",
                "#B0BEC5",
                "#B0BEC5",
                "#B0BEC5",
                "#B0BEC5",
                "#B0BEC5",
                "#B0BEC5",
                "#B0BEC5",
                "#B0BEC5",
                "#B0BEC5",
                "#B0BEC5",
                "#B0BEC5",
                "#B0BEC5",
                "#B0BEC5",
                "#B0BEC5",
                "#B0BEC5",
                "#B0BEC5",
                "#B0BEC5",
                "#B0BEC5",
                "#B0BEC5",
                "#B0BEC5",
                "#B0BEC5",
                "#B0BEC5",
                "#B0BEC5",
                "#B0BEC5",
                "#B0BEC5",
                "#B0BEC5",
                "#B0BEC5",
                "#B0BEC5",
                "#B0BEC5",
                "#B0BEC5",
                "#B0BEC5",
                "#B0BEC5",
                "#B0BEC5",
                "#B0BEC5",
                "#B0BEC5",
                "#B0BEC5",
                "#B0BEC5",
                "#B0BEC5",
                "#B0BEC5",
                "#B0BEC5",
                "#B0BEC5",
                "#B0BEC5",
                "#B0BEC5",
                "#B0BEC5",
                "#B0BEC5",
                "#B0BEC5"
               ]
              ]
             }
            ],
            "label": "Topic 24",
            "method": "update"
           },
           {
            "args": [
             {
              "marker.color": [
               [
                "#B0BEC5",
                "#B0BEC5",
                "#B0BEC5",
                "#B0BEC5",
                "#B0BEC5",
                "#B0BEC5",
                "#B0BEC5",
                "#B0BEC5",
                "#B0BEC5",
                "#B0BEC5",
                "#B0BEC5",
                "#B0BEC5",
                "#B0BEC5",
                "#B0BEC5",
                "#B0BEC5",
                "#B0BEC5",
                "#B0BEC5",
                "#B0BEC5",
                "#B0BEC5",
                "#B0BEC5",
                "#B0BEC5",
                "#B0BEC5",
                "#B0BEC5",
                "#B0BEC5",
                "#B0BEC5",
                "red",
                "#B0BEC5",
                "#B0BEC5",
                "#B0BEC5",
                "#B0BEC5",
                "#B0BEC5",
                "#B0BEC5",
                "#B0BEC5",
                "#B0BEC5",
                "#B0BEC5",
                "#B0BEC5",
                "#B0BEC5",
                "#B0BEC5",
                "#B0BEC5",
                "#B0BEC5",
                "#B0BEC5",
                "#B0BEC5",
                "#B0BEC5",
                "#B0BEC5",
                "#B0BEC5",
                "#B0BEC5",
                "#B0BEC5",
                "#B0BEC5",
                "#B0BEC5",
                "#B0BEC5",
                "#B0BEC5",
                "#B0BEC5",
                "#B0BEC5",
                "#B0BEC5",
                "#B0BEC5",
                "#B0BEC5",
                "#B0BEC5",
                "#B0BEC5",
                "#B0BEC5",
                "#B0BEC5",
                "#B0BEC5",
                "#B0BEC5",
                "#B0BEC5",
                "#B0BEC5",
                "#B0BEC5",
                "#B0BEC5",
                "#B0BEC5",
                "#B0BEC5",
                "#B0BEC5",
                "#B0BEC5",
                "#B0BEC5",
                "#B0BEC5",
                "#B0BEC5",
                "#B0BEC5",
                "#B0BEC5",
                "#B0BEC5",
                "#B0BEC5",
                "#B0BEC5",
                "#B0BEC5",
                "#B0BEC5",
                "#B0BEC5",
                "#B0BEC5",
                "#B0BEC5",
                "#B0BEC5",
                "#B0BEC5",
                "#B0BEC5",
                "#B0BEC5",
                "#B0BEC5",
                "#B0BEC5",
                "#B0BEC5",
                "#B0BEC5",
                "#B0BEC5",
                "#B0BEC5"
               ]
              ]
             }
            ],
            "label": "Topic 25",
            "method": "update"
           },
           {
            "args": [
             {
              "marker.color": [
               [
                "#B0BEC5",
                "#B0BEC5",
                "#B0BEC5",
                "#B0BEC5",
                "#B0BEC5",
                "#B0BEC5",
                "#B0BEC5",
                "#B0BEC5",
                "#B0BEC5",
                "#B0BEC5",
                "#B0BEC5",
                "#B0BEC5",
                "#B0BEC5",
                "#B0BEC5",
                "#B0BEC5",
                "#B0BEC5",
                "#B0BEC5",
                "#B0BEC5",
                "#B0BEC5",
                "#B0BEC5",
                "#B0BEC5",
                "#B0BEC5",
                "#B0BEC5",
                "#B0BEC5",
                "#B0BEC5",
                "#B0BEC5",
                "red",
                "#B0BEC5",
                "#B0BEC5",
                "#B0BEC5",
                "#B0BEC5",
                "#B0BEC5",
                "#B0BEC5",
                "#B0BEC5",
                "#B0BEC5",
                "#B0BEC5",
                "#B0BEC5",
                "#B0BEC5",
                "#B0BEC5",
                "#B0BEC5",
                "#B0BEC5",
                "#B0BEC5",
                "#B0BEC5",
                "#B0BEC5",
                "#B0BEC5",
                "#B0BEC5",
                "#B0BEC5",
                "#B0BEC5",
                "#B0BEC5",
                "#B0BEC5",
                "#B0BEC5",
                "#B0BEC5",
                "#B0BEC5",
                "#B0BEC5",
                "#B0BEC5",
                "#B0BEC5",
                "#B0BEC5",
                "#B0BEC5",
                "#B0BEC5",
                "#B0BEC5",
                "#B0BEC5",
                "#B0BEC5",
                "#B0BEC5",
                "#B0BEC5",
                "#B0BEC5",
                "#B0BEC5",
                "#B0BEC5",
                "#B0BEC5",
                "#B0BEC5",
                "#B0BEC5",
                "#B0BEC5",
                "#B0BEC5",
                "#B0BEC5",
                "#B0BEC5",
                "#B0BEC5",
                "#B0BEC5",
                "#B0BEC5",
                "#B0BEC5",
                "#B0BEC5",
                "#B0BEC5",
                "#B0BEC5",
                "#B0BEC5",
                "#B0BEC5",
                "#B0BEC5",
                "#B0BEC5",
                "#B0BEC5",
                "#B0BEC5",
                "#B0BEC5",
                "#B0BEC5",
                "#B0BEC5",
                "#B0BEC5",
                "#B0BEC5",
                "#B0BEC5"
               ]
              ]
             }
            ],
            "label": "Topic 26",
            "method": "update"
           },
           {
            "args": [
             {
              "marker.color": [
               [
                "#B0BEC5",
                "#B0BEC5",
                "#B0BEC5",
                "#B0BEC5",
                "#B0BEC5",
                "#B0BEC5",
                "#B0BEC5",
                "#B0BEC5",
                "#B0BEC5",
                "#B0BEC5",
                "#B0BEC5",
                "#B0BEC5",
                "#B0BEC5",
                "#B0BEC5",
                "#B0BEC5",
                "#B0BEC5",
                "#B0BEC5",
                "#B0BEC5",
                "#B0BEC5",
                "#B0BEC5",
                "#B0BEC5",
                "#B0BEC5",
                "#B0BEC5",
                "#B0BEC5",
                "#B0BEC5",
                "#B0BEC5",
                "#B0BEC5",
                "red",
                "#B0BEC5",
                "#B0BEC5",
                "#B0BEC5",
                "#B0BEC5",
                "#B0BEC5",
                "#B0BEC5",
                "#B0BEC5",
                "#B0BEC5",
                "#B0BEC5",
                "#B0BEC5",
                "#B0BEC5",
                "#B0BEC5",
                "#B0BEC5",
                "#B0BEC5",
                "#B0BEC5",
                "#B0BEC5",
                "#B0BEC5",
                "#B0BEC5",
                "#B0BEC5",
                "#B0BEC5",
                "#B0BEC5",
                "#B0BEC5",
                "#B0BEC5",
                "#B0BEC5",
                "#B0BEC5",
                "#B0BEC5",
                "#B0BEC5",
                "#B0BEC5",
                "#B0BEC5",
                "#B0BEC5",
                "#B0BEC5",
                "#B0BEC5",
                "#B0BEC5",
                "#B0BEC5",
                "#B0BEC5",
                "#B0BEC5",
                "#B0BEC5",
                "#B0BEC5",
                "#B0BEC5",
                "#B0BEC5",
                "#B0BEC5",
                "#B0BEC5",
                "#B0BEC5",
                "#B0BEC5",
                "#B0BEC5",
                "#B0BEC5",
                "#B0BEC5",
                "#B0BEC5",
                "#B0BEC5",
                "#B0BEC5",
                "#B0BEC5",
                "#B0BEC5",
                "#B0BEC5",
                "#B0BEC5",
                "#B0BEC5",
                "#B0BEC5",
                "#B0BEC5",
                "#B0BEC5",
                "#B0BEC5",
                "#B0BEC5",
                "#B0BEC5",
                "#B0BEC5",
                "#B0BEC5",
                "#B0BEC5",
                "#B0BEC5"
               ]
              ]
             }
            ],
            "label": "Topic 27",
            "method": "update"
           },
           {
            "args": [
             {
              "marker.color": [
               [
                "#B0BEC5",
                "#B0BEC5",
                "#B0BEC5",
                "#B0BEC5",
                "#B0BEC5",
                "#B0BEC5",
                "#B0BEC5",
                "#B0BEC5",
                "#B0BEC5",
                "#B0BEC5",
                "#B0BEC5",
                "#B0BEC5",
                "#B0BEC5",
                "#B0BEC5",
                "#B0BEC5",
                "#B0BEC5",
                "#B0BEC5",
                "#B0BEC5",
                "#B0BEC5",
                "#B0BEC5",
                "#B0BEC5",
                "#B0BEC5",
                "#B0BEC5",
                "#B0BEC5",
                "#B0BEC5",
                "#B0BEC5",
                "#B0BEC5",
                "#B0BEC5",
                "red",
                "#B0BEC5",
                "#B0BEC5",
                "#B0BEC5",
                "#B0BEC5",
                "#B0BEC5",
                "#B0BEC5",
                "#B0BEC5",
                "#B0BEC5",
                "#B0BEC5",
                "#B0BEC5",
                "#B0BEC5",
                "#B0BEC5",
                "#B0BEC5",
                "#B0BEC5",
                "#B0BEC5",
                "#B0BEC5",
                "#B0BEC5",
                "#B0BEC5",
                "#B0BEC5",
                "#B0BEC5",
                "#B0BEC5",
                "#B0BEC5",
                "#B0BEC5",
                "#B0BEC5",
                "#B0BEC5",
                "#B0BEC5",
                "#B0BEC5",
                "#B0BEC5",
                "#B0BEC5",
                "#B0BEC5",
                "#B0BEC5",
                "#B0BEC5",
                "#B0BEC5",
                "#B0BEC5",
                "#B0BEC5",
                "#B0BEC5",
                "#B0BEC5",
                "#B0BEC5",
                "#B0BEC5",
                "#B0BEC5",
                "#B0BEC5",
                "#B0BEC5",
                "#B0BEC5",
                "#B0BEC5",
                "#B0BEC5",
                "#B0BEC5",
                "#B0BEC5",
                "#B0BEC5",
                "#B0BEC5",
                "#B0BEC5",
                "#B0BEC5",
                "#B0BEC5",
                "#B0BEC5",
                "#B0BEC5",
                "#B0BEC5",
                "#B0BEC5",
                "#B0BEC5",
                "#B0BEC5",
                "#B0BEC5",
                "#B0BEC5",
                "#B0BEC5",
                "#B0BEC5",
                "#B0BEC5",
                "#B0BEC5"
               ]
              ]
             }
            ],
            "label": "Topic 28",
            "method": "update"
           },
           {
            "args": [
             {
              "marker.color": [
               [
                "#B0BEC5",
                "#B0BEC5",
                "#B0BEC5",
                "#B0BEC5",
                "#B0BEC5",
                "#B0BEC5",
                "#B0BEC5",
                "#B0BEC5",
                "#B0BEC5",
                "#B0BEC5",
                "#B0BEC5",
                "#B0BEC5",
                "#B0BEC5",
                "#B0BEC5",
                "#B0BEC5",
                "#B0BEC5",
                "#B0BEC5",
                "#B0BEC5",
                "#B0BEC5",
                "#B0BEC5",
                "#B0BEC5",
                "#B0BEC5",
                "#B0BEC5",
                "#B0BEC5",
                "#B0BEC5",
                "#B0BEC5",
                "#B0BEC5",
                "#B0BEC5",
                "#B0BEC5",
                "red",
                "#B0BEC5",
                "#B0BEC5",
                "#B0BEC5",
                "#B0BEC5",
                "#B0BEC5",
                "#B0BEC5",
                "#B0BEC5",
                "#B0BEC5",
                "#B0BEC5",
                "#B0BEC5",
                "#B0BEC5",
                "#B0BEC5",
                "#B0BEC5",
                "#B0BEC5",
                "#B0BEC5",
                "#B0BEC5",
                "#B0BEC5",
                "#B0BEC5",
                "#B0BEC5",
                "#B0BEC5",
                "#B0BEC5",
                "#B0BEC5",
                "#B0BEC5",
                "#B0BEC5",
                "#B0BEC5",
                "#B0BEC5",
                "#B0BEC5",
                "#B0BEC5",
                "#B0BEC5",
                "#B0BEC5",
                "#B0BEC5",
                "#B0BEC5",
                "#B0BEC5",
                "#B0BEC5",
                "#B0BEC5",
                "#B0BEC5",
                "#B0BEC5",
                "#B0BEC5",
                "#B0BEC5",
                "#B0BEC5",
                "#B0BEC5",
                "#B0BEC5",
                "#B0BEC5",
                "#B0BEC5",
                "#B0BEC5",
                "#B0BEC5",
                "#B0BEC5",
                "#B0BEC5",
                "#B0BEC5",
                "#B0BEC5",
                "#B0BEC5",
                "#B0BEC5",
                "#B0BEC5",
                "#B0BEC5",
                "#B0BEC5",
                "#B0BEC5",
                "#B0BEC5",
                "#B0BEC5",
                "#B0BEC5",
                "#B0BEC5",
                "#B0BEC5",
                "#B0BEC5",
                "#B0BEC5"
               ]
              ]
             }
            ],
            "label": "Topic 29",
            "method": "update"
           },
           {
            "args": [
             {
              "marker.color": [
               [
                "#B0BEC5",
                "#B0BEC5",
                "#B0BEC5",
                "#B0BEC5",
                "#B0BEC5",
                "#B0BEC5",
                "#B0BEC5",
                "#B0BEC5",
                "#B0BEC5",
                "#B0BEC5",
                "#B0BEC5",
                "#B0BEC5",
                "#B0BEC5",
                "#B0BEC5",
                "#B0BEC5",
                "#B0BEC5",
                "#B0BEC5",
                "#B0BEC5",
                "#B0BEC5",
                "#B0BEC5",
                "#B0BEC5",
                "#B0BEC5",
                "#B0BEC5",
                "#B0BEC5",
                "#B0BEC5",
                "#B0BEC5",
                "#B0BEC5",
                "#B0BEC5",
                "#B0BEC5",
                "#B0BEC5",
                "red",
                "#B0BEC5",
                "#B0BEC5",
                "#B0BEC5",
                "#B0BEC5",
                "#B0BEC5",
                "#B0BEC5",
                "#B0BEC5",
                "#B0BEC5",
                "#B0BEC5",
                "#B0BEC5",
                "#B0BEC5",
                "#B0BEC5",
                "#B0BEC5",
                "#B0BEC5",
                "#B0BEC5",
                "#B0BEC5",
                "#B0BEC5",
                "#B0BEC5",
                "#B0BEC5",
                "#B0BEC5",
                "#B0BEC5",
                "#B0BEC5",
                "#B0BEC5",
                "#B0BEC5",
                "#B0BEC5",
                "#B0BEC5",
                "#B0BEC5",
                "#B0BEC5",
                "#B0BEC5",
                "#B0BEC5",
                "#B0BEC5",
                "#B0BEC5",
                "#B0BEC5",
                "#B0BEC5",
                "#B0BEC5",
                "#B0BEC5",
                "#B0BEC5",
                "#B0BEC5",
                "#B0BEC5",
                "#B0BEC5",
                "#B0BEC5",
                "#B0BEC5",
                "#B0BEC5",
                "#B0BEC5",
                "#B0BEC5",
                "#B0BEC5",
                "#B0BEC5",
                "#B0BEC5",
                "#B0BEC5",
                "#B0BEC5",
                "#B0BEC5",
                "#B0BEC5",
                "#B0BEC5",
                "#B0BEC5",
                "#B0BEC5",
                "#B0BEC5",
                "#B0BEC5",
                "#B0BEC5",
                "#B0BEC5",
                "#B0BEC5",
                "#B0BEC5",
                "#B0BEC5"
               ]
              ]
             }
            ],
            "label": "Topic 30",
            "method": "update"
           },
           {
            "args": [
             {
              "marker.color": [
               [
                "#B0BEC5",
                "#B0BEC5",
                "#B0BEC5",
                "#B0BEC5",
                "#B0BEC5",
                "#B0BEC5",
                "#B0BEC5",
                "#B0BEC5",
                "#B0BEC5",
                "#B0BEC5",
                "#B0BEC5",
                "#B0BEC5",
                "#B0BEC5",
                "#B0BEC5",
                "#B0BEC5",
                "#B0BEC5",
                "#B0BEC5",
                "#B0BEC5",
                "#B0BEC5",
                "#B0BEC5",
                "#B0BEC5",
                "#B0BEC5",
                "#B0BEC5",
                "#B0BEC5",
                "#B0BEC5",
                "#B0BEC5",
                "#B0BEC5",
                "#B0BEC5",
                "#B0BEC5",
                "#B0BEC5",
                "#B0BEC5",
                "red",
                "#B0BEC5",
                "#B0BEC5",
                "#B0BEC5",
                "#B0BEC5",
                "#B0BEC5",
                "#B0BEC5",
                "#B0BEC5",
                "#B0BEC5",
                "#B0BEC5",
                "#B0BEC5",
                "#B0BEC5",
                "#B0BEC5",
                "#B0BEC5",
                "#B0BEC5",
                "#B0BEC5",
                "#B0BEC5",
                "#B0BEC5",
                "#B0BEC5",
                "#B0BEC5",
                "#B0BEC5",
                "#B0BEC5",
                "#B0BEC5",
                "#B0BEC5",
                "#B0BEC5",
                "#B0BEC5",
                "#B0BEC5",
                "#B0BEC5",
                "#B0BEC5",
                "#B0BEC5",
                "#B0BEC5",
                "#B0BEC5",
                "#B0BEC5",
                "#B0BEC5",
                "#B0BEC5",
                "#B0BEC5",
                "#B0BEC5",
                "#B0BEC5",
                "#B0BEC5",
                "#B0BEC5",
                "#B0BEC5",
                "#B0BEC5",
                "#B0BEC5",
                "#B0BEC5",
                "#B0BEC5",
                "#B0BEC5",
                "#B0BEC5",
                "#B0BEC5",
                "#B0BEC5",
                "#B0BEC5",
                "#B0BEC5",
                "#B0BEC5",
                "#B0BEC5",
                "#B0BEC5",
                "#B0BEC5",
                "#B0BEC5",
                "#B0BEC5",
                "#B0BEC5",
                "#B0BEC5",
                "#B0BEC5",
                "#B0BEC5",
                "#B0BEC5"
               ]
              ]
             }
            ],
            "label": "Topic 31",
            "method": "update"
           },
           {
            "args": [
             {
              "marker.color": [
               [
                "#B0BEC5",
                "#B0BEC5",
                "#B0BEC5",
                "#B0BEC5",
                "#B0BEC5",
                "#B0BEC5",
                "#B0BEC5",
                "#B0BEC5",
                "#B0BEC5",
                "#B0BEC5",
                "#B0BEC5",
                "#B0BEC5",
                "#B0BEC5",
                "#B0BEC5",
                "#B0BEC5",
                "#B0BEC5",
                "#B0BEC5",
                "#B0BEC5",
                "#B0BEC5",
                "#B0BEC5",
                "#B0BEC5",
                "#B0BEC5",
                "#B0BEC5",
                "#B0BEC5",
                "#B0BEC5",
                "#B0BEC5",
                "#B0BEC5",
                "#B0BEC5",
                "#B0BEC5",
                "#B0BEC5",
                "#B0BEC5",
                "#B0BEC5",
                "red",
                "#B0BEC5",
                "#B0BEC5",
                "#B0BEC5",
                "#B0BEC5",
                "#B0BEC5",
                "#B0BEC5",
                "#B0BEC5",
                "#B0BEC5",
                "#B0BEC5",
                "#B0BEC5",
                "#B0BEC5",
                "#B0BEC5",
                "#B0BEC5",
                "#B0BEC5",
                "#B0BEC5",
                "#B0BEC5",
                "#B0BEC5",
                "#B0BEC5",
                "#B0BEC5",
                "#B0BEC5",
                "#B0BEC5",
                "#B0BEC5",
                "#B0BEC5",
                "#B0BEC5",
                "#B0BEC5",
                "#B0BEC5",
                "#B0BEC5",
                "#B0BEC5",
                "#B0BEC5",
                "#B0BEC5",
                "#B0BEC5",
                "#B0BEC5",
                "#B0BEC5",
                "#B0BEC5",
                "#B0BEC5",
                "#B0BEC5",
                "#B0BEC5",
                "#B0BEC5",
                "#B0BEC5",
                "#B0BEC5",
                "#B0BEC5",
                "#B0BEC5",
                "#B0BEC5",
                "#B0BEC5",
                "#B0BEC5",
                "#B0BEC5",
                "#B0BEC5",
                "#B0BEC5",
                "#B0BEC5",
                "#B0BEC5",
                "#B0BEC5",
                "#B0BEC5",
                "#B0BEC5",
                "#B0BEC5",
                "#B0BEC5",
                "#B0BEC5",
                "#B0BEC5",
                "#B0BEC5",
                "#B0BEC5",
                "#B0BEC5"
               ]
              ]
             }
            ],
            "label": "Topic 32",
            "method": "update"
           },
           {
            "args": [
             {
              "marker.color": [
               [
                "#B0BEC5",
                "#B0BEC5",
                "#B0BEC5",
                "#B0BEC5",
                "#B0BEC5",
                "#B0BEC5",
                "#B0BEC5",
                "#B0BEC5",
                "#B0BEC5",
                "#B0BEC5",
                "#B0BEC5",
                "#B0BEC5",
                "#B0BEC5",
                "#B0BEC5",
                "#B0BEC5",
                "#B0BEC5",
                "#B0BEC5",
                "#B0BEC5",
                "#B0BEC5",
                "#B0BEC5",
                "#B0BEC5",
                "#B0BEC5",
                "#B0BEC5",
                "#B0BEC5",
                "#B0BEC5",
                "#B0BEC5",
                "#B0BEC5",
                "#B0BEC5",
                "#B0BEC5",
                "#B0BEC5",
                "#B0BEC5",
                "#B0BEC5",
                "#B0BEC5",
                "red",
                "#B0BEC5",
                "#B0BEC5",
                "#B0BEC5",
                "#B0BEC5",
                "#B0BEC5",
                "#B0BEC5",
                "#B0BEC5",
                "#B0BEC5",
                "#B0BEC5",
                "#B0BEC5",
                "#B0BEC5",
                "#B0BEC5",
                "#B0BEC5",
                "#B0BEC5",
                "#B0BEC5",
                "#B0BEC5",
                "#B0BEC5",
                "#B0BEC5",
                "#B0BEC5",
                "#B0BEC5",
                "#B0BEC5",
                "#B0BEC5",
                "#B0BEC5",
                "#B0BEC5",
                "#B0BEC5",
                "#B0BEC5",
                "#B0BEC5",
                "#B0BEC5",
                "#B0BEC5",
                "#B0BEC5",
                "#B0BEC5",
                "#B0BEC5",
                "#B0BEC5",
                "#B0BEC5",
                "#B0BEC5",
                "#B0BEC5",
                "#B0BEC5",
                "#B0BEC5",
                "#B0BEC5",
                "#B0BEC5",
                "#B0BEC5",
                "#B0BEC5",
                "#B0BEC5",
                "#B0BEC5",
                "#B0BEC5",
                "#B0BEC5",
                "#B0BEC5",
                "#B0BEC5",
                "#B0BEC5",
                "#B0BEC5",
                "#B0BEC5",
                "#B0BEC5",
                "#B0BEC5",
                "#B0BEC5",
                "#B0BEC5",
                "#B0BEC5",
                "#B0BEC5",
                "#B0BEC5",
                "#B0BEC5"
               ]
              ]
             }
            ],
            "label": "Topic 33",
            "method": "update"
           },
           {
            "args": [
             {
              "marker.color": [
               [
                "#B0BEC5",
                "#B0BEC5",
                "#B0BEC5",
                "#B0BEC5",
                "#B0BEC5",
                "#B0BEC5",
                "#B0BEC5",
                "#B0BEC5",
                "#B0BEC5",
                "#B0BEC5",
                "#B0BEC5",
                "#B0BEC5",
                "#B0BEC5",
                "#B0BEC5",
                "#B0BEC5",
                "#B0BEC5",
                "#B0BEC5",
                "#B0BEC5",
                "#B0BEC5",
                "#B0BEC5",
                "#B0BEC5",
                "#B0BEC5",
                "#B0BEC5",
                "#B0BEC5",
                "#B0BEC5",
                "#B0BEC5",
                "#B0BEC5",
                "#B0BEC5",
                "#B0BEC5",
                "#B0BEC5",
                "#B0BEC5",
                "#B0BEC5",
                "#B0BEC5",
                "#B0BEC5",
                "red",
                "#B0BEC5",
                "#B0BEC5",
                "#B0BEC5",
                "#B0BEC5",
                "#B0BEC5",
                "#B0BEC5",
                "#B0BEC5",
                "#B0BEC5",
                "#B0BEC5",
                "#B0BEC5",
                "#B0BEC5",
                "#B0BEC5",
                "#B0BEC5",
                "#B0BEC5",
                "#B0BEC5",
                "#B0BEC5",
                "#B0BEC5",
                "#B0BEC5",
                "#B0BEC5",
                "#B0BEC5",
                "#B0BEC5",
                "#B0BEC5",
                "#B0BEC5",
                "#B0BEC5",
                "#B0BEC5",
                "#B0BEC5",
                "#B0BEC5",
                "#B0BEC5",
                "#B0BEC5",
                "#B0BEC5",
                "#B0BEC5",
                "#B0BEC5",
                "#B0BEC5",
                "#B0BEC5",
                "#B0BEC5",
                "#B0BEC5",
                "#B0BEC5",
                "#B0BEC5",
                "#B0BEC5",
                "#B0BEC5",
                "#B0BEC5",
                "#B0BEC5",
                "#B0BEC5",
                "#B0BEC5",
                "#B0BEC5",
                "#B0BEC5",
                "#B0BEC5",
                "#B0BEC5",
                "#B0BEC5",
                "#B0BEC5",
                "#B0BEC5",
                "#B0BEC5",
                "#B0BEC5",
                "#B0BEC5",
                "#B0BEC5",
                "#B0BEC5",
                "#B0BEC5",
                "#B0BEC5"
               ]
              ]
             }
            ],
            "label": "Topic 34",
            "method": "update"
           },
           {
            "args": [
             {
              "marker.color": [
               [
                "#B0BEC5",
                "#B0BEC5",
                "#B0BEC5",
                "#B0BEC5",
                "#B0BEC5",
                "#B0BEC5",
                "#B0BEC5",
                "#B0BEC5",
                "#B0BEC5",
                "#B0BEC5",
                "#B0BEC5",
                "#B0BEC5",
                "#B0BEC5",
                "#B0BEC5",
                "#B0BEC5",
                "#B0BEC5",
                "#B0BEC5",
                "#B0BEC5",
                "#B0BEC5",
                "#B0BEC5",
                "#B0BEC5",
                "#B0BEC5",
                "#B0BEC5",
                "#B0BEC5",
                "#B0BEC5",
                "#B0BEC5",
                "#B0BEC5",
                "#B0BEC5",
                "#B0BEC5",
                "#B0BEC5",
                "#B0BEC5",
                "#B0BEC5",
                "#B0BEC5",
                "#B0BEC5",
                "#B0BEC5",
                "red",
                "#B0BEC5",
                "#B0BEC5",
                "#B0BEC5",
                "#B0BEC5",
                "#B0BEC5",
                "#B0BEC5",
                "#B0BEC5",
                "#B0BEC5",
                "#B0BEC5",
                "#B0BEC5",
                "#B0BEC5",
                "#B0BEC5",
                "#B0BEC5",
                "#B0BEC5",
                "#B0BEC5",
                "#B0BEC5",
                "#B0BEC5",
                "#B0BEC5",
                "#B0BEC5",
                "#B0BEC5",
                "#B0BEC5",
                "#B0BEC5",
                "#B0BEC5",
                "#B0BEC5",
                "#B0BEC5",
                "#B0BEC5",
                "#B0BEC5",
                "#B0BEC5",
                "#B0BEC5",
                "#B0BEC5",
                "#B0BEC5",
                "#B0BEC5",
                "#B0BEC5",
                "#B0BEC5",
                "#B0BEC5",
                "#B0BEC5",
                "#B0BEC5",
                "#B0BEC5",
                "#B0BEC5",
                "#B0BEC5",
                "#B0BEC5",
                "#B0BEC5",
                "#B0BEC5",
                "#B0BEC5",
                "#B0BEC5",
                "#B0BEC5",
                "#B0BEC5",
                "#B0BEC5",
                "#B0BEC5",
                "#B0BEC5",
                "#B0BEC5",
                "#B0BEC5",
                "#B0BEC5",
                "#B0BEC5",
                "#B0BEC5",
                "#B0BEC5",
                "#B0BEC5"
               ]
              ]
             }
            ],
            "label": "Topic 35",
            "method": "update"
           },
           {
            "args": [
             {
              "marker.color": [
               [
                "#B0BEC5",
                "#B0BEC5",
                "#B0BEC5",
                "#B0BEC5",
                "#B0BEC5",
                "#B0BEC5",
                "#B0BEC5",
                "#B0BEC5",
                "#B0BEC5",
                "#B0BEC5",
                "#B0BEC5",
                "#B0BEC5",
                "#B0BEC5",
                "#B0BEC5",
                "#B0BEC5",
                "#B0BEC5",
                "#B0BEC5",
                "#B0BEC5",
                "#B0BEC5",
                "#B0BEC5",
                "#B0BEC5",
                "#B0BEC5",
                "#B0BEC5",
                "#B0BEC5",
                "#B0BEC5",
                "#B0BEC5",
                "#B0BEC5",
                "#B0BEC5",
                "#B0BEC5",
                "#B0BEC5",
                "#B0BEC5",
                "#B0BEC5",
                "#B0BEC5",
                "#B0BEC5",
                "#B0BEC5",
                "#B0BEC5",
                "red",
                "#B0BEC5",
                "#B0BEC5",
                "#B0BEC5",
                "#B0BEC5",
                "#B0BEC5",
                "#B0BEC5",
                "#B0BEC5",
                "#B0BEC5",
                "#B0BEC5",
                "#B0BEC5",
                "#B0BEC5",
                "#B0BEC5",
                "#B0BEC5",
                "#B0BEC5",
                "#B0BEC5",
                "#B0BEC5",
                "#B0BEC5",
                "#B0BEC5",
                "#B0BEC5",
                "#B0BEC5",
                "#B0BEC5",
                "#B0BEC5",
                "#B0BEC5",
                "#B0BEC5",
                "#B0BEC5",
                "#B0BEC5",
                "#B0BEC5",
                "#B0BEC5",
                "#B0BEC5",
                "#B0BEC5",
                "#B0BEC5",
                "#B0BEC5",
                "#B0BEC5",
                "#B0BEC5",
                "#B0BEC5",
                "#B0BEC5",
                "#B0BEC5",
                "#B0BEC5",
                "#B0BEC5",
                "#B0BEC5",
                "#B0BEC5",
                "#B0BEC5",
                "#B0BEC5",
                "#B0BEC5",
                "#B0BEC5",
                "#B0BEC5",
                "#B0BEC5",
                "#B0BEC5",
                "#B0BEC5",
                "#B0BEC5",
                "#B0BEC5",
                "#B0BEC5",
                "#B0BEC5",
                "#B0BEC5",
                "#B0BEC5",
                "#B0BEC5"
               ]
              ]
             }
            ],
            "label": "Topic 36",
            "method": "update"
           },
           {
            "args": [
             {
              "marker.color": [
               [
                "#B0BEC5",
                "#B0BEC5",
                "#B0BEC5",
                "#B0BEC5",
                "#B0BEC5",
                "#B0BEC5",
                "#B0BEC5",
                "#B0BEC5",
                "#B0BEC5",
                "#B0BEC5",
                "#B0BEC5",
                "#B0BEC5",
                "#B0BEC5",
                "#B0BEC5",
                "#B0BEC5",
                "#B0BEC5",
                "#B0BEC5",
                "#B0BEC5",
                "#B0BEC5",
                "#B0BEC5",
                "#B0BEC5",
                "#B0BEC5",
                "#B0BEC5",
                "#B0BEC5",
                "#B0BEC5",
                "#B0BEC5",
                "#B0BEC5",
                "#B0BEC5",
                "#B0BEC5",
                "#B0BEC5",
                "#B0BEC5",
                "#B0BEC5",
                "#B0BEC5",
                "#B0BEC5",
                "#B0BEC5",
                "#B0BEC5",
                "#B0BEC5",
                "red",
                "#B0BEC5",
                "#B0BEC5",
                "#B0BEC5",
                "#B0BEC5",
                "#B0BEC5",
                "#B0BEC5",
                "#B0BEC5",
                "#B0BEC5",
                "#B0BEC5",
                "#B0BEC5",
                "#B0BEC5",
                "#B0BEC5",
                "#B0BEC5",
                "#B0BEC5",
                "#B0BEC5",
                "#B0BEC5",
                "#B0BEC5",
                "#B0BEC5",
                "#B0BEC5",
                "#B0BEC5",
                "#B0BEC5",
                "#B0BEC5",
                "#B0BEC5",
                "#B0BEC5",
                "#B0BEC5",
                "#B0BEC5",
                "#B0BEC5",
                "#B0BEC5",
                "#B0BEC5",
                "#B0BEC5",
                "#B0BEC5",
                "#B0BEC5",
                "#B0BEC5",
                "#B0BEC5",
                "#B0BEC5",
                "#B0BEC5",
                "#B0BEC5",
                "#B0BEC5",
                "#B0BEC5",
                "#B0BEC5",
                "#B0BEC5",
                "#B0BEC5",
                "#B0BEC5",
                "#B0BEC5",
                "#B0BEC5",
                "#B0BEC5",
                "#B0BEC5",
                "#B0BEC5",
                "#B0BEC5",
                "#B0BEC5",
                "#B0BEC5",
                "#B0BEC5",
                "#B0BEC5",
                "#B0BEC5",
                "#B0BEC5"
               ]
              ]
             }
            ],
            "label": "Topic 37",
            "method": "update"
           },
           {
            "args": [
             {
              "marker.color": [
               [
                "#B0BEC5",
                "#B0BEC5",
                "#B0BEC5",
                "#B0BEC5",
                "#B0BEC5",
                "#B0BEC5",
                "#B0BEC5",
                "#B0BEC5",
                "#B0BEC5",
                "#B0BEC5",
                "#B0BEC5",
                "#B0BEC5",
                "#B0BEC5",
                "#B0BEC5",
                "#B0BEC5",
                "#B0BEC5",
                "#B0BEC5",
                "#B0BEC5",
                "#B0BEC5",
                "#B0BEC5",
                "#B0BEC5",
                "#B0BEC5",
                "#B0BEC5",
                "#B0BEC5",
                "#B0BEC5",
                "#B0BEC5",
                "#B0BEC5",
                "#B0BEC5",
                "#B0BEC5",
                "#B0BEC5",
                "#B0BEC5",
                "#B0BEC5",
                "#B0BEC5",
                "#B0BEC5",
                "#B0BEC5",
                "#B0BEC5",
                "#B0BEC5",
                "#B0BEC5",
                "red",
                "#B0BEC5",
                "#B0BEC5",
                "#B0BEC5",
                "#B0BEC5",
                "#B0BEC5",
                "#B0BEC5",
                "#B0BEC5",
                "#B0BEC5",
                "#B0BEC5",
                "#B0BEC5",
                "#B0BEC5",
                "#B0BEC5",
                "#B0BEC5",
                "#B0BEC5",
                "#B0BEC5",
                "#B0BEC5",
                "#B0BEC5",
                "#B0BEC5",
                "#B0BEC5",
                "#B0BEC5",
                "#B0BEC5",
                "#B0BEC5",
                "#B0BEC5",
                "#B0BEC5",
                "#B0BEC5",
                "#B0BEC5",
                "#B0BEC5",
                "#B0BEC5",
                "#B0BEC5",
                "#B0BEC5",
                "#B0BEC5",
                "#B0BEC5",
                "#B0BEC5",
                "#B0BEC5",
                "#B0BEC5",
                "#B0BEC5",
                "#B0BEC5",
                "#B0BEC5",
                "#B0BEC5",
                "#B0BEC5",
                "#B0BEC5",
                "#B0BEC5",
                "#B0BEC5",
                "#B0BEC5",
                "#B0BEC5",
                "#B0BEC5",
                "#B0BEC5",
                "#B0BEC5",
                "#B0BEC5",
                "#B0BEC5",
                "#B0BEC5",
                "#B0BEC5",
                "#B0BEC5",
                "#B0BEC5"
               ]
              ]
             }
            ],
            "label": "Topic 38",
            "method": "update"
           },
           {
            "args": [
             {
              "marker.color": [
               [
                "#B0BEC5",
                "#B0BEC5",
                "#B0BEC5",
                "#B0BEC5",
                "#B0BEC5",
                "#B0BEC5",
                "#B0BEC5",
                "#B0BEC5",
                "#B0BEC5",
                "#B0BEC5",
                "#B0BEC5",
                "#B0BEC5",
                "#B0BEC5",
                "#B0BEC5",
                "#B0BEC5",
                "#B0BEC5",
                "#B0BEC5",
                "#B0BEC5",
                "#B0BEC5",
                "#B0BEC5",
                "#B0BEC5",
                "#B0BEC5",
                "#B0BEC5",
                "#B0BEC5",
                "#B0BEC5",
                "#B0BEC5",
                "#B0BEC5",
                "#B0BEC5",
                "#B0BEC5",
                "#B0BEC5",
                "#B0BEC5",
                "#B0BEC5",
                "#B0BEC5",
                "#B0BEC5",
                "#B0BEC5",
                "#B0BEC5",
                "#B0BEC5",
                "#B0BEC5",
                "#B0BEC5",
                "red",
                "#B0BEC5",
                "#B0BEC5",
                "#B0BEC5",
                "#B0BEC5",
                "#B0BEC5",
                "#B0BEC5",
                "#B0BEC5",
                "#B0BEC5",
                "#B0BEC5",
                "#B0BEC5",
                "#B0BEC5",
                "#B0BEC5",
                "#B0BEC5",
                "#B0BEC5",
                "#B0BEC5",
                "#B0BEC5",
                "#B0BEC5",
                "#B0BEC5",
                "#B0BEC5",
                "#B0BEC5",
                "#B0BEC5",
                "#B0BEC5",
                "#B0BEC5",
                "#B0BEC5",
                "#B0BEC5",
                "#B0BEC5",
                "#B0BEC5",
                "#B0BEC5",
                "#B0BEC5",
                "#B0BEC5",
                "#B0BEC5",
                "#B0BEC5",
                "#B0BEC5",
                "#B0BEC5",
                "#B0BEC5",
                "#B0BEC5",
                "#B0BEC5",
                "#B0BEC5",
                "#B0BEC5",
                "#B0BEC5",
                "#B0BEC5",
                "#B0BEC5",
                "#B0BEC5",
                "#B0BEC5",
                "#B0BEC5",
                "#B0BEC5",
                "#B0BEC5",
                "#B0BEC5",
                "#B0BEC5",
                "#B0BEC5",
                "#B0BEC5",
                "#B0BEC5",
                "#B0BEC5"
               ]
              ]
             }
            ],
            "label": "Topic 39",
            "method": "update"
           },
           {
            "args": [
             {
              "marker.color": [
               [
                "#B0BEC5",
                "#B0BEC5",
                "#B0BEC5",
                "#B0BEC5",
                "#B0BEC5",
                "#B0BEC5",
                "#B0BEC5",
                "#B0BEC5",
                "#B0BEC5",
                "#B0BEC5",
                "#B0BEC5",
                "#B0BEC5",
                "#B0BEC5",
                "#B0BEC5",
                "#B0BEC5",
                "#B0BEC5",
                "#B0BEC5",
                "#B0BEC5",
                "#B0BEC5",
                "#B0BEC5",
                "#B0BEC5",
                "#B0BEC5",
                "#B0BEC5",
                "#B0BEC5",
                "#B0BEC5",
                "#B0BEC5",
                "#B0BEC5",
                "#B0BEC5",
                "#B0BEC5",
                "#B0BEC5",
                "#B0BEC5",
                "#B0BEC5",
                "#B0BEC5",
                "#B0BEC5",
                "#B0BEC5",
                "#B0BEC5",
                "#B0BEC5",
                "#B0BEC5",
                "#B0BEC5",
                "#B0BEC5",
                "red",
                "#B0BEC5",
                "#B0BEC5",
                "#B0BEC5",
                "#B0BEC5",
                "#B0BEC5",
                "#B0BEC5",
                "#B0BEC5",
                "#B0BEC5",
                "#B0BEC5",
                "#B0BEC5",
                "#B0BEC5",
                "#B0BEC5",
                "#B0BEC5",
                "#B0BEC5",
                "#B0BEC5",
                "#B0BEC5",
                "#B0BEC5",
                "#B0BEC5",
                "#B0BEC5",
                "#B0BEC5",
                "#B0BEC5",
                "#B0BEC5",
                "#B0BEC5",
                "#B0BEC5",
                "#B0BEC5",
                "#B0BEC5",
                "#B0BEC5",
                "#B0BEC5",
                "#B0BEC5",
                "#B0BEC5",
                "#B0BEC5",
                "#B0BEC5",
                "#B0BEC5",
                "#B0BEC5",
                "#B0BEC5",
                "#B0BEC5",
                "#B0BEC5",
                "#B0BEC5",
                "#B0BEC5",
                "#B0BEC5",
                "#B0BEC5",
                "#B0BEC5",
                "#B0BEC5",
                "#B0BEC5",
                "#B0BEC5",
                "#B0BEC5",
                "#B0BEC5",
                "#B0BEC5",
                "#B0BEC5",
                "#B0BEC5",
                "#B0BEC5",
                "#B0BEC5"
               ]
              ]
             }
            ],
            "label": "Topic 40",
            "method": "update"
           },
           {
            "args": [
             {
              "marker.color": [
               [
                "#B0BEC5",
                "#B0BEC5",
                "#B0BEC5",
                "#B0BEC5",
                "#B0BEC5",
                "#B0BEC5",
                "#B0BEC5",
                "#B0BEC5",
                "#B0BEC5",
                "#B0BEC5",
                "#B0BEC5",
                "#B0BEC5",
                "#B0BEC5",
                "#B0BEC5",
                "#B0BEC5",
                "#B0BEC5",
                "#B0BEC5",
                "#B0BEC5",
                "#B0BEC5",
                "#B0BEC5",
                "#B0BEC5",
                "#B0BEC5",
                "#B0BEC5",
                "#B0BEC5",
                "#B0BEC5",
                "#B0BEC5",
                "#B0BEC5",
                "#B0BEC5",
                "#B0BEC5",
                "#B0BEC5",
                "#B0BEC5",
                "#B0BEC5",
                "#B0BEC5",
                "#B0BEC5",
                "#B0BEC5",
                "#B0BEC5",
                "#B0BEC5",
                "#B0BEC5",
                "#B0BEC5",
                "#B0BEC5",
                "#B0BEC5",
                "red",
                "#B0BEC5",
                "#B0BEC5",
                "#B0BEC5",
                "#B0BEC5",
                "#B0BEC5",
                "#B0BEC5",
                "#B0BEC5",
                "#B0BEC5",
                "#B0BEC5",
                "#B0BEC5",
                "#B0BEC5",
                "#B0BEC5",
                "#B0BEC5",
                "#B0BEC5",
                "#B0BEC5",
                "#B0BEC5",
                "#B0BEC5",
                "#B0BEC5",
                "#B0BEC5",
                "#B0BEC5",
                "#B0BEC5",
                "#B0BEC5",
                "#B0BEC5",
                "#B0BEC5",
                "#B0BEC5",
                "#B0BEC5",
                "#B0BEC5",
                "#B0BEC5",
                "#B0BEC5",
                "#B0BEC5",
                "#B0BEC5",
                "#B0BEC5",
                "#B0BEC5",
                "#B0BEC5",
                "#B0BEC5",
                "#B0BEC5",
                "#B0BEC5",
                "#B0BEC5",
                "#B0BEC5",
                "#B0BEC5",
                "#B0BEC5",
                "#B0BEC5",
                "#B0BEC5",
                "#B0BEC5",
                "#B0BEC5",
                "#B0BEC5",
                "#B0BEC5",
                "#B0BEC5",
                "#B0BEC5",
                "#B0BEC5",
                "#B0BEC5"
               ]
              ]
             }
            ],
            "label": "Topic 41",
            "method": "update"
           },
           {
            "args": [
             {
              "marker.color": [
               [
                "#B0BEC5",
                "#B0BEC5",
                "#B0BEC5",
                "#B0BEC5",
                "#B0BEC5",
                "#B0BEC5",
                "#B0BEC5",
                "#B0BEC5",
                "#B0BEC5",
                "#B0BEC5",
                "#B0BEC5",
                "#B0BEC5",
                "#B0BEC5",
                "#B0BEC5",
                "#B0BEC5",
                "#B0BEC5",
                "#B0BEC5",
                "#B0BEC5",
                "#B0BEC5",
                "#B0BEC5",
                "#B0BEC5",
                "#B0BEC5",
                "#B0BEC5",
                "#B0BEC5",
                "#B0BEC5",
                "#B0BEC5",
                "#B0BEC5",
                "#B0BEC5",
                "#B0BEC5",
                "#B0BEC5",
                "#B0BEC5",
                "#B0BEC5",
                "#B0BEC5",
                "#B0BEC5",
                "#B0BEC5",
                "#B0BEC5",
                "#B0BEC5",
                "#B0BEC5",
                "#B0BEC5",
                "#B0BEC5",
                "#B0BEC5",
                "#B0BEC5",
                "red",
                "#B0BEC5",
                "#B0BEC5",
                "#B0BEC5",
                "#B0BEC5",
                "#B0BEC5",
                "#B0BEC5",
                "#B0BEC5",
                "#B0BEC5",
                "#B0BEC5",
                "#B0BEC5",
                "#B0BEC5",
                "#B0BEC5",
                "#B0BEC5",
                "#B0BEC5",
                "#B0BEC5",
                "#B0BEC5",
                "#B0BEC5",
                "#B0BEC5",
                "#B0BEC5",
                "#B0BEC5",
                "#B0BEC5",
                "#B0BEC5",
                "#B0BEC5",
                "#B0BEC5",
                "#B0BEC5",
                "#B0BEC5",
                "#B0BEC5",
                "#B0BEC5",
                "#B0BEC5",
                "#B0BEC5",
                "#B0BEC5",
                "#B0BEC5",
                "#B0BEC5",
                "#B0BEC5",
                "#B0BEC5",
                "#B0BEC5",
                "#B0BEC5",
                "#B0BEC5",
                "#B0BEC5",
                "#B0BEC5",
                "#B0BEC5",
                "#B0BEC5",
                "#B0BEC5",
                "#B0BEC5",
                "#B0BEC5",
                "#B0BEC5",
                "#B0BEC5",
                "#B0BEC5",
                "#B0BEC5",
                "#B0BEC5"
               ]
              ]
             }
            ],
            "label": "Topic 42",
            "method": "update"
           },
           {
            "args": [
             {
              "marker.color": [
               [
                "#B0BEC5",
                "#B0BEC5",
                "#B0BEC5",
                "#B0BEC5",
                "#B0BEC5",
                "#B0BEC5",
                "#B0BEC5",
                "#B0BEC5",
                "#B0BEC5",
                "#B0BEC5",
                "#B0BEC5",
                "#B0BEC5",
                "#B0BEC5",
                "#B0BEC5",
                "#B0BEC5",
                "#B0BEC5",
                "#B0BEC5",
                "#B0BEC5",
                "#B0BEC5",
                "#B0BEC5",
                "#B0BEC5",
                "#B0BEC5",
                "#B0BEC5",
                "#B0BEC5",
                "#B0BEC5",
                "#B0BEC5",
                "#B0BEC5",
                "#B0BEC5",
                "#B0BEC5",
                "#B0BEC5",
                "#B0BEC5",
                "#B0BEC5",
                "#B0BEC5",
                "#B0BEC5",
                "#B0BEC5",
                "#B0BEC5",
                "#B0BEC5",
                "#B0BEC5",
                "#B0BEC5",
                "#B0BEC5",
                "#B0BEC5",
                "#B0BEC5",
                "#B0BEC5",
                "red",
                "#B0BEC5",
                "#B0BEC5",
                "#B0BEC5",
                "#B0BEC5",
                "#B0BEC5",
                "#B0BEC5",
                "#B0BEC5",
                "#B0BEC5",
                "#B0BEC5",
                "#B0BEC5",
                "#B0BEC5",
                "#B0BEC5",
                "#B0BEC5",
                "#B0BEC5",
                "#B0BEC5",
                "#B0BEC5",
                "#B0BEC5",
                "#B0BEC5",
                "#B0BEC5",
                "#B0BEC5",
                "#B0BEC5",
                "#B0BEC5",
                "#B0BEC5",
                "#B0BEC5",
                "#B0BEC5",
                "#B0BEC5",
                "#B0BEC5",
                "#B0BEC5",
                "#B0BEC5",
                "#B0BEC5",
                "#B0BEC5",
                "#B0BEC5",
                "#B0BEC5",
                "#B0BEC5",
                "#B0BEC5",
                "#B0BEC5",
                "#B0BEC5",
                "#B0BEC5",
                "#B0BEC5",
                "#B0BEC5",
                "#B0BEC5",
                "#B0BEC5",
                "#B0BEC5",
                "#B0BEC5",
                "#B0BEC5",
                "#B0BEC5",
                "#B0BEC5",
                "#B0BEC5",
                "#B0BEC5"
               ]
              ]
             }
            ],
            "label": "Topic 43",
            "method": "update"
           },
           {
            "args": [
             {
              "marker.color": [
               [
                "#B0BEC5",
                "#B0BEC5",
                "#B0BEC5",
                "#B0BEC5",
                "#B0BEC5",
                "#B0BEC5",
                "#B0BEC5",
                "#B0BEC5",
                "#B0BEC5",
                "#B0BEC5",
                "#B0BEC5",
                "#B0BEC5",
                "#B0BEC5",
                "#B0BEC5",
                "#B0BEC5",
                "#B0BEC5",
                "#B0BEC5",
                "#B0BEC5",
                "#B0BEC5",
                "#B0BEC5",
                "#B0BEC5",
                "#B0BEC5",
                "#B0BEC5",
                "#B0BEC5",
                "#B0BEC5",
                "#B0BEC5",
                "#B0BEC5",
                "#B0BEC5",
                "#B0BEC5",
                "#B0BEC5",
                "#B0BEC5",
                "#B0BEC5",
                "#B0BEC5",
                "#B0BEC5",
                "#B0BEC5",
                "#B0BEC5",
                "#B0BEC5",
                "#B0BEC5",
                "#B0BEC5",
                "#B0BEC5",
                "#B0BEC5",
                "#B0BEC5",
                "#B0BEC5",
                "#B0BEC5",
                "red",
                "#B0BEC5",
                "#B0BEC5",
                "#B0BEC5",
                "#B0BEC5",
                "#B0BEC5",
                "#B0BEC5",
                "#B0BEC5",
                "#B0BEC5",
                "#B0BEC5",
                "#B0BEC5",
                "#B0BEC5",
                "#B0BEC5",
                "#B0BEC5",
                "#B0BEC5",
                "#B0BEC5",
                "#B0BEC5",
                "#B0BEC5",
                "#B0BEC5",
                "#B0BEC5",
                "#B0BEC5",
                "#B0BEC5",
                "#B0BEC5",
                "#B0BEC5",
                "#B0BEC5",
                "#B0BEC5",
                "#B0BEC5",
                "#B0BEC5",
                "#B0BEC5",
                "#B0BEC5",
                "#B0BEC5",
                "#B0BEC5",
                "#B0BEC5",
                "#B0BEC5",
                "#B0BEC5",
                "#B0BEC5",
                "#B0BEC5",
                "#B0BEC5",
                "#B0BEC5",
                "#B0BEC5",
                "#B0BEC5",
                "#B0BEC5",
                "#B0BEC5",
                "#B0BEC5",
                "#B0BEC5",
                "#B0BEC5",
                "#B0BEC5",
                "#B0BEC5",
                "#B0BEC5"
               ]
              ]
             }
            ],
            "label": "Topic 44",
            "method": "update"
           },
           {
            "args": [
             {
              "marker.color": [
               [
                "#B0BEC5",
                "#B0BEC5",
                "#B0BEC5",
                "#B0BEC5",
                "#B0BEC5",
                "#B0BEC5",
                "#B0BEC5",
                "#B0BEC5",
                "#B0BEC5",
                "#B0BEC5",
                "#B0BEC5",
                "#B0BEC5",
                "#B0BEC5",
                "#B0BEC5",
                "#B0BEC5",
                "#B0BEC5",
                "#B0BEC5",
                "#B0BEC5",
                "#B0BEC5",
                "#B0BEC5",
                "#B0BEC5",
                "#B0BEC5",
                "#B0BEC5",
                "#B0BEC5",
                "#B0BEC5",
                "#B0BEC5",
                "#B0BEC5",
                "#B0BEC5",
                "#B0BEC5",
                "#B0BEC5",
                "#B0BEC5",
                "#B0BEC5",
                "#B0BEC5",
                "#B0BEC5",
                "#B0BEC5",
                "#B0BEC5",
                "#B0BEC5",
                "#B0BEC5",
                "#B0BEC5",
                "#B0BEC5",
                "#B0BEC5",
                "#B0BEC5",
                "#B0BEC5",
                "#B0BEC5",
                "#B0BEC5",
                "red",
                "#B0BEC5",
                "#B0BEC5",
                "#B0BEC5",
                "#B0BEC5",
                "#B0BEC5",
                "#B0BEC5",
                "#B0BEC5",
                "#B0BEC5",
                "#B0BEC5",
                "#B0BEC5",
                "#B0BEC5",
                "#B0BEC5",
                "#B0BEC5",
                "#B0BEC5",
                "#B0BEC5",
                "#B0BEC5",
                "#B0BEC5",
                "#B0BEC5",
                "#B0BEC5",
                "#B0BEC5",
                "#B0BEC5",
                "#B0BEC5",
                "#B0BEC5",
                "#B0BEC5",
                "#B0BEC5",
                "#B0BEC5",
                "#B0BEC5",
                "#B0BEC5",
                "#B0BEC5",
                "#B0BEC5",
                "#B0BEC5",
                "#B0BEC5",
                "#B0BEC5",
                "#B0BEC5",
                "#B0BEC5",
                "#B0BEC5",
                "#B0BEC5",
                "#B0BEC5",
                "#B0BEC5",
                "#B0BEC5",
                "#B0BEC5",
                "#B0BEC5",
                "#B0BEC5",
                "#B0BEC5",
                "#B0BEC5",
                "#B0BEC5",
                "#B0BEC5"
               ]
              ]
             }
            ],
            "label": "Topic 45",
            "method": "update"
           },
           {
            "args": [
             {
              "marker.color": [
               [
                "#B0BEC5",
                "#B0BEC5",
                "#B0BEC5",
                "#B0BEC5",
                "#B0BEC5",
                "#B0BEC5",
                "#B0BEC5",
                "#B0BEC5",
                "#B0BEC5",
                "#B0BEC5",
                "#B0BEC5",
                "#B0BEC5",
                "#B0BEC5",
                "#B0BEC5",
                "#B0BEC5",
                "#B0BEC5",
                "#B0BEC5",
                "#B0BEC5",
                "#B0BEC5",
                "#B0BEC5",
                "#B0BEC5",
                "#B0BEC5",
                "#B0BEC5",
                "#B0BEC5",
                "#B0BEC5",
                "#B0BEC5",
                "#B0BEC5",
                "#B0BEC5",
                "#B0BEC5",
                "#B0BEC5",
                "#B0BEC5",
                "#B0BEC5",
                "#B0BEC5",
                "#B0BEC5",
                "#B0BEC5",
                "#B0BEC5",
                "#B0BEC5",
                "#B0BEC5",
                "#B0BEC5",
                "#B0BEC5",
                "#B0BEC5",
                "#B0BEC5",
                "#B0BEC5",
                "#B0BEC5",
                "#B0BEC5",
                "#B0BEC5",
                "red",
                "#B0BEC5",
                "#B0BEC5",
                "#B0BEC5",
                "#B0BEC5",
                "#B0BEC5",
                "#B0BEC5",
                "#B0BEC5",
                "#B0BEC5",
                "#B0BEC5",
                "#B0BEC5",
                "#B0BEC5",
                "#B0BEC5",
                "#B0BEC5",
                "#B0BEC5",
                "#B0BEC5",
                "#B0BEC5",
                "#B0BEC5",
                "#B0BEC5",
                "#B0BEC5",
                "#B0BEC5",
                "#B0BEC5",
                "#B0BEC5",
                "#B0BEC5",
                "#B0BEC5",
                "#B0BEC5",
                "#B0BEC5",
                "#B0BEC5",
                "#B0BEC5",
                "#B0BEC5",
                "#B0BEC5",
                "#B0BEC5",
                "#B0BEC5",
                "#B0BEC5",
                "#B0BEC5",
                "#B0BEC5",
                "#B0BEC5",
                "#B0BEC5",
                "#B0BEC5",
                "#B0BEC5",
                "#B0BEC5",
                "#B0BEC5",
                "#B0BEC5",
                "#B0BEC5",
                "#B0BEC5",
                "#B0BEC5",
                "#B0BEC5"
               ]
              ]
             }
            ],
            "label": "Topic 46",
            "method": "update"
           },
           {
            "args": [
             {
              "marker.color": [
               [
                "#B0BEC5",
                "#B0BEC5",
                "#B0BEC5",
                "#B0BEC5",
                "#B0BEC5",
                "#B0BEC5",
                "#B0BEC5",
                "#B0BEC5",
                "#B0BEC5",
                "#B0BEC5",
                "#B0BEC5",
                "#B0BEC5",
                "#B0BEC5",
                "#B0BEC5",
                "#B0BEC5",
                "#B0BEC5",
                "#B0BEC5",
                "#B0BEC5",
                "#B0BEC5",
                "#B0BEC5",
                "#B0BEC5",
                "#B0BEC5",
                "#B0BEC5",
                "#B0BEC5",
                "#B0BEC5",
                "#B0BEC5",
                "#B0BEC5",
                "#B0BEC5",
                "#B0BEC5",
                "#B0BEC5",
                "#B0BEC5",
                "#B0BEC5",
                "#B0BEC5",
                "#B0BEC5",
                "#B0BEC5",
                "#B0BEC5",
                "#B0BEC5",
                "#B0BEC5",
                "#B0BEC5",
                "#B0BEC5",
                "#B0BEC5",
                "#B0BEC5",
                "#B0BEC5",
                "#B0BEC5",
                "#B0BEC5",
                "#B0BEC5",
                "#B0BEC5",
                "red",
                "#B0BEC5",
                "#B0BEC5",
                "#B0BEC5",
                "#B0BEC5",
                "#B0BEC5",
                "#B0BEC5",
                "#B0BEC5",
                "#B0BEC5",
                "#B0BEC5",
                "#B0BEC5",
                "#B0BEC5",
                "#B0BEC5",
                "#B0BEC5",
                "#B0BEC5",
                "#B0BEC5",
                "#B0BEC5",
                "#B0BEC5",
                "#B0BEC5",
                "#B0BEC5",
                "#B0BEC5",
                "#B0BEC5",
                "#B0BEC5",
                "#B0BEC5",
                "#B0BEC5",
                "#B0BEC5",
                "#B0BEC5",
                "#B0BEC5",
                "#B0BEC5",
                "#B0BEC5",
                "#B0BEC5",
                "#B0BEC5",
                "#B0BEC5",
                "#B0BEC5",
                "#B0BEC5",
                "#B0BEC5",
                "#B0BEC5",
                "#B0BEC5",
                "#B0BEC5",
                "#B0BEC5",
                "#B0BEC5",
                "#B0BEC5",
                "#B0BEC5",
                "#B0BEC5",
                "#B0BEC5",
                "#B0BEC5"
               ]
              ]
             }
            ],
            "label": "Topic 47",
            "method": "update"
           },
           {
            "args": [
             {
              "marker.color": [
               [
                "#B0BEC5",
                "#B0BEC5",
                "#B0BEC5",
                "#B0BEC5",
                "#B0BEC5",
                "#B0BEC5",
                "#B0BEC5",
                "#B0BEC5",
                "#B0BEC5",
                "#B0BEC5",
                "#B0BEC5",
                "#B0BEC5",
                "#B0BEC5",
                "#B0BEC5",
                "#B0BEC5",
                "#B0BEC5",
                "#B0BEC5",
                "#B0BEC5",
                "#B0BEC5",
                "#B0BEC5",
                "#B0BEC5",
                "#B0BEC5",
                "#B0BEC5",
                "#B0BEC5",
                "#B0BEC5",
                "#B0BEC5",
                "#B0BEC5",
                "#B0BEC5",
                "#B0BEC5",
                "#B0BEC5",
                "#B0BEC5",
                "#B0BEC5",
                "#B0BEC5",
                "#B0BEC5",
                "#B0BEC5",
                "#B0BEC5",
                "#B0BEC5",
                "#B0BEC5",
                "#B0BEC5",
                "#B0BEC5",
                "#B0BEC5",
                "#B0BEC5",
                "#B0BEC5",
                "#B0BEC5",
                "#B0BEC5",
                "#B0BEC5",
                "#B0BEC5",
                "#B0BEC5",
                "red",
                "#B0BEC5",
                "#B0BEC5",
                "#B0BEC5",
                "#B0BEC5",
                "#B0BEC5",
                "#B0BEC5",
                "#B0BEC5",
                "#B0BEC5",
                "#B0BEC5",
                "#B0BEC5",
                "#B0BEC5",
                "#B0BEC5",
                "#B0BEC5",
                "#B0BEC5",
                "#B0BEC5",
                "#B0BEC5",
                "#B0BEC5",
                "#B0BEC5",
                "#B0BEC5",
                "#B0BEC5",
                "#B0BEC5",
                "#B0BEC5",
                "#B0BEC5",
                "#B0BEC5",
                "#B0BEC5",
                "#B0BEC5",
                "#B0BEC5",
                "#B0BEC5",
                "#B0BEC5",
                "#B0BEC5",
                "#B0BEC5",
                "#B0BEC5",
                "#B0BEC5",
                "#B0BEC5",
                "#B0BEC5",
                "#B0BEC5",
                "#B0BEC5",
                "#B0BEC5",
                "#B0BEC5",
                "#B0BEC5",
                "#B0BEC5",
                "#B0BEC5",
                "#B0BEC5",
                "#B0BEC5"
               ]
              ]
             }
            ],
            "label": "Topic 48",
            "method": "update"
           },
           {
            "args": [
             {
              "marker.color": [
               [
                "#B0BEC5",
                "#B0BEC5",
                "#B0BEC5",
                "#B0BEC5",
                "#B0BEC5",
                "#B0BEC5",
                "#B0BEC5",
                "#B0BEC5",
                "#B0BEC5",
                "#B0BEC5",
                "#B0BEC5",
                "#B0BEC5",
                "#B0BEC5",
                "#B0BEC5",
                "#B0BEC5",
                "#B0BEC5",
                "#B0BEC5",
                "#B0BEC5",
                "#B0BEC5",
                "#B0BEC5",
                "#B0BEC5",
                "#B0BEC5",
                "#B0BEC5",
                "#B0BEC5",
                "#B0BEC5",
                "#B0BEC5",
                "#B0BEC5",
                "#B0BEC5",
                "#B0BEC5",
                "#B0BEC5",
                "#B0BEC5",
                "#B0BEC5",
                "#B0BEC5",
                "#B0BEC5",
                "#B0BEC5",
                "#B0BEC5",
                "#B0BEC5",
                "#B0BEC5",
                "#B0BEC5",
                "#B0BEC5",
                "#B0BEC5",
                "#B0BEC5",
                "#B0BEC5",
                "#B0BEC5",
                "#B0BEC5",
                "#B0BEC5",
                "#B0BEC5",
                "#B0BEC5",
                "#B0BEC5",
                "red",
                "#B0BEC5",
                "#B0BEC5",
                "#B0BEC5",
                "#B0BEC5",
                "#B0BEC5",
                "#B0BEC5",
                "#B0BEC5",
                "#B0BEC5",
                "#B0BEC5",
                "#B0BEC5",
                "#B0BEC5",
                "#B0BEC5",
                "#B0BEC5",
                "#B0BEC5",
                "#B0BEC5",
                "#B0BEC5",
                "#B0BEC5",
                "#B0BEC5",
                "#B0BEC5",
                "#B0BEC5",
                "#B0BEC5",
                "#B0BEC5",
                "#B0BEC5",
                "#B0BEC5",
                "#B0BEC5",
                "#B0BEC5",
                "#B0BEC5",
                "#B0BEC5",
                "#B0BEC5",
                "#B0BEC5",
                "#B0BEC5",
                "#B0BEC5",
                "#B0BEC5",
                "#B0BEC5",
                "#B0BEC5",
                "#B0BEC5",
                "#B0BEC5",
                "#B0BEC5",
                "#B0BEC5",
                "#B0BEC5",
                "#B0BEC5",
                "#B0BEC5",
                "#B0BEC5"
               ]
              ]
             }
            ],
            "label": "Topic 49",
            "method": "update"
           },
           {
            "args": [
             {
              "marker.color": [
               [
                "#B0BEC5",
                "#B0BEC5",
                "#B0BEC5",
                "#B0BEC5",
                "#B0BEC5",
                "#B0BEC5",
                "#B0BEC5",
                "#B0BEC5",
                "#B0BEC5",
                "#B0BEC5",
                "#B0BEC5",
                "#B0BEC5",
                "#B0BEC5",
                "#B0BEC5",
                "#B0BEC5",
                "#B0BEC5",
                "#B0BEC5",
                "#B0BEC5",
                "#B0BEC5",
                "#B0BEC5",
                "#B0BEC5",
                "#B0BEC5",
                "#B0BEC5",
                "#B0BEC5",
                "#B0BEC5",
                "#B0BEC5",
                "#B0BEC5",
                "#B0BEC5",
                "#B0BEC5",
                "#B0BEC5",
                "#B0BEC5",
                "#B0BEC5",
                "#B0BEC5",
                "#B0BEC5",
                "#B0BEC5",
                "#B0BEC5",
                "#B0BEC5",
                "#B0BEC5",
                "#B0BEC5",
                "#B0BEC5",
                "#B0BEC5",
                "#B0BEC5",
                "#B0BEC5",
                "#B0BEC5",
                "#B0BEC5",
                "#B0BEC5",
                "#B0BEC5",
                "#B0BEC5",
                "#B0BEC5",
                "#B0BEC5",
                "red",
                "#B0BEC5",
                "#B0BEC5",
                "#B0BEC5",
                "#B0BEC5",
                "#B0BEC5",
                "#B0BEC5",
                "#B0BEC5",
                "#B0BEC5",
                "#B0BEC5",
                "#B0BEC5",
                "#B0BEC5",
                "#B0BEC5",
                "#B0BEC5",
                "#B0BEC5",
                "#B0BEC5",
                "#B0BEC5",
                "#B0BEC5",
                "#B0BEC5",
                "#B0BEC5",
                "#B0BEC5",
                "#B0BEC5",
                "#B0BEC5",
                "#B0BEC5",
                "#B0BEC5",
                "#B0BEC5",
                "#B0BEC5",
                "#B0BEC5",
                "#B0BEC5",
                "#B0BEC5",
                "#B0BEC5",
                "#B0BEC5",
                "#B0BEC5",
                "#B0BEC5",
                "#B0BEC5",
                "#B0BEC5",
                "#B0BEC5",
                "#B0BEC5",
                "#B0BEC5",
                "#B0BEC5",
                "#B0BEC5",
                "#B0BEC5",
                "#B0BEC5"
               ]
              ]
             }
            ],
            "label": "Topic 50",
            "method": "update"
           },
           {
            "args": [
             {
              "marker.color": [
               [
                "#B0BEC5",
                "#B0BEC5",
                "#B0BEC5",
                "#B0BEC5",
                "#B0BEC5",
                "#B0BEC5",
                "#B0BEC5",
                "#B0BEC5",
                "#B0BEC5",
                "#B0BEC5",
                "#B0BEC5",
                "#B0BEC5",
                "#B0BEC5",
                "#B0BEC5",
                "#B0BEC5",
                "#B0BEC5",
                "#B0BEC5",
                "#B0BEC5",
                "#B0BEC5",
                "#B0BEC5",
                "#B0BEC5",
                "#B0BEC5",
                "#B0BEC5",
                "#B0BEC5",
                "#B0BEC5",
                "#B0BEC5",
                "#B0BEC5",
                "#B0BEC5",
                "#B0BEC5",
                "#B0BEC5",
                "#B0BEC5",
                "#B0BEC5",
                "#B0BEC5",
                "#B0BEC5",
                "#B0BEC5",
                "#B0BEC5",
                "#B0BEC5",
                "#B0BEC5",
                "#B0BEC5",
                "#B0BEC5",
                "#B0BEC5",
                "#B0BEC5",
                "#B0BEC5",
                "#B0BEC5",
                "#B0BEC5",
                "#B0BEC5",
                "#B0BEC5",
                "#B0BEC5",
                "#B0BEC5",
                "#B0BEC5",
                "#B0BEC5",
                "red",
                "#B0BEC5",
                "#B0BEC5",
                "#B0BEC5",
                "#B0BEC5",
                "#B0BEC5",
                "#B0BEC5",
                "#B0BEC5",
                "#B0BEC5",
                "#B0BEC5",
                "#B0BEC5",
                "#B0BEC5",
                "#B0BEC5",
                "#B0BEC5",
                "#B0BEC5",
                "#B0BEC5",
                "#B0BEC5",
                "#B0BEC5",
                "#B0BEC5",
                "#B0BEC5",
                "#B0BEC5",
                "#B0BEC5",
                "#B0BEC5",
                "#B0BEC5",
                "#B0BEC5",
                "#B0BEC5",
                "#B0BEC5",
                "#B0BEC5",
                "#B0BEC5",
                "#B0BEC5",
                "#B0BEC5",
                "#B0BEC5",
                "#B0BEC5",
                "#B0BEC5",
                "#B0BEC5",
                "#B0BEC5",
                "#B0BEC5",
                "#B0BEC5",
                "#B0BEC5",
                "#B0BEC5",
                "#B0BEC5",
                "#B0BEC5"
               ]
              ]
             }
            ],
            "label": "Topic 51",
            "method": "update"
           },
           {
            "args": [
             {
              "marker.color": [
               [
                "#B0BEC5",
                "#B0BEC5",
                "#B0BEC5",
                "#B0BEC5",
                "#B0BEC5",
                "#B0BEC5",
                "#B0BEC5",
                "#B0BEC5",
                "#B0BEC5",
                "#B0BEC5",
                "#B0BEC5",
                "#B0BEC5",
                "#B0BEC5",
                "#B0BEC5",
                "#B0BEC5",
                "#B0BEC5",
                "#B0BEC5",
                "#B0BEC5",
                "#B0BEC5",
                "#B0BEC5",
                "#B0BEC5",
                "#B0BEC5",
                "#B0BEC5",
                "#B0BEC5",
                "#B0BEC5",
                "#B0BEC5",
                "#B0BEC5",
                "#B0BEC5",
                "#B0BEC5",
                "#B0BEC5",
                "#B0BEC5",
                "#B0BEC5",
                "#B0BEC5",
                "#B0BEC5",
                "#B0BEC5",
                "#B0BEC5",
                "#B0BEC5",
                "#B0BEC5",
                "#B0BEC5",
                "#B0BEC5",
                "#B0BEC5",
                "#B0BEC5",
                "#B0BEC5",
                "#B0BEC5",
                "#B0BEC5",
                "#B0BEC5",
                "#B0BEC5",
                "#B0BEC5",
                "#B0BEC5",
                "#B0BEC5",
                "#B0BEC5",
                "#B0BEC5",
                "red",
                "#B0BEC5",
                "#B0BEC5",
                "#B0BEC5",
                "#B0BEC5",
                "#B0BEC5",
                "#B0BEC5",
                "#B0BEC5",
                "#B0BEC5",
                "#B0BEC5",
                "#B0BEC5",
                "#B0BEC5",
                "#B0BEC5",
                "#B0BEC5",
                "#B0BEC5",
                "#B0BEC5",
                "#B0BEC5",
                "#B0BEC5",
                "#B0BEC5",
                "#B0BEC5",
                "#B0BEC5",
                "#B0BEC5",
                "#B0BEC5",
                "#B0BEC5",
                "#B0BEC5",
                "#B0BEC5",
                "#B0BEC5",
                "#B0BEC5",
                "#B0BEC5",
                "#B0BEC5",
                "#B0BEC5",
                "#B0BEC5",
                "#B0BEC5",
                "#B0BEC5",
                "#B0BEC5",
                "#B0BEC5",
                "#B0BEC5",
                "#B0BEC5",
                "#B0BEC5",
                "#B0BEC5",
                "#B0BEC5"
               ]
              ]
             }
            ],
            "label": "Topic 52",
            "method": "update"
           },
           {
            "args": [
             {
              "marker.color": [
               [
                "#B0BEC5",
                "#B0BEC5",
                "#B0BEC5",
                "#B0BEC5",
                "#B0BEC5",
                "#B0BEC5",
                "#B0BEC5",
                "#B0BEC5",
                "#B0BEC5",
                "#B0BEC5",
                "#B0BEC5",
                "#B0BEC5",
                "#B0BEC5",
                "#B0BEC5",
                "#B0BEC5",
                "#B0BEC5",
                "#B0BEC5",
                "#B0BEC5",
                "#B0BEC5",
                "#B0BEC5",
                "#B0BEC5",
                "#B0BEC5",
                "#B0BEC5",
                "#B0BEC5",
                "#B0BEC5",
                "#B0BEC5",
                "#B0BEC5",
                "#B0BEC5",
                "#B0BEC5",
                "#B0BEC5",
                "#B0BEC5",
                "#B0BEC5",
                "#B0BEC5",
                "#B0BEC5",
                "#B0BEC5",
                "#B0BEC5",
                "#B0BEC5",
                "#B0BEC5",
                "#B0BEC5",
                "#B0BEC5",
                "#B0BEC5",
                "#B0BEC5",
                "#B0BEC5",
                "#B0BEC5",
                "#B0BEC5",
                "#B0BEC5",
                "#B0BEC5",
                "#B0BEC5",
                "#B0BEC5",
                "#B0BEC5",
                "#B0BEC5",
                "#B0BEC5",
                "#B0BEC5",
                "red",
                "#B0BEC5",
                "#B0BEC5",
                "#B0BEC5",
                "#B0BEC5",
                "#B0BEC5",
                "#B0BEC5",
                "#B0BEC5",
                "#B0BEC5",
                "#B0BEC5",
                "#B0BEC5",
                "#B0BEC5",
                "#B0BEC5",
                "#B0BEC5",
                "#B0BEC5",
                "#B0BEC5",
                "#B0BEC5",
                "#B0BEC5",
                "#B0BEC5",
                "#B0BEC5",
                "#B0BEC5",
                "#B0BEC5",
                "#B0BEC5",
                "#B0BEC5",
                "#B0BEC5",
                "#B0BEC5",
                "#B0BEC5",
                "#B0BEC5",
                "#B0BEC5",
                "#B0BEC5",
                "#B0BEC5",
                "#B0BEC5",
                "#B0BEC5",
                "#B0BEC5",
                "#B0BEC5",
                "#B0BEC5",
                "#B0BEC5",
                "#B0BEC5",
                "#B0BEC5",
                "#B0BEC5"
               ]
              ]
             }
            ],
            "label": "Topic 53",
            "method": "update"
           },
           {
            "args": [
             {
              "marker.color": [
               [
                "#B0BEC5",
                "#B0BEC5",
                "#B0BEC5",
                "#B0BEC5",
                "#B0BEC5",
                "#B0BEC5",
                "#B0BEC5",
                "#B0BEC5",
                "#B0BEC5",
                "#B0BEC5",
                "#B0BEC5",
                "#B0BEC5",
                "#B0BEC5",
                "#B0BEC5",
                "#B0BEC5",
                "#B0BEC5",
                "#B0BEC5",
                "#B0BEC5",
                "#B0BEC5",
                "#B0BEC5",
                "#B0BEC5",
                "#B0BEC5",
                "#B0BEC5",
                "#B0BEC5",
                "#B0BEC5",
                "#B0BEC5",
                "#B0BEC5",
                "#B0BEC5",
                "#B0BEC5",
                "#B0BEC5",
                "#B0BEC5",
                "#B0BEC5",
                "#B0BEC5",
                "#B0BEC5",
                "#B0BEC5",
                "#B0BEC5",
                "#B0BEC5",
                "#B0BEC5",
                "#B0BEC5",
                "#B0BEC5",
                "#B0BEC5",
                "#B0BEC5",
                "#B0BEC5",
                "#B0BEC5",
                "#B0BEC5",
                "#B0BEC5",
                "#B0BEC5",
                "#B0BEC5",
                "#B0BEC5",
                "#B0BEC5",
                "#B0BEC5",
                "#B0BEC5",
                "#B0BEC5",
                "#B0BEC5",
                "red",
                "#B0BEC5",
                "#B0BEC5",
                "#B0BEC5",
                "#B0BEC5",
                "#B0BEC5",
                "#B0BEC5",
                "#B0BEC5",
                "#B0BEC5",
                "#B0BEC5",
                "#B0BEC5",
                "#B0BEC5",
                "#B0BEC5",
                "#B0BEC5",
                "#B0BEC5",
                "#B0BEC5",
                "#B0BEC5",
                "#B0BEC5",
                "#B0BEC5",
                "#B0BEC5",
                "#B0BEC5",
                "#B0BEC5",
                "#B0BEC5",
                "#B0BEC5",
                "#B0BEC5",
                "#B0BEC5",
                "#B0BEC5",
                "#B0BEC5",
                "#B0BEC5",
                "#B0BEC5",
                "#B0BEC5",
                "#B0BEC5",
                "#B0BEC5",
                "#B0BEC5",
                "#B0BEC5",
                "#B0BEC5",
                "#B0BEC5",
                "#B0BEC5",
                "#B0BEC5"
               ]
              ]
             }
            ],
            "label": "Topic 54",
            "method": "update"
           },
           {
            "args": [
             {
              "marker.color": [
               [
                "#B0BEC5",
                "#B0BEC5",
                "#B0BEC5",
                "#B0BEC5",
                "#B0BEC5",
                "#B0BEC5",
                "#B0BEC5",
                "#B0BEC5",
                "#B0BEC5",
                "#B0BEC5",
                "#B0BEC5",
                "#B0BEC5",
                "#B0BEC5",
                "#B0BEC5",
                "#B0BEC5",
                "#B0BEC5",
                "#B0BEC5",
                "#B0BEC5",
                "#B0BEC5",
                "#B0BEC5",
                "#B0BEC5",
                "#B0BEC5",
                "#B0BEC5",
                "#B0BEC5",
                "#B0BEC5",
                "#B0BEC5",
                "#B0BEC5",
                "#B0BEC5",
                "#B0BEC5",
                "#B0BEC5",
                "#B0BEC5",
                "#B0BEC5",
                "#B0BEC5",
                "#B0BEC5",
                "#B0BEC5",
                "#B0BEC5",
                "#B0BEC5",
                "#B0BEC5",
                "#B0BEC5",
                "#B0BEC5",
                "#B0BEC5",
                "#B0BEC5",
                "#B0BEC5",
                "#B0BEC5",
                "#B0BEC5",
                "#B0BEC5",
                "#B0BEC5",
                "#B0BEC5",
                "#B0BEC5",
                "#B0BEC5",
                "#B0BEC5",
                "#B0BEC5",
                "#B0BEC5",
                "#B0BEC5",
                "#B0BEC5",
                "red",
                "#B0BEC5",
                "#B0BEC5",
                "#B0BEC5",
                "#B0BEC5",
                "#B0BEC5",
                "#B0BEC5",
                "#B0BEC5",
                "#B0BEC5",
                "#B0BEC5",
                "#B0BEC5",
                "#B0BEC5",
                "#B0BEC5",
                "#B0BEC5",
                "#B0BEC5",
                "#B0BEC5",
                "#B0BEC5",
                "#B0BEC5",
                "#B0BEC5",
                "#B0BEC5",
                "#B0BEC5",
                "#B0BEC5",
                "#B0BEC5",
                "#B0BEC5",
                "#B0BEC5",
                "#B0BEC5",
                "#B0BEC5",
                "#B0BEC5",
                "#B0BEC5",
                "#B0BEC5",
                "#B0BEC5",
                "#B0BEC5",
                "#B0BEC5",
                "#B0BEC5",
                "#B0BEC5",
                "#B0BEC5",
                "#B0BEC5",
                "#B0BEC5"
               ]
              ]
             }
            ],
            "label": "Topic 55",
            "method": "update"
           },
           {
            "args": [
             {
              "marker.color": [
               [
                "#B0BEC5",
                "#B0BEC5",
                "#B0BEC5",
                "#B0BEC5",
                "#B0BEC5",
                "#B0BEC5",
                "#B0BEC5",
                "#B0BEC5",
                "#B0BEC5",
                "#B0BEC5",
                "#B0BEC5",
                "#B0BEC5",
                "#B0BEC5",
                "#B0BEC5",
                "#B0BEC5",
                "#B0BEC5",
                "#B0BEC5",
                "#B0BEC5",
                "#B0BEC5",
                "#B0BEC5",
                "#B0BEC5",
                "#B0BEC5",
                "#B0BEC5",
                "#B0BEC5",
                "#B0BEC5",
                "#B0BEC5",
                "#B0BEC5",
                "#B0BEC5",
                "#B0BEC5",
                "#B0BEC5",
                "#B0BEC5",
                "#B0BEC5",
                "#B0BEC5",
                "#B0BEC5",
                "#B0BEC5",
                "#B0BEC5",
                "#B0BEC5",
                "#B0BEC5",
                "#B0BEC5",
                "#B0BEC5",
                "#B0BEC5",
                "#B0BEC5",
                "#B0BEC5",
                "#B0BEC5",
                "#B0BEC5",
                "#B0BEC5",
                "#B0BEC5",
                "#B0BEC5",
                "#B0BEC5",
                "#B0BEC5",
                "#B0BEC5",
                "#B0BEC5",
                "#B0BEC5",
                "#B0BEC5",
                "#B0BEC5",
                "#B0BEC5",
                "red",
                "#B0BEC5",
                "#B0BEC5",
                "#B0BEC5",
                "#B0BEC5",
                "#B0BEC5",
                "#B0BEC5",
                "#B0BEC5",
                "#B0BEC5",
                "#B0BEC5",
                "#B0BEC5",
                "#B0BEC5",
                "#B0BEC5",
                "#B0BEC5",
                "#B0BEC5",
                "#B0BEC5",
                "#B0BEC5",
                "#B0BEC5",
                "#B0BEC5",
                "#B0BEC5",
                "#B0BEC5",
                "#B0BEC5",
                "#B0BEC5",
                "#B0BEC5",
                "#B0BEC5",
                "#B0BEC5",
                "#B0BEC5",
                "#B0BEC5",
                "#B0BEC5",
                "#B0BEC5",
                "#B0BEC5",
                "#B0BEC5",
                "#B0BEC5",
                "#B0BEC5",
                "#B0BEC5",
                "#B0BEC5",
                "#B0BEC5"
               ]
              ]
             }
            ],
            "label": "Topic 56",
            "method": "update"
           },
           {
            "args": [
             {
              "marker.color": [
               [
                "#B0BEC5",
                "#B0BEC5",
                "#B0BEC5",
                "#B0BEC5",
                "#B0BEC5",
                "#B0BEC5",
                "#B0BEC5",
                "#B0BEC5",
                "#B0BEC5",
                "#B0BEC5",
                "#B0BEC5",
                "#B0BEC5",
                "#B0BEC5",
                "#B0BEC5",
                "#B0BEC5",
                "#B0BEC5",
                "#B0BEC5",
                "#B0BEC5",
                "#B0BEC5",
                "#B0BEC5",
                "#B0BEC5",
                "#B0BEC5",
                "#B0BEC5",
                "#B0BEC5",
                "#B0BEC5",
                "#B0BEC5",
                "#B0BEC5",
                "#B0BEC5",
                "#B0BEC5",
                "#B0BEC5",
                "#B0BEC5",
                "#B0BEC5",
                "#B0BEC5",
                "#B0BEC5",
                "#B0BEC5",
                "#B0BEC5",
                "#B0BEC5",
                "#B0BEC5",
                "#B0BEC5",
                "#B0BEC5",
                "#B0BEC5",
                "#B0BEC5",
                "#B0BEC5",
                "#B0BEC5",
                "#B0BEC5",
                "#B0BEC5",
                "#B0BEC5",
                "#B0BEC5",
                "#B0BEC5",
                "#B0BEC5",
                "#B0BEC5",
                "#B0BEC5",
                "#B0BEC5",
                "#B0BEC5",
                "#B0BEC5",
                "#B0BEC5",
                "#B0BEC5",
                "red",
                "#B0BEC5",
                "#B0BEC5",
                "#B0BEC5",
                "#B0BEC5",
                "#B0BEC5",
                "#B0BEC5",
                "#B0BEC5",
                "#B0BEC5",
                "#B0BEC5",
                "#B0BEC5",
                "#B0BEC5",
                "#B0BEC5",
                "#B0BEC5",
                "#B0BEC5",
                "#B0BEC5",
                "#B0BEC5",
                "#B0BEC5",
                "#B0BEC5",
                "#B0BEC5",
                "#B0BEC5",
                "#B0BEC5",
                "#B0BEC5",
                "#B0BEC5",
                "#B0BEC5",
                "#B0BEC5",
                "#B0BEC5",
                "#B0BEC5",
                "#B0BEC5",
                "#B0BEC5",
                "#B0BEC5",
                "#B0BEC5",
                "#B0BEC5",
                "#B0BEC5",
                "#B0BEC5",
                "#B0BEC5"
               ]
              ]
             }
            ],
            "label": "Topic 57",
            "method": "update"
           },
           {
            "args": [
             {
              "marker.color": [
               [
                "#B0BEC5",
                "#B0BEC5",
                "#B0BEC5",
                "#B0BEC5",
                "#B0BEC5",
                "#B0BEC5",
                "#B0BEC5",
                "#B0BEC5",
                "#B0BEC5",
                "#B0BEC5",
                "#B0BEC5",
                "#B0BEC5",
                "#B0BEC5",
                "#B0BEC5",
                "#B0BEC5",
                "#B0BEC5",
                "#B0BEC5",
                "#B0BEC5",
                "#B0BEC5",
                "#B0BEC5",
                "#B0BEC5",
                "#B0BEC5",
                "#B0BEC5",
                "#B0BEC5",
                "#B0BEC5",
                "#B0BEC5",
                "#B0BEC5",
                "#B0BEC5",
                "#B0BEC5",
                "#B0BEC5",
                "#B0BEC5",
                "#B0BEC5",
                "#B0BEC5",
                "#B0BEC5",
                "#B0BEC5",
                "#B0BEC5",
                "#B0BEC5",
                "#B0BEC5",
                "#B0BEC5",
                "#B0BEC5",
                "#B0BEC5",
                "#B0BEC5",
                "#B0BEC5",
                "#B0BEC5",
                "#B0BEC5",
                "#B0BEC5",
                "#B0BEC5",
                "#B0BEC5",
                "#B0BEC5",
                "#B0BEC5",
                "#B0BEC5",
                "#B0BEC5",
                "#B0BEC5",
                "#B0BEC5",
                "#B0BEC5",
                "#B0BEC5",
                "#B0BEC5",
                "#B0BEC5",
                "red",
                "#B0BEC5",
                "#B0BEC5",
                "#B0BEC5",
                "#B0BEC5",
                "#B0BEC5",
                "#B0BEC5",
                "#B0BEC5",
                "#B0BEC5",
                "#B0BEC5",
                "#B0BEC5",
                "#B0BEC5",
                "#B0BEC5",
                "#B0BEC5",
                "#B0BEC5",
                "#B0BEC5",
                "#B0BEC5",
                "#B0BEC5",
                "#B0BEC5",
                "#B0BEC5",
                "#B0BEC5",
                "#B0BEC5",
                "#B0BEC5",
                "#B0BEC5",
                "#B0BEC5",
                "#B0BEC5",
                "#B0BEC5",
                "#B0BEC5",
                "#B0BEC5",
                "#B0BEC5",
                "#B0BEC5",
                "#B0BEC5",
                "#B0BEC5",
                "#B0BEC5",
                "#B0BEC5"
               ]
              ]
             }
            ],
            "label": "Topic 58",
            "method": "update"
           },
           {
            "args": [
             {
              "marker.color": [
               [
                "#B0BEC5",
                "#B0BEC5",
                "#B0BEC5",
                "#B0BEC5",
                "#B0BEC5",
                "#B0BEC5",
                "#B0BEC5",
                "#B0BEC5",
                "#B0BEC5",
                "#B0BEC5",
                "#B0BEC5",
                "#B0BEC5",
                "#B0BEC5",
                "#B0BEC5",
                "#B0BEC5",
                "#B0BEC5",
                "#B0BEC5",
                "#B0BEC5",
                "#B0BEC5",
                "#B0BEC5",
                "#B0BEC5",
                "#B0BEC5",
                "#B0BEC5",
                "#B0BEC5",
                "#B0BEC5",
                "#B0BEC5",
                "#B0BEC5",
                "#B0BEC5",
                "#B0BEC5",
                "#B0BEC5",
                "#B0BEC5",
                "#B0BEC5",
                "#B0BEC5",
                "#B0BEC5",
                "#B0BEC5",
                "#B0BEC5",
                "#B0BEC5",
                "#B0BEC5",
                "#B0BEC5",
                "#B0BEC5",
                "#B0BEC5",
                "#B0BEC5",
                "#B0BEC5",
                "#B0BEC5",
                "#B0BEC5",
                "#B0BEC5",
                "#B0BEC5",
                "#B0BEC5",
                "#B0BEC5",
                "#B0BEC5",
                "#B0BEC5",
                "#B0BEC5",
                "#B0BEC5",
                "#B0BEC5",
                "#B0BEC5",
                "#B0BEC5",
                "#B0BEC5",
                "#B0BEC5",
                "#B0BEC5",
                "red",
                "#B0BEC5",
                "#B0BEC5",
                "#B0BEC5",
                "#B0BEC5",
                "#B0BEC5",
                "#B0BEC5",
                "#B0BEC5",
                "#B0BEC5",
                "#B0BEC5",
                "#B0BEC5",
                "#B0BEC5",
                "#B0BEC5",
                "#B0BEC5",
                "#B0BEC5",
                "#B0BEC5",
                "#B0BEC5",
                "#B0BEC5",
                "#B0BEC5",
                "#B0BEC5",
                "#B0BEC5",
                "#B0BEC5",
                "#B0BEC5",
                "#B0BEC5",
                "#B0BEC5",
                "#B0BEC5",
                "#B0BEC5",
                "#B0BEC5",
                "#B0BEC5",
                "#B0BEC5",
                "#B0BEC5",
                "#B0BEC5",
                "#B0BEC5",
                "#B0BEC5"
               ]
              ]
             }
            ],
            "label": "Topic 59",
            "method": "update"
           },
           {
            "args": [
             {
              "marker.color": [
               [
                "#B0BEC5",
                "#B0BEC5",
                "#B0BEC5",
                "#B0BEC5",
                "#B0BEC5",
                "#B0BEC5",
                "#B0BEC5",
                "#B0BEC5",
                "#B0BEC5",
                "#B0BEC5",
                "#B0BEC5",
                "#B0BEC5",
                "#B0BEC5",
                "#B0BEC5",
                "#B0BEC5",
                "#B0BEC5",
                "#B0BEC5",
                "#B0BEC5",
                "#B0BEC5",
                "#B0BEC5",
                "#B0BEC5",
                "#B0BEC5",
                "#B0BEC5",
                "#B0BEC5",
                "#B0BEC5",
                "#B0BEC5",
                "#B0BEC5",
                "#B0BEC5",
                "#B0BEC5",
                "#B0BEC5",
                "#B0BEC5",
                "#B0BEC5",
                "#B0BEC5",
                "#B0BEC5",
                "#B0BEC5",
                "#B0BEC5",
                "#B0BEC5",
                "#B0BEC5",
                "#B0BEC5",
                "#B0BEC5",
                "#B0BEC5",
                "#B0BEC5",
                "#B0BEC5",
                "#B0BEC5",
                "#B0BEC5",
                "#B0BEC5",
                "#B0BEC5",
                "#B0BEC5",
                "#B0BEC5",
                "#B0BEC5",
                "#B0BEC5",
                "#B0BEC5",
                "#B0BEC5",
                "#B0BEC5",
                "#B0BEC5",
                "#B0BEC5",
                "#B0BEC5",
                "#B0BEC5",
                "#B0BEC5",
                "#B0BEC5",
                "red",
                "#B0BEC5",
                "#B0BEC5",
                "#B0BEC5",
                "#B0BEC5",
                "#B0BEC5",
                "#B0BEC5",
                "#B0BEC5",
                "#B0BEC5",
                "#B0BEC5",
                "#B0BEC5",
                "#B0BEC5",
                "#B0BEC5",
                "#B0BEC5",
                "#B0BEC5",
                "#B0BEC5",
                "#B0BEC5",
                "#B0BEC5",
                "#B0BEC5",
                "#B0BEC5",
                "#B0BEC5",
                "#B0BEC5",
                "#B0BEC5",
                "#B0BEC5",
                "#B0BEC5",
                "#B0BEC5",
                "#B0BEC5",
                "#B0BEC5",
                "#B0BEC5",
                "#B0BEC5",
                "#B0BEC5",
                "#B0BEC5",
                "#B0BEC5"
               ]
              ]
             }
            ],
            "label": "Topic 60",
            "method": "update"
           },
           {
            "args": [
             {
              "marker.color": [
               [
                "#B0BEC5",
                "#B0BEC5",
                "#B0BEC5",
                "#B0BEC5",
                "#B0BEC5",
                "#B0BEC5",
                "#B0BEC5",
                "#B0BEC5",
                "#B0BEC5",
                "#B0BEC5",
                "#B0BEC5",
                "#B0BEC5",
                "#B0BEC5",
                "#B0BEC5",
                "#B0BEC5",
                "#B0BEC5",
                "#B0BEC5",
                "#B0BEC5",
                "#B0BEC5",
                "#B0BEC5",
                "#B0BEC5",
                "#B0BEC5",
                "#B0BEC5",
                "#B0BEC5",
                "#B0BEC5",
                "#B0BEC5",
                "#B0BEC5",
                "#B0BEC5",
                "#B0BEC5",
                "#B0BEC5",
                "#B0BEC5",
                "#B0BEC5",
                "#B0BEC5",
                "#B0BEC5",
                "#B0BEC5",
                "#B0BEC5",
                "#B0BEC5",
                "#B0BEC5",
                "#B0BEC5",
                "#B0BEC5",
                "#B0BEC5",
                "#B0BEC5",
                "#B0BEC5",
                "#B0BEC5",
                "#B0BEC5",
                "#B0BEC5",
                "#B0BEC5",
                "#B0BEC5",
                "#B0BEC5",
                "#B0BEC5",
                "#B0BEC5",
                "#B0BEC5",
                "#B0BEC5",
                "#B0BEC5",
                "#B0BEC5",
                "#B0BEC5",
                "#B0BEC5",
                "#B0BEC5",
                "#B0BEC5",
                "#B0BEC5",
                "#B0BEC5",
                "red",
                "#B0BEC5",
                "#B0BEC5",
                "#B0BEC5",
                "#B0BEC5",
                "#B0BEC5",
                "#B0BEC5",
                "#B0BEC5",
                "#B0BEC5",
                "#B0BEC5",
                "#B0BEC5",
                "#B0BEC5",
                "#B0BEC5",
                "#B0BEC5",
                "#B0BEC5",
                "#B0BEC5",
                "#B0BEC5",
                "#B0BEC5",
                "#B0BEC5",
                "#B0BEC5",
                "#B0BEC5",
                "#B0BEC5",
                "#B0BEC5",
                "#B0BEC5",
                "#B0BEC5",
                "#B0BEC5",
                "#B0BEC5",
                "#B0BEC5",
                "#B0BEC5",
                "#B0BEC5",
                "#B0BEC5",
                "#B0BEC5"
               ]
              ]
             }
            ],
            "label": "Topic 61",
            "method": "update"
           },
           {
            "args": [
             {
              "marker.color": [
               [
                "#B0BEC5",
                "#B0BEC5",
                "#B0BEC5",
                "#B0BEC5",
                "#B0BEC5",
                "#B0BEC5",
                "#B0BEC5",
                "#B0BEC5",
                "#B0BEC5",
                "#B0BEC5",
                "#B0BEC5",
                "#B0BEC5",
                "#B0BEC5",
                "#B0BEC5",
                "#B0BEC5",
                "#B0BEC5",
                "#B0BEC5",
                "#B0BEC5",
                "#B0BEC5",
                "#B0BEC5",
                "#B0BEC5",
                "#B0BEC5",
                "#B0BEC5",
                "#B0BEC5",
                "#B0BEC5",
                "#B0BEC5",
                "#B0BEC5",
                "#B0BEC5",
                "#B0BEC5",
                "#B0BEC5",
                "#B0BEC5",
                "#B0BEC5",
                "#B0BEC5",
                "#B0BEC5",
                "#B0BEC5",
                "#B0BEC5",
                "#B0BEC5",
                "#B0BEC5",
                "#B0BEC5",
                "#B0BEC5",
                "#B0BEC5",
                "#B0BEC5",
                "#B0BEC5",
                "#B0BEC5",
                "#B0BEC5",
                "#B0BEC5",
                "#B0BEC5",
                "#B0BEC5",
                "#B0BEC5",
                "#B0BEC5",
                "#B0BEC5",
                "#B0BEC5",
                "#B0BEC5",
                "#B0BEC5",
                "#B0BEC5",
                "#B0BEC5",
                "#B0BEC5",
                "#B0BEC5",
                "#B0BEC5",
                "#B0BEC5",
                "#B0BEC5",
                "#B0BEC5",
                "red",
                "#B0BEC5",
                "#B0BEC5",
                "#B0BEC5",
                "#B0BEC5",
                "#B0BEC5",
                "#B0BEC5",
                "#B0BEC5",
                "#B0BEC5",
                "#B0BEC5",
                "#B0BEC5",
                "#B0BEC5",
                "#B0BEC5",
                "#B0BEC5",
                "#B0BEC5",
                "#B0BEC5",
                "#B0BEC5",
                "#B0BEC5",
                "#B0BEC5",
                "#B0BEC5",
                "#B0BEC5",
                "#B0BEC5",
                "#B0BEC5",
                "#B0BEC5",
                "#B0BEC5",
                "#B0BEC5",
                "#B0BEC5",
                "#B0BEC5",
                "#B0BEC5",
                "#B0BEC5",
                "#B0BEC5"
               ]
              ]
             }
            ],
            "label": "Topic 62",
            "method": "update"
           },
           {
            "args": [
             {
              "marker.color": [
               [
                "#B0BEC5",
                "#B0BEC5",
                "#B0BEC5",
                "#B0BEC5",
                "#B0BEC5",
                "#B0BEC5",
                "#B0BEC5",
                "#B0BEC5",
                "#B0BEC5",
                "#B0BEC5",
                "#B0BEC5",
                "#B0BEC5",
                "#B0BEC5",
                "#B0BEC5",
                "#B0BEC5",
                "#B0BEC5",
                "#B0BEC5",
                "#B0BEC5",
                "#B0BEC5",
                "#B0BEC5",
                "#B0BEC5",
                "#B0BEC5",
                "#B0BEC5",
                "#B0BEC5",
                "#B0BEC5",
                "#B0BEC5",
                "#B0BEC5",
                "#B0BEC5",
                "#B0BEC5",
                "#B0BEC5",
                "#B0BEC5",
                "#B0BEC5",
                "#B0BEC5",
                "#B0BEC5",
                "#B0BEC5",
                "#B0BEC5",
                "#B0BEC5",
                "#B0BEC5",
                "#B0BEC5",
                "#B0BEC5",
                "#B0BEC5",
                "#B0BEC5",
                "#B0BEC5",
                "#B0BEC5",
                "#B0BEC5",
                "#B0BEC5",
                "#B0BEC5",
                "#B0BEC5",
                "#B0BEC5",
                "#B0BEC5",
                "#B0BEC5",
                "#B0BEC5",
                "#B0BEC5",
                "#B0BEC5",
                "#B0BEC5",
                "#B0BEC5",
                "#B0BEC5",
                "#B0BEC5",
                "#B0BEC5",
                "#B0BEC5",
                "#B0BEC5",
                "#B0BEC5",
                "#B0BEC5",
                "red",
                "#B0BEC5",
                "#B0BEC5",
                "#B0BEC5",
                "#B0BEC5",
                "#B0BEC5",
                "#B0BEC5",
                "#B0BEC5",
                "#B0BEC5",
                "#B0BEC5",
                "#B0BEC5",
                "#B0BEC5",
                "#B0BEC5",
                "#B0BEC5",
                "#B0BEC5",
                "#B0BEC5",
                "#B0BEC5",
                "#B0BEC5",
                "#B0BEC5",
                "#B0BEC5",
                "#B0BEC5",
                "#B0BEC5",
                "#B0BEC5",
                "#B0BEC5",
                "#B0BEC5",
                "#B0BEC5",
                "#B0BEC5",
                "#B0BEC5",
                "#B0BEC5",
                "#B0BEC5"
               ]
              ]
             }
            ],
            "label": "Topic 63",
            "method": "update"
           },
           {
            "args": [
             {
              "marker.color": [
               [
                "#B0BEC5",
                "#B0BEC5",
                "#B0BEC5",
                "#B0BEC5",
                "#B0BEC5",
                "#B0BEC5",
                "#B0BEC5",
                "#B0BEC5",
                "#B0BEC5",
                "#B0BEC5",
                "#B0BEC5",
                "#B0BEC5",
                "#B0BEC5",
                "#B0BEC5",
                "#B0BEC5",
                "#B0BEC5",
                "#B0BEC5",
                "#B0BEC5",
                "#B0BEC5",
                "#B0BEC5",
                "#B0BEC5",
                "#B0BEC5",
                "#B0BEC5",
                "#B0BEC5",
                "#B0BEC5",
                "#B0BEC5",
                "#B0BEC5",
                "#B0BEC5",
                "#B0BEC5",
                "#B0BEC5",
                "#B0BEC5",
                "#B0BEC5",
                "#B0BEC5",
                "#B0BEC5",
                "#B0BEC5",
                "#B0BEC5",
                "#B0BEC5",
                "#B0BEC5",
                "#B0BEC5",
                "#B0BEC5",
                "#B0BEC5",
                "#B0BEC5",
                "#B0BEC5",
                "#B0BEC5",
                "#B0BEC5",
                "#B0BEC5",
                "#B0BEC5",
                "#B0BEC5",
                "#B0BEC5",
                "#B0BEC5",
                "#B0BEC5",
                "#B0BEC5",
                "#B0BEC5",
                "#B0BEC5",
                "#B0BEC5",
                "#B0BEC5",
                "#B0BEC5",
                "#B0BEC5",
                "#B0BEC5",
                "#B0BEC5",
                "#B0BEC5",
                "#B0BEC5",
                "#B0BEC5",
                "#B0BEC5",
                "red",
                "#B0BEC5",
                "#B0BEC5",
                "#B0BEC5",
                "#B0BEC5",
                "#B0BEC5",
                "#B0BEC5",
                "#B0BEC5",
                "#B0BEC5",
                "#B0BEC5",
                "#B0BEC5",
                "#B0BEC5",
                "#B0BEC5",
                "#B0BEC5",
                "#B0BEC5",
                "#B0BEC5",
                "#B0BEC5",
                "#B0BEC5",
                "#B0BEC5",
                "#B0BEC5",
                "#B0BEC5",
                "#B0BEC5",
                "#B0BEC5",
                "#B0BEC5",
                "#B0BEC5",
                "#B0BEC5",
                "#B0BEC5",
                "#B0BEC5",
                "#B0BEC5"
               ]
              ]
             }
            ],
            "label": "Topic 64",
            "method": "update"
           },
           {
            "args": [
             {
              "marker.color": [
               [
                "#B0BEC5",
                "#B0BEC5",
                "#B0BEC5",
                "#B0BEC5",
                "#B0BEC5",
                "#B0BEC5",
                "#B0BEC5",
                "#B0BEC5",
                "#B0BEC5",
                "#B0BEC5",
                "#B0BEC5",
                "#B0BEC5",
                "#B0BEC5",
                "#B0BEC5",
                "#B0BEC5",
                "#B0BEC5",
                "#B0BEC5",
                "#B0BEC5",
                "#B0BEC5",
                "#B0BEC5",
                "#B0BEC5",
                "#B0BEC5",
                "#B0BEC5",
                "#B0BEC5",
                "#B0BEC5",
                "#B0BEC5",
                "#B0BEC5",
                "#B0BEC5",
                "#B0BEC5",
                "#B0BEC5",
                "#B0BEC5",
                "#B0BEC5",
                "#B0BEC5",
                "#B0BEC5",
                "#B0BEC5",
                "#B0BEC5",
                "#B0BEC5",
                "#B0BEC5",
                "#B0BEC5",
                "#B0BEC5",
                "#B0BEC5",
                "#B0BEC5",
                "#B0BEC5",
                "#B0BEC5",
                "#B0BEC5",
                "#B0BEC5",
                "#B0BEC5",
                "#B0BEC5",
                "#B0BEC5",
                "#B0BEC5",
                "#B0BEC5",
                "#B0BEC5",
                "#B0BEC5",
                "#B0BEC5",
                "#B0BEC5",
                "#B0BEC5",
                "#B0BEC5",
                "#B0BEC5",
                "#B0BEC5",
                "#B0BEC5",
                "#B0BEC5",
                "#B0BEC5",
                "#B0BEC5",
                "#B0BEC5",
                "#B0BEC5",
                "red",
                "#B0BEC5",
                "#B0BEC5",
                "#B0BEC5",
                "#B0BEC5",
                "#B0BEC5",
                "#B0BEC5",
                "#B0BEC5",
                "#B0BEC5",
                "#B0BEC5",
                "#B0BEC5",
                "#B0BEC5",
                "#B0BEC5",
                "#B0BEC5",
                "#B0BEC5",
                "#B0BEC5",
                "#B0BEC5",
                "#B0BEC5",
                "#B0BEC5",
                "#B0BEC5",
                "#B0BEC5",
                "#B0BEC5",
                "#B0BEC5",
                "#B0BEC5",
                "#B0BEC5",
                "#B0BEC5",
                "#B0BEC5",
                "#B0BEC5"
               ]
              ]
             }
            ],
            "label": "Topic 65",
            "method": "update"
           },
           {
            "args": [
             {
              "marker.color": [
               [
                "#B0BEC5",
                "#B0BEC5",
                "#B0BEC5",
                "#B0BEC5",
                "#B0BEC5",
                "#B0BEC5",
                "#B0BEC5",
                "#B0BEC5",
                "#B0BEC5",
                "#B0BEC5",
                "#B0BEC5",
                "#B0BEC5",
                "#B0BEC5",
                "#B0BEC5",
                "#B0BEC5",
                "#B0BEC5",
                "#B0BEC5",
                "#B0BEC5",
                "#B0BEC5",
                "#B0BEC5",
                "#B0BEC5",
                "#B0BEC5",
                "#B0BEC5",
                "#B0BEC5",
                "#B0BEC5",
                "#B0BEC5",
                "#B0BEC5",
                "#B0BEC5",
                "#B0BEC5",
                "#B0BEC5",
                "#B0BEC5",
                "#B0BEC5",
                "#B0BEC5",
                "#B0BEC5",
                "#B0BEC5",
                "#B0BEC5",
                "#B0BEC5",
                "#B0BEC5",
                "#B0BEC5",
                "#B0BEC5",
                "#B0BEC5",
                "#B0BEC5",
                "#B0BEC5",
                "#B0BEC5",
                "#B0BEC5",
                "#B0BEC5",
                "#B0BEC5",
                "#B0BEC5",
                "#B0BEC5",
                "#B0BEC5",
                "#B0BEC5",
                "#B0BEC5",
                "#B0BEC5",
                "#B0BEC5",
                "#B0BEC5",
                "#B0BEC5",
                "#B0BEC5",
                "#B0BEC5",
                "#B0BEC5",
                "#B0BEC5",
                "#B0BEC5",
                "#B0BEC5",
                "#B0BEC5",
                "#B0BEC5",
                "#B0BEC5",
                "#B0BEC5",
                "red",
                "#B0BEC5",
                "#B0BEC5",
                "#B0BEC5",
                "#B0BEC5",
                "#B0BEC5",
                "#B0BEC5",
                "#B0BEC5",
                "#B0BEC5",
                "#B0BEC5",
                "#B0BEC5",
                "#B0BEC5",
                "#B0BEC5",
                "#B0BEC5",
                "#B0BEC5",
                "#B0BEC5",
                "#B0BEC5",
                "#B0BEC5",
                "#B0BEC5",
                "#B0BEC5",
                "#B0BEC5",
                "#B0BEC5",
                "#B0BEC5",
                "#B0BEC5",
                "#B0BEC5",
                "#B0BEC5",
                "#B0BEC5"
               ]
              ]
             }
            ],
            "label": "Topic 66",
            "method": "update"
           },
           {
            "args": [
             {
              "marker.color": [
               [
                "#B0BEC5",
                "#B0BEC5",
                "#B0BEC5",
                "#B0BEC5",
                "#B0BEC5",
                "#B0BEC5",
                "#B0BEC5",
                "#B0BEC5",
                "#B0BEC5",
                "#B0BEC5",
                "#B0BEC5",
                "#B0BEC5",
                "#B0BEC5",
                "#B0BEC5",
                "#B0BEC5",
                "#B0BEC5",
                "#B0BEC5",
                "#B0BEC5",
                "#B0BEC5",
                "#B0BEC5",
                "#B0BEC5",
                "#B0BEC5",
                "#B0BEC5",
                "#B0BEC5",
                "#B0BEC5",
                "#B0BEC5",
                "#B0BEC5",
                "#B0BEC5",
                "#B0BEC5",
                "#B0BEC5",
                "#B0BEC5",
                "#B0BEC5",
                "#B0BEC5",
                "#B0BEC5",
                "#B0BEC5",
                "#B0BEC5",
                "#B0BEC5",
                "#B0BEC5",
                "#B0BEC5",
                "#B0BEC5",
                "#B0BEC5",
                "#B0BEC5",
                "#B0BEC5",
                "#B0BEC5",
                "#B0BEC5",
                "#B0BEC5",
                "#B0BEC5",
                "#B0BEC5",
                "#B0BEC5",
                "#B0BEC5",
                "#B0BEC5",
                "#B0BEC5",
                "#B0BEC5",
                "#B0BEC5",
                "#B0BEC5",
                "#B0BEC5",
                "#B0BEC5",
                "#B0BEC5",
                "#B0BEC5",
                "#B0BEC5",
                "#B0BEC5",
                "#B0BEC5",
                "#B0BEC5",
                "#B0BEC5",
                "#B0BEC5",
                "#B0BEC5",
                "#B0BEC5",
                "red",
                "#B0BEC5",
                "#B0BEC5",
                "#B0BEC5",
                "#B0BEC5",
                "#B0BEC5",
                "#B0BEC5",
                "#B0BEC5",
                "#B0BEC5",
                "#B0BEC5",
                "#B0BEC5",
                "#B0BEC5",
                "#B0BEC5",
                "#B0BEC5",
                "#B0BEC5",
                "#B0BEC5",
                "#B0BEC5",
                "#B0BEC5",
                "#B0BEC5",
                "#B0BEC5",
                "#B0BEC5",
                "#B0BEC5",
                "#B0BEC5",
                "#B0BEC5",
                "#B0BEC5",
                "#B0BEC5"
               ]
              ]
             }
            ],
            "label": "Topic 67",
            "method": "update"
           },
           {
            "args": [
             {
              "marker.color": [
               [
                "#B0BEC5",
                "#B0BEC5",
                "#B0BEC5",
                "#B0BEC5",
                "#B0BEC5",
                "#B0BEC5",
                "#B0BEC5",
                "#B0BEC5",
                "#B0BEC5",
                "#B0BEC5",
                "#B0BEC5",
                "#B0BEC5",
                "#B0BEC5",
                "#B0BEC5",
                "#B0BEC5",
                "#B0BEC5",
                "#B0BEC5",
                "#B0BEC5",
                "#B0BEC5",
                "#B0BEC5",
                "#B0BEC5",
                "#B0BEC5",
                "#B0BEC5",
                "#B0BEC5",
                "#B0BEC5",
                "#B0BEC5",
                "#B0BEC5",
                "#B0BEC5",
                "#B0BEC5",
                "#B0BEC5",
                "#B0BEC5",
                "#B0BEC5",
                "#B0BEC5",
                "#B0BEC5",
                "#B0BEC5",
                "#B0BEC5",
                "#B0BEC5",
                "#B0BEC5",
                "#B0BEC5",
                "#B0BEC5",
                "#B0BEC5",
                "#B0BEC5",
                "#B0BEC5",
                "#B0BEC5",
                "#B0BEC5",
                "#B0BEC5",
                "#B0BEC5",
                "#B0BEC5",
                "#B0BEC5",
                "#B0BEC5",
                "#B0BEC5",
                "#B0BEC5",
                "#B0BEC5",
                "#B0BEC5",
                "#B0BEC5",
                "#B0BEC5",
                "#B0BEC5",
                "#B0BEC5",
                "#B0BEC5",
                "#B0BEC5",
                "#B0BEC5",
                "#B0BEC5",
                "#B0BEC5",
                "#B0BEC5",
                "#B0BEC5",
                "#B0BEC5",
                "#B0BEC5",
                "#B0BEC5",
                "red",
                "#B0BEC5",
                "#B0BEC5",
                "#B0BEC5",
                "#B0BEC5",
                "#B0BEC5",
                "#B0BEC5",
                "#B0BEC5",
                "#B0BEC5",
                "#B0BEC5",
                "#B0BEC5",
                "#B0BEC5",
                "#B0BEC5",
                "#B0BEC5",
                "#B0BEC5",
                "#B0BEC5",
                "#B0BEC5",
                "#B0BEC5",
                "#B0BEC5",
                "#B0BEC5",
                "#B0BEC5",
                "#B0BEC5",
                "#B0BEC5",
                "#B0BEC5",
                "#B0BEC5"
               ]
              ]
             }
            ],
            "label": "Topic 68",
            "method": "update"
           },
           {
            "args": [
             {
              "marker.color": [
               [
                "#B0BEC5",
                "#B0BEC5",
                "#B0BEC5",
                "#B0BEC5",
                "#B0BEC5",
                "#B0BEC5",
                "#B0BEC5",
                "#B0BEC5",
                "#B0BEC5",
                "#B0BEC5",
                "#B0BEC5",
                "#B0BEC5",
                "#B0BEC5",
                "#B0BEC5",
                "#B0BEC5",
                "#B0BEC5",
                "#B0BEC5",
                "#B0BEC5",
                "#B0BEC5",
                "#B0BEC5",
                "#B0BEC5",
                "#B0BEC5",
                "#B0BEC5",
                "#B0BEC5",
                "#B0BEC5",
                "#B0BEC5",
                "#B0BEC5",
                "#B0BEC5",
                "#B0BEC5",
                "#B0BEC5",
                "#B0BEC5",
                "#B0BEC5",
                "#B0BEC5",
                "#B0BEC5",
                "#B0BEC5",
                "#B0BEC5",
                "#B0BEC5",
                "#B0BEC5",
                "#B0BEC5",
                "#B0BEC5",
                "#B0BEC5",
                "#B0BEC5",
                "#B0BEC5",
                "#B0BEC5",
                "#B0BEC5",
                "#B0BEC5",
                "#B0BEC5",
                "#B0BEC5",
                "#B0BEC5",
                "#B0BEC5",
                "#B0BEC5",
                "#B0BEC5",
                "#B0BEC5",
                "#B0BEC5",
                "#B0BEC5",
                "#B0BEC5",
                "#B0BEC5",
                "#B0BEC5",
                "#B0BEC5",
                "#B0BEC5",
                "#B0BEC5",
                "#B0BEC5",
                "#B0BEC5",
                "#B0BEC5",
                "#B0BEC5",
                "#B0BEC5",
                "#B0BEC5",
                "#B0BEC5",
                "#B0BEC5",
                "red",
                "#B0BEC5",
                "#B0BEC5",
                "#B0BEC5",
                "#B0BEC5",
                "#B0BEC5",
                "#B0BEC5",
                "#B0BEC5",
                "#B0BEC5",
                "#B0BEC5",
                "#B0BEC5",
                "#B0BEC5",
                "#B0BEC5",
                "#B0BEC5",
                "#B0BEC5",
                "#B0BEC5",
                "#B0BEC5",
                "#B0BEC5",
                "#B0BEC5",
                "#B0BEC5",
                "#B0BEC5",
                "#B0BEC5",
                "#B0BEC5",
                "#B0BEC5"
               ]
              ]
             }
            ],
            "label": "Topic 69",
            "method": "update"
           },
           {
            "args": [
             {
              "marker.color": [
               [
                "#B0BEC5",
                "#B0BEC5",
                "#B0BEC5",
                "#B0BEC5",
                "#B0BEC5",
                "#B0BEC5",
                "#B0BEC5",
                "#B0BEC5",
                "#B0BEC5",
                "#B0BEC5",
                "#B0BEC5",
                "#B0BEC5",
                "#B0BEC5",
                "#B0BEC5",
                "#B0BEC5",
                "#B0BEC5",
                "#B0BEC5",
                "#B0BEC5",
                "#B0BEC5",
                "#B0BEC5",
                "#B0BEC5",
                "#B0BEC5",
                "#B0BEC5",
                "#B0BEC5",
                "#B0BEC5",
                "#B0BEC5",
                "#B0BEC5",
                "#B0BEC5",
                "#B0BEC5",
                "#B0BEC5",
                "#B0BEC5",
                "#B0BEC5",
                "#B0BEC5",
                "#B0BEC5",
                "#B0BEC5",
                "#B0BEC5",
                "#B0BEC5",
                "#B0BEC5",
                "#B0BEC5",
                "#B0BEC5",
                "#B0BEC5",
                "#B0BEC5",
                "#B0BEC5",
                "#B0BEC5",
                "#B0BEC5",
                "#B0BEC5",
                "#B0BEC5",
                "#B0BEC5",
                "#B0BEC5",
                "#B0BEC5",
                "#B0BEC5",
                "#B0BEC5",
                "#B0BEC5",
                "#B0BEC5",
                "#B0BEC5",
                "#B0BEC5",
                "#B0BEC5",
                "#B0BEC5",
                "#B0BEC5",
                "#B0BEC5",
                "#B0BEC5",
                "#B0BEC5",
                "#B0BEC5",
                "#B0BEC5",
                "#B0BEC5",
                "#B0BEC5",
                "#B0BEC5",
                "#B0BEC5",
                "#B0BEC5",
                "#B0BEC5",
                "red",
                "#B0BEC5",
                "#B0BEC5",
                "#B0BEC5",
                "#B0BEC5",
                "#B0BEC5",
                "#B0BEC5",
                "#B0BEC5",
                "#B0BEC5",
                "#B0BEC5",
                "#B0BEC5",
                "#B0BEC5",
                "#B0BEC5",
                "#B0BEC5",
                "#B0BEC5",
                "#B0BEC5",
                "#B0BEC5",
                "#B0BEC5",
                "#B0BEC5",
                "#B0BEC5",
                "#B0BEC5",
                "#B0BEC5",
                "#B0BEC5"
               ]
              ]
             }
            ],
            "label": "Topic 70",
            "method": "update"
           },
           {
            "args": [
             {
              "marker.color": [
               [
                "#B0BEC5",
                "#B0BEC5",
                "#B0BEC5",
                "#B0BEC5",
                "#B0BEC5",
                "#B0BEC5",
                "#B0BEC5",
                "#B0BEC5",
                "#B0BEC5",
                "#B0BEC5",
                "#B0BEC5",
                "#B0BEC5",
                "#B0BEC5",
                "#B0BEC5",
                "#B0BEC5",
                "#B0BEC5",
                "#B0BEC5",
                "#B0BEC5",
                "#B0BEC5",
                "#B0BEC5",
                "#B0BEC5",
                "#B0BEC5",
                "#B0BEC5",
                "#B0BEC5",
                "#B0BEC5",
                "#B0BEC5",
                "#B0BEC5",
                "#B0BEC5",
                "#B0BEC5",
                "#B0BEC5",
                "#B0BEC5",
                "#B0BEC5",
                "#B0BEC5",
                "#B0BEC5",
                "#B0BEC5",
                "#B0BEC5",
                "#B0BEC5",
                "#B0BEC5",
                "#B0BEC5",
                "#B0BEC5",
                "#B0BEC5",
                "#B0BEC5",
                "#B0BEC5",
                "#B0BEC5",
                "#B0BEC5",
                "#B0BEC5",
                "#B0BEC5",
                "#B0BEC5",
                "#B0BEC5",
                "#B0BEC5",
                "#B0BEC5",
                "#B0BEC5",
                "#B0BEC5",
                "#B0BEC5",
                "#B0BEC5",
                "#B0BEC5",
                "#B0BEC5",
                "#B0BEC5",
                "#B0BEC5",
                "#B0BEC5",
                "#B0BEC5",
                "#B0BEC5",
                "#B0BEC5",
                "#B0BEC5",
                "#B0BEC5",
                "#B0BEC5",
                "#B0BEC5",
                "#B0BEC5",
                "#B0BEC5",
                "#B0BEC5",
                "#B0BEC5",
                "red",
                "#B0BEC5",
                "#B0BEC5",
                "#B0BEC5",
                "#B0BEC5",
                "#B0BEC5",
                "#B0BEC5",
                "#B0BEC5",
                "#B0BEC5",
                "#B0BEC5",
                "#B0BEC5",
                "#B0BEC5",
                "#B0BEC5",
                "#B0BEC5",
                "#B0BEC5",
                "#B0BEC5",
                "#B0BEC5",
                "#B0BEC5",
                "#B0BEC5",
                "#B0BEC5",
                "#B0BEC5",
                "#B0BEC5"
               ]
              ]
             }
            ],
            "label": "Topic 71",
            "method": "update"
           },
           {
            "args": [
             {
              "marker.color": [
               [
                "#B0BEC5",
                "#B0BEC5",
                "#B0BEC5",
                "#B0BEC5",
                "#B0BEC5",
                "#B0BEC5",
                "#B0BEC5",
                "#B0BEC5",
                "#B0BEC5",
                "#B0BEC5",
                "#B0BEC5",
                "#B0BEC5",
                "#B0BEC5",
                "#B0BEC5",
                "#B0BEC5",
                "#B0BEC5",
                "#B0BEC5",
                "#B0BEC5",
                "#B0BEC5",
                "#B0BEC5",
                "#B0BEC5",
                "#B0BEC5",
                "#B0BEC5",
                "#B0BEC5",
                "#B0BEC5",
                "#B0BEC5",
                "#B0BEC5",
                "#B0BEC5",
                "#B0BEC5",
                "#B0BEC5",
                "#B0BEC5",
                "#B0BEC5",
                "#B0BEC5",
                "#B0BEC5",
                "#B0BEC5",
                "#B0BEC5",
                "#B0BEC5",
                "#B0BEC5",
                "#B0BEC5",
                "#B0BEC5",
                "#B0BEC5",
                "#B0BEC5",
                "#B0BEC5",
                "#B0BEC5",
                "#B0BEC5",
                "#B0BEC5",
                "#B0BEC5",
                "#B0BEC5",
                "#B0BEC5",
                "#B0BEC5",
                "#B0BEC5",
                "#B0BEC5",
                "#B0BEC5",
                "#B0BEC5",
                "#B0BEC5",
                "#B0BEC5",
                "#B0BEC5",
                "#B0BEC5",
                "#B0BEC5",
                "#B0BEC5",
                "#B0BEC5",
                "#B0BEC5",
                "#B0BEC5",
                "#B0BEC5",
                "#B0BEC5",
                "#B0BEC5",
                "#B0BEC5",
                "#B0BEC5",
                "#B0BEC5",
                "#B0BEC5",
                "#B0BEC5",
                "#B0BEC5",
                "red",
                "#B0BEC5",
                "#B0BEC5",
                "#B0BEC5",
                "#B0BEC5",
                "#B0BEC5",
                "#B0BEC5",
                "#B0BEC5",
                "#B0BEC5",
                "#B0BEC5",
                "#B0BEC5",
                "#B0BEC5",
                "#B0BEC5",
                "#B0BEC5",
                "#B0BEC5",
                "#B0BEC5",
                "#B0BEC5",
                "#B0BEC5",
                "#B0BEC5",
                "#B0BEC5",
                "#B0BEC5"
               ]
              ]
             }
            ],
            "label": "Topic 72",
            "method": "update"
           },
           {
            "args": [
             {
              "marker.color": [
               [
                "#B0BEC5",
                "#B0BEC5",
                "#B0BEC5",
                "#B0BEC5",
                "#B0BEC5",
                "#B0BEC5",
                "#B0BEC5",
                "#B0BEC5",
                "#B0BEC5",
                "#B0BEC5",
                "#B0BEC5",
                "#B0BEC5",
                "#B0BEC5",
                "#B0BEC5",
                "#B0BEC5",
                "#B0BEC5",
                "#B0BEC5",
                "#B0BEC5",
                "#B0BEC5",
                "#B0BEC5",
                "#B0BEC5",
                "#B0BEC5",
                "#B0BEC5",
                "#B0BEC5",
                "#B0BEC5",
                "#B0BEC5",
                "#B0BEC5",
                "#B0BEC5",
                "#B0BEC5",
                "#B0BEC5",
                "#B0BEC5",
                "#B0BEC5",
                "#B0BEC5",
                "#B0BEC5",
                "#B0BEC5",
                "#B0BEC5",
                "#B0BEC5",
                "#B0BEC5",
                "#B0BEC5",
                "#B0BEC5",
                "#B0BEC5",
                "#B0BEC5",
                "#B0BEC5",
                "#B0BEC5",
                "#B0BEC5",
                "#B0BEC5",
                "#B0BEC5",
                "#B0BEC5",
                "#B0BEC5",
                "#B0BEC5",
                "#B0BEC5",
                "#B0BEC5",
                "#B0BEC5",
                "#B0BEC5",
                "#B0BEC5",
                "#B0BEC5",
                "#B0BEC5",
                "#B0BEC5",
                "#B0BEC5",
                "#B0BEC5",
                "#B0BEC5",
                "#B0BEC5",
                "#B0BEC5",
                "#B0BEC5",
                "#B0BEC5",
                "#B0BEC5",
                "#B0BEC5",
                "#B0BEC5",
                "#B0BEC5",
                "#B0BEC5",
                "#B0BEC5",
                "#B0BEC5",
                "#B0BEC5",
                "red",
                "#B0BEC5",
                "#B0BEC5",
                "#B0BEC5",
                "#B0BEC5",
                "#B0BEC5",
                "#B0BEC5",
                "#B0BEC5",
                "#B0BEC5",
                "#B0BEC5",
                "#B0BEC5",
                "#B0BEC5",
                "#B0BEC5",
                "#B0BEC5",
                "#B0BEC5",
                "#B0BEC5",
                "#B0BEC5",
                "#B0BEC5",
                "#B0BEC5",
                "#B0BEC5"
               ]
              ]
             }
            ],
            "label": "Topic 73",
            "method": "update"
           },
           {
            "args": [
             {
              "marker.color": [
               [
                "#B0BEC5",
                "#B0BEC5",
                "#B0BEC5",
                "#B0BEC5",
                "#B0BEC5",
                "#B0BEC5",
                "#B0BEC5",
                "#B0BEC5",
                "#B0BEC5",
                "#B0BEC5",
                "#B0BEC5",
                "#B0BEC5",
                "#B0BEC5",
                "#B0BEC5",
                "#B0BEC5",
                "#B0BEC5",
                "#B0BEC5",
                "#B0BEC5",
                "#B0BEC5",
                "#B0BEC5",
                "#B0BEC5",
                "#B0BEC5",
                "#B0BEC5",
                "#B0BEC5",
                "#B0BEC5",
                "#B0BEC5",
                "#B0BEC5",
                "#B0BEC5",
                "#B0BEC5",
                "#B0BEC5",
                "#B0BEC5",
                "#B0BEC5",
                "#B0BEC5",
                "#B0BEC5",
                "#B0BEC5",
                "#B0BEC5",
                "#B0BEC5",
                "#B0BEC5",
                "#B0BEC5",
                "#B0BEC5",
                "#B0BEC5",
                "#B0BEC5",
                "#B0BEC5",
                "#B0BEC5",
                "#B0BEC5",
                "#B0BEC5",
                "#B0BEC5",
                "#B0BEC5",
                "#B0BEC5",
                "#B0BEC5",
                "#B0BEC5",
                "#B0BEC5",
                "#B0BEC5",
                "#B0BEC5",
                "#B0BEC5",
                "#B0BEC5",
                "#B0BEC5",
                "#B0BEC5",
                "#B0BEC5",
                "#B0BEC5",
                "#B0BEC5",
                "#B0BEC5",
                "#B0BEC5",
                "#B0BEC5",
                "#B0BEC5",
                "#B0BEC5",
                "#B0BEC5",
                "#B0BEC5",
                "#B0BEC5",
                "#B0BEC5",
                "#B0BEC5",
                "#B0BEC5",
                "#B0BEC5",
                "#B0BEC5",
                "red",
                "#B0BEC5",
                "#B0BEC5",
                "#B0BEC5",
                "#B0BEC5",
                "#B0BEC5",
                "#B0BEC5",
                "#B0BEC5",
                "#B0BEC5",
                "#B0BEC5",
                "#B0BEC5",
                "#B0BEC5",
                "#B0BEC5",
                "#B0BEC5",
                "#B0BEC5",
                "#B0BEC5",
                "#B0BEC5",
                "#B0BEC5",
                "#B0BEC5"
               ]
              ]
             }
            ],
            "label": "Topic 74",
            "method": "update"
           },
           {
            "args": [
             {
              "marker.color": [
               [
                "#B0BEC5",
                "#B0BEC5",
                "#B0BEC5",
                "#B0BEC5",
                "#B0BEC5",
                "#B0BEC5",
                "#B0BEC5",
                "#B0BEC5",
                "#B0BEC5",
                "#B0BEC5",
                "#B0BEC5",
                "#B0BEC5",
                "#B0BEC5",
                "#B0BEC5",
                "#B0BEC5",
                "#B0BEC5",
                "#B0BEC5",
                "#B0BEC5",
                "#B0BEC5",
                "#B0BEC5",
                "#B0BEC5",
                "#B0BEC5",
                "#B0BEC5",
                "#B0BEC5",
                "#B0BEC5",
                "#B0BEC5",
                "#B0BEC5",
                "#B0BEC5",
                "#B0BEC5",
                "#B0BEC5",
                "#B0BEC5",
                "#B0BEC5",
                "#B0BEC5",
                "#B0BEC5",
                "#B0BEC5",
                "#B0BEC5",
                "#B0BEC5",
                "#B0BEC5",
                "#B0BEC5",
                "#B0BEC5",
                "#B0BEC5",
                "#B0BEC5",
                "#B0BEC5",
                "#B0BEC5",
                "#B0BEC5",
                "#B0BEC5",
                "#B0BEC5",
                "#B0BEC5",
                "#B0BEC5",
                "#B0BEC5",
                "#B0BEC5",
                "#B0BEC5",
                "#B0BEC5",
                "#B0BEC5",
                "#B0BEC5",
                "#B0BEC5",
                "#B0BEC5",
                "#B0BEC5",
                "#B0BEC5",
                "#B0BEC5",
                "#B0BEC5",
                "#B0BEC5",
                "#B0BEC5",
                "#B0BEC5",
                "#B0BEC5",
                "#B0BEC5",
                "#B0BEC5",
                "#B0BEC5",
                "#B0BEC5",
                "#B0BEC5",
                "#B0BEC5",
                "#B0BEC5",
                "#B0BEC5",
                "#B0BEC5",
                "#B0BEC5",
                "red",
                "#B0BEC5",
                "#B0BEC5",
                "#B0BEC5",
                "#B0BEC5",
                "#B0BEC5",
                "#B0BEC5",
                "#B0BEC5",
                "#B0BEC5",
                "#B0BEC5",
                "#B0BEC5",
                "#B0BEC5",
                "#B0BEC5",
                "#B0BEC5",
                "#B0BEC5",
                "#B0BEC5",
                "#B0BEC5",
                "#B0BEC5"
               ]
              ]
             }
            ],
            "label": "Topic 75",
            "method": "update"
           },
           {
            "args": [
             {
              "marker.color": [
               [
                "#B0BEC5",
                "#B0BEC5",
                "#B0BEC5",
                "#B0BEC5",
                "#B0BEC5",
                "#B0BEC5",
                "#B0BEC5",
                "#B0BEC5",
                "#B0BEC5",
                "#B0BEC5",
                "#B0BEC5",
                "#B0BEC5",
                "#B0BEC5",
                "#B0BEC5",
                "#B0BEC5",
                "#B0BEC5",
                "#B0BEC5",
                "#B0BEC5",
                "#B0BEC5",
                "#B0BEC5",
                "#B0BEC5",
                "#B0BEC5",
                "#B0BEC5",
                "#B0BEC5",
                "#B0BEC5",
                "#B0BEC5",
                "#B0BEC5",
                "#B0BEC5",
                "#B0BEC5",
                "#B0BEC5",
                "#B0BEC5",
                "#B0BEC5",
                "#B0BEC5",
                "#B0BEC5",
                "#B0BEC5",
                "#B0BEC5",
                "#B0BEC5",
                "#B0BEC5",
                "#B0BEC5",
                "#B0BEC5",
                "#B0BEC5",
                "#B0BEC5",
                "#B0BEC5",
                "#B0BEC5",
                "#B0BEC5",
                "#B0BEC5",
                "#B0BEC5",
                "#B0BEC5",
                "#B0BEC5",
                "#B0BEC5",
                "#B0BEC5",
                "#B0BEC5",
                "#B0BEC5",
                "#B0BEC5",
                "#B0BEC5",
                "#B0BEC5",
                "#B0BEC5",
                "#B0BEC5",
                "#B0BEC5",
                "#B0BEC5",
                "#B0BEC5",
                "#B0BEC5",
                "#B0BEC5",
                "#B0BEC5",
                "#B0BEC5",
                "#B0BEC5",
                "#B0BEC5",
                "#B0BEC5",
                "#B0BEC5",
                "#B0BEC5",
                "#B0BEC5",
                "#B0BEC5",
                "#B0BEC5",
                "#B0BEC5",
                "#B0BEC5",
                "#B0BEC5",
                "red",
                "#B0BEC5",
                "#B0BEC5",
                "#B0BEC5",
                "#B0BEC5",
                "#B0BEC5",
                "#B0BEC5",
                "#B0BEC5",
                "#B0BEC5",
                "#B0BEC5",
                "#B0BEC5",
                "#B0BEC5",
                "#B0BEC5",
                "#B0BEC5",
                "#B0BEC5",
                "#B0BEC5",
                "#B0BEC5"
               ]
              ]
             }
            ],
            "label": "Topic 76",
            "method": "update"
           },
           {
            "args": [
             {
              "marker.color": [
               [
                "#B0BEC5",
                "#B0BEC5",
                "#B0BEC5",
                "#B0BEC5",
                "#B0BEC5",
                "#B0BEC5",
                "#B0BEC5",
                "#B0BEC5",
                "#B0BEC5",
                "#B0BEC5",
                "#B0BEC5",
                "#B0BEC5",
                "#B0BEC5",
                "#B0BEC5",
                "#B0BEC5",
                "#B0BEC5",
                "#B0BEC5",
                "#B0BEC5",
                "#B0BEC5",
                "#B0BEC5",
                "#B0BEC5",
                "#B0BEC5",
                "#B0BEC5",
                "#B0BEC5",
                "#B0BEC5",
                "#B0BEC5",
                "#B0BEC5",
                "#B0BEC5",
                "#B0BEC5",
                "#B0BEC5",
                "#B0BEC5",
                "#B0BEC5",
                "#B0BEC5",
                "#B0BEC5",
                "#B0BEC5",
                "#B0BEC5",
                "#B0BEC5",
                "#B0BEC5",
                "#B0BEC5",
                "#B0BEC5",
                "#B0BEC5",
                "#B0BEC5",
                "#B0BEC5",
                "#B0BEC5",
                "#B0BEC5",
                "#B0BEC5",
                "#B0BEC5",
                "#B0BEC5",
                "#B0BEC5",
                "#B0BEC5",
                "#B0BEC5",
                "#B0BEC5",
                "#B0BEC5",
                "#B0BEC5",
                "#B0BEC5",
                "#B0BEC5",
                "#B0BEC5",
                "#B0BEC5",
                "#B0BEC5",
                "#B0BEC5",
                "#B0BEC5",
                "#B0BEC5",
                "#B0BEC5",
                "#B0BEC5",
                "#B0BEC5",
                "#B0BEC5",
                "#B0BEC5",
                "#B0BEC5",
                "#B0BEC5",
                "#B0BEC5",
                "#B0BEC5",
                "#B0BEC5",
                "#B0BEC5",
                "#B0BEC5",
                "#B0BEC5",
                "#B0BEC5",
                "#B0BEC5",
                "red",
                "#B0BEC5",
                "#B0BEC5",
                "#B0BEC5",
                "#B0BEC5",
                "#B0BEC5",
                "#B0BEC5",
                "#B0BEC5",
                "#B0BEC5",
                "#B0BEC5",
                "#B0BEC5",
                "#B0BEC5",
                "#B0BEC5",
                "#B0BEC5",
                "#B0BEC5",
                "#B0BEC5"
               ]
              ]
             }
            ],
            "label": "Topic 77",
            "method": "update"
           },
           {
            "args": [
             {
              "marker.color": [
               [
                "#B0BEC5",
                "#B0BEC5",
                "#B0BEC5",
                "#B0BEC5",
                "#B0BEC5",
                "#B0BEC5",
                "#B0BEC5",
                "#B0BEC5",
                "#B0BEC5",
                "#B0BEC5",
                "#B0BEC5",
                "#B0BEC5",
                "#B0BEC5",
                "#B0BEC5",
                "#B0BEC5",
                "#B0BEC5",
                "#B0BEC5",
                "#B0BEC5",
                "#B0BEC5",
                "#B0BEC5",
                "#B0BEC5",
                "#B0BEC5",
                "#B0BEC5",
                "#B0BEC5",
                "#B0BEC5",
                "#B0BEC5",
                "#B0BEC5",
                "#B0BEC5",
                "#B0BEC5",
                "#B0BEC5",
                "#B0BEC5",
                "#B0BEC5",
                "#B0BEC5",
                "#B0BEC5",
                "#B0BEC5",
                "#B0BEC5",
                "#B0BEC5",
                "#B0BEC5",
                "#B0BEC5",
                "#B0BEC5",
                "#B0BEC5",
                "#B0BEC5",
                "#B0BEC5",
                "#B0BEC5",
                "#B0BEC5",
                "#B0BEC5",
                "#B0BEC5",
                "#B0BEC5",
                "#B0BEC5",
                "#B0BEC5",
                "#B0BEC5",
                "#B0BEC5",
                "#B0BEC5",
                "#B0BEC5",
                "#B0BEC5",
                "#B0BEC5",
                "#B0BEC5",
                "#B0BEC5",
                "#B0BEC5",
                "#B0BEC5",
                "#B0BEC5",
                "#B0BEC5",
                "#B0BEC5",
                "#B0BEC5",
                "#B0BEC5",
                "#B0BEC5",
                "#B0BEC5",
                "#B0BEC5",
                "#B0BEC5",
                "#B0BEC5",
                "#B0BEC5",
                "#B0BEC5",
                "#B0BEC5",
                "#B0BEC5",
                "#B0BEC5",
                "#B0BEC5",
                "#B0BEC5",
                "#B0BEC5",
                "red",
                "#B0BEC5",
                "#B0BEC5",
                "#B0BEC5",
                "#B0BEC5",
                "#B0BEC5",
                "#B0BEC5",
                "#B0BEC5",
                "#B0BEC5",
                "#B0BEC5",
                "#B0BEC5",
                "#B0BEC5",
                "#B0BEC5",
                "#B0BEC5",
                "#B0BEC5"
               ]
              ]
             }
            ],
            "label": "Topic 78",
            "method": "update"
           },
           {
            "args": [
             {
              "marker.color": [
               [
                "#B0BEC5",
                "#B0BEC5",
                "#B0BEC5",
                "#B0BEC5",
                "#B0BEC5",
                "#B0BEC5",
                "#B0BEC5",
                "#B0BEC5",
                "#B0BEC5",
                "#B0BEC5",
                "#B0BEC5",
                "#B0BEC5",
                "#B0BEC5",
                "#B0BEC5",
                "#B0BEC5",
                "#B0BEC5",
                "#B0BEC5",
                "#B0BEC5",
                "#B0BEC5",
                "#B0BEC5",
                "#B0BEC5",
                "#B0BEC5",
                "#B0BEC5",
                "#B0BEC5",
                "#B0BEC5",
                "#B0BEC5",
                "#B0BEC5",
                "#B0BEC5",
                "#B0BEC5",
                "#B0BEC5",
                "#B0BEC5",
                "#B0BEC5",
                "#B0BEC5",
                "#B0BEC5",
                "#B0BEC5",
                "#B0BEC5",
                "#B0BEC5",
                "#B0BEC5",
                "#B0BEC5",
                "#B0BEC5",
                "#B0BEC5",
                "#B0BEC5",
                "#B0BEC5",
                "#B0BEC5",
                "#B0BEC5",
                "#B0BEC5",
                "#B0BEC5",
                "#B0BEC5",
                "#B0BEC5",
                "#B0BEC5",
                "#B0BEC5",
                "#B0BEC5",
                "#B0BEC5",
                "#B0BEC5",
                "#B0BEC5",
                "#B0BEC5",
                "#B0BEC5",
                "#B0BEC5",
                "#B0BEC5",
                "#B0BEC5",
                "#B0BEC5",
                "#B0BEC5",
                "#B0BEC5",
                "#B0BEC5",
                "#B0BEC5",
                "#B0BEC5",
                "#B0BEC5",
                "#B0BEC5",
                "#B0BEC5",
                "#B0BEC5",
                "#B0BEC5",
                "#B0BEC5",
                "#B0BEC5",
                "#B0BEC5",
                "#B0BEC5",
                "#B0BEC5",
                "#B0BEC5",
                "#B0BEC5",
                "#B0BEC5",
                "red",
                "#B0BEC5",
                "#B0BEC5",
                "#B0BEC5",
                "#B0BEC5",
                "#B0BEC5",
                "#B0BEC5",
                "#B0BEC5",
                "#B0BEC5",
                "#B0BEC5",
                "#B0BEC5",
                "#B0BEC5",
                "#B0BEC5",
                "#B0BEC5"
               ]
              ]
             }
            ],
            "label": "Topic 79",
            "method": "update"
           },
           {
            "args": [
             {
              "marker.color": [
               [
                "#B0BEC5",
                "#B0BEC5",
                "#B0BEC5",
                "#B0BEC5",
                "#B0BEC5",
                "#B0BEC5",
                "#B0BEC5",
                "#B0BEC5",
                "#B0BEC5",
                "#B0BEC5",
                "#B0BEC5",
                "#B0BEC5",
                "#B0BEC5",
                "#B0BEC5",
                "#B0BEC5",
                "#B0BEC5",
                "#B0BEC5",
                "#B0BEC5",
                "#B0BEC5",
                "#B0BEC5",
                "#B0BEC5",
                "#B0BEC5",
                "#B0BEC5",
                "#B0BEC5",
                "#B0BEC5",
                "#B0BEC5",
                "#B0BEC5",
                "#B0BEC5",
                "#B0BEC5",
                "#B0BEC5",
                "#B0BEC5",
                "#B0BEC5",
                "#B0BEC5",
                "#B0BEC5",
                "#B0BEC5",
                "#B0BEC5",
                "#B0BEC5",
                "#B0BEC5",
                "#B0BEC5",
                "#B0BEC5",
                "#B0BEC5",
                "#B0BEC5",
                "#B0BEC5",
                "#B0BEC5",
                "#B0BEC5",
                "#B0BEC5",
                "#B0BEC5",
                "#B0BEC5",
                "#B0BEC5",
                "#B0BEC5",
                "#B0BEC5",
                "#B0BEC5",
                "#B0BEC5",
                "#B0BEC5",
                "#B0BEC5",
                "#B0BEC5",
                "#B0BEC5",
                "#B0BEC5",
                "#B0BEC5",
                "#B0BEC5",
                "#B0BEC5",
                "#B0BEC5",
                "#B0BEC5",
                "#B0BEC5",
                "#B0BEC5",
                "#B0BEC5",
                "#B0BEC5",
                "#B0BEC5",
                "#B0BEC5",
                "#B0BEC5",
                "#B0BEC5",
                "#B0BEC5",
                "#B0BEC5",
                "#B0BEC5",
                "#B0BEC5",
                "#B0BEC5",
                "#B0BEC5",
                "#B0BEC5",
                "#B0BEC5",
                "#B0BEC5",
                "red",
                "#B0BEC5",
                "#B0BEC5",
                "#B0BEC5",
                "#B0BEC5",
                "#B0BEC5",
                "#B0BEC5",
                "#B0BEC5",
                "#B0BEC5",
                "#B0BEC5",
                "#B0BEC5",
                "#B0BEC5",
                "#B0BEC5"
               ]
              ]
             }
            ],
            "label": "Topic 80",
            "method": "update"
           },
           {
            "args": [
             {
              "marker.color": [
               [
                "#B0BEC5",
                "#B0BEC5",
                "#B0BEC5",
                "#B0BEC5",
                "#B0BEC5",
                "#B0BEC5",
                "#B0BEC5",
                "#B0BEC5",
                "#B0BEC5",
                "#B0BEC5",
                "#B0BEC5",
                "#B0BEC5",
                "#B0BEC5",
                "#B0BEC5",
                "#B0BEC5",
                "#B0BEC5",
                "#B0BEC5",
                "#B0BEC5",
                "#B0BEC5",
                "#B0BEC5",
                "#B0BEC5",
                "#B0BEC5",
                "#B0BEC5",
                "#B0BEC5",
                "#B0BEC5",
                "#B0BEC5",
                "#B0BEC5",
                "#B0BEC5",
                "#B0BEC5",
                "#B0BEC5",
                "#B0BEC5",
                "#B0BEC5",
                "#B0BEC5",
                "#B0BEC5",
                "#B0BEC5",
                "#B0BEC5",
                "#B0BEC5",
                "#B0BEC5",
                "#B0BEC5",
                "#B0BEC5",
                "#B0BEC5",
                "#B0BEC5",
                "#B0BEC5",
                "#B0BEC5",
                "#B0BEC5",
                "#B0BEC5",
                "#B0BEC5",
                "#B0BEC5",
                "#B0BEC5",
                "#B0BEC5",
                "#B0BEC5",
                "#B0BEC5",
                "#B0BEC5",
                "#B0BEC5",
                "#B0BEC5",
                "#B0BEC5",
                "#B0BEC5",
                "#B0BEC5",
                "#B0BEC5",
                "#B0BEC5",
                "#B0BEC5",
                "#B0BEC5",
                "#B0BEC5",
                "#B0BEC5",
                "#B0BEC5",
                "#B0BEC5",
                "#B0BEC5",
                "#B0BEC5",
                "#B0BEC5",
                "#B0BEC5",
                "#B0BEC5",
                "#B0BEC5",
                "#B0BEC5",
                "#B0BEC5",
                "#B0BEC5",
                "#B0BEC5",
                "#B0BEC5",
                "#B0BEC5",
                "#B0BEC5",
                "#B0BEC5",
                "#B0BEC5",
                "red",
                "#B0BEC5",
                "#B0BEC5",
                "#B0BEC5",
                "#B0BEC5",
                "#B0BEC5",
                "#B0BEC5",
                "#B0BEC5",
                "#B0BEC5",
                "#B0BEC5",
                "#B0BEC5",
                "#B0BEC5"
               ]
              ]
             }
            ],
            "label": "Topic 81",
            "method": "update"
           },
           {
            "args": [
             {
              "marker.color": [
               [
                "#B0BEC5",
                "#B0BEC5",
                "#B0BEC5",
                "#B0BEC5",
                "#B0BEC5",
                "#B0BEC5",
                "#B0BEC5",
                "#B0BEC5",
                "#B0BEC5",
                "#B0BEC5",
                "#B0BEC5",
                "#B0BEC5",
                "#B0BEC5",
                "#B0BEC5",
                "#B0BEC5",
                "#B0BEC5",
                "#B0BEC5",
                "#B0BEC5",
                "#B0BEC5",
                "#B0BEC5",
                "#B0BEC5",
                "#B0BEC5",
                "#B0BEC5",
                "#B0BEC5",
                "#B0BEC5",
                "#B0BEC5",
                "#B0BEC5",
                "#B0BEC5",
                "#B0BEC5",
                "#B0BEC5",
                "#B0BEC5",
                "#B0BEC5",
                "#B0BEC5",
                "#B0BEC5",
                "#B0BEC5",
                "#B0BEC5",
                "#B0BEC5",
                "#B0BEC5",
                "#B0BEC5",
                "#B0BEC5",
                "#B0BEC5",
                "#B0BEC5",
                "#B0BEC5",
                "#B0BEC5",
                "#B0BEC5",
                "#B0BEC5",
                "#B0BEC5",
                "#B0BEC5",
                "#B0BEC5",
                "#B0BEC5",
                "#B0BEC5",
                "#B0BEC5",
                "#B0BEC5",
                "#B0BEC5",
                "#B0BEC5",
                "#B0BEC5",
                "#B0BEC5",
                "#B0BEC5",
                "#B0BEC5",
                "#B0BEC5",
                "#B0BEC5",
                "#B0BEC5",
                "#B0BEC5",
                "#B0BEC5",
                "#B0BEC5",
                "#B0BEC5",
                "#B0BEC5",
                "#B0BEC5",
                "#B0BEC5",
                "#B0BEC5",
                "#B0BEC5",
                "#B0BEC5",
                "#B0BEC5",
                "#B0BEC5",
                "#B0BEC5",
                "#B0BEC5",
                "#B0BEC5",
                "#B0BEC5",
                "#B0BEC5",
                "#B0BEC5",
                "#B0BEC5",
                "#B0BEC5",
                "red",
                "#B0BEC5",
                "#B0BEC5",
                "#B0BEC5",
                "#B0BEC5",
                "#B0BEC5",
                "#B0BEC5",
                "#B0BEC5",
                "#B0BEC5",
                "#B0BEC5",
                "#B0BEC5"
               ]
              ]
             }
            ],
            "label": "Topic 82",
            "method": "update"
           },
           {
            "args": [
             {
              "marker.color": [
               [
                "#B0BEC5",
                "#B0BEC5",
                "#B0BEC5",
                "#B0BEC5",
                "#B0BEC5",
                "#B0BEC5",
                "#B0BEC5",
                "#B0BEC5",
                "#B0BEC5",
                "#B0BEC5",
                "#B0BEC5",
                "#B0BEC5",
                "#B0BEC5",
                "#B0BEC5",
                "#B0BEC5",
                "#B0BEC5",
                "#B0BEC5",
                "#B0BEC5",
                "#B0BEC5",
                "#B0BEC5",
                "#B0BEC5",
                "#B0BEC5",
                "#B0BEC5",
                "#B0BEC5",
                "#B0BEC5",
                "#B0BEC5",
                "#B0BEC5",
                "#B0BEC5",
                "#B0BEC5",
                "#B0BEC5",
                "#B0BEC5",
                "#B0BEC5",
                "#B0BEC5",
                "#B0BEC5",
                "#B0BEC5",
                "#B0BEC5",
                "#B0BEC5",
                "#B0BEC5",
                "#B0BEC5",
                "#B0BEC5",
                "#B0BEC5",
                "#B0BEC5",
                "#B0BEC5",
                "#B0BEC5",
                "#B0BEC5",
                "#B0BEC5",
                "#B0BEC5",
                "#B0BEC5",
                "#B0BEC5",
                "#B0BEC5",
                "#B0BEC5",
                "#B0BEC5",
                "#B0BEC5",
                "#B0BEC5",
                "#B0BEC5",
                "#B0BEC5",
                "#B0BEC5",
                "#B0BEC5",
                "#B0BEC5",
                "#B0BEC5",
                "#B0BEC5",
                "#B0BEC5",
                "#B0BEC5",
                "#B0BEC5",
                "#B0BEC5",
                "#B0BEC5",
                "#B0BEC5",
                "#B0BEC5",
                "#B0BEC5",
                "#B0BEC5",
                "#B0BEC5",
                "#B0BEC5",
                "#B0BEC5",
                "#B0BEC5",
                "#B0BEC5",
                "#B0BEC5",
                "#B0BEC5",
                "#B0BEC5",
                "#B0BEC5",
                "#B0BEC5",
                "#B0BEC5",
                "#B0BEC5",
                "#B0BEC5",
                "red",
                "#B0BEC5",
                "#B0BEC5",
                "#B0BEC5",
                "#B0BEC5",
                "#B0BEC5",
                "#B0BEC5",
                "#B0BEC5",
                "#B0BEC5",
                "#B0BEC5"
               ]
              ]
             }
            ],
            "label": "Topic 83",
            "method": "update"
           },
           {
            "args": [
             {
              "marker.color": [
               [
                "#B0BEC5",
                "#B0BEC5",
                "#B0BEC5",
                "#B0BEC5",
                "#B0BEC5",
                "#B0BEC5",
                "#B0BEC5",
                "#B0BEC5",
                "#B0BEC5",
                "#B0BEC5",
                "#B0BEC5",
                "#B0BEC5",
                "#B0BEC5",
                "#B0BEC5",
                "#B0BEC5",
                "#B0BEC5",
                "#B0BEC5",
                "#B0BEC5",
                "#B0BEC5",
                "#B0BEC5",
                "#B0BEC5",
                "#B0BEC5",
                "#B0BEC5",
                "#B0BEC5",
                "#B0BEC5",
                "#B0BEC5",
                "#B0BEC5",
                "#B0BEC5",
                "#B0BEC5",
                "#B0BEC5",
                "#B0BEC5",
                "#B0BEC5",
                "#B0BEC5",
                "#B0BEC5",
                "#B0BEC5",
                "#B0BEC5",
                "#B0BEC5",
                "#B0BEC5",
                "#B0BEC5",
                "#B0BEC5",
                "#B0BEC5",
                "#B0BEC5",
                "#B0BEC5",
                "#B0BEC5",
                "#B0BEC5",
                "#B0BEC5",
                "#B0BEC5",
                "#B0BEC5",
                "#B0BEC5",
                "#B0BEC5",
                "#B0BEC5",
                "#B0BEC5",
                "#B0BEC5",
                "#B0BEC5",
                "#B0BEC5",
                "#B0BEC5",
                "#B0BEC5",
                "#B0BEC5",
                "#B0BEC5",
                "#B0BEC5",
                "#B0BEC5",
                "#B0BEC5",
                "#B0BEC5",
                "#B0BEC5",
                "#B0BEC5",
                "#B0BEC5",
                "#B0BEC5",
                "#B0BEC5",
                "#B0BEC5",
                "#B0BEC5",
                "#B0BEC5",
                "#B0BEC5",
                "#B0BEC5",
                "#B0BEC5",
                "#B0BEC5",
                "#B0BEC5",
                "#B0BEC5",
                "#B0BEC5",
                "#B0BEC5",
                "#B0BEC5",
                "#B0BEC5",
                "#B0BEC5",
                "#B0BEC5",
                "#B0BEC5",
                "red",
                "#B0BEC5",
                "#B0BEC5",
                "#B0BEC5",
                "#B0BEC5",
                "#B0BEC5",
                "#B0BEC5",
                "#B0BEC5",
                "#B0BEC5"
               ]
              ]
             }
            ],
            "label": "Topic 84",
            "method": "update"
           },
           {
            "args": [
             {
              "marker.color": [
               [
                "#B0BEC5",
                "#B0BEC5",
                "#B0BEC5",
                "#B0BEC5",
                "#B0BEC5",
                "#B0BEC5",
                "#B0BEC5",
                "#B0BEC5",
                "#B0BEC5",
                "#B0BEC5",
                "#B0BEC5",
                "#B0BEC5",
                "#B0BEC5",
                "#B0BEC5",
                "#B0BEC5",
                "#B0BEC5",
                "#B0BEC5",
                "#B0BEC5",
                "#B0BEC5",
                "#B0BEC5",
                "#B0BEC5",
                "#B0BEC5",
                "#B0BEC5",
                "#B0BEC5",
                "#B0BEC5",
                "#B0BEC5",
                "#B0BEC5",
                "#B0BEC5",
                "#B0BEC5",
                "#B0BEC5",
                "#B0BEC5",
                "#B0BEC5",
                "#B0BEC5",
                "#B0BEC5",
                "#B0BEC5",
                "#B0BEC5",
                "#B0BEC5",
                "#B0BEC5",
                "#B0BEC5",
                "#B0BEC5",
                "#B0BEC5",
                "#B0BEC5",
                "#B0BEC5",
                "#B0BEC5",
                "#B0BEC5",
                "#B0BEC5",
                "#B0BEC5",
                "#B0BEC5",
                "#B0BEC5",
                "#B0BEC5",
                "#B0BEC5",
                "#B0BEC5",
                "#B0BEC5",
                "#B0BEC5",
                "#B0BEC5",
                "#B0BEC5",
                "#B0BEC5",
                "#B0BEC5",
                "#B0BEC5",
                "#B0BEC5",
                "#B0BEC5",
                "#B0BEC5",
                "#B0BEC5",
                "#B0BEC5",
                "#B0BEC5",
                "#B0BEC5",
                "#B0BEC5",
                "#B0BEC5",
                "#B0BEC5",
                "#B0BEC5",
                "#B0BEC5",
                "#B0BEC5",
                "#B0BEC5",
                "#B0BEC5",
                "#B0BEC5",
                "#B0BEC5",
                "#B0BEC5",
                "#B0BEC5",
                "#B0BEC5",
                "#B0BEC5",
                "#B0BEC5",
                "#B0BEC5",
                "#B0BEC5",
                "#B0BEC5",
                "#B0BEC5",
                "red",
                "#B0BEC5",
                "#B0BEC5",
                "#B0BEC5",
                "#B0BEC5",
                "#B0BEC5",
                "#B0BEC5",
                "#B0BEC5"
               ]
              ]
             }
            ],
            "label": "Topic 85",
            "method": "update"
           },
           {
            "args": [
             {
              "marker.color": [
               [
                "#B0BEC5",
                "#B0BEC5",
                "#B0BEC5",
                "#B0BEC5",
                "#B0BEC5",
                "#B0BEC5",
                "#B0BEC5",
                "#B0BEC5",
                "#B0BEC5",
                "#B0BEC5",
                "#B0BEC5",
                "#B0BEC5",
                "#B0BEC5",
                "#B0BEC5",
                "#B0BEC5",
                "#B0BEC5",
                "#B0BEC5",
                "#B0BEC5",
                "#B0BEC5",
                "#B0BEC5",
                "#B0BEC5",
                "#B0BEC5",
                "#B0BEC5",
                "#B0BEC5",
                "#B0BEC5",
                "#B0BEC5",
                "#B0BEC5",
                "#B0BEC5",
                "#B0BEC5",
                "#B0BEC5",
                "#B0BEC5",
                "#B0BEC5",
                "#B0BEC5",
                "#B0BEC5",
                "#B0BEC5",
                "#B0BEC5",
                "#B0BEC5",
                "#B0BEC5",
                "#B0BEC5",
                "#B0BEC5",
                "#B0BEC5",
                "#B0BEC5",
                "#B0BEC5",
                "#B0BEC5",
                "#B0BEC5",
                "#B0BEC5",
                "#B0BEC5",
                "#B0BEC5",
                "#B0BEC5",
                "#B0BEC5",
                "#B0BEC5",
                "#B0BEC5",
                "#B0BEC5",
                "#B0BEC5",
                "#B0BEC5",
                "#B0BEC5",
                "#B0BEC5",
                "#B0BEC5",
                "#B0BEC5",
                "#B0BEC5",
                "#B0BEC5",
                "#B0BEC5",
                "#B0BEC5",
                "#B0BEC5",
                "#B0BEC5",
                "#B0BEC5",
                "#B0BEC5",
                "#B0BEC5",
                "#B0BEC5",
                "#B0BEC5",
                "#B0BEC5",
                "#B0BEC5",
                "#B0BEC5",
                "#B0BEC5",
                "#B0BEC5",
                "#B0BEC5",
                "#B0BEC5",
                "#B0BEC5",
                "#B0BEC5",
                "#B0BEC5",
                "#B0BEC5",
                "#B0BEC5",
                "#B0BEC5",
                "#B0BEC5",
                "#B0BEC5",
                "#B0BEC5",
                "red",
                "#B0BEC5",
                "#B0BEC5",
                "#B0BEC5",
                "#B0BEC5",
                "#B0BEC5",
                "#B0BEC5"
               ]
              ]
             }
            ],
            "label": "Topic 86",
            "method": "update"
           },
           {
            "args": [
             {
              "marker.color": [
               [
                "#B0BEC5",
                "#B0BEC5",
                "#B0BEC5",
                "#B0BEC5",
                "#B0BEC5",
                "#B0BEC5",
                "#B0BEC5",
                "#B0BEC5",
                "#B0BEC5",
                "#B0BEC5",
                "#B0BEC5",
                "#B0BEC5",
                "#B0BEC5",
                "#B0BEC5",
                "#B0BEC5",
                "#B0BEC5",
                "#B0BEC5",
                "#B0BEC5",
                "#B0BEC5",
                "#B0BEC5",
                "#B0BEC5",
                "#B0BEC5",
                "#B0BEC5",
                "#B0BEC5",
                "#B0BEC5",
                "#B0BEC5",
                "#B0BEC5",
                "#B0BEC5",
                "#B0BEC5",
                "#B0BEC5",
                "#B0BEC5",
                "#B0BEC5",
                "#B0BEC5",
                "#B0BEC5",
                "#B0BEC5",
                "#B0BEC5",
                "#B0BEC5",
                "#B0BEC5",
                "#B0BEC5",
                "#B0BEC5",
                "#B0BEC5",
                "#B0BEC5",
                "#B0BEC5",
                "#B0BEC5",
                "#B0BEC5",
                "#B0BEC5",
                "#B0BEC5",
                "#B0BEC5",
                "#B0BEC5",
                "#B0BEC5",
                "#B0BEC5",
                "#B0BEC5",
                "#B0BEC5",
                "#B0BEC5",
                "#B0BEC5",
                "#B0BEC5",
                "#B0BEC5",
                "#B0BEC5",
                "#B0BEC5",
                "#B0BEC5",
                "#B0BEC5",
                "#B0BEC5",
                "#B0BEC5",
                "#B0BEC5",
                "#B0BEC5",
                "#B0BEC5",
                "#B0BEC5",
                "#B0BEC5",
                "#B0BEC5",
                "#B0BEC5",
                "#B0BEC5",
                "#B0BEC5",
                "#B0BEC5",
                "#B0BEC5",
                "#B0BEC5",
                "#B0BEC5",
                "#B0BEC5",
                "#B0BEC5",
                "#B0BEC5",
                "#B0BEC5",
                "#B0BEC5",
                "#B0BEC5",
                "#B0BEC5",
                "#B0BEC5",
                "#B0BEC5",
                "#B0BEC5",
                "#B0BEC5",
                "red",
                "#B0BEC5",
                "#B0BEC5",
                "#B0BEC5",
                "#B0BEC5",
                "#B0BEC5"
               ]
              ]
             }
            ],
            "label": "Topic 87",
            "method": "update"
           },
           {
            "args": [
             {
              "marker.color": [
               [
                "#B0BEC5",
                "#B0BEC5",
                "#B0BEC5",
                "#B0BEC5",
                "#B0BEC5",
                "#B0BEC5",
                "#B0BEC5",
                "#B0BEC5",
                "#B0BEC5",
                "#B0BEC5",
                "#B0BEC5",
                "#B0BEC5",
                "#B0BEC5",
                "#B0BEC5",
                "#B0BEC5",
                "#B0BEC5",
                "#B0BEC5",
                "#B0BEC5",
                "#B0BEC5",
                "#B0BEC5",
                "#B0BEC5",
                "#B0BEC5",
                "#B0BEC5",
                "#B0BEC5",
                "#B0BEC5",
                "#B0BEC5",
                "#B0BEC5",
                "#B0BEC5",
                "#B0BEC5",
                "#B0BEC5",
                "#B0BEC5",
                "#B0BEC5",
                "#B0BEC5",
                "#B0BEC5",
                "#B0BEC5",
                "#B0BEC5",
                "#B0BEC5",
                "#B0BEC5",
                "#B0BEC5",
                "#B0BEC5",
                "#B0BEC5",
                "#B0BEC5",
                "#B0BEC5",
                "#B0BEC5",
                "#B0BEC5",
                "#B0BEC5",
                "#B0BEC5",
                "#B0BEC5",
                "#B0BEC5",
                "#B0BEC5",
                "#B0BEC5",
                "#B0BEC5",
                "#B0BEC5",
                "#B0BEC5",
                "#B0BEC5",
                "#B0BEC5",
                "#B0BEC5",
                "#B0BEC5",
                "#B0BEC5",
                "#B0BEC5",
                "#B0BEC5",
                "#B0BEC5",
                "#B0BEC5",
                "#B0BEC5",
                "#B0BEC5",
                "#B0BEC5",
                "#B0BEC5",
                "#B0BEC5",
                "#B0BEC5",
                "#B0BEC5",
                "#B0BEC5",
                "#B0BEC5",
                "#B0BEC5",
                "#B0BEC5",
                "#B0BEC5",
                "#B0BEC5",
                "#B0BEC5",
                "#B0BEC5",
                "#B0BEC5",
                "#B0BEC5",
                "#B0BEC5",
                "#B0BEC5",
                "#B0BEC5",
                "#B0BEC5",
                "#B0BEC5",
                "#B0BEC5",
                "#B0BEC5",
                "#B0BEC5",
                "red",
                "#B0BEC5",
                "#B0BEC5",
                "#B0BEC5",
                "#B0BEC5"
               ]
              ]
             }
            ],
            "label": "Topic 88",
            "method": "update"
           },
           {
            "args": [
             {
              "marker.color": [
               [
                "#B0BEC5",
                "#B0BEC5",
                "#B0BEC5",
                "#B0BEC5",
                "#B0BEC5",
                "#B0BEC5",
                "#B0BEC5",
                "#B0BEC5",
                "#B0BEC5",
                "#B0BEC5",
                "#B0BEC5",
                "#B0BEC5",
                "#B0BEC5",
                "#B0BEC5",
                "#B0BEC5",
                "#B0BEC5",
                "#B0BEC5",
                "#B0BEC5",
                "#B0BEC5",
                "#B0BEC5",
                "#B0BEC5",
                "#B0BEC5",
                "#B0BEC5",
                "#B0BEC5",
                "#B0BEC5",
                "#B0BEC5",
                "#B0BEC5",
                "#B0BEC5",
                "#B0BEC5",
                "#B0BEC5",
                "#B0BEC5",
                "#B0BEC5",
                "#B0BEC5",
                "#B0BEC5",
                "#B0BEC5",
                "#B0BEC5",
                "#B0BEC5",
                "#B0BEC5",
                "#B0BEC5",
                "#B0BEC5",
                "#B0BEC5",
                "#B0BEC5",
                "#B0BEC5",
                "#B0BEC5",
                "#B0BEC5",
                "#B0BEC5",
                "#B0BEC5",
                "#B0BEC5",
                "#B0BEC5",
                "#B0BEC5",
                "#B0BEC5",
                "#B0BEC5",
                "#B0BEC5",
                "#B0BEC5",
                "#B0BEC5",
                "#B0BEC5",
                "#B0BEC5",
                "#B0BEC5",
                "#B0BEC5",
                "#B0BEC5",
                "#B0BEC5",
                "#B0BEC5",
                "#B0BEC5",
                "#B0BEC5",
                "#B0BEC5",
                "#B0BEC5",
                "#B0BEC5",
                "#B0BEC5",
                "#B0BEC5",
                "#B0BEC5",
                "#B0BEC5",
                "#B0BEC5",
                "#B0BEC5",
                "#B0BEC5",
                "#B0BEC5",
                "#B0BEC5",
                "#B0BEC5",
                "#B0BEC5",
                "#B0BEC5",
                "#B0BEC5",
                "#B0BEC5",
                "#B0BEC5",
                "#B0BEC5",
                "#B0BEC5",
                "#B0BEC5",
                "#B0BEC5",
                "#B0BEC5",
                "#B0BEC5",
                "#B0BEC5",
                "red",
                "#B0BEC5",
                "#B0BEC5",
                "#B0BEC5"
               ]
              ]
             }
            ],
            "label": "Topic 89",
            "method": "update"
           },
           {
            "args": [
             {
              "marker.color": [
               [
                "#B0BEC5",
                "#B0BEC5",
                "#B0BEC5",
                "#B0BEC5",
                "#B0BEC5",
                "#B0BEC5",
                "#B0BEC5",
                "#B0BEC5",
                "#B0BEC5",
                "#B0BEC5",
                "#B0BEC5",
                "#B0BEC5",
                "#B0BEC5",
                "#B0BEC5",
                "#B0BEC5",
                "#B0BEC5",
                "#B0BEC5",
                "#B0BEC5",
                "#B0BEC5",
                "#B0BEC5",
                "#B0BEC5",
                "#B0BEC5",
                "#B0BEC5",
                "#B0BEC5",
                "#B0BEC5",
                "#B0BEC5",
                "#B0BEC5",
                "#B0BEC5",
                "#B0BEC5",
                "#B0BEC5",
                "#B0BEC5",
                "#B0BEC5",
                "#B0BEC5",
                "#B0BEC5",
                "#B0BEC5",
                "#B0BEC5",
                "#B0BEC5",
                "#B0BEC5",
                "#B0BEC5",
                "#B0BEC5",
                "#B0BEC5",
                "#B0BEC5",
                "#B0BEC5",
                "#B0BEC5",
                "#B0BEC5",
                "#B0BEC5",
                "#B0BEC5",
                "#B0BEC5",
                "#B0BEC5",
                "#B0BEC5",
                "#B0BEC5",
                "#B0BEC5",
                "#B0BEC5",
                "#B0BEC5",
                "#B0BEC5",
                "#B0BEC5",
                "#B0BEC5",
                "#B0BEC5",
                "#B0BEC5",
                "#B0BEC5",
                "#B0BEC5",
                "#B0BEC5",
                "#B0BEC5",
                "#B0BEC5",
                "#B0BEC5",
                "#B0BEC5",
                "#B0BEC5",
                "#B0BEC5",
                "#B0BEC5",
                "#B0BEC5",
                "#B0BEC5",
                "#B0BEC5",
                "#B0BEC5",
                "#B0BEC5",
                "#B0BEC5",
                "#B0BEC5",
                "#B0BEC5",
                "#B0BEC5",
                "#B0BEC5",
                "#B0BEC5",
                "#B0BEC5",
                "#B0BEC5",
                "#B0BEC5",
                "#B0BEC5",
                "#B0BEC5",
                "#B0BEC5",
                "#B0BEC5",
                "#B0BEC5",
                "#B0BEC5",
                "#B0BEC5",
                "red",
                "#B0BEC5",
                "#B0BEC5"
               ]
              ]
             }
            ],
            "label": "Topic 90",
            "method": "update"
           },
           {
            "args": [
             {
              "marker.color": [
               [
                "#B0BEC5",
                "#B0BEC5",
                "#B0BEC5",
                "#B0BEC5",
                "#B0BEC5",
                "#B0BEC5",
                "#B0BEC5",
                "#B0BEC5",
                "#B0BEC5",
                "#B0BEC5",
                "#B0BEC5",
                "#B0BEC5",
                "#B0BEC5",
                "#B0BEC5",
                "#B0BEC5",
                "#B0BEC5",
                "#B0BEC5",
                "#B0BEC5",
                "#B0BEC5",
                "#B0BEC5",
                "#B0BEC5",
                "#B0BEC5",
                "#B0BEC5",
                "#B0BEC5",
                "#B0BEC5",
                "#B0BEC5",
                "#B0BEC5",
                "#B0BEC5",
                "#B0BEC5",
                "#B0BEC5",
                "#B0BEC5",
                "#B0BEC5",
                "#B0BEC5",
                "#B0BEC5",
                "#B0BEC5",
                "#B0BEC5",
                "#B0BEC5",
                "#B0BEC5",
                "#B0BEC5",
                "#B0BEC5",
                "#B0BEC5",
                "#B0BEC5",
                "#B0BEC5",
                "#B0BEC5",
                "#B0BEC5",
                "#B0BEC5",
                "#B0BEC5",
                "#B0BEC5",
                "#B0BEC5",
                "#B0BEC5",
                "#B0BEC5",
                "#B0BEC5",
                "#B0BEC5",
                "#B0BEC5",
                "#B0BEC5",
                "#B0BEC5",
                "#B0BEC5",
                "#B0BEC5",
                "#B0BEC5",
                "#B0BEC5",
                "#B0BEC5",
                "#B0BEC5",
                "#B0BEC5",
                "#B0BEC5",
                "#B0BEC5",
                "#B0BEC5",
                "#B0BEC5",
                "#B0BEC5",
                "#B0BEC5",
                "#B0BEC5",
                "#B0BEC5",
                "#B0BEC5",
                "#B0BEC5",
                "#B0BEC5",
                "#B0BEC5",
                "#B0BEC5",
                "#B0BEC5",
                "#B0BEC5",
                "#B0BEC5",
                "#B0BEC5",
                "#B0BEC5",
                "#B0BEC5",
                "#B0BEC5",
                "#B0BEC5",
                "#B0BEC5",
                "#B0BEC5",
                "#B0BEC5",
                "#B0BEC5",
                "#B0BEC5",
                "#B0BEC5",
                "#B0BEC5",
                "red",
                "#B0BEC5"
               ]
              ]
             }
            ],
            "label": "Topic 91",
            "method": "update"
           },
           {
            "args": [
             {
              "marker.color": [
               [
                "#B0BEC5",
                "#B0BEC5",
                "#B0BEC5",
                "#B0BEC5",
                "#B0BEC5",
                "#B0BEC5",
                "#B0BEC5",
                "#B0BEC5",
                "#B0BEC5",
                "#B0BEC5",
                "#B0BEC5",
                "#B0BEC5",
                "#B0BEC5",
                "#B0BEC5",
                "#B0BEC5",
                "#B0BEC5",
                "#B0BEC5",
                "#B0BEC5",
                "#B0BEC5",
                "#B0BEC5",
                "#B0BEC5",
                "#B0BEC5",
                "#B0BEC5",
                "#B0BEC5",
                "#B0BEC5",
                "#B0BEC5",
                "#B0BEC5",
                "#B0BEC5",
                "#B0BEC5",
                "#B0BEC5",
                "#B0BEC5",
                "#B0BEC5",
                "#B0BEC5",
                "#B0BEC5",
                "#B0BEC5",
                "#B0BEC5",
                "#B0BEC5",
                "#B0BEC5",
                "#B0BEC5",
                "#B0BEC5",
                "#B0BEC5",
                "#B0BEC5",
                "#B0BEC5",
                "#B0BEC5",
                "#B0BEC5",
                "#B0BEC5",
                "#B0BEC5",
                "#B0BEC5",
                "#B0BEC5",
                "#B0BEC5",
                "#B0BEC5",
                "#B0BEC5",
                "#B0BEC5",
                "#B0BEC5",
                "#B0BEC5",
                "#B0BEC5",
                "#B0BEC5",
                "#B0BEC5",
                "#B0BEC5",
                "#B0BEC5",
                "#B0BEC5",
                "#B0BEC5",
                "#B0BEC5",
                "#B0BEC5",
                "#B0BEC5",
                "#B0BEC5",
                "#B0BEC5",
                "#B0BEC5",
                "#B0BEC5",
                "#B0BEC5",
                "#B0BEC5",
                "#B0BEC5",
                "#B0BEC5",
                "#B0BEC5",
                "#B0BEC5",
                "#B0BEC5",
                "#B0BEC5",
                "#B0BEC5",
                "#B0BEC5",
                "#B0BEC5",
                "#B0BEC5",
                "#B0BEC5",
                "#B0BEC5",
                "#B0BEC5",
                "#B0BEC5",
                "#B0BEC5",
                "#B0BEC5",
                "#B0BEC5",
                "#B0BEC5",
                "#B0BEC5",
                "#B0BEC5",
                "#B0BEC5",
                "red"
               ]
              ]
             }
            ],
            "label": "Topic 92",
            "method": "update"
           }
          ]
         }
        ],
        "template": {
         "data": {
          "bar": [
           {
            "error_x": {
             "color": "rgb(36,36,36)"
            },
            "error_y": {
             "color": "rgb(36,36,36)"
            },
            "marker": {
             "line": {
              "color": "white",
              "width": 0.5
             },
             "pattern": {
              "fillmode": "overlay",
              "size": 10,
              "solidity": 0.2
             }
            },
            "type": "bar"
           }
          ],
          "barpolar": [
           {
            "marker": {
             "line": {
              "color": "white",
              "width": 0.5
             },
             "pattern": {
              "fillmode": "overlay",
              "size": 10,
              "solidity": 0.2
             }
            },
            "type": "barpolar"
           }
          ],
          "carpet": [
           {
            "aaxis": {
             "endlinecolor": "rgb(36,36,36)",
             "gridcolor": "white",
             "linecolor": "white",
             "minorgridcolor": "white",
             "startlinecolor": "rgb(36,36,36)"
            },
            "baxis": {
             "endlinecolor": "rgb(36,36,36)",
             "gridcolor": "white",
             "linecolor": "white",
             "minorgridcolor": "white",
             "startlinecolor": "rgb(36,36,36)"
            },
            "type": "carpet"
           }
          ],
          "choropleth": [
           {
            "colorbar": {
             "outlinewidth": 1,
             "tickcolor": "rgb(36,36,36)",
             "ticks": "outside"
            },
            "type": "choropleth"
           }
          ],
          "contour": [
           {
            "colorbar": {
             "outlinewidth": 1,
             "tickcolor": "rgb(36,36,36)",
             "ticks": "outside"
            },
            "colorscale": [
             [
              0,
              "#440154"
             ],
             [
              0.1111111111111111,
              "#482878"
             ],
             [
              0.2222222222222222,
              "#3e4989"
             ],
             [
              0.3333333333333333,
              "#31688e"
             ],
             [
              0.4444444444444444,
              "#26828e"
             ],
             [
              0.5555555555555556,
              "#1f9e89"
             ],
             [
              0.6666666666666666,
              "#35b779"
             ],
             [
              0.7777777777777778,
              "#6ece58"
             ],
             [
              0.8888888888888888,
              "#b5de2b"
             ],
             [
              1,
              "#fde725"
             ]
            ],
            "type": "contour"
           }
          ],
          "contourcarpet": [
           {
            "colorbar": {
             "outlinewidth": 1,
             "tickcolor": "rgb(36,36,36)",
             "ticks": "outside"
            },
            "type": "contourcarpet"
           }
          ],
          "heatmap": [
           {
            "colorbar": {
             "outlinewidth": 1,
             "tickcolor": "rgb(36,36,36)",
             "ticks": "outside"
            },
            "colorscale": [
             [
              0,
              "#440154"
             ],
             [
              0.1111111111111111,
              "#482878"
             ],
             [
              0.2222222222222222,
              "#3e4989"
             ],
             [
              0.3333333333333333,
              "#31688e"
             ],
             [
              0.4444444444444444,
              "#26828e"
             ],
             [
              0.5555555555555556,
              "#1f9e89"
             ],
             [
              0.6666666666666666,
              "#35b779"
             ],
             [
              0.7777777777777778,
              "#6ece58"
             ],
             [
              0.8888888888888888,
              "#b5de2b"
             ],
             [
              1,
              "#fde725"
             ]
            ],
            "type": "heatmap"
           }
          ],
          "histogram": [
           {
            "marker": {
             "line": {
              "color": "white",
              "width": 0.6
             }
            },
            "type": "histogram"
           }
          ],
          "histogram2d": [
           {
            "colorbar": {
             "outlinewidth": 1,
             "tickcolor": "rgb(36,36,36)",
             "ticks": "outside"
            },
            "colorscale": [
             [
              0,
              "#440154"
             ],
             [
              0.1111111111111111,
              "#482878"
             ],
             [
              0.2222222222222222,
              "#3e4989"
             ],
             [
              0.3333333333333333,
              "#31688e"
             ],
             [
              0.4444444444444444,
              "#26828e"
             ],
             [
              0.5555555555555556,
              "#1f9e89"
             ],
             [
              0.6666666666666666,
              "#35b779"
             ],
             [
              0.7777777777777778,
              "#6ece58"
             ],
             [
              0.8888888888888888,
              "#b5de2b"
             ],
             [
              1,
              "#fde725"
             ]
            ],
            "type": "histogram2d"
           }
          ],
          "histogram2dcontour": [
           {
            "colorbar": {
             "outlinewidth": 1,
             "tickcolor": "rgb(36,36,36)",
             "ticks": "outside"
            },
            "colorscale": [
             [
              0,
              "#440154"
             ],
             [
              0.1111111111111111,
              "#482878"
             ],
             [
              0.2222222222222222,
              "#3e4989"
             ],
             [
              0.3333333333333333,
              "#31688e"
             ],
             [
              0.4444444444444444,
              "#26828e"
             ],
             [
              0.5555555555555556,
              "#1f9e89"
             ],
             [
              0.6666666666666666,
              "#35b779"
             ],
             [
              0.7777777777777778,
              "#6ece58"
             ],
             [
              0.8888888888888888,
              "#b5de2b"
             ],
             [
              1,
              "#fde725"
             ]
            ],
            "type": "histogram2dcontour"
           }
          ],
          "mesh3d": [
           {
            "colorbar": {
             "outlinewidth": 1,
             "tickcolor": "rgb(36,36,36)",
             "ticks": "outside"
            },
            "type": "mesh3d"
           }
          ],
          "parcoords": [
           {
            "line": {
             "colorbar": {
              "outlinewidth": 1,
              "tickcolor": "rgb(36,36,36)",
              "ticks": "outside"
             }
            },
            "type": "parcoords"
           }
          ],
          "pie": [
           {
            "automargin": true,
            "type": "pie"
           }
          ],
          "scatter": [
           {
            "fillpattern": {
             "fillmode": "overlay",
             "size": 10,
             "solidity": 0.2
            },
            "type": "scatter"
           }
          ],
          "scatter3d": [
           {
            "line": {
             "colorbar": {
              "outlinewidth": 1,
              "tickcolor": "rgb(36,36,36)",
              "ticks": "outside"
             }
            },
            "marker": {
             "colorbar": {
              "outlinewidth": 1,
              "tickcolor": "rgb(36,36,36)",
              "ticks": "outside"
             }
            },
            "type": "scatter3d"
           }
          ],
          "scattercarpet": [
           {
            "marker": {
             "colorbar": {
              "outlinewidth": 1,
              "tickcolor": "rgb(36,36,36)",
              "ticks": "outside"
             }
            },
            "type": "scattercarpet"
           }
          ],
          "scattergeo": [
           {
            "marker": {
             "colorbar": {
              "outlinewidth": 1,
              "tickcolor": "rgb(36,36,36)",
              "ticks": "outside"
             }
            },
            "type": "scattergeo"
           }
          ],
          "scattergl": [
           {
            "marker": {
             "colorbar": {
              "outlinewidth": 1,
              "tickcolor": "rgb(36,36,36)",
              "ticks": "outside"
             }
            },
            "type": "scattergl"
           }
          ],
          "scattermap": [
           {
            "marker": {
             "colorbar": {
              "outlinewidth": 1,
              "tickcolor": "rgb(36,36,36)",
              "ticks": "outside"
             }
            },
            "type": "scattermap"
           }
          ],
          "scattermapbox": [
           {
            "marker": {
             "colorbar": {
              "outlinewidth": 1,
              "tickcolor": "rgb(36,36,36)",
              "ticks": "outside"
             }
            },
            "type": "scattermapbox"
           }
          ],
          "scatterpolar": [
           {
            "marker": {
             "colorbar": {
              "outlinewidth": 1,
              "tickcolor": "rgb(36,36,36)",
              "ticks": "outside"
             }
            },
            "type": "scatterpolar"
           }
          ],
          "scatterpolargl": [
           {
            "marker": {
             "colorbar": {
              "outlinewidth": 1,
              "tickcolor": "rgb(36,36,36)",
              "ticks": "outside"
             }
            },
            "type": "scatterpolargl"
           }
          ],
          "scatterternary": [
           {
            "marker": {
             "colorbar": {
              "outlinewidth": 1,
              "tickcolor": "rgb(36,36,36)",
              "ticks": "outside"
             }
            },
            "type": "scatterternary"
           }
          ],
          "surface": [
           {
            "colorbar": {
             "outlinewidth": 1,
             "tickcolor": "rgb(36,36,36)",
             "ticks": "outside"
            },
            "colorscale": [
             [
              0,
              "#440154"
             ],
             [
              0.1111111111111111,
              "#482878"
             ],
             [
              0.2222222222222222,
              "#3e4989"
             ],
             [
              0.3333333333333333,
              "#31688e"
             ],
             [
              0.4444444444444444,
              "#26828e"
             ],
             [
              0.5555555555555556,
              "#1f9e89"
             ],
             [
              0.6666666666666666,
              "#35b779"
             ],
             [
              0.7777777777777778,
              "#6ece58"
             ],
             [
              0.8888888888888888,
              "#b5de2b"
             ],
             [
              1,
              "#fde725"
             ]
            ],
            "type": "surface"
           }
          ],
          "table": [
           {
            "cells": {
             "fill": {
              "color": "rgb(237,237,237)"
             },
             "line": {
              "color": "white"
             }
            },
            "header": {
             "fill": {
              "color": "rgb(217,217,217)"
             },
             "line": {
              "color": "white"
             }
            },
            "type": "table"
           }
          ]
         },
         "layout": {
          "annotationdefaults": {
           "arrowhead": 0,
           "arrowwidth": 1
          },
          "autotypenumbers": "strict",
          "coloraxis": {
           "colorbar": {
            "outlinewidth": 1,
            "tickcolor": "rgb(36,36,36)",
            "ticks": "outside"
           }
          },
          "colorscale": {
           "diverging": [
            [
             0,
             "rgb(103,0,31)"
            ],
            [
             0.1,
             "rgb(178,24,43)"
            ],
            [
             0.2,
             "rgb(214,96,77)"
            ],
            [
             0.3,
             "rgb(244,165,130)"
            ],
            [
             0.4,
             "rgb(253,219,199)"
            ],
            [
             0.5,
             "rgb(247,247,247)"
            ],
            [
             0.6,
             "rgb(209,229,240)"
            ],
            [
             0.7,
             "rgb(146,197,222)"
            ],
            [
             0.8,
             "rgb(67,147,195)"
            ],
            [
             0.9,
             "rgb(33,102,172)"
            ],
            [
             1,
             "rgb(5,48,97)"
            ]
           ],
           "sequential": [
            [
             0,
             "#440154"
            ],
            [
             0.1111111111111111,
             "#482878"
            ],
            [
             0.2222222222222222,
             "#3e4989"
            ],
            [
             0.3333333333333333,
             "#31688e"
            ],
            [
             0.4444444444444444,
             "#26828e"
            ],
            [
             0.5555555555555556,
             "#1f9e89"
            ],
            [
             0.6666666666666666,
             "#35b779"
            ],
            [
             0.7777777777777778,
             "#6ece58"
            ],
            [
             0.8888888888888888,
             "#b5de2b"
            ],
            [
             1,
             "#fde725"
            ]
           ],
           "sequentialminus": [
            [
             0,
             "#440154"
            ],
            [
             0.1111111111111111,
             "#482878"
            ],
            [
             0.2222222222222222,
             "#3e4989"
            ],
            [
             0.3333333333333333,
             "#31688e"
            ],
            [
             0.4444444444444444,
             "#26828e"
            ],
            [
             0.5555555555555556,
             "#1f9e89"
            ],
            [
             0.6666666666666666,
             "#35b779"
            ],
            [
             0.7777777777777778,
             "#6ece58"
            ],
            [
             0.8888888888888888,
             "#b5de2b"
            ],
            [
             1,
             "#fde725"
            ]
           ]
          },
          "colorway": [
           "#1F77B4",
           "#FF7F0E",
           "#2CA02C",
           "#D62728",
           "#9467BD",
           "#8C564B",
           "#E377C2",
           "#7F7F7F",
           "#BCBD22",
           "#17BECF"
          ],
          "font": {
           "color": "rgb(36,36,36)"
          },
          "geo": {
           "bgcolor": "white",
           "lakecolor": "white",
           "landcolor": "white",
           "showlakes": true,
           "showland": true,
           "subunitcolor": "white"
          },
          "hoverlabel": {
           "align": "left"
          },
          "hovermode": "closest",
          "mapbox": {
           "style": "light"
          },
          "paper_bgcolor": "white",
          "plot_bgcolor": "white",
          "polar": {
           "angularaxis": {
            "gridcolor": "rgb(232,232,232)",
            "linecolor": "rgb(36,36,36)",
            "showgrid": false,
            "showline": true,
            "ticks": "outside"
           },
           "bgcolor": "white",
           "radialaxis": {
            "gridcolor": "rgb(232,232,232)",
            "linecolor": "rgb(36,36,36)",
            "showgrid": false,
            "showline": true,
            "ticks": "outside"
           }
          },
          "scene": {
           "xaxis": {
            "backgroundcolor": "white",
            "gridcolor": "rgb(232,232,232)",
            "gridwidth": 2,
            "linecolor": "rgb(36,36,36)",
            "showbackground": true,
            "showgrid": false,
            "showline": true,
            "ticks": "outside",
            "zeroline": false,
            "zerolinecolor": "rgb(36,36,36)"
           },
           "yaxis": {
            "backgroundcolor": "white",
            "gridcolor": "rgb(232,232,232)",
            "gridwidth": 2,
            "linecolor": "rgb(36,36,36)",
            "showbackground": true,
            "showgrid": false,
            "showline": true,
            "ticks": "outside",
            "zeroline": false,
            "zerolinecolor": "rgb(36,36,36)"
           },
           "zaxis": {
            "backgroundcolor": "white",
            "gridcolor": "rgb(232,232,232)",
            "gridwidth": 2,
            "linecolor": "rgb(36,36,36)",
            "showbackground": true,
            "showgrid": false,
            "showline": true,
            "ticks": "outside",
            "zeroline": false,
            "zerolinecolor": "rgb(36,36,36)"
           }
          },
          "shapedefaults": {
           "fillcolor": "black",
           "line": {
            "width": 0
           },
           "opacity": 0.3
          },
          "ternary": {
           "aaxis": {
            "gridcolor": "rgb(232,232,232)",
            "linecolor": "rgb(36,36,36)",
            "showgrid": false,
            "showline": true,
            "ticks": "outside"
           },
           "baxis": {
            "gridcolor": "rgb(232,232,232)",
            "linecolor": "rgb(36,36,36)",
            "showgrid": false,
            "showline": true,
            "ticks": "outside"
           },
           "bgcolor": "white",
           "caxis": {
            "gridcolor": "rgb(232,232,232)",
            "linecolor": "rgb(36,36,36)",
            "showgrid": false,
            "showline": true,
            "ticks": "outside"
           }
          },
          "title": {
           "x": 0.05
          },
          "xaxis": {
           "automargin": true,
           "gridcolor": "rgb(232,232,232)",
           "linecolor": "rgb(36,36,36)",
           "showgrid": false,
           "showline": true,
           "ticks": "outside",
           "title": {
            "standoff": 15
           },
           "zeroline": false,
           "zerolinecolor": "rgb(36,36,36)"
          },
          "yaxis": {
           "automargin": true,
           "gridcolor": "rgb(232,232,232)",
           "linecolor": "rgb(36,36,36)",
           "showgrid": false,
           "showline": true,
           "ticks": "outside",
           "title": {
            "standoff": 15
           },
           "zeroline": false,
           "zerolinecolor": "rgb(36,36,36)"
          }
         }
        },
        "title": {
         "font": {
          "color": "Black",
          "size": 22
         },
         "text": "<b>Intertopic Distance Map</b>",
         "x": 0.5,
         "xanchor": "center",
         "y": 0.95,
         "yanchor": "top"
        },
        "width": 650,
        "xaxis": {
         "anchor": "y",
         "domain": [
          0,
          1
         ],
         "range": [
          -9.293844223022461,
          19.827856063842773
         ],
         "title": {
          "text": ""
         },
         "visible": false
        },
        "yaxis": {
         "anchor": "x",
         "domain": [
          0,
          1
         ],
         "range": [
          -14.567750930786133,
          24.081613540649414
         ],
         "title": {
          "text": ""
         },
         "visible": false
        }
       }
      }
     },
     "metadata": {},
     "output_type": "display_data"
    }
   ],
   "source": [
    "model.visualize_topics()"
   ]
  },
  {
   "cell_type": "code",
   "execution_count": 29,
   "id": "dfdd9b32-fcf5-413b-b4d0-98654a174291",
   "metadata": {
    "colab": {
     "base_uri": "https://localhost:8080/",
     "height": 517
    },
    "id": "dfdd9b32-fcf5-413b-b4d0-98654a174291",
    "outputId": "207a997f-eb26-40bc-f405-8efa39f8993a"
   },
   "outputs": [
    {
     "data": {
      "application/vnd.plotly.v1+json": {
       "config": {
        "plotlyServerURL": "https://plot.ly"
       },
       "data": [
        {
         "marker": {
          "color": "#D55E00"
         },
         "orientation": "h",
         "type": "bar",
         "x": [
          0.787730872631073,
          0.9332294464111328,
          0.950573205947876,
          0.9791668653488159,
          0.9999998807907104
         ],
         "xaxis": "x",
         "y": [
          "electricos mantenimiento  ",
          "eléctricas sistemas  ",
          "eléctrico sistemas  ",
          "eléctricos sistemas  ",
          "sistemas eléctricos  "
         ],
         "yaxis": "y"
        },
        {
         "marker": {
          "color": "#0072B2"
         },
         "orientation": "h",
         "type": "bar",
         "x": [
          0.847118616104126,
          0.8560212850570679,
          0.8777019381523132,
          0.8800232410430908,
          0.8884260654449463
         ],
         "xaxis": "x2",
         "y": [
          "elaboración estudios ambientales  ",
          "ambientales  ",
          "estudios ambientales  ",
          "ambientales licenciamiento  ",
          "ambientales seguimiento  "
         ],
         "yaxis": "y2"
        },
        {
         "marker": {
          "color": "#CC79A7"
         },
         "orientation": "h",
         "type": "bar",
         "x": [
          0.8122919797897339,
          0.827994704246521,
          0.836577832698822,
          0.9732609987258911,
          0.9732609987258911
         ],
         "xaxis": "x3",
         "y": [
          "redes eléctricas redes  ",
          "eléctricas mantenimiento  ",
          "diseño redes eléctricas  ",
          "mantenimiento redes electricas  ",
          "mantenimiento redes eléctricas  "
         ],
         "yaxis": "y3"
        },
        {
         "marker": {
          "color": "#E69F00"
         },
         "orientation": "h",
         "type": "bar",
         "x": [
          0.65836501121521,
          0.6625069975852966,
          0.6678650379180908,
          0.679957389831543,
          0.8731565475463867
         ],
         "xaxis": "x4",
         "y": [
          "software diseño asistido  ",
          "software especializado  ",
          "programadas  ",
          "software diseño  ",
          "software  "
         ],
         "yaxis": "y4"
        },
        {
         "marker": {
          "color": "#56B4E9"
         },
         "orientation": "h",
         "type": "bar",
         "x": [
          0.9738581776618958,
          0.9770855903625488,
          0.9770855903625488,
          1.000000238418579,
          1.000000238418579
         ],
         "xaxis": "x5",
         "y": [
          "ambiental gestión  ",
          "gestión ambiental gestion  ",
          "gestión ambiental gestión  ",
          "gestión ambiental  ",
          "gestion ambiental  "
         ],
         "yaxis": "y5"
        },
        {
         "marker": {
          "color": "#009E73"
         },
         "orientation": "h",
         "type": "bar",
         "x": [
          0.6482540369033813,
          0.6552939414978027,
          0.6552939414978027,
          0.6701200008392334,
          0.7841594219207764
         ],
         "xaxis": "x6",
         "y": [
          "tecnológico  ",
          "tecnico  ",
          "técnico  ",
          "asesoramiento  ",
          "comercial técnico  "
         ],
         "yaxis": "y6"
        },
        {
         "marker": {
          "color": "#F0E442"
         },
         "orientation": "h",
         "type": "bar",
         "x": [
          0.7451221942901611,
          0.7486925721168518,
          0.7542393207550049,
          0.7733241319656372,
          0.7805205583572388
         ],
         "xaxis": "x7",
         "y": [
          "manejo proveedores  ",
          "manejo proyectos  ",
          "manejo archivo  ",
          "manejo residuos  ",
          "manejo informes  "
         ],
         "yaxis": "y7"
        },
        {
         "marker": {
          "color": "#D55E00"
         },
         "orientation": "h",
         "type": "bar",
         "x": [
          0.737092912197113,
          0.7374316453933716,
          0.7565662860870361,
          0.7727360725402832,
          0.8015264868736267
         ],
         "xaxis": "x8",
         "y": [
          "proyectos procesos  ",
          "procesos procedimientos  ",
          "procesos compras  ",
          "seguimiento procesos  ",
          "acompañamiento procesos  "
         ],
         "yaxis": "y8"
        }
       ],
       "layout": {
        "annotations": [
         {
          "font": {
           "size": 16
          },
          "showarrow": false,
          "text": "Topic 0",
          "x": 0.0875,
          "xanchor": "center",
          "xref": "paper",
          "y": 1,
          "yanchor": "bottom",
          "yref": "paper"
         },
         {
          "font": {
           "size": 16
          },
          "showarrow": false,
          "text": "Topic 1",
          "x": 0.36250000000000004,
          "xanchor": "center",
          "xref": "paper",
          "y": 1,
          "yanchor": "bottom",
          "yref": "paper"
         },
         {
          "font": {
           "size": 16
          },
          "showarrow": false,
          "text": "Topic 2",
          "x": 0.6375000000000001,
          "xanchor": "center",
          "xref": "paper",
          "y": 1,
          "yanchor": "bottom",
          "yref": "paper"
         },
         {
          "font": {
           "size": 16
          },
          "showarrow": false,
          "text": "Topic 3",
          "x": 0.9125,
          "xanchor": "center",
          "xref": "paper",
          "y": 1,
          "yanchor": "bottom",
          "yref": "paper"
         },
         {
          "font": {
           "size": 16
          },
          "showarrow": false,
          "text": "Topic 4",
          "x": 0.0875,
          "xanchor": "center",
          "xref": "paper",
          "y": 0.4,
          "yanchor": "bottom",
          "yref": "paper"
         },
         {
          "font": {
           "size": 16
          },
          "showarrow": false,
          "text": "Topic 5",
          "x": 0.36250000000000004,
          "xanchor": "center",
          "xref": "paper",
          "y": 0.4,
          "yanchor": "bottom",
          "yref": "paper"
         },
         {
          "font": {
           "size": 16
          },
          "showarrow": false,
          "text": "Topic 6",
          "x": 0.6375000000000001,
          "xanchor": "center",
          "xref": "paper",
          "y": 0.4,
          "yanchor": "bottom",
          "yref": "paper"
         },
         {
          "font": {
           "size": 16
          },
          "showarrow": false,
          "text": "Topic 7",
          "x": 0.9125,
          "xanchor": "center",
          "xref": "paper",
          "y": 0.4,
          "yanchor": "bottom",
          "yref": "paper"
         }
        ],
        "height": 500,
        "hoverlabel": {
         "bgcolor": "white",
         "font": {
          "family": "Rockwell",
          "size": 16
         }
        },
        "showlegend": false,
        "template": {
         "data": {
          "bar": [
           {
            "error_x": {
             "color": "#2a3f5f"
            },
            "error_y": {
             "color": "#2a3f5f"
            },
            "marker": {
             "line": {
              "color": "white",
              "width": 0.5
             },
             "pattern": {
              "fillmode": "overlay",
              "size": 10,
              "solidity": 0.2
             }
            },
            "type": "bar"
           }
          ],
          "barpolar": [
           {
            "marker": {
             "line": {
              "color": "white",
              "width": 0.5
             },
             "pattern": {
              "fillmode": "overlay",
              "size": 10,
              "solidity": 0.2
             }
            },
            "type": "barpolar"
           }
          ],
          "carpet": [
           {
            "aaxis": {
             "endlinecolor": "#2a3f5f",
             "gridcolor": "#C8D4E3",
             "linecolor": "#C8D4E3",
             "minorgridcolor": "#C8D4E3",
             "startlinecolor": "#2a3f5f"
            },
            "baxis": {
             "endlinecolor": "#2a3f5f",
             "gridcolor": "#C8D4E3",
             "linecolor": "#C8D4E3",
             "minorgridcolor": "#C8D4E3",
             "startlinecolor": "#2a3f5f"
            },
            "type": "carpet"
           }
          ],
          "choropleth": [
           {
            "colorbar": {
             "outlinewidth": 0,
             "ticks": ""
            },
            "type": "choropleth"
           }
          ],
          "contour": [
           {
            "colorbar": {
             "outlinewidth": 0,
             "ticks": ""
            },
            "colorscale": [
             [
              0,
              "#0d0887"
             ],
             [
              0.1111111111111111,
              "#46039f"
             ],
             [
              0.2222222222222222,
              "#7201a8"
             ],
             [
              0.3333333333333333,
              "#9c179e"
             ],
             [
              0.4444444444444444,
              "#bd3786"
             ],
             [
              0.5555555555555556,
              "#d8576b"
             ],
             [
              0.6666666666666666,
              "#ed7953"
             ],
             [
              0.7777777777777778,
              "#fb9f3a"
             ],
             [
              0.8888888888888888,
              "#fdca26"
             ],
             [
              1,
              "#f0f921"
             ]
            ],
            "type": "contour"
           }
          ],
          "contourcarpet": [
           {
            "colorbar": {
             "outlinewidth": 0,
             "ticks": ""
            },
            "type": "contourcarpet"
           }
          ],
          "heatmap": [
           {
            "colorbar": {
             "outlinewidth": 0,
             "ticks": ""
            },
            "colorscale": [
             [
              0,
              "#0d0887"
             ],
             [
              0.1111111111111111,
              "#46039f"
             ],
             [
              0.2222222222222222,
              "#7201a8"
             ],
             [
              0.3333333333333333,
              "#9c179e"
             ],
             [
              0.4444444444444444,
              "#bd3786"
             ],
             [
              0.5555555555555556,
              "#d8576b"
             ],
             [
              0.6666666666666666,
              "#ed7953"
             ],
             [
              0.7777777777777778,
              "#fb9f3a"
             ],
             [
              0.8888888888888888,
              "#fdca26"
             ],
             [
              1,
              "#f0f921"
             ]
            ],
            "type": "heatmap"
           }
          ],
          "histogram": [
           {
            "marker": {
             "pattern": {
              "fillmode": "overlay",
              "size": 10,
              "solidity": 0.2
             }
            },
            "type": "histogram"
           }
          ],
          "histogram2d": [
           {
            "colorbar": {
             "outlinewidth": 0,
             "ticks": ""
            },
            "colorscale": [
             [
              0,
              "#0d0887"
             ],
             [
              0.1111111111111111,
              "#46039f"
             ],
             [
              0.2222222222222222,
              "#7201a8"
             ],
             [
              0.3333333333333333,
              "#9c179e"
             ],
             [
              0.4444444444444444,
              "#bd3786"
             ],
             [
              0.5555555555555556,
              "#d8576b"
             ],
             [
              0.6666666666666666,
              "#ed7953"
             ],
             [
              0.7777777777777778,
              "#fb9f3a"
             ],
             [
              0.8888888888888888,
              "#fdca26"
             ],
             [
              1,
              "#f0f921"
             ]
            ],
            "type": "histogram2d"
           }
          ],
          "histogram2dcontour": [
           {
            "colorbar": {
             "outlinewidth": 0,
             "ticks": ""
            },
            "colorscale": [
             [
              0,
              "#0d0887"
             ],
             [
              0.1111111111111111,
              "#46039f"
             ],
             [
              0.2222222222222222,
              "#7201a8"
             ],
             [
              0.3333333333333333,
              "#9c179e"
             ],
             [
              0.4444444444444444,
              "#bd3786"
             ],
             [
              0.5555555555555556,
              "#d8576b"
             ],
             [
              0.6666666666666666,
              "#ed7953"
             ],
             [
              0.7777777777777778,
              "#fb9f3a"
             ],
             [
              0.8888888888888888,
              "#fdca26"
             ],
             [
              1,
              "#f0f921"
             ]
            ],
            "type": "histogram2dcontour"
           }
          ],
          "mesh3d": [
           {
            "colorbar": {
             "outlinewidth": 0,
             "ticks": ""
            },
            "type": "mesh3d"
           }
          ],
          "parcoords": [
           {
            "line": {
             "colorbar": {
              "outlinewidth": 0,
              "ticks": ""
             }
            },
            "type": "parcoords"
           }
          ],
          "pie": [
           {
            "automargin": true,
            "type": "pie"
           }
          ],
          "scatter": [
           {
            "fillpattern": {
             "fillmode": "overlay",
             "size": 10,
             "solidity": 0.2
            },
            "type": "scatter"
           }
          ],
          "scatter3d": [
           {
            "line": {
             "colorbar": {
              "outlinewidth": 0,
              "ticks": ""
             }
            },
            "marker": {
             "colorbar": {
              "outlinewidth": 0,
              "ticks": ""
             }
            },
            "type": "scatter3d"
           }
          ],
          "scattercarpet": [
           {
            "marker": {
             "colorbar": {
              "outlinewidth": 0,
              "ticks": ""
             }
            },
            "type": "scattercarpet"
           }
          ],
          "scattergeo": [
           {
            "marker": {
             "colorbar": {
              "outlinewidth": 0,
              "ticks": ""
             }
            },
            "type": "scattergeo"
           }
          ],
          "scattergl": [
           {
            "marker": {
             "colorbar": {
              "outlinewidth": 0,
              "ticks": ""
             }
            },
            "type": "scattergl"
           }
          ],
          "scattermap": [
           {
            "marker": {
             "colorbar": {
              "outlinewidth": 0,
              "ticks": ""
             }
            },
            "type": "scattermap"
           }
          ],
          "scattermapbox": [
           {
            "marker": {
             "colorbar": {
              "outlinewidth": 0,
              "ticks": ""
             }
            },
            "type": "scattermapbox"
           }
          ],
          "scatterpolar": [
           {
            "marker": {
             "colorbar": {
              "outlinewidth": 0,
              "ticks": ""
             }
            },
            "type": "scatterpolar"
           }
          ],
          "scatterpolargl": [
           {
            "marker": {
             "colorbar": {
              "outlinewidth": 0,
              "ticks": ""
             }
            },
            "type": "scatterpolargl"
           }
          ],
          "scatterternary": [
           {
            "marker": {
             "colorbar": {
              "outlinewidth": 0,
              "ticks": ""
             }
            },
            "type": "scatterternary"
           }
          ],
          "surface": [
           {
            "colorbar": {
             "outlinewidth": 0,
             "ticks": ""
            },
            "colorscale": [
             [
              0,
              "#0d0887"
             ],
             [
              0.1111111111111111,
              "#46039f"
             ],
             [
              0.2222222222222222,
              "#7201a8"
             ],
             [
              0.3333333333333333,
              "#9c179e"
             ],
             [
              0.4444444444444444,
              "#bd3786"
             ],
             [
              0.5555555555555556,
              "#d8576b"
             ],
             [
              0.6666666666666666,
              "#ed7953"
             ],
             [
              0.7777777777777778,
              "#fb9f3a"
             ],
             [
              0.8888888888888888,
              "#fdca26"
             ],
             [
              1,
              "#f0f921"
             ]
            ],
            "type": "surface"
           }
          ],
          "table": [
           {
            "cells": {
             "fill": {
              "color": "#EBF0F8"
             },
             "line": {
              "color": "white"
             }
            },
            "header": {
             "fill": {
              "color": "#C8D4E3"
             },
             "line": {
              "color": "white"
             }
            },
            "type": "table"
           }
          ]
         },
         "layout": {
          "annotationdefaults": {
           "arrowcolor": "#2a3f5f",
           "arrowhead": 0,
           "arrowwidth": 1
          },
          "autotypenumbers": "strict",
          "coloraxis": {
           "colorbar": {
            "outlinewidth": 0,
            "ticks": ""
           }
          },
          "colorscale": {
           "diverging": [
            [
             0,
             "#8e0152"
            ],
            [
             0.1,
             "#c51b7d"
            ],
            [
             0.2,
             "#de77ae"
            ],
            [
             0.3,
             "#f1b6da"
            ],
            [
             0.4,
             "#fde0ef"
            ],
            [
             0.5,
             "#f7f7f7"
            ],
            [
             0.6,
             "#e6f5d0"
            ],
            [
             0.7,
             "#b8e186"
            ],
            [
             0.8,
             "#7fbc41"
            ],
            [
             0.9,
             "#4d9221"
            ],
            [
             1,
             "#276419"
            ]
           ],
           "sequential": [
            [
             0,
             "#0d0887"
            ],
            [
             0.1111111111111111,
             "#46039f"
            ],
            [
             0.2222222222222222,
             "#7201a8"
            ],
            [
             0.3333333333333333,
             "#9c179e"
            ],
            [
             0.4444444444444444,
             "#bd3786"
            ],
            [
             0.5555555555555556,
             "#d8576b"
            ],
            [
             0.6666666666666666,
             "#ed7953"
            ],
            [
             0.7777777777777778,
             "#fb9f3a"
            ],
            [
             0.8888888888888888,
             "#fdca26"
            ],
            [
             1,
             "#f0f921"
            ]
           ],
           "sequentialminus": [
            [
             0,
             "#0d0887"
            ],
            [
             0.1111111111111111,
             "#46039f"
            ],
            [
             0.2222222222222222,
             "#7201a8"
            ],
            [
             0.3333333333333333,
             "#9c179e"
            ],
            [
             0.4444444444444444,
             "#bd3786"
            ],
            [
             0.5555555555555556,
             "#d8576b"
            ],
            [
             0.6666666666666666,
             "#ed7953"
            ],
            [
             0.7777777777777778,
             "#fb9f3a"
            ],
            [
             0.8888888888888888,
             "#fdca26"
            ],
            [
             1,
             "#f0f921"
            ]
           ]
          },
          "colorway": [
           "#636efa",
           "#EF553B",
           "#00cc96",
           "#ab63fa",
           "#FFA15A",
           "#19d3f3",
           "#FF6692",
           "#B6E880",
           "#FF97FF",
           "#FECB52"
          ],
          "font": {
           "color": "#2a3f5f"
          },
          "geo": {
           "bgcolor": "white",
           "lakecolor": "white",
           "landcolor": "white",
           "showlakes": true,
           "showland": true,
           "subunitcolor": "#C8D4E3"
          },
          "hoverlabel": {
           "align": "left"
          },
          "hovermode": "closest",
          "mapbox": {
           "style": "light"
          },
          "paper_bgcolor": "white",
          "plot_bgcolor": "white",
          "polar": {
           "angularaxis": {
            "gridcolor": "#EBF0F8",
            "linecolor": "#EBF0F8",
            "ticks": ""
           },
           "bgcolor": "white",
           "radialaxis": {
            "gridcolor": "#EBF0F8",
            "linecolor": "#EBF0F8",
            "ticks": ""
           }
          },
          "scene": {
           "xaxis": {
            "backgroundcolor": "white",
            "gridcolor": "#DFE8F3",
            "gridwidth": 2,
            "linecolor": "#EBF0F8",
            "showbackground": true,
            "ticks": "",
            "zerolinecolor": "#EBF0F8"
           },
           "yaxis": {
            "backgroundcolor": "white",
            "gridcolor": "#DFE8F3",
            "gridwidth": 2,
            "linecolor": "#EBF0F8",
            "showbackground": true,
            "ticks": "",
            "zerolinecolor": "#EBF0F8"
           },
           "zaxis": {
            "backgroundcolor": "white",
            "gridcolor": "#DFE8F3",
            "gridwidth": 2,
            "linecolor": "#EBF0F8",
            "showbackground": true,
            "ticks": "",
            "zerolinecolor": "#EBF0F8"
           }
          },
          "shapedefaults": {
           "line": {
            "color": "#2a3f5f"
           }
          },
          "ternary": {
           "aaxis": {
            "gridcolor": "#DFE8F3",
            "linecolor": "#A2B1C6",
            "ticks": ""
           },
           "baxis": {
            "gridcolor": "#DFE8F3",
            "linecolor": "#A2B1C6",
            "ticks": ""
           },
           "bgcolor": "white",
           "caxis": {
            "gridcolor": "#DFE8F3",
            "linecolor": "#A2B1C6",
            "ticks": ""
           }
          },
          "title": {
           "x": 0.05
          },
          "xaxis": {
           "automargin": true,
           "gridcolor": "#EBF0F8",
           "linecolor": "#EBF0F8",
           "ticks": "",
           "title": {
            "standoff": 15
           },
           "zerolinecolor": "#EBF0F8",
           "zerolinewidth": 2
          },
          "yaxis": {
           "automargin": true,
           "gridcolor": "#EBF0F8",
           "linecolor": "#EBF0F8",
           "ticks": "",
           "title": {
            "standoff": 15
           },
           "zerolinecolor": "#EBF0F8",
           "zerolinewidth": 2
          }
         }
        },
        "title": {
         "font": {
          "color": "Black",
          "size": 22
         },
         "text": "Topic Word Scores",
         "x": 0.5,
         "xanchor": "center",
         "yanchor": "top"
        },
        "width": 1000,
        "xaxis": {
         "anchor": "y",
         "domain": [
          0,
          0.175
         ],
         "showgrid": true
        },
        "xaxis2": {
         "anchor": "y2",
         "domain": [
          0.275,
          0.45
         ],
         "showgrid": true
        },
        "xaxis3": {
         "anchor": "y3",
         "domain": [
          0.55,
          0.7250000000000001
         ],
         "showgrid": true
        },
        "xaxis4": {
         "anchor": "y4",
         "domain": [
          0.825,
          1
         ],
         "showgrid": true
        },
        "xaxis5": {
         "anchor": "y5",
         "domain": [
          0,
          0.175
         ],
         "showgrid": true
        },
        "xaxis6": {
         "anchor": "y6",
         "domain": [
          0.275,
          0.45
         ],
         "showgrid": true
        },
        "xaxis7": {
         "anchor": "y7",
         "domain": [
          0.55,
          0.7250000000000001
         ],
         "showgrid": true
        },
        "xaxis8": {
         "anchor": "y8",
         "domain": [
          0.825,
          1
         ],
         "showgrid": true
        },
        "yaxis": {
         "anchor": "x",
         "domain": [
          0.6000000000000001,
          1
         ],
         "showgrid": true
        },
        "yaxis2": {
         "anchor": "x2",
         "domain": [
          0.6000000000000001,
          1
         ],
         "showgrid": true
        },
        "yaxis3": {
         "anchor": "x3",
         "domain": [
          0.6000000000000001,
          1
         ],
         "showgrid": true
        },
        "yaxis4": {
         "anchor": "x4",
         "domain": [
          0.6000000000000001,
          1
         ],
         "showgrid": true
        },
        "yaxis5": {
         "anchor": "x5",
         "domain": [
          0,
          0.4
         ],
         "showgrid": true
        },
        "yaxis6": {
         "anchor": "x6",
         "domain": [
          0,
          0.4
         ],
         "showgrid": true
        },
        "yaxis7": {
         "anchor": "x7",
         "domain": [
          0,
          0.4
         ],
         "showgrid": true
        },
        "yaxis8": {
         "anchor": "x8",
         "domain": [
          0,
          0.4
         ],
         "showgrid": true
        }
       }
      }
     },
     "metadata": {},
     "output_type": "display_data"
    }
   ],
   "source": [
    "model.visualize_barchart()"
   ]
  },
  {
   "cell_type": "markdown",
   "id": "506efd76",
   "metadata": {},
   "source": [
    "# TBD"
   ]
  },
  {
   "cell_type": "code",
   "execution_count": 40,
   "id": "a5ed872d",
   "metadata": {},
   "outputs": [],
   "source": [
    "documentos=model.get_document_info(corpus)"
   ]
  },
  {
   "cell_type": "code",
   "execution_count": 43,
   "id": "54c304e9",
   "metadata": {},
   "outputs": [
    {
     "data": {
      "text/html": [
       "<div>\n",
       "<style scoped>\n",
       "    .dataframe tbody tr th:only-of-type {\n",
       "        vertical-align: middle;\n",
       "    }\n",
       "\n",
       "    .dataframe tbody tr th {\n",
       "        vertical-align: top;\n",
       "    }\n",
       "\n",
       "    .dataframe thead th {\n",
       "        text-align: right;\n",
       "    }\n",
       "</style>\n",
       "<table border=\"1\" class=\"dataframe\">\n",
       "  <thead>\n",
       "    <tr style=\"text-align: right;\">\n",
       "      <th></th>\n",
       "      <th>Document</th>\n",
       "      <th>Topic</th>\n",
       "      <th>Name</th>\n",
       "      <th>Representation</th>\n",
       "      <th>Representative_Docs</th>\n",
       "      <th>Top_n_words</th>\n",
       "      <th>Probability</th>\n",
       "      <th>Representative_document</th>\n",
       "    </tr>\n",
       "  </thead>\n",
       "  <tbody>\n",
       "    <tr>\n",
       "      <th>0</th>\n",
       "      <td>mantenimiento de maquinaria industrial</td>\n",
       "      <td>2</td>\n",
       "      <td>2_mantenimiento redes eléctricas_mantenimiento...</td>\n",
       "      <td>[mantenimiento redes eléctricas, mantenimiento...</td>\n",
       "      <td>[Mantenimiento de redes eléctricas, Mantenimie...</td>\n",
       "      <td>mantenimiento redes eléctricas - mantenimiento...</td>\n",
       "      <td>0.060386</td>\n",
       "      <td>False</td>\n",
       "    </tr>\n",
       "    <tr>\n",
       "      <th>1</th>\n",
       "      <td>manejo de bombas de vacío</td>\n",
       "      <td>14</td>\n",
       "      <td>14_tratamiento aguas_tratamiento agua_sistemas...</td>\n",
       "      <td>[tratamiento aguas, tratamiento agua, sistemas...</td>\n",
       "      <td>[Control de plantas de tratamiento de agua, Pl...</td>\n",
       "      <td>tratamiento aguas - tratamiento agua - sistema...</td>\n",
       "      <td>0.208504</td>\n",
       "      <td>False</td>\n",
       "    </tr>\n",
       "    <tr>\n",
       "      <th>2</th>\n",
       "      <td>equipos de soldadura</td>\n",
       "      <td>-1</td>\n",
       "      <td>-1_paquete office_paquete_office_soporte</td>\n",
       "      <td>[paquete office, paquete, office, soporte, sop...</td>\n",
       "      <td>[Paquete Office, Paquete Office, Paquete Office]</td>\n",
       "      <td>paquete office - paquete - office - soporte - ...</td>\n",
       "      <td>0.000000</td>\n",
       "      <td>False</td>\n",
       "    </tr>\n",
       "    <tr>\n",
       "      <th>3</th>\n",
       "      <td>mecánica hidráulica</td>\n",
       "      <td>-1</td>\n",
       "      <td>-1_paquete office_paquete_office_soporte</td>\n",
       "      <td>[paquete office, paquete, office, soporte, sop...</td>\n",
       "      <td>[Paquete Office, Paquete Office, Paquete Office]</td>\n",
       "      <td>paquete office - paquete - office - soporte - ...</td>\n",
       "      <td>0.000000</td>\n",
       "      <td>False</td>\n",
       "    </tr>\n",
       "    <tr>\n",
       "      <th>4</th>\n",
       "      <td>Control integrado de plagas</td>\n",
       "      <td>-1</td>\n",
       "      <td>-1_paquete office_paquete_office_soporte</td>\n",
       "      <td>[paquete office, paquete, office, soporte, sop...</td>\n",
       "      <td>[Paquete Office, Paquete Office, Paquete Office]</td>\n",
       "      <td>paquete office - paquete - office - soporte - ...</td>\n",
       "      <td>0.000000</td>\n",
       "      <td>False</td>\n",
       "    </tr>\n",
       "  </tbody>\n",
       "</table>\n",
       "</div>"
      ],
      "text/plain": [
       "                                 Document  Topic  \\\n",
       "0  mantenimiento de maquinaria industrial      2   \n",
       "1               manejo de bombas de vacío     14   \n",
       "2                    equipos de soldadura     -1   \n",
       "3                     mecánica hidráulica     -1   \n",
       "4             Control integrado de plagas     -1   \n",
       "\n",
       "                                                Name  \\\n",
       "0  2_mantenimiento redes eléctricas_mantenimiento...   \n",
       "1  14_tratamiento aguas_tratamiento agua_sistemas...   \n",
       "2           -1_paquete office_paquete_office_soporte   \n",
       "3           -1_paquete office_paquete_office_soporte   \n",
       "4           -1_paquete office_paquete_office_soporte   \n",
       "\n",
       "                                      Representation  \\\n",
       "0  [mantenimiento redes eléctricas, mantenimiento...   \n",
       "1  [tratamiento aguas, tratamiento agua, sistemas...   \n",
       "2  [paquete office, paquete, office, soporte, sop...   \n",
       "3  [paquete office, paquete, office, soporte, sop...   \n",
       "4  [paquete office, paquete, office, soporte, sop...   \n",
       "\n",
       "                                 Representative_Docs  \\\n",
       "0  [Mantenimiento de redes eléctricas, Mantenimie...   \n",
       "1  [Control de plantas de tratamiento de agua, Pl...   \n",
       "2   [Paquete Office, Paquete Office, Paquete Office]   \n",
       "3   [Paquete Office, Paquete Office, Paquete Office]   \n",
       "4   [Paquete Office, Paquete Office, Paquete Office]   \n",
       "\n",
       "                                         Top_n_words  Probability  \\\n",
       "0  mantenimiento redes eléctricas - mantenimiento...     0.060386   \n",
       "1  tratamiento aguas - tratamiento agua - sistema...     0.208504   \n",
       "2  paquete office - paquete - office - soporte - ...     0.000000   \n",
       "3  paquete office - paquete - office - soporte - ...     0.000000   \n",
       "4  paquete office - paquete - office - soporte - ...     0.000000   \n",
       "\n",
       "   Representative_document  \n",
       "0                    False  \n",
       "1                    False  \n",
       "2                    False  \n",
       "3                    False  \n",
       "4                    False  "
      ]
     },
     "execution_count": 43,
     "metadata": {},
     "output_type": "execute_result"
    }
   ],
   "source": [
    "documentos.head()"
   ]
  },
  {
   "cell_type": "markdown",
   "id": "ace1ec46",
   "metadata": {},
   "source": [
    "# Clasificación Jerárquica"
   ]
  },
  {
   "cell_type": "code",
   "execution_count": 44,
   "id": "8922e505",
   "metadata": {},
   "outputs": [],
   "source": [
    "from scipy.cluster import hierarchy as sch"
   ]
  },
  {
   "cell_type": "code",
   "execution_count": null,
   "id": "5fcf2dae",
   "metadata": {},
   "outputs": [
    {
     "name": "stderr",
     "output_type": "stream",
     "text": [
      "100%|██████████| 92/92 [00:15<00:00,  6.11it/s]\n"
     ]
    }
   ],
   "source": [
    "linkage_function = lambda x: sch.linkage(x, 'single', optimal_ordering=True)\n",
    "model_jer=model.hierarchical_topics(corpus, linkage_function = linkage_function)    "
   ]
  },
  {
   "cell_type": "code",
   "execution_count": 46,
   "id": "d2bf8227",
   "metadata": {},
   "outputs": [
    {
     "data": {
      "application/vnd.plotly.v1+json": {
       "config": {
        "plotlyServerURL": "https://plot.ly"
       },
       "data": [
        {
         "hoverinfo": "text",
         "marker": {
          "color": "rgb(61,153,112)"
         },
         "mode": "lines",
         "text": [
          "cableado estructurado_estructurado cableado_cableado estructurado cableado_cableado_estructurado",
          "",
          "",
          "cableado estructurado_estructurado cableado_cableado estructurado cableado_cableado sistemas_cableado instalación"
         ],
         "type": "scatter",
         "x": {
          "bdata": "AAAAAAAAAACw3LaL+AnXP7Dctov4Cdc/AAAAAAAAAAA=",
          "dtype": "f8"
         },
         "xaxis": "x",
         "y": {
          "bdata": "AAAAAAAAFMAAAAAAAAAUwAAAAAAAAC7AAAAAAAAALsA=",
          "dtype": "f8"
         },
         "yaxis": "y"
        },
        {
         "hoverinfo": "text",
         "marker": {
          "color": "rgb(255,65,54)"
         },
         "mode": "lines",
         "text": [
          "instalacion_instalación_instalaciones_instalaciones instalaciones_instalación conexión",
          "",
          "",
          "eléctricas instalaciones_electricas instalación_eléctricas instalacion_eléctricas instalación_instalación eléctrica"
         ],
         "type": "scatter",
         "x": {
          "bdata": "AAAAAAAAAACONZXf27HiP441ld/bseI/AAAAAAAAAAA=",
          "dtype": "f8"
         },
         "xaxis": "x",
         "y": {
          "bdata": "AAAAAAAAOcAAAAAAAAA5wAAAAAAAgEHAAAAAAACAQcA=",
          "dtype": "f8"
         },
         "yaxis": "y"
        },
        {
         "hoverinfo": "text",
         "marker": {
          "color": "rgb(35,205,205)"
         },
         "mode": "lines",
         "text": [
          "redes electricas_redes eléctricas_eléctricas redes_redes eléctricas redes_eléctricas redes electricas",
          "",
          "",
          "mantenimiento redes eléctricas_mantenimiento redes electricas_diseño redes eléctricas_eléctricas mantenimiento_redes eléctricas redes"
         ],
         "type": "scatter",
         "x": {
          "bdata": "AAAAAAAAAACAer2N317kP4B6vY3fXuQ/AAAAAAAAAAA=",
          "dtype": "f8"
         },
         "xaxis": "x",
         "y": {
          "bdata": "AAAAAACARsAAAAAAAIBGwAAAAAAAgEvAAAAAAACAS8A=",
          "dtype": "f8"
         },
         "yaxis": "y"
        },
        {
         "hoverinfo": "text",
         "marker": {
          "color": "rgb(133,20,75)"
         },
         "mode": "lines",
         "text": [
          "instalación redes eléctricas_instalacion redes electricas_instalaciones redes electricas_redes eléctricas instalación_eléctricas instalaciones",
          "",
          "",
          "sap_software_analytics_web_gestión"
         ],
         "type": "scatter",
         "x": {
          "bdata": "AAAAAAAAAADGQNmdZArrP8ZA2Z1kCus/AAAAAAAAAAA=",
          "dtype": "f8"
         },
         "xaxis": "x",
         "y": {
          "bdata": "AAAAAABAUMAAAAAAAEBQwAAAAAAAwFLAAAAAAADAUsA=",
          "dtype": "f8"
         },
         "yaxis": "y"
        },
        {
         "hoverinfo": "text",
         "marker": {
          "color": "rgb(0,116,217)"
         },
         "mode": "lines",
         "text": [
          "redes eléctricas_redes electricas_eléctricas redes_redes eléctricas redes_eléctricas redes electricas",
          "",
          "",
          "sap_software_analytics_web_gestión"
         ],
         "type": "scatter",
         "x": {
          "bdata": "gHq9jd9e5D+PD8qF+AvxP48PyoX4C/E/xkDZnWQK6z8=",
          "dtype": "f8"
         },
         "xaxis": "x",
         "y": {
          "bdata": "AAAAAAAAScAAAAAAAABJwAAAAAAAgFHAAAAAAACAUcA=",
          "dtype": "f8"
         },
         "yaxis": "y"
        },
        {
         "hoverinfo": "text",
         "marker": {
          "color": "rgb(0,116,217)"
         },
         "mode": "lines",
         "text": [
          "eléctricas instalaciones_eléctricas instalacion_eléctricas instalación_electricas instalación_instalación eléctrica",
          "",
          "",
          "sap_software_analytics_web_gestión"
         ],
         "type": "scatter",
         "x": {
          "bdata": "jjWV39ux4j+TLcHnyMzyP5MtwefIzPI/jw/KhfgL8T8=",
          "dtype": "f8"
         },
         "xaxis": "x",
         "y": {
          "bdata": "AAAAAAAAPsAAAAAAAAA+wAAAAAAAAE7AAAAAAAAATsA=",
          "dtype": "f8"
         },
         "yaxis": "y"
        },
        {
         "hoverinfo": "text",
         "marker": {
          "color": "rgb(0,116,217)"
         },
         "mode": "lines",
         "text": [
          "cableado estructurado_estructurado cableado_cableado estructurado cableado_cableado sistemas_cableado eléctrico",
          "",
          "",
          "sap_software_analytics_web_gestión"
         ],
         "type": "scatter",
         "x": {
          "bdata": "sNy2i/gJ1z8sEM6MQBr1PywQzoxAGvU/ky3B58jM8j8=",
          "dtype": "f8"
         },
         "xaxis": "x",
         "y": {
          "bdata": "AAAAAAAAJMAAAAAAAAAkwAAAAAAAgEbAAAAAAACARsA=",
          "dtype": "f8"
         },
         "yaxis": "y"
        },
        {
         "hoverinfo": "text",
         "marker": {
          "color": "rgb(255,220,0)"
         },
         "mode": "lines",
         "text": [
          "soldadura_soldadura tig_soldadura tig miller_eléctrica_proceso",
          "",
          "",
          "hvac_hvac proyectos_sistemas aire acondicionado_sistemas aire_diseño sistemas aire"
         ],
         "type": "scatter",
         "x": {
          "bdata": "AAAAAAAAAACe9Gr8EtDeP570avwS0N4/AAAAAAAAAAA=",
          "dtype": "f8"
         },
         "xaxis": "x",
         "y": {
          "bdata": "AAAAAABAVcAAAAAAAEBVwAAAAAAAwFfAAAAAAADAV8A=",
          "dtype": "f8"
         },
         "yaxis": "y"
        },
        {
         "hoverinfo": "text",
         "marker": {
          "color": "rgb(40,35,35)"
         },
         "mode": "lines",
         "text": [
          "mantenimiento preventivo correctivo_mantenimiento correctivo preventivo_preventivo mantenimiento preventivo_preventivo mantenimiento_mantenimiento preventivo",
          "",
          "",
          "mantenimiento preventivo_preventivo mantenimiento_mantenimiento preventivo mantenimiento_preventivo mantenimiento preventivo_mantenimiento"
         ],
         "type": "scatter",
         "x": {
          "bdata": "AAAAAAAAAACyOkKJ/uLkP7I6Qon+4uQ/AAAAAAAAAAA=",
          "dtype": "f8"
         },
         "xaxis": "x",
         "y": {
          "bdata": "AAAAAABAWsAAAAAAAEBawAAAAAAAwFzAAAAAAADAXMA=",
          "dtype": "f8"
         },
         "yaxis": "y"
        },
        {
         "hoverinfo": "text",
         "marker": {
          "color": "rgb(61,153,112)"
         },
         "mode": "lines",
         "text": [
          "manejo herramientas_herramientas manejo_manejo herramientas equipos_equipos manejo herramientas_mantenimiento herramientas",
          "",
          "",
          "herramientas ofimáticas_herramientas ofimaticas_ofimáticas herramientas_herramientas ofimáticas herramientas_herramientas"
         ],
         "type": "scatter",
         "x": {
          "bdata": "AAAAAAAAAAC0/5W+MoTlP7T/lb4yhOU/AAAAAAAAAAA=",
          "dtype": "f8"
         },
         "xaxis": "x",
         "y": {
          "bdata": "AAAAAABAX8AAAAAAAEBfwAAAAAAA4GDAAAAAAADgYMA=",
          "dtype": "f8"
         },
         "yaxis": "y"
        },
        {
         "hoverinfo": "text",
         "marker": {
          "color": "rgb(255,65,54)"
         },
         "mode": "lines",
         "text": [
          "energético seguimiento_energético_energetico_energéticos_sector energetico",
          "",
          "",
          "sector eléctrico_sector_sector publico_comercial sector_proyectos sector"
         ],
         "type": "scatter",
         "x": {
          "bdata": "AAAAAAAAAABMNqyJOb/sP0w2rIk5v+w/AAAAAAAAAAA=",
          "dtype": "f8"
         },
         "xaxis": "x",
         "y": {
          "bdata": "AAAAAABgY8AAAAAAAGBjwAAAAAAAoGTAAAAAAACgZMA=",
          "dtype": "f8"
         },
         "yaxis": "y"
        },
        {
         "hoverinfo": "text",
         "marker": {
          "color": "rgb(255,65,54)"
         },
         "mode": "lines",
         "text": [
          "energético seguimiento_energético_energetico_energéticos_sector energetico",
          "",
          "",
          "sector oil gas_sector oil_oil gas sistema_oil gas_sector"
         ],
         "type": "scatter",
         "x": {
          "bdata": "TDasiTm/7D9CtlJhG7nuP0K2UmEbue4/AAAAAAAAAAA=",
          "dtype": "f8"
         },
         "xaxis": "x",
         "y": {
          "bdata": "AAAAAAAAZMAAAAAAAABkwAAAAAAA4GXAAAAAAADgZcA=",
          "dtype": "f8"
         },
         "yaxis": "y"
        },
        {
         "hoverinfo": "text",
         "marker": {
          "color": "rgb(255,65,54)"
         },
         "mode": "lines",
         "text": [
          "derechos_derecho_inmobiliario derecho_enfermedades laborales_corporativo",
          "",
          "",
          "sector oil gas_sector oil_oil gas sistema_oil gas_sector"
         ],
         "type": "scatter",
         "x": {
          "bdata": "AAAAAAAAAADhi0eJOC/vP+GLR4k4L+8/QrZSYRu57j8=",
          "dtype": "f8"
         },
         "xaxis": "x",
         "y": {
          "bdata": "AAAAAAAgYsAAAAAAACBiwAAAAAAA8GTAAAAAAADwZMA=",
          "dtype": "f8"
         },
         "yaxis": "y"
        },
        {
         "hoverinfo": "text",
         "marker": {
          "color": "rgb(35,205,205)"
         },
         "mode": "lines",
         "text": [
          "servicios públicos_servicios productos_servicios generales_productos servicios_servicios",
          "",
          "",
          "productos_presentación productos_especificaciones productos_producto_productos eficiencia"
         ],
         "type": "scatter",
         "x": {
          "bdata": "AAAAAAAAAABySBsRWnzrP3JIGxFafOs/AAAAAAAAAAA=",
          "dtype": "f8"
         },
         "xaxis": "x",
         "y": {
          "bdata": "AAAAAAAgZ8AAAAAAACBnwAAAAAAAYGjAAAAAAABgaMA=",
          "dtype": "f8"
         },
         "yaxis": "y"
        },
        {
         "hoverinfo": "text",
         "marker": {
          "color": "rgb(0,116,217)"
         },
         "mode": "lines",
         "text": [
          "servicios públicos_servicios productos_servicios generales_productos servicios_servicios",
          "",
          "",
          "presentación productos_productos_especificaciones productos_producto_productos servicios"
         ],
         "type": "scatter",
         "x": {
          "bdata": "4YtHiTgv7z+PL2d7si7xP48vZ3uyLvE/ckgbEVp86z8=",
          "dtype": "f8"
         },
         "xaxis": "x",
         "y": {
          "bdata": "AAAAAACIY8AAAAAAAIhjwAAAAAAAwGfAAAAAAADAZ8A=",
          "dtype": "f8"
         },
         "yaxis": "y"
        },
        {
         "hoverinfo": "text",
         "marker": {
          "color": "rgb(61,153,112)"
         },
         "mode": "lines",
         "text": [
          "licencia conducción_licencia conducción b1_licencia conducir_conduccion_conducción",
          "",
          "",
          "vehículos_electricos_eléctricos_eléctricos repuestos_eléctricos proyectos"
         ],
         "type": "scatter",
         "x": {
          "bdata": "AAAAAAAAAAAjv5OACnrsPyO/k4AKeuw/AAAAAAAAAAA=",
          "dtype": "f8"
         },
         "xaxis": "x",
         "y": {
          "bdata": "AAAAAACgacAAAAAAAKBpwAAAAAAA4GrAAAAAAADgasA=",
          "dtype": "f8"
         },
         "yaxis": "y"
        },
        {
         "hoverinfo": "text",
         "marker": {
          "color": "rgb(255,65,54)"
         },
         "mode": "lines",
         "text": [
          "tableros_tableros electricos_tableros eléctricos_mantenimiento tableros_tableros control",
          "",
          "",
          "motores eléctricos mantenimiento_motores electricos_motores eléctricos_correctivo motores eléctricos_generadores motores eléctricos"
         ],
         "type": "scatter",
         "x": {
          "bdata": "AAAAAAAAAAAufK89sSzuPy58rz2xLO4/AAAAAAAAAAA=",
          "dtype": "f8"
         },
         "xaxis": "x",
         "y": {
          "bdata": "AAAAAAAgbMAAAAAAACBswAAAAAAAYG3AAAAAAABgbcA=",
          "dtype": "f8"
         },
         "yaxis": "y"
        },
        {
         "hoverinfo": "text",
         "marker": {
          "color": "rgb(255,65,54)"
         },
         "mode": "lines",
         "text": [
          "sistemas eléctricos_eléctricos sistemas_eléctrico sistemas_eléctricas sistemas_electricos mantenimiento",
          "",
          "",
          "potencia sistemas_sistemas potencia_sistemas distribución_seguimiento sistema_sistemas comunicaciones"
         ],
         "type": "scatter",
         "x": {
          "bdata": "AAAAAAAAAAA1N9gFPUrrPzU32AU9Sus/AAAAAAAAAAA=",
          "dtype": "f8"
         },
         "xaxis": "x",
         "y": {
          "bdata": "AAAAAACgbsAAAAAAAKBuwAAAAAAA4G/AAAAAAADgb8A=",
          "dtype": "f8"
         },
         "yaxis": "y"
        },
        {
         "hoverinfo": "text",
         "marker": {
          "color": "rgb(255,65,54)"
         },
         "mode": "lines",
         "text": [
          "sistemas eléctricos_eléctricos sistemas_eléctrico sistemas_eléctricas sistemas_electricos mantenimiento",
          "",
          "",
          "sistemas eléctricos_eléctricos sistemas_eléctrico sistemas_eléctricas sistemas_eléctricos mantenimiento"
         ],
         "type": "scatter",
         "x": {
          "bdata": "LnyvPbEs7j99x8+WEVruP33Hz5YRWu4/NTfYBT1K6z8=",
          "dtype": "f8"
         },
         "xaxis": "x",
         "y": {
          "bdata": "AAAAAADAbMAAAAAAAMBswAAAAAAAQG/AAAAAAABAb8A=",
          "dtype": "f8"
         },
         "yaxis": "y"
        },
        {
         "hoverinfo": "text",
         "marker": {
          "color": "rgb(0,116,217)"
         },
         "mode": "lines",
         "text": [
          "vehículos_vehiculo_vehículo_conduccion_conducción",
          "",
          "",
          "sistemas eléctricos_eléctricos sistemas_eléctrico sistemas_eléctricas sistemas_eléctricos mantenimiento"
         ],
         "type": "scatter",
         "x": {
          "bdata": "I7+TgAp67D9CdcQvj/7wP0J1xC+P/vA/fcfPlhFa7j8=",
          "dtype": "f8"
         },
         "xaxis": "x",
         "y": {
          "bdata": "AAAAAABAasAAAAAAAEBqwAAAAAAAAG7AAAAAAAAAbsA=",
          "dtype": "f8"
         },
         "yaxis": "y"
        },
        {
         "hoverinfo": "text",
         "marker": {
          "color": "rgb(35,205,205)"
         },
         "mode": "lines",
         "text": [
          "paneles solares_solares_paneles_solar_sistemas solares",
          "",
          "",
          "fotovoltaicos sistemas_componentes fotovoltaicos_fotovoltaicos_fotovoltaico_fotovoltaicas"
         ],
         "type": "scatter",
         "x": {
          "bdata": "AAAAAAAAAAANq5W/Tb7tPw2rlb9Nvu0/AAAAAAAAAAA=",
          "dtype": "f8"
         },
         "xaxis": "x",
         "y": {
          "bdata": "AAAAAACQcMAAAAAAAJBwwAAAAAAAMHHAAAAAAAAwccA=",
          "dtype": "f8"
         },
         "yaxis": "y"
        },
        {
         "hoverinfo": "text",
         "marker": {
          "color": "rgb(35,205,205)"
         },
         "mode": "lines",
         "text": [
          "energía_energia_energias_energías_energía eficiente",
          "",
          "",
          "energías renovables_energía renovable_renovables_renovable_energias"
         ],
         "type": "scatter",
         "x": {
          "bdata": "AAAAAAAAAACgz1rn1H/qP6DPWufUf+o/AAAAAAAAAAA=",
          "dtype": "f8"
         },
         "xaxis": "x",
         "y": {
          "bdata": "AAAAAADQccAAAAAAANBxwAAAAAAAcHLAAAAAAABwcsA=",
          "dtype": "f8"
         },
         "yaxis": "y"
        },
        {
         "hoverinfo": "text",
         "marker": {
          "color": "rgb(35,205,205)"
         },
         "mode": "lines",
         "text": [
          "energía_energia_energias_energías_energía eficiente",
          "",
          "",
          "energías renovables_energía renovable_renovables_renovable_energías"
         ],
         "type": "scatter",
         "x": {
          "bdata": "DauVv02+7T9dZMolmlHvP11kyiWaUe8/oM9a59R/6j8=",
          "dtype": "f8"
         },
         "xaxis": "x",
         "y": {
          "bdata": "AAAAAADgcMAAAAAAAOBwwAAAAAAAIHLAAAAAAAAgcsA=",
          "dtype": "f8"
         },
         "yaxis": "y"
        },
        {
         "hoverinfo": "text",
         "marker": {
          "color": "rgb(0,116,217)"
         },
         "mode": "lines",
         "text": [
          "energía_energia_energias_energías_energía eficiente",
          "",
          "",
          "energías renovables_energía renovable_renovables_renovable_energías"
         ],
         "type": "scatter",
         "x": {
          "bdata": "QnXEL4/+8D9W97I5e0DyP1b3sjl7QPI/XWTKJZpR7z8=",
          "dtype": "f8"
         },
         "xaxis": "x",
         "y": {
          "bdata": "AAAAAAAgbMAAAAAAACBswAAAAAAAgHHAAAAAAACAccA=",
          "dtype": "f8"
         },
         "yaxis": "y"
        },
        {
         "hoverinfo": "text",
         "marker": {
          "color": "rgb(0,116,217)"
         },
         "mode": "lines",
         "text": [
          "energía_energia_energias_energías_energía eficiente",
          "",
          "",
          "energías renovables_energía renovable_renovables_renovable_energías"
         ],
         "type": "scatter",
         "x": {
          "bdata": "jy9ne7Iu8T+pkKBNIWXyP6mQoE0hZfI/VveyOXtA8j8=",
          "dtype": "f8"
         },
         "xaxis": "x",
         "y": {
          "bdata": "AAAAAACkZcAAAAAAAKRlwAAAAAAAkG/AAAAAAACQb8A=",
          "dtype": "f8"
         },
         "yaxis": "y"
        },
        {
         "hoverinfo": "text",
         "marker": {
          "color": "rgb(133,20,75)"
         },
         "mode": "lines",
         "text": [
          "cliente atencion_cliente atención_atención cliente_cliente_atencion",
          "",
          "",
          "clientes potenciales_relaciones clientes_clientes seguimiento_clientes elaboración_clientes comunicación"
         ],
         "type": "scatter",
         "x": {
          "bdata": "AAAAAAAAAABcYQADIuvqP1xhAAMi6+o/AAAAAAAAAAA=",
          "dtype": "f8"
         },
         "xaxis": "x",
         "y": {
          "bdata": "AAAAAAAQc8AAAAAAABBzwAAAAAAAsHPAAAAAAACwc8A=",
          "dtype": "f8"
         },
         "yaxis": "y"
        },
        {
         "hoverinfo": "text",
         "marker": {
          "color": "rgb(255,220,0)"
         },
         "mode": "lines",
         "text": [
          "manejo informes_manejo residuos_manejo archivo_manejo proyectos_manejo proveedores",
          "",
          "",
          "recoleccion_recolección_disposición residuos_clasificación residuos_reciclaje"
         ],
         "type": "scatter",
         "x": {
          "bdata": "AAAAAAAAAABzrlTEjJzrP3OuVMSMnOs/AAAAAAAAAAA=",
          "dtype": "f8"
         },
         "xaxis": "x",
         "y": {
          "bdata": "AAAAAADwdMAAAAAAAPB0wAAAAAAAkHXAAAAAAACQdcA=",
          "dtype": "f8"
         },
         "yaxis": "y"
        },
        {
         "hoverinfo": "text",
         "marker": {
          "color": "rgb(255,220,0)"
         },
         "mode": "lines",
         "text": [
          "proveedores_manejo proveedores_proveedores coordinación_validación_facturación",
          "",
          "",
          "manejo residuos_manejo proveedores_proveedores manejo_manejo riesgo_manejo proyectos"
         ],
         "type": "scatter",
         "x": {
          "bdata": "AAAAAAAAAAAQ+qd/5efuPxD6p3/l5+4/c65UxIyc6z8=",
          "dtype": "f8"
         },
         "xaxis": "x",
         "y": {
          "bdata": "AAAAAABQdMAAAAAAAFB0wAAAAAAAQHXAAAAAAABAdcA=",
          "dtype": "f8"
         },
         "yaxis": "y"
        },
        {
         "hoverinfo": "text",
         "marker": {
          "color": "rgb(0,116,217)"
         },
         "mode": "lines",
         "text": [
          "cliente atencion_cliente atención_atención cliente_atencion clientes_cliente",
          "",
          "",
          "manejo residuos_manejo proveedores_proveedores manejo_manejo riesgo_manejo proyectos"
         ],
         "type": "scatter",
         "x": {
          "bdata": "XGEAAyLr6j+7P2FvPnjxP7s/YW8+ePE/EPqnf+Xn7j8=",
          "dtype": "f8"
         },
         "xaxis": "x",
         "y": {
          "bdata": "AAAAAABgc8AAAAAAAGBzwAAAAAAAyHTAAAAAAADIdMA=",
          "dtype": "f8"
         },
         "yaxis": "y"
        },
        {
         "hoverinfo": "text",
         "marker": {
          "color": "rgb(40,35,35)"
         },
         "mode": "lines",
         "text": [
          "logística_logistica_logístico_eventos_procesos",
          "",
          "",
          "tratamiento aguas_tratamiento agua_sistemas tratamiento aguas_agua mantenimiento_agua"
         ],
         "type": "scatter",
         "x": {
          "bdata": "AAAAAAAAAAAP1oi/ApjuPw/WiL8CmO4/AAAAAAAAAAA=",
          "dtype": "f8"
         },
         "xaxis": "x",
         "y": {
          "bdata": "AAAAAAAwdsAAAAAAADB2wAAAAAAA0HbAAAAAAADQdsA=",
          "dtype": "f8"
         },
         "yaxis": "y"
        },
        {
         "hoverinfo": "text",
         "marker": {
          "color": "rgb(61,153,112)"
         },
         "mode": "lines",
         "text": [
          "mantenimiento maquinaria_reparacion maquinaria_maquinaria_máquinas_maquinas",
          "",
          "",
          "limpieza_limpias_limpieza desinfección_limpieza lubricación_inspección"
         ],
         "type": "scatter",
         "x": {
          "bdata": "AAAAAAAAAADmTGyISSnuP+ZMbIhJKe4/AAAAAAAAAAA=",
          "dtype": "f8"
         },
         "xaxis": "x",
         "y": {
          "bdata": "AAAAAABwd8AAAAAAAHB3wAAAAAAAEHjAAAAAAAAQeMA=",
          "dtype": "f8"
         },
         "yaxis": "y"
        },
        {
         "hoverinfo": "text",
         "marker": {
          "color": "rgb(61,153,112)"
         },
         "mode": "lines",
         "text": [
          "mantenimiento maquinaria_reparacion maquinaria_maquinaria_máquinas_maquinas",
          "",
          "",
          "árboles_árboles césped_poda_arreglo_representación"
         ],
         "type": "scatter",
         "x": {
          "bdata": "5kxsiEkp7j/BHpYolOLvP8EeliiU4u8/AAAAAAAAAAA=",
          "dtype": "f8"
         },
         "xaxis": "x",
         "y": {
          "bdata": "AAAAAADAd8AAAAAAAMB3wAAAAAAAsHjAAAAAAACweMA=",
          "dtype": "f8"
         },
         "yaxis": "y"
        },
        {
         "hoverinfo": "text",
         "marker": {
          "color": "rgb(0,116,217)"
         },
         "mode": "lines",
         "text": [
          "mantenimiento maquinaria_reparacion maquinaria_maquinaria_máquinas_maquinas",
          "",
          "",
          "árboles_árboles césped_poda_arreglo_representación"
         ],
         "type": "scatter",
         "x": {
          "bdata": "D9aIvwKY7j8S2kiC9zLwPxLaSIL3MvA/wR6WKJTi7z8=",
          "dtype": "f8"
         },
         "xaxis": "x",
         "y": {
          "bdata": "AAAAAACAdsAAAAAAAIB2wAAAAAAAOHjAAAAAAAA4eMA=",
          "dtype": "f8"
         },
         "yaxis": "y"
        },
        {
         "hoverinfo": "text",
         "marker": {
          "color": "rgb(255,65,54)"
         },
         "mode": "lines",
         "text": [
          "hidráulicos_hidraulica_hidráulica_hidráulicas_hidraulicas",
          "",
          "",
          "mantenimiento_mantenimiento mantenimiento_mantenimientos_mantenimiento operación_mantenimiento mejora"
         ],
         "type": "scatter",
         "x": {
          "bdata": "AAAAAAAAAAA0Emgvb/ruPzQSaC9v+u4/AAAAAAAAAAA=",
          "dtype": "f8"
         },
         "xaxis": "x",
         "y": {
          "bdata": "AAAAAADwecAAAAAAAPB5wAAAAAAAkHrAAAAAAACQesA=",
          "dtype": "f8"
         },
         "yaxis": "y"
        },
        {
         "hoverinfo": "text",
         "marker": {
          "color": "rgb(255,65,54)"
         },
         "mode": "lines",
         "text": [
          "análisis datos_datos analisis_datos sistemas_datos estadística_mantenimiento datos",
          "",
          "",
          "mantenimiento_mantenimiento mantenimiento_mantenimientos_mantenimiento operación_mantenimiento mejora"
         ],
         "type": "scatter",
         "x": {
          "bdata": "AAAAAAAAAACep+Gyh/bvP56n4bKH9u8/NBJoL2/67j8=",
          "dtype": "f8"
         },
         "xaxis": "x",
         "y": {
          "bdata": "AAAAAABQecAAAAAAAFB5wAAAAAAAQHrAAAAAAABAesA=",
          "dtype": "f8"
         },
         "yaxis": "y"
        },
        {
         "hoverinfo": "text",
         "marker": {
          "color": "rgb(35,205,205)"
         },
         "mode": "lines",
         "text": [
          "materiales_listas materiales_manejo materiales_material_fabricación",
          "",
          "",
          "alturas curso coordinador_coordinador alturas_curso coordinador_alturas curso_coordinación"
         ],
         "type": "scatter",
         "x": {
          "bdata": "AAAAAAAAAACLaK/AcTvvP4tor8BxO+8/AAAAAAAAAAA=",
          "dtype": "f8"
         },
         "xaxis": "x",
         "y": {
          "bdata": "AAAAAAAwe8AAAAAAADB7wAAAAAAA0HvAAAAAAADQe8A=",
          "dtype": "f8"
         },
         "yaxis": "y"
        },
        {
         "hoverinfo": "text",
         "marker": {
          "color": "rgb(0,116,217)"
         },
         "mode": "lines",
         "text": [
          "materiales_listas materiales_manejo materiales_material_fabricación",
          "",
          "",
          "aplicativos____"
         ],
         "type": "scatter",
         "x": {
          "bdata": "i2ivwHE77z/2hMZIPSDwP/aExkg9IPA/AAAAAAAAAAA=",
          "dtype": "f8"
         },
         "xaxis": "x",
         "y": {
          "bdata": "AAAAAACAe8AAAAAAAIB7wAAAAAAAcHzAAAAAAABwfMA=",
          "dtype": "f8"
         },
         "yaxis": "y"
        },
        {
         "hoverinfo": "text",
         "marker": {
          "color": "rgb(0,116,217)"
         },
         "mode": "lines",
         "text": [
          "materiales_listas materiales_manejo materiales_material_fabricación",
          "",
          "",
          "aplicativos____"
         ],
         "type": "scatter",
         "x": {
          "bdata": "nqfhsof27z86SpfPii3wPzpKl8+KLfA/9oTGSD0g8D8=",
          "dtype": "f8"
         },
         "xaxis": "x",
         "y": {
          "bdata": "AAAAAADIecAAAAAAAMh5wAAAAAAA+HvAAAAAAAD4e8A=",
          "dtype": "f8"
         },
         "yaxis": "y"
        },
        {
         "hoverinfo": "text",
         "marker": {
          "color": "rgb(0,116,217)"
         },
         "mode": "lines",
         "text": [
          "materiales_listas materiales_manejo materiales_material_fabricación",
          "",
          "",
          "aplicativos____"
         ],
         "type": "scatter",
         "x": {
          "bdata": "EtpIgvcy8D8WI+FRhVHwPxYj4VGFUfA/OkqXz4ot8D8=",
          "dtype": "f8"
         },
         "xaxis": "x",
         "y": {
          "bdata": "AAAAAABcd8AAAAAAAFx3wAAAAAAA4HrAAAAAAADgesA=",
          "dtype": "f8"
         },
         "yaxis": "y"
        },
        {
         "hoverinfo": "text",
         "marker": {
          "color": "rgb(61,153,112)"
         },
         "mode": "lines",
         "text": [
          "equipos_equipos mantenimiento equipos_equipos internos_diseño equipos_seguimiento equipos",
          "",
          "",
          "seguimiento equipos_equipos_energía equipos_medición_medicion"
         ],
         "type": "scatter",
         "x": {
          "bdata": "AAAAAAAAAAAww90YMlDsPzDD3RgyUOw/AAAAAAAAAAA=",
          "dtype": "f8"
         },
         "xaxis": "x",
         "y": {
          "bdata": "AAAAAAAQfcAAAAAAABB9wAAAAAAAsH3AAAAAAACwfcA=",
          "dtype": "f8"
         },
         "yaxis": "y"
        },
        {
         "hoverinfo": "text",
         "marker": {
          "color": "rgb(0,116,217)"
         },
         "mode": "lines",
         "text": [
          "equipos_equipos mantenimiento equipos_equipos internos_diseño equipos_seguimiento equipos",
          "",
          "",
          "seguimiento equipos_equipos_energía equipos_medición_medicion"
         ],
         "type": "scatter",
         "x": {
          "bdata": "FiPhUYVR8D+TNsnB8r3wP5M2ycHyvfA/MMPdGDJQ7D8=",
          "dtype": "f8"
         },
         "xaxis": "x",
         "y": {
          "bdata": "AAAAAAAeecAAAAAAAB55wAAAAAAAYH3AAAAAAABgfcA=",
          "dtype": "f8"
         },
         "yaxis": "y"
        },
        {
         "hoverinfo": "text",
         "marker": {
          "color": "rgb(255,65,54)"
         },
         "mode": "lines",
         "text": [
          "oportunidades negocios_negocios_negocio_identificación oportunidades negocios_negocio elaboración",
          "",
          "",
          "planes_planes acción_ejecución planes_planes gestion_planeación"
         ],
         "type": "scatter",
         "x": {
          "bdata": "AAAAAAAAAAChS/iNhMjtP6FL+I2EyO0/AAAAAAAAAAA=",
          "dtype": "f8"
         },
         "xaxis": "x",
         "y": {
          "bdata": "AAAAAABQfsAAAAAAAFB+wAAAAAAA8H7AAAAAAADwfsA=",
          "dtype": "f8"
         },
         "yaxis": "y"
        },
        {
         "hoverinfo": "text",
         "marker": {
          "color": "rgb(35,205,205)"
         },
         "mode": "lines",
         "text": [
          "indicadores gestión_gestión indicadores_gestion seguimiento_gestión seguimiento_gestión gestión",
          "",
          "",
          "revisión_revision_revision actualizacion_recepción revisión_elaboración revisión"
         ],
         "type": "scatter",
         "x": {
          "bdata": "AAAAAAAAAAAf9wB2XCLuPx/3AHZcIu4/AAAAAAAAAAA=",
          "dtype": "f8"
         },
         "xaxis": "x",
         "y": {
          "bdata": "AAAAAACQf8AAAAAAAJB/wAAAAAAAGIDAAAAAAAAYgMA=",
          "dtype": "f8"
         },
         "yaxis": "y"
        },
        {
         "hoverinfo": "text",
         "marker": {
          "color": "rgb(133,20,75)"
         },
         "mode": "lines",
         "text": [
          "presupuestos_prestaciones_presupuestal_prevencion_prevención",
          "",
          "",
          "obra_obra interventoría obra_obra interventoría_obra civil_obra proyectos"
         ],
         "type": "scatter",
         "x": {
          "bdata": "AAAAAAAAAAA11o6x/uDuPzXWjrH+4O4/AAAAAAAAAAA=",
          "dtype": "f8"
         },
         "xaxis": "x",
         "y": {
          "bdata": "AAAAAABogMAAAAAAAGiAwAAAAAAAuIDAAAAAAAC4gMA=",
          "dtype": "f8"
         },
         "yaxis": "y"
        },
        {
         "hoverinfo": "text",
         "marker": {
          "color": "rgb(0,116,217)"
         },
         "mode": "lines",
         "text": [
          "presupuestos_prestaciones_presupuestal_prevencion_prevención",
          "",
          "",
          "obra_obra interventoría obra_obra interventoría_obra civil_obra proyectos"
         ],
         "type": "scatter",
         "x": {
          "bdata": "H/cAdlwi7j+tEEpMvx3wP60QSky/HfA/NdaOsf7g7j8=",
          "dtype": "f8"
         },
         "xaxis": "x",
         "y": {
          "bdata": "AAAAAADgf8AAAAAAAOB/wAAAAAAAkIDAAAAAAACQgMA=",
          "dtype": "f8"
         },
         "yaxis": "y"
        },
        {
         "hoverinfo": "text",
         "marker": {
          "color": "rgb(0,116,217)"
         },
         "mode": "lines",
         "text": [
          "presupuestos_prestaciones_presupuestal_prevencion_prevención",
          "",
          "",
          "obra_obra interventoría obra_obra interventoría_obra civil_obra proyectos"
         ],
         "type": "scatter",
         "x": {
          "bdata": "oUv4jYTI7T/uvX4ZmnHwP+69fhmacfA/rRBKTL8d8D8=",
          "dtype": "f8"
         },
         "xaxis": "x",
         "y": {
          "bdata": "AAAAAACgfsAAAAAAAKB+wAAAAAAAQIDAAAAAAABAgMA=",
          "dtype": "f8"
         },
         "yaxis": "y"
        },
        {
         "hoverinfo": "text",
         "marker": {
          "color": "rgb(255,220,0)"
         },
         "mode": "lines",
         "text": [
          "sg sst_sg sst sistema_sg ssta_sg sst licencia_sgsst",
          "",
          "",
          "auditorias_auditorías_auditorías externas_internas_internas externas"
         ],
         "type": "scatter",
         "x": {
          "bdata": "AAAAAAAAAABjAkPBw+/uP2MCQ8HD7+4/AAAAAAAAAAA=",
          "dtype": "f8"
         },
         "xaxis": "x",
         "y": {
          "bdata": "AAAAAAAIgcAAAAAAAAiBwAAAAAAAWIHAAAAAAABYgcA=",
          "dtype": "f8"
         },
         "yaxis": "y"
        },
        {
         "hoverinfo": "text",
         "marker": {
          "color": "rgb(40,35,35)"
         },
         "mode": "lines",
         "text": [
          "certificación_certificacion_certificaciones_certificación técnica_procesos certificación",
          "",
          "",
          "ccsp_ccna_csp_tic_vpc"
         ],
         "type": "scatter",
         "x": {
          "bdata": "AAAAAAAAAACF598IjEPvP4Xn3wiMQ+8/AAAAAAAAAAA=",
          "dtype": "f8"
         },
         "xaxis": "x",
         "y": {
          "bdata": "AAAAAACogcAAAAAAAKiBwAAAAAAA+IHAAAAAAAD4gcA=",
          "dtype": "f8"
         },
         "yaxis": "y"
        },
        {
         "hoverinfo": "text",
         "marker": {
          "color": "rgb(0,116,217)"
         },
         "mode": "lines",
         "text": [
          "certificación_certificacion_certificaciones_certificación técnica_procesos certificación",
          "",
          "",
          "ccsp_ccna_csp_tic_vpc"
         ],
         "type": "scatter",
         "x": {
          "bdata": "YwJDwcPv7j9j43WAfxrwP2PjdYB/GvA/heffCIxD7z8=",
          "dtype": "f8"
         },
         "xaxis": "x",
         "y": {
          "bdata": "AAAAAAAwgcAAAAAAADCBwAAAAAAA0IHAAAAAAADQgcA=",
          "dtype": "f8"
         },
         "yaxis": "y"
        },
        {
         "hoverinfo": "text",
         "marker": {
          "color": "rgb(61,153,112)"
         },
         "mode": "lines",
         "text": [
          "software_software diseño_programadas_software especializado_software diseño asistido",
          "",
          "",
          "autocad_autocad software_automotriz_civil 3d_3d"
         ],
         "type": "scatter",
         "x": {
          "bdata": "AAAAAAAAAABBDmlohj/uP0EOaWiGP+4/AAAAAAAAAAA=",
          "dtype": "f8"
         },
         "xaxis": "x",
         "y": {
          "bdata": "AAAAAABIgsAAAAAAAEiCwAAAAAAAmILAAAAAAACYgsA=",
          "dtype": "f8"
         },
         "yaxis": "y"
        },
        {
         "hoverinfo": "text",
         "marker": {
          "color": "rgb(0,116,217)"
         },
         "mode": "lines",
         "text": [
          "software_software diseño_programadas_software especializado_software diseño asistido",
          "",
          "",
          "autocad_autocad software_automotriz_civil 3d_3d"
         ],
         "type": "scatter",
         "x": {
          "bdata": "Y+N1gH8a8D/LyOKhOoHwP8vI4qE6gfA/QQ5paIY/7j8=",
          "dtype": "f8"
         },
         "xaxis": "x",
         "y": {
          "bdata": "AAAAAACAgcAAAAAAAICBwAAAAAAAcILAAAAAAABwgsA=",
          "dtype": "f8"
         },
         "yaxis": "y"
        },
        {
         "hoverinfo": "text",
         "marker": {
          "color": "rgb(0,116,217)"
         },
         "mode": "lines",
         "text": [
          "software_software diseño_programadas_software especializado_software diseño asistido",
          "",
          "",
          "autocad_autocad software_automotriz_civil 3d_3d"
         ],
         "type": "scatter",
         "x": {
          "bdata": "7r1+GZpx8D/DLveBMt/wP8Mu94Ey3/A/y8jioTqB8D8=",
          "dtype": "f8"
         },
         "xaxis": "x",
         "y": {
          "bdata": "AAAAAACQf8AAAAAAAJB/wAAAAAAA+IHAAAAAAAD4gcA=",
          "dtype": "f8"
         },
         "yaxis": "y"
        },
        {
         "hoverinfo": "text",
         "marker": {
          "color": "rgb(0,116,217)"
         },
         "mode": "lines",
         "text": [
          "software_software diseño_programadas_software especializado_software diseño asistido",
          "",
          "",
          "autocad_autocad software_automotriz_civil 3d_3d"
         ],
         "type": "scatter",
         "x": {
          "bdata": "kzbJwfK98D8DZf7JpBvxPwNl/smkG/E/wy73gTLf8D8=",
          "dtype": "f8"
         },
         "xaxis": "x",
         "y": {
          "bdata": "AAAAAAA/e8AAAAAAAD97wAAAAAAA4IDAAAAAAADggMA=",
          "dtype": "f8"
         },
         "yaxis": "y"
        },
        {
         "hoverinfo": "text",
         "marker": {
          "color": "rgb(255,65,54)"
         },
         "mode": "lines",
         "text": [
          "sistemas control_control sistemas_sistemas control acceso_seguimiento controles_controles acceso",
          "",
          "",
          "radio_wlan_audio_wifi_wan wlan"
         ],
         "type": "scatter",
         "x": {
          "bdata": "AAAAAAAAAAA2/lw+nF/qPzb+XD6cX+o/AAAAAAAAAAA=",
          "dtype": "f8"
         },
         "xaxis": "x",
         "y": {
          "bdata": "AAAAAADogsAAAAAAAOiCwAAAAAAAOIPAAAAAAAA4g8A=",
          "dtype": "f8"
         },
         "yaxis": "y"
        },
        {
         "hoverinfo": "text",
         "marker": {
          "color": "rgb(35,205,205)"
         },
         "mode": "lines",
         "text": [
          "residuos hospitalarios_hospitalarios manejo_manejo residuos_hospitalarios_manejo",
          "",
          "",
          "proyectos gestion_proyectos gestión_gestión proyectos_gestion proyectos_procesos gestión"
         ],
         "type": "scatter",
         "x": {
          "bdata": "AAAAAAAAAABZep9PZIXtP1l6n09khe0/AAAAAAAAAAA=",
          "dtype": "f8"
         },
         "xaxis": "x",
         "y": {
          "bdata": "AAAAAACIg8AAAAAAAIiDwAAAAAAA2IPAAAAAAADYg8A=",
          "dtype": "f8"
         },
         "yaxis": "y"
        },
        {
         "hoverinfo": "text",
         "marker": {
          "color": "rgb(61,153,112)"
         },
         "mode": "lines",
         "text": [
          "acompañamiento procesos_seguimiento procesos_procesos compras_procesos procedimientos_proyectos procesos",
          "",
          "",
          "diseño_diseno_disenos_diseños_mecánico"
         ],
         "type": "scatter",
         "x": {
          "bdata": "AAAAAAAAAAClqgOci0rsP6WqA5yLSuw/AAAAAAAAAAA=",
          "dtype": "f8"
         },
         "xaxis": "x",
         "y": {
          "bdata": "AAAAAAAohMAAAAAAACiEwAAAAAAAeITAAAAAAAB4hMA=",
          "dtype": "f8"
         },
         "yaxis": "y"
        },
        {
         "hoverinfo": "text",
         "marker": {
          "color": "rgb(61,153,112)"
         },
         "mode": "lines",
         "text": [
          "procesos proyectos_proyectos procesos_procesos compras_procesos procedimientos_procesos",
          "",
          "",
          "ingeniería_ingenieria_ingeniería básica_ingeniería detalle_proyectos ingeniería"
         ],
         "type": "scatter",
         "x": {
          "bdata": "paoDnItK7D83z8YBifXtPzfPxgGJ9e0/AAAAAAAAAAA=",
          "dtype": "f8"
         },
         "xaxis": "x",
         "y": {
          "bdata": "AAAAAABQhMAAAAAAAFCEwAAAAAAAyITAAAAAAADIhMA=",
          "dtype": "f8"
         },
         "yaxis": "y"
        },
        {
         "hoverinfo": "text",
         "marker": {
          "color": "rgb(0,116,217)"
         },
         "mode": "lines",
         "text": [
          "procesos proyectos_proyectos procesos_procesos compras_procesos procedimientos_procesos",
          "",
          "",
          "ingeniería_ingenieria_ingeniería básica_ingeniería detalle_proyectos ingeniería"
         ],
         "type": "scatter",
         "x": {
          "bdata": "WXqfT2SF7T+ALD4hUiPwP4AsPiFSI/A/N8/GAYn17T8=",
          "dtype": "f8"
         },
         "xaxis": "x",
         "y": {
          "bdata": "AAAAAACwg8AAAAAAALCDwAAAAAAAjITAAAAAAACMhMA=",
          "dtype": "f8"
         },
         "yaxis": "y"
        },
        {
         "hoverinfo": "text",
         "marker": {
          "color": "rgb(0,116,217)"
         },
         "mode": "lines",
         "text": [
          "control_control control_controles_control avance_avances control",
          "",
          "",
          "ingeniería_ingenieria_ingeniería básica_ingeniería detalle_proyectos ingeniería"
         ],
         "type": "scatter",
         "x": {
          "bdata": "Nv5cPpxf6j9Q3aYowqPxP1DdpijCo/E/gCw+IVIj8D8=",
          "dtype": "f8"
         },
         "xaxis": "x",
         "y": {
          "bdata": "AAAAAAAQg8AAAAAAABCDwAAAAAAAHoTAAAAAAAAehMA=",
          "dtype": "f8"
         },
         "yaxis": "y"
        },
        {
         "hoverinfo": "text",
         "marker": {
          "color": "rgb(0,116,217)"
         },
         "mode": "lines",
         "text": [
          "control_control control_controles_control avance_avances control",
          "",
          "",
          "ingeniería_ingenieria_ingeniería básica_ingeniería detalle_proyectos ingeniería"
         ],
         "type": "scatter",
         "x": {
          "bdata": "A2X+yaQb8T+szScniw3yP6zNJyeLDfI/UN2mKMKj8T8=",
          "dtype": "f8"
         },
         "xaxis": "x",
         "y": {
          "bdata": "AAAAAIB/fsAAAAAAgH9+wAAAAAAAl4PAAAAAAACXg8A=",
          "dtype": "f8"
         },
         "yaxis": "y"
        },
        {
         "hoverinfo": "text",
         "marker": {
          "color": "rgb(0,116,217)"
         },
         "mode": "lines",
         "text": [
          "control_control control_controles_control avance_avances control",
          "",
          "",
          "ingeniería_ingenieria_ingeniería básica_ingeniería detalle_proyectos ingeniería"
         ],
         "type": "scatter",
         "x": {
          "bdata": "uz9hbz548T8E6Hd/e1fyPwTod397V/I/rM0nJ4sN8j8=",
          "dtype": "f8"
         },
         "xaxis": "x",
         "y": {
          "bdata": "AAAAAAAUdMAAAAAAABR0wAAAAABga4HAAAAAAGBrgcA=",
          "dtype": "f8"
         },
         "yaxis": "y"
        },
        {
         "hoverinfo": "text",
         "marker": {
          "color": "rgb(255,65,54)"
         },
         "mode": "lines",
         "text": [
          "recopilación información_actualización información_sistemas informacion_sistemas información_elaboracion informes",
          "",
          "",
          "estrategias comerciales_estrategias_estrategia_estratégicos_estratégicas"
         ],
         "type": "scatter",
         "x": {
          "bdata": "AAAAAAAAAAC0y67C2b7qP7TLrsLZvuo/AAAAAAAAAAA=",
          "dtype": "f8"
         },
         "xaxis": "x",
         "y": {
          "bdata": "AAAAAABohcAAAAAAAGiFwAAAAAAAuIXAAAAAAAC4hcA=",
          "dtype": "f8"
         },
         "yaxis": "y"
        },
        {
         "hoverinfo": "text",
         "marker": {
          "color": "rgb(255,65,54)"
         },
         "mode": "lines",
         "text": [
          "comercial técnico_asesoramiento_técnico_tecnico_tecnológico",
          "",
          "",
          "recopilación información_actualización información_sistemas información_elaboracion informes_elaboración informes"
         ],
         "type": "scatter",
         "x": {
          "bdata": "AAAAAAAAAAAqoKzOjVvtPyqgrM6NW+0/tMuuwtm+6j8=",
          "dtype": "f8"
         },
         "xaxis": "x",
         "y": {
          "bdata": "AAAAAAAYhcAAAAAAABiFwAAAAAAAkIXAAAAAAACQhcA=",
          "dtype": "f8"
         },
         "yaxis": "y"
        },
        {
         "hoverinfo": "text",
         "marker": {
          "color": "rgb(35,205,205)"
         },
         "mode": "lines",
         "text": [
          "administrativos_administrativo_administrativa_administración_administracion",
          "",
          "",
          "contratación_seguimiento contratos_selección contratación_planeación_procesos compras"
         ],
         "type": "scatter",
         "x": {
          "bdata": "AAAAAAAAAABxAsKvljLuP3ECwq+WMu4/AAAAAAAAAAA=",
          "dtype": "f8"
         },
         "xaxis": "x",
         "y": {
          "bdata": "AAAAAAAIhsAAAAAAAAiGwAAAAAAAWIbAAAAAAABYhsA=",
          "dtype": "f8"
         },
         "yaxis": "y"
        },
        {
         "hoverinfo": "text",
         "marker": {
          "color": "rgb(0,116,217)"
         },
         "mode": "lines",
         "text": [
          "administrativos_administrativo_administrativa_administración_administracion",
          "",
          "",
          "contratación_seguimiento contratos_selección contratación_planeación_procesos compras"
         ],
         "type": "scatter",
         "x": {
          "bdata": "KqCszo1b7T+MzhDDpXDwP4zOEMOlcPA/cQLCr5Yy7j8=",
          "dtype": "f8"
         },
         "xaxis": "x",
         "y": {
          "bdata": "AAAAAABUhcAAAAAAAFSFwAAAAAAAMIbAAAAAAAAwhsA=",
          "dtype": "f8"
         },
         "yaxis": "y"
        },
        {
         "hoverinfo": "text",
         "marker": {
          "color": "rgb(133,20,75)"
         },
         "mode": "lines",
         "text": [
          "coordinación actividades_coordinacion actividades_ejecución actividades_actividades_actividades análisis",
          "",
          "",
          "personal manejo_manejo_técnicos manejo_inducción personal_personas"
         ],
         "type": "scatter",
         "x": {
          "bdata": "AAAAAAAAAABih6JGmPnoP2KHokaY+eg/AAAAAAAAAAA=",
          "dtype": "f8"
         },
         "xaxis": "x",
         "y": {
          "bdata": "AAAAAACohsAAAAAAAKiGwAAAAAAA+IbAAAAAAAD4hsA=",
          "dtype": "f8"
         },
         "yaxis": "y"
        },
        {
         "hoverinfo": "text",
         "marker": {
          "color": "rgb(0,116,217)"
         },
         "mode": "lines",
         "text": [
          "coordinación actividades_coordinacion actividades_ejecución actividades_actividades_actividades análisis",
          "",
          "",
          "personal manejo_manejo_técnicos manejo_presentación personal_personal coordinación"
         ],
         "type": "scatter",
         "x": {
          "bdata": "jM4Qw6Vw8D+mE1R68uDxP6YTVHry4PE/YoeiRpj56D8=",
          "dtype": "f8"
         },
         "xaxis": "x",
         "y": {
          "bdata": "AAAAAADChcAAAAAAAMKFwAAAAAAA0IbAAAAAAADQhsA=",
          "dtype": "f8"
         },
         "yaxis": "y"
        },
        {
         "hoverinfo": "text",
         "marker": {
          "color": "rgb(0,116,217)"
         },
         "mode": "lines",
         "text": [
          "coordinación actividades_coordinacion actividades_ejecución actividades_actividades_actividades análisis",
          "",
          "",
          "personal manejo_manejo_técnicos manejo_presentación personal_personal coordinación"
         ],
         "type": "scatter",
         "x": {
          "bdata": "BOh3f3tX8j+EjwQB6M3yP4SPBAHozfI/phNUevLg8T8=",
          "dtype": "f8"
         },
         "xaxis": "x",
         "y": {
          "bdata": "AAAAAGB1e8AAAAAAYHV7wAAAAAAASYbAAAAAAABJhsA=",
          "dtype": "f8"
         },
         "yaxis": "y"
        },
        {
         "hoverinfo": "text",
         "marker": {
          "color": "rgb(255,220,0)"
         },
         "mode": "lines",
         "text": [
          "baja_tendido cableado_cableado eléctrico_tendido redes eléctricas_media",
          "",
          "",
          "capacitaciones_capacitacion_capacitación_capacidad_seguridad capacitación"
         ],
         "type": "scatter",
         "x": {
          "bdata": "AAAAAAAAAACevNtri5vrP56822uLm+s/AAAAAAAAAAA=",
          "dtype": "f8"
         },
         "xaxis": "x",
         "y": {
          "bdata": "AAAAAABIh8AAAAAAAEiHwAAAAAAAmIfAAAAAAACYh8A=",
          "dtype": "f8"
         },
         "yaxis": "y"
        },
        {
         "hoverinfo": "text",
         "marker": {
          "color": "rgb(40,35,35)"
         },
         "mode": "lines",
         "text": [
          "ingles intermedio_inglés intermedio_intermedio_intermedio alto_inglés",
          "",
          "",
          "excel intermedio_excel_office excel_excel básico_intermedio"
         ],
         "type": "scatter",
         "x": {
          "bdata": "AAAAAAAAAAB7rOE+z6zqP3us4T7PrOo/AAAAAAAAAAA=",
          "dtype": "f8"
         },
         "xaxis": "x",
         "y": {
          "bdata": "AAAAAADoh8AAAAAAAOiHwAAAAAAAOIjAAAAAAAA4iMA=",
          "dtype": "f8"
         },
         "yaxis": "y"
        },
        {
         "hoverinfo": "text",
         "marker": {
          "color": "rgb(0,116,217)"
         },
         "mode": "lines",
         "text": [
          "ingles intermedio_inglés intermedio_intermedio_intermedio alto_inglés",
          "",
          "",
          "excel intermedio_excel_office excel_excel básico_intermedio"
         ],
         "type": "scatter",
         "x": {
          "bdata": "nrzba4ub6z9v6gSzKFPxP2/qBLMoU/E/e6zhPs+s6j8=",
          "dtype": "f8"
         },
         "xaxis": "x",
         "y": {
          "bdata": "AAAAAABwh8AAAAAAAHCHwAAAAAAAEIjAAAAAAAAQiMA=",
          "dtype": "f8"
         },
         "yaxis": "y"
        },
        {
         "hoverinfo": "text",
         "marker": {
          "color": "rgb(0,116,217)"
         },
         "mode": "lines",
         "text": [
          "ingles intermedio_inglés intermedio_intermedio_intermedio alto_inglés",
          "",
          "",
          "excel intermedio_excel_office excel_excel básico_intermedio"
         ],
         "type": "scatter",
         "x": {
          "bdata": "hI8EAejN8j84uFy3+vHyPzi4XLf68fI/b+oEsyhT8T8=",
          "dtype": "f8"
         },
         "xaxis": "x",
         "y": {
          "bdata": "AAAAANgBgsAAAAAA2AGCwAAAAAAAwIfAAAAAAADAh8A=",
          "dtype": "f8"
         },
         "yaxis": "y"
        },
        {
         "hoverinfo": "text",
         "marker": {
          "color": "rgb(0,116,217)"
         },
         "mode": "lines",
         "text": [
          "ingles intermedio_inglés intermedio_intermedio_intermedio alto_inglés",
          "",
          "",
          "excel intermedio_excel_office excel_excel básico_intermedio"
         ],
         "type": "scatter",
         "x": {
          "bdata": "qZCgTSFl8j8AYOzmZlXzPwBg7OZmVfM/OLhct/rx8j8=",
          "dtype": "f8"
         },
         "xaxis": "x",
         "y": {
          "bdata": "AAAAAACaasAAAAAAAJpqwAAAAADs4ITAAAAAAOzghMA=",
          "dtype": "f8"
         },
         "yaxis": "y"
        },
        {
         "hoverinfo": "text",
         "marker": {
          "color": "rgb(61,153,112)"
         },
         "mode": "lines",
         "text": [
          "calidad gestion_calidad gestión_gestión calidad_gestion calidad_gestión calidad gestión",
          "",
          "",
          "huella carbono_huella carbono gestión_carbono gestión_carbono_huella"
         ],
         "type": "scatter",
         "x": {
          "bdata": "AAAAAAAAAABumqPJl4nmP26ao8mXieY/AAAAAAAAAAA=",
          "dtype": "f8"
         },
         "xaxis": "x",
         "y": {
          "bdata": "AAAAAACIiMAAAAAAAIiIwAAAAAAA2IjAAAAAAADYiMA=",
          "dtype": "f8"
         },
         "yaxis": "y"
        },
        {
         "hoverinfo": "text",
         "marker": {
          "color": "rgb(0,116,217)"
         },
         "mode": "lines",
         "text": [
          "calidad gestion_calidad gestión_gestión calidad_gestion calidad_gestión calidad gestión",
          "",
          "",
          "huella carbono_huella carbono gestión_reporte huella carbono_carbono gestión_carbono"
         ],
         "type": "scatter",
         "x": {
          "bdata": "AGDs5mZV8z8eW5dRPHvzPx5bl1E8e/M/bpqjyZeJ5j8=",
          "dtype": "f8"
         },
         "xaxis": "x",
         "y": {
          "bdata": "AAAAAGyHe8AAAAAAbId7wAAAAAAAsIjAAAAAAACwiMA=",
          "dtype": "f8"
         },
         "yaxis": "y"
        },
        {
         "hoverinfo": "text",
         "marker": {
          "color": "rgb(0,116,217)"
         },
         "mode": "lines",
         "text": [
          "ofimáticas herramientas_herramientas ofimaticas_herramientas ofimáticas_manejo herramientas_herramientas ofimáticas herramientas",
          "",
          "",
          "huella carbono_huella carbono gestión_reporte huella carbono_carbono gestión_carbono"
         ],
         "type": "scatter",
         "x": {
          "bdata": "tP+VvjKE5T8amCgXuaHzPxqYKBe5ofM/HluXUTx78z8=",
          "dtype": "f8"
         },
         "xaxis": "x",
         "y": {
          "bdata": "AAAAAABAYMAAAAAAAEBgwAAAAADbOYPAAAAAANs5g8A=",
          "dtype": "f8"
         },
         "yaxis": "y"
        },
        {
         "hoverinfo": "text",
         "marker": {
          "color": "rgb(0,116,217)"
         },
         "mode": "lines",
         "text": [
          "mantenimiento preventivo correctivo_mantenimiento correctivo preventivo_preventivo mantenimiento preventivo_preventivo mantenimiento_mantenimiento preventivo",
          "",
          "",
          "huella carbono_huella carbono gestión_reporte huella carbono_carbono gestión_carbono"
         ],
         "type": "scatter",
         "x": {
          "bdata": "sjpCif7i5D9bTENcCwr0P1tMQ1wLCvQ/GpgoF7mh8z8=",
          "dtype": "f8"
         },
         "xaxis": "x",
         "y": {
          "bdata": "AAAAAACAW8AAAAAAAIBbwAAAAADbSXfAAAAAANtJd8A=",
          "dtype": "f8"
         },
         "yaxis": "y"
        },
        {
         "hoverinfo": "text",
         "marker": {
          "color": "rgb(255,65,54)"
         },
         "mode": "lines",
         "text": [
          "ventas ventas_ventas venta_ventas energía_ventas_venta",
          "",
          "",
          "ventas_ventas ventas_venta_ventas venta_ductos"
         ],
         "type": "scatter",
         "x": {
          "bdata": "AAAAAAAAAABAmdm8LFPgP0CZ2bwsU+A/AAAAAAAAAAA=",
          "dtype": "f8"
         },
         "xaxis": "x",
         "y": {
          "bdata": "AAAAAAAoicAAAAAAACiJwAAAAAAAeInAAAAAAAB4icA=",
          "dtype": "f8"
         },
         "yaxis": "y"
        },
        {
         "hoverinfo": "text",
         "marker": {
          "color": "rgb(0,116,217)"
         },
         "mode": "lines",
         "text": [
          "ventas ventas_ventas venta_ventas energía_ventas_venta",
          "",
          "",
          "ventas_venta_ventas ventas_ventas venta_ventas energía"
         ],
         "type": "scatter",
         "x": {
          "bdata": "W0xDXAsK9D/USeeYoeL0P9RJ55ih4vQ/QJnZvCxT4D8=",
          "dtype": "f8"
         },
         "xaxis": "x",
         "y": {
          "bdata": "AAAAANspbsAAAAAA2yluwAAAAAAAUInAAAAAAABQicA=",
          "dtype": "f8"
         },
         "yaxis": "y"
        },
        {
         "hoverinfo": "text",
         "marker": {
          "color": "rgb(0,116,217)"
         },
         "mode": "lines",
         "text": [
          "hvac_hvac proyectos_sistemas aire acondicionado_ventilacion_diseño sistemas aire",
          "",
          "",
          "ventas_venta_ventas ventas_ventas venta_ventas energía"
         ],
         "type": "scatter",
         "x": {
          "bdata": "nvRq/BLQ3j8usYGztCL1Py6xgbO0IvU/1EnnmKHi9D8=",
          "dtype": "f8"
         },
         "xaxis": "x",
         "y": {
          "bdata": "AAAAAACAVsAAAAAAAIBWwAAAAGA7bYDAAAAAYDttgMA=",
          "dtype": "f8"
         },
         "yaxis": "y"
        },
        {
         "hoverinfo": "text",
         "marker": {
          "color": "rgb(35,205,205)"
         },
         "mode": "lines",
         "text": [
          "excel avanzado_excel_office avanzado_avanzado c1_avanzado",
          "",
          "",
          "ambientales seguimiento_ambientales licenciamiento_estudios ambientales_ambientales_elaboración estudios ambientales"
         ],
         "type": "scatter",
         "x": {
          "bdata": "AAAAAAAAAAAShJd9QmjpPxKEl31CaOk/AAAAAAAAAAA=",
          "dtype": "f8"
         },
         "xaxis": "x",
         "y": {
          "bdata": "AAAAAADIicAAAAAAAMiJwAAAAAAAGIrAAAAAAAAYisA=",
          "dtype": "f8"
         },
         "yaxis": "y"
        },
        {
         "hoverinfo": "text",
         "marker": {
          "color": "rgb(35,205,205)"
         },
         "mode": "lines",
         "text": [
          "excel avanzado_excel_office avanzado_avanzado c1_avanzado",
          "",
          "",
          "gestion ambiental_gestión ambiental_gestión ambiental gestión_gestión ambiental gestion_ambiental gestión"
         ],
         "type": "scatter",
         "x": {
          "bdata": "EoSXfUJo6T/QlPB1lAvrP9CU8HWUC+s/AAAAAAAAAAA=",
          "dtype": "f8"
         },
         "xaxis": "x",
         "y": {
          "bdata": "AAAAAADwicAAAAAAAPCJwAAAAAAAaIrAAAAAAABoisA=",
          "dtype": "f8"
         },
         "yaxis": "y"
        },
        {
         "hoverinfo": "text",
         "marker": {
          "color": "rgb(61,153,112)"
         },
         "mode": "lines",
         "text": [
          "ambiental normativas_ambientales normas_normatividad_calidad ambiental_normativas",
          "",
          "",
          "normas iso_iso 9001 14001_iso 9001_14001 iso 45001_normas"
         ],
         "type": "scatter",
         "x": {
          "bdata": "AAAAAAAAAACoMumSXXDkP6gy6ZJdcOQ/AAAAAAAAAAA=",
          "dtype": "f8"
         },
         "xaxis": "x",
         "y": {
          "bdata": "AAAAAAAIi8AAAAAAAAiLwAAAAAAAWIvAAAAAAABYi8A=",
          "dtype": "f8"
         },
         "yaxis": "y"
        },
        {
         "hoverinfo": "text",
         "marker": {
          "color": "rgb(61,153,112)"
         },
         "mode": "lines",
         "text": [
          "normas iso_normas_normas técnicas_iso 9001 14001_norma",
          "",
          "",
          "iso 14001_iso 14000_14001 iso_iso 14001 iso_iso 14000 iso"
         ],
         "type": "scatter",
         "x": {
          "bdata": "qDLpkl1w5D9p/m0YWB7sP2n+bRhYHuw/AAAAAAAAAAA=",
          "dtype": "f8"
         },
         "xaxis": "x",
         "y": {
          "bdata": "AAAAAAAwi8AAAAAAADCLwAAAAAAAqIvAAAAAAACoi8A=",
          "dtype": "f8"
         },
         "yaxis": "y"
        },
        {
         "hoverinfo": "text",
         "marker": {
          "color": "rgb(61,153,112)"
         },
         "mode": "lines",
         "text": [
          "ambiental cumplimiento_legal ambiental_cumplimiento requisitos legales_cumplimiento_ambiental elaboración",
          "",
          "",
          "normas iso_norma_normas_normas técnicas_norma ntc"
         ],
         "type": "scatter",
         "x": {
          "bdata": "AAAAAAAAAABBwL0z8AvvP0HAvTPwC+8/af5tGFge7D8=",
          "dtype": "f8"
         },
         "xaxis": "x",
         "y": {
          "bdata": "AAAAAAC4isAAAAAAALiKwAAAAAAAbIvAAAAAAABsi8A=",
          "dtype": "f8"
         },
         "yaxis": "y"
        },
        {
         "hoverinfo": "text",
         "marker": {
          "color": "rgb(0,116,217)"
         },
         "mode": "lines",
         "text": [
          "ambiental cumplimiento_legal ambiental_cumplimiento requisitos legales_cumplimiento_ambiental elaboración",
          "",
          "",
          "normas iso_norma_normas_normas técnicas_norma ntc"
         ],
         "type": "scatter",
         "x": {
          "bdata": "0JTwdZQL6z8NsQRpZHbzPw2xBGlkdvM/QcC9M/AL7z8=",
          "dtype": "f8"
         },
         "xaxis": "x",
         "y": {
          "bdata": "AAAAAAAsisAAAAAAACyKwAAAAAAAEovAAAAAAAASi8A=",
          "dtype": "f8"
         },
         "yaxis": "y"
        },
        {
         "hoverinfo": "text",
         "marker": {
          "color": "rgb(0,116,217)"
         },
         "mode": "lines",
         "text": [
          "ambiental cumplimiento_legal ambiental_cumplimiento requisitos legales_cumplimiento_ambiental elaboración",
          "",
          "",
          "gestion ambiental_gestión ambiental_gestión ambiental gestion_gestión ambiental gestión_ambiental gestion"
         ],
         "type": "scatter",
         "x": {
          "bdata": "LrGBs7Qi9T8+hS581tD1Pz6FLnzW0PU/DbEEaWR28z8=",
          "dtype": "f8"
         },
         "xaxis": "x",
         "y": {
          "bdata": "AAAAYDs9c8AAAABgOz1zwAAAAAAAn4rAAAAAAACfisA=",
          "dtype": "f8"
         },
         "yaxis": "y"
        },
        {
         "hoverinfo": "text",
         "marker": {
          "color": "rgb(255,65,54)"
         },
         "mode": "lines",
         "text": [
          "seguridad salud trabajo_salud seguridad trabajo_salud trabajo seguridad_sistemas seguridad_gestión seguridad salud",
          "",
          "",
          "seguridad salud trabajo_salud seguridad trabajo_salud trabajo seguridad_trabajo seguridad_seguridad trabajo"
         ],
         "type": "scatter",
         "x": {
          "bdata": "AAAAAAAAAABiwQUWc6bcP2LBBRZzptw/AAAAAAAAAAA=",
          "dtype": "f8"
         },
         "xaxis": "x",
         "y": {
          "bdata": "AAAAAAD4i8AAAAAAAPiLwAAAAAAASIzAAAAAAABIjMA=",
          "dtype": "f8"
         },
         "yaxis": "y"
        },
        {
         "hoverinfo": "text",
         "marker": {
          "color": "rgb(35,205,205)"
         },
         "mode": "lines",
         "text": [
          "trabajo_trabajo seguro_trabajos_trabajo alturas trabajo_trabajo alturas trabajos",
          "",
          "",
          "trabajo alturas_trabajo altura_alturas trabajo_trabajo alturas trabajo_trabajo alturas trabajos"
         ],
         "type": "scatter",
         "x": {
          "bdata": "AAAAAAAAAAByIJC8azbjP3IgkLxrNuM/AAAAAAAAAAA=",
          "dtype": "f8"
         },
         "xaxis": "x",
         "y": {
          "bdata": "AAAAAACYjMAAAAAAAJiMwAAAAAAA6IzAAAAAAADojMA=",
          "dtype": "f8"
         },
         "yaxis": "y"
        },
        {
         "hoverinfo": "text",
         "marker": {
          "color": "rgb(0,116,217)"
         },
         "mode": "lines",
         "text": [
          "seguridad salud trabajo_salud seguridad trabajo_salud trabajo seguridad_trabajo seguridad_seguridad trabajo",
          "",
          "",
          "trabajo alturas_alturas trabajo_trabajo altura_trabajo alturas trabajo_altura trabajo"
         ],
         "type": "scatter",
         "x": {
          "bdata": "YsEFFnOm3D+OtdmuoBfzP4612a6gF/M/ciCQvGs24z8=",
          "dtype": "f8"
         },
         "xaxis": "x",
         "y": {
          "bdata": "AAAAAAAgjMAAAAAAACCMwAAAAAAAwIzAAAAAAADAjMA=",
          "dtype": "f8"
         },
         "yaxis": "y"
        },
        {
         "hoverinfo": "text",
         "marker": {
          "color": "rgb(0,116,217)"
         },
         "mode": "lines",
         "text": [
          "seguridad salud trabajo_salud seguridad trabajo_salud trabajo seguridad_trabajo seguridad_seguridad trabajo",
          "",
          "",
          "trabajo alturas_alturas trabajo_trabajo altura_trabajo alturas trabajo_altura trabajo"
         ],
         "type": "scatter",
         "x": {
          "bdata": "PoUufNbQ9T+XzVP95kf2P5fNU/3mR/Y/jrXZrqAX8z8=",
          "dtype": "f8"
         },
         "xaxis": "x",
         "y": {
          "bdata": "AAAA2M4egsAAAADYzh6CwAAAAAAAcIzAAAAAAABwjMA=",
          "dtype": "f8"
         },
         "yaxis": "y"
        },
        {
         "hoverinfo": "text",
         "marker": {
          "color": "rgb(0,116,217)"
         },
         "mode": "lines",
         "text": [
          "seguridad salud trabajo_salud seguridad trabajo_salud trabajo seguridad_trabajo seguridad_seguridad trabajo",
          "",
          "",
          "trabajo alturas_alturas trabajo_trabajo altura_trabajo alturas trabajo_altura trabajo"
         ],
         "type": "scatter",
         "x": {
          "bdata": "LBDOjEAa9T/iaq8PEL32P+Jqrw8QvfY/l81T/eZH9j8=",
          "dtype": "f8"
         },
         "xaxis": "x",
         "y": {
          "bdata": "AAAAAACAO8AAAAAAAIA7wAAAAGxnR4fAAAAAbGdHh8A=",
          "dtype": "f8"
         },
         "yaxis": "y"
        },
        {
         "hoverinfo": "text",
         "hovertext": [
          "redes eléctricas_redes electricas_eléctricas redes_redes eléctricas redes_eléctricas redes electricas",
          "eléctricas instalaciones_eléctricas instalacion_eléctricas instalación_electricas instalación_instalación eléctrica",
          "cableado estructurado_estructurado cableado_cableado estructurado cableado_cableado sistemas_cableado eléctrico",
          "energético seguimiento_energético_energetico_energéticos_sector energetico",
          "servicios públicos_servicios productos_servicios generales_productos servicios_servicios",
          "sistemas eléctricos_eléctricos sistemas_eléctrico sistemas_eléctricas sistemas_electricos mantenimiento",
          "vehículos_vehiculo_vehículo_conduccion_conducción",
          "energía_energia_energias_energías_energía eficiente",
          "energía_energia_energias_energías_energía eficiente",
          "energía_energia_energias_energías_energía eficiente",
          "cliente atencion_cliente atención_atención cliente_atencion clientes_cliente",
          "mantenimiento maquinaria_reparacion maquinaria_maquinaria_máquinas_maquinas",
          "mantenimiento maquinaria_reparacion maquinaria_maquinaria_máquinas_maquinas",
          "materiales_listas materiales_manejo materiales_material_fabricación",
          "materiales_listas materiales_manejo materiales_material_fabricación",
          "materiales_listas materiales_manejo materiales_material_fabricación",
          "equipos_equipos mantenimiento equipos_equipos internos_diseño equipos_seguimiento equipos",
          "presupuestos_prestaciones_presupuestal_prevencion_prevención",
          "presupuestos_prestaciones_presupuestal_prevencion_prevención",
          "certificación_certificacion_certificaciones_certificación técnica_procesos certificación",
          "software_software diseño_programadas_software especializado_software diseño asistido",
          "software_software diseño_programadas_software especializado_software diseño asistido",
          "software_software diseño_programadas_software especializado_software diseño asistido",
          "procesos proyectos_proyectos procesos_procesos compras_procesos procedimientos_procesos",
          "procesos proyectos_proyectos procesos_procesos compras_procesos procedimientos_procesos",
          "control_control control_controles_control avance_avances control",
          "control_control control_controles_control avance_avances control",
          "control_control control_controles_control avance_avances control",
          "administrativos_administrativo_administrativa_administración_administracion",
          "coordinación actividades_coordinacion actividades_ejecución actividades_actividades_actividades análisis",
          "coordinación actividades_coordinacion actividades_ejecución actividades_actividades_actividades análisis",
          "ingles intermedio_inglés intermedio_intermedio_intermedio alto_inglés",
          "ingles intermedio_inglés intermedio_intermedio_intermedio alto_inglés",
          "ingles intermedio_inglés intermedio_intermedio_intermedio alto_inglés",
          "calidad gestion_calidad gestión_gestión calidad_gestion calidad_gestión calidad gestión",
          "ofimáticas herramientas_herramientas ofimaticas_herramientas ofimáticas_manejo herramientas_herramientas ofimáticas herramientas",
          "mantenimiento preventivo correctivo_mantenimiento correctivo preventivo_preventivo mantenimiento preventivo_preventivo mantenimiento_mantenimiento preventivo",
          "ventas ventas_ventas venta_ventas energía_ventas_venta",
          "hvac_hvac proyectos_sistemas aire acondicionado_ventilacion_diseño sistemas aire",
          "excel avanzado_excel_office avanzado_avanzado c1_avanzado",
          "normas iso_normas_normas técnicas_iso 9001 14001_norma",
          "ambiental cumplimiento_legal ambiental_cumplimiento requisitos legales_cumplimiento_ambiental elaboración",
          "ambiental cumplimiento_legal ambiental_cumplimiento requisitos legales_cumplimiento_ambiental elaboración",
          "seguridad salud trabajo_salud seguridad trabajo_salud trabajo seguridad_trabajo seguridad_seguridad trabajo",
          "seguridad salud trabajo_salud seguridad trabajo_salud trabajo seguridad_trabajo seguridad_seguridad trabajo",
          "seguridad salud trabajo_salud seguridad trabajo_salud trabajo seguridad_trabajo seguridad_seguridad trabajo"
         ],
         "marker": {
          "color": "black"
         },
         "mode": "markers",
         "showlegend": false,
         "type": "scatter",
         "x": [
          0.636581208072883,
          0.5842112891056546,
          0.35998357433295336,
          0.8983428658409109,
          0.9745142632713134,
          0.942955608825178,
          0.8898975859901593,
          0.9294804326903844,
          1.0621482721247308,
          1.0739006824905777,
          0.8412027414915815,
          0.9425399460327781,
          0.9560559979351541,
          0.9760063899405095,
          0.9988440030840484,
          1.012443074154025,
          1.0199025343337715,
          0.9416944794427059,
          0.9307272694444358,
          0.9667681479114204,
          1.0064692514408413,
          1.0277348514463216,
          1.046374089218635,
          0.8840997740893114,
          0.9225331835876417,
          0.8241711824447921,
          1.069248951948169,
          1.0918564177299988,
          0.9174260174377242,
          1.0275018329383867,
          1.1463580111726523,
          0.8627373797043167,
          1.1752700843580621,
          1.1496899635613238,
          1.208350088161751,
          0.6723874781018737,
          0.6527092629274505,
          1.2524522403735066,
          0.4814498391168146,
          0.7939770176855083,
          0.6387164944986425,
          0.8451635650168559,
          1.3209731113411851,
          0.44765927458413135,
          1.36348579891667,
          1.3189092159455056
         ],
         "y": [
          -50,
          -30,
          -10,
          -160,
          -156.25,
          -230,
          -210,
          -270,
          -225,
          -173.125,
          -310,
          -380,
          -360,
          -440,
          -412.5,
          -373.75,
          -401.875,
          -510,
          -490,
          -550,
          -560,
          -505,
          -435.9375,
          -650,
          -630,
          -610,
          -487.96875,
          -321.25,
          -682.5,
          -696.25,
          -439.3359375,
          -750,
          -576.23046875,
          -212.8125,
          -440.4638671875,
          -130,
          -110,
          -241.3079833984375,
          -90,
          -830,
          -870,
          -837.5,
          -307.8269958496094,
          -900,
          -579.8509979248047,
          -27.5
         ]
        },
        {
         "hoverinfo": "text",
         "hovertext": [
          "sap_software_analytics_web_gestión",
          "sap_software_analytics_web_gestión",
          "sap_software_analytics_web_gestión",
          "sector oil gas_sector oil_oil gas sistema_oil gas_sector",
          "presentación productos_productos_especificaciones productos_producto_productos servicios",
          "sistemas eléctricos_eléctricos sistemas_eléctrico sistemas_eléctricas sistemas_eléctricos mantenimiento",
          "sistemas eléctricos_eléctricos sistemas_eléctrico sistemas_eléctricas sistemas_eléctricos mantenimiento",
          "energías renovables_energía renovable_renovables_renovable_energías",
          "energías renovables_energía renovable_renovables_renovable_energías",
          "energías renovables_energía renovable_renovables_renovable_energías",
          "manejo residuos_manejo proveedores_proveedores manejo_manejo riesgo_manejo proyectos",
          "manejo residuos_manejo proveedores_proveedores manejo_manejo riesgo_manejo proyectos",
          "árboles_árboles césped_poda_arreglo_representación",
          "mantenimiento_mantenimiento mantenimiento_mantenimientos_mantenimiento operación_mantenimiento mejora",
          "aplicativos____",
          "aplicativos____",
          "seguimiento equipos_equipos_energía equipos_medición_medicion",
          "obra_obra interventoría obra_obra interventoría_obra civil_obra proyectos",
          "obra_obra interventoría obra_obra interventoría_obra civil_obra proyectos",
          "ccsp_ccna_csp_tic_vpc",
          "autocad_autocad software_automotriz_civil 3d_3d",
          "autocad_autocad software_automotriz_civil 3d_3d",
          "autocad_autocad software_automotriz_civil 3d_3d",
          "ingeniería_ingenieria_ingeniería básica_ingeniería detalle_proyectos ingeniería",
          "ingeniería_ingenieria_ingeniería básica_ingeniería detalle_proyectos ingeniería",
          "ingeniería_ingenieria_ingeniería básica_ingeniería detalle_proyectos ingeniería",
          "ingeniería_ingenieria_ingeniería básica_ingeniería detalle_proyectos ingeniería",
          "recopilación información_actualización información_sistemas información_elaboracion informes_elaboración informes",
          "contratación_seguimiento contratos_selección contratación_planeación_procesos compras",
          "personal manejo_manejo_técnicos manejo_presentación personal_personal coordinación",
          "personal manejo_manejo_técnicos manejo_presentación personal_personal coordinación",
          "excel intermedio_excel_office excel_excel básico_intermedio",
          "excel intermedio_excel_office excel_excel básico_intermedio",
          "excel intermedio_excel_office excel_excel básico_intermedio",
          "huella carbono_huella carbono gestión_reporte huella carbono_carbono gestión_carbono",
          "huella carbono_huella carbono gestión_reporte huella carbono_carbono gestión_carbono",
          "huella carbono_huella carbono gestión_reporte huella carbono_carbono gestión_carbono",
          "ventas_venta_ventas ventas_ventas venta_ventas energía",
          "ventas_venta_ventas ventas_ventas venta_ventas energía",
          "normas iso_norma_normas_normas técnicas_norma ntc",
          "normas iso_norma_normas_normas técnicas_norma ntc",
          "gestion ambiental_gestión ambiental_gestión ambiental gestion_gestión ambiental gestión_ambiental gestion",
          "trabajo alturas_alturas trabajo_trabajo altura_trabajo alturas trabajo_altura trabajo",
          "trabajo alturas_alturas trabajo_trabajo altura_trabajo alturas trabajo_altura trabajo",
          "trabajo alturas_alturas trabajo_trabajo altura_trabajo alturas trabajo_altura trabajo"
         ],
         "marker": {
          "color": "black"
         },
         "mode": "markers",
         "showlegend": false,
         "type": "scatter",
         "x": [
          0.8450186808568325,
          1.0654225565094497,
          1.1749962857164504,
          0.9600960636941596,
          0.8589296659577157,
          0.8528123010780521,
          0.9484947152652549,
          0.8281044500968058,
          0.9787111986253297,
          1.1407425168867653,
          0.8628600916467363,
          0.9658076756748546,
          0.9964085381224878,
          0.9680705953510995,
          1.0078709452430394,
          1.0111187085173143,
          0.8847895131749279,
          0.9649651973656491,
          1.007262514119286,
          0.9769954846699284,
          0.9452545203461754,
          1.0315500568072362,
          1.05449152725025,
          0.936222556562348,
          1.0086232470082734,
          1.1024800861321928,
          1.128306534720518,
          0.8357971956632952,
          0.9436753685732368,
          0.7804681186282603,
          1.1174187448934645,
          0.83359491616774,
          1.0828024857461533,
          1.184076992281474,
          0.7042960108054339,
          1.2175868212850172,
          1.2269831566459346,
          0.5101531685329874,
          1.3053298924247558,
          0.8787041165487156,
          0.9702073107309915,
          1.2164043524053938,
          0.6003931696768758,
          1.1932684736342227,
          1.3925542731857143
         ],
         "y": [
          -70,
          -60,
          -45,
          -167.5,
          -190,
          -250,
          -240,
          -290,
          -280,
          -252.5,
          -340,
          -332.5,
          -387.5,
          -420,
          -447.5,
          -430,
          -470,
          -530,
          -520,
          -570,
          -590,
          -575,
          -540,
          -657.5,
          -643.75,
          -626.875,
          -557.421875,
          -690,
          -710,
          -730,
          -713.125,
          -770,
          -760,
          -668.115234375,
          -790,
          -615.23193359375,
          -372.615966796875,
          -810,
          -525.6539916992188,
          -877.5,
          -866.25,
          -851.875,
          -920,
          -910,
          -744.9254989624023
         ]
        }
       ],
       "layout": {
        "autosize": false,
        "height": 1595,
        "hoverlabel": {
         "bgcolor": "white",
         "font": {
          "family": "Rockwell",
          "size": 16
         }
        },
        "hovermode": "closest",
        "plot_bgcolor": "#ECEFF1",
        "showlegend": false,
        "template": {
         "data": {
          "bar": [
           {
            "error_x": {
             "color": "#2a3f5f"
            },
            "error_y": {
             "color": "#2a3f5f"
            },
            "marker": {
             "line": {
              "color": "white",
              "width": 0.5
             },
             "pattern": {
              "fillmode": "overlay",
              "size": 10,
              "solidity": 0.2
             }
            },
            "type": "bar"
           }
          ],
          "barpolar": [
           {
            "marker": {
             "line": {
              "color": "white",
              "width": 0.5
             },
             "pattern": {
              "fillmode": "overlay",
              "size": 10,
              "solidity": 0.2
             }
            },
            "type": "barpolar"
           }
          ],
          "carpet": [
           {
            "aaxis": {
             "endlinecolor": "#2a3f5f",
             "gridcolor": "#C8D4E3",
             "linecolor": "#C8D4E3",
             "minorgridcolor": "#C8D4E3",
             "startlinecolor": "#2a3f5f"
            },
            "baxis": {
             "endlinecolor": "#2a3f5f",
             "gridcolor": "#C8D4E3",
             "linecolor": "#C8D4E3",
             "minorgridcolor": "#C8D4E3",
             "startlinecolor": "#2a3f5f"
            },
            "type": "carpet"
           }
          ],
          "choropleth": [
           {
            "colorbar": {
             "outlinewidth": 0,
             "ticks": ""
            },
            "type": "choropleth"
           }
          ],
          "contour": [
           {
            "colorbar": {
             "outlinewidth": 0,
             "ticks": ""
            },
            "colorscale": [
             [
              0,
              "#0d0887"
             ],
             [
              0.1111111111111111,
              "#46039f"
             ],
             [
              0.2222222222222222,
              "#7201a8"
             ],
             [
              0.3333333333333333,
              "#9c179e"
             ],
             [
              0.4444444444444444,
              "#bd3786"
             ],
             [
              0.5555555555555556,
              "#d8576b"
             ],
             [
              0.6666666666666666,
              "#ed7953"
             ],
             [
              0.7777777777777778,
              "#fb9f3a"
             ],
             [
              0.8888888888888888,
              "#fdca26"
             ],
             [
              1,
              "#f0f921"
             ]
            ],
            "type": "contour"
           }
          ],
          "contourcarpet": [
           {
            "colorbar": {
             "outlinewidth": 0,
             "ticks": ""
            },
            "type": "contourcarpet"
           }
          ],
          "heatmap": [
           {
            "colorbar": {
             "outlinewidth": 0,
             "ticks": ""
            },
            "colorscale": [
             [
              0,
              "#0d0887"
             ],
             [
              0.1111111111111111,
              "#46039f"
             ],
             [
              0.2222222222222222,
              "#7201a8"
             ],
             [
              0.3333333333333333,
              "#9c179e"
             ],
             [
              0.4444444444444444,
              "#bd3786"
             ],
             [
              0.5555555555555556,
              "#d8576b"
             ],
             [
              0.6666666666666666,
              "#ed7953"
             ],
             [
              0.7777777777777778,
              "#fb9f3a"
             ],
             [
              0.8888888888888888,
              "#fdca26"
             ],
             [
              1,
              "#f0f921"
             ]
            ],
            "type": "heatmap"
           }
          ],
          "histogram": [
           {
            "marker": {
             "pattern": {
              "fillmode": "overlay",
              "size": 10,
              "solidity": 0.2
             }
            },
            "type": "histogram"
           }
          ],
          "histogram2d": [
           {
            "colorbar": {
             "outlinewidth": 0,
             "ticks": ""
            },
            "colorscale": [
             [
              0,
              "#0d0887"
             ],
             [
              0.1111111111111111,
              "#46039f"
             ],
             [
              0.2222222222222222,
              "#7201a8"
             ],
             [
              0.3333333333333333,
              "#9c179e"
             ],
             [
              0.4444444444444444,
              "#bd3786"
             ],
             [
              0.5555555555555556,
              "#d8576b"
             ],
             [
              0.6666666666666666,
              "#ed7953"
             ],
             [
              0.7777777777777778,
              "#fb9f3a"
             ],
             [
              0.8888888888888888,
              "#fdca26"
             ],
             [
              1,
              "#f0f921"
             ]
            ],
            "type": "histogram2d"
           }
          ],
          "histogram2dcontour": [
           {
            "colorbar": {
             "outlinewidth": 0,
             "ticks": ""
            },
            "colorscale": [
             [
              0,
              "#0d0887"
             ],
             [
              0.1111111111111111,
              "#46039f"
             ],
             [
              0.2222222222222222,
              "#7201a8"
             ],
             [
              0.3333333333333333,
              "#9c179e"
             ],
             [
              0.4444444444444444,
              "#bd3786"
             ],
             [
              0.5555555555555556,
              "#d8576b"
             ],
             [
              0.6666666666666666,
              "#ed7953"
             ],
             [
              0.7777777777777778,
              "#fb9f3a"
             ],
             [
              0.8888888888888888,
              "#fdca26"
             ],
             [
              1,
              "#f0f921"
             ]
            ],
            "type": "histogram2dcontour"
           }
          ],
          "mesh3d": [
           {
            "colorbar": {
             "outlinewidth": 0,
             "ticks": ""
            },
            "type": "mesh3d"
           }
          ],
          "parcoords": [
           {
            "line": {
             "colorbar": {
              "outlinewidth": 0,
              "ticks": ""
             }
            },
            "type": "parcoords"
           }
          ],
          "pie": [
           {
            "automargin": true,
            "type": "pie"
           }
          ],
          "scatter": [
           {
            "fillpattern": {
             "fillmode": "overlay",
             "size": 10,
             "solidity": 0.2
            },
            "type": "scatter"
           }
          ],
          "scatter3d": [
           {
            "line": {
             "colorbar": {
              "outlinewidth": 0,
              "ticks": ""
             }
            },
            "marker": {
             "colorbar": {
              "outlinewidth": 0,
              "ticks": ""
             }
            },
            "type": "scatter3d"
           }
          ],
          "scattercarpet": [
           {
            "marker": {
             "colorbar": {
              "outlinewidth": 0,
              "ticks": ""
             }
            },
            "type": "scattercarpet"
           }
          ],
          "scattergeo": [
           {
            "marker": {
             "colorbar": {
              "outlinewidth": 0,
              "ticks": ""
             }
            },
            "type": "scattergeo"
           }
          ],
          "scattergl": [
           {
            "marker": {
             "colorbar": {
              "outlinewidth": 0,
              "ticks": ""
             }
            },
            "type": "scattergl"
           }
          ],
          "scattermap": [
           {
            "marker": {
             "colorbar": {
              "outlinewidth": 0,
              "ticks": ""
             }
            },
            "type": "scattermap"
           }
          ],
          "scattermapbox": [
           {
            "marker": {
             "colorbar": {
              "outlinewidth": 0,
              "ticks": ""
             }
            },
            "type": "scattermapbox"
           }
          ],
          "scatterpolar": [
           {
            "marker": {
             "colorbar": {
              "outlinewidth": 0,
              "ticks": ""
             }
            },
            "type": "scatterpolar"
           }
          ],
          "scatterpolargl": [
           {
            "marker": {
             "colorbar": {
              "outlinewidth": 0,
              "ticks": ""
             }
            },
            "type": "scatterpolargl"
           }
          ],
          "scatterternary": [
           {
            "marker": {
             "colorbar": {
              "outlinewidth": 0,
              "ticks": ""
             }
            },
            "type": "scatterternary"
           }
          ],
          "surface": [
           {
            "colorbar": {
             "outlinewidth": 0,
             "ticks": ""
            },
            "colorscale": [
             [
              0,
              "#0d0887"
             ],
             [
              0.1111111111111111,
              "#46039f"
             ],
             [
              0.2222222222222222,
              "#7201a8"
             ],
             [
              0.3333333333333333,
              "#9c179e"
             ],
             [
              0.4444444444444444,
              "#bd3786"
             ],
             [
              0.5555555555555556,
              "#d8576b"
             ],
             [
              0.6666666666666666,
              "#ed7953"
             ],
             [
              0.7777777777777778,
              "#fb9f3a"
             ],
             [
              0.8888888888888888,
              "#fdca26"
             ],
             [
              1,
              "#f0f921"
             ]
            ],
            "type": "surface"
           }
          ],
          "table": [
           {
            "cells": {
             "fill": {
              "color": "#EBF0F8"
             },
             "line": {
              "color": "white"
             }
            },
            "header": {
             "fill": {
              "color": "#C8D4E3"
             },
             "line": {
              "color": "white"
             }
            },
            "type": "table"
           }
          ]
         },
         "layout": {
          "annotationdefaults": {
           "arrowcolor": "#2a3f5f",
           "arrowhead": 0,
           "arrowwidth": 1
          },
          "autotypenumbers": "strict",
          "coloraxis": {
           "colorbar": {
            "outlinewidth": 0,
            "ticks": ""
           }
          },
          "colorscale": {
           "diverging": [
            [
             0,
             "#8e0152"
            ],
            [
             0.1,
             "#c51b7d"
            ],
            [
             0.2,
             "#de77ae"
            ],
            [
             0.3,
             "#f1b6da"
            ],
            [
             0.4,
             "#fde0ef"
            ],
            [
             0.5,
             "#f7f7f7"
            ],
            [
             0.6,
             "#e6f5d0"
            ],
            [
             0.7,
             "#b8e186"
            ],
            [
             0.8,
             "#7fbc41"
            ],
            [
             0.9,
             "#4d9221"
            ],
            [
             1,
             "#276419"
            ]
           ],
           "sequential": [
            [
             0,
             "#0d0887"
            ],
            [
             0.1111111111111111,
             "#46039f"
            ],
            [
             0.2222222222222222,
             "#7201a8"
            ],
            [
             0.3333333333333333,
             "#9c179e"
            ],
            [
             0.4444444444444444,
             "#bd3786"
            ],
            [
             0.5555555555555556,
             "#d8576b"
            ],
            [
             0.6666666666666666,
             "#ed7953"
            ],
            [
             0.7777777777777778,
             "#fb9f3a"
            ],
            [
             0.8888888888888888,
             "#fdca26"
            ],
            [
             1,
             "#f0f921"
            ]
           ],
           "sequentialminus": [
            [
             0,
             "#0d0887"
            ],
            [
             0.1111111111111111,
             "#46039f"
            ],
            [
             0.2222222222222222,
             "#7201a8"
            ],
            [
             0.3333333333333333,
             "#9c179e"
            ],
            [
             0.4444444444444444,
             "#bd3786"
            ],
            [
             0.5555555555555556,
             "#d8576b"
            ],
            [
             0.6666666666666666,
             "#ed7953"
            ],
            [
             0.7777777777777778,
             "#fb9f3a"
            ],
            [
             0.8888888888888888,
             "#fdca26"
            ],
            [
             1,
             "#f0f921"
            ]
           ]
          },
          "colorway": [
           "#636efa",
           "#EF553B",
           "#00cc96",
           "#ab63fa",
           "#FFA15A",
           "#19d3f3",
           "#FF6692",
           "#B6E880",
           "#FF97FF",
           "#FECB52"
          ],
          "font": {
           "color": "#2a3f5f"
          },
          "geo": {
           "bgcolor": "white",
           "lakecolor": "white",
           "landcolor": "white",
           "showlakes": true,
           "showland": true,
           "subunitcolor": "#C8D4E3"
          },
          "hoverlabel": {
           "align": "left"
          },
          "hovermode": "closest",
          "mapbox": {
           "style": "light"
          },
          "paper_bgcolor": "white",
          "plot_bgcolor": "white",
          "polar": {
           "angularaxis": {
            "gridcolor": "#EBF0F8",
            "linecolor": "#EBF0F8",
            "ticks": ""
           },
           "bgcolor": "white",
           "radialaxis": {
            "gridcolor": "#EBF0F8",
            "linecolor": "#EBF0F8",
            "ticks": ""
           }
          },
          "scene": {
           "xaxis": {
            "backgroundcolor": "white",
            "gridcolor": "#DFE8F3",
            "gridwidth": 2,
            "linecolor": "#EBF0F8",
            "showbackground": true,
            "ticks": "",
            "zerolinecolor": "#EBF0F8"
           },
           "yaxis": {
            "backgroundcolor": "white",
            "gridcolor": "#DFE8F3",
            "gridwidth": 2,
            "linecolor": "#EBF0F8",
            "showbackground": true,
            "ticks": "",
            "zerolinecolor": "#EBF0F8"
           },
           "zaxis": {
            "backgroundcolor": "white",
            "gridcolor": "#DFE8F3",
            "gridwidth": 2,
            "linecolor": "#EBF0F8",
            "showbackground": true,
            "ticks": "",
            "zerolinecolor": "#EBF0F8"
           }
          },
          "shapedefaults": {
           "line": {
            "color": "#2a3f5f"
           }
          },
          "ternary": {
           "aaxis": {
            "gridcolor": "#DFE8F3",
            "linecolor": "#A2B1C6",
            "ticks": ""
           },
           "baxis": {
            "gridcolor": "#DFE8F3",
            "linecolor": "#A2B1C6",
            "ticks": ""
           },
           "bgcolor": "white",
           "caxis": {
            "gridcolor": "#DFE8F3",
            "linecolor": "#A2B1C6",
            "ticks": ""
           }
          },
          "title": {
           "x": 0.05
          },
          "xaxis": {
           "automargin": true,
           "gridcolor": "#EBF0F8",
           "linecolor": "#EBF0F8",
           "ticks": "",
           "title": {
            "standoff": 15
           },
           "zerolinecolor": "#EBF0F8",
           "zerolinewidth": 2
          },
          "yaxis": {
           "automargin": true,
           "gridcolor": "#EBF0F8",
           "linecolor": "#EBF0F8",
           "ticks": "",
           "title": {
            "standoff": 15
           },
           "zerolinecolor": "#EBF0F8",
           "zerolinewidth": 2
          }
         }
        },
        "title": {
         "font": {
          "color": "Black",
          "size": 22
         },
         "text": "<b>Hierarchical Clustering</b>",
         "x": 0.5,
         "xanchor": "center",
         "yanchor": "top"
        },
        "width": 1000,
        "xaxis": {
         "mirror": "allticks",
         "rangemode": "tozero",
         "showgrid": false,
         "showline": true,
         "showticklabels": true,
         "ticks": "outside",
         "type": "linear",
         "zeroline": false
        },
        "yaxis": {
         "mirror": "allticks",
         "range": [
          -930,
          0
         ],
         "rangemode": "tozero",
         "showgrid": false,
         "showline": true,
         "showticklabels": true,
         "tickmode": "array",
         "ticks": "outside",
         "ticktext": [
          "63_cableado estructurado_es...",
          "32_cableado estructurado_es...",
          "56_instalacion_instalación_...",
          "58_eléctricas instalaciones...",
          "24_redes electricas_redes e...",
          "2_mantenimiento redes eléct...",
          "75_instalación redes eléctr...",
          "70_sap_software_analytics",
          "69_soldadura_soldadura tig_...",
          "83_hvac_hvac proyectos_sist...",
          "37_mantenimiento preventivo...",
          "76_mantenimiento preventivo...",
          "78_manejo herramientas_herr...",
          "74_herramientas ofimáticas_...",
          "81_derechos_derecho_inmobil...",
          "21_energético seguimiento_e...",
          "79_sector eléctrico_sector_...",
          "17_sector oil gas_sector oi...",
          "82_servicios públicos_servi...",
          "65_productos_presentación p...",
          "15_licencia conducción_lice...",
          "16_vehículos_electricos_elé...",
          "47_tableros_tableros electr...",
          "42_motores eléctricos mante...",
          "0_sistemas eléctricos_eléct...",
          "29_potencia sistemas_sistem...",
          "51_paneles solares_solares_...",
          "28_fotovoltaicos sistemas_c...",
          "20_energía_energia_energias",
          "57_energías renovables_ener...",
          "53_cliente atencion_cliente...",
          "43_clientes potenciales_rel...",
          "85_proveedores_manejo prove...",
          "6_manejo informes_manejo re...",
          "55_recoleccion_recolección_...",
          "72_logística_logistica_logí...",
          "14_tratamiento aguas_tratam...",
          "49_mantenimiento maquinaria...",
          "50_limpieza_limpias_limpiez...",
          "45_árboles_árboles césped_p...",
          "44_análisis datos_datos ana...",
          "48_hidráulicos_hidraulica_h...",
          "34_mantenimiento_mantenimie...",
          "12_materiales_listas materi...",
          "64_alturas curso coordinado...",
          "88_aplicativos__",
          "11_equipos_equipos mantenim...",
          "86_seguimiento equipos_equi...",
          "22_oportunidades negocios_n...",
          "60_planes_planes acción_eje...",
          "59_indicadores gestión_gest...",
          "54_revisión_revision_revisi...",
          "27_presupuestos_prestacione...",
          "31_obra_obra interventoría ...",
          "71_sg sst_sg sst sistema_sg...",
          "40_auditorias_auditorías_au...",
          "36_certificación_certificac...",
          "61_ccsp_ccna_csp",
          "3_software_software diseño_...",
          "23_autocad_autocad software...",
          "13_sistemas control_control...",
          "33_radio_wlan_audio",
          "89_residuos hospitalarios_h...",
          "77_proyectos gestion_proyec...",
          "7_acompañamiento procesos_s...",
          "91_diseño_diseno_disenos",
          "92_ingeniería_ingenieria_in...",
          "5_comercial técnico_asesora...",
          "19_recopilación información...",
          "35_estrategias comerciales_...",
          "87_administrativos_administ...",
          "90_contratación_seguimiento...",
          "52_coordinación actividades...",
          "62_personal manejo_manejo_t...",
          "38_baja_tendido cableado_ca...",
          "46_capacitaciones_capacitac...",
          "41_ingles intermedio_inglés...",
          "18_excel intermedio_excel_o...",
          "84_calidad gestion_calidad ...",
          "80_huella carbono_huella ca...",
          "30_ventas ventas_ventas ven...",
          "26_ventas_ventas ventas_venta",
          "25_excel avanzado_excel_off...",
          "1_ambientales seguimiento_a...",
          "4_gestion ambiental_gestión...",
          "66_ambiental cumplimiento_l...",
          "73_ambiental normativas_amb...",
          "10_normas iso_iso 9001 1400...",
          "67_iso 14001_iso 14000_1400...",
          "8_seguridad salud trabajo_s...",
          "39_seguridad salud trabajo_...",
          "9_trabajo_trabajo seguro_tr...",
          "68_trabajo alturas_trabajo ..."
         ],
         "tickvals": [
          -5,
          -15,
          -25,
          -35,
          -45,
          -55,
          -65,
          -75,
          -85,
          -95,
          -105,
          -115,
          -125,
          -135,
          -145,
          -155,
          -165,
          -175,
          -185,
          -195,
          -205,
          -215,
          -225,
          -235,
          -245,
          -255,
          -265,
          -275,
          -285,
          -295,
          -305,
          -315,
          -325,
          -335,
          -345,
          -355,
          -365,
          -375,
          -385,
          -395,
          -405,
          -415,
          -425,
          -435,
          -445,
          -455,
          -465,
          -475,
          -485,
          -495,
          -505,
          -515,
          -525,
          -535,
          -545,
          -555,
          -565,
          -575,
          -585,
          -595,
          -605,
          -615,
          -625,
          -635,
          -645,
          -655,
          -665,
          -675,
          -685,
          -695,
          -705,
          -715,
          -725,
          -735,
          -745,
          -755,
          -765,
          -775,
          -785,
          -795,
          -805,
          -815,
          -825,
          -835,
          -845,
          -855,
          -865,
          -875,
          -885,
          -895,
          -905,
          -915,
          -925
         ],
         "type": "linear",
         "zeroline": false
        }
       }
      }
     },
     "metadata": {},
     "output_type": "display_data"
    }
   ],
   "source": [
    "model.visualize_hierarchy(hierarchical_topics=model_jer)"
   ]
  },
  {
   "cell_type": "code",
   "execution_count": null,
   "id": "6a968cf1",
   "metadata": {},
   "outputs": [
    {
     "name": "stdout",
     "output_type": "stream",
     "text": [
      ".\n",
      "├─soporte_apoyar_soporte soporte_llamada soporte_itil soporte\n",
      "│    ├─■──soporte_apoyar_soporte reas_itil soporte_soporte soporte ── Topic: 5\n",
      "│    └─■──llamada soporte_llamada_soporte soporte_soporte_soporte soporte soporte ── Topic: 168\n",
      "└─servicio cliente_cliente_servicios_servicio_server\n",
      "     ├─servicio cliente_servicios_servicio_cliente_server\n",
      "     │    ├─■──tecnicos_operarios_especializados_tecnicos tecnicos_operativos ── Topic: 151\n",
      "     │    └─server_plataformas_informatica_servicio cliente_microsoft\n",
      "     │         ├─■──computador_internet_camara_soporte_ai ── Topic: 81\n",
      "     │         └─server_servicio cliente_microsoft_informatica_linux\n",
      "     │              ├─■──ejercicio_recreacion_deportes_deportiva_deporte ── Topic: 94\n",
      "     │              └─informatica_servicio cliente_server_microsoft_servicios\n",
      "     │                   ├─■──administracion operacion equipos_operacion equipos_equipos procesos_procesos equipos_operacion maqui ── Topic: 64\n",
      "     │                   └─informatica_mantenimiento_programa contable_server_tecnologia\n",
      "     │                        ├─servicio cliente_cliente_servicios_server_servicio\n",
      "     │                        │    ├─■──callcenter soporte_callcenter_soporte__ ── Topic: 131\n",
      "     │                        │    └─microsoft_informatica_hardware_server_servicio cliente\n",
      "     │                        │         ├─informatica_hardware_tecnologia_microsoft_electronica\n",
      "     │                        │         │    ├─■──operador_monitoreo ejecucion_monitoreo_mecnica electrnica_ejecucion ── Topic: 216\n",
      "     │                        │         │    └─mantenimiento_informatica_hardware_gestion calidad_tecnologia\n",
      "     │                        │         │         ├─server_microsoft_web_servicio cliente_linux\n",
      "     │                        │         │         │    ├─informatica_servicio cliente_servicio_servicios_office\n",
      "     │                        │         │         │    │    ├─■──excel informes indicadores_siigo excel informes_excel informes_office dataico_datos oficina ── Topic: 226\n",
      "     │                        │         │         │    │    └─servicio cliente_server_servicios_servicio_cliente\n",
      "     │                        │         │         │    │         ├─server_microsoft_informatica_servicio cliente_linux\n",
      "     │                        │         │         │    │         │    ├─■──retail consumo masivo_consumo masivo retail_consumo masivo_retail consumo_masivo retail ── Topic: 247\n",
      "     │                        │         │         │    │         │    └─office_programa contable_informatica_gestion calidad_servicio cliente\n",
      "     │                        │         │         │    │         │         ├─analisis informacion_cobranza analisis informacion_analisis informacion contable_analisis informacio\n",
      "     │                        │         │         │    │         │         │    ├─■──analisis informacion_cobranza analisis informacion_analisis informacion contable_analisis informacio ── Topic: 123\n",
      "     │                        │         │         │    │         │         │    └─■──informacion tecnologia_tecnologia informacion_tecnologias informacion_informatica informacion_sistem ── Topic: 240\n",
      "     │                        │         │         │    │         │         └─server_linux_servicio cliente_web_microsoft\n",
      "     │                        │         │         │    │         │              ├─server_servicio cliente_microsoft_base datos_bases datos\n",
      "     │                        │         │         │    │         │              │    ├─■──laboral_laborales_trabajos_trabajo_laboral relevante ── Topic: 15\n",
      "     │                        │         │         │    │         │              │    └─servicio cliente_servicios_servicio_office_informatica\n",
      "     │                        │         │         │    │         │              │         ├─servicio cliente_servicios_servicio_server_cliente\n",
      "     │                        │         │         │    │         │              │         │    ├─servicio cliente_servicios_servicio_server_cliente\n",
      "     │                        │         │         │    │         │              │         │    │    ├─■──asegurador_seguros_fiduciario_gestion riesgos_financiero ── Topic: 246\n",
      "     │                        │         │         │    │         │              │         │    │    └─web_servicio cliente_server_servicios_cliente\n",
      "     │                        │         │         │    │         │              │         │    │         ├─informatica_server_microsoft_servicio cliente_hardware\n",
      "     │                        │         │         │    │         │              │         │    │         │    ├─servicio cliente_servicios_servicio_programa contable_office\n",
      "     │                        │         │         │    │         │              │         │    │         │    │    ├─servicio cliente_servicios_cliente_servicio_server\n",
      "     │                        │         │         │    │         │              │         │    │         │    │    │    ├─■──cloud computing_google cloud_cloud azure_entornos cloud_tipo cloud ── Topic: 55\n",
      "     │                        │         │         │    │         │              │         │    │         │    │    │    └─servicio cliente_servicio_servicios_server_cliente\n",
      "     │                        │         │         │    │         │              │         │    │         │    │    │         ├─servicio cliente_servicio_servicios_cliente_informatica\n",
      "     │                        │         │         │    │         │              │         │    │         │    │    │         │    ├─■──programa kactus_excel programa kactus_kactus_nomina kactus_nomina programa ── Topic: 239\n",
      "     │                        │         │         │    │         │              │         │    │         │    │    │         │    └─servicio cliente_servicios_cliente_servicio_server\n",
      "     │                        │         │         │    │         │              │         │    │         │    │    │         │         ├─servicio cliente_servicios_servicio_cliente_server\n",
      "     │                        │         │         │    │         │              │         │    │         │    │    │         │         │    ├─■──excel_excel excel_excel erp_excel sap_obra excel ── Topic: 3\n",
      "     │                        │         │         │    │         │              │         │    │         │    │    │         │         │    └─server_linux_informatica_servicio cliente_microsoft\n",
      "     │                        │         │         │    │         │              │         │    │         │    │    │         │         │         ├─server_servicio cliente_linux_informatica_microsoft\n",
      "     │                        │         │         │    │         │              │         │    │         │    │    │         │         │         │    ├─■──contable_contable contable_contable nomina_nomina contable_ ── Topic: 155\n",
      "     │                        │         │         │    │         │              │         │    │         │    │    │         │         │         │    └─servicio cliente_servicios_servicio_server_cliente\n",
      "     │                        │         │         │    │         │              │         │    │         │    │    │         │         │         │         ├─sql_base datos_bases datos_cliente_server\n",
      "     │                        │         │         │    │         │              │         │    │         │    │    │         │         │         │         │    ├─■──redes instalaciones_infraestructura red_cctv_diseno redes_equipos cctv ── Topic: 88\n",
      "     │                        │         │         │    │         │              │         │    │         │    │    │         │         │         │         │    └─world office_informatica_office_servicio cliente_programa contable\n",
      "     │                        │         │         │    │         │              │         │    │         │    │    │         │         │         │         │         ├─server_informatica_microsoft_servicio cliente_servicios\n",
      "     │                        │         │         │    │         │              │         │    │         │    │    │         │         │         │         │         │    ├─■──industria automotriz_automotriz_industria automotriz continente_industria_automotriz continente ── Topic: 214\n",
      "     │                        │         │         │    │         │              │         │    │         │    │    │         │         │         │         │         │    └─servicio cliente_server_servicios_cliente_informatica\n",
      "     │                        │         │         │    │         │              │         │    │         │    │    │         │         │         │         │         │         ├─informatica_server_servicio cliente_microsoft_base datos\n",
      "     │                        │         │         │    │         │              │         │    │         │    │    │         │         │         │         │         │         │    ├─■──equipos hidraulicos_hidraulicos_hidraulicas_redes hidrosanitarias_hidrosanitarias ── Topic: 79\n",
      "     │                        │         │         │    │         │              │         │    │         │    │    │         │         │         │         │         │         │    └─servicio cliente_servicio_servicios_cliente_server\n",
      "     │                        │         │         │    │         │              │         │    │         │    │    │         │         │         │         │         │         │         ├─server_informatica_microsoft_servicio cliente_servicios\n",
      "     │                        │         │         │    │         │              │         │    │         │    │    │         │         │         │         │         │         │         │    ├─■──fraude_procesos creditos verificacion_seguimiento procesos creditos_creditos verificacion_creditos v ── Topic: 235\n",
      "     │                        │         │         │    │         │              │         │    │         │    │    │         │         │         │         │         │         │         │    └─servicio cliente_servicios_cliente_servicio_server\n",
      "     │                        │         │         │    │         │              │         │    │         │    │    │         │         │         │         │         │         │         │         ├─server_linux_servicio cliente_informatica_web\n",
      "     │                        │         │         │    │         │              │         │    │         │    │    │         │         │         │         │         │         │         │         │    ├─programa contable sap_desarrollo sap_programacion abap sap_consultor sap_desarrollo sap abap\n",
      "     │                        │         │         │    │         │              │         │    │         │    │    │         │         │         │         │         │         │         │         │    │    ├─■──devops desarrollo net_programacion desarrollo_desarrollo net_desarrollo programas_desarrollo desarro ── Topic: 248\n",
      "     │                        │         │         │    │         │              │         │    │         │    │    │         │         │         │         │         │         │         │         │    │    └─programa contable sap_desarrollo sap_programacion abap sap_consultor sap_desarrollo sap abap\n",
      "     │                        │         │         │    │         │              │         │    │         │    │    │         │         │         │         │         │         │         │         │    │         ├─■──implementacion software corporativo_programacion abap sap_desempenandose desarrollador programador_p ── Topic: 18\n",
      "     │                        │         │         │    │         │              │         │    │         │    │    │         │         │         │         │         │         │         │         │    │         └─■──contable sap_sap erp_programa contable sap_sap sap_sap erp sap ── Topic: 186\n",
      "     │                        │         │         │    │         │              │         │    │         │    │    │         │         │         │         │         │         │         │         │    └─server_informatica_seguridad_servicio cliente_servicios\n",
      "     │                        │         │         │    │         │              │         │    │         │    │    │         │         │         │         │         │         │         │         │         ├─sql server_server_servicio cliente_microsoft_informatica\n",
      "     │                        │         │         │    │         │              │         │    │         │    │    │         │         │         │         │         │         │         │         │         │    ├─servicio cliente_servicios_informatica_programa contable_aplicaciones\n",
      "     │                        │         │         │    │         │              │         │    │         │    │    │         │         │         │         │         │         │         │         │         │    │    ├─servicio cliente_server_cliente_servicios_servicio\n",
      "     │                        │         │         │    │         │              │         │    │         │    │    │         │         │         │         │         │         │         │         │         │    │    │    ├─■──active directory_angular react_tecnologias angular_frontend net core_desarrollador frontend ── Topic: 184\n",
      "     │                        │         │         │    │         │              │         │    │         │    │    │         │         │         │         │         │         │         │         │         │    │    │    └─informatica_servicio cliente_server_servicios_servicio\n",
      "     │                        │         │         │    │         │              │         │    │         │    │    │         │         │         │         │         │         │         │         │         │    │    │         ├─informatica_server_servicio cliente_cliente_hardware\n",
      "     │                        │         │         │    │         │              │         │    │         │    │    │         │         │         │         │         │         │         │         │         │    │    │         │    ├─servicio cliente_cliente_mantenimiento preventivo correctivo_servicio_server\n",
      "     │                        │         │         │    │         │              │         │    │         │    │    │         │         │         │         │         │         │         │         │         │    │    │         │    │    ├─seguridad informatica_servidores_server_informatica_servicio cliente\n",
      "     │                        │         │         │    │         │              │         │    │         │    │    │         │         │         │         │         │         │         │         │         │    │    │         │    │    │    ├─■──frontend angular javascript_backend php java_angular javascript desarrollo_php java frontend_java fr ── Topic: 179\n",
      "     │                        │         │         │    │         │              │         │    │         │    │    │         │         │         │         │         │         │         │         │         │    │    │         │    │    │    └─servidores_server_servicio cliente_informatica_seguridad informatica\n",
      "     │                        │         │         │    │         │              │         │    │         │    │    │         │         │         │         │         │         │         │         │         │    │    │         │    │    │         ├─mantenimiento preventivo_mantenimiento preventivo correctivo_mantenimiento_seguridad informatica_ser\n",
      "     │                        │         │         │    │         │              │         │    │         │    │    │         │         │         │         │         │         │         │         │         │    │    │         │    │    │         │    ├─financieros contables financieros_interpretacion financieros contables_contabilidad finanzas_financi\n",
      "     │                        │         │         │    │         │              │         │    │         │    │    │         │         │         │         │         │         │         │         │         │    │    │         │    │    │         │    │    ├─■──analisis financieros_analisis financiera_analisis financiero_indicadores financieros_analisis financ ── Topic: 164\n",
      "     │                        │         │         │    │         │              │         │    │         │    │    │         │         │         │         │         │         │         │         │         │    │    │         │    │    │         │    │    └─■──administrativas financieras contables_administrativas financieras_administracion empresas contabilid ── Topic: 189\n",
      "     │                        │         │         │    │         │              │         │    │         │    │    │         │         │         │         │         │         │         │         │         │    │    │         │    │    │         │    └─seguridad informatica_informatica_servidores_hardware_server\n",
      "     │                        │         │         │    │         │              │         │    │         │    │    │         │         │         │         │         │         │         │         │         │    │    │         │    │    │         │         ├─servidores_server_linux_servicio cliente_sql server\n",
      "     │                        │         │         │    │         │              │         │    │         │    │    │         │         │         │         │         │         │         │         │         │    │    │         │    │    │         │         │    ├─■──desarrollo aplicaciones web_programacion web_programacion servicios web_web desarrollo aplicaciones_ ── Topic: 96\n",
      "     │                        │         │         │    │         │              │         │    │         │    │    │         │         │         │         │         │         │         │         │         │    │    │         │    │    │         │         │    └─mantenimiento preventivo_mantenimiento_mantenimiento preventivo correctivo_seguridad informatica_ser\n",
      "     │                        │         │         │    │         │              │         │    │         │    │    │         │         │         │         │         │         │         │         │         │    │    │         │    │    │         │         │         ├─programa contable_informatica_aplicaciones_software_servicio cliente\n",
      "     │                        │         │         │    │         │              │         │    │         │    │    │         │         │         │         │         │         │         │         │         │    │    │         │    │    │         │         │         │    ├─servicio cliente_sql server_informatica_mantenimiento equipos_seguridad informatica\n",
      "     │                        │         │         │    │         │              │         │    │         │    │    │         │         │         │         │         │         │         │         │         │    │    │         │    │    │         │         │         │    │    ├─empresas transporte carga_empresas transporte_logistica transporte_transporte logistica_transporte t\n",
      "     │                        │         │         │    │         │              │         │    │         │    │    │         │         │         │         │         │         │         │         │         │    │    │         │    │    │         │         │         │    │    │    ├─■──itinerarios flotas_flota_rutas itinerarios flotas_flotas_puertos ── Topic: 144\n",
      "     │                        │         │         │    │         │              │         │    │         │    │    │         │         │         │         │         │         │         │         │         │    │    │         │    │    │         │         │         │    │    │    └─empresas transporte carga_empresas transporte_logistica transporte_transporte logistica_gestion logi\n",
      "     │                        │         │         │    │         │              │         │    │         │    │    │         │         │         │         │         │         │         │         │         │    │    │         │    │    │         │         │         │    │    │         ├─automotrices mantenimiento_vehiculos mantenimiento_motores_automotores_motor\n",
      "     │                        │         │         │    │         │              │         │    │         │    │    │         │         │         │         │         │         │         │         │         │    │    │         │    │    │         │         │         │    │    │         │    ├─■──automotrices mantenimiento_mantenimiento maquinaria_programa mantenimiento maquinaria_mantenimiento  ── Topic: 61\n",
      "     │                        │         │         │    │         │              │         │    │         │    │    │         │         │         │         │         │         │         │         │         │    │    │         │    │    │         │         │         │    │    │         │    └─■──licencia vigente_automotrices mantenimiento_licencia_automotrices_vehiculos mantenimiento preventivo ── Topic: 51\n",
      "     │                        │         │         │    │         │              │         │    │         │    │    │         │         │         │         │         │         │         │         │         │    │    │         │    │    │         │         │         │    │    │         └─empresas transporte logistica_empresas transporte carga_empresas transporte_logistica transporte_tra\n",
      "     │                        │         │         │    │         │              │         │    │         │    │    │         │         │         │         │         │         │         │         │         │    │    │         │    │    │         │         │         │    │    │              ├─empresas transporte logistica_empresas transporte_empresas transporte carga_logistica transporte_tra\n",
      "     │                        │         │         │    │         │              │         │    │         │    │    │         │         │         │         │         │         │         │         │         │    │    │         │    │    │         │         │         │    │    │              │    ├─■──transporte_transporte transporte_transito_migracion_movilidad ── Topic: 116\n",
      "     │                        │         │         │    │         │              │         │    │         │    │    │         │         │         │         │         │         │         │         │         │    │    │         │    │    │         │         │         │    │    │              │    └─siigo empresas transporte_empresas transporte logistica_empresas transporte_empresas transporte carg\n",
      "     │                        │         │         │    │         │              │         │    │         │    │    │         │         │         │         │         │         │         │         │         │    │    │         │    │    │         │         │         │    │    │              │         ├─■──logistica transporte_transporte logistica_empresas transporte logistica_empresas transporte carga_tr ── Topic: 107\n",
      "     │                        │         │         │    │         │              │         │    │         │    │    │         │         │         │         │         │         │         │         │         │    │    │         │    │    │         │         │         │    │    │              │         └─■──empresas transporte_empresas transporte carga_excel monitoreo vehiculos_transporte publico_capacidad ── Topic: 108\n",
      "     │                        │         │         │    │         │              │         │    │         │    │    │         │         │         │         │         │         │         │         │         │    │    │         │    │    │         │         │         │    │    │              └─gestion logistica_logistica gestion_logistica gestion logistica_logistica logistica_logistica logist\n",
      "     │                        │         │         │    │         │              │         │    │         │    │    │         │         │         │         │         │         │         │         │         │    │    │         │    │    │         │         │         │    │    │                   ├─■──gestion logistica_logistica gestion_logistica gestion logistica_logistica_procesos logisticos ── Topic: 16\n",
      "     │                        │         │         │    │         │              │         │    │         │    │    │         │         │         │         │         │         │         │         │         │    │    │         │    │    │         │         │         │    │    │                   └─■──logistica_logisticas_logistico_logistica logistico_logistica logistica ── Topic: 140\n",
      "     │                        │         │         │    │         │              │         │    │         │    │    │         │         │         │         │         │         │         │         │         │    │    │         │    │    │         │         │         │    │    └─seguridad informatica_informatica_mantenimiento equipos_servicio cliente_mantenimiento preventivo\n",
      "     │                        │         │         │    │         │              │         │    │         │    │    │         │         │         │         │         │         │         │         │         │    │    │         │    │    │         │         │         │    │         ├─programa contable_programa contable world_contable programa_contable programa contable_programa siig\n",
      "     │                        │         │         │    │         │              │         │    │         │    │    │         │         │         │         │         │         │         │         │         │    │    │         │    │    │         │         │         │    │         │    ├─seguridad salud trabajo_salud ocupacional_salud trabajo_seguridad salud_gestion seguridad salud\n",
      "     │                        │         │         │    │         │              │         │    │         │    │    │         │         │         │         │         │         │         │         │         │    │    │         │    │    │         │         │         │    │         │    │    ├─seguridad salud trabajo_salud seguridad trabajo_salud ocupacional_salud trabajo_seguridad salud\n",
      "     │                        │         │         │    │         │              │         │    │         │    │    │         │         │         │         │         │         │         │         │         │    │    │         │    │    │         │         │         │    │         │    │    │    ├─salud_salud salud_salud bases_sistema salud_salud bases datos\n",
      "     │                        │         │         │    │         │              │         │    │         │    │    │         │         │         │         │         │         │         │         │         │    │    │         │    │    │         │         │         │    │         │    │    │    │    ├─■──salud_salud salud___ ── Topic: 229\n",
      "     │                        │         │         │    │         │              │         │    │         │    │    │         │         │         │         │         │         │         │         │         │    │    │         │    │    │         │         │         │    │         │    │    │    │    └─■──sistema salud_salud bases datos_salud bases_salud salud_cuentas medicas ── Topic: 29\n",
      "     │                        │         │         │    │         │              │         │    │         │    │    │         │         │         │         │         │         │         │         │         │    │    │         │    │    │         │         │         │    │         │    │    │    └─■──seguridad salud trabajo_salud seguridad trabajo_gestion seguridad trabajo_seguridad trabajo_salud tr ── Topic: 46\n",
      "     │                        │         │         │    │         │              │         │    │         │    │    │         │         │         │         │         │         │         │         │         │    │    │         │    │    │         │         │         │    │         │    │    └─■──sistema gestion sst_sst gestion_sst documentacion implementacion_gestion sst_gestion sst documentaci ── Topic: 115\n",
      "     │                        │         │         │    │         │              │         │    │         │    │    │         │         │         │         │         │         │         │         │         │    │    │         │    │    │         │         │         │    │         │    └─programa contable world_contable world office_programa contable_contable programa_contable programa \n",
      "     │                        │         │         │    │         │              │         │    │         │    │    │         │         │         │         │         │         │         │         │         │    │    │         │    │    │         │         │         │    │         │         ├─■──libranza portafolio bancario_portafolio bancario_libranza portafolio_bancario financiero_productos p ── Topic: 141\n",
      "     │                        │         │         │    │         │              │         │    │         │    │    │         │         │         │         │         │         │         │         │         │    │    │         │    │    │         │         │         │    │         │         └─contable world office_programa contable world_world office_office programa_contable world\n",
      "     │                        │         │         │    │         │              │         │    │         │    │    │         │         │         │         │         │         │         │         │         │    │    │         │    │    │         │         │         │    │         │              ├─contable world office_world office_programa contable world_office programa_contable world\n",
      "     │                        │         │         │    │         │              │         │    │         │    │    │         │         │         │         │         │         │         │         │         │    │    │         │    │    │         │         │         │    │         │              │    ├─programa contable world_contable world office_programa contable_contable programa_contable programa \n",
      "     │                        │         │         │    │         │              │         │    │         │    │    │         │         │         │         │         │         │         │         │         │    │    │         │    │    │         │         │         │    │         │              │    │    ├─credito cartera_cartera credito_credito libranza_buros credito_credito\n",
      "     │                        │         │         │    │         │              │         │    │         │    │    │         │         │         │         │         │         │         │         │         │    │    │         │    │    │         │         │         │    │         │              │    │    │    ├─■──credito hipotecario_creditos hipotecarios_radicacion creditos hipotecarios_hipotecario_creditos hipo ── Topic: 105\n",
      "     │                        │         │         │    │         │              │         │    │         │    │    │         │         │         │         │         │         │         │         │         │    │    │         │    │    │         │         │         │    │         │              │    │    │    └─credito cartera_cartera credito_credito libranza_buros credito_credito\n",
      "     │                        │         │         │    │         │              │         │    │         │    │    │         │         │         │         │         │         │         │         │         │    │    │         │    │    │         │         │         │    │         │              │    │    │         ├─■──creditos verificacion_seguimiento solicitudes_seguimiento procesos_credito analisis_seguimiento oper ── Topic: 1\n",
      "     │                        │         │         │    │         │              │         │    │         │    │    │         │         │         │         │         │         │         │         │         │    │    │         │    │    │         │         │         │    │         │              │    │    │         └─■──credito excel_documentos estudios credito_estudio creditos_credito procesos_facturacion notas credit ── Topic: 133\n",
      "     │                        │         │         │    │         │              │         │    │         │    │    │         │         │         │         │         │         │         │         │         │    │    │         │    │    │         │         │         │    │         │              │    │    └─contable world office_world office programa_world office_programa contable world_programa world\n",
      "     │                        │         │         │    │         │              │         │    │         │    │    │         │         │         │         │         │         │         │         │         │    │    │         │    │    │         │         │         │    │         │              │    │         ├─■──contables cuentas_cuentas cobrar cuentas_cuentas pagar legalizaciones_cobrar cuentas pagar_cuentas c ── Topic: 236\n",
      "     │                        │         │         │    │         │              │         │    │         │    │    │         │         │         │         │         │         │         │         │         │    │    │         │    │    │         │         │         │    │         │              │    │         └─contable world office_world office programa_programa contable world_world office_programa world\n",
      "     │                        │         │         │    │         │              │         │    │         │    │    │         │         │         │         │         │         │         │         │         │    │    │         │    │    │         │         │         │    │         │              │    │              ├─contable world office_programa world office_world office programa_world office_programa contable wor\n",
      "     │                        │         │         │    │         │              │         │    │         │    │    │         │         │         │         │         │         │         │         │         │    │    │         │    │    │         │         │         │    │         │              │    │              │    ├─contable world office_programa world office_world office programa_world office_programa contable wor\n",
      "     │                        │         │         │    │         │              │         │    │         │    │    │         │         │         │         │         │         │         │         │         │    │    │         │    │    │         │         │         │    │         │              │    │              │    │    ├─contable world office_programa world office_world office programa_world office_programa contable wor\n",
      "     │                        │         │         │    │         │              │         │    │         │    │    │         │         │         │         │         │         │         │         │         │    │    │         │    │    │         │         │         │    │         │              │    │              │    │    │    ├─programa contable world_contable world office_programa world office_world office programa_programa c\n",
      "     │                        │         │         │    │         │              │         │    │         │    │    │         │         │         │         │         │         │         │         │         │    │    │         │    │    │         │         │         │    │         │              │    │              │    │    │    │    ├─■──contabilidad_siigo contabilidad_nomina contabilidad_contabilidad cuentas_auxiliar contabilidad ── Topic: 50\n",
      "     │                        │         │         │    │         │              │         │    │         │    │    │         │         │         │         │         │         │         │         │         │    │    │         │    │    │         │         │         │    │         │              │    │              │    │    │    │    └─contable world office_programa world office_world office programa_programa contable world_world offi\n",
      "     │                        │         │         │    │         │              │         │    │         │    │    │         │         │         │         │         │         │         │         │         │    │    │         │    │    │         │         │         │    │         │              │    │              │    │    │    │         ├─contable world office_programa world office_world office programa_world office_programa contable wor\n",
      "     │                        │         │         │    │         │              │         │    │         │    │    │         │         │         │         │         │         │         │         │         │    │    │         │    │    │         │         │         │    │         │              │    │              │    │    │    │         │    ├─contable world office_programa world office_world office programa_programa contable world_world offi\n",
      "     │                        │         │         │    │         │              │         │    │         │    │    │         │         │         │         │         │         │         │         │         │    │    │         │    │    │         │         │         │    │         │              │    │              │    │    │    │         │    │    ├─contable world office_programa world office_world office programa_world office_programa contable wor\n",
      "     │                        │         │         │    │         │              │         │    │         │    │    │         │         │         │         │         │         │         │         │         │    │    │         │    │    │         │         │         │    │         │              │    │              │    │    │    │         │    │    │    ├─contable world office_programa world office_world office programa_world office_programa contable wor\n",
      "     │                        │         │         │    │         │              │         │    │         │    │    │         │         │         │         │         │         │         │         │         │    │    │         │    │    │         │         │         │    │         │              │    │              │    │    │    │         │    │    │    │    ├─excel word powerpoint_word excel powerpoint_word excel power_excel word power_office word excel\n",
      "     │                        │         │         │    │         │              │         │    │         │    │    │         │         │         │         │         │         │         │         │         │    │    │         │    │    │         │         │         │    │         │              │    │              │    │    │    │         │    │    │    │    │    ├─■──datos gestion_administrativa operativa_bases datos gestion_gestion bases datos_tareas administrativa ── Topic: 146\n",
      "     │                        │         │         │    │         │              │         │    │         │    │    │         │         │         │         │         │         │         │         │         │    │    │         │    │    │         │         │         │    │         │              │    │              │    │    │    │         │    │    │    │    │    └─word excel_excel word_office excel word_office word excel_excel word excel\n",
      "     │                        │         │         │    │         │              │         │    │         │    │    │         │         │         │         │         │         │         │         │         │    │    │         │    │    │         │         │         │    │         │              │    │              │    │    │    │         │    │    │    │    │         ├─■──excel word powerpoint_word excel powerpoint_excel word power_word excel power_excel power point ── Topic: 34\n",
      "     │                        │         │         │    │         │              │         │    │         │    │    │         │         │         │         │         │         │         │         │         │    │    │         │    │    │         │         │         │    │         │              │    │              │    │    │    │         │    │    │    │    │         └─word office excel_word excel_office word excel_word excel programas_office excel word\n",
      "     │                        │         │         │    │         │              │         │    │         │    │    │         │         │         │         │         │         │         │         │         │    │    │         │    │    │         │         │         │    │         │              │    │              │    │    │    │         │    │    │    │    │              ├─■──word excel programas_word excel_excel word excel_excel word_word excel gestion ── Topic: 78\n",
      "     │                        │         │         │    │         │              │         │    │         │    │    │         │         │         │         │         │         │         │         │         │    │    │         │    │    │         │         │         │    │         │              │    │              │    │    │    │         │    │    │    │    │              └─■──word office_word office programa_word office programas_word office excel_contable word office ── Topic: 134\n",
      "     │                        │         │         │    │         │              │         │    │         │    │    │         │         │         │         │         │         │         │         │         │    │    │         │    │    │         │         │         │    │         │              │    │              │    │    │    │         │    │    │    │    └─contable world office_programa world office_world office programa_world office_programa contable wor\n",
      "     │                        │         │         │    │         │              │         │    │         │    │    │         │         │         │         │         │         │         │         │         │    │    │         │    │    │         │         │         │    │         │              │    │              │    │    │    │         │    │    │    │         ├─contable world office_programa world office_world office programa_world office_programa contable wor\n",
      "     │                        │         │         │    │         │              │         │    │         │    │    │         │         │         │         │         │         │         │         │         │    │    │         │    │    │         │         │         │    │         │              │    │              │    │    │    │         │    │    │    │         │    ├─contable world office_programa world office_world office programa_world office_programa contable wor\n",
      "     │                        │         │         │    │         │              │         │    │         │    │    │         │         │         │         │         │         │         │         │         │    │    │         │    │    │         │         │         │    │         │              │    │              │    │    │    │         │    │    │    │         │    │    ├─■──cartera atencion cliente_clientes excel_atencion clientes_clientes_programa contable facturacion ── Topic: 62\n",
      "     │                        │         │         │    │         │              │         │    │         │    │    │         │         │         │         │         │         │         │         │         │    │    │         │    │    │         │         │         │    │         │              │    │              │    │    │    │         │    │    │    │         │    │    └─contable world office_programa world office_world office programa_world office_programa contable wor\n",
      "     │                        │         │         │    │         │              │         │    │         │    │    │         │         │         │         │         │         │         │         │         │    │    │         │    │    │         │         │         │    │         │              │    │              │    │    │    │         │    │    │    │         │    │         ├─programas contables_contables programas_programas contables programas_contables programas contables_\n",
      "     │                        │         │         │    │         │              │         │    │         │    │    │         │         │         │         │         │         │         │         │         │    │    │         │    │    │         │         │         │    │         │              │    │              │    │    │    │         │    │    │    │         │    │         │    ├─programas contables_programas contables programa_contables programas_programas contables programas_c\n",
      "     │                        │         │         │    │         │              │         │    │         │    │    │         │         │         │         │         │         │         │         │         │    │    │         │    │    │         │         │         │    │         │              │    │              │    │    │    │         │    │    │    │         │    │         │    │    ├─■──programas contables excel_excel programas contables_contables excel_excel programas_tablas excel pro ── Topic: 57\n",
      "     │                        │         │         │    │         │              │         │    │         │    │    │         │         │         │         │         │         │         │         │         │    │    │         │    │    │         │         │         │    │         │              │    │              │    │    │    │         │    │    │    │         │    │         │    │    └─■──programas contables_programas contables programa_contables programas_programas contables programas_s ── Topic: 33\n",
      "     │                        │         │         │    │         │              │         │    │         │    │    │         │         │         │         │         │         │         │         │         │    │    │         │    │    │         │         │         │    │         │              │    │              │    │    │    │         │    │    │    │         │    │         │    └─■──procesos contables_contables sistema_contables_basicos contables_reas contables ── Topic: 89\n",
      "     │                        │         │         │    │         │              │         │    │         │    │    │         │         │         │         │         │         │         │         │         │    │    │         │    │    │         │         │         │    │         │              │    │              │    │    │    │         │    │    │    │         │    │         └─contable world office_programa world office_world office programa_world office_programa contable wor\n",
      "     │                        │         │         │    │         │              │         │    │         │    │    │         │         │         │         │         │         │         │         │         │    │    │         │    │    │         │         │         │    │         │              │    │              │    │    │    │         │    │    │    │         │    │              ├─■──contables impuestos_contabilidad tributaria_impuestos programa_nomina impuestos_impuestos nomina ── Topic: 43\n",
      "     │                        │         │         │    │         │              │         │    │         │    │    │         │         │         │         │         │         │         │         │         │    │    │         │    │    │         │         │         │    │         │              │    │              │    │    │    │         │    │    │    │         │    │              └─contable world office_programa world office_world office programa_world office_programa contable wor\n",
      "     │                        │         │         │    │         │              │         │    │         │    │    │         │         │         │         │         │         │         │         │         │    │    │         │    │    │         │         │         │    │         │              │    │              │    │    │    │         │    │    │    │         │    │                   ├─■──contable world office_programa world office_world office programa_world office_world office facturac ── Topic: 13\n",
      "     │                        │         │         │    │         │              │         │    │         │    │    │         │         │         │         │         │         │         │         │         │    │    │         │    │    │         │         │         │    │         │              │    │              │    │    │    │         │    │    │    │         │    │                   └─conciliaciones bancarias facturacion_facturacion conciliaciones bancarias_contables conciliaciones b\n",
      "     │                        │         │         │    │         │              │         │    │         │    │    │         │         │         │         │         │         │         │         │         │    │    │         │    │    │         │         │         │    │         │              │    │              │    │    │    │         │    │    │    │         │    │                        ├─cuentas conciliaciones bancarias_conciliaciones bancarias facturacion_contables conciliaciones banca\n",
      "     │                        │         │         │    │         │              │         │    │         │    │    │         │         │         │         │         │         │         │         │         │    │    │         │    │    │         │         │         │    │         │              │    │              │    │    │    │         │    │    │    │         │    │                        │    ├─■──impuestos conciliaciones bancarias_conciliaciones bancarias impuestos_bancarias impuestos_liquidacio ── Topic: 36\n",
      "     │                        │         │         │    │         │              │         │    │         │    │    │         │         │         │         │         │         │         │         │         │    │    │         │    │    │         │         │         │    │         │              │    │              │    │    │    │         │    │    │    │         │    │                        │    └─conciliaciones bancarias facturacion_contables conciliaciones bancarias_proveedores conciliaciones b\n",
      "     │                        │         │         │    │         │              │         │    │         │    │    │         │         │         │         │         │         │         │         │         │    │    │         │    │    │         │         │         │    │         │              │    │              │    │    │    │         │    │    │    │         │    │                        │         ├─■──conciliaciones bancarias contabilidad_contables conciliaciones bancarias_nomina conciliaciones banca ── Topic: 10\n",
      "     │                        │         │         │    │         │              │         │    │         │    │    │         │         │         │         │         │         │         │         │         │    │    │         │    │    │         │         │         │    │         │              │    │              │    │    │    │         │    │    │    │         │    │                        │         └─■──contables programa contable_contable contables_gastos contabilizacion nomina_contabilizacion factura ── Topic: 127\n",
      "     │                        │         │         │    │         │              │         │    │         │    │    │         │         │         │         │         │         │         │         │         │    │    │         │    │    │         │         │         │    │         │              │    │              │    │    │    │         │    │    │    │         │    │                        └─■──conciliaciones bancarias causacion_egresos conciliaciones bancarias_conciliaciones bancarias sistema ── Topic: 104\n",
      "     │                        │         │         │    │         │              │         │    │         │    │    │         │         │         │         │         │         │         │         │         │    │    │         │    │    │         │         │         │    │         │              │    │              │    │    │    │         │    │    │    │         │    └─procesos gestion calidad_gestion calidad procesos_produccion industria alimentos_implementacion gest\n",
      "     │                        │         │         │    │         │              │         │    │         │    │    │         │         │         │         │         │         │         │         │         │    │    │         │    │    │         │         │         │    │         │              │    │              │    │    │    │         │    │    │    │         │         ├─gestion calidad procesos_produccion industria alimentos_procesos gestion calidad_industria alimentos\n",
      "     │                        │         │         │    │         │              │         │    │         │    │    │         │         │         │         │         │         │         │         │         │    │    │         │    │    │         │         │         │    │         │              │    │              │    │    │    │         │    │    │    │         │         │    ├─indicadores produccion_produccion indicadores_produccion excel_excel produccion_produccion personal\n",
      "     │                        │         │         │    │         │              │         │    │         │    │    │         │         │         │         │         │         │         │         │         │    │    │         │    │    │         │         │         │    │         │              │    │              │    │    │    │         │    │    │    │         │         │    │    ├─■──indicadores produccion_produccion indicadores_produccion excel_excel produccion_produccion personal ── Topic: 135\n",
      "     │                        │         │         │    │         │              │         │    │         │    │    │         │         │         │         │         │         │         │         │         │    │    │         │    │    │         │         │         │    │         │              │    │              │    │    │    │         │    │    │    │         │         │    │    └─■──plantas produccion_produccion plantas_produccion plantas produccion_produccion planta_programacion p ── Topic: 245\n",
      "     │                        │         │         │    │         │              │         │    │         │    │    │         │         │         │         │         │         │         │         │         │    │    │         │    │    │         │         │         │    │         │              │    │              │    │    │    │         │    │    │    │         │         │    └─procesos calidad gestion_procesos gestion calidad_gestion procesos calidad_gestion calidad procesos_\n",
      "     │                        │         │         │    │         │              │         │    │         │    │    │         │         │         │         │         │         │         │         │         │    │    │         │    │    │         │         │         │    │         │              │    │              │    │    │    │         │    │    │    │         │         │         ├─industria alimentos_produccion industria alimentos_alimentos produccion_empresas alimentos_produccio\n",
      "     │                        │         │         │    │         │              │         │    │         │    │    │         │         │         │         │         │         │         │         │         │    │    │         │    │    │         │         │         │    │         │              │    │              │    │    │    │         │    │    │    │         │         │         │    ├─■──plantas produccion alimentos_alimentos plantas produccion_alimentos produccion_produccion alimentos_ ── Topic: 49\n",
      "     │                        │         │         │    │         │              │         │    │         │    │    │         │         │         │         │         │         │         │         │         │    │    │         │    │    │         │         │         │    │         │              │    │              │    │    │    │         │    │    │    │         │         │         │    └─■──gestion calidad procesos_produccion calidad_calidad procesos_procesos calidad gestion_produccion ind ── Topic: 47\n",
      "     │                        │         │         │    │         │              │         │    │         │    │    │         │         │         │         │         │         │         │         │         │    │    │         │    │    │         │         │         │    │         │              │    │              │    │    │    │         │    │    │    │         │         │         └─■──gestion calidad_calidad gestion_calidad gestion calidad_implementacion gestion calidad_sistema gesti ── Topic: 23\n",
      "     │                        │         │         │    │         │              │         │    │         │    │    │         │         │         │         │         │         │         │         │         │    │    │         │    │    │         │         │         │    │         │              │    │              │    │    │    │         │    │    │    │         │         └─■──bpm_bpm haccp_calidad bpm_informacion office_office calidad ── Topic: 238\n",
      "     │                        │         │         │    │         │              │         │    │         │    │    │         │         │         │         │         │         │         │         │         │    │    │         │    │    │         │         │         │    │         │              │    │              │    │    │    │         │    │    │    │         └─■──produccion_manufactura norma_manufactura_manufactura norma iso_produccion produccion ── Topic: 178\n",
      "     │                        │         │         │    │         │              │         │    │         │    │    │         │         │         │         │         │         │         │         │         │    │    │         │    │    │         │         │         │    │         │              │    │              │    │    │    │         │    │    │    └─excel programa contable_contable excel programa_programa contable excel_excel programa siigo_excel p\n",
      "     │                        │         │         │    │         │              │         │    │         │    │    │         │         │         │         │         │         │         │         │         │    │    │         │    │    │         │         │         │    │         │              │    │              │    │    │    │         │    │    │         ├─■──programa siesa_programa siigo_siigo programa_programa siigo programa_programa ── Topic: 72\n",
      "     │                        │         │         │    │         │              │         │    │         │    │    │         │         │         │         │         │         │         │         │         │    │    │         │    │    │         │         │         │    │         │              │    │              │    │    │    │         │    │    │         └─excel programa contable_contable excel programa_programa contable excel_excel programa siigo_excel p\n",
      "     │                        │         │         │    │         │              │         │    │         │    │    │         │         │         │         │         │         │         │         │         │    │    │         │    │    │         │         │         │    │         │              │    │              │    │    │    │         │    │    │              ├─■──programa contable_contable programa_contable siigo programa_programa contable siigo_contable program ── Topic: 58\n",
      "     │                        │         │         │    │         │              │         │    │         │    │    │         │         │         │         │         │         │         │         │         │    │    │         │    │    │         │         │         │    │         │              │    │              │    │    │    │         │    │    │              └─■──contable excel programa_programa contable excel_excel programa contable_excel programa siigo_excel p ── Topic: 19\n",
      "     │                        │         │         │    │         │              │         │    │         │    │    │         │         │         │         │         │         │         │         │         │    │    │         │    │    │         │         │         │    │         │              │    │              │    │    │    │         │    │    └─■──mejoramiento sistema gestion_sistema gestion_sistema integrado gestion_implementacion gestion mejora ── Topic: 59\n",
      "     │                        │         │         │    │         │              │         │    │         │    │    │         │         │         │         │         │         │         │         │         │    │    │         │    │    │         │         │         │    │         │              │    │              │    │    │    │         │    └─iso iso normas_integrados_iso normas iso_integrados gestion_iso normas\n",
      "     │                        │         │         │    │         │              │         │    │         │    │    │         │         │         │         │         │         │         │         │         │    │    │         │    │    │         │         │         │    │         │              │    │              │    │    │    │         │         ├─iso iso normas_normas tecnicas iso_integrados_iso normas iso_integrados gestion\n",
      "     │                        │         │         │    │         │              │         │    │         │    │    │         │         │         │         │         │         │         │         │         │    │    │         │    │    │         │         │         │    │         │              │    │              │    │    │    │         │         │    ├─iso iso normas_iso normas sgc_integrados_iso normas iso_integrados gestion\n",
      "     │                        │         │         │    │         │              │         │    │         │    │    │         │         │         │         │         │         │         │         │         │    │    │         │    │    │         │         │         │    │         │              │    │              │    │    │    │         │         │    │    ├─■──normas iso_normas iso iso_iso normas_iso normas iso_norma iso ── Topic: 190\n",
      "     │                        │         │         │    │         │              │         │    │         │    │    │         │         │         │         │         │         │         │         │         │    │    │         │    │    │         │         │         │    │         │              │    │              │    │    │    │         │         │    │    └─■──iso iso normas_integrados_iso normas iso_integrados gestion_iso normas ── Topic: 193\n",
      "     │                        │         │         │    │         │              │         │    │         │    │    │         │         │         │         │         │         │         │         │         │    │    │         │    │    │         │         │         │    │         │              │    │              │    │    │    │         │         │    └─■──continua indicadores gestion_implementacion mantenimiento mejora_diseno implementacion mantenimiento ── Topic: 99\n",
      "     │                        │         │         │    │         │              │         │    │         │    │    │         │         │         │         │         │         │         │         │         │    │    │         │    │    │         │         │         │    │         │              │    │              │    │    │    │         │         └─riesgos gestion_gestion riesgos_riesgos gestin_gestin riesgos gestin_gestin riesgos\n",
      "     │                        │         │         │    │         │              │         │    │         │    │    │         │         │         │         │         │         │         │         │         │    │    │         │    │    │         │         │         │    │         │              │    │              │    │    │    │         │              ├─■──gestion riesgos gestion_riesgos gestion_gestion riesgos_gestion riesgo_gestin riesgos gestin ── Topic: 68\n",
      "     │                        │         │         │    │         │              │         │    │         │    │    │         │         │         │         │         │         │         │         │         │    │    │         │    │    │         │         │         │    │         │              │    │              │    │    │    │         │              └─■──gestion riesgos_centrales riesgo_riesgo_riesgos_riesgos analisis ── Topic: 227\n",
      "     │                        │         │         │    │         │              │         │    │         │    │    │         │         │         │         │         │         │         │         │         │    │    │         │    │    │         │         │         │    │         │              │    │              │    │    │    │         └─■──legislacin laboral_laboral legislacion_legislacion laboral_normatividad aduanera_comercio ── Topic: 45\n",
      "     │                        │         │         │    │         │              │         │    │         │    │    │         │         │         │         │         │         │         │         │         │    │    │         │    │    │         │         │         │    │         │              │    │              │    │    │    └─■──programacion plc_programa sap_programacin_programa siesa_siesa sistema ── Topic: 181\n",
      "     │                        │         │         │    │         │              │         │    │         │    │    │         │         │         │         │         │         │         │         │         │    │    │         │    │    │         │         │         │    │         │              │    │              │    │    └─■──programacion equipos produccion_maquinas produccion_programacion produccion_industrial procesos_proc ── Topic: 38\n",
      "     │                        │         │         │    │         │              │         │    │         │    │    │         │         │         │         │         │         │         │         │         │    │    │         │    │    │         │         │         │    │         │              │    │              │    └─■──control calidad_calidad producto_producto analisis_gestion calidad_ejecutar pruebas ── Topic: 156\n",
      "     │                        │         │         │    │         │              │         │    │         │    │    │         │         │         │         │         │         │         │         │         │    │    │         │    │    │         │         │         │    │         │              │    │              └─■──auditorias internas_clientes internos_clientes internos externos_gestion_contaduria publica ── Topic: 243\n",
      "     │                        │         │         │    │         │              │         │    │         │    │    │         │         │         │         │         │         │         │         │         │    │    │         │    │    │         │         │         │    │         │              │    └─programacion maquinas cnc_maquinas cnc_centro mecanizado control_programacion maquinas_cnc programac\n",
      "     │                        │         │         │    │         │              │         │    │         │    │    │         │         │         │         │         │         │         │         │         │    │    │         │    │    │         │         │         │    │         │              │         ├─■──programacion maquinas_programacion equipos produccion_manufactura programacion_software hardware_dis ── Topic: 109\n",
      "     │                        │         │         │    │         │              │         │    │         │    │    │         │         │         │         │         │         │         │         │         │    │    │         │    │    │         │         │         │    │         │              │         └─■──programacion maquinas cnc_maquinas cnc_centro mecanizado control_cnc programacion_programacion maqui ── Topic: 17\n",
      "     │                        │         │         │    │         │              │         │    │         │    │    │         │         │         │         │         │         │         │         │         │    │    │         │    │    │         │         │         │    │         │              └─plasticos_plastico_piezas moldes_moldes_plastico plantas produccion\n",
      "     │                        │         │         │    │         │              │         │    │         │    │    │         │         │         │         │         │         │         │         │         │    │    │         │    │    │         │         │         │    │         │                   ├─■──moldes troqueles_moldes_materiales_fabricacion_piezas ── Topic: 198\n",
      "     │                        │         │         │    │         │              │         │    │         │    │    │         │         │         │         │         │         │         │         │         │    │    │         │    │    │         │         │         │    │         │                   └─■──plasticos_plastico_piezas moldes_plastico plantas produccion_moldes ── Topic: 101\n",
      "     │                        │         │         │    │         │              │         │    │         │    │    │         │         │         │         │         │         │         │         │         │    │    │         │    │    │         │         │         │    │         └─mesa ayuda soporte_soporte mesa_mesa ayuda_sql server_servidores\n",
      "     │                        │         │         │    │         │              │         │    │         │    │    │         │         │         │         │         │         │         │         │         │    │    │         │    │    │         │         │         │    │              ├─■──tecnologico_tecnologicos_tecnologia_tecnolgica_tecnologias ── Topic: 111\n",
      "     │                        │         │         │    │         │              │         │    │         │    │    │         │         │         │         │         │         │         │         │         │    │    │         │    │    │         │         │         │    │              └─servidores_seguridad informatica_server_software hardware_hardware software\n",
      "     │                        │         │         │    │         │              │         │    │         │    │    │         │         │         │         │         │         │         │         │         │    │    │         │    │    │         │         │         │    │                   ├─servidores_server_software hardware_hardware software_seguridad informatica\n",
      "     │                        │         │         │    │         │              │         │    │         │    │    │         │         │         │         │         │         │         │         │         │    │    │         │    │    │         │         │         │    │                   │    ├─servidores_seguridad informatica_server_software hardware_hardware software\n",
      "     │                        │         │         │    │         │              │         │    │         │    │    │         │         │         │         │         │         │         │         │         │    │    │         │    │    │         │         │         │    │                   │    │    ├─■──web development_servicios web_services web_services web apis_web apis ── Topic: 234\n",
      "     │                        │         │         │    │         │              │         │    │         │    │    │         │         │         │         │         │         │         │         │         │    │    │         │    │    │         │         │         │    │                   │    │    └─mantenimiento equipos_servidores_software hardware_hardware software_server\n",
      "     │                        │         │         │    │         │              │         │    │         │    │    │         │         │         │         │         │         │         │         │         │    │    │         │    │    │         │         │         │    │                   │    │         ├─■──administracion infraestructura redes_gestion redes infraestructura_infraestructura servidores_infrae ── Topic: 93\n",
      "     │                        │         │         │    │         │              │         │    │         │    │    │         │         │         │         │         │         │         │         │         │    │    │         │    │    │         │         │         │    │                   │    │         └─mantenimiento equipos_seguridad informatica_mantenimiento preventivo_servidores_mantenimiento\n",
      "     │                        │         │         │    │         │              │         │    │         │    │    │         │         │         │         │         │         │         │         │         │    │    │         │    │    │         │         │         │    │                   │    │              ├─■──procesos pruebas_pruebas software_frameworks pruebas_pruebas programacion_pruebas funcionales ── Topic: 11\n",
      "     │                        │         │         │    │         │              │         │    │         │    │    │         │         │         │         │         │         │         │         │         │    │    │         │    │    │         │         │         │    │                   │    │              └─servidores_seguridad informatica_server_software hardware_servicio cliente center\n",
      "     │                        │         │         │    │         │              │         │    │         │    │    │         │         │         │         │         │         │         │         │         │    │    │         │    │    │         │         │         │    │                   │    │                   ├─seguridad informatica_servidores_server_software hardware_hardware software\n",
      "     │                        │         │         │    │         │              │         │    │         │    │    │         │         │         │         │         │         │         │         │         │    │    │         │    │    │         │         │         │    │                   │    │                   │    ├─servidores_seguridad informatica_server_software hardware_servicio cliente center\n",
      "     │                        │         │         │    │         │              │         │    │         │    │    │         │         │         │         │         │         │         │         │         │    │    │         │    │    │         │         │         │    │                   │    │                   │    │    ├─redes seguridad informatica_seguridad informatica_informatica seguridad_ciberseguridad seguridad_seg\n",
      "     │                        │         │         │    │         │              │         │    │         │    │    │         │         │         │         │         │         │         │         │         │    │    │         │    │    │         │         │         │    │                   │    │                   │    │    │    ├─■──firewall redes servidores_fortigate firewall redes_firewall consolas antivirus_firewall redes_antivi ── Topic: 128\n",
      "     │                        │         │         │    │         │              │         │    │         │    │    │         │         │         │         │         │         │         │         │         │    │    │         │    │    │         │         │         │    │                   │    │                   │    │    │    └─redes seguridad informatica_seguridad informatica seguridad_seguridad informatica_informatica seguri\n",
      "     │                        │         │         │    │         │              │         │    │         │    │    │         │         │         │         │         │         │         │         │         │    │    │         │    │    │         │         │         │    │                   │    │                   │    │    │         ├─redes seguridad informatica_seguridad informatica seguridad_informatica seguridad_seguridad informat\n",
      "     │                        │         │         │    │         │              │         │    │         │    │    │         │         │         │         │         │         │         │         │         │    │    │         │    │    │         │         │         │    │                   │    │                   │    │    │         │    ├─■──firewall consolas antivirus_firewall security_ciberseguridad seguridad_ciberseguridad seguridad nube ── Topic: 192\n",
      "     │                        │         │         │    │         │              │         │    │         │    │    │         │         │         │         │         │         │         │         │         │    │    │         │    │    │         │         │         │    │                   │    │                   │    │    │         │    └─infraestructura seguridad informatica_redes seguridad informatica_seguridad informatica redes_tecnol\n",
      "     │                        │         │         │    │         │              │         │    │         │    │    │         │         │         │         │         │         │         │         │         │    │    │         │    │    │         │         │         │    │                   │    │                   │    │    │         │         ├─■──redes seguridad informatica_seguridad informatica redes_infraestructura seguridad informatica_seguri ── Topic: 4\n",
      "     │                        │         │         │    │         │              │         │    │         │    │    │         │         │         │         │         │         │         │         │         │    │    │         │    │    │         │         │         │    │                   │    │                   │    │    │         │         └─■──gestion backups_correos backups mantenimiento_redes seguridad informatica_backups mantenimiento prev ── Topic: 65\n",
      "     │                        │         │         │    │         │              │         │    │         │    │    │         │         │         │         │         │         │         │         │         │    │    │         │    │    │         │         │         │    │                   │    │                   │    │    │         └─■──informatica_informaticas_informaticos_informatica informatica_computo informatica ── Topic: 110\n",
      "     │                        │         │         │    │         │              │         │    │         │    │    │         │         │         │         │         │         │         │         │         │    │    │         │    │    │         │         │         │    │                   │    │                   │    │    └─mantenimiento equipos_seguridad electronica_mantenimiento preventivo_mantenimiento preventivo correc\n",
      "     │                        │         │         │    │         │              │         │    │         │    │    │         │         │         │         │         │         │         │         │         │    │    │         │    │    │         │         │         │    │                   │    │                   │    │         ├─mantenimiento equipos_mantenimiento preventivo_mantenimiento preventivo correctivo_mantenimiento_seg\n",
      "     │                        │         │         │    │         │              │         │    │         │    │    │         │         │         │         │         │         │         │         │         │    │    │         │    │    │         │         │         │    │                   │    │                   │    │         │    ├─■──telecomunicaciones electronicos electricos_telecomunicaciones electronica_telecomunicaciones electro ── Topic: 242\n",
      "     │                        │         │         │    │         │              │         │    │         │    │    │         │         │         │         │         │         │         │         │         │    │    │         │    │    │         │         │         │    │                   │    │                   │    │         │    └─server_software hardware_servicio cliente center_hardware software_datos sql server\n",
      "     │                        │         │         │    │         │              │         │    │         │    │    │         │         │         │         │         │         │         │         │         │    │    │         │    │    │         │         │         │    │                   │    │                   │    │         │         ├─seguridad electronica_mantenimiento equipos_seguridad_mantenimiento preventivo_mantenimiento prevent\n",
      "     │                        │         │         │    │         │              │         │    │         │    │    │         │         │         │         │         │         │         │         │         │    │    │         │    │    │         │         │         │    │                   │    │                   │    │         │         │    ├─mantenimiento equipos computo_mantenimiento equipos_mantenimiento preventivo_software hardware_hardw\n",
      "     │                        │         │         │    │         │              │         │    │         │    │    │         │         │         │         │         │         │         │         │         │    │    │         │    │    │         │         │         │    │                   │    │                   │    │         │         │    │    ├─electricidad_electrica_electricas_electricista_electrico\n",
      "     │                        │         │         │    │         │              │         │    │         │    │    │         │         │         │         │         │         │         │         │         │    │    │         │    │    │         │         │         │    │                   │    │                   │    │         │         │    │    │    ├─■──electricidad_electrico_electricos_power_power builder ── Topic: 176\n",
      "     │                        │         │         │    │         │              │         │    │         │    │    │         │         │         │         │         │         │         │         │         │    │    │         │    │    │         │         │         │    │                   │    │                   │    │         │         │    │    │    └─■──electronica electricidad_electricos electronicos_mantenimiento electrico_sistema electrico_electrica ── Topic: 66\n",
      "     │                        │         │         │    │         │              │         │    │         │    │    │         │         │         │         │         │         │         │         │         │    │    │         │    │    │         │         │         │    │                   │    │                   │    │         │         │    │    └─windows server_sitio soporte_server_soporte sitio_software hardware\n",
      "     │                        │         │         │    │         │              │         │    │         │    │    │         │         │         │         │         │         │         │         │         │    │    │         │    │    │         │         │         │    │                   │    │                   │    │         │         │    │         ├─soporte mesa ayuda_mesa ayuda soporte_soporte mesa_mesa ayuda_seguridad electronica\n",
      "     │                        │         │         │    │         │              │         │    │         │    │    │         │         │         │         │         │         │         │         │         │    │    │         │    │    │         │         │         │    │                   │    │                   │    │         │         │    │         │    ├─seguridad electronica_atencion servicios tecnicos_servicios tecnicos_windows server_server\n",
      "     │                        │         │         │    │         │              │         │    │         │    │    │         │         │         │         │         │         │         │         │         │    │    │         │    │    │         │         │         │    │                   │    │                   │    │         │         │    │         │    │    ├─mantenimiento equipos computo_mantenimiento equipos_mantenimiento preventivo_seguridad electronica_m\n",
      "     │                        │         │         │    │         │              │         │    │         │    │    │         │         │         │         │         │         │         │         │         │    │    │         │    │    │         │         │         │    │                   │    │                   │    │         │         │    │         │    │    │    ├─■──cliente soporte_atender requerimientos_soporte usuario_aplicaciones atencion usuario_usuarios soport ── Topic: 212\n",
      "     │                        │         │         │    │         │              │         │    │         │    │    │         │         │         │         │         │         │         │         │         │    │    │         │    │    │         │         │         │    │                   │    │                   │    │         │         │    │         │    │    │    └─windows server_server_sitio soporte_servicio cliente center_soporte mesa ayuda\n",
      "     │                        │         │         │    │         │              │         │    │         │    │    │         │         │         │         │         │         │         │         │         │    │    │         │    │    │         │         │         │    │                   │    │                   │    │         │         │    │         │    │    │         ├─windows server_atencion servicios tecnicos_servicios tecnicos_server_servicio cliente center\n",
      "     │                        │         │         │    │         │              │         │    │         │    │    │         │         │         │         │         │         │         │         │         │    │    │         │    │    │         │         │         │    │                   │    │                   │    │         │         │    │         │    │    │         │    ├─windows server_server_sitio soporte_atencion servicios tecnicos_soporte sitio\n",
      "     │                        │         │         │    │         │              │         │    │         │    │    │         │         │         │         │         │         │         │         │         │    │    │         │    │    │         │         │         │    │                   │    │                   │    │         │         │    │         │    │    │         │    │    ├─soporte sitio soporte_server_sitio soporte_windows server_software hardware\n",
      "     │                        │         │         │    │         │              │         │    │         │    │    │         │         │         │         │         │         │         │         │         │    │    │         │    │    │         │         │         │    │                   │    │                   │    │         │         │    │         │    │    │         │    │    │    ├─sql server_datos sql server_bases datos oracle_base datos sql_bases datos sql\n",
      "     │                        │         │         │    │         │              │         │    │         │    │    │         │         │         │         │         │         │         │         │         │    │    │         │    │    │         │         │         │    │                   │    │                   │    │         │         │    │         │    │    │         │    │    │    │    ├─datos sql server_sql server_base datos sql_bases datos sql_sql bases datos\n",
      "     │                        │         │         │    │         │              │         │    │         │    │    │         │         │         │         │         │         │         │         │         │    │    │         │    │    │         │         │         │    │                   │    │                   │    │         │         │    │         │    │    │         │    │    │    │    │    ├─sql java servicios_sql server_datos oracle sql_oracle sql_base datos oracle\n",
      "     │                        │         │         │    │         │              │         │    │         │    │    │         │         │         │         │         │         │         │         │         │    │    │         │    │    │         │         │         │    │                   │    │                   │    │         │         │    │         │    │    │         │    │    │    │    │    │    ├─html css javascript_css web services_javascript html css_css javascript_css javascript jquery\n",
      "     │                        │         │         │    │         │              │         │    │         │    │    │         │         │         │         │         │         │         │         │         │    │    │         │    │    │         │         │         │    │                   │    │                   │    │         │         │    │         │    │    │         │    │    │    │    │    │    │    ├─css web services_css javascript_html css javascript_javascript html css_javascript sql\n",
      "     │                        │         │         │    │         │              │         │    │         │    │    │         │         │         │         │         │         │         │         │         │    │    │         │    │    │         │         │         │    │                   │    │                   │    │         │         │    │         │    │    │         │    │    │    │    │    │    │    │    ├─css javascript_html css javascript_javascript css_sql html_css html\n",
      "     │                        │         │         │    │         │              │         │    │         │    │    │         │         │         │         │         │         │         │         │         │    │    │         │    │    │         │         │         │    │                   │    │                   │    │         │         │    │         │    │    │         │    │    │    │    │    │    │    │    │    ├─■──css bootstrap_html css_usabilidad html css_javascript framework_html css javascript ── Topic: 200\n",
      "     │                        │         │         │    │         │              │         │    │         │    │    │         │         │         │         │         │         │         │         │         │    │    │         │    │    │         │         │         │    │                   │    │                   │    │         │         │    │         │    │    │         │    │    │    │    │    │    │    │    │    └─css web services_mysql html css_css javascript_html css javascript_javascript html css\n",
      "     │                        │         │         │    │         │              │         │    │         │    │    │         │         │         │         │         │         │         │         │         │    │    │         │    │    │         │         │         │    │                   │    │                   │    │         │         │    │         │    │    │         │    │    │    │    │    │    │    │    │         ├─■──javascript html css_html css javascript_html css_css html_javascript css ── Topic: 231\n",
      "     │                        │         │         │    │         │              │         │    │         │    │    │         │         │         │         │         │         │         │         │         │    │    │         │    │    │         │         │         │    │                   │    │                   │    │         │         │    │         │    │    │         │    │    │    │    │    │    │    │    │         └─■──css web services_mysql html css_css javascript_html css javascript_sql html ── Topic: 223\n",
      "     │                        │         │         │    │         │              │         │    │         │    │    │         │         │         │         │         │         │         │         │         │    │    │         │    │    │         │         │         │    │                   │    │                   │    │         │         │    │         │    │    │         │    │    │    │    │    │    │    │    └─■──html css mysql_css mysql wordpress_css mysql_jquery mysql_javascript html css ── Topic: 207\n",
      "     │                        │         │         │    │         │              │         │    │         │    │    │         │         │         │         │         │         │         │         │         │    │    │         │    │    │         │         │         │    │                   │    │                   │    │         │         │    │         │    │    │         │    │    │    │    │    │    │    └─php framework laravel_php framework_aplicaciones web php_php desarrollo aplicaciones_desarrollo apli\n",
      "     │                        │         │         │    │         │              │         │    │         │    │    │         │         │         │         │         │         │         │         │         │    │    │         │    │    │         │         │         │    │                   │    │                   │    │         │         │    │         │    │    │         │    │    │    │    │    │    │         ├─■──programacion web php_php programacion_programador php_software php_aplicaciones php ── Topic: 98\n",
      "     │                        │         │         │    │         │              │         │    │         │    │    │         │         │         │         │         │         │         │         │         │    │    │         │    │    │         │         │         │    │                   │    │                   │    │         │         │    │         │    │    │         │    │    │    │    │    │    │         └─■──php framework laravel_php framework_aplicaciones web php_php desarrollo aplicaciones_desarrollo apli ── Topic: 136\n",
      "     │                        │         │         │    │         │              │         │    │         │    │    │         │         │         │         │         │         │         │         │         │    │    │         │    │    │         │         │         │    │                   │    │                   │    │         │         │    │         │    │    │         │    │    │    │    │    │    └─sql java servicios_sql server_pl sql java_datos oracle sql_oracle sql\n",
      "     │                        │         │         │    │         │              │         │    │         │    │    │         │         │         │         │         │         │         │         │         │    │    │         │    │    │         │         │         │    │                   │    │                   │    │         │         │    │         │    │    │         │    │    │    │    │    │         ├─■──apis webservices tareas_webservices tareas programadas_webservices tareas_apis webservices_net frame ── Topic: 215\n",
      "     │                        │         │         │    │         │              │         │    │         │    │    │         │         │         │         │         │         │         │         │         │    │    │         │    │    │         │         │         │    │                   │    │                   │    │         │         │    │         │    │    │         │    │    │    │    │    │         └─sql java servicios_pl sql java_framework spring_sql server_datos oracle sql\n",
      "     │                        │         │         │    │         │              │         │    │         │    │    │         │         │         │         │         │         │         │         │         │    │    │         │    │    │         │         │         │    │                   │    │                   │    │         │         │    │         │    │    │         │    │    │    │    │    │              ├─spring boot programacion_spring boot microservicios_spring boot desarrollo_spring boot_framework spr\n",
      "     │                        │         │         │    │         │              │         │    │         │    │    │         │         │         │         │         │         │         │         │         │    │    │         │    │    │         │         │         │    │                   │    │                   │    │         │         │    │         │    │    │         │    │    │    │    │    │              │    ├─■──angular js_angular html_xml json_html js_spring web ── Topic: 12\n",
      "     │                        │         │         │    │         │              │         │    │         │    │    │         │         │         │         │         │         │         │         │         │    │    │         │    │    │         │         │         │    │                   │    │                   │    │         │         │    │         │    │    │         │    │    │    │    │    │              │    └─spring boot programacion_spring boot desarrollo_spring boot microservicios_spring boot_java spring b\n",
      "     │                        │         │         │    │         │              │         │    │         │    │    │         │         │         │         │         │         │         │         │         │    │    │         │    │    │         │         │         │    │                   │    │                   │    │         │         │    │         │    │    │         │    │    │    │    │    │              │         ├─■──angular bases datos_angular spring boot_java angular spring_springboot angular_angular programacion  ── Topic: 244\n",
      "     │                        │         │         │    │         │              │         │    │         │    │    │         │         │         │         │         │         │         │         │         │    │    │         │    │    │         │         │         │    │                   │    │                   │    │         │         │    │         │    │    │         │    │    │    │    │    │              │         └─■──spring boot programacion_spring boot desarrollo_spring boot microservicios_spring boot_java spring b ── Topic: 87\n",
      "     │                        │         │         │    │         │              │         │    │         │    │    │         │         │         │         │         │         │         │         │         │    │    │         │    │    │         │         │         │    │                   │    │                   │    │         │         │    │         │    │    │         │    │    │    │    │    │              └─oracle plsql_oracle pl sql_pl sql oracle_datos oracle sql_oracle sql\n",
      "     │                        │         │         │    │         │              │         │    │         │    │    │         │         │         │         │         │         │         │         │         │    │    │         │    │    │         │         │         │    │                   │    │                   │    │         │         │    │         │    │    │         │    │    │    │    │    │                   ├─■──oracle sql server_oracle sqlserver_datos oracle sqlserver_oracle pl sql_datos sql oracle ── Topic: 20\n",
      "     │                        │         │         │    │         │              │         │    │         │    │    │         │         │         │         │         │         │         │         │         │    │    │         │    │    │         │         │         │    │                   │    │                   │    │         │         │    │         │    │    │         │    │    │    │    │    │                   └─sql java servicios_pl sql java_aplicaciones sql pl_oracle plsql_oracle desarrollo aplicaciones\n",
      "     │                        │         │         │    │         │              │         │    │         │    │    │         │         │         │         │         │         │         │         │         │    │    │         │    │    │         │         │         │    │                   │    │                   │    │         │         │    │         │    │    │         │    │    │    │    │    │                        ├─■──sql server oraclejava_sql java servicios_pl sql oracle_oracle plsql_angular oracle apache ── Topic: 173\n",
      "     │                        │         │         │    │         │              │         │    │         │    │    │         │         │         │         │         │         │         │         │         │    │    │         │    │    │         │         │         │    │                   │    │                   │    │         │         │    │         │    │    │         │    │    │    │    │    │                        └─aplicaciones react native_nativo ios android_android ios_ios android_desarrollo aplicaciones react\n",
      "     │                        │         │         │    │         │              │         │    │         │    │    │         │         │         │         │         │         │         │         │         │    │    │         │    │    │         │         │         │    │                   │    │                   │    │         │         │    │         │    │    │         │    │    │    │    │    │                             ├─■──sql java servicios_oracle desarrollo aplicaciones_aplicaciones sql pl_aplicaciones sql_sql server le ── Topic: 161\n",
      "     │                        │         │         │    │         │              │         │    │         │    │    │         │         │         │         │         │         │         │         │         │    │    │         │    │    │         │         │         │    │                   │    │                   │    │         │         │    │         │    │    │         │    │    │    │    │    │                             └─■──android ios_ios android_nativas android_nativo ios android_android ── Topic: 169\n",
      "     │                        │         │         │    │         │              │         │    │         │    │    │         │         │         │         │         │         │         │         │         │    │    │         │    │    │         │         │         │    │                   │    │                   │    │         │         │    │         │    │    │         │    │    │    │    │    └─mantenimiento equipos computo_mantenimiento equipos_soporte mantenimiento equipos_computo mantenimie\n",
      "     │                        │         │         │    │         │              │         │    │         │    │    │         │         │         │         │         │         │         │         │         │    │    │         │    │    │         │         │         │    │                   │    │                   │    │         │         │    │         │    │    │         │    │    │    │    │         ├─mantenimiento equipos computo_mantenimiento equipos_preventivo correctivo equipos_mantenimiento prev\n",
      "     │                        │         │         │    │         │              │         │    │         │    │    │         │         │         │         │         │         │         │         │         │    │    │         │    │    │         │         │         │    │                   │    │                   │    │         │         │    │         │    │    │         │    │    │    │    │         │    ├─■──software sql_bases datos diseno_bases datos sql_manejando lenguajes sql_configuracion software ── Topic: 102\n",
      "     │                        │         │         │    │         │              │         │    │         │    │    │         │         │         │         │         │         │         │         │         │    │    │         │    │    │         │         │         │    │                   │    │                   │    │         │         │    │         │    │    │         │    │    │    │    │         │    └─mantenimiento equipos computo_equipos computo mantenimiento_mantenimiento equipos_mantenimiento prev\n",
      "     │                        │         │         │    │         │              │         │    │         │    │    │         │         │         │         │         │         │         │         │         │    │    │         │    │    │         │         │         │    │                   │    │                   │    │         │         │    │         │    │    │         │    │    │    │    │         │         ├─mantenimiento equipos computo_equipos computo mantenimiento_mantenimiento equipos_preventivo correct\n",
      "     │                        │         │         │    │         │              │         │    │         │    │    │         │         │         │         │         │         │         │         │         │    │    │         │    │    │         │         │         │    │                   │    │                   │    │         │         │    │         │    │    │         │    │    │    │    │         │         │    ├─sql server desarrollo_net sql server_aplicaciones net angular_net angular desarrollo_datos sql serve\n",
      "     │                        │         │         │    │         │              │         │    │         │    │    │         │         │         │         │         │         │         │         │         │    │    │         │    │    │         │         │         │    │                   │    │                   │    │         │         │    │         │    │    │         │    │    │    │    │         │         │    │    ├─sql server desarrollo_net sql server_aplicaciones net angular_net angular desarrollo_datos sql serve\n",
      "     │                        │         │         │    │         │              │         │    │         │    │    │         │         │         │         │         │         │         │         │         │    │    │         │    │    │         │         │         │    │                   │    │                   │    │         │         │    │         │    │    │         │    │    │    │    │         │         │    │    │    ├─angular sql_sql server desarrollo_aplicaciones net angular_net angular desarrollo_datos sql server\n",
      "     │                        │         │         │    │         │              │         │    │         │    │    │         │         │         │         │         │         │         │         │         │    │    │         │    │    │         │         │         │    │                   │    │                   │    │         │         │    │         │    │    │         │    │    │    │    │         │         │    │    │    │    ├─■──aplicaciones net angular_java angular programacion_net angular desarrollo_angular programacion_net a ── Topic: 21\n",
      "     │                        │         │         │    │         │              │         │    │         │    │    │         │         │         │         │         │         │         │         │         │    │    │         │    │    │         │         │         │    │                   │    │                   │    │         │         │    │         │    │    │         │    │    │    │    │         │         │    │    │    │    └─■──angular sql_sql server desarrollo_sql server programacion_angular bases datos_aplicaciones net angul ── Topic: 114\n",
      "     │                        │         │         │    │         │              │         │    │         │    │    │         │         │         │         │         │         │         │         │         │    │    │         │    │    │         │         │         │    │                   │    │                   │    │         │         │    │         │    │    │         │    │    │    │    │         │         │    │    │    └─■──net sql server_sql server desarrollo_datos sql server_sql server_oracle visual basic ── Topic: 24\n",
      "     │                        │         │         │    │         │              │         │    │         │    │    │         │         │         │         │         │         │         │         │         │    │    │         │    │    │         │         │         │    │                   │    │                   │    │         │         │    │         │    │    │         │    │    │    │    │         │         │    │    └─operativos windows server_redes mantenimiento equipos_informacion operativos windows_soporte operati\n",
      "     │                        │         │         │    │         │              │         │    │         │    │    │         │         │         │         │         │         │         │         │         │    │    │         │    │    │         │         │         │    │                   │    │                   │    │         │         │    │         │    │    │         │    │    │    │    │         │         │    │         ├─operativos windows server_soporte operativos windows_informacion operativos windows_administracion s\n",
      "     │                        │         │         │    │         │              │         │    │         │    │    │         │         │         │         │         │         │         │         │         │    │    │         │    │    │         │         │         │    │                   │    │                   │    │         │         │    │         │    │    │         │    │    │    │    │         │         │    │         │    ├─■──soporte operativos windows_informacion operativos windows_operativos redes_software oficina redes_wi ── Topic: 8\n",
      "     │                        │         │         │    │         │              │         │    │         │    │    │         │         │         │         │         │         │         │         │         │    │    │         │    │    │         │         │         │    │                   │    │                   │    │         │         │    │         │    │    │         │    │    │    │    │         │         │    │         │    └─■──datos sql server_sql server_sql redes_bases datos sql_linux bases datos ── Topic: 67\n",
      "     │                        │         │         │    │         │              │         │    │         │    │    │         │         │         │         │         │         │         │         │         │    │    │         │    │    │         │         │         │    │                   │    │                   │    │         │         │    │         │    │    │         │    │    │    │    │         │         │    │         └─redes sql_bases datos sql_datos sql server_sql bases datos_base datos sql\n",
      "     │                        │         │         │    │         │              │         │    │         │    │    │         │         │         │         │         │         │         │         │         │    │    │         │    │    │         │         │         │    │                   │    │                   │    │         │         │    │         │    │    │         │    │    │    │    │         │         │    │              ├─■──redes sql_datos sql server_sql server administracion_datos sql instalacion_bases datos sql ── Topic: 219\n",
      "     │                        │         │         │    │         │              │         │    │         │    │    │         │         │         │         │         │         │         │         │         │    │    │         │    │    │         │         │         │    │                   │    │                   │    │         │         │    │         │    │    │         │    │    │    │    │         │         │    │              └─sql bases datos_sql sql_bases datos sql_base datos sql_sql\n",
      "     │                        │         │         │    │         │              │         │    │         │    │    │         │         │         │         │         │         │         │         │         │    │    │         │    │    │         │         │         │    │                   │    │                   │    │         │         │    │         │    │    │         │    │    │    │    │         │         │    │                   ├─■──bases datos sql_sql bases datos_base datos sql_datos sql avanzados_datos sql sql ── Topic: 41\n",
      "     │                        │         │         │    │         │              │         │    │         │    │    │         │         │         │         │         │         │         │         │         │    │    │         │    │    │         │         │         │    │                   │    │                   │    │         │         │    │         │    │    │         │    │    │    │    │         │         │    │                   └─■──abap sql_sql uml_pl sql_programacion pl sql_programacion sql ── Topic: 130\n",
      "     │                        │         │         │    │         │              │         │    │         │    │    │         │         │         │         │         │         │         │         │         │    │    │         │    │    │         │         │         │    │                   │    │                   │    │         │         │    │         │    │    │         │    │    │    │    │         │         │    └─mantenimiento equipos computo_correctivo preventivo equipos_equipos computo mantenimiento_mantenimie\n",
      "     │                        │         │         │    │         │              │         │    │         │    │    │         │         │         │         │         │         │         │         │         │    │    │         │    │    │         │         │         │    │                   │    │                   │    │         │         │    │         │    │    │         │    │    │    │    │         │         │         ├─mantenimiento equipos computo_correctivo preventivo equipos_equipos computo mantenimiento_mantenimie\n",
      "     │                        │         │         │    │         │              │         │    │         │    │    │         │         │         │         │         │         │         │         │         │    │    │         │    │    │         │         │         │    │                   │    │                   │    │         │         │    │         │    │    │         │    │    │    │    │         │         │         │    ├─mantenimiento equipos computo_equipos computo mantenimiento_mantenimiento equipos_soporte mantenimie\n",
      "     │                        │         │         │    │         │              │         │    │         │    │    │         │         │         │         │         │         │         │         │         │    │    │         │    │    │         │         │         │    │                   │    │                   │    │         │         │    │         │    │    │         │    │    │    │    │         │         │         │    │    ├─■──hardware software redes_redes software hardware_software redes_software hardware tecnologicas_redes  ── Topic: 194\n",
      "     │                        │         │         │    │         │              │         │    │         │    │    │         │         │         │         │         │         │         │         │         │    │    │         │    │    │         │         │         │    │                   │    │                   │    │         │         │    │         │    │    │         │    │    │    │    │         │         │         │    │    └─mantenimiento equipos computo_equipos computo mantenimiento_mantenimiento equipos_soporte mantenimie\n",
      "     │                        │         │         │    │         │              │         │    │         │    │    │         │         │         │         │         │         │         │         │         │    │    │         │    │    │         │         │         │    │                   │    │                   │    │         │         │    │         │    │    │         │    │    │    │    │         │         │         │    │         ├─soporte usuario final_usuario final soporte_usuario final_atencion usuario final_usuarios finales\n",
      "     │                        │         │         │    │         │              │         │    │         │    │    │         │         │         │         │         │         │         │         │         │    │    │         │    │    │         │         │         │    │                   │    │                   │    │         │         │    │         │    │    │         │    │    │    │    │         │         │         │    │         │    ├─soporte hardware software_hardware software soporte_software soporte hardware_software hardware sopo\n",
      "     │                        │         │         │    │         │              │         │    │         │    │    │         │         │         │         │         │         │         │         │         │    │    │         │    │    │         │         │         │    │                   │    │                   │    │         │         │    │         │    │    │         │    │    │    │    │         │         │         │    │         │    │    ├─■──mantenimiento impresoras hardware_soporte mantenimiento impresoras_software hardware impresoras_impr ── Topic: 233\n",
      "     │                        │         │         │    │         │              │         │    │         │    │    │         │         │         │         │         │         │         │         │         │    │    │         │    │    │         │         │         │    │                   │    │                   │    │         │         │    │         │    │    │         │    │    │    │    │         │         │         │    │         │    │    └─■──soporte hardware software_hardware software soporte_software soporte hardware_software hardware sopo ── Topic: 69\n",
      "     │                        │         │         │    │         │              │         │    │         │    │    │         │         │         │         │         │         │         │         │         │    │    │         │    │    │         │         │         │    │                   │    │                   │    │         │         │    │         │    │    │         │    │    │    │    │         │         │         │    │         │    └─■──soporte usuario final_soporte usuarios finales_usuario final soporte_usuario final_atencion usuario  ── Topic: 199\n",
      "     │                        │         │         │    │         │              │         │    │         │    │    │         │         │         │         │         │         │         │         │         │    │    │         │    │    │         │         │         │    │                   │    │                   │    │         │         │    │         │    │    │         │    │    │    │    │         │         │         │    │         └─mantenimiento equipos computo_equipos computo mantenimiento_mantenimiento equipos_soporte mantenimie\n",
      "     │                        │         │         │    │         │              │         │    │         │    │    │         │         │         │         │         │         │         │         │         │    │    │         │    │    │         │         │         │    │                   │    │                   │    │         │         │    │         │    │    │         │    │    │    │    │         │         │         │    │              ├─■──redes mantenimiento computadores_mantenimiento redes_mantenimiento computadores_programacion manteni ── Topic: 56\n",
      "     │                        │         │         │    │         │              │         │    │         │    │    │         │         │         │         │         │         │         │         │         │    │    │         │    │    │         │         │         │    │                   │    │                   │    │         │         │    │         │    │    │         │    │    │    │    │         │         │         │    │              └─mantenimiento equipos computo_equipos computo mantenimiento_computo mantenimiento equipos_mantenimie\n",
      "     │                        │         │         │    │         │              │         │    │         │    │    │         │         │         │         │         │         │         │         │         │    │    │         │    │    │         │         │         │    │                   │    │                   │    │         │         │    │         │    │    │         │    │    │    │    │         │         │         │    │                   ├─mantenimiento equipos computo_equipos computo mantenimiento_computo mantenimiento equipos_mantenimie\n",
      "     │                        │         │         │    │         │              │         │    │         │    │    │         │         │         │         │         │         │         │         │         │    │    │         │    │    │         │         │         │    │                   │    │                   │    │         │         │    │         │    │    │         │    │    │    │    │         │         │         │    │                   │    ├─■──impresoras mantenimiento preventivo_configuracion impresoras mantenimiento_mantenimiento impresoras_ ── Topic: 32\n",
      "     │                        │         │         │    │         │              │         │    │         │    │    │         │         │         │         │         │         │         │         │         │    │    │         │    │    │         │         │         │    │                   │    │                   │    │         │         │    │         │    │    │         │    │    │    │    │         │         │         │    │                   │    └─mantenimiento equipos computo_equipos computo mantenimiento_correctivo preventivo equipos_computo ma\n",
      "     │                        │         │         │    │         │              │         │    │         │    │    │         │         │         │         │         │         │         │         │         │    │    │         │    │    │         │         │         │    │                   │    │                   │    │         │         │    │         │    │    │         │    │    │    │    │         │         │         │    │                   │         ├─■──mantenimiento equipos computacion_software mantenimiento equipos_software hardware mantenimiento_har ── Topic: 52\n",
      "     │                        │         │         │    │         │              │         │    │         │    │    │         │         │         │         │         │         │         │         │         │    │    │         │    │    │         │         │         │    │                   │    │                   │    │         │         │    │         │    │    │         │    │    │    │    │         │         │         │    │                   │         └─equipos mantenimiento preventivo_mantenimiento equipos computo_equipos computo mantenimiento_manteni\n",
      "     │                        │         │         │    │         │              │         │    │         │    │    │         │         │         │         │         │         │         │         │         │    │    │         │    │    │         │         │         │    │                   │    │                   │    │         │         │    │         │    │    │         │    │    │    │    │         │         │         │    │                   │              ├─■──equipos mantenimiento preventivo_mantenimiento equipos computo_equipos computo mantenimiento_computo ── Topic: 48\n",
      "     │                        │         │         │    │         │              │         │    │         │    │    │         │         │         │         │         │         │         │         │         │    │    │         │    │    │         │         │         │    │                   │    │                   │    │         │         │    │         │    │    │         │    │    │    │    │         │         │         │    │                   │              └─■──mantenimiento preventivo correctivo_mantenimiento correctivo preventivo_correctivo mantenimiento pre ── Topic: 153\n",
      "     │                        │         │         │    │         │              │         │    │         │    │    │         │         │         │         │         │         │         │         │         │    │    │         │    │    │         │         │         │    │                   │    │                   │    │         │         │    │         │    │    │         │    │    │    │    │         │         │         │    │                   └─hardware mantenimiento preventivo_software hardware mantenimiento_hardware mantenimiento_incidentes \n",
      "     │                        │         │         │    │         │              │         │    │         │    │    │         │         │         │         │         │         │         │         │         │    │    │         │    │    │         │         │         │    │                   │    │                   │    │         │         │    │         │    │    │         │    │    │    │    │         │         │         │    │                        ├─■──hardware mantenimiento preventivo_software hardware mantenimiento_gestion incidentes tecnologia_prev ── Topic: 149\n",
      "     │                        │         │         │    │         │              │         │    │         │    │    │         │         │         │         │         │         │         │         │         │    │    │         │    │    │         │         │         │    │                   │    │                   │    │         │         │    │         │    │    │         │    │    │    │    │         │         │         │    │                        └─■──incidentes atencion cliente_gestion incidentes_solicitudes incidentes_solucion incidentes_incidentes ── Topic: 25\n",
      "     │                        │         │         │    │         │              │         │    │         │    │    │         │         │         │         │         │         │         │         │         │    │    │         │    │    │         │         │         │    │                   │    │                   │    │         │         │    │         │    │    │         │    │    │    │    │         │         │         │    └─mantenimiento refrigeracion_refrigeracion mantenimiento_refrigeracion refrigeracion_reparacion refri\n",
      "     │                        │         │         │    │         │              │         │    │         │    │    │         │         │         │         │         │         │         │         │         │    │    │         │    │    │         │         │         │    │                   │    │                   │    │         │         │    │         │    │    │         │    │    │    │    │         │         │         │         ├─mantenimiento refrigeracion_refrigeracion refrigeracion_refrigeracion_refrigeracion mantenimiento_ma\n",
      "     │                        │         │         │    │         │              │         │    │         │    │    │         │         │         │         │         │         │         │         │         │    │    │         │    │    │         │         │         │    │                   │    │                   │    │         │         │    │         │    │    │         │    │    │    │    │         │         │         │         │    ├─■──mantenimiento refrigeracion industrial_refrigeracion industrial mantenimiento_reparacion refrigeraci ── Topic: 53\n",
      "     │                        │         │         │    │         │              │         │    │         │    │    │         │         │         │         │         │         │         │         │         │    │    │         │    │    │         │         │         │    │                   │    │                   │    │         │         │    │         │    │    │         │    │    │    │    │         │         │         │         │    └─■──mantenimiento equipos refrigeracion_refrigeracion mantenimiento preventivo_mantenimiento refrigeraci ── Topic: 166\n",
      "     │                        │         │         │    │         │              │         │    │         │    │    │         │         │         │         │         │         │         │         │         │    │    │         │    │    │         │         │         │    │                   │    │                   │    │         │         │    │         │    │    │         │    │    │    │    │         │         │         │         └─■──refrigeracion aire acondicionado_refrigeracion aire_aire acondicionado_mantenimiento equipos refrige ── Topic: 158\n",
      "     │                        │         │         │    │         │              │         │    │         │    │    │         │         │         │         │         │         │         │         │         │    │    │         │    │    │         │         │         │    │                   │    │                   │    │         │         │    │         │    │    │         │    │    │    │    │         │         │         └─instalaciones mantenimiento cableado_mantenimiento cableado estructurado_cableado estructurado mante\n",
      "     │                        │         │         │    │         │              │         │    │         │    │    │         │         │         │         │         │         │         │         │         │    │    │         │    │    │         │         │         │    │                   │    │                   │    │         │         │    │         │    │    │         │    │    │    │    │         │         │              ├─■──mantenimiento cableado estructurado_cableado estructurado mantenimiento_instalaciones mantenimiento  ── Topic: 157\n",
      "     │                        │         │         │    │         │              │         │    │         │    │    │         │         │         │         │         │         │         │         │         │    │    │         │    │    │         │         │         │    │                   │    │                   │    │         │         │    │         │    │    │         │    │    │    │    │         │         │              └─■──cableado estructurado mantenimiento_mantenimiento cableado estructurado_electronico mantenimiento_ma ── Topic: 225\n",
      "     │                        │         │         │    │         │              │         │    │         │    │    │         │         │         │         │         │         │         │         │         │    │    │         │    │    │         │         │         │    │                   │    │                   │    │         │         │    │         │    │    │         │    │    │    │    │         │         └─■──gestion tickets servicio_tickets gestion tecnologia_servicios mantenimiento equipos_plataforma gesti ── Topic: 129\n",
      "     │                        │         │         │    │         │              │         │    │         │    │    │         │         │         │         │         │         │         │         │         │    │    │         │    │    │         │         │         │    │                   │    │                   │    │         │         │    │         │    │    │         │    │    │    │    │         └─computadores impresoras celulares_celulares tablets_computadores celulares procesos_celulares manten\n",
      "     │                        │         │         │    │         │              │         │    │         │    │    │         │         │         │         │         │         │         │         │         │    │    │         │    │    │         │         │         │    │                   │    │                   │    │         │         │    │         │    │    │         │    │    │    │    │              ├─■──celulares mantenimiento_celulares aplican_soporte mantenimiento equipos_mantenimiento equipos tecnol ── Topic: 237\n",
      "     │                        │         │         │    │         │              │         │    │         │    │    │         │         │         │         │         │         │         │         │         │    │    │         │    │    │         │         │         │    │                   │    │                   │    │         │         │    │         │    │    │         │    │    │    │    │              └─■──computadores impresoras celulares_celulares tablets_celulares mantenimiento_dispositivos moviles_dis ── Topic: 204\n",
      "     │                        │         │         │    │         │              │         │    │         │    │    │         │         │         │         │         │         │         │         │         │    │    │         │    │    │         │         │         │    │                   │    │                   │    │         │         │    │         │    │    │         │    │    │    │    └─■──equipos servidores windows_windows server redes_windows server_infraestructura servidores_servidores ── Topic: 74\n",
      "     │                        │         │         │    │         │              │         │    │         │    │    │         │         │         │         │         │         │         │         │         │    │    │         │    │    │         │         │         │    │                   │    │                   │    │         │         │    │         │    │    │         │    │    │    └─servicio cliente center_servicio cliente telefonico_center servicio cliente_cliente center_servicio \n",
      "     │                        │         │         │    │         │              │         │    │         │    │    │         │         │         │         │         │         │         │         │         │    │    │         │    │    │         │         │         │    │                   │    │                   │    │         │         │    │         │    │    │         │    │    │         ├─■──redes ip telecomunicaciones_telefonia ip redes_telecomunicaciones telefonia ip_ip telecomunicaciones ── Topic: 201\n",
      "     │                        │         │         │    │         │              │         │    │         │    │    │         │         │         │         │         │         │         │         │         │    │    │         │    │    │         │         │         │    │                   │    │                   │    │         │         │    │         │    │    │         │    │    │         └─servicio cliente center_servicio cliente telefonico_center servicio cliente_cliente center_servicio \n",
      "     │                        │         │         │    │         │              │         │    │         │    │    │         │         │         │         │         │         │         │         │         │    │    │         │    │    │         │         │         │    │                   │    │                   │    │         │         │    │         │    │    │         │    │    │              ├─servicio cliente center_servicio cliente telefonico_center servicio cliente_cliente center_servicio \n",
      "     │                        │         │         │    │         │              │         │    │         │    │    │         │         │         │         │         │         │         │         │         │    │    │         │    │    │         │         │         │    │                   │    │                   │    │         │         │    │         │    │    │         │    │    │              │    ├─soporte mesa ayuda_ayuda soporte mesa_mesa ayuda soporte_ayuda mesa ayuda_ayuda mesas\n",
      "     │                        │         │         │    │         │              │         │    │         │    │    │         │         │         │         │         │         │         │         │         │    │    │         │    │    │         │         │         │    │                   │    │                   │    │         │         │    │         │    │    │         │    │    │              │    │    ├─soporte mesa ayuda_ayuda soporte mesa_mesa ayuda soporte_ayuda mesa ayuda_mesa ayuda servicio\n",
      "     │                        │         │         │    │         │              │         │    │         │    │    │         │         │         │         │         │         │         │         │         │    │    │         │    │    │         │         │         │    │                   │    │                   │    │         │         │    │         │    │    │         │    │    │              │    │    │    ├─soporte mesa ayuda_mesa ayuda soporte_ayuda soporte mesa_ayuda mesa ayuda_ayuda mesa\n",
      "     │                        │         │         │    │         │              │         │    │         │    │    │         │         │         │         │         │         │         │         │         │    │    │         │    │    │         │         │         │    │                   │    │                   │    │         │         │    │         │    │    │         │    │    │              │    │    │    │    ├─■──telecomunicaciones_telecomunicaciones electronica_electronica telecomunicaciones_telecomunicaciones  ── Topic: 82\n",
      "     │                        │         │         │    │         │              │         │    │         │    │    │         │         │         │         │         │         │         │         │         │    │    │         │    │    │         │         │         │    │                   │    │                   │    │         │         │    │         │    │    │         │    │    │              │    │    │    │    └─soporte mesa ayuda_mesa ayuda soporte_ayuda soporte mesa_ayuda mesas ayuda_ayuda mesa ayuda\n",
      "     │                        │         │         │    │         │              │         │    │         │    │    │         │         │         │         │         │         │         │         │         │    │    │         │    │    │         │         │         │    │                   │    │                   │    │         │         │    │         │    │    │         │    │    │              │    │    │    │         ├─soporte mesa ayuda_mesa ayuda soporte_ayuda soporte mesa_ayuda mesas ayuda_ayuda mesa ayuda\n",
      "     │                        │         │         │    │         │              │         │    │         │    │    │         │         │         │         │         │         │         │         │         │    │    │         │    │    │         │         │         │    │                   │    │                   │    │         │         │    │         │    │    │         │    │    │              │    │    │    │         │    ├─soporte mesa ayuda_mesa ayuda soporte_ayuda soporte mesa_ayuda mesas ayuda_ayuda mesa ayuda\n",
      "     │                        │         │         │    │         │              │         │    │         │    │    │         │         │         │         │         │         │         │         │         │    │    │         │    │    │         │         │         │    │                   │    │                   │    │         │         │    │         │    │    │         │    │    │              │    │    │    │         │    │    ├─soporte mesa ayuda_mesa ayuda soporte_ayuda soporte mesa_ayuda mesas ayuda_ayuda mesa ayuda\n",
      "     │                        │         │         │    │         │              │         │    │         │    │    │         │         │         │         │         │         │         │         │         │    │    │         │    │    │         │         │         │    │                   │    │                   │    │         │         │    │         │    │    │         │    │    │              │    │    │    │         │    │    │    ├─usuarios mesa ayuda_usuarios mesa_solicitudes usuarios_mesa ayuda servicio_ayuda soporte registrar\n",
      "     │                        │         │         │    │         │              │         │    │         │    │    │         │         │         │         │         │         │         │         │         │    │    │         │    │    │         │         │         │    │                   │    │                   │    │         │         │    │         │    │    │         │    │    │              │    │    │    │         │    │    │    │    ├─■──soporte mesa servicios_mesa ayuda telefonica_soporte mesa servicio_cliente soporte mesa_telefonica s ── Topic: 211\n",
      "     │                        │         │         │    │         │              │         │    │         │    │    │         │         │         │         │         │         │         │         │         │    │    │         │    │    │         │         │         │    │                   │    │                   │    │         │         │    │         │    │    │         │    │    │              │    │    │    │         │    │    │    │    └─■──usuarios mesa ayuda_usuarios mesa_solicitudes usuarios_busquedas tablas_mesa ayuda servicio ── Topic: 63\n",
      "     │                        │         │         │    │         │              │         │    │         │    │    │         │         │         │         │         │         │         │         │         │    │    │         │    │    │         │         │         │    │                   │    │                   │    │         │         │    │         │    │    │         │    │    │              │    │    │    │         │    │    │    └─■──soporte mesa ayuda_mesa ayuda soporte_ayuda soporte mesa_ayuda mesas ayuda_ayuda mesa ayuda ── Topic: 37\n",
      "     │                        │         │         │    │         │              │         │    │         │    │    │         │         │         │         │         │         │         │         │         │    │    │         │    │    │         │         │         │    │                   │    │                   │    │         │         │    │         │    │    │         │    │    │              │    │    │    │         │    │    └─■──tecnologicos mesa ayuda_soporte equipos tecnologicos_tecnologicos mesa_software hardware soporte_sof ── Topic: 90\n",
      "     │                        │         │         │    │         │              │         │    │         │    │    │         │         │         │         │         │         │         │         │         │    │    │         │    │    │         │         │         │    │                   │    │                   │    │         │         │    │         │    │    │         │    │    │              │    │    │    │         │    └─■──telecomunicaciones mesa ayuda_telecomunicaciones soporte mesa_telecomunicaciones mesa_telecomunicaci ── Topic: 182\n",
      "     │                        │         │         │    │         │              │         │    │         │    │    │         │         │         │         │         │         │         │         │         │    │    │         │    │    │         │         │         │    │                   │    │                   │    │         │         │    │         │    │    │         │    │    │              │    │    │    │         └─servicio cliente center_callcenter_center servicio cliente_contact center_cliente center soporte\n",
      "     │                        │         │         │    │         │              │         │    │         │    │    │         │         │         │         │         │         │         │         │         │    │    │         │    │    │         │         │         │    │                   │    │                   │    │         │         │    │         │    │    │         │    │    │              │    │    │    │              ├─■──sitio mesa ayuda_mesa ayuda soporte_soporte sitio mesa_tcnico mesa ayuda_soporte tcnico sitio ── Topic: 232\n",
      "     │                        │         │         │    │         │              │         │    │         │    │    │         │         │         │         │         │         │         │         │         │    │    │         │    │    │         │         │         │    │                   │    │                   │    │         │         │    │         │    │    │         │    │    │              │    │    │    │              └─servicio cliente center_callcenter_center servicio cliente_contact center_cliente center soporte\n",
      "     │                        │         │         │    │         │              │         │    │         │    │    │         │         │         │         │         │         │         │         │         │    │    │         │    │    │         │         │         │    │                   │    │                   │    │         │         │    │         │    │    │         │    │    │              │    │    │    │                   ├─soporte tcnico_soporte tcnico llamada_soporte soporte tcnico_tcnico soporte_soporte tcnico soporte\n",
      "     │                        │         │         │    │         │              │         │    │         │    │    │         │         │         │         │         │         │         │         │         │    │    │         │    │    │         │         │         │    │                   │    │                   │    │         │         │    │         │    │    │         │    │    │              │    │    │    │                   │    ├─■──soporte tcnico_tcnico soporte_soporte tcnico soporte_reas soporte tcnico_soporte tcnico llamada ── Topic: 187\n",
      "     │                        │         │         │    │         │              │         │    │         │    │    │         │         │         │         │         │         │         │         │         │    │    │         │    │    │         │         │         │    │                   │    │                   │    │         │         │    │         │    │    │         │    │    │              │    │    │    │                   │    └─■──callcenter soporte_callcenter_contact center_soporte internet telefonia_tecnicos soporte center ── Topic: 112\n",
      "     │                        │         │         │    │         │              │         │    │         │    │    │         │         │         │         │         │         │         │         │         │    │    │         │    │    │         │         │         │    │                   │    │                   │    │         │         │    │         │    │    │         │    │    │              │    │    │    │                   └─servicio cliente center_telefonica servicio cliente_center servicio cliente_contact center_cliente c\n",
      "     │                        │         │         │    │         │              │         │    │         │    │    │         │         │         │         │         │         │         │         │         │    │    │         │    │    │         │         │         │    │                   │    │                   │    │         │         │    │         │    │    │         │    │    │              │    │    │    │                        ├─■──servicio cliente center_telefonica servicio cliente_center servicio cliente_contact center_cliente c ── Topic: 44\n",
      "     │                        │         │         │    │         │              │         │    │         │    │    │         │         │         │         │         │         │         │         │         │    │    │         │    │    │         │         │         │    │                   │    │                   │    │         │         │    │         │    │    │         │    │    │              │    │    │    │                        └─■──servicio cliente center_cliente center ingles_servicio cliente_cliente center_servicio ── Topic: 191\n",
      "     │                        │         │         │    │         │              │         │    │         │    │    │         │         │         │         │         │         │         │         │         │    │    │         │    │    │         │         │         │    │                   │    │                   │    │         │         │    │         │    │    │         │    │    │              │    │    │    └─contact center center_contact center_center gestion telefonica_center contact center_center comunica\n",
      "     │                        │         │         │    │         │              │         │    │         │    │    │         │         │         │         │         │         │         │         │         │    │    │         │    │    │         │         │         │    │                   │    │                   │    │         │         │    │         │    │    │         │    │    │              │    │    │         ├─■──contact center_contact center center_center gestion telefonica_center contact center_telefonica ── Topic: 9\n",
      "     │                        │         │         │    │         │              │         │    │         │    │    │         │         │         │         │         │         │         │         │         │    │    │         │    │    │         │         │         │    │                   │    │                   │    │         │         │    │         │    │    │         │    │    │              │    │    │         └─soporte center soporte_soporte soporte center_soporte center center_soporte center_tecnicos soporte \n",
      "     │                        │         │         │    │         │              │         │    │         │    │    │         │         │         │         │         │         │         │         │         │    │    │         │    │    │         │         │         │    │                   │    │                   │    │         │         │    │         │    │    │         │    │    │              │    │    │              ├─■──soporte center_soporte soporte center_tecnicos soporte center_soporte center center_soporte center s ── Topic: 206\n",
      "     │                        │         │         │    │         │              │         │    │         │    │    │         │         │         │         │         │         │         │         │         │    │    │         │    │    │         │         │         │    │                   │    │                   │    │         │         │    │         │    │    │         │    │    │              │    │    │              └─■──soporte center soporte_soporte soporte center_soporte center_soporte center center_telecomunicacione ── Topic: 122\n",
      "     │                        │         │         │    │         │              │         │    │         │    │    │         │         │         │         │         │         │         │         │         │    │    │         │    │    │         │         │         │    │                   │    │                   │    │         │         │    │         │    │    │         │    │    │              │    │    └─■──servicio cliente telefonico_cliente telefonico_soporte telefonico_gestion telefonica_telefonica ── Topic: 121\n",
      "     │                        │         │         │    │         │              │         │    │         │    │    │         │         │         │         │         │         │         │         │         │    │    │         │    │    │         │         │         │    │                   │    │                   │    │         │         │    │         │    │    │         │    │    │              │    └─logistica eventos_comerciales logistica eventos_operaciones logisticas_atencion servicio cliente_ser\n",
      "     │                        │         │         │    │         │              │         │    │         │    │    │         │         │         │         │         │         │         │         │         │    │    │         │    │    │         │         │         │    │                   │    │                   │    │         │         │    │         │    │    │         │    │    │              │         ├─servicio cliente_cliente servicio_servicio cliente servicio_cliente servicio cliente_clientes servic\n",
      "     │                        │         │         │    │         │              │         │    │         │    │    │         │         │         │         │         │         │         │         │         │    │    │         │    │    │         │         │         │    │                   │    │                   │    │         │         │    │         │    │    │         │    │    │              │         │    ├─■──gestores documentales digitales_informatica servicio cliente_gestores documentales_documentales digi ── Topic: 177\n",
      "     │                        │         │         │    │         │              │         │    │         │    │    │         │         │         │         │         │         │         │         │         │    │    │         │    │    │         │         │         │    │                   │    │                   │    │         │         │    │         │    │    │         │    │    │              │         │    └─■──atencion servicio cliente_servicio cliente atencion_servicio cliente_servicio cliente servicio_clien ── Topic: 22\n",
      "     │                        │         │         │    │         │              │         │    │         │    │    │         │         │         │         │         │         │         │         │         │    │    │         │    │    │         │         │         │    │                   │    │                   │    │         │         │    │         │    │    │         │    │    │              │         └─comerciales logistica eventos_logistica eventos_comerciales logistica_operaciones logisticas_logisti\n",
      "     │                        │         │         │    │         │              │         │    │         │    │    │         │         │         │         │         │         │         │         │         │    │    │         │    │    │         │         │         │    │                   │    │                   │    │         │         │    │         │    │    │         │    │    │              │              ├─■──atencion servicio cliente_eventos gestion_gestion eventos_eventos programas_logistica eventos ── Topic: 60\n",
      "     │                        │         │         │    │         │              │         │    │         │    │    │         │         │         │         │         │         │         │         │         │    │    │         │    │    │         │         │         │    │                   │    │                   │    │         │         │    │         │    │    │         │    │    │              │              └─■──comerciales logistica eventos_logistica eventos_comerciales logistica_operaciones logisticas_logisti ── Topic: 183\n",
      "     │                        │         │         │    │         │              │         │    │         │    │    │         │         │         │         │         │         │         │         │         │    │    │         │    │    │         │         │         │    │                   │    │                   │    │         │         │    │         │    │    │         │    │    │              └─aseguramiento servidores linux_soporte web services_servidores web_sitio soporte software_servidores\n",
      "     │                        │         │         │    │         │              │         │    │         │    │    │         │         │         │         │         │         │         │         │         │    │    │         │    │    │         │         │         │    │                   │    │                   │    │         │         │    │         │    │    │         │    │    │                   ├─■──aseguramiento servidores linux_soporte web services_servidores web_sitio soporte software_servidores ── Topic: 138\n",
      "     │                        │         │         │    │         │              │         │    │         │    │    │         │         │         │         │         │         │         │         │         │    │    │         │    │    │         │         │         │    │                   │    │                   │    │         │         │    │         │    │    │         │    │    │                   └─■──soporte sitio_sitio soporte_soporte sitio soporte_soporte sitio itil_soporte sitio trabajo ── Topic: 145\n",
      "     │                        │         │         │    │         │              │         │    │         │    │    │         │         │         │         │         │         │         │         │         │    │    │         │    │    │         │         │         │    │                   │    │                   │    │         │         │    │         │    │    │         │    │    └─tecnicos seguridad electronica_seguridad electronica_mantenimiento seguridad electronica_seguridad e\n",
      "     │                        │         │         │    │         │              │         │    │         │    │    │         │         │         │         │         │         │         │         │         │    │    │         │    │    │         │         │         │    │                   │    │                   │    │         │         │    │         │    │    │         │    │         ├─■──tecnicos seguridad electronica_seguridad electronica_seguridad electronica atencion_seguridad cctv_e ── Topic: 7\n",
      "     │                        │         │         │    │         │              │         │    │         │    │    │         │         │         │         │         │         │         │         │         │    │    │         │    │    │         │         │         │    │                   │    │                   │    │         │         │    │         │    │    │         │    │         └─■──tecnicos seguridad electronica_seguridad electronica_mantenimiento seguridad electronica_seguridad e ── Topic: 118\n",
      "     │                        │         │         │    │         │              │         │    │         │    │    │         │         │         │         │         │         │         │         │         │    │    │         │    │    │         │         │         │    │                   │    │                   │    │         │         │    │         │    │    │         │    └─■──mantenimiento maquinaria industrial_correctivo maquinaria industrial_operando mantenimiento maquinar ── Topic: 147\n",
      "     │                        │         │         │    │         │              │         │    │         │    │    │         │         │         │         │         │         │         │         │         │    │    │         │    │    │         │         │         │    │                   │    │                   │    │         │         │    │         │    │    │         └─■──windows office impresoras_office impresoras_impresoras soporte_impresoras_impresoras mantenimiento ── Topic: 139\n",
      "     │                        │         │         │    │         │              │         │    │         │    │    │         │         │         │         │         │         │         │         │         │    │    │         │    │    │         │         │         │    │                   │    │                   │    │         │         │    │         │    │    └─■──desarrollo software python_lenguajes programacion python_programacin desarrollo software_desarrollo  ── Topic: 30\n",
      "     │                        │         │         │    │         │              │         │    │         │    │    │         │         │         │         │         │         │         │         │         │    │    │         │    │    │         │         │         │    │                   │    │                   │    │         │         │    │         │    └─■──desarrollo software_software desarrollo_software desarrollo software_software development_desarrollo ── Topic: 83\n",
      "     │                        │         │         │    │         │              │         │    │         │    │    │         │         │         │         │         │         │         │         │         │    │    │         │    │    │         │         │         │    │                   │    │                   │    │         │         │    │         └─microsoft power apps_powerapps_microsoft power_power apps_power bi data\n",
      "     │                        │         │         │    │         │              │         │    │         │    │    │         │         │         │         │         │         │         │         │         │    │    │         │    │    │         │         │         │    │                   │    │                   │    │         │         │    │              ├─microsoft power apps_powerapps_microsoft power_power apps_power bi data\n",
      "     │                        │         │         │    │         │              │         │    │         │    │    │         │         │         │         │         │         │         │         │         │    │    │         │    │    │         │         │         │    │                   │    │                   │    │         │         │    │              │    ├─■──microsoft power apps_microsoft power platform_powerapps powerautomate_powerapps_microsoft power ── Topic: 73\n",
      "     │                        │         │         │    │         │              │         │    │         │    │    │         │         │         │         │         │         │         │         │         │    │    │         │    │    │         │         │         │    │                   │    │                   │    │         │         │    │              │    └─bases datos sql_gestion bases datos_sql power_power bi sql_soporte bases datos\n",
      "     │                        │         │         │    │         │              │         │    │         │    │    │         │         │         │         │         │         │         │         │         │    │    │         │    │    │         │         │         │    │                   │    │                   │    │         │         │    │              │         ├─■──bases datos sql_gestion bases datos_sql power_power bi sql_soporte bases datos ── Topic: 28\n",
      "     │                        │         │         │    │         │              │         │    │         │    │    │         │         │         │         │         │         │         │         │         │    │    │         │    │    │         │         │         │    │                   │    │                   │    │         │         │    │              │         └─■──analisis datos_informacion analisis datos_datos analisis_bases datos analisis_mineria datos analisis ── Topic: 86\n",
      "     │                        │         │         │    │         │              │         │    │         │    │    │         │         │         │         │         │         │         │         │         │    │    │         │    │    │         │         │         │    │                   │    │                   │    │         │         │    │              └─■──analista informacion_contable analista_analista contable_analista_soporte analista ── Topic: 143\n",
      "     │                        │         │         │    │         │              │         │    │         │    │    │         │         │         │         │         │         │         │         │         │    │    │         │    │    │         │         │         │    │                   │    │                   │    │         │         │    └─protocolos enrutamiento_implementacion protocolo_protocolos_protocolo_configuracion redes\n",
      "     │                        │         │         │    │         │              │         │    │         │    │    │         │         │         │         │         │         │         │         │         │    │    │         │    │    │         │         │         │    │                   │    │                   │    │         │         │         ├─■──protocolos enrutamiento_implementacion protocolo_protocolos_protocolo_red diseno implementacion ── Topic: 209\n",
      "     │                        │         │         │    │         │              │         │    │         │    │    │         │         │         │         │         │         │         │         │         │    │    │         │    │    │         │         │         │    │                   │    │                   │    │         │         │         └─lan redes_redes lan wan_redes lan_configuracion redes_cisco redes\n",
      "     │                        │         │         │    │         │              │         │    │         │    │    │         │         │         │         │         │         │         │         │         │    │    │         │    │    │         │         │         │    │                   │    │                   │    │         │         │              ├─■──ccna routing switching_routing switching_ccna routing_soporte redes telecomunicaciones_routers tecno ── Topic: 92\n",
      "     │                        │         │         │    │         │              │         │    │         │    │    │         │         │         │         │         │         │         │         │         │    │    │         │    │    │         │         │         │    │                   │    │                   │    │         │         │              └─■──redes lan_lan redes_redes lan wan_redes lan redes_redes ── Topic: 126\n",
      "     │                        │         │         │    │         │              │         │    │         │    │    │         │         │         │         │         │         │         │         │         │    │    │         │    │    │         │         │         │    │                   │    │                   │    │         │         └─software certificacion_implementacion mantenimiento certificacion_datos certificacion_certificados o\n",
      "     │                        │         │         │    │         │              │         │    │         │    │    │         │         │         │         │         │         │         │         │         │    │    │         │    │    │         │         │         │    │                   │    │                   │    │         │              ├─■──datos certificacion_pmp certificacion_certificados operativos_certificacion pmp_certificacion itil ── Topic: 220\n",
      "     │                        │         │         │    │         │              │         │    │         │    │    │         │         │         │         │         │         │         │         │         │    │    │         │    │    │         │         │         │    │                   │    │                   │    │         │              └─■──implementacion mantenimiento certificacion_certificacion itil_itil certificacion_software certificac ── Topic: 95\n",
      "     │                        │         │         │    │         │              │         │    │         │    │    │         │         │         │         │         │         │         │         │         │    │    │         │    │    │         │         │         │    │                   │    │                   │    │         └─■──linux sql_implementacion bases datos_programacion base datos_soporte bases datos_software bases dato ── Topic: 42\n",
      "     │                        │         │         │    │         │              │         │    │         │    │    │         │         │         │         │         │         │         │         │         │    │    │         │    │    │         │         │         │    │                   │    │                   │    └─gerencia proyectos_gestionar proyectos_gestion proyectos_gestion proyectos gestion_gerencia proyecto\n",
      "     │                        │         │         │    │         │              │         │    │         │    │    │         │         │         │         │         │         │         │         │         │    │    │         │    │    │         │         │         │    │                   │    │                   │         ├─■──informacion gerencia proyectos_datos gestion proyectos_gestion proyectos tecnologicos_gestion proyec ── Topic: 185\n",
      "     │                        │         │         │    │         │              │         │    │         │    │    │         │         │         │         │         │         │         │         │         │    │    │         │    │    │         │         │         │    │                   │    │                   │         └─■──gerencia proyectos_gestionar proyectos_gestion proyectos_gestion proyectos gestion_gerencia proyecto ── Topic: 119\n",
      "     │                        │         │         │    │         │              │         │    │         │    │    │         │         │         │         │         │         │         │         │         │    │    │         │    │    │         │         │         │    │                   │    │                   └─■──springboot java_java springboot_ui manejando_manejando_ii ── Topic: 175\n",
      "     │                        │         │         │    │         │              │         │    │         │    │    │         │         │         │         │         │         │         │         │         │    │    │         │    │    │         │         │         │    │                   │    └─mantenimiento infraestructura_proyectos infraestructura_infraestructura vial_infraestructura soporte\n",
      "     │                        │         │         │    │         │              │         │    │         │    │    │         │         │         │         │         │         │         │         │         │    │    │         │    │    │         │         │         │    │                   │         ├─mantenimiento infraestructura_proyectos infraestructura_infraestructura vial_infraestructura soporte\n",
      "     │                        │         │         │    │         │              │         │    │         │    │    │         │         │         │         │         │         │         │         │         │    │    │         │    │    │         │         │         │    │                   │         │    ├─mantenimiento infraestructura_soporte infraestructura_proyectos infraestructura_obras infraestructur\n",
      "     │                        │         │         │    │         │              │         │    │         │    │    │         │         │         │         │         │         │         │         │         │    │    │         │    │    │         │         │         │    │                   │         │    │    ├─■──infraestructura soporte_soporte infraestructura_soporte infraestructura soporte_infraestructura apli ── Topic: 159\n",
      "     │                        │         │         │    │         │              │         │    │         │    │    │         │         │         │         │         │         │         │         │         │    │    │         │    │    │         │         │         │    │                   │         │    │    └─■──mantenimiento infraestructura_obras infraestructura_infraestructura vial_infraestructura_residente p ── Topic: 85\n",
      "     │                        │         │         │    │         │              │         │    │         │    │    │         │         │         │         │         │         │         │         │         │    │    │         │    │    │         │         │         │    │                   │         │    └─■──control obra proyectos_costos proyectos_evaluacion proyectos_presupuestos proyectos_proyectos provee ── Topic: 31\n",
      "     │                        │         │         │    │         │              │         │    │         │    │    │         │         │         │         │         │         │         │         │         │    │    │         │    │    │         │         │         │    │                   │         └─implementacion proyectos tecnologia_implementacion proyectos_implementacin proyectos_proyectos imple\n",
      "     │                        │         │         │    │         │              │         │    │         │    │    │         │         │         │         │         │         │         │         │         │    │    │         │    │    │         │         │         │    │                   │              ├─■──seguimiento control proyectos_control proyectos_control proyectos proyectos_implementacion proyectos ── Topic: 163\n",
      "     │                        │         │         │    │         │              │         │    │         │    │    │         │         │         │         │         │         │         │         │         │    │    │         │    │    │         │         │         │    │                   │              └─■──implementacion proyectos tecnologia_proyectos tecnologia_tecnologia proyectos_proyectos tecnologicos ── Topic: 76\n",
      "     │                        │         │         │    │         │              │         │    │         │    │    │         │         │         │         │         │         │         │         │         │    │    │         │    │    │         │         │         │    │                   └─■──microinformatica soporte_ofimatica microinformatica soporte_microinformatica_microinformatica gestio ── Topic: 172\n",
      "     │                        │         │         │    │         │              │         │    │         │    │    │         │         │         │         │         │         │         │         │         │    │    │         │    │    │         │         │         │    └─■──paquete office programas_paquete office_paquetes office_paquete office office_paquete office servici ── Topic: 124\n",
      "     │                        │         │         │    │         │              │         │    │         │    │    │         │         │         │         │         │         │         │         │         │    │    │         │    │    │         │         │         └─■──normatividad men procesos_calidad normas_administrativaacademica ies normatividad_procesos asegurami ── Topic: 188\n",
      "     │                        │         │         │    │         │              │         │    │         │    │    │         │         │         │         │         │         │         │         │         │    │    │         │    │    │         │         └─asertiva trabajo equipo_actitud trabajo equipo_capacidad trabajo equipo_trabajo equipo capacidad_tra\n",
      "     │                        │         │         │    │         │              │         │    │         │    │    │         │         │         │         │         │         │         │         │         │    │    │         │    │    │         │              ├─asertiva trabajo equipo_trabajo equipo trabajo_trabajo equipo capacidad_trabajo equipo_capacidad tra\n",
      "     │                        │         │         │    │         │              │         │    │         │    │    │         │         │         │         │         │         │         │         │         │    │    │         │    │    │         │              │    ├─■──trabajo equipo trabajo_equipo trabajo_trabajo equipo_equipos trabajo_trabajo ── Topic: 197\n",
      "     │                        │         │         │    │         │              │         │    │         │    │    │         │         │         │         │         │         │         │         │         │    │    │         │    │    │         │              │    └─■──capacidad trabajo equipo_actitud trabajo equipo_trabajo equipo capacidad_trabajo equipo actitud_aser ── Topic: 224\n",
      "     │                        │         │         │    │         │              │         │    │         │    │    │         │         │         │         │         │         │         │         │         │    │    │         │    │    │         │              └─■──comunicacion social_social comunicacion_comunicaciones sociales_comunicacion social comunicacion_soc ── Topic: 84\n",
      "     │                        │         │         │    │         │              │         │    │         │    │    │         │         │         │         │         │         │         │         │         │    │    │         │    │    │         └─■──internet redes_redes internet_infraestructura redes_instalacion redes internas_instalacion redes ── Topic: 120\n",
      "     │                        │         │         │    │         │              │         │    │         │    │    │         │         │         │         │         │         │         │         │         │    │    │         │    │    └─contabilizacin solicitudes crdito_correo electronico sistema_sistema operativo linux_operativo linux\n",
      "     │                        │         │         │    │         │              │         │    │         │    │    │         │         │         │         │         │         │         │         │         │    │    │         │    │         ├─liquidacion nomina_seguridad social liquidacion_nomina liquidacion_novedades nomina liquidaciones_no\n",
      "     │                        │         │         │    │         │              │         │    │         │    │    │         │         │         │         │         │         │         │         │         │    │    │         │    │         │    ├─■──agencia_administrativas_administracin_administrativo_administracion ── Topic: 91\n",
      "     │                        │         │         │    │         │              │         │    │         │    │    │         │         │         │         │         │         │         │         │         │    │    │         │    │         │    └─liquidacion nomina_nomina liquidacion_liquidacion_nomina liquidaciones_novedades nomina liquidacione\n",
      "     │                        │         │         │    │         │              │         │    │         │    │    │         │         │         │         │         │         │         │         │         │    │    │         │    │         │         ├─■──nomina seguridad social_sistema seguridad social_planilla seguridad social_seguridad social_segurida ── Topic: 106\n",
      "     │                        │         │         │    │         │              │         │    │         │    │    │         │         │         │         │         │         │         │         │         │    │    │         │    │         │         └─■──liquidacion nomina_liquidacion programa_nomina liquidaciones_nomina liquidacion_liquidacion ── Topic: 103\n",
      "     │                        │         │         │    │         │              │         │    │         │    │    │         │         │         │         │         │         │         │         │         │    │    │         │    │         └─■──sistema operativo linux_operativo linux_linux soporte_sistema operativo_linux ── Topic: 205\n",
      "     │                        │         │         │    │         │              │         │    │         │    │    │         │         │         │         │         │         │         │         │         │    │    │         │    └─redes sociales_sociales redes_redes sociales redes_sociales redes sociales_digital redes sociales\n",
      "     │                        │         │         │    │         │              │         │    │         │    │    │         │         │         │         │         │         │         │         │         │    │    │         │         ├─instituciones educacion_instituciones educativas_docente instituciones educacion_instituciones educa\n",
      "     │                        │         │         │    │         │              │         │    │         │    │    │         │         │         │         │         │         │         │         │         │    │    │         │         │    ├─normativa educacion_ministerio educacion_instituciones educacion_docente instituciones educacion_ins\n",
      "     │                        │         │         │    │         │              │         │    │         │    │    │         │         │         │         │         │         │         │         │         │    │    │         │         │    │    ├─■──coordinacion liderazgo_liderazgo procesos_liderazgo personal_liderazgo dentro_liderazgo trabajo ── Topic: 170\n",
      "     │                        │         │         │    │         │              │         │    │         │    │    │         │         │         │         │         │         │         │         │         │    │    │         │         │    │    └─normativa educacion_ministerio educacion_instituciones educacion_docente instituciones educacion_ins\n",
      "     │                        │         │         │    │         │              │         │    │         │    │    │         │         │         │         │         │         │         │         │         │    │    │         │         │    │         ├─■──normativa educacion_instituciones educacin_ministerio educacion_instituciones educacion_institucione ── Topic: 132\n",
      "     │                        │         │         │    │         │              │         │    │         │    │    │         │         │         │         │         │         │         │         │         │    │    │         │         │    │         └─■──docente instituciones educacion_instituciones educacion_instituciones educativas_docente institucion ── Topic: 6\n",
      "     │                        │         │         │    │         │              │         │    │         │    │    │         │         │         │         │         │         │         │         │         │    │    │         │         │    └─■──virtuales aprendizaje_virtual programacion_educacion programacion software_educacion programacion_de ── Topic: 70\n",
      "     │                        │         │         │    │         │              │         │    │         │    │    │         │         │         │         │         │         │         │         │         │    │    │         │         └─redes sociales_redes sociales redes_contenido redes sociales_sociales redes_sociales redes sociales\n",
      "     │                        │         │         │    │         │              │         │    │         │    │    │         │         │         │         │         │         │         │         │         │    │    │         │              ├─redes sociales_sociales redes_redes sociales redes_sociales redes sociales_contenido redes sociales\n",
      "     │                        │         │         │    │         │              │         │    │         │    │    │         │         │         │         │         │         │         │         │         │    │    │         │              │    ├─■──equipos audiovisuales_produccion audiovisual_medios audiovisuales_audiovisuales_audiovisual diseno ── Topic: 27\n",
      "     │                        │         │         │    │         │              │         │    │         │    │    │         │         │         │         │         │         │         │         │         │    │    │         │              │    └─redes sociales_contenido redes sociales_redes sociales pagina_digital redes sociales_sociales redes\n",
      "     │                        │         │         │    │         │              │         │    │         │    │    │         │         │         │         │         │         │         │         │         │    │    │         │              │         ├─■──redes sociales programas_redes sociales contenidos_redes sociales_estrategias redes sociales_canales ── Topic: 221\n",
      "     │                        │         │         │    │         │              │         │    │         │    │    │         │         │         │         │         │         │         │         │         │    │    │         │              │         └─redes sociales_contenido redes sociales_redes sociales redes_sociales redes_sociales redes sociales\n",
      "     │                        │         │         │    │         │              │         │    │         │    │    │         │         │         │         │         │         │         │         │         │    │    │         │              │              ├─redes sociales_sociales redes_redes sociales redes_sociales redes sociales_contenido redes sociales\n",
      "     │                        │         │         │    │         │              │         │    │         │    │    │         │         │         │         │         │         │         │         │         │    │    │         │              │              │    ├─■──clima cultura_sociales culturales_cultura_comunidad_community ── Topic: 230\n",
      "     │                        │         │         │    │         │              │         │    │         │    │    │         │         │         │         │         │         │         │         │         │    │    │         │              │              │    └─redes sociales_sociales redes_redes sociales redes_sociales redes sociales_contenido redes sociales\n",
      "     │                        │         │         │    │         │              │         │    │         │    │    │         │         │         │         │         │         │         │         │         │    │    │         │              │              │         ├─adobe illustrator photoshop_illustrator photoshop_photoshop illustrator_ilustrator photoshop_adobe i\n",
      "     │                        │         │         │    │         │              │         │    │         │    │    │         │         │         │         │         │         │         │         │         │    │    │         │              │              │         │    ├─adobe illustrator photoshop_illustrator photoshop_photoshop illustrator_ilustrator photoshop_program\n",
      "     │                        │         │         │    │         │              │         │    │         │    │    │         │         │         │         │         │         │         │         │         │    │    │         │              │              │         │    │    ├─adobe illustrator photoshop_illustrator photoshop_photoshop illustrator_illustrator indesign_ilustra\n",
      "     │                        │         │         │    │         │              │         │    │         │    │    │         │         │         │         │         │         │         │         │         │    │    │         │              │              │         │    │    │    ├─■──photoshop illustrator premiere_adobe illustrator photoshop_illustrator photoshop_photoshop illustrat ── Topic: 0\n",
      "     │                        │         │         │    │         │              │         │    │         │    │    │         │         │         │         │         │         │         │         │         │    │    │         │              │              │         │    │    │    └─■──sociales edicion videos_diseno videos_videos diseno_facebook edicion videos_edicion videos edicion ── Topic: 137\n",
      "     │                        │         │         │    │         │              │         │    │         │    │    │         │         │         │         │         │         │         │         │         │    │    │         │              │              │         │    │    └─redes sociales_sociales redes_redes sociales redes_sociales redes sociales_redes sociales redaccion\n",
      "     │                        │         │         │    │         │              │         │    │         │    │    │         │         │         │         │         │         │         │         │         │    │    │         │              │              │         │    │         ├─■──sociales community manager_gestion redes sociales_plataformas sociales gestion_redes sociales commun ── Topic: 142\n",
      "     │                        │         │         │    │         │              │         │    │         │    │    │         │         │         │         │         │         │         │         │         │    │    │         │              │              │         │    │         └─redes sociales marketing_marketing redes sociales_sociales marketing digital_redes sociales redaccio\n",
      "     │                        │         │         │    │         │              │         │    │         │    │    │         │         │         │         │         │         │         │         │         │    │    │         │              │              │         │    │              ├─■──redes sociales_sociales redes_redes sociales redes_sociales redes sociales_redes sociales redaccion ── Topic: 14\n",
      "     │                        │         │         │    │         │              │         │    │         │    │    │         │         │         │         │         │         │         │         │         │    │    │         │              │              │         │    │              └─digital marketing_marketing marketing digital_marketing digital_marketing digital marketing_digitale\n",
      "     │                        │         │         │    │         │              │         │    │         │    │    │         │         │         │         │         │         │         │         │         │    │    │         │              │              │         │    │                   ├─■──sociales marketing digital_redes sociales marketing_marketing redes sociales_marketing digital redes ── Topic: 26\n",
      "     │                        │         │         │    │         │              │         │    │         │    │    │         │         │         │         │         │         │         │         │         │    │    │         │              │              │         │    │                   └─■──digital marketing_marketing digital_digital marketing digital_marketing marketing digital_marketing  ── Topic: 167\n",
      "     │                        │         │         │    │         │              │         │    │         │    │    │         │         │         │         │         │         │         │         │         │    │    │         │              │              │         │    └─■──google ads social_google ads meta_redes sociales google_analytics google adwords_sociales google ana ── Topic: 71\n",
      "     │                        │         │         │    │         │              │         │    │         │    │    │         │         │         │         │         │         │         │         │         │    │    │         │              │              │         └─sociales facebook instagram_instagram facebook_redes sociales facebook_facebook instagram linkedin_f\n",
      "     │                        │         │         │    │         │              │         │    │         │    │    │         │         │         │         │         │         │         │         │         │    │    │         │              │              │              ├─■──sociales facebook instagram_instagram facebook_facebook instagram linkedin_facebook instagram twitte ── Topic: 210\n",
      "     │                        │         │         │    │         │              │         │    │         │    │    │         │         │         │         │         │         │         │         │         │    │    │         │              │              │              └─■──copys redes sociales_sociales copys redes_marketing redes sociales_redes sociales_redes sociales can ── Topic: 150\n",
      "     │                        │         │         │    │         │              │         │    │         │    │    │         │         │         │         │         │         │         │         │         │    │    │         │              │              └─marketing publicidad diseno_publicidad diseno_grafico publicidad mercadeo_publicidad mercadeo_mercad\n",
      "     │                        │         │         │    │         │              │         │    │         │    │    │         │         │         │         │         │         │         │         │         │    │    │         │              │                   ├─■──diseno grafico publicidad_diseno grafico marketing_diseno publicidad_marketing publicidad diseno_pub ── Topic: 162\n",
      "     │                        │         │         │    │         │              │         │    │         │    │    │         │         │         │         │         │         │         │         │         │    │    │         │              │                   └─■──publicidad mercadeo_mercadeo publicidad_mercadeo publicidad marketing_marketing publicidad_publicida ── Topic: 97\n",
      "     │                        │         │         │    │         │              │         │    │         │    │    │         │         │         │         │         │         │         │         │         │    │    │         │              └─■──redes sociales creatividad_comunicacin redes sociales_gestion redes sociales_redes sociales_tendenci ── Topic: 217\n",
      "     │                        │         │         │    │         │              │         │    │         │    │    │         │         │         │         │         │         │         │         │         │    │    │         └─comerciales financiero equipos_comerciales financiero procesos_financiero procesos comerciales_proce\n",
      "     │                        │         │         │    │         │              │         │    │         │    │    │         │         │         │         │         │         │         │         │         │    │    │              ├─■──microcredito_microservicios_desarrollo microservicios_micro_mipymes ── Topic: 54\n",
      "     │                        │         │         │    │         │              │         │    │         │    │    │         │         │         │         │         │         │         │         │         │    │    │              └─■──procesos comerciales financiero_financiero procesos comerciales_comerciales financiero procesos_come ── Topic: 148\n",
      "     │                        │         │         │    │         │              │         │    │         │    │    │         │         │         │         │         │         │         │         │         │    │    └─■──programa helisa_helisa programa_programa helisa programa_nomina programa helisa_programa contable he ── Topic: 100\n",
      "     │                        │         │         │    │         │              │         │    │         │    │    │         │         │         │         │         │         │         │         │         │    └─■──microsoft office_office microsoft_windows microsoft office_ofimatica microsoft office_microsoft offi ── Topic: 117\n",
      "     │                        │         │         │    │         │              │         │    │         │    │    │         │         │         │         │         │         │         │         │         └─oil gas_industria oil gas_oil gas mantenimiento_petroleo_industria oil\n",
      "     │                        │         │         │    │         │              │         │    │         │    │    │         │         │         │         │         │         │         │         │              ├─■──redes distribucion gas_gas mantenimiento_distribucion gas_redes gas_oil gas mantenimiento ── Topic: 208\n",
      "     │                        │         │         │    │         │              │         │    │         │    │    │         │         │         │         │         │         │         │         │              └─■──oil gas_industria oil gas_oil gas mantenimiento_oil gas programador_petroleo ── Topic: 80\n",
      "     │                        │         │         │    │         │              │         │    │         │    │    │         │         │         │         │         │         │         │         └─■──office excel facturacion_enterprise ofimaticas office_ofimaticas office_meraki office_meraki office  ── Topic: 75\n",
      "     │                        │         │         │    │         │              │         │    │         │    │    │         │         │         │         │         │         │         └─servicio cliente chat_comunicaciones operativos_atencion telefonica soporte_cliente chat_cliente com\n",
      "     │                        │         │         │    │         │              │         │    │         │    │    │         │         │         │         │         │         │              ├─chats_chat_chat redes_servicio cliente chat_cliente chat\n",
      "     │                        │         │         │    │         │              │         │    │         │    │    │         │         │         │         │         │         │              │    ├─■──servicio cliente chat_contact center_chat correo_chat redes_cliente comunicacion ── Topic: 241\n",
      "     │                        │         │         │    │         │              │         │    │         │    │    │         │         │         │         │         │         │              │    └─■──chat_servicio cliente chat_cliente chat_chatbot_servicio cliente ── Topic: 154\n",
      "     │                        │         │         │    │         │              │         │    │         │    │    │         │         │         │         │         │         │              └─■──comunicaciones operativos_atencion telefonica soporte_soporte aplicativos_office soporte_soporte ser ── Topic: 196\n",
      "     │                        │         │         │    │         │              │         │    │         │    │    │         │         │         │         │         │         └─recursos humanos_procesos recursos humanos_gestion humana_personal gestion_humanos\n",
      "     │                        │         │         │    │         │              │         │    │         │    │    │         │         │         │         │         │              ├─■──talento humano_talento_competencias_recursos humanos_reclutamiento personal ── Topic: 39\n",
      "     │                        │         │         │    │         │              │         │    │         │    │    │         │         │         │         │         │              └─■──recursos humanos_procesos recursos humanos_gestion humana_gestion humana contratacion_humana contrat ── Topic: 113\n",
      "     │                        │         │         │    │         │              │         │    │         │    │    │         │         │         │         │         └─■──gestion ambiental_ambiental procesos_environmental_ambiental sistema_ambientales ── Topic: 40\n",
      "     │                        │         │         │    │         │              │         │    │         │    │    │         │         │         │         └─pedagogicos_pedagogico_pedagogicas_proyectos educativos_educativas\n",
      "     │                        │         │         │    │         │              │         │    │         │    │    │         │         │         │              ├─■──discapacidad_programas sociales_intervenciones psicosociales_proyectos educativos_trabajo social ── Topic: 160\n",
      "     │                        │         │         │    │         │              │         │    │         │    │    │         │         │         │              └─■──pedagogico_pedagogicas_educativas_educacion_proyectos programas ── Topic: 174\n",
      "     │                        │         │         │    │         │              │         │    │         │    │    │         │         │         └─■──programacin software_programacion software_software programacion_software gestin_software software ── Topic: 202\n",
      "     │                        │         │         │    │         │              │         │    │         │    │    │         │         └─■──computadores impresoras redes_impresoras redes soporte_redes soporte impresora_mantenimiento computa ── Topic: 228\n",
      "     │                        │         │         │    │         │              │         │    │         │    │    │         └─■──ejecucion asistencia procesos_asistencia procesos_ejecucion asistencia_asistencia gerencia_apoyo ges ── Topic: 171\n",
      "     │                        │         │         │    │         │              │         │    │         │    │    └─■──indicadores gestion actualizacion_fidelizacion clientes programas_cumplimiento indicadores gestion_g ── Topic: 77\n",
      "     │                        │         │         │    │         │              │         │    │         │    └─■──fines_facturacion_siigo facturacion_fines excel_excel facturacion ── Topic: 203\n",
      "     │                        │         │         │    │         │              │         │    │         └─generar ideas_creativos_estrategia creacion_creative_disenos innovadores alineen\n",
      "     │                        │         │         │    │         │              │         │    │              ├─■──documentos texto hojas_documentos texto_texto hojas_hojas calculo presentaciones_redaccion textos ── Topic: 125\n",
      "     │                        │         │         │    │         │              │         │    │              └─■──generar ideas_marcas crear_creativos_estrategia creacion_creative ── Topic: 35\n",
      "     │                        │         │         │    │         │              │         │    └─■──automatizacion_desarrollo api_gestion api_configuraciones_integracion ── Topic: 222\n",
      "     │                        │         │         │    │         │              │         └─■──plataformas tecnologicas aplicaciones_plataformas tecnolgicas_tecnologias plataformas_plataformas te ── Topic: 152\n",
      "     │                        │         │         │    │         │              └─■──redes datos soporte_redes datos_comunicacion datos redes_datos redes datos_basicos redes datos ── Topic: 249\n",
      "     │                        │         │         │    │         └─■──zeus_sap mdulo_afine_ingli_zeus profesiones ── Topic: 2\n",
      "     │                        │         │         │    └─■──impresoras laser_correctivo impresoras laser_impresoras laser equipos_laser equipos computo_laser eq ── Topic: 165\n",
      "     │                        │         │         └─■──casos programacion tikets_gestion tickets casos_tickets casos servicenow_programacion tikets_platafo ── Topic: 213\n",
      "     │                        │         └─■──vehicular_protocolos_protocols_knowledge_systems ── Topic: 195\n",
      "     │                        └─■──normalizacion_mecanismos_causacin_causaciones_condiciones ── Topic: 218\n",
      "     └─■──importaciones_normatividad aduanera_empresas transportes_transportes_logisticos ── Topic: 180\n",
      "\n"
     ]
    }
   ],
   "source": [
    "tree = model.get_topic_tree(model_jer)\n",
    ">>> print(tree)"
   ]
  },
  {
   "cell_type": "code",
   "execution_count": 39,
   "id": "wODnfY9FBEAZ",
   "metadata": {
    "colab": {
     "base_uri": "https://localhost:8080/",
     "height": 493
    },
    "id": "wODnfY9FBEAZ",
    "outputId": "d5a38e70-d7a0-4dd0-9579-7a7edfdcac45"
   },
   "outputs": [
    {
     "data": {
      "text/html": [
       "<div>\n",
       "<style scoped>\n",
       "    .dataframe tbody tr th:only-of-type {\n",
       "        vertical-align: middle;\n",
       "    }\n",
       "\n",
       "    .dataframe tbody tr th {\n",
       "        vertical-align: top;\n",
       "    }\n",
       "\n",
       "    .dataframe thead th {\n",
       "        text-align: right;\n",
       "    }\n",
       "</style>\n",
       "<table border=\"1\" class=\"dataframe\">\n",
       "  <thead>\n",
       "    <tr style=\"text-align: right;\">\n",
       "      <th></th>\n",
       "      <th>Topic</th>\n",
       "      <th>Count</th>\n",
       "      <th>Name</th>\n",
       "      <th>Representation</th>\n",
       "      <th>Representative_Docs</th>\n",
       "    </tr>\n",
       "  </thead>\n",
       "  <tbody>\n",
       "    <tr>\n",
       "      <th>0</th>\n",
       "      <td>-1</td>\n",
       "      <td>5745</td>\n",
       "      <td>-1_paquete office_paquete_office_soporte</td>\n",
       "      <td>[paquete office, paquete, office, soporte, sop...</td>\n",
       "      <td>[Paquete Office, Paquete Office, Paquete Office]</td>\n",
       "    </tr>\n",
       "    <tr>\n",
       "      <th>1</th>\n",
       "      <td>0</td>\n",
       "      <td>644</td>\n",
       "      <td>0_sistemas eléctricos_eléctricos sistemas_eléc...</td>\n",
       "      <td>[sistemas eléctricos, eléctricos sistemas, elé...</td>\n",
       "      <td>[Sistemas eléctricos, Sistemas eléctricos, Sis...</td>\n",
       "    </tr>\n",
       "    <tr>\n",
       "      <th>2</th>\n",
       "      <td>1</td>\n",
       "      <td>445</td>\n",
       "      <td>1_ambientales seguimiento_ambientales licencia...</td>\n",
       "      <td>[ambientales seguimiento, ambientales licencia...</td>\n",
       "      <td>[Ciencias ambientales, Monitoreos ambientales,...</td>\n",
       "    </tr>\n",
       "    <tr>\n",
       "      <th>3</th>\n",
       "      <td>2</td>\n",
       "      <td>413</td>\n",
       "      <td>2_mantenimiento redes eléctricas_mantenimiento...</td>\n",
       "      <td>[mantenimiento redes eléctricas, mantenimiento...</td>\n",
       "      <td>[Mantenimiento de redes eléctricas, Mantenimie...</td>\n",
       "    </tr>\n",
       "    <tr>\n",
       "      <th>4</th>\n",
       "      <td>3</td>\n",
       "      <td>393</td>\n",
       "      <td>3_software_software diseño_programadas_softwar...</td>\n",
       "      <td>[software, software diseño, programadas, softw...</td>\n",
       "      <td>[Software, Software HECHMS, Software de Office]</td>\n",
       "    </tr>\n",
       "    <tr>\n",
       "      <th>...</th>\n",
       "      <td>...</td>\n",
       "      <td>...</td>\n",
       "      <td>...</td>\n",
       "      <td>...</td>\n",
       "      <td>...</td>\n",
       "    </tr>\n",
       "    <tr>\n",
       "      <th>89</th>\n",
       "      <td>88</td>\n",
       "      <td>53</td>\n",
       "      <td>88_aplicativos___</td>\n",
       "      <td>[aplicativos, , , , , , , , , ]</td>\n",
       "      <td>[NO_APLICA, NO_APLICA, Aplicativos]</td>\n",
       "    </tr>\n",
       "    <tr>\n",
       "      <th>90</th>\n",
       "      <td>89</td>\n",
       "      <td>53</td>\n",
       "      <td>89_residuos hospitalarios_hospitalarios manejo...</td>\n",
       "      <td>[residuos hospitalarios, hospitalarios manejo,...</td>\n",
       "      <td>[Manejo de residuos hospitalarios, Manejo de r...</td>\n",
       "    </tr>\n",
       "    <tr>\n",
       "      <th>91</th>\n",
       "      <td>90</td>\n",
       "      <td>53</td>\n",
       "      <td>90_contratación_seguimiento contratos_selecció...</td>\n",
       "      <td>[contratación, seguimiento contratos, selecció...</td>\n",
       "      <td>[Planeación de compras y contratación, Planeac...</td>\n",
       "    </tr>\n",
       "    <tr>\n",
       "      <th>92</th>\n",
       "      <td>91</td>\n",
       "      <td>53</td>\n",
       "      <td>91_diseño_diseno_disenos_diseños</td>\n",
       "      <td>[diseño, diseno, disenos, diseños, mecánico, ,...</td>\n",
       "      <td>[Diseño, Diseño, Diseño]</td>\n",
       "    </tr>\n",
       "    <tr>\n",
       "      <th>93</th>\n",
       "      <td>92</td>\n",
       "      <td>52</td>\n",
       "      <td>92_ingeniería_ingenieria_ingeniería básica_ing...</td>\n",
       "      <td>[ingeniería, ingenieria, ingeniería básica, in...</td>\n",
       "      <td>[Ingeniería, Ingeniería conceptual, Ingeniería]</td>\n",
       "    </tr>\n",
       "  </tbody>\n",
       "</table>\n",
       "<p>94 rows × 5 columns</p>\n",
       "</div>"
      ],
      "text/plain": [
       "    Topic  Count                                               Name  \\\n",
       "0      -1   5745           -1_paquete office_paquete_office_soporte   \n",
       "1       0    644  0_sistemas eléctricos_eléctricos sistemas_eléc...   \n",
       "2       1    445  1_ambientales seguimiento_ambientales licencia...   \n",
       "3       2    413  2_mantenimiento redes eléctricas_mantenimiento...   \n",
       "4       3    393  3_software_software diseño_programadas_softwar...   \n",
       "..    ...    ...                                                ...   \n",
       "89     88     53                                  88_aplicativos___   \n",
       "90     89     53  89_residuos hospitalarios_hospitalarios manejo...   \n",
       "91     90     53  90_contratación_seguimiento contratos_selecció...   \n",
       "92     91     53                   91_diseño_diseno_disenos_diseños   \n",
       "93     92     52  92_ingeniería_ingenieria_ingeniería básica_ing...   \n",
       "\n",
       "                                       Representation  \\\n",
       "0   [paquete office, paquete, office, soporte, sop...   \n",
       "1   [sistemas eléctricos, eléctricos sistemas, elé...   \n",
       "2   [ambientales seguimiento, ambientales licencia...   \n",
       "3   [mantenimiento redes eléctricas, mantenimiento...   \n",
       "4   [software, software diseño, programadas, softw...   \n",
       "..                                                ...   \n",
       "89                    [aplicativos, , , , , , , , , ]   \n",
       "90  [residuos hospitalarios, hospitalarios manejo,...   \n",
       "91  [contratación, seguimiento contratos, selecció...   \n",
       "92  [diseño, diseno, disenos, diseños, mecánico, ,...   \n",
       "93  [ingeniería, ingenieria, ingeniería básica, in...   \n",
       "\n",
       "                                  Representative_Docs  \n",
       "0    [Paquete Office, Paquete Office, Paquete Office]  \n",
       "1   [Sistemas eléctricos, Sistemas eléctricos, Sis...  \n",
       "2   [Ciencias ambientales, Monitoreos ambientales,...  \n",
       "3   [Mantenimiento de redes eléctricas, Mantenimie...  \n",
       "4     [Software, Software HECHMS, Software de Office]  \n",
       "..                                                ...  \n",
       "89                [NO_APLICA, NO_APLICA, Aplicativos]  \n",
       "90  [Manejo de residuos hospitalarios, Manejo de r...  \n",
       "91  [Planeación de compras y contratación, Planeac...  \n",
       "92                           [Diseño, Diseño, Diseño]  \n",
       "93    [Ingeniería, Ingeniería conceptual, Ingeniería]  \n",
       "\n",
       "[94 rows x 5 columns]"
      ]
     },
     "execution_count": 39,
     "metadata": {},
     "output_type": "execute_result"
    }
   ],
   "source": [
    "model.get_topic_info()"
   ]
  },
  {
   "cell_type": "code",
   "execution_count": 81,
   "id": "5d856157",
   "metadata": {},
   "outputs": [
    {
     "data": {
      "text/html": [
       "<div>\n",
       "<style scoped>\n",
       "    .dataframe tbody tr th:only-of-type {\n",
       "        vertical-align: middle;\n",
       "    }\n",
       "\n",
       "    .dataframe tbody tr th {\n",
       "        vertical-align: top;\n",
       "    }\n",
       "\n",
       "    .dataframe thead th {\n",
       "        text-align: right;\n",
       "    }\n",
       "</style>\n",
       "<table border=\"1\" class=\"dataframe\">\n",
       "  <thead>\n",
       "    <tr style=\"text-align: right;\">\n",
       "      <th></th>\n",
       "      <th>Document</th>\n",
       "      <th>Topic</th>\n",
       "      <th>Name</th>\n",
       "      <th>Representation</th>\n",
       "      <th>Representative_Docs</th>\n",
       "      <th>Top_n_words</th>\n",
       "      <th>Probability</th>\n",
       "      <th>Representative_document</th>\n",
       "    </tr>\n",
       "  </thead>\n",
       "  <tbody>\n",
       "    <tr>\n",
       "      <th>0</th>\n",
       "      <td>mantenimiento de maquinaria industrial</td>\n",
       "      <td>-1</td>\n",
       "      <td>-1_servicio al cliente_en el trabajo_servicio ...</td>\n",
       "      <td>[servicio al cliente, en el trabajo, servicio ...</td>\n",
       "      <td>[Huella de carbono, Sistema de gestión de segu...</td>\n",
       "      <td>servicio al cliente - en el trabajo - servicio...</td>\n",
       "      <td>0.000000</td>\n",
       "      <td>False</td>\n",
       "    </tr>\n",
       "    <tr>\n",
       "      <th>1</th>\n",
       "      <td>manejo de bombas de vacío</td>\n",
       "      <td>-1</td>\n",
       "      <td>-1_servicio al cliente_en el trabajo_servicio ...</td>\n",
       "      <td>[servicio al cliente, en el trabajo, servicio ...</td>\n",
       "      <td>[Huella de carbono, Sistema de gestión de segu...</td>\n",
       "      <td>servicio al cliente - en el trabajo - servicio...</td>\n",
       "      <td>0.000000</td>\n",
       "      <td>False</td>\n",
       "    </tr>\n",
       "    <tr>\n",
       "      <th>2</th>\n",
       "      <td>equipos de soldadura</td>\n",
       "      <td>-1</td>\n",
       "      <td>-1_servicio al cliente_en el trabajo_servicio ...</td>\n",
       "      <td>[servicio al cliente, en el trabajo, servicio ...</td>\n",
       "      <td>[Huella de carbono, Sistema de gestión de segu...</td>\n",
       "      <td>servicio al cliente - en el trabajo - servicio...</td>\n",
       "      <td>0.000000</td>\n",
       "      <td>False</td>\n",
       "    </tr>\n",
       "    <tr>\n",
       "      <th>3</th>\n",
       "      <td>mecánica hidráulica</td>\n",
       "      <td>75</td>\n",
       "      <td>75_instalación tubería_sistemas seguridad elec...</td>\n",
       "      <td>[instalación tubería, sistemas seguridad elect...</td>\n",
       "      <td>[Instalación de tubería y cableado para sistem...</td>\n",
       "      <td>instalación tubería - sistemas seguridad elect...</td>\n",
       "      <td>1.000000</td>\n",
       "      <td>False</td>\n",
       "    </tr>\n",
       "    <tr>\n",
       "      <th>4</th>\n",
       "      <td>Control integrado de plagas</td>\n",
       "      <td>-1</td>\n",
       "      <td>-1_servicio al cliente_en el trabajo_servicio ...</td>\n",
       "      <td>[servicio al cliente, en el trabajo, servicio ...</td>\n",
       "      <td>[Huella de carbono, Sistema de gestión de segu...</td>\n",
       "      <td>servicio al cliente - en el trabajo - servicio...</td>\n",
       "      <td>0.000000</td>\n",
       "      <td>False</td>\n",
       "    </tr>\n",
       "    <tr>\n",
       "      <th>...</th>\n",
       "      <td>...</td>\n",
       "      <td>...</td>\n",
       "      <td>...</td>\n",
       "      <td>...</td>\n",
       "      <td>...</td>\n",
       "      <td>...</td>\n",
       "      <td>...</td>\n",
       "      <td>...</td>\n",
       "    </tr>\n",
       "    <tr>\n",
       "      <th>16503</th>\n",
       "      <td>Soporte técnico</td>\n",
       "      <td>16</td>\n",
       "      <td>16_soporte tecnico_soporte técnico_soporte téc...</td>\n",
       "      <td>[soporte tecnico, soporte técnico, soporte téc...</td>\n",
       "      <td>[Soporte técnico, Soporte técnico, Soporte téc...</td>\n",
       "      <td>soporte tecnico - soporte técnico - soporte té...</td>\n",
       "      <td>0.837394</td>\n",
       "      <td>True</td>\n",
       "    </tr>\n",
       "    <tr>\n",
       "      <th>16504</th>\n",
       "      <td>Mantenimiento preventivo</td>\n",
       "      <td>-1</td>\n",
       "      <td>-1_servicio al cliente_en el trabajo_servicio ...</td>\n",
       "      <td>[servicio al cliente, en el trabajo, servicio ...</td>\n",
       "      <td>[Huella de carbono, Sistema de gestión de segu...</td>\n",
       "      <td>servicio al cliente - en el trabajo - servicio...</td>\n",
       "      <td>0.000000</td>\n",
       "      <td>False</td>\n",
       "    </tr>\n",
       "    <tr>\n",
       "      <th>16505</th>\n",
       "      <td>Sistemas de refrigeración</td>\n",
       "      <td>-1</td>\n",
       "      <td>-1_servicio al cliente_en el trabajo_servicio ...</td>\n",
       "      <td>[servicio al cliente, en el trabajo, servicio ...</td>\n",
       "      <td>[Huella de carbono, Sistema de gestión de segu...</td>\n",
       "      <td>servicio al cliente - en el trabajo - servicio...</td>\n",
       "      <td>0.000000</td>\n",
       "      <td>False</td>\n",
       "    </tr>\n",
       "    <tr>\n",
       "      <th>16506</th>\n",
       "      <td>Sistemas HVAC</td>\n",
       "      <td>81</td>\n",
       "      <td>81_hvac_hvac proyectos_sistemas aire acondicio...</td>\n",
       "      <td>[hvac, hvac proyectos, sistemas aire acondicio...</td>\n",
       "      <td>[Sistemas HVAC, Sistemas HVAC, Sistemas HVAC]</td>\n",
       "      <td>hvac - hvac proyectos - sistemas aire acondici...</td>\n",
       "      <td>1.000000</td>\n",
       "      <td>True</td>\n",
       "    </tr>\n",
       "    <tr>\n",
       "      <th>16507</th>\n",
       "      <td>Equipos de generación y servicios industriales</td>\n",
       "      <td>65</td>\n",
       "      <td>65_servicios públicos_servicios en_servicios_s...</td>\n",
       "      <td>[servicios públicos, servicios en, servicios, ...</td>\n",
       "      <td>[Servicios y seguridad, Servicios, Servicios i...</td>\n",
       "      <td>servicios públicos - servicios en - servicios ...</td>\n",
       "      <td>1.000000</td>\n",
       "      <td>False</td>\n",
       "    </tr>\n",
       "  </tbody>\n",
       "</table>\n",
       "<p>16508 rows × 8 columns</p>\n",
       "</div>"
      ],
      "text/plain": [
       "                                             Document  Topic  \\\n",
       "0              mantenimiento de maquinaria industrial     -1   \n",
       "1                           manejo de bombas de vacío     -1   \n",
       "2                                equipos de soldadura     -1   \n",
       "3                                 mecánica hidráulica     75   \n",
       "4                         Control integrado de plagas     -1   \n",
       "...                                               ...    ...   \n",
       "16503                                 Soporte técnico     16   \n",
       "16504                        Mantenimiento preventivo     -1   \n",
       "16505                       Sistemas de refrigeración     -1   \n",
       "16506                                   Sistemas HVAC     81   \n",
       "16507  Equipos de generación y servicios industriales     65   \n",
       "\n",
       "                                                    Name  \\\n",
       "0      -1_servicio al cliente_en el trabajo_servicio ...   \n",
       "1      -1_servicio al cliente_en el trabajo_servicio ...   \n",
       "2      -1_servicio al cliente_en el trabajo_servicio ...   \n",
       "3      75_instalación tubería_sistemas seguridad elec...   \n",
       "4      -1_servicio al cliente_en el trabajo_servicio ...   \n",
       "...                                                  ...   \n",
       "16503  16_soporte tecnico_soporte técnico_soporte téc...   \n",
       "16504  -1_servicio al cliente_en el trabajo_servicio ...   \n",
       "16505  -1_servicio al cliente_en el trabajo_servicio ...   \n",
       "16506  81_hvac_hvac proyectos_sistemas aire acondicio...   \n",
       "16507  65_servicios públicos_servicios en_servicios_s...   \n",
       "\n",
       "                                          Representation  \\\n",
       "0      [servicio al cliente, en el trabajo, servicio ...   \n",
       "1      [servicio al cliente, en el trabajo, servicio ...   \n",
       "2      [servicio al cliente, en el trabajo, servicio ...   \n",
       "3      [instalación tubería, sistemas seguridad elect...   \n",
       "4      [servicio al cliente, en el trabajo, servicio ...   \n",
       "...                                                  ...   \n",
       "16503  [soporte tecnico, soporte técnico, soporte téc...   \n",
       "16504  [servicio al cliente, en el trabajo, servicio ...   \n",
       "16505  [servicio al cliente, en el trabajo, servicio ...   \n",
       "16506  [hvac, hvac proyectos, sistemas aire acondicio...   \n",
       "16507  [servicios públicos, servicios en, servicios, ...   \n",
       "\n",
       "                                     Representative_Docs  \\\n",
       "0      [Huella de carbono, Sistema de gestión de segu...   \n",
       "1      [Huella de carbono, Sistema de gestión de segu...   \n",
       "2      [Huella de carbono, Sistema de gestión de segu...   \n",
       "3      [Instalación de tubería y cableado para sistem...   \n",
       "4      [Huella de carbono, Sistema de gestión de segu...   \n",
       "...                                                  ...   \n",
       "16503  [Soporte técnico, Soporte técnico, Soporte téc...   \n",
       "16504  [Huella de carbono, Sistema de gestión de segu...   \n",
       "16505  [Huella de carbono, Sistema de gestión de segu...   \n",
       "16506      [Sistemas HVAC, Sistemas HVAC, Sistemas HVAC]   \n",
       "16507  [Servicios y seguridad, Servicios, Servicios i...   \n",
       "\n",
       "                                             Top_n_words  Probability  \\\n",
       "0      servicio al cliente - en el trabajo - servicio...     0.000000   \n",
       "1      servicio al cliente - en el trabajo - servicio...     0.000000   \n",
       "2      servicio al cliente - en el trabajo - servicio...     0.000000   \n",
       "3      instalación tubería - sistemas seguridad elect...     1.000000   \n",
       "4      servicio al cliente - en el trabajo - servicio...     0.000000   \n",
       "...                                                  ...          ...   \n",
       "16503  soporte tecnico - soporte técnico - soporte té...     0.837394   \n",
       "16504  servicio al cliente - en el trabajo - servicio...     0.000000   \n",
       "16505  servicio al cliente - en el trabajo - servicio...     0.000000   \n",
       "16506  hvac - hvac proyectos - sistemas aire acondici...     1.000000   \n",
       "16507  servicios públicos - servicios en - servicios ...     1.000000   \n",
       "\n",
       "       Representative_document  \n",
       "0                        False  \n",
       "1                        False  \n",
       "2                        False  \n",
       "3                        False  \n",
       "4                        False  \n",
       "...                        ...  \n",
       "16503                     True  \n",
       "16504                    False  \n",
       "16505                    False  \n",
       "16506                     True  \n",
       "16507                    False  \n",
       "\n",
       "[16508 rows x 8 columns]"
      ]
     },
     "execution_count": 81,
     "metadata": {},
     "output_type": "execute_result"
    }
   ],
   "source": [
    "documentos"
   ]
  },
  {
   "cell_type": "code",
   "execution_count": 87,
   "id": "_T8MF8dbA7xR",
   "metadata": {
    "colab": {
     "base_uri": "https://localhost:8080/",
     "height": 999
    },
    "id": "_T8MF8dbA7xR",
    "outputId": "5fa30d21-ae8a-4cf7-8bf4-6f9cd5ce8c95"
   },
   "outputs": [
    {
     "name": "stdout",
     "output_type": "stream",
     "text": [
      "Numero de filas: 16508 \n",
      "Numero de columnas: 8\n"
     ]
    },
    {
     "data": {
      "text/html": [
       "<div>\n",
       "<style scoped>\n",
       "    .dataframe tbody tr th:only-of-type {\n",
       "        vertical-align: middle;\n",
       "    }\n",
       "\n",
       "    .dataframe tbody tr th {\n",
       "        vertical-align: top;\n",
       "    }\n",
       "\n",
       "    .dataframe thead th {\n",
       "        text-align: right;\n",
       "    }\n",
       "</style>\n",
       "<table border=\"1\" class=\"dataframe\">\n",
       "  <thead>\n",
       "    <tr style=\"text-align: right;\">\n",
       "      <th></th>\n",
       "      <th>Document</th>\n",
       "      <th>Topic</th>\n",
       "      <th>Name</th>\n",
       "      <th>Representation</th>\n",
       "      <th>Representative_Docs</th>\n",
       "      <th>Top_n_words</th>\n",
       "      <th>Probability</th>\n",
       "      <th>Representative_document</th>\n",
       "    </tr>\n",
       "  </thead>\n",
       "  <tbody>\n",
       "    <tr>\n",
       "      <th>0</th>\n",
       "      <td>mantenimiento de maquinaria industrial</td>\n",
       "      <td>-1</td>\n",
       "      <td>-1_servicio al cliente_en el trabajo_servicio ...</td>\n",
       "      <td>[servicio al cliente, en el trabajo, servicio ...</td>\n",
       "      <td>[Huella de carbono, Sistema de gestión de segu...</td>\n",
       "      <td>servicio al cliente - en el trabajo - servicio...</td>\n",
       "      <td>0.0</td>\n",
       "      <td>False</td>\n",
       "    </tr>\n",
       "    <tr>\n",
       "      <th>1</th>\n",
       "      <td>manejo de bombas de vacío</td>\n",
       "      <td>-1</td>\n",
       "      <td>-1_servicio al cliente_en el trabajo_servicio ...</td>\n",
       "      <td>[servicio al cliente, en el trabajo, servicio ...</td>\n",
       "      <td>[Huella de carbono, Sistema de gestión de segu...</td>\n",
       "      <td>servicio al cliente - en el trabajo - servicio...</td>\n",
       "      <td>0.0</td>\n",
       "      <td>False</td>\n",
       "    </tr>\n",
       "    <tr>\n",
       "      <th>2</th>\n",
       "      <td>equipos de soldadura</td>\n",
       "      <td>-1</td>\n",
       "      <td>-1_servicio al cliente_en el trabajo_servicio ...</td>\n",
       "      <td>[servicio al cliente, en el trabajo, servicio ...</td>\n",
       "      <td>[Huella de carbono, Sistema de gestión de segu...</td>\n",
       "      <td>servicio al cliente - en el trabajo - servicio...</td>\n",
       "      <td>0.0</td>\n",
       "      <td>False</td>\n",
       "    </tr>\n",
       "    <tr>\n",
       "      <th>3</th>\n",
       "      <td>mecánica hidráulica</td>\n",
       "      <td>75</td>\n",
       "      <td>75_instalación tubería_sistemas seguridad elec...</td>\n",
       "      <td>[instalación tubería, sistemas seguridad elect...</td>\n",
       "      <td>[Instalación de tubería y cableado para sistem...</td>\n",
       "      <td>instalación tubería - sistemas seguridad elect...</td>\n",
       "      <td>1.0</td>\n",
       "      <td>False</td>\n",
       "    </tr>\n",
       "    <tr>\n",
       "      <th>4</th>\n",
       "      <td>Control integrado de plagas</td>\n",
       "      <td>-1</td>\n",
       "      <td>-1_servicio al cliente_en el trabajo_servicio ...</td>\n",
       "      <td>[servicio al cliente, en el trabajo, servicio ...</td>\n",
       "      <td>[Huella de carbono, Sistema de gestión de segu...</td>\n",
       "      <td>servicio al cliente - en el trabajo - servicio...</td>\n",
       "      <td>0.0</td>\n",
       "      <td>False</td>\n",
       "    </tr>\n",
       "  </tbody>\n",
       "</table>\n",
       "</div>"
      ],
      "text/plain": [
       "                                 Document  Topic  \\\n",
       "0  mantenimiento de maquinaria industrial     -1   \n",
       "1               manejo de bombas de vacío     -1   \n",
       "2                    equipos de soldadura     -1   \n",
       "3                     mecánica hidráulica     75   \n",
       "4             Control integrado de plagas     -1   \n",
       "\n",
       "                                                Name  \\\n",
       "0  -1_servicio al cliente_en el trabajo_servicio ...   \n",
       "1  -1_servicio al cliente_en el trabajo_servicio ...   \n",
       "2  -1_servicio al cliente_en el trabajo_servicio ...   \n",
       "3  75_instalación tubería_sistemas seguridad elec...   \n",
       "4  -1_servicio al cliente_en el trabajo_servicio ...   \n",
       "\n",
       "                                      Representation  \\\n",
       "0  [servicio al cliente, en el trabajo, servicio ...   \n",
       "1  [servicio al cliente, en el trabajo, servicio ...   \n",
       "2  [servicio al cliente, en el trabajo, servicio ...   \n",
       "3  [instalación tubería, sistemas seguridad elect...   \n",
       "4  [servicio al cliente, en el trabajo, servicio ...   \n",
       "\n",
       "                                 Representative_Docs  \\\n",
       "0  [Huella de carbono, Sistema de gestión de segu...   \n",
       "1  [Huella de carbono, Sistema de gestión de segu...   \n",
       "2  [Huella de carbono, Sistema de gestión de segu...   \n",
       "3  [Instalación de tubería y cableado para sistem...   \n",
       "4  [Huella de carbono, Sistema de gestión de segu...   \n",
       "\n",
       "                                         Top_n_words  Probability  \\\n",
       "0  servicio al cliente - en el trabajo - servicio...          0.0   \n",
       "1  servicio al cliente - en el trabajo - servicio...          0.0   \n",
       "2  servicio al cliente - en el trabajo - servicio...          0.0   \n",
       "3  instalación tubería - sistemas seguridad elect...          1.0   \n",
       "4  servicio al cliente - en el trabajo - servicio...          0.0   \n",
       "\n",
       "   Representative_document  \n",
       "0                    False  \n",
       "1                    False  \n",
       "2                    False  \n",
       "3                    False  \n",
       "4                    False  "
      ]
     },
     "execution_count": 87,
     "metadata": {},
     "output_type": "execute_result"
    }
   ],
   "source": [
    "documentos = model.get_document_info(conocimientos_list)\n",
    "print(f\"Numero de filas: {documentos.shape[0]} \\nNumero de columnas: {documentos.shape[1]}\")\n",
    "documentos.head()\n"
   ]
  },
  {
   "cell_type": "code",
   "execution_count": null,
   "id": "2c691fea",
   "metadata": {},
   "outputs": [],
   "source": [
    "documentos['id'] = list(conoc_df['id'])\n",
    "documentos['descripcion'] =list(conoc_df['descripcion'])\n",
    "documentos['conocimientos'] =list(conoc_df['conocimientos'])\n",
    "documentos['titulo_vacante'] =list(conoc_df['titulo_vacante'])"
   ]
  },
  {
   "cell_type": "code",
   "execution_count": null,
   "id": "55878a6a-6d6a-4f30-9885-ab52b60f6c16",
   "metadata": {},
   "outputs": [],
   "source": [
    "documentos.head()"
   ]
  },
  {
   "cell_type": "code",
   "execution_count": null,
   "id": "nooJ9LZ6PTQ7",
   "metadata": {
    "id": "nooJ9LZ6PTQ7"
   },
   "outputs": [],
   "source": [
    "#guardar los resultados en la carpeta output\n",
    "documentos.to_excel(\"../output/doc_topics_tec_anom.xlsx\")"
   ]
  },
  {
   "cell_type": "code",
   "execution_count": null,
   "id": "QehrUzJJBh_a",
   "metadata": {
    "colab": {
     "base_uri": "https://localhost:8080/",
     "height": 504
    },
    "id": "QehrUzJJBh_a",
    "outputId": "17837930-4752-4d7d-c563-49810ae4ef0d"
   },
   "outputs": [
    {
     "data": {
      "text/html": [
       "<div>\n",
       "<style scoped>\n",
       "    .dataframe tbody tr th:only-of-type {\n",
       "        vertical-align: middle;\n",
       "    }\n",
       "\n",
       "    .dataframe tbody tr th {\n",
       "        vertical-align: top;\n",
       "    }\n",
       "\n",
       "    .dataframe thead th {\n",
       "        text-align: right;\n",
       "    }\n",
       "</style>\n",
       "<table border=\"1\" class=\"dataframe\">\n",
       "  <thead>\n",
       "    <tr style=\"text-align: right;\">\n",
       "      <th></th>\n",
       "      <th>Document</th>\n",
       "      <th>Topic</th>\n",
       "      <th>Name</th>\n",
       "      <th>Representation</th>\n",
       "      <th>Representative_Docs</th>\n",
       "      <th>Top_n_words</th>\n",
       "      <th>Probability</th>\n",
       "      <th>Representative_document</th>\n",
       "      <th>id</th>\n",
       "      <th>conocimientos</th>\n",
       "      <th>titulo_vacante</th>\n",
       "      <th>descripcion</th>\n",
       "    </tr>\n",
       "  </thead>\n",
       "  <tbody>\n",
       "    <tr>\n",
       "      <th>0</th>\n",
       "      <td>'mantenimiento de maquinaria industrial', 'man...</td>\n",
       "      <td>25</td>\n",
       "      <td>25_maquinaria_industrial_vacío_hidráulica</td>\n",
       "      <td>[maquinaria, industrial, vacío, hidráulica, bo...</td>\n",
       "      <td>['Mantenimiento de maquinaria industrial', 'Bo...</td>\n",
       "      <td>maquinaria - industrial - vacío - hidráulica -...</td>\n",
       "      <td>0.779500</td>\n",
       "      <td>False</td>\n",
       "      <td>180</td>\n",
       "      <td>'mantenimiento de maquinaria industrial', 'man...</td>\n",
       "      <td>auxiliar de servicio tecnico industrial</td>\n",
       "      <td>importante multinacional del sector energetico...</td>\n",
       "    </tr>\n",
       "    <tr>\n",
       "      <th>1</th>\n",
       "      <td>'Control integrado de plagas', 'Control de roe...</td>\n",
       "      <td>28</td>\n",
       "      <td>28_plagas_lavado_limpieza_desinfección</td>\n",
       "      <td>[plagas, lavado, limpieza, desinfección, tanqu...</td>\n",
       "      <td>['Lavado de tanques', 'Curso de alturas', 'Man...</td>\n",
       "      <td>plagas - lavado - limpieza - desinfección - ta...</td>\n",
       "      <td>1.000000</td>\n",
       "      <td>False</td>\n",
       "      <td>368</td>\n",
       "      <td>'Control integrado de plagas', 'Control de roe...</td>\n",
       "      <td>tecnico fumigador - con moto</td>\n",
       "      <td>importante empresa dedicada a la prestacion de...</td>\n",
       "    </tr>\n",
       "    <tr>\n",
       "      <th>2</th>\n",
       "      <td>'Proyectos de seguridad electrónica', 'Dimensi...</td>\n",
       "      <td>27</td>\n",
       "      <td>27_cctv_acceso_cableado_sistemas</td>\n",
       "      <td>[cctv, acceso, cableado, sistemas, incendios, ...</td>\n",
       "      <td>['Sistemas UPS', 'Cableado eléctrico', 'Sistem...</td>\n",
       "      <td>cctv - acceso - cableado - sistemas - incendio...</td>\n",
       "      <td>0.000000</td>\n",
       "      <td>False</td>\n",
       "      <td>637</td>\n",
       "      <td>'Proyectos de seguridad electrónica', 'Dimensi...</td>\n",
       "      <td>ingeniero preventa</td>\n",
       "      <td>importante empresa requiere para su equipo de ...</td>\n",
       "    </tr>\n",
       "    <tr>\n",
       "      <th>3</th>\n",
       "      <td>'Mantenimiento preventivo y correctivo de rede...</td>\n",
       "      <td>41</td>\n",
       "      <td>41_eléctricas_redes_instalación_mantenimiento</td>\n",
       "      <td>[eléctricas, redes, instalación, mantenimiento...</td>\n",
       "      <td>['Mantenimiento preventivo redes eléctricas', ...</td>\n",
       "      <td>eléctricas - redes - instalación - mantenimien...</td>\n",
       "      <td>0.995023</td>\n",
       "      <td>False</td>\n",
       "      <td>702</td>\n",
       "      <td>'Mantenimiento preventivo y correctivo de rede...</td>\n",
       "      <td>tecnico electricista - lugar de trabajo: bogota</td>\n",
       "      <td>importante empresa requiere tecnico electricis...</td>\n",
       "    </tr>\n",
       "    <tr>\n",
       "      <th>4</th>\n",
       "      <td>'Ventas telefónicas', 'Call center'</td>\n",
       "      <td>5</td>\n",
       "      <td>5_clientes_ventas_venta_comercial</td>\n",
       "      <td>[clientes, ventas, venta, comercial, productos...</td>\n",
       "      <td>['Ventas', 'Gestión de clientes', 'Negociacion...</td>\n",
       "      <td>clientes - ventas - venta - comercial - produc...</td>\n",
       "      <td>0.639780</td>\n",
       "      <td>False</td>\n",
       "      <td>1123</td>\n",
       "      <td>'Ventas telefónicas', 'Call center'</td>\n",
       "      <td>vendedor/a - experiencia en ventes telefonicas</td>\n",
       "      <td>importante compania del sector de saneamiento ...</td>\n",
       "    </tr>\n",
       "  </tbody>\n",
       "</table>\n",
       "</div>"
      ],
      "text/plain": [
       "                                            Document  Topic  \\\n",
       "0  'mantenimiento de maquinaria industrial', 'man...     25   \n",
       "1  'Control integrado de plagas', 'Control de roe...     28   \n",
       "2  'Proyectos de seguridad electrónica', 'Dimensi...     27   \n",
       "3  'Mantenimiento preventivo y correctivo de rede...     41   \n",
       "4                'Ventas telefónicas', 'Call center'      5   \n",
       "\n",
       "                                            Name  \\\n",
       "0      25_maquinaria_industrial_vacío_hidráulica   \n",
       "1         28_plagas_lavado_limpieza_desinfección   \n",
       "2               27_cctv_acceso_cableado_sistemas   \n",
       "3  41_eléctricas_redes_instalación_mantenimiento   \n",
       "4              5_clientes_ventas_venta_comercial   \n",
       "\n",
       "                                      Representation  \\\n",
       "0  [maquinaria, industrial, vacío, hidráulica, bo...   \n",
       "1  [plagas, lavado, limpieza, desinfección, tanqu...   \n",
       "2  [cctv, acceso, cableado, sistemas, incendios, ...   \n",
       "3  [eléctricas, redes, instalación, mantenimiento...   \n",
       "4  [clientes, ventas, venta, comercial, productos...   \n",
       "\n",
       "                                 Representative_Docs  \\\n",
       "0  ['Mantenimiento de maquinaria industrial', 'Bo...   \n",
       "1  ['Lavado de tanques', 'Curso de alturas', 'Man...   \n",
       "2  ['Sistemas UPS', 'Cableado eléctrico', 'Sistem...   \n",
       "3  ['Mantenimiento preventivo redes eléctricas', ...   \n",
       "4  ['Ventas', 'Gestión de clientes', 'Negociacion...   \n",
       "\n",
       "                                         Top_n_words  Probability  \\\n",
       "0  maquinaria - industrial - vacío - hidráulica -...     0.779500   \n",
       "1  plagas - lavado - limpieza - desinfección - ta...     1.000000   \n",
       "2  cctv - acceso - cableado - sistemas - incendio...     0.000000   \n",
       "3  eléctricas - redes - instalación - mantenimien...     0.995023   \n",
       "4  clientes - ventas - venta - comercial - produc...     0.639780   \n",
       "\n",
       "   Representative_document    id  \\\n",
       "0                    False   180   \n",
       "1                    False   368   \n",
       "2                    False   637   \n",
       "3                    False   702   \n",
       "4                    False  1123   \n",
       "\n",
       "                                       conocimientos  \\\n",
       "0  'mantenimiento de maquinaria industrial', 'man...   \n",
       "1  'Control integrado de plagas', 'Control de roe...   \n",
       "2  'Proyectos de seguridad electrónica', 'Dimensi...   \n",
       "3  'Mantenimiento preventivo y correctivo de rede...   \n",
       "4                'Ventas telefónicas', 'Call center'   \n",
       "\n",
       "                                    titulo_vacante  \\\n",
       "0          auxiliar de servicio tecnico industrial   \n",
       "1                     tecnico fumigador - con moto   \n",
       "2                               ingeniero preventa   \n",
       "3  tecnico electricista - lugar de trabajo: bogota   \n",
       "4   vendedor/a - experiencia en ventes telefonicas   \n",
       "\n",
       "                                         descripcion  \n",
       "0  importante multinacional del sector energetico...  \n",
       "1  importante empresa dedicada a la prestacion de...  \n",
       "2  importante empresa requiere para su equipo de ...  \n",
       "3  importante empresa requiere tecnico electricis...  \n",
       "4  importante compania del sector de saneamiento ...  "
      ]
     },
     "execution_count": 33,
     "metadata": {},
     "output_type": "execute_result"
    }
   ],
   "source": [
    "documentos.head()"
   ]
  },
  {
   "cell_type": "code",
   "execution_count": null,
   "id": "0eddaf6f-4433-4826-9739-03ec5925bf9b",
   "metadata": {},
   "outputs": [],
   "source": [
    "dendo=model.visualize_hierarchy(hierarchical_topics=model_jer)"
   ]
  },
  {
   "cell_type": "code",
   "execution_count": null,
   "id": "ef3182d1-5241-4a3b-a37e-c48e9080c6ec",
   "metadata": {},
   "outputs": [],
   "source": [
    "pip install -U kaleido"
   ]
  },
  {
   "cell_type": "code",
   "execution_count": null,
   "id": "32947739-6421-42be-80c1-b4eeefc8c2b9",
   "metadata": {},
   "outputs": [],
   "source": [
    "pip install --force-reinstall -v \"kaleido==0.1.0\""
   ]
  },
  {
   "cell_type": "code",
   "execution_count": null,
   "id": "5c0cac65-f0f3-4267-8080-c3d075fe8883",
   "metadata": {},
   "outputs": [],
   "source": [
    "import plotly.graph_objects as go"
   ]
  },
  {
   "cell_type": "code",
   "execution_count": null,
   "id": "9960e8c3-c459-4a9f-86f2-2e9e0c04f3c1",
   "metadata": {},
   "outputs": [],
   "source": [
    "fig = go.Figure(dendo)"
   ]
  },
  {
   "cell_type": "code",
   "execution_count": null,
   "id": "9aa659bb-3417-4e93-b705-57ceb8cef209",
   "metadata": {},
   "outputs": [],
   "source": [
    "fig"
   ]
  },
  {
   "cell_type": "code",
   "execution_count": null,
   "id": "7a1b4bfb-909b-4b02-bdd4-36e0b8b3eeba",
   "metadata": {},
   "outputs": [],
   "source": [
    "import plotly.express as px"
   ]
  },
  {
   "cell_type": "code",
   "execution_count": null,
   "id": "213c18bf-b424-4f78-9ffa-304fb5e6f75e",
   "metadata": {},
   "outputs": [],
   "source": [
    "!conda install -c conda-forge python-kaleido=0.1.0"
   ]
  },
  {
   "cell_type": "code",
   "execution_count": null,
   "id": "d297064d-be23-46e7-bd1a-4d406bd6c5c6",
   "metadata": {},
   "outputs": [],
   "source": [
    "dendo.write_image(\"C:/Users/USER/Documents/ATENEA/VACANTES/TEC/3_analisis_agrupa/output/dendo_dep.pdf\")"
   ]
  },
  {
   "cell_type": "code",
   "execution_count": null,
   "id": "6559d758-7b6e-4d14-9e98-81a04ad02dda",
   "metadata": {},
   "outputs": [],
   "source": []
  }
 ],
 "metadata": {
  "accelerator": "GPU",
  "colab": {
   "gpuType": "T4",
   "provenance": []
  },
  "kernelspec": {
   "display_name": "Python 3 (ipykernel)",
   "language": "python",
   "name": "python3"
  },
  "language_info": {
   "codemirror_mode": {
    "name": "ipython",
    "version": 3
   },
   "file_extension": ".py",
   "mimetype": "text/x-python",
   "name": "python",
   "nbconvert_exporter": "python",
   "pygments_lexer": "ipython3",
   "version": "3.12.10"
  },
  "widgets": {
   "application/vnd.jupyter.widget-state+json": {
    "03a4239261584424a94977c59fc4ee52": {
     "model_module": "@jupyter-widgets/controls",
     "model_module_version": "1.5.0",
     "model_name": "FloatProgressModel",
     "state": {
      "_dom_classes": [],
      "_model_module": "@jupyter-widgets/controls",
      "_model_module_version": "1.5.0",
      "_model_name": "FloatProgressModel",
      "_view_count": null,
      "_view_module": "@jupyter-widgets/controls",
      "_view_module_version": "1.5.0",
      "_view_name": "ProgressView",
      "bar_style": "success",
      "description": "",
      "description_tooltip": null,
      "layout": "IPY_MODEL_c3c23dbf592d47c9814924e463c6e807",
      "max": 480,
      "min": 0,
      "orientation": "horizontal",
      "style": "IPY_MODEL_1f94c0faa2fe408c89352bc8f2890813",
      "value": 480
     }
    },
    "03c64f65eae74706b5af1995a4081eb6": {
     "model_module": "@jupyter-widgets/base",
     "model_module_version": "1.2.0",
     "model_name": "LayoutModel",
     "state": {
      "_model_module": "@jupyter-widgets/base",
      "_model_module_version": "1.2.0",
      "_model_name": "LayoutModel",
      "_view_count": null,
      "_view_module": "@jupyter-widgets/base",
      "_view_module_version": "1.2.0",
      "_view_name": "LayoutView",
      "align_content": null,
      "align_items": null,
      "align_self": null,
      "border": null,
      "bottom": null,
      "display": null,
      "flex": null,
      "flex_flow": null,
      "grid_area": null,
      "grid_auto_columns": null,
      "grid_auto_flow": null,
      "grid_auto_rows": null,
      "grid_column": null,
      "grid_gap": null,
      "grid_row": null,
      "grid_template_areas": null,
      "grid_template_columns": null,
      "grid_template_rows": null,
      "height": null,
      "justify_content": null,
      "justify_items": null,
      "left": null,
      "margin": null,
      "max_height": null,
      "max_width": null,
      "min_height": null,
      "min_width": null,
      "object_fit": null,
      "object_position": null,
      "order": null,
      "overflow": null,
      "overflow_x": null,
      "overflow_y": null,
      "padding": null,
      "right": null,
      "top": null,
      "visibility": null,
      "width": null
     }
    },
    "042e11f10dd045deb414364f28c9957a": {
     "model_module": "@jupyter-widgets/controls",
     "model_module_version": "1.5.0",
     "model_name": "HTMLModel",
     "state": {
      "_dom_classes": [],
      "_model_module": "@jupyter-widgets/controls",
      "_model_module_version": "1.5.0",
      "_model_name": "HTMLModel",
      "_view_count": null,
      "_view_module": "@jupyter-widgets/controls",
      "_view_module_version": "1.5.0",
      "_view_name": "HTMLView",
      "description": "",
      "description_tooltip": null,
      "layout": "IPY_MODEL_3cdecb85a0ba4e119e5c7f7e4badecba",
      "placeholder": "​",
      "style": "IPY_MODEL_e53cc3d99bee425ea1189a0487196ccf",
      "value": " 239/239 [00:00&lt;00:00, 16.4kB/s]"
     }
    },
    "087ab5300a6d4b8eaec60b2550161678": {
     "model_module": "@jupyter-widgets/controls",
     "model_module_version": "1.5.0",
     "model_name": "ProgressStyleModel",
     "state": {
      "_model_module": "@jupyter-widgets/controls",
      "_model_module_version": "1.5.0",
      "_model_name": "ProgressStyleModel",
      "_view_count": null,
      "_view_module": "@jupyter-widgets/base",
      "_view_module_version": "1.2.0",
      "_view_name": "StyleView",
      "bar_color": null,
      "description_width": ""
     }
    },
    "0d59c10e79ce4e4b92f2d2b41cef2b39": {
     "model_module": "@jupyter-widgets/controls",
     "model_module_version": "1.5.0",
     "model_name": "HTMLModel",
     "state": {
      "_dom_classes": [],
      "_model_module": "@jupyter-widgets/controls",
      "_model_module_version": "1.5.0",
      "_model_name": "HTMLModel",
      "_view_count": null,
      "_view_module": "@jupyter-widgets/controls",
      "_view_module_version": "1.5.0",
      "_view_name": "HTMLView",
      "description": "",
      "description_tooltip": null,
      "layout": "IPY_MODEL_7d6bf168a90443c0a3aa0d5daf6a28a0",
      "placeholder": "​",
      "style": "IPY_MODEL_f760278b045140bf8d915b2ec33993fc",
      "value": "config_sentence_transformers.json: 100%"
     }
    },
    "0edf2c043213440dbb1680748d9276b7": {
     "model_module": "@jupyter-widgets/controls",
     "model_module_version": "1.5.0",
     "model_name": "ProgressStyleModel",
     "state": {
      "_model_module": "@jupyter-widgets/controls",
      "_model_module_version": "1.5.0",
      "_model_name": "ProgressStyleModel",
      "_view_count": null,
      "_view_module": "@jupyter-widgets/base",
      "_view_module_version": "1.2.0",
      "_view_name": "StyleView",
      "bar_color": null,
      "description_width": ""
     }
    },
    "1083770e7e06489283c2162dff8c3b3c": {
     "model_module": "@jupyter-widgets/base",
     "model_module_version": "1.2.0",
     "model_name": "LayoutModel",
     "state": {
      "_model_module": "@jupyter-widgets/base",
      "_model_module_version": "1.2.0",
      "_model_name": "LayoutModel",
      "_view_count": null,
      "_view_module": "@jupyter-widgets/base",
      "_view_module_version": "1.2.0",
      "_view_name": "LayoutView",
      "align_content": null,
      "align_items": null,
      "align_self": null,
      "border": null,
      "bottom": null,
      "display": null,
      "flex": null,
      "flex_flow": null,
      "grid_area": null,
      "grid_auto_columns": null,
      "grid_auto_flow": null,
      "grid_auto_rows": null,
      "grid_column": null,
      "grid_gap": null,
      "grid_row": null,
      "grid_template_areas": null,
      "grid_template_columns": null,
      "grid_template_rows": null,
      "height": null,
      "justify_content": null,
      "justify_items": null,
      "left": null,
      "margin": null,
      "max_height": null,
      "max_width": null,
      "min_height": null,
      "min_width": null,
      "object_fit": null,
      "object_position": null,
      "order": null,
      "overflow": null,
      "overflow_x": null,
      "overflow_y": null,
      "padding": null,
      "right": null,
      "top": null,
      "visibility": null,
      "width": null
     }
    },
    "177ede2fc8814aa798571ef48f8d823d": {
     "model_module": "@jupyter-widgets/controls",
     "model_module_version": "1.5.0",
     "model_name": "ProgressStyleModel",
     "state": {
      "_model_module": "@jupyter-widgets/controls",
      "_model_module_version": "1.5.0",
      "_model_name": "ProgressStyleModel",
      "_view_count": null,
      "_view_module": "@jupyter-widgets/base",
      "_view_module_version": "1.2.0",
      "_view_name": "StyleView",
      "bar_color": null,
      "description_width": ""
     }
    },
    "17a50ab010554fa1a074c89eb62976dc": {
     "model_module": "@jupyter-widgets/base",
     "model_module_version": "1.2.0",
     "model_name": "LayoutModel",
     "state": {
      "_model_module": "@jupyter-widgets/base",
      "_model_module_version": "1.2.0",
      "_model_name": "LayoutModel",
      "_view_count": null,
      "_view_module": "@jupyter-widgets/base",
      "_view_module_version": "1.2.0",
      "_view_name": "LayoutView",
      "align_content": null,
      "align_items": null,
      "align_self": null,
      "border": null,
      "bottom": null,
      "display": null,
      "flex": null,
      "flex_flow": null,
      "grid_area": null,
      "grid_auto_columns": null,
      "grid_auto_flow": null,
      "grid_auto_rows": null,
      "grid_column": null,
      "grid_gap": null,
      "grid_row": null,
      "grid_template_areas": null,
      "grid_template_columns": null,
      "grid_template_rows": null,
      "height": null,
      "justify_content": null,
      "justify_items": null,
      "left": null,
      "margin": null,
      "max_height": null,
      "max_width": null,
      "min_height": null,
      "min_width": null,
      "object_fit": null,
      "object_position": null,
      "order": null,
      "overflow": null,
      "overflow_x": null,
      "overflow_y": null,
      "padding": null,
      "right": null,
      "top": null,
      "visibility": null,
      "width": null
     }
    },
    "1831261b652441a9ae1a7ad5152113b0": {
     "model_module": "@jupyter-widgets/controls",
     "model_module_version": "1.5.0",
     "model_name": "HTMLModel",
     "state": {
      "_dom_classes": [],
      "_model_module": "@jupyter-widgets/controls",
      "_model_module_version": "1.5.0",
      "_model_name": "HTMLModel",
      "_view_count": null,
      "_view_module": "@jupyter-widgets/controls",
      "_view_module_version": "1.5.0",
      "_view_name": "HTMLView",
      "description": "",
      "description_tooltip": null,
      "layout": "IPY_MODEL_c425f564fb0e48499ea784431f06ff81",
      "placeholder": "​",
      "style": "IPY_MODEL_6e0fd80e3b2b4294a8ac2378f4711634",
      "value": "sentence_bert_config.json: 100%"
     }
    },
    "1831e783cb554b758ba3ef56c7570643": {
     "model_module": "@jupyter-widgets/controls",
     "model_module_version": "1.5.0",
     "model_name": "DescriptionStyleModel",
     "state": {
      "_model_module": "@jupyter-widgets/controls",
      "_model_module_version": "1.5.0",
      "_model_name": "DescriptionStyleModel",
      "_view_count": null,
      "_view_module": "@jupyter-widgets/base",
      "_view_module_version": "1.2.0",
      "_view_name": "StyleView",
      "description_width": ""
     }
    },
    "1c5d61b5118a419885d10c1ec9fb5397": {
     "model_module": "@jupyter-widgets/controls",
     "model_module_version": "1.5.0",
     "model_name": "HTMLModel",
     "state": {
      "_dom_classes": [],
      "_model_module": "@jupyter-widgets/controls",
      "_model_module_version": "1.5.0",
      "_model_name": "HTMLModel",
      "_view_count": null,
      "_view_module": "@jupyter-widgets/controls",
      "_view_module_version": "1.5.0",
      "_view_name": "HTMLView",
      "description": "",
      "description_tooltip": null,
      "layout": "IPY_MODEL_5ef1c6c46f08484890cb73e63b9f0fa5",
      "placeholder": "​",
      "style": "IPY_MODEL_adda2e991e784632bcdc2fcf6affde7e",
      "value": "config.json: 100%"
     }
    },
    "1f94c0faa2fe408c89352bc8f2890813": {
     "model_module": "@jupyter-widgets/controls",
     "model_module_version": "1.5.0",
     "model_name": "ProgressStyleModel",
     "state": {
      "_model_module": "@jupyter-widgets/controls",
      "_model_module_version": "1.5.0",
      "_model_name": "ProgressStyleModel",
      "_view_count": null,
      "_view_module": "@jupyter-widgets/base",
      "_view_module_version": "1.2.0",
      "_view_name": "StyleView",
      "bar_color": null,
      "description_width": ""
     }
    },
    "20b247c14ea34ad786e1c6a0f892ead1": {
     "model_module": "@jupyter-widgets/controls",
     "model_module_version": "1.5.0",
     "model_name": "FloatProgressModel",
     "state": {
      "_dom_classes": [],
      "_model_module": "@jupyter-widgets/controls",
      "_model_module_version": "1.5.0",
      "_model_name": "FloatProgressModel",
      "_view_count": null,
      "_view_module": "@jupyter-widgets/controls",
      "_view_module_version": "1.5.0",
      "_view_name": "ProgressView",
      "bar_style": "success",
      "description": "",
      "description_tooltip": null,
      "layout": "IPY_MODEL_e616ae179033445eb6b1fe336d4751a6",
      "max": 190,
      "min": 0,
      "orientation": "horizontal",
      "style": "IPY_MODEL_6f3dc5c2aaee48489c8ba4a1b2ad1cc9",
      "value": 190
     }
    },
    "227a75ad6c7e4fe6b0c594e5744562a2": {
     "model_module": "@jupyter-widgets/controls",
     "model_module_version": "1.5.0",
     "model_name": "DescriptionStyleModel",
     "state": {
      "_model_module": "@jupyter-widgets/controls",
      "_model_module_version": "1.5.0",
      "_model_name": "DescriptionStyleModel",
      "_view_count": null,
      "_view_module": "@jupyter-widgets/base",
      "_view_module_version": "1.2.0",
      "_view_name": "StyleView",
      "description_width": ""
     }
    },
    "238284f56f0743bdaafcd2a730b85a20": {
     "model_module": "@jupyter-widgets/controls",
     "model_module_version": "1.5.0",
     "model_name": "HBoxModel",
     "state": {
      "_dom_classes": [],
      "_model_module": "@jupyter-widgets/controls",
      "_model_module_version": "1.5.0",
      "_model_name": "HBoxModel",
      "_view_count": null,
      "_view_module": "@jupyter-widgets/controls",
      "_view_module_version": "1.5.0",
      "_view_name": "HBoxView",
      "box_style": "",
      "children": [
       "IPY_MODEL_27232b27f95a451faa0b6681ccc083db",
       "IPY_MODEL_4e56e4a306b44d20814480ba6807c42a",
       "IPY_MODEL_82c7928657844918b98f78b0ea0ea777"
      ],
      "layout": "IPY_MODEL_5dc8620cfcaa4254a7230618b2220643"
     }
    },
    "27232b27f95a451faa0b6681ccc083db": {
     "model_module": "@jupyter-widgets/controls",
     "model_module_version": "1.5.0",
     "model_name": "HTMLModel",
     "state": {
      "_dom_classes": [],
      "_model_module": "@jupyter-widgets/controls",
      "_model_module_version": "1.5.0",
      "_model_name": "HTMLModel",
      "_view_count": null,
      "_view_module": "@jupyter-widgets/controls",
      "_view_module_version": "1.5.0",
      "_view_name": "HTMLView",
      "description": "",
      "description_tooltip": null,
      "layout": "IPY_MODEL_389f2552b6554eb2baa50bb4c26dabee",
      "placeholder": "​",
      "style": "IPY_MODEL_c4570bea2d84443c86f90673aa7f9afc",
      "value": "tokenizer.json: 100%"
     }
    },
    "2730c2983cce481b8e2ccdff59e6a0f7": {
     "model_module": "@jupyter-widgets/controls",
     "model_module_version": "1.5.0",
     "model_name": "FloatProgressModel",
     "state": {
      "_dom_classes": [],
      "_model_module": "@jupyter-widgets/controls",
      "_model_module_version": "1.5.0",
      "_model_name": "FloatProgressModel",
      "_view_count": null,
      "_view_module": "@jupyter-widgets/controls",
      "_view_module_version": "1.5.0",
      "_view_name": "ProgressView",
      "bar_style": "success",
      "description": "",
      "description_tooltip": null,
      "layout": "IPY_MODEL_c652a2c3afa141e3aaa91dc67919b472",
      "max": 122,
      "min": 0,
      "orientation": "horizontal",
      "style": "IPY_MODEL_c39118349c70471493c09d0bf67894e7",
      "value": 122
     }
    },
    "29a31d8a5a8640ea86bb01c890fadee5": {
     "model_module": "@jupyter-widgets/controls",
     "model_module_version": "1.5.0",
     "model_name": "HTMLModel",
     "state": {
      "_dom_classes": [],
      "_model_module": "@jupyter-widgets/controls",
      "_model_module_version": "1.5.0",
      "_model_name": "HTMLModel",
      "_view_count": null,
      "_view_module": "@jupyter-widgets/controls",
      "_view_module_version": "1.5.0",
      "_view_name": "HTMLView",
      "description": "",
      "description_tooltip": null,
      "layout": "IPY_MODEL_dcfb7107dd044d529bcfcae26a0e93ab",
      "placeholder": "​",
      "style": "IPY_MODEL_9e0d0c4df07a44b58267f81fdcdff0ae",
      "value": "tokenizer_config.json: 100%"
     }
    },
    "2e04aef261f841509fba007e4d6b2c29": {
     "model_module": "@jupyter-widgets/controls",
     "model_module_version": "1.5.0",
     "model_name": "ProgressStyleModel",
     "state": {
      "_model_module": "@jupyter-widgets/controls",
      "_model_module_version": "1.5.0",
      "_model_name": "ProgressStyleModel",
      "_view_count": null,
      "_view_module": "@jupyter-widgets/base",
      "_view_module_version": "1.2.0",
      "_view_name": "StyleView",
      "bar_color": null,
      "description_width": ""
     }
    },
    "31158a46427e4571a353d010b9a11abe": {
     "model_module": "@jupyter-widgets/controls",
     "model_module_version": "1.5.0",
     "model_name": "HBoxModel",
     "state": {
      "_dom_classes": [],
      "_model_module": "@jupyter-widgets/controls",
      "_model_module_version": "1.5.0",
      "_model_name": "HBoxModel",
      "_view_count": null,
      "_view_module": "@jupyter-widgets/controls",
      "_view_module_version": "1.5.0",
      "_view_name": "HBoxView",
      "box_style": "",
      "children": [
       "IPY_MODEL_1c5d61b5118a419885d10c1ec9fb5397",
       "IPY_MODEL_f3a52813e2cf49fcbc8c9a6288b637be",
       "IPY_MODEL_d8ac66bec70c4cf68b747c7cb6823f2c"
      ],
      "layout": "IPY_MODEL_be076e5e8924463d9acc8797b0c73452"
     }
    },
    "31287c2165fe4185bf91e7fe2103cdeb": {
     "model_module": "@jupyter-widgets/base",
     "model_module_version": "1.2.0",
     "model_name": "LayoutModel",
     "state": {
      "_model_module": "@jupyter-widgets/base",
      "_model_module_version": "1.2.0",
      "_model_name": "LayoutModel",
      "_view_count": null,
      "_view_module": "@jupyter-widgets/base",
      "_view_module_version": "1.2.0",
      "_view_name": "LayoutView",
      "align_content": null,
      "align_items": null,
      "align_self": null,
      "border": null,
      "bottom": null,
      "display": null,
      "flex": null,
      "flex_flow": null,
      "grid_area": null,
      "grid_auto_columns": null,
      "grid_auto_flow": null,
      "grid_auto_rows": null,
      "grid_column": null,
      "grid_gap": null,
      "grid_row": null,
      "grid_template_areas": null,
      "grid_template_columns": null,
      "grid_template_rows": null,
      "height": null,
      "justify_content": null,
      "justify_items": null,
      "left": null,
      "margin": null,
      "max_height": null,
      "max_width": null,
      "min_height": null,
      "min_width": null,
      "object_fit": null,
      "object_position": null,
      "order": null,
      "overflow": null,
      "overflow_x": null,
      "overflow_y": null,
      "padding": null,
      "right": null,
      "top": null,
      "visibility": null,
      "width": null
     }
    },
    "389f2552b6554eb2baa50bb4c26dabee": {
     "model_module": "@jupyter-widgets/base",
     "model_module_version": "1.2.0",
     "model_name": "LayoutModel",
     "state": {
      "_model_module": "@jupyter-widgets/base",
      "_model_module_version": "1.2.0",
      "_model_name": "LayoutModel",
      "_view_count": null,
      "_view_module": "@jupyter-widgets/base",
      "_view_module_version": "1.2.0",
      "_view_name": "LayoutView",
      "align_content": null,
      "align_items": null,
      "align_self": null,
      "border": null,
      "bottom": null,
      "display": null,
      "flex": null,
      "flex_flow": null,
      "grid_area": null,
      "grid_auto_columns": null,
      "grid_auto_flow": null,
      "grid_auto_rows": null,
      "grid_column": null,
      "grid_gap": null,
      "grid_row": null,
      "grid_template_areas": null,
      "grid_template_columns": null,
      "grid_template_rows": null,
      "height": null,
      "justify_content": null,
      "justify_items": null,
      "left": null,
      "margin": null,
      "max_height": null,
      "max_width": null,
      "min_height": null,
      "min_width": null,
      "object_fit": null,
      "object_position": null,
      "order": null,
      "overflow": null,
      "overflow_x": null,
      "overflow_y": null,
      "padding": null,
      "right": null,
      "top": null,
      "visibility": null,
      "width": null
     }
    },
    "3a309657df5c42f992ef845011a4b97b": {
     "model_module": "@jupyter-widgets/controls",
     "model_module_version": "1.5.0",
     "model_name": "ProgressStyleModel",
     "state": {
      "_model_module": "@jupyter-widgets/controls",
      "_model_module_version": "1.5.0",
      "_model_name": "ProgressStyleModel",
      "_view_count": null,
      "_view_module": "@jupyter-widgets/base",
      "_view_module_version": "1.2.0",
      "_view_name": "StyleView",
      "bar_color": null,
      "description_width": ""
     }
    },
    "3ade38bf53bb49589e22eaf95149a84b": {
     "model_module": "@jupyter-widgets/base",
     "model_module_version": "1.2.0",
     "model_name": "LayoutModel",
     "state": {
      "_model_module": "@jupyter-widgets/base",
      "_model_module_version": "1.2.0",
      "_model_name": "LayoutModel",
      "_view_count": null,
      "_view_module": "@jupyter-widgets/base",
      "_view_module_version": "1.2.0",
      "_view_name": "LayoutView",
      "align_content": null,
      "align_items": null,
      "align_self": null,
      "border": null,
      "bottom": null,
      "display": null,
      "flex": null,
      "flex_flow": null,
      "grid_area": null,
      "grid_auto_columns": null,
      "grid_auto_flow": null,
      "grid_auto_rows": null,
      "grid_column": null,
      "grid_gap": null,
      "grid_row": null,
      "grid_template_areas": null,
      "grid_template_columns": null,
      "grid_template_rows": null,
      "height": null,
      "justify_content": null,
      "justify_items": null,
      "left": null,
      "margin": null,
      "max_height": null,
      "max_width": null,
      "min_height": null,
      "min_width": null,
      "object_fit": null,
      "object_position": null,
      "order": null,
      "overflow": null,
      "overflow_x": null,
      "overflow_y": null,
      "padding": null,
      "right": null,
      "top": null,
      "visibility": null,
      "width": null
     }
    },
    "3cdecb85a0ba4e119e5c7f7e4badecba": {
     "model_module": "@jupyter-widgets/base",
     "model_module_version": "1.2.0",
     "model_name": "LayoutModel",
     "state": {
      "_model_module": "@jupyter-widgets/base",
      "_model_module_version": "1.2.0",
      "_model_name": "LayoutModel",
      "_view_count": null,
      "_view_module": "@jupyter-widgets/base",
      "_view_module_version": "1.2.0",
      "_view_name": "LayoutView",
      "align_content": null,
      "align_items": null,
      "align_self": null,
      "border": null,
      "bottom": null,
      "display": null,
      "flex": null,
      "flex_flow": null,
      "grid_area": null,
      "grid_auto_columns": null,
      "grid_auto_flow": null,
      "grid_auto_rows": null,
      "grid_column": null,
      "grid_gap": null,
      "grid_row": null,
      "grid_template_areas": null,
      "grid_template_columns": null,
      "grid_template_rows": null,
      "height": null,
      "justify_content": null,
      "justify_items": null,
      "left": null,
      "margin": null,
      "max_height": null,
      "max_width": null,
      "min_height": null,
      "min_width": null,
      "object_fit": null,
      "object_position": null,
      "order": null,
      "overflow": null,
      "overflow_x": null,
      "overflow_y": null,
      "padding": null,
      "right": null,
      "top": null,
      "visibility": null,
      "width": null
     }
    },
    "40548769829a4aa59a3f2727f490b851": {
     "model_module": "@jupyter-widgets/controls",
     "model_module_version": "1.5.0",
     "model_name": "FloatProgressModel",
     "state": {
      "_dom_classes": [],
      "_model_module": "@jupyter-widgets/controls",
      "_model_module_version": "1.5.0",
      "_model_name": "FloatProgressModel",
      "_view_count": null,
      "_view_module": "@jupyter-widgets/controls",
      "_view_module_version": "1.5.0",
      "_view_name": "ProgressView",
      "bar_style": "success",
      "description": "",
      "description_tooltip": null,
      "layout": "IPY_MODEL_8e13dbecebee4aeb8c9640e5615e4465",
      "max": 4118,
      "min": 0,
      "orientation": "horizontal",
      "style": "IPY_MODEL_3a309657df5c42f992ef845011a4b97b",
      "value": 4118
     }
    },
    "42c56605c6d8435fb31376e518645adb": {
     "model_module": "@jupyter-widgets/base",
     "model_module_version": "1.2.0",
     "model_name": "LayoutModel",
     "state": {
      "_model_module": "@jupyter-widgets/base",
      "_model_module_version": "1.2.0",
      "_model_name": "LayoutModel",
      "_view_count": null,
      "_view_module": "@jupyter-widgets/base",
      "_view_module_version": "1.2.0",
      "_view_name": "LayoutView",
      "align_content": null,
      "align_items": null,
      "align_self": null,
      "border": null,
      "bottom": null,
      "display": null,
      "flex": null,
      "flex_flow": null,
      "grid_area": null,
      "grid_auto_columns": null,
      "grid_auto_flow": null,
      "grid_auto_rows": null,
      "grid_column": null,
      "grid_gap": null,
      "grid_row": null,
      "grid_template_areas": null,
      "grid_template_columns": null,
      "grid_template_rows": null,
      "height": null,
      "justify_content": null,
      "justify_items": null,
      "left": null,
      "margin": null,
      "max_height": null,
      "max_width": null,
      "min_height": null,
      "min_width": null,
      "object_fit": null,
      "object_position": null,
      "order": null,
      "overflow": null,
      "overflow_x": null,
      "overflow_y": null,
      "padding": null,
      "right": null,
      "top": null,
      "visibility": null,
      "width": null
     }
    },
    "430e2bbf9b27434bb0f4d45ec9db3e00": {
     "model_module": "@jupyter-widgets/base",
     "model_module_version": "1.2.0",
     "model_name": "LayoutModel",
     "state": {
      "_model_module": "@jupyter-widgets/base",
      "_model_module_version": "1.2.0",
      "_model_name": "LayoutModel",
      "_view_count": null,
      "_view_module": "@jupyter-widgets/base",
      "_view_module_version": "1.2.0",
      "_view_name": "LayoutView",
      "align_content": null,
      "align_items": null,
      "align_self": null,
      "border": null,
      "bottom": null,
      "display": null,
      "flex": null,
      "flex_flow": null,
      "grid_area": null,
      "grid_auto_columns": null,
      "grid_auto_flow": null,
      "grid_auto_rows": null,
      "grid_column": null,
      "grid_gap": null,
      "grid_row": null,
      "grid_template_areas": null,
      "grid_template_columns": null,
      "grid_template_rows": null,
      "height": null,
      "justify_content": null,
      "justify_items": null,
      "left": null,
      "margin": null,
      "max_height": null,
      "max_width": null,
      "min_height": null,
      "min_width": null,
      "object_fit": null,
      "object_position": null,
      "order": null,
      "overflow": null,
      "overflow_x": null,
      "overflow_y": null,
      "padding": null,
      "right": null,
      "top": null,
      "visibility": null,
      "width": null
     }
    },
    "48adea788a41474fb8d9a7004284a52d": {
     "model_module": "@jupyter-widgets/base",
     "model_module_version": "1.2.0",
     "model_name": "LayoutModel",
     "state": {
      "_model_module": "@jupyter-widgets/base",
      "_model_module_version": "1.2.0",
      "_model_name": "LayoutModel",
      "_view_count": null,
      "_view_module": "@jupyter-widgets/base",
      "_view_module_version": "1.2.0",
      "_view_name": "LayoutView",
      "align_content": null,
      "align_items": null,
      "align_self": null,
      "border": null,
      "bottom": null,
      "display": null,
      "flex": null,
      "flex_flow": null,
      "grid_area": null,
      "grid_auto_columns": null,
      "grid_auto_flow": null,
      "grid_auto_rows": null,
      "grid_column": null,
      "grid_gap": null,
      "grid_row": null,
      "grid_template_areas": null,
      "grid_template_columns": null,
      "grid_template_rows": null,
      "height": null,
      "justify_content": null,
      "justify_items": null,
      "left": null,
      "margin": null,
      "max_height": null,
      "max_width": null,
      "min_height": null,
      "min_width": null,
      "object_fit": null,
      "object_position": null,
      "order": null,
      "overflow": null,
      "overflow_x": null,
      "overflow_y": null,
      "padding": null,
      "right": null,
      "top": null,
      "visibility": null,
      "width": null
     }
    },
    "4e55dab68ded4d9a85e5a415549af083": {
     "model_module": "@jupyter-widgets/controls",
     "model_module_version": "1.5.0",
     "model_name": "DescriptionStyleModel",
     "state": {
      "_model_module": "@jupyter-widgets/controls",
      "_model_module_version": "1.5.0",
      "_model_name": "DescriptionStyleModel",
      "_view_count": null,
      "_view_module": "@jupyter-widgets/base",
      "_view_module_version": "1.2.0",
      "_view_name": "StyleView",
      "description_width": ""
     }
    },
    "4e56e4a306b44d20814480ba6807c42a": {
     "model_module": "@jupyter-widgets/controls",
     "model_module_version": "1.5.0",
     "model_name": "FloatProgressModel",
     "state": {
      "_dom_classes": [],
      "_model_module": "@jupyter-widgets/controls",
      "_model_module_version": "1.5.0",
      "_model_name": "FloatProgressModel",
      "_view_count": null,
      "_view_module": "@jupyter-widgets/controls",
      "_view_module_version": "1.5.0",
      "_view_name": "ProgressView",
      "bar_style": "success",
      "description": "",
      "description_tooltip": null,
      "layout": "IPY_MODEL_31287c2165fe4185bf91e7fe2103cdeb",
      "max": 9081518,
      "min": 0,
      "orientation": "horizontal",
      "style": "IPY_MODEL_087ab5300a6d4b8eaec60b2550161678",
      "value": 9081518
     }
    },
    "4fae062fbdf94ac689bd4bb6a1b351f9": {
     "model_module": "@jupyter-widgets/base",
     "model_module_version": "1.2.0",
     "model_name": "LayoutModel",
     "state": {
      "_model_module": "@jupyter-widgets/base",
      "_model_module_version": "1.2.0",
      "_model_name": "LayoutModel",
      "_view_count": null,
      "_view_module": "@jupyter-widgets/base",
      "_view_module_version": "1.2.0",
      "_view_name": "LayoutView",
      "align_content": null,
      "align_items": null,
      "align_self": null,
      "border": null,
      "bottom": null,
      "display": null,
      "flex": null,
      "flex_flow": null,
      "grid_area": null,
      "grid_auto_columns": null,
      "grid_auto_flow": null,
      "grid_auto_rows": null,
      "grid_column": null,
      "grid_gap": null,
      "grid_row": null,
      "grid_template_areas": null,
      "grid_template_columns": null,
      "grid_template_rows": null,
      "height": null,
      "justify_content": null,
      "justify_items": null,
      "left": null,
      "margin": null,
      "max_height": null,
      "max_width": null,
      "min_height": null,
      "min_width": null,
      "object_fit": null,
      "object_position": null,
      "order": null,
      "overflow": null,
      "overflow_x": null,
      "overflow_y": null,
      "padding": null,
      "right": null,
      "top": null,
      "visibility": null,
      "width": null
     }
    },
    "5067fda1431b48bbb2e87cc86e2746cf": {
     "model_module": "@jupyter-widgets/controls",
     "model_module_version": "1.5.0",
     "model_name": "HTMLModel",
     "state": {
      "_dom_classes": [],
      "_model_module": "@jupyter-widgets/controls",
      "_model_module_version": "1.5.0",
      "_model_name": "HTMLModel",
      "_view_count": null,
      "_view_module": "@jupyter-widgets/controls",
      "_view_module_version": "1.5.0",
      "_view_name": "HTMLView",
      "description": "",
      "description_tooltip": null,
      "layout": "IPY_MODEL_17a50ab010554fa1a074c89eb62976dc",
      "placeholder": "​",
      "style": "IPY_MODEL_f61f622190284bb1ae7ea0d375eb4ece",
      "value": " 122/122 [00:00&lt;00:00, 9.53kB/s]"
     }
    },
    "52bd54b613e74467bddf4c0423cfcfbf": {
     "model_module": "@jupyter-widgets/base",
     "model_module_version": "1.2.0",
     "model_name": "LayoutModel",
     "state": {
      "_model_module": "@jupyter-widgets/base",
      "_model_module_version": "1.2.0",
      "_model_name": "LayoutModel",
      "_view_count": null,
      "_view_module": "@jupyter-widgets/base",
      "_view_module_version": "1.2.0",
      "_view_name": "LayoutView",
      "align_content": null,
      "align_items": null,
      "align_self": null,
      "border": null,
      "bottom": null,
      "display": null,
      "flex": null,
      "flex_flow": null,
      "grid_area": null,
      "grid_auto_columns": null,
      "grid_auto_flow": null,
      "grid_auto_rows": null,
      "grid_column": null,
      "grid_gap": null,
      "grid_row": null,
      "grid_template_areas": null,
      "grid_template_columns": null,
      "grid_template_rows": null,
      "height": null,
      "justify_content": null,
      "justify_items": null,
      "left": null,
      "margin": null,
      "max_height": null,
      "max_width": null,
      "min_height": null,
      "min_width": null,
      "object_fit": null,
      "object_position": null,
      "order": null,
      "overflow": null,
      "overflow_x": null,
      "overflow_y": null,
      "padding": null,
      "right": null,
      "top": null,
      "visibility": null,
      "width": null
     }
    },
    "59419d98a7c04f51b8763a081c6bb786": {
     "model_module": "@jupyter-widgets/controls",
     "model_module_version": "1.5.0",
     "model_name": "HTMLModel",
     "state": {
      "_dom_classes": [],
      "_model_module": "@jupyter-widgets/controls",
      "_model_module_version": "1.5.0",
      "_model_name": "HTMLModel",
      "_view_count": null,
      "_view_module": "@jupyter-widgets/controls",
      "_view_module_version": "1.5.0",
      "_view_name": "HTMLView",
      "description": "",
      "description_tooltip": null,
      "layout": "IPY_MODEL_af77fbc2a6c247c6a42501632f6fd326",
      "placeholder": "​",
      "style": "IPY_MODEL_5c72651661ff4e0b8a33df6d7b04ae2a",
      "value": " 4.12k/4.12k [00:00&lt;00:00, 244kB/s]"
     }
    },
    "5c72651661ff4e0b8a33df6d7b04ae2a": {
     "model_module": "@jupyter-widgets/controls",
     "model_module_version": "1.5.0",
     "model_name": "DescriptionStyleModel",
     "state": {
      "_model_module": "@jupyter-widgets/controls",
      "_model_module_version": "1.5.0",
      "_model_name": "DescriptionStyleModel",
      "_view_count": null,
      "_view_module": "@jupyter-widgets/base",
      "_view_module_version": "1.2.0",
      "_view_name": "StyleView",
      "description_width": ""
     }
    },
    "5dc8620cfcaa4254a7230618b2220643": {
     "model_module": "@jupyter-widgets/base",
     "model_module_version": "1.2.0",
     "model_name": "LayoutModel",
     "state": {
      "_model_module": "@jupyter-widgets/base",
      "_model_module_version": "1.2.0",
      "_model_name": "LayoutModel",
      "_view_count": null,
      "_view_module": "@jupyter-widgets/base",
      "_view_module_version": "1.2.0",
      "_view_name": "LayoutView",
      "align_content": null,
      "align_items": null,
      "align_self": null,
      "border": null,
      "bottom": null,
      "display": null,
      "flex": null,
      "flex_flow": null,
      "grid_area": null,
      "grid_auto_columns": null,
      "grid_auto_flow": null,
      "grid_auto_rows": null,
      "grid_column": null,
      "grid_gap": null,
      "grid_row": null,
      "grid_template_areas": null,
      "grid_template_columns": null,
      "grid_template_rows": null,
      "height": null,
      "justify_content": null,
      "justify_items": null,
      "left": null,
      "margin": null,
      "max_height": null,
      "max_width": null,
      "min_height": null,
      "min_width": null,
      "object_fit": null,
      "object_position": null,
      "order": null,
      "overflow": null,
      "overflow_x": null,
      "overflow_y": null,
      "padding": null,
      "right": null,
      "top": null,
      "visibility": null,
      "width": null
     }
    },
    "5ef1c6c46f08484890cb73e63b9f0fa5": {
     "model_module": "@jupyter-widgets/base",
     "model_module_version": "1.2.0",
     "model_name": "LayoutModel",
     "state": {
      "_model_module": "@jupyter-widgets/base",
      "_model_module_version": "1.2.0",
      "_model_name": "LayoutModel",
      "_view_count": null,
      "_view_module": "@jupyter-widgets/base",
      "_view_module_version": "1.2.0",
      "_view_name": "LayoutView",
      "align_content": null,
      "align_items": null,
      "align_self": null,
      "border": null,
      "bottom": null,
      "display": null,
      "flex": null,
      "flex_flow": null,
      "grid_area": null,
      "grid_auto_columns": null,
      "grid_auto_flow": null,
      "grid_auto_rows": null,
      "grid_column": null,
      "grid_gap": null,
      "grid_row": null,
      "grid_template_areas": null,
      "grid_template_columns": null,
      "grid_template_rows": null,
      "height": null,
      "justify_content": null,
      "justify_items": null,
      "left": null,
      "margin": null,
      "max_height": null,
      "max_width": null,
      "min_height": null,
      "min_width": null,
      "object_fit": null,
      "object_position": null,
      "order": null,
      "overflow": null,
      "overflow_x": null,
      "overflow_y": null,
      "padding": null,
      "right": null,
      "top": null,
      "visibility": null,
      "width": null
     }
    },
    "64b03ad7f7734c44b44e8919fe01c3fa": {
     "model_module": "@jupyter-widgets/controls",
     "model_module_version": "1.5.0",
     "model_name": "HTMLModel",
     "state": {
      "_dom_classes": [],
      "_model_module": "@jupyter-widgets/controls",
      "_model_module_version": "1.5.0",
      "_model_name": "HTMLModel",
      "_view_count": null,
      "_view_module": "@jupyter-widgets/controls",
      "_view_module_version": "1.5.0",
      "_view_name": "HTMLView",
      "description": "",
      "description_tooltip": null,
      "layout": "IPY_MODEL_8f81e43df4d848e9ba1137b09bf18726",
      "placeholder": "​",
      "style": "IPY_MODEL_227a75ad6c7e4fe6b0c594e5744562a2",
      "value": "model.safetensors: 100%"
     }
    },
    "6549f2d6338e43958ae373b9da10d0dc": {
     "model_module": "@jupyter-widgets/controls",
     "model_module_version": "1.5.0",
     "model_name": "HTMLModel",
     "state": {
      "_dom_classes": [],
      "_model_module": "@jupyter-widgets/controls",
      "_model_module_version": "1.5.0",
      "_model_name": "HTMLModel",
      "_view_count": null,
      "_view_module": "@jupyter-widgets/controls",
      "_view_module_version": "1.5.0",
      "_view_name": "HTMLView",
      "description": "",
      "description_tooltip": null,
      "layout": "IPY_MODEL_67980c834b984a61a8c4e53a538ddf3a",
      "placeholder": "​",
      "style": "IPY_MODEL_83f5263c1b8e446489a24dbc984aa6d0",
      "value": "modules.json: 100%"
     }
    },
    "659aa668900149a1aec4eb83fa56b6cd": {
     "model_module": "@jupyter-widgets/base",
     "model_module_version": "1.2.0",
     "model_name": "LayoutModel",
     "state": {
      "_model_module": "@jupyter-widgets/base",
      "_model_module_version": "1.2.0",
      "_model_name": "LayoutModel",
      "_view_count": null,
      "_view_module": "@jupyter-widgets/base",
      "_view_module_version": "1.2.0",
      "_view_name": "LayoutView",
      "align_content": null,
      "align_items": null,
      "align_self": null,
      "border": null,
      "bottom": null,
      "display": null,
      "flex": null,
      "flex_flow": null,
      "grid_area": null,
      "grid_auto_columns": null,
      "grid_auto_flow": null,
      "grid_auto_rows": null,
      "grid_column": null,
      "grid_gap": null,
      "grid_row": null,
      "grid_template_areas": null,
      "grid_template_columns": null,
      "grid_template_rows": null,
      "height": null,
      "justify_content": null,
      "justify_items": null,
      "left": null,
      "margin": null,
      "max_height": null,
      "max_width": null,
      "min_height": null,
      "min_width": null,
      "object_fit": null,
      "object_position": null,
      "order": null,
      "overflow": null,
      "overflow_x": null,
      "overflow_y": null,
      "padding": null,
      "right": null,
      "top": null,
      "visibility": null,
      "width": null
     }
    },
    "67980c834b984a61a8c4e53a538ddf3a": {
     "model_module": "@jupyter-widgets/base",
     "model_module_version": "1.2.0",
     "model_name": "LayoutModel",
     "state": {
      "_model_module": "@jupyter-widgets/base",
      "_model_module_version": "1.2.0",
      "_model_name": "LayoutModel",
      "_view_count": null,
      "_view_module": "@jupyter-widgets/base",
      "_view_module_version": "1.2.0",
      "_view_name": "LayoutView",
      "align_content": null,
      "align_items": null,
      "align_self": null,
      "border": null,
      "bottom": null,
      "display": null,
      "flex": null,
      "flex_flow": null,
      "grid_area": null,
      "grid_auto_columns": null,
      "grid_auto_flow": null,
      "grid_auto_rows": null,
      "grid_column": null,
      "grid_gap": null,
      "grid_row": null,
      "grid_template_areas": null,
      "grid_template_columns": null,
      "grid_template_rows": null,
      "height": null,
      "justify_content": null,
      "justify_items": null,
      "left": null,
      "margin": null,
      "max_height": null,
      "max_width": null,
      "min_height": null,
      "min_width": null,
      "object_fit": null,
      "object_position": null,
      "order": null,
      "overflow": null,
      "overflow_x": null,
      "overflow_y": null,
      "padding": null,
      "right": null,
      "top": null,
      "visibility": null,
      "width": null
     }
    },
    "6898239a6ddf4df484e940fadcab9a1b": {
     "model_module": "@jupyter-widgets/controls",
     "model_module_version": "1.5.0",
     "model_name": "HBoxModel",
     "state": {
      "_dom_classes": [],
      "_model_module": "@jupyter-widgets/controls",
      "_model_module_version": "1.5.0",
      "_model_name": "HBoxModel",
      "_view_count": null,
      "_view_module": "@jupyter-widgets/controls",
      "_view_module_version": "1.5.0",
      "_view_name": "HBoxView",
      "box_style": "",
      "children": [
       "IPY_MODEL_6549f2d6338e43958ae373b9da10d0dc",
       "IPY_MODEL_95fddfc69f77425dbdac7e4cf0d61ae1",
       "IPY_MODEL_9ed612613f88459f824613e464cfeb57"
      ],
      "layout": "IPY_MODEL_659aa668900149a1aec4eb83fa56b6cd"
     }
    },
    "6d4c4b32665a48639b5c1fd2295438ea": {
     "model_module": "@jupyter-widgets/base",
     "model_module_version": "1.2.0",
     "model_name": "LayoutModel",
     "state": {
      "_model_module": "@jupyter-widgets/base",
      "_model_module_version": "1.2.0",
      "_model_name": "LayoutModel",
      "_view_count": null,
      "_view_module": "@jupyter-widgets/base",
      "_view_module_version": "1.2.0",
      "_view_name": "LayoutView",
      "align_content": null,
      "align_items": null,
      "align_self": null,
      "border": null,
      "bottom": null,
      "display": null,
      "flex": null,
      "flex_flow": null,
      "grid_area": null,
      "grid_auto_columns": null,
      "grid_auto_flow": null,
      "grid_auto_rows": null,
      "grid_column": null,
      "grid_gap": null,
      "grid_row": null,
      "grid_template_areas": null,
      "grid_template_columns": null,
      "grid_template_rows": null,
      "height": null,
      "justify_content": null,
      "justify_items": null,
      "left": null,
      "margin": null,
      "max_height": null,
      "max_width": null,
      "min_height": null,
      "min_width": null,
      "object_fit": null,
      "object_position": null,
      "order": null,
      "overflow": null,
      "overflow_x": null,
      "overflow_y": null,
      "padding": null,
      "right": null,
      "top": null,
      "visibility": null,
      "width": null
     }
    },
    "6e0fd80e3b2b4294a8ac2378f4711634": {
     "model_module": "@jupyter-widgets/controls",
     "model_module_version": "1.5.0",
     "model_name": "DescriptionStyleModel",
     "state": {
      "_model_module": "@jupyter-widgets/controls",
      "_model_module_version": "1.5.0",
      "_model_name": "DescriptionStyleModel",
      "_view_count": null,
      "_view_module": "@jupyter-widgets/base",
      "_view_module_version": "1.2.0",
      "_view_name": "StyleView",
      "description_width": ""
     }
    },
    "6f1cf15fa2514710ae3c8b4ac56206e1": {
     "model_module": "@jupyter-widgets/base",
     "model_module_version": "1.2.0",
     "model_name": "LayoutModel",
     "state": {
      "_model_module": "@jupyter-widgets/base",
      "_model_module_version": "1.2.0",
      "_model_name": "LayoutModel",
      "_view_count": null,
      "_view_module": "@jupyter-widgets/base",
      "_view_module_version": "1.2.0",
      "_view_name": "LayoutView",
      "align_content": null,
      "align_items": null,
      "align_self": null,
      "border": null,
      "bottom": null,
      "display": null,
      "flex": null,
      "flex_flow": null,
      "grid_area": null,
      "grid_auto_columns": null,
      "grid_auto_flow": null,
      "grid_auto_rows": null,
      "grid_column": null,
      "grid_gap": null,
      "grid_row": null,
      "grid_template_areas": null,
      "grid_template_columns": null,
      "grid_template_rows": null,
      "height": null,
      "justify_content": null,
      "justify_items": null,
      "left": null,
      "margin": null,
      "max_height": null,
      "max_width": null,
      "min_height": null,
      "min_width": null,
      "object_fit": null,
      "object_position": null,
      "order": null,
      "overflow": null,
      "overflow_x": null,
      "overflow_y": null,
      "padding": null,
      "right": null,
      "top": null,
      "visibility": null,
      "width": null
     }
    },
    "6f3dc5c2aaee48489c8ba4a1b2ad1cc9": {
     "model_module": "@jupyter-widgets/controls",
     "model_module_version": "1.5.0",
     "model_name": "ProgressStyleModel",
     "state": {
      "_model_module": "@jupyter-widgets/controls",
      "_model_module_version": "1.5.0",
      "_model_name": "ProgressStyleModel",
      "_view_count": null,
      "_view_module": "@jupyter-widgets/base",
      "_view_module_version": "1.2.0",
      "_view_name": "StyleView",
      "bar_color": null,
      "description_width": ""
     }
    },
    "727b500e61f647a595c119839355e51c": {
     "model_module": "@jupyter-widgets/controls",
     "model_module_version": "1.5.0",
     "model_name": "HBoxModel",
     "state": {
      "_dom_classes": [],
      "_model_module": "@jupyter-widgets/controls",
      "_model_module_version": "1.5.0",
      "_model_name": "HBoxModel",
      "_view_count": null,
      "_view_module": "@jupyter-widgets/controls",
      "_view_module_version": "1.5.0",
      "_view_name": "HBoxView",
      "box_style": "",
      "children": [
       "IPY_MODEL_64b03ad7f7734c44b44e8919fe01c3fa",
       "IPY_MODEL_ebe2d283cd7d4b649b7c434c8dd62ec8",
       "IPY_MODEL_7e5cdfa863d744a494c2048fc8d7bc6f"
      ],
      "layout": "IPY_MODEL_b52d46befb6042ad8c03fe592cf14c7e"
     }
    },
    "7554fef40f974a2b84cc5fb5408274fa": {
     "model_module": "@jupyter-widgets/controls",
     "model_module_version": "1.5.0",
     "model_name": "HTMLModel",
     "state": {
      "_dom_classes": [],
      "_model_module": "@jupyter-widgets/controls",
      "_model_module_version": "1.5.0",
      "_model_name": "HTMLModel",
      "_view_count": null,
      "_view_module": "@jupyter-widgets/controls",
      "_view_module_version": "1.5.0",
      "_view_name": "HTMLView",
      "description": "",
      "description_tooltip": null,
      "layout": "IPY_MODEL_88ccdd070aed4e869c9bef1095c353a1",
      "placeholder": "​",
      "style": "IPY_MODEL_1831e783cb554b758ba3ef56c7570643",
      "value": " 53.0/53.0 [00:00&lt;00:00, 2.45kB/s]"
     }
    },
    "7d6bf168a90443c0a3aa0d5daf6a28a0": {
     "model_module": "@jupyter-widgets/base",
     "model_module_version": "1.2.0",
     "model_name": "LayoutModel",
     "state": {
      "_model_module": "@jupyter-widgets/base",
      "_model_module_version": "1.2.0",
      "_model_name": "LayoutModel",
      "_view_count": null,
      "_view_module": "@jupyter-widgets/base",
      "_view_module_version": "1.2.0",
      "_view_name": "LayoutView",
      "align_content": null,
      "align_items": null,
      "align_self": null,
      "border": null,
      "bottom": null,
      "display": null,
      "flex": null,
      "flex_flow": null,
      "grid_area": null,
      "grid_auto_columns": null,
      "grid_auto_flow": null,
      "grid_auto_rows": null,
      "grid_column": null,
      "grid_gap": null,
      "grid_row": null,
      "grid_template_areas": null,
      "grid_template_columns": null,
      "grid_template_rows": null,
      "height": null,
      "justify_content": null,
      "justify_items": null,
      "left": null,
      "margin": null,
      "max_height": null,
      "max_width": null,
      "min_height": null,
      "min_width": null,
      "object_fit": null,
      "object_position": null,
      "order": null,
      "overflow": null,
      "overflow_x": null,
      "overflow_y": null,
      "padding": null,
      "right": null,
      "top": null,
      "visibility": null,
      "width": null
     }
    },
    "7e5cdfa863d744a494c2048fc8d7bc6f": {
     "model_module": "@jupyter-widgets/controls",
     "model_module_version": "1.5.0",
     "model_name": "HTMLModel",
     "state": {
      "_dom_classes": [],
      "_model_module": "@jupyter-widgets/controls",
      "_model_module_version": "1.5.0",
      "_model_name": "HTMLModel",
      "_view_count": null,
      "_view_module": "@jupyter-widgets/controls",
      "_view_module_version": "1.5.0",
      "_view_name": "HTMLView",
      "description": "",
      "description_tooltip": null,
      "layout": "IPY_MODEL_430e2bbf9b27434bb0f4d45ec9db3e00",
      "placeholder": "​",
      "style": "IPY_MODEL_a0ec9f62b8024b9d97b2d391599d81f4",
      "value": " 471M/471M [00:05&lt;00:00, 206MB/s]"
     }
    },
    "82c7928657844918b98f78b0ea0ea777": {
     "model_module": "@jupyter-widgets/controls",
     "model_module_version": "1.5.0",
     "model_name": "HTMLModel",
     "state": {
      "_dom_classes": [],
      "_model_module": "@jupyter-widgets/controls",
      "_model_module_version": "1.5.0",
      "_model_name": "HTMLModel",
      "_view_count": null,
      "_view_module": "@jupyter-widgets/controls",
      "_view_module_version": "1.5.0",
      "_view_name": "HTMLView",
      "description": "",
      "description_tooltip": null,
      "layout": "IPY_MODEL_3ade38bf53bb49589e22eaf95149a84b",
      "placeholder": "​",
      "style": "IPY_MODEL_d4e1866988314b7385fc22854b62b75b",
      "value": " 9.08M/9.08M [00:00&lt;00:00, 62.5MB/s]"
     }
    },
    "83f5263c1b8e446489a24dbc984aa6d0": {
     "model_module": "@jupyter-widgets/controls",
     "model_module_version": "1.5.0",
     "model_name": "DescriptionStyleModel",
     "state": {
      "_model_module": "@jupyter-widgets/controls",
      "_model_module_version": "1.5.0",
      "_model_name": "DescriptionStyleModel",
      "_view_count": null,
      "_view_module": "@jupyter-widgets/base",
      "_view_module_version": "1.2.0",
      "_view_name": "StyleView",
      "description_width": ""
     }
    },
    "861bc92be9ba42f0a1b4523707b0e713": {
     "model_module": "@jupyter-widgets/controls",
     "model_module_version": "1.5.0",
     "model_name": "HTMLModel",
     "state": {
      "_dom_classes": [],
      "_model_module": "@jupyter-widgets/controls",
      "_model_module_version": "1.5.0",
      "_model_name": "HTMLModel",
      "_view_count": null,
      "_view_module": "@jupyter-widgets/controls",
      "_view_module_version": "1.5.0",
      "_view_name": "HTMLView",
      "description": "",
      "description_tooltip": null,
      "layout": "IPY_MODEL_03c64f65eae74706b5af1995a4081eb6",
      "placeholder": "​",
      "style": "IPY_MODEL_a084426329d8435f86dc659f6273c609",
      "value": " 480/480 [00:00&lt;00:00, 34.4kB/s]"
     }
    },
    "88ccdd070aed4e869c9bef1095c353a1": {
     "model_module": "@jupyter-widgets/base",
     "model_module_version": "1.2.0",
     "model_name": "LayoutModel",
     "state": {
      "_model_module": "@jupyter-widgets/base",
      "_model_module_version": "1.2.0",
      "_model_name": "LayoutModel",
      "_view_count": null,
      "_view_module": "@jupyter-widgets/base",
      "_view_module_version": "1.2.0",
      "_view_name": "LayoutView",
      "align_content": null,
      "align_items": null,
      "align_self": null,
      "border": null,
      "bottom": null,
      "display": null,
      "flex": null,
      "flex_flow": null,
      "grid_area": null,
      "grid_auto_columns": null,
      "grid_auto_flow": null,
      "grid_auto_rows": null,
      "grid_column": null,
      "grid_gap": null,
      "grid_row": null,
      "grid_template_areas": null,
      "grid_template_columns": null,
      "grid_template_rows": null,
      "height": null,
      "justify_content": null,
      "justify_items": null,
      "left": null,
      "margin": null,
      "max_height": null,
      "max_width": null,
      "min_height": null,
      "min_width": null,
      "object_fit": null,
      "object_position": null,
      "order": null,
      "overflow": null,
      "overflow_x": null,
      "overflow_y": null,
      "padding": null,
      "right": null,
      "top": null,
      "visibility": null,
      "width": null
     }
    },
    "89ad9e76f5544a28bd6a42be78298e02": {
     "model_module": "@jupyter-widgets/controls",
     "model_module_version": "1.5.0",
     "model_name": "HBoxModel",
     "state": {
      "_dom_classes": [],
      "_model_module": "@jupyter-widgets/controls",
      "_model_module_version": "1.5.0",
      "_model_name": "HBoxModel",
      "_view_count": null,
      "_view_module": "@jupyter-widgets/controls",
      "_view_module_version": "1.5.0",
      "_view_name": "HBoxView",
      "box_style": "",
      "children": [
       "IPY_MODEL_d18871e411f74aaf9a1bb940a6fccf21",
       "IPY_MODEL_20b247c14ea34ad786e1c6a0f892ead1",
       "IPY_MODEL_b60fd6f8ecc14b219aeb898cd9e3c217"
      ],
      "layout": "IPY_MODEL_d45b69797dd64e2a95102ef7ce47a3bc"
     }
    },
    "8e13dbecebee4aeb8c9640e5615e4465": {
     "model_module": "@jupyter-widgets/base",
     "model_module_version": "1.2.0",
     "model_name": "LayoutModel",
     "state": {
      "_model_module": "@jupyter-widgets/base",
      "_model_module_version": "1.2.0",
      "_model_name": "LayoutModel",
      "_view_count": null,
      "_view_module": "@jupyter-widgets/base",
      "_view_module_version": "1.2.0",
      "_view_name": "LayoutView",
      "align_content": null,
      "align_items": null,
      "align_self": null,
      "border": null,
      "bottom": null,
      "display": null,
      "flex": null,
      "flex_flow": null,
      "grid_area": null,
      "grid_auto_columns": null,
      "grid_auto_flow": null,
      "grid_auto_rows": null,
      "grid_column": null,
      "grid_gap": null,
      "grid_row": null,
      "grid_template_areas": null,
      "grid_template_columns": null,
      "grid_template_rows": null,
      "height": null,
      "justify_content": null,
      "justify_items": null,
      "left": null,
      "margin": null,
      "max_height": null,
      "max_width": null,
      "min_height": null,
      "min_width": null,
      "object_fit": null,
      "object_position": null,
      "order": null,
      "overflow": null,
      "overflow_x": null,
      "overflow_y": null,
      "padding": null,
      "right": null,
      "top": null,
      "visibility": null,
      "width": null
     }
    },
    "8f81e43df4d848e9ba1137b09bf18726": {
     "model_module": "@jupyter-widgets/base",
     "model_module_version": "1.2.0",
     "model_name": "LayoutModel",
     "state": {
      "_model_module": "@jupyter-widgets/base",
      "_model_module_version": "1.2.0",
      "_model_name": "LayoutModel",
      "_view_count": null,
      "_view_module": "@jupyter-widgets/base",
      "_view_module_version": "1.2.0",
      "_view_name": "LayoutView",
      "align_content": null,
      "align_items": null,
      "align_self": null,
      "border": null,
      "bottom": null,
      "display": null,
      "flex": null,
      "flex_flow": null,
      "grid_area": null,
      "grid_auto_columns": null,
      "grid_auto_flow": null,
      "grid_auto_rows": null,
      "grid_column": null,
      "grid_gap": null,
      "grid_row": null,
      "grid_template_areas": null,
      "grid_template_columns": null,
      "grid_template_rows": null,
      "height": null,
      "justify_content": null,
      "justify_items": null,
      "left": null,
      "margin": null,
      "max_height": null,
      "max_width": null,
      "min_height": null,
      "min_width": null,
      "object_fit": null,
      "object_position": null,
      "order": null,
      "overflow": null,
      "overflow_x": null,
      "overflow_y": null,
      "padding": null,
      "right": null,
      "top": null,
      "visibility": null,
      "width": null
     }
    },
    "90744f866cb84faaa5560b3f6f92e3f8": {
     "model_module": "@jupyter-widgets/controls",
     "model_module_version": "1.5.0",
     "model_name": "DescriptionStyleModel",
     "state": {
      "_model_module": "@jupyter-widgets/controls",
      "_model_module_version": "1.5.0",
      "_model_name": "DescriptionStyleModel",
      "_view_count": null,
      "_view_module": "@jupyter-widgets/base",
      "_view_module_version": "1.2.0",
      "_view_name": "StyleView",
      "description_width": ""
     }
    },
    "95b32c92b42649be9cfe9083889b22c5": {
     "model_module": "@jupyter-widgets/base",
     "model_module_version": "1.2.0",
     "model_name": "LayoutModel",
     "state": {
      "_model_module": "@jupyter-widgets/base",
      "_model_module_version": "1.2.0",
      "_model_name": "LayoutModel",
      "_view_count": null,
      "_view_module": "@jupyter-widgets/base",
      "_view_module_version": "1.2.0",
      "_view_name": "LayoutView",
      "align_content": null,
      "align_items": null,
      "align_self": null,
      "border": null,
      "bottom": null,
      "display": null,
      "flex": null,
      "flex_flow": null,
      "grid_area": null,
      "grid_auto_columns": null,
      "grid_auto_flow": null,
      "grid_auto_rows": null,
      "grid_column": null,
      "grid_gap": null,
      "grid_row": null,
      "grid_template_areas": null,
      "grid_template_columns": null,
      "grid_template_rows": null,
      "height": null,
      "justify_content": null,
      "justify_items": null,
      "left": null,
      "margin": null,
      "max_height": null,
      "max_width": null,
      "min_height": null,
      "min_width": null,
      "object_fit": null,
      "object_position": null,
      "order": null,
      "overflow": null,
      "overflow_x": null,
      "overflow_y": null,
      "padding": null,
      "right": null,
      "top": null,
      "visibility": null,
      "width": null
     }
    },
    "95fddfc69f77425dbdac7e4cf0d61ae1": {
     "model_module": "@jupyter-widgets/controls",
     "model_module_version": "1.5.0",
     "model_name": "FloatProgressModel",
     "state": {
      "_dom_classes": [],
      "_model_module": "@jupyter-widgets/controls",
      "_model_module_version": "1.5.0",
      "_model_name": "FloatProgressModel",
      "_view_count": null,
      "_view_module": "@jupyter-widgets/controls",
      "_view_module_version": "1.5.0",
      "_view_name": "ProgressView",
      "bar_style": "success",
      "description": "",
      "description_tooltip": null,
      "layout": "IPY_MODEL_ad1437c2659e434194164431ab1c956c",
      "max": 229,
      "min": 0,
      "orientation": "horizontal",
      "style": "IPY_MODEL_d1b8cfda06bc4f879ad9d402ef616bfd",
      "value": 229
     }
    },
    "9ac091512a9d45569322c560b5100fb6": {
     "model_module": "@jupyter-widgets/controls",
     "model_module_version": "1.5.0",
     "model_name": "HBoxModel",
     "state": {
      "_dom_classes": [],
      "_model_module": "@jupyter-widgets/controls",
      "_model_module_version": "1.5.0",
      "_model_name": "HBoxModel",
      "_view_count": null,
      "_view_module": "@jupyter-widgets/controls",
      "_view_module_version": "1.5.0",
      "_view_name": "HBoxView",
      "box_style": "",
      "children": [
       "IPY_MODEL_1831261b652441a9ae1a7ad5152113b0",
       "IPY_MODEL_d947c996a9ec4d88a056e37398843d69",
       "IPY_MODEL_7554fef40f974a2b84cc5fb5408274fa"
      ],
      "layout": "IPY_MODEL_6f1cf15fa2514710ae3c8b4ac56206e1"
     }
    },
    "9d95455bf0c44bd1867accc4a0b68a93": {
     "model_module": "@jupyter-widgets/controls",
     "model_module_version": "1.5.0",
     "model_name": "ProgressStyleModel",
     "state": {
      "_model_module": "@jupyter-widgets/controls",
      "_model_module_version": "1.5.0",
      "_model_name": "ProgressStyleModel",
      "_view_count": null,
      "_view_module": "@jupyter-widgets/base",
      "_view_module_version": "1.2.0",
      "_view_name": "StyleView",
      "bar_color": null,
      "description_width": ""
     }
    },
    "9dbac1e656e44b3fb9c2d8cc7dad3964": {
     "model_module": "@jupyter-widgets/controls",
     "model_module_version": "1.5.0",
     "model_name": "HBoxModel",
     "state": {
      "_dom_classes": [],
      "_model_module": "@jupyter-widgets/controls",
      "_model_module_version": "1.5.0",
      "_model_name": "HBoxModel",
      "_view_count": null,
      "_view_module": "@jupyter-widgets/controls",
      "_view_module_version": "1.5.0",
      "_view_name": "HBoxView",
      "box_style": "",
      "children": [
       "IPY_MODEL_c891996a59b842f0b57f52e9bdb642f0",
       "IPY_MODEL_b08b69eb604a456ebc4027a52c2ff3e2",
       "IPY_MODEL_042e11f10dd045deb414364f28c9957a"
      ],
      "layout": "IPY_MODEL_f2772e6f2a4541cfb508937062d361bf"
     }
    },
    "9e0d0c4df07a44b58267f81fdcdff0ae": {
     "model_module": "@jupyter-widgets/controls",
     "model_module_version": "1.5.0",
     "model_name": "DescriptionStyleModel",
     "state": {
      "_model_module": "@jupyter-widgets/controls",
      "_model_module_version": "1.5.0",
      "_model_name": "DescriptionStyleModel",
      "_view_count": null,
      "_view_module": "@jupyter-widgets/base",
      "_view_module_version": "1.2.0",
      "_view_name": "StyleView",
      "description_width": ""
     }
    },
    "9ed612613f88459f824613e464cfeb57": {
     "model_module": "@jupyter-widgets/controls",
     "model_module_version": "1.5.0",
     "model_name": "HTMLModel",
     "state": {
      "_dom_classes": [],
      "_model_module": "@jupyter-widgets/controls",
      "_model_module_version": "1.5.0",
      "_model_name": "HTMLModel",
      "_view_count": null,
      "_view_module": "@jupyter-widgets/controls",
      "_view_module_version": "1.5.0",
      "_view_name": "HTMLView",
      "description": "",
      "description_tooltip": null,
      "layout": "IPY_MODEL_e2eca294e1834af6ba41fab77575a7ba",
      "placeholder": "​",
      "style": "IPY_MODEL_4e55dab68ded4d9a85e5a415549af083",
      "value": " 229/229 [00:00&lt;00:00, 10.8kB/s]"
     }
    },
    "a0293d07f4ec417286f19fefa47540fa": {
     "model_module": "@jupyter-widgets/base",
     "model_module_version": "1.2.0",
     "model_name": "LayoutModel",
     "state": {
      "_model_module": "@jupyter-widgets/base",
      "_model_module_version": "1.2.0",
      "_model_name": "LayoutModel",
      "_view_count": null,
      "_view_module": "@jupyter-widgets/base",
      "_view_module_version": "1.2.0",
      "_view_name": "LayoutView",
      "align_content": null,
      "align_items": null,
      "align_self": null,
      "border": null,
      "bottom": null,
      "display": null,
      "flex": null,
      "flex_flow": null,
      "grid_area": null,
      "grid_auto_columns": null,
      "grid_auto_flow": null,
      "grid_auto_rows": null,
      "grid_column": null,
      "grid_gap": null,
      "grid_row": null,
      "grid_template_areas": null,
      "grid_template_columns": null,
      "grid_template_rows": null,
      "height": null,
      "justify_content": null,
      "justify_items": null,
      "left": null,
      "margin": null,
      "max_height": null,
      "max_width": null,
      "min_height": null,
      "min_width": null,
      "object_fit": null,
      "object_position": null,
      "order": null,
      "overflow": null,
      "overflow_x": null,
      "overflow_y": null,
      "padding": null,
      "right": null,
      "top": null,
      "visibility": null,
      "width": null
     }
    },
    "a084426329d8435f86dc659f6273c609": {
     "model_module": "@jupyter-widgets/controls",
     "model_module_version": "1.5.0",
     "model_name": "DescriptionStyleModel",
     "state": {
      "_model_module": "@jupyter-widgets/controls",
      "_model_module_version": "1.5.0",
      "_model_name": "DescriptionStyleModel",
      "_view_count": null,
      "_view_module": "@jupyter-widgets/base",
      "_view_module_version": "1.2.0",
      "_view_name": "StyleView",
      "description_width": ""
     }
    },
    "a084a42d287949839d8199478b98dcc2": {
     "model_module": "@jupyter-widgets/base",
     "model_module_version": "1.2.0",
     "model_name": "LayoutModel",
     "state": {
      "_model_module": "@jupyter-widgets/base",
      "_model_module_version": "1.2.0",
      "_model_name": "LayoutModel",
      "_view_count": null,
      "_view_module": "@jupyter-widgets/base",
      "_view_module_version": "1.2.0",
      "_view_name": "LayoutView",
      "align_content": null,
      "align_items": null,
      "align_self": null,
      "border": null,
      "bottom": null,
      "display": null,
      "flex": null,
      "flex_flow": null,
      "grid_area": null,
      "grid_auto_columns": null,
      "grid_auto_flow": null,
      "grid_auto_rows": null,
      "grid_column": null,
      "grid_gap": null,
      "grid_row": null,
      "grid_template_areas": null,
      "grid_template_columns": null,
      "grid_template_rows": null,
      "height": null,
      "justify_content": null,
      "justify_items": null,
      "left": null,
      "margin": null,
      "max_height": null,
      "max_width": null,
      "min_height": null,
      "min_width": null,
      "object_fit": null,
      "object_position": null,
      "order": null,
      "overflow": null,
      "overflow_x": null,
      "overflow_y": null,
      "padding": null,
      "right": null,
      "top": null,
      "visibility": null,
      "width": null
     }
    },
    "a0ec9f62b8024b9d97b2d391599d81f4": {
     "model_module": "@jupyter-widgets/controls",
     "model_module_version": "1.5.0",
     "model_name": "DescriptionStyleModel",
     "state": {
      "_model_module": "@jupyter-widgets/controls",
      "_model_module_version": "1.5.0",
      "_model_name": "DescriptionStyleModel",
      "_view_count": null,
      "_view_module": "@jupyter-widgets/base",
      "_view_module_version": "1.2.0",
      "_view_name": "StyleView",
      "description_width": ""
     }
    },
    "a737c1d395cf4d2dbb3efb891432db84": {
     "model_module": "@jupyter-widgets/controls",
     "model_module_version": "1.5.0",
     "model_name": "DescriptionStyleModel",
     "state": {
      "_model_module": "@jupyter-widgets/controls",
      "_model_module_version": "1.5.0",
      "_model_name": "DescriptionStyleModel",
      "_view_count": null,
      "_view_module": "@jupyter-widgets/base",
      "_view_module_version": "1.2.0",
      "_view_name": "StyleView",
      "description_width": ""
     }
    },
    "ad1437c2659e434194164431ab1c956c": {
     "model_module": "@jupyter-widgets/base",
     "model_module_version": "1.2.0",
     "model_name": "LayoutModel",
     "state": {
      "_model_module": "@jupyter-widgets/base",
      "_model_module_version": "1.2.0",
      "_model_name": "LayoutModel",
      "_view_count": null,
      "_view_module": "@jupyter-widgets/base",
      "_view_module_version": "1.2.0",
      "_view_name": "LayoutView",
      "align_content": null,
      "align_items": null,
      "align_self": null,
      "border": null,
      "bottom": null,
      "display": null,
      "flex": null,
      "flex_flow": null,
      "grid_area": null,
      "grid_auto_columns": null,
      "grid_auto_flow": null,
      "grid_auto_rows": null,
      "grid_column": null,
      "grid_gap": null,
      "grid_row": null,
      "grid_template_areas": null,
      "grid_template_columns": null,
      "grid_template_rows": null,
      "height": null,
      "justify_content": null,
      "justify_items": null,
      "left": null,
      "margin": null,
      "max_height": null,
      "max_width": null,
      "min_height": null,
      "min_width": null,
      "object_fit": null,
      "object_position": null,
      "order": null,
      "overflow": null,
      "overflow_x": null,
      "overflow_y": null,
      "padding": null,
      "right": null,
      "top": null,
      "visibility": null,
      "width": null
     }
    },
    "adc55f234f86457c85b37acbc6c283f1": {
     "model_module": "@jupyter-widgets/base",
     "model_module_version": "1.2.0",
     "model_name": "LayoutModel",
     "state": {
      "_model_module": "@jupyter-widgets/base",
      "_model_module_version": "1.2.0",
      "_model_name": "LayoutModel",
      "_view_count": null,
      "_view_module": "@jupyter-widgets/base",
      "_view_module_version": "1.2.0",
      "_view_name": "LayoutView",
      "align_content": null,
      "align_items": null,
      "align_self": null,
      "border": null,
      "bottom": null,
      "display": null,
      "flex": null,
      "flex_flow": null,
      "grid_area": null,
      "grid_auto_columns": null,
      "grid_auto_flow": null,
      "grid_auto_rows": null,
      "grid_column": null,
      "grid_gap": null,
      "grid_row": null,
      "grid_template_areas": null,
      "grid_template_columns": null,
      "grid_template_rows": null,
      "height": null,
      "justify_content": null,
      "justify_items": null,
      "left": null,
      "margin": null,
      "max_height": null,
      "max_width": null,
      "min_height": null,
      "min_width": null,
      "object_fit": null,
      "object_position": null,
      "order": null,
      "overflow": null,
      "overflow_x": null,
      "overflow_y": null,
      "padding": null,
      "right": null,
      "top": null,
      "visibility": null,
      "width": null
     }
    },
    "adda2e991e784632bcdc2fcf6affde7e": {
     "model_module": "@jupyter-widgets/controls",
     "model_module_version": "1.5.0",
     "model_name": "DescriptionStyleModel",
     "state": {
      "_model_module": "@jupyter-widgets/controls",
      "_model_module_version": "1.5.0",
      "_model_name": "DescriptionStyleModel",
      "_view_count": null,
      "_view_module": "@jupyter-widgets/base",
      "_view_module_version": "1.2.0",
      "_view_name": "StyleView",
      "description_width": ""
     }
    },
    "af77fbc2a6c247c6a42501632f6fd326": {
     "model_module": "@jupyter-widgets/base",
     "model_module_version": "1.2.0",
     "model_name": "LayoutModel",
     "state": {
      "_model_module": "@jupyter-widgets/base",
      "_model_module_version": "1.2.0",
      "_model_name": "LayoutModel",
      "_view_count": null,
      "_view_module": "@jupyter-widgets/base",
      "_view_module_version": "1.2.0",
      "_view_name": "LayoutView",
      "align_content": null,
      "align_items": null,
      "align_self": null,
      "border": null,
      "bottom": null,
      "display": null,
      "flex": null,
      "flex_flow": null,
      "grid_area": null,
      "grid_auto_columns": null,
      "grid_auto_flow": null,
      "grid_auto_rows": null,
      "grid_column": null,
      "grid_gap": null,
      "grid_row": null,
      "grid_template_areas": null,
      "grid_template_columns": null,
      "grid_template_rows": null,
      "height": null,
      "justify_content": null,
      "justify_items": null,
      "left": null,
      "margin": null,
      "max_height": null,
      "max_width": null,
      "min_height": null,
      "min_width": null,
      "object_fit": null,
      "object_position": null,
      "order": null,
      "overflow": null,
      "overflow_x": null,
      "overflow_y": null,
      "padding": null,
      "right": null,
      "top": null,
      "visibility": null,
      "width": null
     }
    },
    "b08b69eb604a456ebc4027a52c2ff3e2": {
     "model_module": "@jupyter-widgets/controls",
     "model_module_version": "1.5.0",
     "model_name": "FloatProgressModel",
     "state": {
      "_dom_classes": [],
      "_model_module": "@jupyter-widgets/controls",
      "_model_module_version": "1.5.0",
      "_model_name": "FloatProgressModel",
      "_view_count": null,
      "_view_module": "@jupyter-widgets/controls",
      "_view_module_version": "1.5.0",
      "_view_name": "ProgressView",
      "bar_style": "success",
      "description": "",
      "description_tooltip": null,
      "layout": "IPY_MODEL_48adea788a41474fb8d9a7004284a52d",
      "max": 239,
      "min": 0,
      "orientation": "horizontal",
      "style": "IPY_MODEL_9d95455bf0c44bd1867accc4a0b68a93",
      "value": 239
     }
    },
    "b52d46befb6042ad8c03fe592cf14c7e": {
     "model_module": "@jupyter-widgets/base",
     "model_module_version": "1.2.0",
     "model_name": "LayoutModel",
     "state": {
      "_model_module": "@jupyter-widgets/base",
      "_model_module_version": "1.2.0",
      "_model_name": "LayoutModel",
      "_view_count": null,
      "_view_module": "@jupyter-widgets/base",
      "_view_module_version": "1.2.0",
      "_view_name": "LayoutView",
      "align_content": null,
      "align_items": null,
      "align_self": null,
      "border": null,
      "bottom": null,
      "display": null,
      "flex": null,
      "flex_flow": null,
      "grid_area": null,
      "grid_auto_columns": null,
      "grid_auto_flow": null,
      "grid_auto_rows": null,
      "grid_column": null,
      "grid_gap": null,
      "grid_row": null,
      "grid_template_areas": null,
      "grid_template_columns": null,
      "grid_template_rows": null,
      "height": null,
      "justify_content": null,
      "justify_items": null,
      "left": null,
      "margin": null,
      "max_height": null,
      "max_width": null,
      "min_height": null,
      "min_width": null,
      "object_fit": null,
      "object_position": null,
      "order": null,
      "overflow": null,
      "overflow_x": null,
      "overflow_y": null,
      "padding": null,
      "right": null,
      "top": null,
      "visibility": null,
      "width": null
     }
    },
    "b60fd6f8ecc14b219aeb898cd9e3c217": {
     "model_module": "@jupyter-widgets/controls",
     "model_module_version": "1.5.0",
     "model_name": "HTMLModel",
     "state": {
      "_dom_classes": [],
      "_model_module": "@jupyter-widgets/controls",
      "_model_module_version": "1.5.0",
      "_model_name": "HTMLModel",
      "_view_count": null,
      "_view_module": "@jupyter-widgets/controls",
      "_view_module_version": "1.5.0",
      "_view_name": "HTMLView",
      "description": "",
      "description_tooltip": null,
      "layout": "IPY_MODEL_42c56605c6d8435fb31376e518645adb",
      "placeholder": "​",
      "style": "IPY_MODEL_edb89e9f37704b389e296e1dddcca53f",
      "value": " 190/190 [00:00&lt;00:00, 9.98kB/s]"
     }
    },
    "bc157c8000034b5fa5fa0ed41113c005": {
     "model_module": "@jupyter-widgets/controls",
     "model_module_version": "1.5.0",
     "model_name": "HBoxModel",
     "state": {
      "_dom_classes": [],
      "_model_module": "@jupyter-widgets/controls",
      "_model_module_version": "1.5.0",
      "_model_name": "HBoxModel",
      "_view_count": null,
      "_view_module": "@jupyter-widgets/controls",
      "_view_module_version": "1.5.0",
      "_view_name": "HBoxView",
      "box_style": "",
      "children": [
       "IPY_MODEL_0d59c10e79ce4e4b92f2d2b41cef2b39",
       "IPY_MODEL_2730c2983cce481b8e2ccdff59e6a0f7",
       "IPY_MODEL_5067fda1431b48bbb2e87cc86e2746cf"
      ],
      "layout": "IPY_MODEL_6d4c4b32665a48639b5c1fd2295438ea"
     }
    },
    "be076e5e8924463d9acc8797b0c73452": {
     "model_module": "@jupyter-widgets/base",
     "model_module_version": "1.2.0",
     "model_name": "LayoutModel",
     "state": {
      "_model_module": "@jupyter-widgets/base",
      "_model_module_version": "1.2.0",
      "_model_name": "LayoutModel",
      "_view_count": null,
      "_view_module": "@jupyter-widgets/base",
      "_view_module_version": "1.2.0",
      "_view_name": "LayoutView",
      "align_content": null,
      "align_items": null,
      "align_self": null,
      "border": null,
      "bottom": null,
      "display": null,
      "flex": null,
      "flex_flow": null,
      "grid_area": null,
      "grid_auto_columns": null,
      "grid_auto_flow": null,
      "grid_auto_rows": null,
      "grid_column": null,
      "grid_gap": null,
      "grid_row": null,
      "grid_template_areas": null,
      "grid_template_columns": null,
      "grid_template_rows": null,
      "height": null,
      "justify_content": null,
      "justify_items": null,
      "left": null,
      "margin": null,
      "max_height": null,
      "max_width": null,
      "min_height": null,
      "min_width": null,
      "object_fit": null,
      "object_position": null,
      "order": null,
      "overflow": null,
      "overflow_x": null,
      "overflow_y": null,
      "padding": null,
      "right": null,
      "top": null,
      "visibility": null,
      "width": null
     }
    },
    "c39118349c70471493c09d0bf67894e7": {
     "model_module": "@jupyter-widgets/controls",
     "model_module_version": "1.5.0",
     "model_name": "ProgressStyleModel",
     "state": {
      "_model_module": "@jupyter-widgets/controls",
      "_model_module_version": "1.5.0",
      "_model_name": "ProgressStyleModel",
      "_view_count": null,
      "_view_module": "@jupyter-widgets/base",
      "_view_module_version": "1.2.0",
      "_view_name": "StyleView",
      "bar_color": null,
      "description_width": ""
     }
    },
    "c3c23dbf592d47c9814924e463c6e807": {
     "model_module": "@jupyter-widgets/base",
     "model_module_version": "1.2.0",
     "model_name": "LayoutModel",
     "state": {
      "_model_module": "@jupyter-widgets/base",
      "_model_module_version": "1.2.0",
      "_model_name": "LayoutModel",
      "_view_count": null,
      "_view_module": "@jupyter-widgets/base",
      "_view_module_version": "1.2.0",
      "_view_name": "LayoutView",
      "align_content": null,
      "align_items": null,
      "align_self": null,
      "border": null,
      "bottom": null,
      "display": null,
      "flex": null,
      "flex_flow": null,
      "grid_area": null,
      "grid_auto_columns": null,
      "grid_auto_flow": null,
      "grid_auto_rows": null,
      "grid_column": null,
      "grid_gap": null,
      "grid_row": null,
      "grid_template_areas": null,
      "grid_template_columns": null,
      "grid_template_rows": null,
      "height": null,
      "justify_content": null,
      "justify_items": null,
      "left": null,
      "margin": null,
      "max_height": null,
      "max_width": null,
      "min_height": null,
      "min_width": null,
      "object_fit": null,
      "object_position": null,
      "order": null,
      "overflow": null,
      "overflow_x": null,
      "overflow_y": null,
      "padding": null,
      "right": null,
      "top": null,
      "visibility": null,
      "width": null
     }
    },
    "c3ccf767489d401aacd7ce2f62da3eb4": {
     "model_module": "@jupyter-widgets/base",
     "model_module_version": "1.2.0",
     "model_name": "LayoutModel",
     "state": {
      "_model_module": "@jupyter-widgets/base",
      "_model_module_version": "1.2.0",
      "_model_name": "LayoutModel",
      "_view_count": null,
      "_view_module": "@jupyter-widgets/base",
      "_view_module_version": "1.2.0",
      "_view_name": "LayoutView",
      "align_content": null,
      "align_items": null,
      "align_self": null,
      "border": null,
      "bottom": null,
      "display": null,
      "flex": null,
      "flex_flow": null,
      "grid_area": null,
      "grid_auto_columns": null,
      "grid_auto_flow": null,
      "grid_auto_rows": null,
      "grid_column": null,
      "grid_gap": null,
      "grid_row": null,
      "grid_template_areas": null,
      "grid_template_columns": null,
      "grid_template_rows": null,
      "height": null,
      "justify_content": null,
      "justify_items": null,
      "left": null,
      "margin": null,
      "max_height": null,
      "max_width": null,
      "min_height": null,
      "min_width": null,
      "object_fit": null,
      "object_position": null,
      "order": null,
      "overflow": null,
      "overflow_x": null,
      "overflow_y": null,
      "padding": null,
      "right": null,
      "top": null,
      "visibility": null,
      "width": null
     }
    },
    "c425f564fb0e48499ea784431f06ff81": {
     "model_module": "@jupyter-widgets/base",
     "model_module_version": "1.2.0",
     "model_name": "LayoutModel",
     "state": {
      "_model_module": "@jupyter-widgets/base",
      "_model_module_version": "1.2.0",
      "_model_name": "LayoutModel",
      "_view_count": null,
      "_view_module": "@jupyter-widgets/base",
      "_view_module_version": "1.2.0",
      "_view_name": "LayoutView",
      "align_content": null,
      "align_items": null,
      "align_self": null,
      "border": null,
      "bottom": null,
      "display": null,
      "flex": null,
      "flex_flow": null,
      "grid_area": null,
      "grid_auto_columns": null,
      "grid_auto_flow": null,
      "grid_auto_rows": null,
      "grid_column": null,
      "grid_gap": null,
      "grid_row": null,
      "grid_template_areas": null,
      "grid_template_columns": null,
      "grid_template_rows": null,
      "height": null,
      "justify_content": null,
      "justify_items": null,
      "left": null,
      "margin": null,
      "max_height": null,
      "max_width": null,
      "min_height": null,
      "min_width": null,
      "object_fit": null,
      "object_position": null,
      "order": null,
      "overflow": null,
      "overflow_x": null,
      "overflow_y": null,
      "padding": null,
      "right": null,
      "top": null,
      "visibility": null,
      "width": null
     }
    },
    "c4570bea2d84443c86f90673aa7f9afc": {
     "model_module": "@jupyter-widgets/controls",
     "model_module_version": "1.5.0",
     "model_name": "DescriptionStyleModel",
     "state": {
      "_model_module": "@jupyter-widgets/controls",
      "_model_module_version": "1.5.0",
      "_model_name": "DescriptionStyleModel",
      "_view_count": null,
      "_view_module": "@jupyter-widgets/base",
      "_view_module_version": "1.2.0",
      "_view_name": "StyleView",
      "description_width": ""
     }
    },
    "c652a2c3afa141e3aaa91dc67919b472": {
     "model_module": "@jupyter-widgets/base",
     "model_module_version": "1.2.0",
     "model_name": "LayoutModel",
     "state": {
      "_model_module": "@jupyter-widgets/base",
      "_model_module_version": "1.2.0",
      "_model_name": "LayoutModel",
      "_view_count": null,
      "_view_module": "@jupyter-widgets/base",
      "_view_module_version": "1.2.0",
      "_view_name": "LayoutView",
      "align_content": null,
      "align_items": null,
      "align_self": null,
      "border": null,
      "bottom": null,
      "display": null,
      "flex": null,
      "flex_flow": null,
      "grid_area": null,
      "grid_auto_columns": null,
      "grid_auto_flow": null,
      "grid_auto_rows": null,
      "grid_column": null,
      "grid_gap": null,
      "grid_row": null,
      "grid_template_areas": null,
      "grid_template_columns": null,
      "grid_template_rows": null,
      "height": null,
      "justify_content": null,
      "justify_items": null,
      "left": null,
      "margin": null,
      "max_height": null,
      "max_width": null,
      "min_height": null,
      "min_width": null,
      "object_fit": null,
      "object_position": null,
      "order": null,
      "overflow": null,
      "overflow_x": null,
      "overflow_y": null,
      "padding": null,
      "right": null,
      "top": null,
      "visibility": null,
      "width": null
     }
    },
    "c891996a59b842f0b57f52e9bdb642f0": {
     "model_module": "@jupyter-widgets/controls",
     "model_module_version": "1.5.0",
     "model_name": "HTMLModel",
     "state": {
      "_dom_classes": [],
      "_model_module": "@jupyter-widgets/controls",
      "_model_module_version": "1.5.0",
      "_model_name": "HTMLModel",
      "_view_count": null,
      "_view_module": "@jupyter-widgets/controls",
      "_view_module_version": "1.5.0",
      "_view_name": "HTMLView",
      "description": "",
      "description_tooltip": null,
      "layout": "IPY_MODEL_a084a42d287949839d8199478b98dcc2",
      "placeholder": "​",
      "style": "IPY_MODEL_90744f866cb84faaa5560b3f6f92e3f8",
      "value": "special_tokens_map.json: 100%"
     }
    },
    "d18871e411f74aaf9a1bb940a6fccf21": {
     "model_module": "@jupyter-widgets/controls",
     "model_module_version": "1.5.0",
     "model_name": "HTMLModel",
     "state": {
      "_dom_classes": [],
      "_model_module": "@jupyter-widgets/controls",
      "_model_module_version": "1.5.0",
      "_model_name": "HTMLModel",
      "_view_count": null,
      "_view_module": "@jupyter-widgets/controls",
      "_view_module_version": "1.5.0",
      "_view_name": "HTMLView",
      "description": "",
      "description_tooltip": null,
      "layout": "IPY_MODEL_c3ccf767489d401aacd7ce2f62da3eb4",
      "placeholder": "​",
      "style": "IPY_MODEL_a737c1d395cf4d2dbb3efb891432db84",
      "value": "1_Pooling/config.json: 100%"
     }
    },
    "d1b8cfda06bc4f879ad9d402ef616bfd": {
     "model_module": "@jupyter-widgets/controls",
     "model_module_version": "1.5.0",
     "model_name": "ProgressStyleModel",
     "state": {
      "_model_module": "@jupyter-widgets/controls",
      "_model_module_version": "1.5.0",
      "_model_name": "ProgressStyleModel",
      "_view_count": null,
      "_view_module": "@jupyter-widgets/base",
      "_view_module_version": "1.2.0",
      "_view_name": "StyleView",
      "bar_color": null,
      "description_width": ""
     }
    },
    "d1be822a159342de9cea5eb474f83a6c": {
     "model_module": "@jupyter-widgets/controls",
     "model_module_version": "1.5.0",
     "model_name": "HTMLModel",
     "state": {
      "_dom_classes": [],
      "_model_module": "@jupyter-widgets/controls",
      "_model_module_version": "1.5.0",
      "_model_name": "HTMLModel",
      "_view_count": null,
      "_view_module": "@jupyter-widgets/controls",
      "_view_module_version": "1.5.0",
      "_view_name": "HTMLView",
      "description": "",
      "description_tooltip": null,
      "layout": "IPY_MODEL_1083770e7e06489283c2162dff8c3b3c",
      "placeholder": "​",
      "style": "IPY_MODEL_df965820ee394a469fc49611f524e5d8",
      "value": "README.md: 100%"
     }
    },
    "d45b69797dd64e2a95102ef7ce47a3bc": {
     "model_module": "@jupyter-widgets/base",
     "model_module_version": "1.2.0",
     "model_name": "LayoutModel",
     "state": {
      "_model_module": "@jupyter-widgets/base",
      "_model_module_version": "1.2.0",
      "_model_name": "LayoutModel",
      "_view_count": null,
      "_view_module": "@jupyter-widgets/base",
      "_view_module_version": "1.2.0",
      "_view_name": "LayoutView",
      "align_content": null,
      "align_items": null,
      "align_self": null,
      "border": null,
      "bottom": null,
      "display": null,
      "flex": null,
      "flex_flow": null,
      "grid_area": null,
      "grid_auto_columns": null,
      "grid_auto_flow": null,
      "grid_auto_rows": null,
      "grid_column": null,
      "grid_gap": null,
      "grid_row": null,
      "grid_template_areas": null,
      "grid_template_columns": null,
      "grid_template_rows": null,
      "height": null,
      "justify_content": null,
      "justify_items": null,
      "left": null,
      "margin": null,
      "max_height": null,
      "max_width": null,
      "min_height": null,
      "min_width": null,
      "object_fit": null,
      "object_position": null,
      "order": null,
      "overflow": null,
      "overflow_x": null,
      "overflow_y": null,
      "padding": null,
      "right": null,
      "top": null,
      "visibility": null,
      "width": null
     }
    },
    "d4e1866988314b7385fc22854b62b75b": {
     "model_module": "@jupyter-widgets/controls",
     "model_module_version": "1.5.0",
     "model_name": "DescriptionStyleModel",
     "state": {
      "_model_module": "@jupyter-widgets/controls",
      "_model_module_version": "1.5.0",
      "_model_name": "DescriptionStyleModel",
      "_view_count": null,
      "_view_module": "@jupyter-widgets/base",
      "_view_module_version": "1.2.0",
      "_view_name": "StyleView",
      "description_width": ""
     }
    },
    "d8ac66bec70c4cf68b747c7cb6823f2c": {
     "model_module": "@jupyter-widgets/controls",
     "model_module_version": "1.5.0",
     "model_name": "HTMLModel",
     "state": {
      "_dom_classes": [],
      "_model_module": "@jupyter-widgets/controls",
      "_model_module_version": "1.5.0",
      "_model_name": "HTMLModel",
      "_view_count": null,
      "_view_module": "@jupyter-widgets/controls",
      "_view_module_version": "1.5.0",
      "_view_name": "HTMLView",
      "description": "",
      "description_tooltip": null,
      "layout": "IPY_MODEL_e9f301d1111f447081a9456f6cdadd97",
      "placeholder": "​",
      "style": "IPY_MODEL_db0d8af2c0fc44a3aba8f8d0c87ae317",
      "value": " 645/645 [00:00&lt;00:00, 49.4kB/s]"
     }
    },
    "d947c996a9ec4d88a056e37398843d69": {
     "model_module": "@jupyter-widgets/controls",
     "model_module_version": "1.5.0",
     "model_name": "FloatProgressModel",
     "state": {
      "_dom_classes": [],
      "_model_module": "@jupyter-widgets/controls",
      "_model_module_version": "1.5.0",
      "_model_name": "FloatProgressModel",
      "_view_count": null,
      "_view_module": "@jupyter-widgets/controls",
      "_view_module_version": "1.5.0",
      "_view_name": "ProgressView",
      "bar_style": "success",
      "description": "",
      "description_tooltip": null,
      "layout": "IPY_MODEL_95b32c92b42649be9cfe9083889b22c5",
      "max": 53,
      "min": 0,
      "orientation": "horizontal",
      "style": "IPY_MODEL_177ede2fc8814aa798571ef48f8d823d",
      "value": 53
     }
    },
    "d986466a56954df9b30aa1cfc997fe79": {
     "model_module": "@jupyter-widgets/controls",
     "model_module_version": "1.5.0",
     "model_name": "HBoxModel",
     "state": {
      "_dom_classes": [],
      "_model_module": "@jupyter-widgets/controls",
      "_model_module_version": "1.5.0",
      "_model_name": "HBoxModel",
      "_view_count": null,
      "_view_module": "@jupyter-widgets/controls",
      "_view_module_version": "1.5.0",
      "_view_name": "HBoxView",
      "box_style": "",
      "children": [
       "IPY_MODEL_29a31d8a5a8640ea86bb01c890fadee5",
       "IPY_MODEL_03a4239261584424a94977c59fc4ee52",
       "IPY_MODEL_861bc92be9ba42f0a1b4523707b0e713"
      ],
      "layout": "IPY_MODEL_adc55f234f86457c85b37acbc6c283f1"
     }
    },
    "db0d8af2c0fc44a3aba8f8d0c87ae317": {
     "model_module": "@jupyter-widgets/controls",
     "model_module_version": "1.5.0",
     "model_name": "DescriptionStyleModel",
     "state": {
      "_model_module": "@jupyter-widgets/controls",
      "_model_module_version": "1.5.0",
      "_model_name": "DescriptionStyleModel",
      "_view_count": null,
      "_view_module": "@jupyter-widgets/base",
      "_view_module_version": "1.2.0",
      "_view_name": "StyleView",
      "description_width": ""
     }
    },
    "dcfb7107dd044d529bcfcae26a0e93ab": {
     "model_module": "@jupyter-widgets/base",
     "model_module_version": "1.2.0",
     "model_name": "LayoutModel",
     "state": {
      "_model_module": "@jupyter-widgets/base",
      "_model_module_version": "1.2.0",
      "_model_name": "LayoutModel",
      "_view_count": null,
      "_view_module": "@jupyter-widgets/base",
      "_view_module_version": "1.2.0",
      "_view_name": "LayoutView",
      "align_content": null,
      "align_items": null,
      "align_self": null,
      "border": null,
      "bottom": null,
      "display": null,
      "flex": null,
      "flex_flow": null,
      "grid_area": null,
      "grid_auto_columns": null,
      "grid_auto_flow": null,
      "grid_auto_rows": null,
      "grid_column": null,
      "grid_gap": null,
      "grid_row": null,
      "grid_template_areas": null,
      "grid_template_columns": null,
      "grid_template_rows": null,
      "height": null,
      "justify_content": null,
      "justify_items": null,
      "left": null,
      "margin": null,
      "max_height": null,
      "max_width": null,
      "min_height": null,
      "min_width": null,
      "object_fit": null,
      "object_position": null,
      "order": null,
      "overflow": null,
      "overflow_x": null,
      "overflow_y": null,
      "padding": null,
      "right": null,
      "top": null,
      "visibility": null,
      "width": null
     }
    },
    "df965820ee394a469fc49611f524e5d8": {
     "model_module": "@jupyter-widgets/controls",
     "model_module_version": "1.5.0",
     "model_name": "DescriptionStyleModel",
     "state": {
      "_model_module": "@jupyter-widgets/controls",
      "_model_module_version": "1.5.0",
      "_model_name": "DescriptionStyleModel",
      "_view_count": null,
      "_view_module": "@jupyter-widgets/base",
      "_view_module_version": "1.2.0",
      "_view_name": "StyleView",
      "description_width": ""
     }
    },
    "e2eca294e1834af6ba41fab77575a7ba": {
     "model_module": "@jupyter-widgets/base",
     "model_module_version": "1.2.0",
     "model_name": "LayoutModel",
     "state": {
      "_model_module": "@jupyter-widgets/base",
      "_model_module_version": "1.2.0",
      "_model_name": "LayoutModel",
      "_view_count": null,
      "_view_module": "@jupyter-widgets/base",
      "_view_module_version": "1.2.0",
      "_view_name": "LayoutView",
      "align_content": null,
      "align_items": null,
      "align_self": null,
      "border": null,
      "bottom": null,
      "display": null,
      "flex": null,
      "flex_flow": null,
      "grid_area": null,
      "grid_auto_columns": null,
      "grid_auto_flow": null,
      "grid_auto_rows": null,
      "grid_column": null,
      "grid_gap": null,
      "grid_row": null,
      "grid_template_areas": null,
      "grid_template_columns": null,
      "grid_template_rows": null,
      "height": null,
      "justify_content": null,
      "justify_items": null,
      "left": null,
      "margin": null,
      "max_height": null,
      "max_width": null,
      "min_height": null,
      "min_width": null,
      "object_fit": null,
      "object_position": null,
      "order": null,
      "overflow": null,
      "overflow_x": null,
      "overflow_y": null,
      "padding": null,
      "right": null,
      "top": null,
      "visibility": null,
      "width": null
     }
    },
    "e53cc3d99bee425ea1189a0487196ccf": {
     "model_module": "@jupyter-widgets/controls",
     "model_module_version": "1.5.0",
     "model_name": "DescriptionStyleModel",
     "state": {
      "_model_module": "@jupyter-widgets/controls",
      "_model_module_version": "1.5.0",
      "_model_name": "DescriptionStyleModel",
      "_view_count": null,
      "_view_module": "@jupyter-widgets/base",
      "_view_module_version": "1.2.0",
      "_view_name": "StyleView",
      "description_width": ""
     }
    },
    "e616ae179033445eb6b1fe336d4751a6": {
     "model_module": "@jupyter-widgets/base",
     "model_module_version": "1.2.0",
     "model_name": "LayoutModel",
     "state": {
      "_model_module": "@jupyter-widgets/base",
      "_model_module_version": "1.2.0",
      "_model_name": "LayoutModel",
      "_view_count": null,
      "_view_module": "@jupyter-widgets/base",
      "_view_module_version": "1.2.0",
      "_view_name": "LayoutView",
      "align_content": null,
      "align_items": null,
      "align_self": null,
      "border": null,
      "bottom": null,
      "display": null,
      "flex": null,
      "flex_flow": null,
      "grid_area": null,
      "grid_auto_columns": null,
      "grid_auto_flow": null,
      "grid_auto_rows": null,
      "grid_column": null,
      "grid_gap": null,
      "grid_row": null,
      "grid_template_areas": null,
      "grid_template_columns": null,
      "grid_template_rows": null,
      "height": null,
      "justify_content": null,
      "justify_items": null,
      "left": null,
      "margin": null,
      "max_height": null,
      "max_width": null,
      "min_height": null,
      "min_width": null,
      "object_fit": null,
      "object_position": null,
      "order": null,
      "overflow": null,
      "overflow_x": null,
      "overflow_y": null,
      "padding": null,
      "right": null,
      "top": null,
      "visibility": null,
      "width": null
     }
    },
    "e9f301d1111f447081a9456f6cdadd97": {
     "model_module": "@jupyter-widgets/base",
     "model_module_version": "1.2.0",
     "model_name": "LayoutModel",
     "state": {
      "_model_module": "@jupyter-widgets/base",
      "_model_module_version": "1.2.0",
      "_model_name": "LayoutModel",
      "_view_count": null,
      "_view_module": "@jupyter-widgets/base",
      "_view_module_version": "1.2.0",
      "_view_name": "LayoutView",
      "align_content": null,
      "align_items": null,
      "align_self": null,
      "border": null,
      "bottom": null,
      "display": null,
      "flex": null,
      "flex_flow": null,
      "grid_area": null,
      "grid_auto_columns": null,
      "grid_auto_flow": null,
      "grid_auto_rows": null,
      "grid_column": null,
      "grid_gap": null,
      "grid_row": null,
      "grid_template_areas": null,
      "grid_template_columns": null,
      "grid_template_rows": null,
      "height": null,
      "justify_content": null,
      "justify_items": null,
      "left": null,
      "margin": null,
      "max_height": null,
      "max_width": null,
      "min_height": null,
      "min_width": null,
      "object_fit": null,
      "object_position": null,
      "order": null,
      "overflow": null,
      "overflow_x": null,
      "overflow_y": null,
      "padding": null,
      "right": null,
      "top": null,
      "visibility": null,
      "width": null
     }
    },
    "ebe2d283cd7d4b649b7c434c8dd62ec8": {
     "model_module": "@jupyter-widgets/controls",
     "model_module_version": "1.5.0",
     "model_name": "FloatProgressModel",
     "state": {
      "_dom_classes": [],
      "_model_module": "@jupyter-widgets/controls",
      "_model_module_version": "1.5.0",
      "_model_name": "FloatProgressModel",
      "_view_count": null,
      "_view_module": "@jupyter-widgets/controls",
      "_view_module_version": "1.5.0",
      "_view_name": "ProgressView",
      "bar_style": "success",
      "description": "",
      "description_tooltip": null,
      "layout": "IPY_MODEL_52bd54b613e74467bddf4c0423cfcfbf",
      "max": 470641600,
      "min": 0,
      "orientation": "horizontal",
      "style": "IPY_MODEL_0edf2c043213440dbb1680748d9276b7",
      "value": 470641600
     }
    },
    "edb89e9f37704b389e296e1dddcca53f": {
     "model_module": "@jupyter-widgets/controls",
     "model_module_version": "1.5.0",
     "model_name": "DescriptionStyleModel",
     "state": {
      "_model_module": "@jupyter-widgets/controls",
      "_model_module_version": "1.5.0",
      "_model_name": "DescriptionStyleModel",
      "_view_count": null,
      "_view_module": "@jupyter-widgets/base",
      "_view_module_version": "1.2.0",
      "_view_name": "StyleView",
      "description_width": ""
     }
    },
    "f2772e6f2a4541cfb508937062d361bf": {
     "model_module": "@jupyter-widgets/base",
     "model_module_version": "1.2.0",
     "model_name": "LayoutModel",
     "state": {
      "_model_module": "@jupyter-widgets/base",
      "_model_module_version": "1.2.0",
      "_model_name": "LayoutModel",
      "_view_count": null,
      "_view_module": "@jupyter-widgets/base",
      "_view_module_version": "1.2.0",
      "_view_name": "LayoutView",
      "align_content": null,
      "align_items": null,
      "align_self": null,
      "border": null,
      "bottom": null,
      "display": null,
      "flex": null,
      "flex_flow": null,
      "grid_area": null,
      "grid_auto_columns": null,
      "grid_auto_flow": null,
      "grid_auto_rows": null,
      "grid_column": null,
      "grid_gap": null,
      "grid_row": null,
      "grid_template_areas": null,
      "grid_template_columns": null,
      "grid_template_rows": null,
      "height": null,
      "justify_content": null,
      "justify_items": null,
      "left": null,
      "margin": null,
      "max_height": null,
      "max_width": null,
      "min_height": null,
      "min_width": null,
      "object_fit": null,
      "object_position": null,
      "order": null,
      "overflow": null,
      "overflow_x": null,
      "overflow_y": null,
      "padding": null,
      "right": null,
      "top": null,
      "visibility": null,
      "width": null
     }
    },
    "f3a52813e2cf49fcbc8c9a6288b637be": {
     "model_module": "@jupyter-widgets/controls",
     "model_module_version": "1.5.0",
     "model_name": "FloatProgressModel",
     "state": {
      "_dom_classes": [],
      "_model_module": "@jupyter-widgets/controls",
      "_model_module_version": "1.5.0",
      "_model_name": "FloatProgressModel",
      "_view_count": null,
      "_view_module": "@jupyter-widgets/controls",
      "_view_module_version": "1.5.0",
      "_view_name": "ProgressView",
      "bar_style": "success",
      "description": "",
      "description_tooltip": null,
      "layout": "IPY_MODEL_a0293d07f4ec417286f19fefa47540fa",
      "max": 645,
      "min": 0,
      "orientation": "horizontal",
      "style": "IPY_MODEL_2e04aef261f841509fba007e4d6b2c29",
      "value": 645
     }
    },
    "f5d2bfabd37e45cfb1e68e89d7251390": {
     "model_module": "@jupyter-widgets/controls",
     "model_module_version": "1.5.0",
     "model_name": "HBoxModel",
     "state": {
      "_dom_classes": [],
      "_model_module": "@jupyter-widgets/controls",
      "_model_module_version": "1.5.0",
      "_model_name": "HBoxModel",
      "_view_count": null,
      "_view_module": "@jupyter-widgets/controls",
      "_view_module_version": "1.5.0",
      "_view_name": "HBoxView",
      "box_style": "",
      "children": [
       "IPY_MODEL_d1be822a159342de9cea5eb474f83a6c",
       "IPY_MODEL_40548769829a4aa59a3f2727f490b851",
       "IPY_MODEL_59419d98a7c04f51b8763a081c6bb786"
      ],
      "layout": "IPY_MODEL_4fae062fbdf94ac689bd4bb6a1b351f9"
     }
    },
    "f61f622190284bb1ae7ea0d375eb4ece": {
     "model_module": "@jupyter-widgets/controls",
     "model_module_version": "1.5.0",
     "model_name": "DescriptionStyleModel",
     "state": {
      "_model_module": "@jupyter-widgets/controls",
      "_model_module_version": "1.5.0",
      "_model_name": "DescriptionStyleModel",
      "_view_count": null,
      "_view_module": "@jupyter-widgets/base",
      "_view_module_version": "1.2.0",
      "_view_name": "StyleView",
      "description_width": ""
     }
    },
    "f760278b045140bf8d915b2ec33993fc": {
     "model_module": "@jupyter-widgets/controls",
     "model_module_version": "1.5.0",
     "model_name": "DescriptionStyleModel",
     "state": {
      "_model_module": "@jupyter-widgets/controls",
      "_model_module_version": "1.5.0",
      "_model_name": "DescriptionStyleModel",
      "_view_count": null,
      "_view_module": "@jupyter-widgets/base",
      "_view_module_version": "1.2.0",
      "_view_name": "StyleView",
      "description_width": ""
     }
    }
   }
  }
 },
 "nbformat": 4,
 "nbformat_minor": 5
}
